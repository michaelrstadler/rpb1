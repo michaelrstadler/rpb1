{
 "cells": [
  {
   "cell_type": "code",
   "execution_count": 30,
   "metadata": {},
   "outputs": [
    {
     "name": "stdout",
     "output_type": "stream",
     "text": [
      "The autoreload extension is already loaded. To reload it, use:\n",
      "  %reload_ext autoreload\n"
     ]
    }
   ],
   "source": [
    "from importlib import reload\n",
    "import flymovie as fm\n",
    "import cnn_models.siamese_cnn as cn\n",
    "import cnn_models.evaluate_models as ev\n",
    "from flymovie.simnuc import Sim\n",
    "import matplotlib.pyplot as plt\n",
    "import numpy as np\n",
    "import os\n",
    "import pickle\n",
    "import tensorflow as tf\n",
    "from importlib import reload\n",
    "import scipy.ndimage as ndi\n",
    "import skimage as ski\n",
    "%load_ext autoreload\n",
    "%autoreload 2"
   ]
  },
  {
   "cell_type": "code",
   "execution_count": 5,
   "metadata": {},
   "outputs": [
    {
     "data": {
      "application/vnd.jupyter.widget-view+json": {
       "model_id": "e76a71181c3241988938d132752c2ebb",
       "version_major": 2,
       "version_minor": 0
      },
      "text/plain": [
       "interactive(children=(Dropdown(description='Color', index=10, options=('gray', 'Gators', 'Greens', 'prism', 'v…"
      ]
     },
     "metadata": {},
     "output_type": "display_data"
    }
   ],
   "source": [
    "im = fm.read_czi('/Users/michaelstadler/Bioinformatics/Projects/rpb1/data/counting_blobs/cycle 12/embryo17.czi', swapaxes=False)\n",
    "fm.viewer(im, 5)"
   ]
  },
  {
   "cell_type": "code",
   "execution_count": 6,
   "metadata": {},
   "outputs": [],
   "source": [
    "# Segment real nuclei from here.\n",
    "thresh = 25\n",
    "nucs = []\n",
    "sm = ndi.gaussian_filter(im, (2,5,5))\n",
    "mask = np.where(sm >= thresh, 1, 0)\n",
    "lmask, _ = ndi.label(mask)\n",
    "regions = regionprops(lmask)\n",
    "for n in range(0, len(regions)):\n",
    "    centroid = [int(x) for x in regions[n].centroid]\n",
    "    i, j = centroid[1:]\n",
    "    start_i = i - 50\n",
    "    end_i = i + 50\n",
    "    start_j = j - 50\n",
    "    end_j = j + 50\n",
    "    if ((start_i >= 0) & (start_j >= 0) & (end_i <= lmask.shape[1]) & (end_j <= lmask.shape[2])):\n",
    "        nucs.append(im[5:39, start_i:end_i, start_j:end_j])\n",
    "        \n"
   ]
  },
  {
   "cell_type": "code",
   "execution_count": 7,
   "metadata": {},
   "outputs": [
    {
     "name": "stderr",
     "output_type": "stream",
     "text": [
      "2022-03-14 12:26:57.442705: I tensorflow/core/platform/cpu_feature_guard.cc:142] This TensorFlow binary is optimized with oneAPI Deep Neural Network Library (oneDNN) to use the following CPU instructions in performance-critical operations:  SSE4.1 SSE4.2 AVX AVX2 AVX512F FMA\n",
      "To enable them in other operations, rebuild TensorFlow with the appropriate compiler flags.\n"
     ]
    },
    {
     "data": {
      "text/plain": [
       "<tensorflow.python.training.tracking.util.CheckpointLoadStatus at 0x1831c3d00>"
      ]
     },
     "execution_count": 7,
     "metadata": {},
     "output_type": "execute_result"
    }
   ],
   "source": [
    "weights_file = '/Users/michaelstadler/Bioinformatics/Projects/rpb1/results/gridsearch/checkpoint_final_8epochs_easytomedium_plus_8x99.9'\n",
    "base_cnn = cn.make_base_cnn_3d(image_shape=(34,100,100), nlayers=8)\n",
    "embedding = cn.make_embedding(base_cnn)\n",
    "embedding.load_weights(weights_file)"
   ]
  },
  {
   "cell_type": "code",
   "execution_count": 8,
   "metadata": {},
   "outputs": [],
   "source": [
    "def embed_list(ims, embedding):\n",
    "    e = np.ndarray((0,256))\n",
    "    for im in ims:\n",
    "        im = im.astype('float32')\n",
    "        # Dummy axis must be added in position 0.\n",
    "        im = np.expand_dims(im, axis=-1)\n",
    "        # Normalize 0-1.\n",
    "        im = (im - np.min(im)) / (np.max(im) - np.min(im))\n",
    "        im_e = embedding(im).numpy()\n",
    "        e = np.vstack([e, im_e])\n",
    "    return e\n"
   ]
  },
  {
   "cell_type": "code",
   "execution_count": 9,
   "metadata": {},
   "outputs": [],
   "source": [
    "import sklearn.decomposition\n",
    "def pca3d(e_base, e_test, alpha=1):\n",
    "    combined = np.vstack((e_base, e_test))\n",
    "    pca = sklearn.decomposition.PCA(n_components=3)\n",
    "    pca.fit(e_base)\n",
    "    fig = plt.figure(figsize=plt.figaspect(0.5))\n",
    "    ax = fig.add_subplot(1, 1, 1, projection='3d')\n",
    "    tfm_base = pca.transform(e_base)\n",
    "    ax.scatter(tfm_base[:,0], tfm_base[:,1], tfm_base[:,2], \n",
    "                    c=\"green\", alpha=alpha)\n",
    "    \n",
    "    tfm_test = pca.transform(e_test)\n",
    "    ax.scatter(tfm_test[:,0], tfm_test[:,1], tfm_test[:,2], \n",
    "                    c=\"red\")"
   ]
  },
  {
   "cell_type": "code",
   "execution_count": 10,
   "metadata": {},
   "outputs": [],
   "source": [
    "from cnn_models.siamese_cnn import preprocess_image\n",
    "def preprocess_image_py(file):\n",
    "    [im,] = tf.py_function(preprocess_image,[file,],[tf.float32,])\n",
    "    return im\n",
    "\n",
    "def make_ds(folder):\n",
    "    im_files = []\n",
    "    for f in os.listdir(folder):\n",
    "        if f[0] == '.':\n",
    "            continue\n",
    "        im_files.append(os.path.join(folder, f))\n",
    "    \n",
    "    dataset = tf.data.Dataset.from_tensor_slices(im_files)\n",
    "    dataset = dataset.map(preprocess_image_py, num_parallel_calls=tf.data.AUTOTUNE)\n",
    "    dataset = dataset.prefetch(tf.data.AUTOTUNE)\n",
    "    return dataset\n",
    "\n",
    "ds = make_ds('/Users/michaelstadler/Bioinformatics/Projects/rpb1/data/siamese_eval_datasets/rpb1_wide_UTkaWAfT/left')"
   ]
  },
  {
   "cell_type": "code",
   "execution_count": 11,
   "metadata": {},
   "outputs": [],
   "source": [
    "embeddings_base, params_base = fm.load_pickle('/Users/michaelstadler/Bioinformatics/Projects/rpb1/results/8epochs_easytomedium_plus_8x99.9_left_embeddings.pkl')"
   ]
  },
  {
   "cell_type": "markdown",
   "metadata": {},
   "source": [
    "Some ideas:\n",
    "- Do some modifications to real data to make them look more like fake images (add noise, deconvolve, reconvolve)\n",
    "- Train with a mix of real and fake data (real-real comparisons, fake-fake comparisons)\n",
    "- Include some real-fake *similar* pairs hand-tuned to be similar according to moi.\n",
    "-"
   ]
  },
  {
   "cell_type": "code",
   "execution_count": 12,
   "metadata": {},
   "outputs": [],
   "source": [
    "def save_list(l, outfolder):\n",
    "    if not os.path.exists(outfolder):\n",
    "        os.mkdir(outfolder)\n",
    "    count = 1\n",
    "    for arr in l:\n",
    "        \n",
    "        fake_id = 'aaa_'\n",
    "        fake_params = [str(round(x, 2)) for x in np.random.random(9)]\n",
    "        filepath = os.path.join(outfolder, fake_id + '_'.join(fake_params) + '.pkl')\n",
    "        fm.save_pickle(arr, filepath)\n",
    "        count += 1\n",
    "\n",
    "#save_list(nucs_mod, '/Users/michaelstadler/Bioinformatics/Projects/rpb1/results/realnucs_mod')"
   ]
  },
  {
   "cell_type": "code",
   "execution_count": 13,
   "metadata": {},
   "outputs": [],
   "source": [
    "nucs_mod = []\n",
    "sigma = 100\n",
    "for nuc in nucs:\n",
    "    #nuc_mod = nuc + np.random.poisson(nuc)\n",
    "    gaussian = np.random.normal(np.zeros_like(nuc), scale=sigma)\n",
    "    nucs_mod.append(nuc + gaussian)\n",
    "\n",
    "save_list(nucs_mod, '/Users/michaelstadler/Bioinformatics/Projects/rpb1/results/realnucs_mod')\n"
   ]
  },
  {
   "cell_type": "code",
   "execution_count": 14,
   "metadata": {},
   "outputs": [],
   "source": [
    "e, _ = ev.embed_images('/Users/michaelstadler/Bioinformatics/Projects/rpb1/results/realnucs_test', embedding)"
   ]
  },
  {
   "cell_type": "code",
   "execution_count": 15,
   "metadata": {},
   "outputs": [
    {
     "data": {
      "image/png": "[encoded data removed]",
      "text/plain": [
       "<Figure size 576x288 with 1 Axes>"
      ]
     },
     "metadata": {
      "needs_background": "light"
     },
     "output_type": "display_data"
    }
   ],
   "source": [
    "pca3d(embeddings_base, e, 0.0001)"
   ]
  },
  {
   "cell_type": "code",
   "execution_count": 16,
   "metadata": {},
   "outputs": [
    {
     "data": {
      "image/png": "[encoded data removed]",
      "text/plain": [
       "<Figure size 576x288 with 1 Axes>"
      ]
     },
     "metadata": {
      "needs_background": "light"
     },
     "output_type": "display_data"
    }
   ],
   "source": [
    "pca3d(embeddings_base, e, 1)"
   ]
  },
  {
   "cell_type": "markdown",
   "metadata": {},
   "source": [
    "OK, it's all in the training data. There are basically two directions:\n",
    "\n",
    "1) Make simulated images more similar to real images (eliminate peculiarities)\n",
    "2) Add real images to training data\n",
    "\n",
    "I think I should try both. Plan:\n",
    "\n",
    "1) Modify simulations to remove artificial artifacts (circles in center, zero background, etc.)\n",
    "2) Hand-tune some simulations to match real nuclei\n",
    "\n",
    "Make training sets of like 5_000, do a handful of epochs, see if real images embed amidst fake ones.\n",
    "\n",
    "\n"
   ]
  },
  {
   "cell_type": "code",
   "execution_count": 17,
   "metadata": {},
   "outputs": [],
   "source": [
    "def load_folder(folder):\n",
    "    ims = []\n",
    "    for f in sorted(os.listdir(folder)):\n",
    "        if f[0] == '.':\n",
    "            continue\n",
    "        im = fm.load_pickle(os.path.join(folder, f))\n",
    "        ims.append(im)\n",
    "    return ims"
   ]
  },
  {
   "cell_type": "code",
   "execution_count": 18,
   "metadata": {},
   "outputs": [],
   "source": [
    "ims = load_folder('/Users/michaelstadler/Bioinformatics/Projects/rpb1/results/fakesims_bigger_SJZCxOjT/left')\n",
    "fake = np.array(ims)\n",
    "real = np.array(nucs)\n",
    "real = real * np.mean(fake) / np.mean(real)\n",
    "\n"
   ]
  },
  {
   "cell_type": "code",
   "execution_count": 19,
   "metadata": {},
   "outputs": [],
   "source": [
    "fake_z = []\n",
    "for im in fake:\n",
    "    fake_z.append(im[:,18:-22,18:-22])"
   ]
  },
  {
   "cell_type": "code",
   "execution_count": 74,
   "metadata": {},
   "outputs": [],
   "source": [
    "save_list(fake_z, '/Users/michaelstadler/Bioinformatics/Projects/rpb1/data/simulations/fakes/fakes_zoom_2pxloffcenter')"
   ]
  },
  {
   "cell_type": "code",
   "execution_count": 66,
   "metadata": {},
   "outputs": [],
   "source": [
    "centered = load_folder('/Users/michaelstadler/Bioinformatics/Projects/rpb1/data/simulations/fakes/fakes_zoom_center')\n",
    "off1 = load_folder('/Users/michaelstadler/Bioinformatics/Projects/rpb1/data/simulations/fakes/fakes_zoom_1pxloffcenter')\n",
    "off5 = load_folder('/Users/michaelstadler/Bioinformatics/Projects/rpb1/data/simulations/fakes/fakes_zoom_5pxloffcenter')"
   ]
  },
  {
   "cell_type": "code",
   "execution_count": 67,
   "metadata": {},
   "outputs": [
    {
     "data": {
      "application/vnd.jupyter.widget-view+json": {
       "model_id": "d1330d8df730451eb9576bf1ef443abc",
       "version_major": 2,
       "version_minor": 0
      },
      "text/plain": [
       "interactive(children=(Dropdown(description='Color', index=8, options=('Greens', 'viridis', 'Gators', 'Reds', '…"
      ]
     },
     "metadata": {},
     "output_type": "display_data"
    }
   ],
   "source": [
    "fm.viewer(np.array(centered), 5)"
   ]
  },
  {
   "cell_type": "code",
   "execution_count": 68,
   "metadata": {},
   "outputs": [
    {
     "data": {
      "application/vnd.jupyter.widget-view+json": {
       "model_id": "fc082233e0f2454586f06ac32b538a09",
       "version_major": 2,
       "version_minor": 0
      },
      "text/plain": [
       "interactive(children=(Dropdown(description='Color', index=8, options=('Greens', 'viridis', 'Gators', 'Reds', '…"
      ]
     },
     "metadata": {},
     "output_type": "display_data"
    }
   ],
   "source": [
    "fm.viewer(np.array(off1), 5)"
   ]
  },
  {
   "cell_type": "code",
   "execution_count": 77,
   "metadata": {},
   "outputs": [],
   "source": [
    "e_centered, _ = ev.embed_images('/Users/michaelstadler/Bioinformatics/Projects/rpb1/data/simulations/fakes/fakes_zoom_center', embedding)\n",
    "e_offcenter, _ = ev.embed_images('/Users/michaelstadler/Bioinformatics/Projects/rpb1/data/simulations/fakes/fakes_zoom_5pxloffcenter', embedding)"
   ]
  },
  {
   "cell_type": "code",
   "execution_count": 78,
   "metadata": {},
   "outputs": [
    {
     "data": {
      "image/png": "[encoded data removed]",
      "text/plain": [
       "<Figure size 576x288 with 1 Axes>"
      ]
     },
     "metadata": {
      "needs_background": "light"
     },
     "output_type": "display_data"
    }
   ],
   "source": [
    "pca3d(e_centered, e_offcenter, 1)"
   ]
  },
  {
   "cell_type": "code",
   "execution_count": 20,
   "metadata": {},
   "outputs": [],
   "source": [
    "mask = Sim.make_spherical_mask(100,100,100,42)\n",
    "sim = Sim(mask)\n",
    "eroded_coords = sim.get_eroded_coordinates(9)\n",
    "hlb_possible_coords = list(zip(eroded_coords[0], eroded_coords[1], eroded_coords[2]))"
   ]
  },
  {
   "cell_type": "code",
   "execution_count": 365,
   "metadata": {},
   "outputs": [
    {
     "ename": "AttributeError",
     "evalue": "'Sim' object has no attribute 'load_kernel'",
     "output_type": "error",
     "traceback": [
      "\u001b[0;31m---------------------------------------------------------------------------\u001b[0m",
      "\u001b[0;31mAttributeError\u001b[0m                            Traceback (most recent call last)",
      "\u001b[0;32m/var/folders/46/dftvy0sd0jv10kyqlkqc2d8m0000gn/T/ipykernel_8935/606412354.py\u001b[0m in \u001b[0;36m<module>\u001b[0;34m\u001b[0m\n\u001b[0;32m----> 1\u001b[0;31m \u001b[0msim\u001b[0m\u001b[0;34m.\u001b[0m\u001b[0mload_kernel\u001b[0m\u001b[0;34m\u001b[0m\u001b[0;34m\u001b[0m\u001b[0m\n\u001b[0m",
      "\u001b[0;31mAttributeError\u001b[0m: 'Sim' object has no attribute 'load_kernel'"
     ]
    }
   ],
   "source": [
    "sim.add_kernel('/Users/michaelstadler/Bioinformatics/Projects/rpb1/PSFs/psf_20220210_21x25x25pixels_100x50x50voxel.pkl', )\n"
   ]
  },
  {
   "cell_type": "code",
   "execution_count": 21,
   "metadata": {},
   "outputs": [],
   "source": [
    "def norm(im):\n",
    "    return (im - np.min(im)) / (np.max(im) - np.min(im)) * (2 ** 16)"
   ]
  },
  {
   "cell_type": "code",
   "execution_count": 62,
   "metadata": {},
   "outputs": [],
   "source": [
    "kernel=fm.load_pickle('/Users/michaelstadler/Bioinformatics/Projects/rpb1/PSFs/psf_20220210_21x25x25pixels_100x50x50voxel.pkl')\n",
    "masks = [Sim.make_spherical_mask(100,100,100,45)]\n",
    "outfolder = ''\n",
    "nreps = 1\n",
    "nfree_rng = [21_000, 21_000]\n",
    "hlb_diam_rng = [14,14]\n",
    "hlb_nmols_rng = [400,400]\n",
    "n_clusters_rng = [55,55]\n",
    "cluster_diam_mean_rng = [1,1] \n",
    "cluster_diam_var_rng = [0.1,0.1]\n",
    "cluster_nmols_mean_rng = [13,13]\n",
    "cluster_nmols_var_rng = [1.5,1.5]\n",
    "noise_sigma_rng = [1,1]\n",
    "dims_init=(85, 85, 85)\n",
    "dims_kernel=(100,50,50)\n",
    "dims_final=(250,85,85)\n",
    "\n",
    "#hlb_coords = [hlb_possible_coords[x] for x in np.random.choice(len(hlb_possible_coords), 2)]\n",
    "hlb_coords = [(12, 60, 38), (21, 57, 41)]\n",
    "\n",
    "sim = fm.sim_rpb1(masks, kernel, outfolder, nreps, nfree_rng, hlb_diam_rng, \n",
    "    hlb_nmols_rng, n_clusters_rng, cluster_diam_mean_rng, \n",
    "    cluster_diam_var_rng, cluster_nmols_mean_rng, cluster_nmols_var_rng,\n",
    "    noise_sigma_rng, hlb_coords, dims_init, \n",
    "    dims_kernel, dims_final, return_sim=True, mask_nuclei=True)\n",
    "\n"
   ]
  },
  {
   "cell_type": "code",
   "execution_count": 70,
   "metadata": {},
   "outputs": [
    {
     "data": {
      "application/vnd.jupyter.widget-view+json": {
       "model_id": "9069edfdf93d4759b06131ab1ecbe659",
       "version_major": 2,
       "version_minor": 0
      },
      "text/plain": [
       "interactive(children=(Dropdown(description='Color', index=10, options=('gray', 'Gators', 'Greens', 'prism', 'v…"
      ]
     },
     "metadata": {},
     "output_type": "display_data"
    }
   ],
   "source": [
    "fm.viewer([norm(nucs[5]), norm(sim.im)], 5)"
   ]
  },
  {
   "cell_type": "code",
   "execution_count": 75,
   "metadata": {},
   "outputs": [
    {
     "data": {
      "application/vnd.jupyter.widget-view+json": {
       "model_id": "5a67dabf86b0438ba4935b2fba42673e",
       "version_major": 2,
       "version_minor": 0
      },
      "text/plain": [
       "interactive(children=(Dropdown(description='Color', index=10, options=('gray', 'Gators', 'Greens', 'prism', 'v…"
      ]
     },
     "metadata": {},
     "output_type": "display_data"
    }
   ],
   "source": [
    "fm.viewer([norm(fm.load_pickle('/Users/michaelstadler/Bioinformatics/Projects/rpb1/data/simulations/Rgl_20984_14.39_459_69_1_0.84_9_0.32_0.9_rep1.pkl')), norm(sim.im)],5)"
   ]
  },
  {
   "cell_type": "code",
   "execution_count": 28,
   "metadata": {},
   "outputs": [
    {
     "data": {
      "application/vnd.jupyter.widget-view+json": {
       "model_id": "0e28727e9e044d5f8839df3dfcfc307b",
       "version_major": 2,
       "version_minor": 0
      },
      "text/plain": [
       "interactive(children=(Dropdown(description='Color', index=10, options=('gray', 'Gators', 'Greens', 'prism', 'v…"
      ]
     },
     "metadata": {},
     "output_type": "display_data"
    }
   ],
   "source": [
    "fm.viewer(ndi.zoom(sim.mask, (2,2,2), order=0), 5)"
   ]
  },
  {
   "cell_type": "code",
   "execution_count": 52,
   "metadata": {},
   "outputs": [],
   "source": [
    "#from skimage import regionprops\n",
    "def extract_nuclei_tofile(stack, lmask, box_dims, sample_name, outfolder):\n",
    "    def inbounds(im_shape, halflens, centroid):\n",
    "        for dim in [1,2]:\n",
    "            if centroid[dim] - halflens[dim] < 0:\n",
    "                return False\n",
    "            if centroid[dim] + halflens[dim] > im_shape[dim]:\n",
    "                return False\n",
    "        return True\n",
    "    \n",
    "    def get_box(stack, box_halflengths, box_dims, centroid, z):\n",
    "        box = stack[\n",
    "                    z:(z + box_dims[0]),\n",
    "                    (centroid[1] - box_halflengths[1]):(centroid[1] + box_halflengths[1]),\n",
    "                    (centroid[2] - box_halflengths[2]):(centroid[2] + box_halflengths[2])\n",
    "                ]\n",
    "        return box\n",
    "\n",
    "    regions = ski.measure.regionprops(lmask)\n",
    "    box_halflengths = (\n",
    "            int(box_dims[0] / 2),\n",
    "            int(box_dims[1] / 2),\n",
    "            int(box_dims[2] / 2), \n",
    "        )\n",
    "    count = 0\n",
    "    for region in regions:\n",
    "        centroid = ([round(x) for x in region.centroid])\n",
    "        if inbounds(lmask.shape, box_halflengths, centroid):\n",
    "            for z in range(lmask.shape[0] - box_dims[0]):\n",
    "                outfilepath = os.path.join(outfolder, '_'.join([sample_name, str(count), str(z)]) + '.pkl')\n",
    "                im_box = get_box(stack, box_halflengths, box_dims, centroid, z)\n",
    "                #lmask_box = get_box(lmask, box_halflengths, box_dims, centroid, z)\n",
    "                #im_box = np.where(lmask_box == region.label, im_box, 0)\n",
    "                with open(outfilepath, 'wb') as outfile:\n",
    "                    pickle.dump(im_box, outfile)\n",
    "        count += 1"
   ]
  },
  {
   "cell_type": "markdown",
   "metadata": {},
   "source": [
    "### Evaluating performance of model trained on mixed data"
   ]
  },
  {
   "cell_type": "code",
   "execution_count": 76,
   "metadata": {},
   "outputs": [
    {
     "data": {
      "text/plain": [
       "<tensorflow.python.training.tracking.util.CheckpointLoadStatus at 0x185ea5700>"
      ]
     },
     "execution_count": 76,
     "metadata": {},
     "output_type": "execute_result"
    }
   ],
   "source": [
    "weights_file = '/Users/michaelstadler/Bioinformatics/Projects/rpb1/results/mixed_training/checkpoint_final_mix_real_sim_1'\n",
    "base_cnn = cn.make_base_cnn_3d(image_shape=(34,100,100), nlayers=8)\n",
    "embedding = cn.make_embedding(base_cnn)\n",
    "embedding.load_weights(weights_file)"
   ]
  },
  {
   "cell_type": "code",
   "execution_count": 79,
   "metadata": {},
   "outputs": [],
   "source": [
    "e_real = ev.embed_images('/Users/michaelstadler/Bioinformatics/Projects/rpb1/data/real_nuclei', embedding, return_params=False)"
   ]
  },
  {
   "cell_type": "code",
   "execution_count": 77,
   "metadata": {},
   "outputs": [],
   "source": [
    "e_sims, _ = ev.embed_images('/Users/michaelstadler/Bioinformatics/Projects/rpb1/results/fakesims_mixwithreal_aGdSCuwy/left', embedding)"
   ]
  },
  {
   "cell_type": "code",
   "execution_count": null,
   "metadata": {},
   "outputs": [],
   "source": []
  },
  {
   "cell_type": "code",
   "execution_count": null,
   "metadata": {},
   "outputs": [],
   "source": []
  }
 ],
 "metadata": {
  "interpreter": {
   "hash": "e372816e4ed8f4776be7691c42762f9e24664f8c81a636e19b7b5da78d6a9ebf"
  },
  "kernelspec": {
   "display_name": "Python 3.9.7 ('tf2')",
   "language": "python",
   "name": "python3"
  },
  "language_info": {
   "codemirror_mode": {
    "name": "ipython",
    "version": 3
   },
   "file_extension": ".py",
   "mimetype": "text/x-python",
   "name": "python",
   "nbconvert_exporter": "python",
   "pygments_lexer": "ipython3",
   "version": "3.9.7"
  },
  "orig_nbformat": 4
 },
 "nbformat": 4,
 "nbformat_minor": 2
}
