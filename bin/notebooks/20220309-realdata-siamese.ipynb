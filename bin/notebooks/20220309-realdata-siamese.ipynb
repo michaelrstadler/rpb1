{
 "cells": [
  {
   "cell_type": "code",
   "execution_count": 1,
   "metadata": {},
   "outputs": [],
   "source": [
    "from importlib import reload\n",
    "import flymovie as fm\n",
    "import cnn_models.siamese_cnn as cn\n",
    "import cnn_models.evaluate_models as ev\n",
    "from flymovie.simnuc import Sim\n",
    "import matplotlib.pyplot as plt\n",
    "import numpy as np\n",
    "import os\n",
    "import pickle\n",
    "import tensorflow as tf\n",
    "from importlib import reload\n",
    "import scipy.ndimage as ndi\n",
    "import skimage as ski\n",
    "%load_ext autoreload\n",
    "%autoreload 2"
   ]
  },
  {
   "cell_type": "code",
   "execution_count": 89,
   "metadata": {},
   "outputs": [
    {
     "data": {
      "application/vnd.jupyter.widget-view+json": {
       "model_id": "6e452e6fd4ef41cf8b1af70443c6f487",
       "version_major": 2,
       "version_minor": 0
      },
      "text/plain": [
       "interactive(children=(Dropdown(description='Color', options=('cividis', 'inferno', 'Greens', 'Gators', 'magma'…"
      ]
     },
     "metadata": {},
     "output_type": "display_data"
    }
   ],
   "source": [
    "im = fm.read_czi('/Users/michaelstadler/Bioinformatics/Projects/rpb1/data/counting_blobs/cycle 12/embryo17.czi', swapaxes=False)\n",
    "fm.viewer(im, 5)"
   ]
  },
  {
   "cell_type": "code",
   "execution_count": 90,
   "metadata": {},
   "outputs": [],
   "source": [
    "# Segment real nuclei from here.\n",
    "from skimage.measure import regionprops\n",
    "thresh = 25\n",
    "nucs = []\n",
    "sm = ndi.gaussian_filter(im, (2,5,5))\n",
    "mask = np.where(sm >= thresh, 1, 0)\n",
    "lmask, _ = ndi.label(mask)\n",
    "regions = regionprops(lmask)\n",
    "for n in range(0, len(regions)):\n",
    "    centroid = [int(x) for x in regions[n].centroid]\n",
    "    i, j = centroid[1:]\n",
    "    start_i = i - 50\n",
    "    end_i = i + 50\n",
    "    start_j = j - 50\n",
    "    end_j = j + 50\n",
    "    if ((start_i >= 0) & (start_j >= 0) & (end_i <= lmask.shape[1]) & (end_j <= lmask.shape[2])):\n",
    "        nuc = im[5:39, start_i:end_i, start_j:end_j]\n",
    "        nucmask = mask[5:39, start_i:end_i, start_j:end_j]\n",
    "        #nucmask = ndi.morphology.binary_dilation(nucmask, np.ones((1,10,10)))\n",
    "        nuc = np.where(nucmask, nuc, 0)\n",
    "        nucs.append(nuc)\n",
    "        \n"
   ]
  },
  {
   "cell_type": "code",
   "execution_count": 91,
   "metadata": {},
   "outputs": [
    {
     "data": {
      "text/plain": [
       "<tensorflow.python.training.tracking.util.CheckpointLoadStatus at 0x18340f9a0>"
      ]
     },
     "execution_count": 91,
     "metadata": {},
     "output_type": "execute_result"
    }
   ],
   "source": [
    "weights_file = '/Users/michaelstadler/Bioinformatics/Projects/rpb1/results/gridsearch/checkpoint_final_8epochs_easytomedium_plus_8x99.9'\n",
    "base_cnn = cn.make_base_cnn_3d(image_shape=(34,100,100), nlayers=8)\n",
    "embedding = cn.make_embedding(base_cnn)\n",
    "embedding.load_weights(weights_file)"
   ]
  },
  {
   "cell_type": "code",
   "execution_count": 92,
   "metadata": {},
   "outputs": [],
   "source": [
    "def embed_list(ims, embedding):\n",
    "    e = np.ndarray((0,256))\n",
    "    for im in ims:\n",
    "        im = im.astype('float32')\n",
    "        # Dummy axis must be added in position 0.\n",
    "        im = np.expand_dims(im, axis=-1)\n",
    "        # Normalize 0-1.\n",
    "        im = (im - np.min(im)) / (np.max(im) - np.min(im))\n",
    "        im_e = embedding(im).numpy()\n",
    "        e = np.vstack([e, im_e])\n",
    "    return e\n"
   ]
  },
  {
   "cell_type": "code",
   "execution_count": 93,
   "metadata": {},
   "outputs": [],
   "source": [
    "import sklearn.decomposition\n",
    "def pca3d(embeddings, alpha=1, use_combined=False):\n",
    "    combined = np.vstack(embeddings)\n",
    "    pca = sklearn.decomposition.PCA(n_components=3)\n",
    "    if use_combined:\n",
    "        pca.fit(combined)\n",
    "    else:\n",
    "        pca.fit(embeddings[0])\n",
    "    fig = plt.figure(figsize=plt.figaspect(0.5))\n",
    "    ax = fig.add_subplot(1, 1, 1, projection='3d')\n",
    "    for i in range(len(embeddings)):\n",
    "        if i == 0:\n",
    "            alpha_plot = 0\n",
    "        else:\n",
    "            alpha_plot = alpha\n",
    "        tfm = pca.transform(embeddings[i])\n",
    "        ax.scatter(tfm[:,0], tfm[:,1], tfm[:,2], \n",
    "                alpha=alpha_plot)\n",
    "    "
   ]
  },
  {
   "cell_type": "code",
   "execution_count": null,
   "metadata": {},
   "outputs": [],
   "source": [
    "from cnn_models.siamese_cnn import preprocess_image\n",
    "def preprocess_image_py(file):\n",
    "    [im,] = tf.py_function(preprocess_image,[file,],[tf.float32,])\n",
    "    return im\n",
    "\n",
    "def make_ds(folder):\n",
    "    im_files = []\n",
    "    for f in os.listdir(folder):\n",
    "        if f[0] == '.':\n",
    "            continue\n",
    "        im_files.append(os.path.join(folder, f))\n",
    "    \n",
    "    dataset = tf.data.Dataset.from_tensor_slices(im_files)\n",
    "    dataset = dataset.map(preprocess_image_py, num_parallel_calls=tf.data.AUTOTUNE)\n",
    "    dataset = dataset.prefetch(tf.data.AUTOTUNE)\n",
    "    return dataset\n",
    "\n",
    "ds = make_ds('/Users/michaelstadler/Bioinformatics/Projects/rpb1/data/siamese_eval_datasets/rpb1_wide_UTkaWAfT/left')"
   ]
  },
  {
   "cell_type": "code",
   "execution_count": 94,
   "metadata": {},
   "outputs": [],
   "source": [
    "embeddings_base, params_base = fm.load_pickle('/Users/michaelstadler/Bioinformatics/Projects/rpb1/results/8epochs_easytomedium_plus_8x99.9_left_embeddings.pkl')"
   ]
  },
  {
   "cell_type": "markdown",
   "metadata": {},
   "source": [
    "Some ideas:\n",
    "- Do some modifications to real data to make them look more like fake images (add noise, deconvolve, reconvolve)\n",
    "- Train with a mix of real and fake data (real-real comparisons, fake-fake comparisons)\n",
    "- Include some real-fake *similar* pairs hand-tuned to be similar according to moi.\n",
    "-"
   ]
  },
  {
   "cell_type": "code",
   "execution_count": null,
   "metadata": {},
   "outputs": [],
   "source": [
    "def save_list(l, outfolder):\n",
    "    if not os.path.exists(outfolder):\n",
    "        os.mkdir(outfolder)\n",
    "    count = 1\n",
    "    for arr in l:\n",
    "        \n",
    "        fake_id = 'aaa_'\n",
    "        fake_params = [str(round(x, 2)) for x in np.random.random(9)]\n",
    "        filepath = os.path.join(outfolder, fake_id + '_'.join(fake_params) + '.pkl')\n",
    "        fm.save_pickle(arr, filepath)\n",
    "        count += 1\n",
    "\n",
    "#save_list(nucs_mod, '/Users/michaelstadler/Bioinformatics/Projects/rpb1/results/realnucs_mod')"
   ]
  },
  {
   "cell_type": "code",
   "execution_count": null,
   "metadata": {},
   "outputs": [],
   "source": [
    "nucs_mod = []\n",
    "sigma = 100\n",
    "for nuc in nucs:\n",
    "    #nuc_mod = nuc + np.random.poisson(nuc)\n",
    "    gaussian = np.random.normal(np.zeros_like(nuc), scale=sigma)\n",
    "    nucs_mod.append(nuc + gaussian)\n",
    "\n",
    "save_list(nucs_mod, '/Users/michaelstadler/Bioinformatics/Projects/rpb1/results/realnucs_mod')\n"
   ]
  },
  {
   "cell_type": "code",
   "execution_count": 95,
   "metadata": {},
   "outputs": [],
   "source": [
    "e, _ = ev.embed_images('/Users/michaelstadler/Bioinformatics/Projects/rpb1/results/realnucs_test', embedding)"
   ]
  },
  {
   "cell_type": "code",
   "execution_count": 106,
   "metadata": {},
   "outputs": [
    {
     "data": {
      "image/png": "[encoded data removed]",
      "text/plain": [
       "<Figure size 576x288 with 1 Axes>"
      ]
     },
     "metadata": {
      "needs_background": "light"
     },
     "output_type": "display_data"
    }
   ],
   "source": [
    "pca3d([embeddings_base, embeddings_base, e], 1)\n",
    "plt.savefig('/Users/michaelstadler/Documents/presentations/groupmeetings/20220316/bad_reals.png', dpi=300)"
   ]
  },
  {
   "cell_type": "code",
   "execution_count": null,
   "metadata": {},
   "outputs": [],
   "source": [
    "pca3d(embeddings_base, e, 1)"
   ]
  },
  {
   "cell_type": "markdown",
   "metadata": {},
   "source": [
    "OK, it's all in the training data. There are basically two directions:\n",
    "\n",
    "1) Make simulated images more similar to real images (eliminate peculiarities)\n",
    "2) Add real images to training data\n",
    "\n",
    "I think I should try both. Plan:\n",
    "\n",
    "1) Modify simulations to remove artificial artifacts (circles in center, zero background, etc.)\n",
    "2) Hand-tune some simulations to match real nuclei\n",
    "\n",
    "Make training sets of like 5_000, do a handful of epochs, see if real images embed amidst fake ones.\n",
    "\n",
    "\n"
   ]
  },
  {
   "cell_type": "code",
   "execution_count": 109,
   "metadata": {},
   "outputs": [],
   "source": [
    "def load_folder(folder):\n",
    "    ims = []\n",
    "    for f in sorted(os.listdir(folder)):\n",
    "        if f[0] == '.':\n",
    "            continue\n",
    "        im = fm.load_pickle(os.path.join(folder, f))\n",
    "        ims.append(im)\n",
    "    return ims"
   ]
  },
  {
   "cell_type": "code",
   "execution_count": 110,
   "metadata": {},
   "outputs": [],
   "source": [
    "ims = load_folder('/Users/michaelstadler/Bioinformatics/Projects/rpb1/results/fakesims_bigger_SJZCxOjT/left')\n",
    "fake = np.array(ims)\n",
    "real = np.array(nucs)\n",
    "real = real * np.mean(fake) / np.mean(real)\n",
    "\n"
   ]
  },
  {
   "cell_type": "code",
   "execution_count": null,
   "metadata": {},
   "outputs": [],
   "source": [
    "fake_z = []\n",
    "for im in fake:\n",
    "    fake_z.append(im[:,18:-22,18:-22])"
   ]
  },
  {
   "cell_type": "code",
   "execution_count": null,
   "metadata": {},
   "outputs": [],
   "source": [
    "save_list(fake_z, '/Users/michaelstadler/Bioinformatics/Projects/rpb1/data/simulations/fakes/fakes_zoom_2pxloffcenter')"
   ]
  },
  {
   "cell_type": "code",
   "execution_count": 111,
   "metadata": {},
   "outputs": [],
   "source": [
    "centered = load_folder('/Users/michaelstadler/Bioinformatics/Projects/rpb1/data/simulations/fakes/fakes_zoom_center')\n",
    "off1 = load_folder('/Users/michaelstadler/Bioinformatics/Projects/rpb1/data/simulations/fakes/fakes_zoom_1pxloffcenter')\n",
    "off5 = load_folder('/Users/michaelstadler/Bioinformatics/Projects/rpb1/data/simulations/fakes/fakes_zoom_5pxloffcenter')"
   ]
  },
  {
   "cell_type": "code",
   "execution_count": null,
   "metadata": {},
   "outputs": [],
   "source": [
    "fm.viewer(np.array(centered), 5)"
   ]
  },
  {
   "cell_type": "code",
   "execution_count": null,
   "metadata": {},
   "outputs": [],
   "source": [
    "fm.viewer(np.array(off1), 5)"
   ]
  },
  {
   "cell_type": "code",
   "execution_count": 112,
   "metadata": {},
   "outputs": [],
   "source": [
    "e_centered, _ = ev.embed_images('/Users/michaelstadler/Bioinformatics/Projects/rpb1/data/simulations/fakes/fakes_zoom_center', embedding)\n",
    "e_offcenter, _ = ev.embed_images('/Users/michaelstadler/Bioinformatics/Projects/rpb1/data/simulations/fakes/fakes_zoom_5pxloffcenter', embedding)"
   ]
  },
  {
   "cell_type": "code",
   "execution_count": 118,
   "metadata": {},
   "outputs": [
    {
     "data": {
      "image/png": "[encoded data removed]",
      "text/plain": [
       "<Figure size 576x288 with 1 Axes>"
      ]
     },
     "metadata": {
      "needs_background": "light"
     },
     "output_type": "display_data"
    }
   ],
   "source": [
    "pca3d([e_centered, e_centered, e_offcenter], 1, use_combined=True)\n",
    "plt.savefig('/Users/michaelstadler/Documents/presentations/groupmeetings/20220316/5pixels.png', dpi=300)"
   ]
  },
  {
   "cell_type": "code",
   "execution_count": 30,
   "metadata": {},
   "outputs": [],
   "source": [
    "mask = Sim.make_spherical_mask(100,100,100,42)\n",
    "sim = Sim(mask)\n",
    "eroded_coords = sim.get_eroded_coordinates(9)\n",
    "hlb_possible_coords = list(zip(eroded_coords[0], eroded_coords[1], eroded_coords[2]))"
   ]
  },
  {
   "cell_type": "code",
   "execution_count": null,
   "metadata": {},
   "outputs": [],
   "source": [
    "sim.add_kernel('/Users/michaelstadler/Bioinformatics/Projects/rpb1/PSFs/psf_20220210_21x25x25pixels_100x50x50voxel.pkl', )\n"
   ]
  },
  {
   "cell_type": "code",
   "execution_count": 8,
   "metadata": {},
   "outputs": [],
   "source": [
    "def norm(im):\n",
    "    return (im - np.min(im)) / (np.max(im) - np.min(im)) * (2 ** 16)"
   ]
  },
  {
   "cell_type": "code",
   "execution_count": null,
   "metadata": {},
   "outputs": [],
   "source": [
    "kernel=fm.load_pickle('/Users/michaelstadler/Bioinformatics/Projects/rpb1/PSFs/psf_20220210_21x25x25pixels_100x50x50voxel.pkl')\n",
    "masks = [Sim.make_spherical_mask(100,100,100,45)]\n",
    "outfolder = ''\n",
    "nreps = 1\n",
    "nfree_rng = [21_000, 21_000]\n",
    "hlb_diam_rng = [14,14]\n",
    "hlb_nmols_rng = [400,400]\n",
    "n_clusters_rng = [55,55]\n",
    "cluster_diam_mean_rng = [1,1] \n",
    "cluster_diam_var_rng = [0.1,0.1]\n",
    "cluster_nmols_mean_rng = [13,13]\n",
    "cluster_nmols_var_rng = [1.5,1.5]\n",
    "noise_sigma_rng = [1,1]\n",
    "dims_init=(85, 85, 85)\n",
    "dims_kernel=(100,50,50)\n",
    "dims_final=(250,85,85)\n",
    "\n",
    "hlb_coords = [hlb_possible_coords[x] for x in np.random.choice(len(hlb_possible_coords), 2)]\n",
    "#hlb_coords = [(12, 60, 38), (21, 57, 41)]\n",
    "sims = []\n",
    "for _ in range(5):\n",
    "    sim = fm.sim_rpb1(masks, kernel, outfolder, nreps, nfree_rng, hlb_diam_rng, \n",
    "        hlb_nmols_rng, n_clusters_rng, cluster_diam_mean_rng, \n",
    "        cluster_diam_var_rng, cluster_nmols_mean_rng, cluster_nmols_var_rng,\n",
    "        noise_sigma_rng, hlb_coords, dims_init, \n",
    "        dims_kernel, dims_final, return_sim=True, mask_nuclei=True)\n",
    "    sims.append(sim.im)\n",
    "\n"
   ]
  },
  {
   "cell_type": "code",
   "execution_count": null,
   "metadata": {},
   "outputs": [],
   "source": [
    "fm.viewer([norm(nucs[1]), norm(sims[1])], 5)"
   ]
  },
  {
   "cell_type": "code",
   "execution_count": null,
   "metadata": {},
   "outputs": [],
   "source": [
    "fm.viewer([norm(fm.load_pickle('/Users/michaelstadler/Bioinformatics/Projects/rpb1/data/simulations/Rgl_20984_14.39_459_69_1_0.84_9_0.32_0.9_rep1.pkl')), norm(sim.im)],5)"
   ]
  },
  {
   "cell_type": "code",
   "execution_count": null,
   "metadata": {},
   "outputs": [],
   "source": [
    "fm.viewer(ndi.zoom(sim.mask, (2,2,2), order=0), 5)"
   ]
  },
  {
   "cell_type": "code",
   "execution_count": null,
   "metadata": {},
   "outputs": [],
   "source": [
    "#from skimage import regionprops\n",
    "def extract_nuclei_tofile(stack, lmask, box_dims, sample_name, outfolder):\n",
    "    def inbounds(im_shape, halflens, centroid):\n",
    "        for dim in [1,2]:\n",
    "            if centroid[dim] - halflens[dim] < 0:\n",
    "                return False\n",
    "            if centroid[dim] + halflens[dim] > im_shape[dim]:\n",
    "                return False\n",
    "        return True\n",
    "    \n",
    "    def get_box(stack, box_halflengths, box_dims, centroid, z):\n",
    "        box = stack[\n",
    "                    z:(z + box_dims[0]),\n",
    "                    (centroid[1] - box_halflengths[1]):(centroid[1] + box_halflengths[1]),\n",
    "                    (centroid[2] - box_halflengths[2]):(centroid[2] + box_halflengths[2])\n",
    "                ]\n",
    "        return box\n",
    "\n",
    "    regions = ski.measure.regionprops(lmask)\n",
    "    box_halflengths = (\n",
    "            int(box_dims[0] / 2),\n",
    "            int(box_dims[1] / 2),\n",
    "            int(box_dims[2] / 2), \n",
    "        )\n",
    "    count = 0\n",
    "    for region in regions:\n",
    "        centroid = ([round(x) for x in region.centroid])\n",
    "        if inbounds(lmask.shape, box_halflengths, centroid):\n",
    "            for z in range(lmask.shape[0] - box_dims[0]):\n",
    "                outfilepath = os.path.join(outfolder, '_'.join([sample_name, str(count), str(z)]) + '.pkl')\n",
    "                im_box = get_box(stack, box_halflengths, box_dims, centroid, z)\n",
    "                #lmask_box = get_box(lmask, box_halflengths, box_dims, centroid, z)\n",
    "                #im_box = np.where(lmask_box == region.label, im_box, 0)\n",
    "                with open(outfilepath, 'wb') as outfile:\n",
    "                    pickle.dump(im_box, outfile)\n",
    "        count += 1"
   ]
  },
  {
   "cell_type": "markdown",
   "metadata": {},
   "source": [
    "### Evaluating performance of model trained on mixed data"
   ]
  },
  {
   "cell_type": "code",
   "execution_count": null,
   "metadata": {},
   "outputs": [],
   "source": [
    "weights_file = '/Users/michaelstadler/Bioinformatics/Projects/rpb1/results/mixed_training/checkpoint_final_mix_real_sim_1'\n",
    "base_cnn = cn.make_base_cnn_3d(image_shape=(34,100,100), nlayers=8)\n",
    "embedding = cn.make_embedding(base_cnn)\n",
    "embedding.load_weights(weights_file)"
   ]
  },
  {
   "cell_type": "code",
   "execution_count": null,
   "metadata": {},
   "outputs": [],
   "source": [
    "e_real = ev.embed_images('/Users/michaelstadler/Bioinformatics/Projects/rpb1/data/real_nuclei/all', embedding, return_params=False)"
   ]
  },
  {
   "cell_type": "code",
   "execution_count": null,
   "metadata": {},
   "outputs": [],
   "source": [
    "e_sims, _ = ev.embed_images('/Users/michaelstadler/Bioinformatics/Projects/rpb1/results/fakesims_mixwithreal_aGdSCuwy/left', embedding)"
   ]
  },
  {
   "cell_type": "code",
   "execution_count": null,
   "metadata": {},
   "outputs": [],
   "source": [
    "e_zld = ev.embed_images('/Users/michaelstadler/Bioinformatics/Projects/rpb1/data/real_nuclei/zld', embedding, return_params=False)\n",
    "e_rpb1 = ev.embed_images('/Users/michaelstadler/Bioinformatics/Projects/rpb1/data/real_nuclei/rpb1', embedding, return_params=False)\n",
    "e_h2b = ev.embed_images('/Users/michaelstadler/Bioinformatics/Projects/rpb1/data/real_nuclei/h2b', embedding, return_params=False)"
   ]
  },
  {
   "cell_type": "code",
   "execution_count": null,
   "metadata": {},
   "outputs": [],
   "source": [
    "pca3d(e_real, e_sims, 0.5, use_combined=False)"
   ]
  },
  {
   "cell_type": "code",
   "execution_count": null,
   "metadata": {},
   "outputs": [],
   "source": [
    "pca3d(e_real, e_zld, 0)"
   ]
  },
  {
   "cell_type": "code",
   "execution_count": null,
   "metadata": {},
   "outputs": [],
   "source": [
    "pca3d(e_real, e_h2b, 0.3)"
   ]
  },
  {
   "cell_type": "code",
   "execution_count": null,
   "metadata": {},
   "outputs": [],
   "source": [
    "pca3d(e_real, e_rpb1, 0)"
   ]
  },
  {
   "cell_type": "code",
   "execution_count": null,
   "metadata": {},
   "outputs": [],
   "source": [
    "pca3d(e_real, e_real, 0.5)"
   ]
  },
  {
   "cell_type": "markdown",
   "metadata": {},
   "source": [
    "Two lists. For each item in list, get distance to all in own list and all in second list. Count how many in list 2 are closer than farthest in own list or mean own dist.\n",
    "\n"
   ]
  },
  {
   "cell_type": "code",
   "execution_count": null,
   "metadata": {},
   "outputs": [],
   "source": [
    "def rankdiff(arr_self, arr_other):\n",
    "    fxns_farthest = []\n",
    "    fxns_mean = []\n",
    "    for row in arr_self:\n",
    "        dists_self = np.sum((arr_self - row) ** 2, axis=1)\n",
    "        dists_other = np.sum((arr_other - row) ** 2, axis=1)\n",
    "        mean_dist_self = np.mean(dists_self)\n",
    "        max_dist_self = np.max(dists_self)\n",
    "        \n",
    "        fxns_farthest.append(np.count_nonzero(dists_other <= max_dist_self) / len(dists_other))\n",
    "        fxns_mean.append(np.count_nonzero(dists_other <= mean_dist_self) / len(dists_other))\n",
    "\n",
    "    return fxns_farthest, fxns_mean\n",
    "    \n",
    "\n",
    "def embed_list(l, embedding):\n",
    "    with tempfile.TemporaryDirectory() as tempdir:\n",
    "        save_list(l, tempdir)\n",
    "        e = ev.embed_images(tempdir, embedding, return_params=False)\n",
    "    return e\n",
    "\n",
    "farthest, mean_ = rankdiff(e_rpb1, e_sims)\n",
    "print(np.mean(mean_))\n",
    "print(np.mean(farthest))"
   ]
  },
  {
   "cell_type": "code",
   "execution_count": null,
   "metadata": {},
   "outputs": [],
   "source": [
    "e_fakes = ev.embed_images('/Users/michaelstadler/Bioinformatics/Projects/rpb1/results/rpb1-handfakes', embedding, return_params=False)\n",
    "e_fakes_masked = ev.embed_images('/Users/michaelstadler/Bioinformatics/Projects/rpb1/results/rpb1-handfakes-masked', embedding, return_params=False)\n",
    "e_reals = ev.embed_images('/Users/michaelstadler/Bioinformatics/Projects/rpb1/results/rpb1-real-matchhandfakes', embedding, return_params=False)\n",
    "e_reals_masked = ev.embed_images('/Users/michaelstadler/Bioinformatics/Projects/rpb1/results/rpb1-real-matchhandfakes-masked', embedding, return_params=False)"
   ]
  },
  {
   "cell_type": "code",
   "execution_count": null,
   "metadata": {},
   "outputs": [],
   "source": [
    "pca3d([e_all, e_zld], 0.5)"
   ]
  },
  {
   "cell_type": "code",
   "execution_count": null,
   "metadata": {},
   "outputs": [],
   "source": [
    "pca3d([e_all, e_rpb1], 0.5)"
   ]
  },
  {
   "cell_type": "code",
   "execution_count": null,
   "metadata": {},
   "outputs": [],
   "source": [
    "pca3d([e_all, e_h2b], 0.5)"
   ]
  },
  {
   "cell_type": "code",
   "execution_count": null,
   "metadata": {},
   "outputs": [],
   "source": [
    "farthest, mean_ = rankdiff(e_rpb1, e_reals_masked)\n",
    "print(np.mean(mean_))\n",
    "print(np.mean(farthest))"
   ]
  },
  {
   "cell_type": "code",
   "execution_count": null,
   "metadata": {},
   "outputs": [],
   "source": [
    "kernel=fm.load_pickle('/Users/michaelstadler/Bioinformatics/Projects/rpb1/PSFs/psf_20220210_21x25x25pixels_100x50x50voxel.pkl')\n",
    "masks = [Sim.make_spherical_mask(100,100,100,45)]\n",
    "outfolder = ''\n",
    "nreps = 1\n",
    "nfree_rng = [15_000, 15_000]\n",
    "hlb_diam_rng = [14,14]\n",
    "hlb_nmols_rng = [550,550]\n",
    "n_clusters_rng = [55,55]\n",
    "cluster_diam_mean_rng = [1,1] \n",
    "cluster_diam_var_rng = [0.1,0.1]\n",
    "cluster_nmols_mean_rng = [13,13]\n",
    "cluster_nmols_var_rng = [1.5,1.5]\n",
    "noise_sigma_rng = [1,1]\n",
    "dims_init=(85, 85, 85)\n",
    "dims_kernel=(100,50,50)\n",
    "dims_final=(250,85,85)\n",
    "\n",
    "hlb_coords = [hlb_possible_coords[x] for x in np.random.choice(len(hlb_possible_coords), 2)]\n",
    "#hlb_coords = [(12, 60, 38), (21, 57, 41)]\n",
    "sims = []\n",
    "for _ in range(2):\n",
    "    sim = fm.sim_rpb1(masks, kernel, outfolder, nreps, nfree_rng, hlb_diam_rng, \n",
    "        hlb_nmols_rng, n_clusters_rng, cluster_diam_mean_rng, \n",
    "        cluster_diam_var_rng, cluster_nmols_mean_rng, cluster_nmols_var_rng,\n",
    "        noise_sigma_rng, hlb_coords, dims_init, \n",
    "        dims_kernel, dims_final, return_sim=True, mask_nuclei=True)\n",
    "    sims.append(sim.im)"
   ]
  },
  {
   "cell_type": "code",
   "execution_count": null,
   "metadata": {},
   "outputs": [],
   "source": [
    "kernel=fm.load_pickle('/Users/michaelstadler/Bioinformatics/Projects/rpb1/PSFs/psf_20220210_21x25x25pixels_100x50x50voxel.pkl')\n",
    "masks = [Sim.make_spherical_mask(100,100,100,45)]\n",
    "outfolder = ''\n",
    "nreps = 1\n",
    "nfree_rng = [15_000, 15_000]\n",
    "hlb_diam_rng = [14,14]\n",
    "hlb_nmols_rng = [1,1]\n",
    "n_clusters_rng = [1055,1055]\n",
    "cluster_diam_mean_rng = [1,1] \n",
    "cluster_diam_var_rng = [0.1,0.1]\n",
    "cluster_nmols_mean_rng = [13,13]\n",
    "cluster_nmols_var_rng = [1.5,1.5]\n",
    "noise_sigma_rng = [1,1]\n",
    "dims_init=(85, 85, 85)\n",
    "dims_kernel=(100,50,50)\n",
    "dims_final=(250,85,85)\n",
    "\n",
    "hlb_coords = [hlb_possible_coords[x] for x in np.random.choice(len(hlb_possible_coords), 2)]\n",
    "#hlb_coords = [(12, 60, 38), (21, 57, 41)]\n",
    "sims = []\n",
    "for _ in range(2):\n",
    "    sim = fm.sim_rpb1(masks, kernel, outfolder, nreps, nfree_rng, hlb_diam_rng, \n",
    "        hlb_nmols_rng, n_clusters_rng, cluster_diam_mean_rng, \n",
    "        cluster_diam_var_rng, cluster_nmols_mean_rng, cluster_nmols_var_rng,\n",
    "        noise_sigma_rng, hlb_coords, dims_init, \n",
    "        dims_kernel, dims_final, return_sim=True, mask_nuclei=True)\n",
    "    sims.append(sim.im)\n",
    "\n",
    "e_fakes = embed_list(sims, embedding)\n",
    "pca3d([e_all, e_all, e_reals_masked, e_fakes], 0.6)\n",
    "#plt.savefig('/Users/michaelstadler/Documents/presentations/groupmeetings/20220316/output.png', dpi=500)"
   ]
  },
  {
   "cell_type": "code",
   "execution_count": null,
   "metadata": {},
   "outputs": [],
   "source": [
    "fm.viewer(sims[0], 5)"
   ]
  },
  {
   "cell_type": "code",
   "execution_count": null,
   "metadata": {},
   "outputs": [],
   "source": [
    "plt.subplots(figsize=(30,10))\n",
    "plt.plot(e_all.mean(axis=0), alpha=0.5)\n",
    "for _ in range(0,5):\n",
    "    i = np.random.choice(e_all.shape[0])\n",
    "    plt.plot(e_all[i], alpha=0.5)"
   ]
  },
  {
   "cell_type": "code",
   "execution_count": null,
   "metadata": {},
   "outputs": [],
   "source": [
    "def heatscatter(a=np.random.normal(size=50_000), b=np.random.normal(size=50_000), bins=100):\n",
    "    heatmap, xedges, yedges = np.histogram2d(a, b, bins=bins)\n",
    "    return heatmap\n",
    "\n",
    "x = np.array([])\n",
    "y = np.array([])\n",
    "\n",
    "for _ in range(0,500):\n",
    "    i = np.random.choice(e_all.shape[0])\n",
    "    x = np.concatenate((x, e_all.mean(axis=0)))\n",
    "    y = np.concatenate((y, e_all[i]))\n",
    "heatmap = heatscatter(x,y, 100) * 1000\n",
    "heatmap = np.flip(heatmap, axis=0)\n",
    "fm.viewer(heatmap, 5)\n",
    "    #plt.scatter(e_all.mean(axis=0), e_all[i], alpha=0.5)"
   ]
  },
  {
   "cell_type": "code",
   "execution_count": null,
   "metadata": {},
   "outputs": [],
   "source": [
    "np.linalg.norm(e_all.mean(axis=0))"
   ]
  },
  {
   "cell_type": "code",
   "execution_count": null,
   "metadata": {},
   "outputs": [],
   "source": [
    "np.mean(np.linalg.norm(e_all, axis=0))"
   ]
  },
  {
   "cell_type": "code",
   "execution_count": null,
   "metadata": {},
   "outputs": [],
   "source": [
    "def process(mat, n):\n",
    "    v = mat.copy()\n",
    "    # Subtract mean.\n",
    "    v = v - v.mean(axis=0)\n",
    "    # Fit n PCA components.\n",
    "    pca = sklearn.decomposition.PCA(n_components=n)\n",
    "    pca.fit(v)\n",
    "    # Subtract off the first n components.\n",
    "    tfm = pca.transform(v)\n",
    "    print(tfm.shape)\n",
    "    for i in range(n):\n",
    "        vp = np.outer(tfm[:,i], pca.components_[i])\n",
    "        v = v - vp\n",
    "    print(vp[0])\n",
    "    return v\n",
    "\n",
    "# Same, written with vectors. Confirmed output is the same as process.\n",
    "def process2(mat_in, n):\n",
    "    mat = mat_in.copy()\n",
    "    # Subtract mean.\n",
    "    mat = mat - mat.mean(axis=0)\n",
    "    # Fit n PCA components.\n",
    "    pca = sklearn.decomposition.PCA(n_components=n)\n",
    "    pca.fit(mat)\n",
    "    # Subtract off the first n components.\n",
    "    #tfm = pca.transform(v)\n",
    "    for r in range(mat.shape[0]):\n",
    "        v = mat[r]\n",
    "        for i in range(n):\n",
    "            comp = pca.components_[i]\n",
    "            #comp = np.expand_dims(comp, 1) # column vector\n",
    "            vp = np.dot(comp, v)\n",
    "            vp = vp * comp\n",
    "            v = v - vp\n",
    "\n",
    "        mat[r, :] = v\n",
    "    return mat"
   ]
  },
  {
   "cell_type": "markdown",
   "metadata": {},
   "source": [
    "# Matching other proteins\n",
    "\n",
    "### Zelda"
   ]
  },
  {
   "cell_type": "code",
   "execution_count": 141,
   "metadata": {},
   "outputs": [],
   "source": [
    "stack = fm.read_czi('/Volumes/stad3/2022-03-18/zld-mneon-em1-06.czi', swapaxes=False)"
   ]
  },
  {
   "cell_type": "code",
   "execution_count": 143,
   "metadata": {},
   "outputs": [
    {
     "data": {
      "application/vnd.jupyter.widget-view+json": {
       "model_id": "58e3deaad8e7443daf6d922fa4e55c97",
       "version_major": 2,
       "version_minor": 0
      },
      "text/plain": [
       "interactive(children=(Dropdown(description='Color', options=('cividis', 'inferno', 'Greens', 'Gators', 'magma'…"
      ]
     },
     "metadata": {},
     "output_type": "display_data"
    }
   ],
   "source": [
    "fm.viewer(stack, 5)"
   ]
  },
  {
   "cell_type": "code",
   "execution_count": 192,
   "metadata": {},
   "outputs": [],
   "source": [
    "nuc1 = stack[:,50:150, 315:415]\n",
    "nuc2 = stack[:,75:175,410:510]"
   ]
  },
  {
   "cell_type": "code",
   "execution_count": 194,
   "metadata": {},
   "outputs": [],
   "source": [
    "kernel=fm.load_pickle('/Users/michaelstadler/Bioinformatics/Projects/rpb1/PSFs/psf_20220210_21x25x25pixels_100x50x50voxel.pkl')\n",
    "masks = [Sim.make_spherical_mask(100,100,100,39)]\n",
    "outfolder = ''\n",
    "nreps = 1\n",
    "nfree_rng = [10_000, 10_000]\n",
    "hlb_diam_rng = [14,14]\n",
    "hlb_nmols_rng = [0,0]\n",
    "n_clusters_rng = [100,100]\n",
    "cluster_diam_mean_rng = [1,1] \n",
    "cluster_diam_var_rng = [1,1]\n",
    "cluster_nmols_mean_rng = [7.5,7.5]\n",
    "cluster_nmols_var_rng = [2,2]\n",
    "noise_sigma_rng = [1.05,1.05]\n",
    "dims_init=(85, 85, 85)\n",
    "dims_kernel=(100,50,50)\n",
    "dims_final=(250,85,85)\n",
    "\n",
    "hlb_coords = [hlb_possible_coords[x] for x in np.random.choice(len(hlb_possible_coords), 2)]\n",
    "#hlb_coords = [(12, 60, 38), (21, 57, 41)]\n",
    "sims = []\n",
    "for _ in range(1):\n",
    "    sim = fm.sim_rpb1(masks, kernel, outfolder, nreps, nfree_rng, hlb_diam_rng, \n",
    "        hlb_nmols_rng, n_clusters_rng, cluster_diam_mean_rng, \n",
    "        cluster_diam_var_rng, cluster_nmols_mean_rng, cluster_nmols_var_rng,\n",
    "        noise_sigma_rng, hlb_coords, dims_init, \n",
    "        dims_kernel, dims_final, return_sim=True, mask_nuclei=False)\n",
    "    sims.append(sim.im)"
   ]
  },
  {
   "cell_type": "code",
   "execution_count": 195,
   "metadata": {},
   "outputs": [
    {
     "data": {
      "application/vnd.jupyter.widget-view+json": {
       "model_id": "c17753f68df547e3b80af2a7cb02992d",
       "version_major": 2,
       "version_minor": 0
      },
      "text/plain": [
       "interactive(children=(Dropdown(description='Color', options=('cividis', 'inferno', 'Greens', 'Gators', 'magma'…"
      ]
     },
     "metadata": {},
     "output_type": "display_data"
    }
   ],
   "source": [
    "fm.viewer([norm(nuc1), norm(nuc2), norm(sims[0])], 5)"
   ]
  },
  {
   "cell_type": "markdown",
   "metadata": {},
   "source": [
    "### H2B prophasey"
   ]
  },
  {
   "cell_type": "code",
   "execution_count": 196,
   "metadata": {},
   "outputs": [],
   "source": [
    "stack = fm.read_czi('/Volumes/stad3/2022-03-18/h2b-gfp-em1-09.czi', swapaxes=False)"
   ]
  },
  {
   "cell_type": "code",
   "execution_count": 197,
   "metadata": {},
   "outputs": [
    {
     "data": {
      "application/vnd.jupyter.widget-view+json": {
       "model_id": "6036e0d0bce048a4b635e70724720aa0",
       "version_major": 2,
       "version_minor": 0
      },
      "text/plain": [
       "interactive(children=(Dropdown(description='Color', options=('cividis', 'inferno', 'Greens', 'Gators', 'magma'…"
      ]
     },
     "metadata": {},
     "output_type": "display_data"
    }
   ],
   "source": [
    "fm.viewer(stack, 5)"
   ]
  },
  {
   "cell_type": "code",
   "execution_count": 259,
   "metadata": {},
   "outputs": [
    {
     "data": {
      "application/vnd.jupyter.widget-view+json": {
       "model_id": "d35c49240a2448beb53fa62afd12294c",
       "version_major": 2,
       "version_minor": 0
      },
      "text/plain": [
       "interactive(children=(Dropdown(description='Color', options=('cividis', 'inferno', 'Greens', 'Gators', 'magma'…"
      ]
     },
     "metadata": {},
     "output_type": "display_data"
    }
   ],
   "source": [
    "nuc1 = stack[5:,70:170, 310:410]\n",
    "nuc2 = stack[5:,110:210,430:530]\n",
    "fm.viewer([nuc1, nuc2], 5)"
   ]
  },
  {
   "cell_type": "code",
   "execution_count": 263,
   "metadata": {},
   "outputs": [],
   "source": [
    "kernel=fm.load_pickle('/Users/michaelstadler/Bioinformatics/Projects/rpb1/PSFs/psf_20220210_21x25x25pixels_100x50x50voxel.pkl')\n",
    "masks = [Sim.make_spherical_mask(100,100,100,43)]\n",
    "outfolder = ''\n",
    "nreps = 1\n",
    "nfree_rng = [8_000, 8_000]\n",
    "hlb_diam_rng = [14,14]\n",
    "hlb_nmols_rng = [0,0]\n",
    "n_clusters_rng = [5_000,5_000]\n",
    "cluster_diam_mean_rng = [1,1] \n",
    "cluster_diam_var_rng = [0.1,0.1]\n",
    "cluster_nmols_mean_rng = [2,2]\n",
    "cluster_nmols_var_rng = [0.1,0.1]\n",
    "noise_sigma_rng = [0.55,0.55]\n",
    "dims_init=(85, 85, 85)\n",
    "dims_kernel=(100,50,50)\n",
    "dims_final=(250,85,85)\n",
    "\n",
    "hlb_coords = [hlb_possible_coords[x] for x in np.random.choice(len(hlb_possible_coords), 2)]\n",
    "#hlb_coords = [(12, 60, 38), (21, 57, 41)]\n",
    "sims = []\n",
    "for _ in range(1):\n",
    "    sim = fm.sim_rpb1(masks, kernel, outfolder, nreps, nfree_rng, hlb_diam_rng, \n",
    "        hlb_nmols_rng, n_clusters_rng, cluster_diam_mean_rng, \n",
    "        cluster_diam_var_rng, cluster_nmols_mean_rng, cluster_nmols_var_rng,\n",
    "        noise_sigma_rng, hlb_coords, dims_init, \n",
    "        dims_kernel, dims_final, return_sim=True, mask_nuclei=False)\n",
    "    sims.append(sim.im)"
   ]
  },
  {
   "cell_type": "code",
   "execution_count": 264,
   "metadata": {},
   "outputs": [
    {
     "data": {
      "application/vnd.jupyter.widget-view+json": {
       "model_id": "fd1d067cac1d4f1186e621f4d2e7da45",
       "version_major": 2,
       "version_minor": 0
      },
      "text/plain": [
       "interactive(children=(Dropdown(description='Color', options=('cividis', 'inferno', 'Greens', 'Gators', 'magma'…"
      ]
     },
     "metadata": {},
     "output_type": "display_data"
    }
   ],
   "source": [
    "fm.viewer([norm(nuc1), norm(nuc2), norm(sims[0])], 5)"
   ]
  },
  {
   "cell_type": "code",
   "execution_count": 5,
   "metadata": {},
   "outputs": [
    {
     "data": {
      "application/vnd.jupyter.widget-view+json": {
       "model_id": "e715e563d8bc4ddd9f527fca25d76ffa",
       "version_major": 2,
       "version_minor": 0
      },
      "text/plain": [
       "interactive(children=(Dropdown(description='Color', index=10, options=('prism', 'Reds', 'viridis', 'Gators', '…"
      ]
     },
     "metadata": {},
     "output_type": "display_data"
    }
   ],
   "source": [
    "stack = fm.read_czi('/Volumes/stad3/2022-03-17/h2b-gfp-em2-34.czi', swapaxes=False)\n",
    "fm.viewer(stack, 8)"
   ]
  },
  {
   "cell_type": "code",
   "execution_count": 6,
   "metadata": {},
   "outputs": [],
   "source": [
    "nuc1 = stack[:,140:,290:390]\n",
    "nuc2 = stack[:,145:,210:310]"
   ]
  },
  {
   "cell_type": "code",
   "execution_count": 27,
   "metadata": {},
   "outputs": [
    {
     "data": {
      "application/vnd.jupyter.widget-view+json": {
       "model_id": "05d21d15d0db4c57a794f32ae7f9f911",
       "version_major": 2,
       "version_minor": 0
      },
      "text/plain": [
       "interactive(children=(Dropdown(description='Color', index=10, options=('prism', 'Reds', 'viridis', 'Gators', '…"
      ]
     },
     "metadata": {},
     "output_type": "display_data"
    }
   ],
   "source": [
    "mask = Sim.make_spherical_mask(100,100,100, nuc_rad=38)\n",
    "sim = fm.sim_histones(mask, kernel, '/Users/michaelstadler/Desktop/', \n",
    "    nfree=1_000, \n",
    "    n_domains=3_000, \n",
    "    a1=-1.0, \n",
    "    rad_range=(0.5,1,1.5,2,2.5,3,3.5,4), \n",
    "    p1=0,\n",
    "    density_range=[0.6], \n",
    "    noise_sigma=6, \n",
    "    nreps=2,\n",
    "    dilation_struct=np.ones((1,7,7)),\n",
    "    mask_nuclei=True,\n",
    "    return_sim=True)\n",
    "#sim.add_sphere((17,50,50), 100, 100, 2, random=True, density=True)\n",
    "#8.3 s\n",
    "fm.viewer([norm(nuc1), norm(nuc2), norm(sim.im)], 5)\n"
   ]
  },
  {
   "cell_type": "code",
   "execution_count": 28,
   "metadata": {},
   "outputs": [
    {
     "data": {
      "application/vnd.jupyter.widget-view+json": {
       "model_id": "2d7a6b9b55754cbfb1b0e0825556fabe",
       "version_major": 2,
       "version_minor": 0
      },
      "text/plain": [
       "interactive(children=(Dropdown(description='Color', index=10, options=('prism', 'Reds', 'viridis', 'Gators', '…"
      ]
     },
     "metadata": {},
     "output_type": "display_data"
    }
   ],
   "source": [
    "mask = Sim.make_spherical_mask(100,100,100, nuc_rad=38)\n",
    "sim = fm.sim_histones(mask, kernel, '/Users/michaelstadler/Desktop/', \n",
    "    nfree=1_000, \n",
    "    n_domains=3_000, \n",
    "    a1=-1.0, \n",
    "    rad_range=(0.5,1,1.5,2,2.5,3,3.5,4), \n",
    "    p1=0,\n",
    "    density_range=[0.6], \n",
    "    noise_sigma=6, \n",
    "    nreps=2,\n",
    "    dilation_struct=np.ones((1,7,7)),\n",
    "    mask_nuclei=True,\n",
    "    return_sim=True)\n",
    "#sim.add_sphere((17,50,50), 100, 100, 2, random=True, density=True)\n",
    "#8.3 s\n",
    "fm.viewer([norm(nuc1), norm(nuc2), norm(sim.im)], 5)"
   ]
  },
  {
   "cell_type": "code",
   "execution_count": 9,
   "metadata": {},
   "outputs": [
    {
     "data": {
      "application/vnd.jupyter.widget-view+json": {
       "model_id": "506865bbc8bf4f2c89b19cc86880f96c",
       "version_major": 2,
       "version_minor": 0
      },
      "text/plain": [
       "interactive(children=(Dropdown(description='Color', index=10, options=('prism', 'Reds', 'viridis', 'Gators', '…"
      ]
     },
     "metadata": {},
     "output_type": "display_data"
    }
   ],
   "source": [
    "fm.viewer([norm(nuc1), norm(nuc2), norm(sim.im)], 5)\n"
   ]
  },
  {
   "cell_type": "code",
   "execution_count": 13,
   "metadata": {},
   "outputs": [],
   "source": [
    "mask = Sim.make_spherical_mask(100,100,100, nuc_rad=38)\n",
    "\n",
    "sim = fm.sim_rpb1(masks=[mask], kernel=kernel, outfolder='', nreps=1, nfree_rng=[10000,10000], hlb_diam_rng=[5,5], \n",
    "    hlb_nmols_rng=[10,10], n_clusters_rng=[10,10], cluster_diam_mean_rng=[1,1], \n",
    "    cluster_diam_var_rng=[1,1], cluster_nmols_mean_rng=[20,20], cluster_nmols_var_rng=[1,1],\n",
    "    noise_sigma_rng=[1,1], hlb_coords=((50,50,50),(50,50,50)), return_sim=True, mask_nuclei=True, dilation_struct=np.ones((1,7,7)))"
   ]
  },
  {
   "cell_type": "code",
   "execution_count": 14,
   "metadata": {},
   "outputs": [
    {
     "data": {
      "application/vnd.jupyter.widget-view+json": {
       "model_id": "7c1d1ed63ab5451c93f5f4be680fbe2c",
       "version_major": 2,
       "version_minor": 0
      },
      "text/plain": [
       "interactive(children=(Dropdown(description='Color', index=3, options=('gray', 'Gators', 'Greens', 'cividis', '…"
      ]
     },
     "metadata": {},
     "output_type": "display_data"
    }
   ],
   "source": [
    "fm.viewer(sim.im, 5)"
   ]
  },
  {
   "cell_type": "code",
   "execution_count": 25,
   "metadata": {},
   "outputs": [
    {
     "data": {
      "application/vnd.jupyter.widget-view+json": {
       "model_id": "d56e15034d0745c2aa8e696a4071aa9f",
       "version_major": 2,
       "version_minor": 0
      },
      "text/plain": [
       "interactive(children=(Dropdown(description='Color', index=3, options=('gray', 'Gators', 'Greens', 'cividis', '…"
      ]
     },
     "metadata": {},
     "output_type": "display_data"
    }
   ],
   "source": [
    "im = fm.load_pickle('/Users/michaelstadler/Bioinformatics/Projects/rpb1/results/testsims_abc_lpIlpmkX/left/iXD_11520_10.26_288_781_2_0.61_25_2.4_1.0_rep0.pkl')\n",
    "fm.viewer(im, 5)"
   ]
  },
  {
   "cell_type": "code",
   "execution_count": 25,
   "metadata": {},
   "outputs": [
    {
     "name": "stdout",
     "output_type": "stream",
     "text": [
      "arglist done\n"
     ]
    },
    {
     "data": {
      "text/plain": [
       "'/Users/michaelstadler/Bioinformatics/Projects/rpb1/results/test-histones_okseAFQI'"
      ]
     },
     "execution_count": 25,
     "metadata": {},
     "output_type": "execute_result"
    }
   ],
   "source": [
    "fm.sim_histones_batch('/Users/michaelstadler/Bioinformatics/Projects/rpb1/results/test-histones',\n",
    "    kernelfile='/Users/michaelstadler/Bioinformatics/Projects/rpb1/PSFs/psf_20220210_21x25x25pixels_100x50x50voxel.pkl',\n",
    "    maskfile='/Users/michaelstadler/Bioinformatics/Projects/rpb1/data/real_masks/mask_files/nc13_1.pkl',\n",
    "    nsims=2,\n",
    "    nreps=2,\n",
    "    nprocesses=2,\n",
    "    nfree_rng=[1_000,1_000],\n",
    "    n_domains_rng=[2_000,2_000],\n",
    "    a1_rng=[0,0],\n",
    "    p1_rng=[0,0],\n",
    "    noise_sigma_rng=[3,3],\n",
    "    rad_range=(0.5,1,1.5,2,2.5), \n",
    "    density_range=np.arange(2,10), \n",
    "    dims_init=(85, 85, 85), \n",
    "    dims_kernel=(100,50,50), \n",
    "    dims_final=(250,85,85),\n",
    "    return_sim=False, \n",
    "    mask_nuclei=False, \n",
    "    dilation_struct=np.ones((1,7,7))\n",
    "    )"
   ]
  },
  {
   "cell_type": "code",
   "execution_count": null,
   "metadata": {},
   "outputs": [],
   "source": []
  }
 ],
 "metadata": {
  "interpreter": {
   "hash": "e372816e4ed8f4776be7691c42762f9e24664f8c81a636e19b7b5da78d6a9ebf"
  },
  "kernelspec": {
   "display_name": "Python 3.9.7 ('tf2')",
   "language": "python",
   "name": "python3"
  },
  "language_info": {
   "codemirror_mode": {
    "name": "ipython",
    "version": 3
   },
   "file_extension": ".py",
   "mimetype": "text/x-python",
   "name": "python",
   "nbconvert_exporter": "python",
   "pygments_lexer": "ipython3",
   "version": "3.9.7"
  },
  "orig_nbformat": 4
 },
 "nbformat": 4,
 "nbformat_minor": 2
}
