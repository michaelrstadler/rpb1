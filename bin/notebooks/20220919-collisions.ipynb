{
 "cells": [
  {
   "cell_type": "code",
   "execution_count": 2,
   "metadata": {},
   "outputs": [],
   "source": [
    "from importlib import reload\n",
    "import flymovie as fm\n",
    "from flymovie.simnuc import Sim\n",
    "import matplotlib.pyplot as plt\n",
    "import matplotlib as mpl\n",
    "import numpy as np\n",
    "import pandas as pd\n",
    "import seaborn as sns\n",
    "from importlib import reload\n",
    "import umap\n",
    "import scipy.ndimage as ndi\n",
    "import skimage as ski\n",
    "import matplotlib.image as mpimg\n",
    "import tempfile\n",
    "import shutil\n",
    "import scipy.stats as stats\n",
    "\n",
    "%load_ext autoreload\n",
    "%autoreload 2"
   ]
  },
  {
   "cell_type": "code",
   "execution_count": 5,
   "metadata": {},
   "outputs": [],
   "source": [
    "psf = fm.load_pickle('/Users/michaelstadler/Bioinformatics/Projects/rpb1/PSFs/psf_20220614_insitu_nm100x50x50_px27x25x25_normed.pkl')\n",
    "masks = [fm.Sim.make_spherical_mask(100,100,100,40)]"
   ]
  },
  {
   "cell_type": "code",
   "execution_count": 29,
   "metadata": {},
   "outputs": [
    {
     "name": "stdout",
     "output_type": "stream",
     "text": [
      "500\n",
      "1000\n",
      "1500\n",
      "2000\n",
      "2500\n",
      "3000\n",
      "3500\n",
      "4000\n"
     ]
    },
    {
     "data": {
      "application/vnd.jupyter.widget-view+json": {
       "model_id": "ca39bedee8db43988275fcca27c35f98",
       "version_major": 2,
       "version_minor": 0
      },
      "text/plain": [
       "interactive(children=(Dropdown(description='Color', index=7, options=('gray_r', 'gray', 'Reds', 'viridis', 'pl…"
      ]
     },
     "metadata": {},
     "output_type": "display_data"
    },
    {
     "data": {
      "text/plain": [
       "''"
      ]
     },
     "execution_count": 29,
     "metadata": {},
     "output_type": "execute_result"
    }
   ],
   "source": [
    "\n",
    "kernel = psf\n",
    "outfolder = ''\n",
    "nreps=1\n",
    "concentration=130\n",
    "hlb_diam_rng=[10,10]\n",
    "hlb_nmols_rng = [1,1]\n",
    "n_clusters_rng = [100,100]\n",
    "cluster_diam_mean_rng = [1,1]\n",
    "cluster_diam_var_rng = [0.1,0.1]\n",
    "cluster_nmols_mean_rng = [1,1]\n",
    "cluster_nmols_var_rng = [0.01,0.01]\n",
    "noise_sigma_rng = [3.0,3.0]\n",
    "hlb_coords = [(50,50,50), (60,60,60)]\n",
    "dims_init=(85, 85, 85)\n",
    "dims_kernel=(100,50,50)\n",
    "dims_final=(250,85,85)\n",
    "gfp_intensity=1\n",
    "return_sim=True\n",
    "mask_nuclei=True\n",
    "dilation_struct=np.ones((1,7,7))\n",
    "only_valid=False\n",
    "\n",
    "sims = []\n",
    "for n in range(500, 4100, 500):\n",
    "    print(n)\n",
    "    n_clusters_rng = [n,n]\n",
    "    cluster_nmols_mean_rng = [4,4]\n",
    "    s = fm.sim_rpb1(masks, kernel, outfolder, nreps, concentration, \n",
    "        hlb_diam_rng, hlb_nmols_rng, n_clusters_rng, cluster_diam_mean_rng, \n",
    "        cluster_diam_var_rng, cluster_nmols_mean_rng, cluster_nmols_var_rng,\n",
    "        noise_sigma_rng, hlb_coords, dims_init, \n",
    "        dims_kernel, dims_final, gfp_intensity,\n",
    "        return_sim, mask_nuclei, \n",
    "        dilation_struct, only_valid)\n",
    "    sims.append(s.im)\n",
    "\n",
    "sims1 = sims.copy()\n",
    "fm.viewer(np.array(sims), zmax=True)\n",
    "\"\"\"\"\"\""
   ]
  },
  {
   "cell_type": "code",
   "execution_count": 32,
   "metadata": {},
   "outputs": [
    {
     "name": "stdout",
     "output_type": "stream",
     "text": [
      "0.1\n",
      "0.6\n",
      "1.1\n",
      "1.6\n",
      "2.1\n",
      "2.6\n",
      "3.1\n"
     ]
    },
    {
     "name": "stderr",
     "output_type": "stream",
     "text": [
      "/Users/michaelstadler/Bioinformatics/Projects/rpb1/bin/flymovie/flymovie/simnuc.py:770: UserWarning: nfree is <=0; not a valid simulation.\n",
      "  warnings.warn('nfree is <=0; not a valid simulation.')\n"
     ]
    },
    {
     "name": "stdout",
     "output_type": "stream",
     "text": [
      "3.6\n"
     ]
    },
    {
     "data": {
      "application/vnd.jupyter.widget-view+json": {
       "model_id": "bc22b82fca2642fe93e8a4706f6e477f",
       "version_major": 2,
       "version_minor": 0
      },
      "text/plain": [
       "interactive(children=(Dropdown(description='Color', index=7, options=('gray_r', 'gray', 'Reds', 'viridis', 'pl…"
      ]
     },
     "metadata": {},
     "output_type": "display_data"
    }
   ],
   "source": [
    "sims = []\n",
    "for n in np.arange(0.1,4, 0.5):\n",
    "    print(n)\n",
    "    n_clusters_rng = [1500, 1500]\n",
    "    cluster_nmols_mean_rng = [3,3]\n",
    "    cluster_nmols_var_rng = [n,n]\n",
    "    s = fm.sim_rpb1(masks, kernel, outfolder, nreps, concentration, \n",
    "        hlb_diam_rng, hlb_nmols_rng, n_clusters_rng, cluster_diam_mean_rng, \n",
    "        cluster_diam_var_rng, cluster_nmols_mean_rng, cluster_nmols_var_rng,\n",
    "        noise_sigma_rng, hlb_coords, dims_init, \n",
    "        dims_kernel, dims_final, gfp_intensity,\n",
    "        return_sim, mask_nuclei, \n",
    "        dilation_struct, only_valid)\n",
    "    sims.append(s.im)\n",
    "\n",
    "sims2 = sims.copy()\n",
    "fm.viewer(np.array(sims), zmax=True)"
   ]
  },
  {
   "cell_type": "code",
   "execution_count": 34,
   "metadata": {},
   "outputs": [
    {
     "name": "stdout",
     "output_type": "stream",
     "text": [
      "400\n",
      "800\n",
      "1200\n",
      "1600\n",
      "2000\n",
      "2400\n",
      "2800\n",
      "3200\n"
     ]
    },
    {
     "name": "stderr",
     "output_type": "stream",
     "text": [
      "/Users/michaelstadler/Bioinformatics/Projects/rpb1/bin/flymovie/flymovie/simnuc.py:770: UserWarning: nfree is <=0; not a valid simulation.\n",
      "  warnings.warn('nfree is <=0; not a valid simulation.')\n"
     ]
    },
    {
     "name": "stdout",
     "output_type": "stream",
     "text": [
      "3600\n"
     ]
    },
    {
     "data": {
      "application/vnd.jupyter.widget-view+json": {
       "model_id": "7ad5a2e4a5bf47e9b925be8bde6e0165",
       "version_major": 2,
       "version_minor": 0
      },
      "text/plain": [
       "interactive(children=(Dropdown(description='Color', index=7, options=('gray_r', 'gray', 'Reds', 'viridis', 'pl…"
      ]
     },
     "metadata": {},
     "output_type": "display_data"
    }
   ],
   "source": [
    "sims = []\n",
    "for n in np.arange(400,4000, 400):\n",
    "    print(n)\n",
    "    n_clusters_rng = [n, n]\n",
    "    cluster_nmols_mean_rng = [3,3]\n",
    "    cluster_nmols_var_rng = [1,1]\n",
    "    s = fm.sim_rpb1(masks, kernel, outfolder, nreps, concentration, \n",
    "        hlb_diam_rng, hlb_nmols_rng, n_clusters_rng, cluster_diam_mean_rng, \n",
    "        cluster_diam_var_rng, cluster_nmols_mean_rng, cluster_nmols_var_rng,\n",
    "        noise_sigma_rng, hlb_coords, dims_init, \n",
    "        dims_kernel, dims_final, gfp_intensity,\n",
    "        return_sim, mask_nuclei, \n",
    "        dilation_struct, only_valid)\n",
    "    sims.append(s.im)\n",
    "\n",
    "sims3 = sims.copy()\n",
    "fm.viewer(np.array(sims), zmax=True)"
   ]
  }
 ],
 "metadata": {
  "kernelspec": {
   "display_name": "Python 3.9.7 ('im2')",
   "language": "python",
   "name": "python3"
  },
  "language_info": {
   "codemirror_mode": {
    "name": "ipython",
    "version": 3
   },
   "file_extension": ".py",
   "mimetype": "text/x-python",
   "name": "python",
   "nbconvert_exporter": "python",
   "pygments_lexer": "ipython3",
   "version": "3.9.7"
  },
  "orig_nbformat": 4,
  "vscode": {
   "interpreter": {
    "hash": "eca358e5a2f32eca92640d7df176777d47bc005b1d6ea5f309faabbd9462bdfe"
   }
  }
 },
 "nbformat": 4,
 "nbformat_minor": 2
}
