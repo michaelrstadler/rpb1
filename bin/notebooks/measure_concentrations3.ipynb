{
 "cells": [
  {
   "cell_type": "code",
   "execution_count": 1,
   "metadata": {},
   "outputs": [],
   "source": [
    "# Libraries\n",
    "import flymovie as fm\n",
    "import numpy as np\n",
    "import scipy.ndimage as ndi\n",
    "from PIL import Image\n",
    "import matplotlib.pyplot as plt\n",
    "from scipy.optimize import brute\n",
    "%load_ext autoreload\n",
    "%autoreload 2"
   ]
  },
  {
   "cell_type": "markdown",
   "metadata": {},
   "source": [
    "### Fill in files and options"
   ]
  },
  {
   "cell_type": "code",
   "execution_count": 2,
   "metadata": {},
   "outputs": [],
   "source": [
    "n_gfps = 120\n",
    "brightness = 34 # 34 for egfp, 93 for mneon, 54 for sfgfp\n",
    "#spots_folder = '/Volumes/stadler_5tb/old-red/2022-06-02/20220602-120mer-spots'\n",
    "spots_folder = '/Volumes/stadler_5tb/old-red/2022-05-31/20220531-beads-1pct'\n",
    "psf_pkl_file = '/Users/michaelstadler/Bioinformatics/Projects/rpb1/PSFs/psf_20220614_insitu_nm100x50x50_px27x25x25_normed.pkl'\n",
    "psf_dims = (100, 50, 50)\n",
    "fitsize = (7,7)"
   ]
  },
  {
   "cell_type": "code",
   "execution_count": 3,
   "metadata": {},
   "outputs": [],
   "source": [
    "# Functions\n",
    "\n",
    "def load_tif_folder(folderpath):\n",
    "    \"\"\"Load tif files from folder.\"\"\"\n",
    "    ims = []\n",
    "    for f in os.listdir(folderpath):\n",
    "        if (f[0] != '.') and (f[-3:] == 'tif'):\n",
    "            im = Image.open(os.path.join(folderpath, f))\n",
    "            ims.append(np.array(im))\n",
    "        else:\n",
    "            print ('Skipping ' + f + '...')\n",
    "    return ims\n",
    "\n",
    "def center(ims, size=(8,8)):\n",
    "    \"\"\"Center box of indicated size at the center of spots.\n",
    "    Center defined as max after gaussian smoothing (works well).\n",
    "    \"\"\"\n",
    "    def inbounds(max_i, max_j, im_shape, size):\n",
    "        if (max_i - size[0]) < 0:\n",
    "            return False\n",
    "        if (max_i + size[0] + 1) > (im_shape[0]):\n",
    "            return False\n",
    "        if (max_j - size[1]) < 0:\n",
    "            return False\n",
    "        if (max_j + size[1] + 1) > (im_shape[1]):\n",
    "            return False\n",
    "        return True\n",
    "\n",
    "    ims_centered = []\n",
    "    for im in ims:\n",
    "        sm = ndi.gaussian_filter(im, 1.2)\n",
    "        wheremax = np.where(sm == np.max(sm))\n",
    "        max_i, max_j = wheremax[0][0], wheremax[1][0]\n",
    "        if inbounds(max_i, max_j, im.shape, size):\n",
    "            im_centered = im[\n",
    "                (max_i - size[0]):(max_i + size[0] + 1), \n",
    "                (max_j - size[1]):(max_j + size[1] + 1)\n",
    "                ]\n",
    "            ims_centered.append(im_centered)\n",
    "    return np.array(ims_centered)\n",
    "\n",
    "def psf_match(psf, size):\n",
    "    \"\"\"Extract 2d slice of PSF which consists of the middle slice\n",
    "    in Z and a size in xy matched to spot images.\"\"\"\n",
    "    psf_midslice = psf[int(psf.shape[0] / 2)]\n",
    "    ij_midpoint = int(psf.shape[1] / 2)\n",
    "    start = ij_midpoint - size[0] \n",
    "    stop = ij_midpoint + size[0] + 1\n",
    "    psf_matched = psf_midslice[start:stop, start:stop]\n",
    "    return psf_matched\n",
    "\n",
    "def fit_spots_psf(spots, psf):\n",
    "    \"\"\"Use brute force optimization to determine the scalar multiple to best\n",
    "    match the psf to the spot kernel.\"\"\"\n",
    "    def f(x, spots, psf):\n",
    "        diff = abs(spots - (x * psf))\n",
    "        return np.sum(diff)\n",
    "\n",
    "    opt = brute(f, [slice(0,20000, 10)], args=(spots, psf), full_output=True)\n",
    "    fit_x = opt[0][0]\n",
    "    print(fit_x)\n",
    "    return fit_x\n",
    "\n",
    "def calc_nm_fromvol(im, lmask, label, im_dims, psf_dims, kernel_1gfp, brightness):\n",
    "    \"\"\"Calculate concentration from a volume image (Z stack).\"\"\"\n",
    "    pix = im[lmask == label]\n",
    "    sum_ = np.sum(pix)\n",
    "    numpix = len(pix)\n",
    "    kernel_1gfp_rescaled = ndi.zoom(kernel_1gfp, np.divide(psf_dims, im_dims))\n",
    "    num_molecules = sum_ / np.sum(kernel_1gfp_rescaled)\n",
    "    L = numpix * np.product(im_dims) * 1e-27 * 1000 # volume in liters\n",
    "    mols = num_molecules / 6.022e23\n",
    "    M = mols / L\n",
    "    nM = M / 1e-9 \n",
    "    nM = nM * (34 / brightness)\n",
    "    print (nM)\n",
    "\n",
    "def get_conc_uniform(kernel_1gfp, mean_signal, psf_dims, im_dims, brightness):\n",
    "    \"\"\"Calculate concentration assuming a uniform signal (measuring mean\n",
    "    signal intensity and assuming it is uniform).\n",
    "    \n",
    "    Note: I thought it was conceptually simpler to work this as a 100x100x100\n",
    "    cube but it's mathematically redundant. It was just easier for me to\n",
    "    think about for some reason.\n",
    "    \"\"\"\n",
    "    # Rescale kernel using interpolation to match image dimensions.\n",
    "    kernel_1gfp_rescaled = ndi.zoom(kernel_1gfp, np.divide(psf_dims, im_dims))\n",
    "\n",
    "    # 100x100x100 box\n",
    "    sum_ = mean_signal * (100 ** 3)\n",
    "    num_molecules = sum_ / np.sum(kernel_1gfp_rescaled)\n",
    "    L = (100 ** 3) * np.product(im_dims) * 1e-27 * 1000 # volume in liters\n",
    "    mols = num_molecules / 6.022e23\n",
    "    M = mols / L\n",
    "    nM = M / 1e-9 \n",
    "    nM = nM * (34 / brightness)\n",
    "    print (nM)"
   ]
  },
  {
   "cell_type": "markdown",
   "metadata": {},
   "source": [
    "### Load, center, and inspect spot mean."
   ]
  },
  {
   "cell_type": "code",
   "execution_count": 4,
   "metadata": {},
   "outputs": [
    {
     "data": {
      "application/vnd.jupyter.widget-view+json": {
       "model_id": "91e8b974795c44c29546bc80e9e99549",
       "version_major": 2,
       "version_minor": 0
      },
      "text/plain": [
       "interactive(children=(Dropdown(description='Color', index=10, options=('viridis', 'plasma', 'Gators', 'prism',…"
      ]
     },
     "metadata": {},
     "output_type": "display_data"
    }
   ],
   "source": [
    "ims = load_tif_folder(spots_folder)\n",
    "spots = center(ims, size=fitsize).mean(axis=0)\n",
    "fm.viewer(spots)"
   ]
  },
  {
   "cell_type": "markdown",
   "metadata": {},
   "source": [
    "### Fit PSF to mean spot image."
   ]
  },
  {
   "cell_type": "code",
   "execution_count": 5,
   "metadata": {},
   "outputs": [
    {
     "name": "stdout",
     "output_type": "stream",
     "text": [
      "12968.854616165161\n"
     ]
    }
   ],
   "source": [
    "psf = fm.load_pickle(psf_pkl_file)\n",
    "psf_matched = psf_match(psf, fitsize)\n",
    "\n",
    "fit_scalar = fit_spots_psf(spots, psf_matched)    \n",
    "kernel_1gfp = psf * fit_scalar / n_gfps\n"
   ]
  },
  {
   "cell_type": "markdown",
   "metadata": {},
   "source": [
    "### Get concentrations for 3D volumes"
   ]
  },
  {
   "cell_type": "code",
   "execution_count": 55,
   "metadata": {},
   "outputs": [
    {
     "data": {
      "application/vnd.jupyter.widget-view+json": {
       "model_id": "d92160f2abbd46f993125c5edb1c2515",
       "version_major": 2,
       "version_minor": 0
      },
      "text/plain": [
       "interactive(children=(Dropdown(description='Color', index=10, options=('viridis', 'plasma', 'Gators', 'prism',…"
      ]
     },
     "metadata": {},
     "output_type": "display_data"
    }
   ],
   "source": [
    "# Load image.\n",
    "im_file = '/Volumes/stadler_5tb/old-red/2022-05-31/rpb1-measurement-1pct-vol-em2-02.czi'\n",
    "im_dims = (250, 50, 50)\n",
    "im = fm.read_czi(im_file, swapaxes=False)[6:]\n",
    "fm.viewer(im)"
   ]
  },
  {
   "cell_type": "code",
   "execution_count": 58,
   "metadata": {},
   "outputs": [
    {
     "data": {
      "application/vnd.jupyter.widget-view+json": {
       "model_id": "e8357a75546a460e868e395221d800f0",
       "version_major": 2,
       "version_minor": 0
      },
      "text/plain": [
       "interactive(children=(Dropdown(description='Color', index=10, options=('viridis', 'plasma', 'Gators', 'prism',…"
      ]
     },
     "metadata": {},
     "output_type": "display_data"
    }
   ],
   "source": [
    "# Segment nuclei using simple smooth and theshold.\n",
    "thresh = 2500\n",
    "sm = ndi.gaussian_filter(im, 4)\n",
    "mask = np.where(sm > thresh, 1, 0)\n",
    "mask = ndi.morphology.binary_erosion(mask, np.ones((2,5,5)))\n",
    "lmask,_ = ndi.label(mask)\n",
    "fm.viewer(lmask.max(axis=0))\n"
   ]
  },
  {
   "cell_type": "code",
   "execution_count": 60,
   "metadata": {},
   "outputs": [
    {
     "data": {
      "application/vnd.jupyter.widget-view+json": {
       "model_id": "b94b11ce2bef4a1abb0ecd928341b570",
       "version_major": 2,
       "version_minor": 0
      },
      "text/plain": [
       "interactive(children=(Dropdown(description='Color', index=10, options=('viridis', 'plasma', 'Gators', 'prism',…"
      ]
     },
     "metadata": {},
     "output_type": "display_data"
    }
   ],
   "source": [
    "# Determine label of nucleus of interest.\n",
    "label = 2\n",
    "fm.viewer(np.where(lmask == label, im, 0).max(axis=0))"
   ]
  },
  {
   "cell_type": "code",
   "execution_count": 61,
   "metadata": {},
   "outputs": [
    {
     "name": "stdout",
     "output_type": "stream",
     "text": [
      "309.53289175201064\n"
     ]
    }
   ],
   "source": [
    "calc_nm_fromvol(im, lmask, label, im_dims, psf_dims, kernel_1gfp, brightness)"
   ]
  },
  {
   "cell_type": "markdown",
   "metadata": {},
   "source": [
    "### Get concentrations from average signal (assuming uniform)"
   ]
  },
  {
   "cell_type": "code",
   "execution_count": null,
   "metadata": {},
   "outputs": [],
   "source": [
    "# Note: the image dimensions don't actually matter (math cancels out).\n",
    "im_dims = (250,50,50)\n",
    "get_conc_uniform(kernel_1gfp, 5200, psf_dims, im_dims, brightness)\n"
   ]
  },
  {
   "cell_type": "markdown",
   "metadata": {},
   "source": [
    "Zld: 3800-5200 mean: 100-130 nM (assume 70-130)\n",
    "\n",
    "Rpb1: \n",
    "\n",
    "225 - 350\n",
    "2022-05-31/rpb1-measurement-1pct-vol-em1-02.czi: 366\n",
    "2022-05-31/rpb1-measurement-1pct-vol-em1-02.czi: 309\n",
    "2022-05-31/rpb1-measurement-1pct-vol-em1-03.czi: 348,322\n",
    "2022-05-31/rpb1-measurement-1pct-vol-em2-01.czi: 270\n",
    "2022-05-31/rpb1-measurement-1pct-vol-em3-01.czi: 237,270, 292\n",
    "2022-05-31/rpb1-measurement-1pct-vol-em3-02.czi: 274\n"
   ]
  },
  {
   "cell_type": "markdown",
   "metadata": {},
   "source": []
  }
 ],
 "metadata": {
  "interpreter": {
   "hash": "eca358e5a2f32eca92640d7df176777d47bc005b1d6ea5f309faabbd9462bdfe"
  },
  "kernelspec": {
   "display_name": "Python 3.9.7 ('im2')",
   "language": "python",
   "name": "python3"
  },
  "language_info": {
   "codemirror_mode": {
    "name": "ipython",
    "version": 3
   },
   "file_extension": ".py",
   "mimetype": "text/x-python",
   "name": "python",
   "nbconvert_exporter": "python",
   "pygments_lexer": "ipython3",
   "version": "3.9.7"
  },
  "orig_nbformat": 4
 },
 "nbformat": 4,
 "nbformat_minor": 2
}
