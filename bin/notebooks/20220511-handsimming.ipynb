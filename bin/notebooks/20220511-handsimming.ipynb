{
 "cells": [
  {
   "cell_type": "code",
   "execution_count": 2,
   "metadata": {},
   "outputs": [],
   "source": [
    "from importlib import reload\n",
    "import flymovie as fm\n",
    "import cnn_models.siamese_cnn as cn\n",
    "import cnn_models.evaluate_models as ev\n",
    "from flymovie.simnuc import Sim\n",
    "import matplotlib.pyplot as plt\n",
    "import numpy as np\n",
    "import pandas as pd\n",
    "import seaborn as sn\n",
    "import tensorflow as tf\n",
    "from importlib import reload\n",
    "import scipy.ndimage as ndi\n",
    "import skimage as ski\n",
    "import pandas as pd\n",
    "%load_ext autoreload\n",
    "%autoreload 2"
   ]
  },
  {
   "cell_type": "code",
   "execution_count": 3,
   "metadata": {},
   "outputs": [],
   "source": [
    "def load_folder(folder):\n",
    "    ims = []\n",
    "    for f in os.listdir(folder):\n",
    "        if f[0] == '.':\n",
    "            continue\n",
    "        im = fm.load_pickle(os.path.join(folder, f))\n",
    "        im = im_norm(im)\n",
    "        ims.append(im)\n",
    "    return np.array(ims)\n",
    "\n",
    "def im_norm(x):\n",
    "    mean_ = np.mean(x[x>0])\n",
    "    return x / mean_ * 1000\n",
    "\n",
    "def make_mask_file(ims, outfilepath, struct=np.ones((1,7,7)), target_dims=(100,100,100)):\n",
    "    masks = []\n",
    "    for im in ims:\n",
    "        mask = np.where(im > 0, 1, 0)\n",
    "        mask = ndi.morphology.binary_erosion(mask, struct)\n",
    "        mask = ndi.zoom(mask, \n",
    "            (target_dims[0] / mask.shape[0],\n",
    "            target_dims[1] / mask.shape[1],\n",
    "            target_dims[2] / mask.shape[2],\n",
    "            ),\n",
    "            order=0)\n",
    "        masks.append(mask.astype(bool))\n",
    "    masks = np.array(masks)\n",
    "    fm.save_pickle(masks, outfilepath)"
   ]
  },
  {
   "cell_type": "markdown",
   "metadata": {},
   "source": [
    "### ZLD WT"
   ]
  },
  {
   "cell_type": "code",
   "execution_count": 80,
   "metadata": {},
   "outputs": [],
   "source": [
    "reals_folder = '/Users/michaelstadler/Bioinformatics/Projects/rpb1/data/real_nuclei/set2/tmp/zld-wt-early13'\n",
    "masks_file = '/Users/michaelstadler/Bioinformatics/Projects/rpb1/data/real_masks/mask_files/zld-wt_earlync13_masks.pkl'\n",
    "\n",
    "reals = load_folder(reals_folder)\n",
    "masks_src = fm.load_pickle(masks_file)"
   ]
  },
  {
   "cell_type": "code",
   "execution_count": 83,
   "metadata": {},
   "outputs": [
    {
     "data": {
      "application/vnd.jupyter.widget-view+json": {
       "model_id": "ec1b417ab9d34aaa98c2e8d5546cd1d5",
       "version_major": 2,
       "version_minor": 0
      },
      "text/plain": [
       "interactive(children=(Dropdown(description='Color', options=('cividis', 'prism', 'gray_r', 'magma', 'viridis',…"
      ]
     },
     "metadata": {},
     "output_type": "display_data"
    }
   ],
   "source": [
    "kernel = fm.load_pickle('/Users/michaelstadler/Bioinformatics/Projects/rpb1/PSFs/psf_20220511_100nmx50x50_41pxx31x31.pkl')\n",
    "#kernel = fm.load_pickle('/Users/michaelstadler/Bioinformatics/Projects/rpb1/PSFs/psf_20220511_100nmx50x50_47pxx21x21.pkl')\n",
    "outfolder = '/Users/michaelstadler/Desktop/temp'\n",
    "nreps = 1\n",
    "concentration = 40\n",
    "hlb_diam_rng = [12,12]\n",
    "hlb_nmols_rng = [1,1]\n",
    "n_clusters_rng = [100, 100]\n",
    "cluster_diam_mean_rng = [1,1] \n",
    "cluster_diam_var_rng = [0.01,0.01]\n",
    "cluster_nmols_mean_rng = [4,4]\n",
    "cluster_nmols_var_rng = [1.6,1.6]\n",
    "noise_sigma_rng = [2.7, 2.7]\n",
    "dims_init=(85, 85, 85)\n",
    "dims_kernel=(100,50,50)\n",
    "dims_final=(250,85,85)\n",
    "gfp_intensity = 2.7\n",
    "\n",
    "#hlb_coords = [hlb_possible_coords[x] for x in np.random.choice(len(hlb_possible_coords), 2)]\n",
    "hlb_coords = [(12, 60, 38), (51, 57, 41)]\n",
    "sims = []\n",
    "nsims=1\n",
    "for _ in range(nsims):\n",
    "    masks = masks_src[np.random.choice(np.arange(masks_src.shape[0]), nsims)]\n",
    "    sim = fm.sim_rpb1(masks, kernel, outfolder, nreps, concentration, hlb_diam_rng, \n",
    "        hlb_nmols_rng, n_clusters_rng, cluster_diam_mean_rng, \n",
    "        cluster_diam_var_rng, cluster_nmols_mean_rng, cluster_nmols_var_rng,\n",
    "        noise_sigma_rng, hlb_coords, dims_init, \n",
    "        dims_kernel, dims_final, gfp_intensity, return_sim=True, mask_nuclei=True)\n",
    "    im = im_norm(sim.im.copy())\n",
    "\n",
    "for _ in range(reals.shape[0]):\n",
    "    sims.append(im)\n",
    "sims = np.array(sims)\n",
    "\n",
    "fm.viewer([reals, sims], 5)"
   ]
  },
  {
   "cell_type": "code",
   "execution_count": 82,
   "metadata": {},
   "outputs": [
    {
     "data": {
      "application/vnd.jupyter.widget-view+json": {
       "model_id": "cd9cfd0440104e43ab3b53d662da6882",
       "version_major": 2,
       "version_minor": 0
      },
      "text/plain": [
       "interactive(children=(Dropdown(description='Color', options=('cividis', 'prism', 'gray_r', 'magma', 'viridis',…"
      ]
     },
     "metadata": {},
     "output_type": "display_data"
    }
   ],
   "source": [
    "kernel = fm.load_pickle('/Users/michaelstadler/Bioinformatics/Projects/rpb1/PSFs/psf_20220511_100nmx50x50_53pxx31x31_lobestretch_17_2.2.pkl')\n",
    "#kernel = fm.load_pickle('/Users/michaelstadler/Bioinformatics/Projects/rpb1/PSFs/psf_20220511_100nmx50x50_47pxx21x21.pkl')\n",
    "outfolder = '/Users/michaelstadler/Desktop/temp'\n",
    "nreps = 1\n",
    "concentration = 40\n",
    "hlb_diam_rng = [12,12]\n",
    "hlb_nmols_rng = [1,1]\n",
    "n_clusters_rng = [100, 100]\n",
    "cluster_diam_mean_rng = [1,1] \n",
    "cluster_diam_var_rng = [0.01,0.01]\n",
    "cluster_nmols_mean_rng = [4,4]\n",
    "cluster_nmols_var_rng = [1.6,1.6]\n",
    "noise_sigma_rng = [3, 3]\n",
    "dims_init=(85, 85, 85)\n",
    "dims_kernel=(100,50,50)\n",
    "dims_final=(250,85,85)\n",
    "gfp_intensity = 2.7\n",
    "\n",
    "#hlb_coords = [hlb_possible_coords[x] for x in np.random.choice(len(hlb_possible_coords), 2)]\n",
    "hlb_coords = [(12, 60, 38), (51, 57, 41)]\n",
    "sims = []\n",
    "nsims=1\n",
    "for _ in range(nsims):\n",
    "    masks = masks_src[np.random.choice(np.arange(masks_src.shape[0]), nsims)]\n",
    "    sim = fm.sim_rpb1(masks, kernel, outfolder, nreps, concentration, hlb_diam_rng, \n",
    "        hlb_nmols_rng, n_clusters_rng, cluster_diam_mean_rng, \n",
    "        cluster_diam_var_rng, cluster_nmols_mean_rng, cluster_nmols_var_rng,\n",
    "        noise_sigma_rng, hlb_coords, dims_init, \n",
    "        dims_kernel, dims_final, gfp_intensity, return_sim=True, mask_nuclei=True)\n",
    "    im = im_norm(sim.im.copy())\n",
    "\n",
    "for _ in range(reals.shape[0]):\n",
    "    sims.append(im)\n",
    "sims = np.array(sims)\n",
    "\n",
    "fm.viewer([reals, sims], 5)"
   ]
  },
  {
   "cell_type": "markdown",
   "metadata": {},
   "source": [
    "### ZLD c-term"
   ]
  },
  {
   "cell_type": "code",
   "execution_count": 78,
   "metadata": {},
   "outputs": [],
   "source": [
    "reals_folder = '/Users/michaelstadler/Bioinformatics/Projects/rpb1/data/real_nuclei/set2/tmp/zld-cterm-nc14'\n",
    "masks_file = '/Users/michaelstadler/Bioinformatics/Projects/rpb1/data/real_masks/mask_files/nc14_1.pkl'\n",
    "\n",
    "reals = load_folder(reals_folder)\n",
    "masks_src = fm.load_pickle(masks_file)"
   ]
  },
  {
   "cell_type": "code",
   "execution_count": 79,
   "metadata": {},
   "outputs": [
    {
     "data": {
      "application/vnd.jupyter.widget-view+json": {
       "model_id": "42b6028a44c944eda83659f89eef6316",
       "version_major": 2,
       "version_minor": 0
      },
      "text/plain": [
       "interactive(children=(Dropdown(description='Color', options=('cividis', 'prism', 'gray_r', 'magma', 'viridis',…"
      ]
     },
     "metadata": {},
     "output_type": "display_data"
    }
   ],
   "source": [
    "#kernel = fm.load_pickle('/Users/michaelstadler/Bioinformatics/Projects/rpb1/PSFs/psf_20220506_100nmx50x50_53pxx21x21_lobestretch_17_3.0.pkl')\n",
    "kernel = fm.load_pickle('/Users/michaelstadler/Bioinformatics/Projects/rpb1/PSFs/psf_20220511_100nmx50x50_81pxx27x27_lobestretch_17_2.2.pkl')\n",
    "outfolder = '/Users/michaelstadler/Desktop/temp'\n",
    "nreps = 1\n",
    "concentration = 40\n",
    "hlb_diam_rng = [12,12]\n",
    "hlb_nmols_rng = [1,1]\n",
    "n_clusters_rng = [0, 0]\n",
    "cluster_diam_mean_rng = [1,1] \n",
    "cluster_diam_var_rng = [0.01,0.01]\n",
    "cluster_nmols_mean_rng = [5,5]\n",
    "cluster_nmols_var_rng = [1.6,1.6]\n",
    "noise_sigma_rng = [4, 4]\n",
    "dims_init=(85, 85, 85)\n",
    "dims_kernel=(100,50,50)\n",
    "dims_final=(250,85,85)\n",
    "gfp_intensity = 2.7\n",
    "\n",
    "#hlb_coords = [hlb_possible_coords[x] for x in np.random.choice(len(hlb_possible_coords), 2)]\n",
    "hlb_coords = [(12, 60, 38), (51, 57, 41)]\n",
    "sims = []\n",
    "nsims=1\n",
    "for _ in range(nsims):\n",
    "    masks = masks_src[np.random.choice(np.arange(masks_src.shape[0]), nsims)]\n",
    "    sim = fm.sim_rpb1(masks, kernel, outfolder, nreps, concentration, hlb_diam_rng, \n",
    "        hlb_nmols_rng, n_clusters_rng, cluster_diam_mean_rng, \n",
    "        cluster_diam_var_rng, cluster_nmols_mean_rng, cluster_nmols_var_rng,\n",
    "        noise_sigma_rng, hlb_coords, dims_init, \n",
    "        dims_kernel, dims_final, gfp_intensity, return_sim=True, mask_nuclei=True)\n",
    "    im = im_norm(sim.im.copy())\n",
    "\n",
    "for _ in range(reals.shape[0]):\n",
    "    sims.append(im)\n",
    "sims = np.array(sims)\n",
    "\n",
    "fm.viewer([reals, sims], 5)"
   ]
  },
  {
   "cell_type": "code",
   "execution_count": null,
   "metadata": {},
   "outputs": [],
   "source": []
  },
  {
   "cell_type": "code",
   "execution_count": null,
   "metadata": {},
   "outputs": [],
   "source": []
  }
 ],
 "metadata": {
  "interpreter": {
   "hash": "e372816e4ed8f4776be7691c42762f9e24664f8c81a636e19b7b5da78d6a9ebf"
  },
  "kernelspec": {
   "display_name": "Python 3.9.7 ('tf2')",
   "language": "python",
   "name": "python3"
  },
  "language_info": {
   "codemirror_mode": {
    "name": "ipython",
    "version": 3
   },
   "file_extension": ".py",
   "mimetype": "text/x-python",
   "name": "python",
   "nbconvert_exporter": "python",
   "pygments_lexer": "ipython3",
   "version": "3.9.7"
  },
  "orig_nbformat": 4
 },
 "nbformat": 4,
 "nbformat_minor": 2
}
