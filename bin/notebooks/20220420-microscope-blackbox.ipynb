{
 "cells": [
  {
   "cell_type": "markdown",
   "metadata": {},
   "source": [
    "I'm going to try to learn a CNN that reproduces the signal processing of a microscope. I'm going to train on some images that I believe are \"bags of GFP\" -- Colleen's IDRs and Zelda C-terminal fragments. I measure the concentration of these via the standard candles, that means I can make a reasonable simulation of the \"true image\" — just n fluors randomly distributed within the mask. I can make a lot of sims for each real image. The CNN needs to output an n X n X n image, the loss function is some simple measure of pixel intensity difference (I think mean difference per non-zero pixel? Obvi can try multiple things).\n",
    "\n",
    "Workflow:\n",
    "\n",
    "1. Make an initial training set (simulations of real c-terminal nuclei with 80 nM free)\n",
    "2. Design a 1 conv layer network to test (just get it to ouput proper size and test loss function)"
   ]
  },
  {
   "cell_type": "code",
   "execution_count": 237,
   "metadata": {},
   "outputs": [
    {
     "name": "stdout",
     "output_type": "stream",
     "text": [
      "The autoreload extension is already loaded. To reload it, use:\n",
      "  %reload_ext autoreload\n"
     ]
    }
   ],
   "source": [
    "from importlib import reload\n",
    "import flymovie as fm\n",
    "import cnn_models.siamese_cnn as cn\n",
    "import cnn_models.evaluate_models as ev\n",
    "from flymovie.simnuc import Sim\n",
    "import matplotlib.pyplot as plt\n",
    "import numpy as np\n",
    "import os\n",
    "import random\n",
    "import string\n",
    "import tensorflow as tf\n",
    "import pickle\n",
    "from importlib import reload\n",
    "from sklearn.manifold import TSNE\n",
    "import scipy.ndimage as ndi\n",
    "import skimage as ski\n",
    "\n",
    "from tensorflow.keras import layers\n",
    "from tensorflow.keras.layers import Dense, Flatten, Reshape\n",
    "from tensorflow.keras import Model\n",
    "%load_ext autoreload\n",
    "%autoreload 2"
   ]
  },
  {
   "cell_type": "code",
   "execution_count": 238,
   "metadata": {},
   "outputs": [],
   "source": [
    "imfolder = '/Users/michaelstadler/Bioinformatics/Projects/rpb1/data/blackbox/reals/'\n",
    "outfolder = '/Users/michaelstadler/Bioinformatics/Projects/rpb1/data/blackbox/sims/'\n",
    "imfile = 'zld-cterm_20220321-zld-cterm-gfp-em1-01_0_1.pkl'"
   ]
  },
  {
   "cell_type": "code",
   "execution_count": 239,
   "metadata": {},
   "outputs": [],
   "source": [
    "im = fm.load_pickle(os.path.join(imfolder, imfile))\n",
    "mask = ndi.morphology.binary_erosion(np.where(im > 0, 1, 0), structure=np.ones((1,7,7)))"
   ]
  },
  {
   "cell_type": "code",
   "execution_count": 244,
   "metadata": {},
   "outputs": [],
   "source": [
    "for imfile in os.listdir(imfolder):\n",
    "    if imfile[0] == '.':\n",
    "        continue\n",
    "    im = fm.load_pickle(os.path.join(imfolder, imfile))\n",
    "    mask = ndi.morphology.binary_erosion(np.where(im > 0, 1, 0), structure=np.ones((1,7,7)))"
   ]
  },
  {
   "cell_type": "code",
   "execution_count": 246,
   "metadata": {},
   "outputs": [],
   "source": [
    "for imfile in os.listdir(imfolder):\n",
    "    if imfile[0] == '.':\n",
    "        continue\n",
    "    im = fm.load_pickle(os.path.join(imfolder, imfile))\n",
    "    mask = ndi.morphology.binary_erosion(np.where(im > 0, 1, 0), structure=np.ones((1,7,7)))\n",
    "\n",
    "    for _ in range(1):\n",
    "        leader = ''.join(random.choice(string.ascii_letters) for i in range(3)) + '_'\n",
    "        sim = Sim(mask, 250,85)\n",
    "        nmolecules = round(sim.conc_to_nmolecules(80))\n",
    "        sim.add_n_objects(nmolecules, 1, 1, 1)\n",
    "        filename = os.path.join(outfolder, leader + imfile)\n",
    "        fm.save_pickle(sim.im, filename)"
   ]
  },
  {
   "cell_type": "code",
   "execution_count": 58,
   "metadata": {},
   "outputs": [],
   "source": [
    "reals_folder = '/Users/michaelstadler/Bioinformatics/Projects/rpb1/data/blackbox/reals/'\n",
    "sims_folder = '/Users/michaelstadler/Bioinformatics/Projects/rpb1/data/blackbox/sims/'\n",
    "batch_size = 32\n",
    "image_shape = (34,100,100)"
   ]
  },
  {
   "cell_type": "code",
   "execution_count": 59,
   "metadata": {},
   "outputs": [],
   "source": [
    "#tf.data.Dataset.from_tensor_slices(anchor_files)\n",
    "\n",
    "sim_files1 = os.listdir(sims_folder)\n",
    "sim_files2 = []\n",
    "real_files = []\n",
    "for f in sim_files1:\n",
    "    if f[0] == '.':\n",
    "        continue\n",
    "\n",
    "    splits = f.split('_')\n",
    "    real_file = '_'.join(splits[1:])\n",
    "    sim_files2.append(os.path.join(sims_folder, f))\n",
    "    real_files.append(os.path.join(reals_folder, real_file))\n"
   ]
  },
  {
   "cell_type": "code",
   "execution_count": 74,
   "metadata": {},
   "outputs": [],
   "source": [
    "def preprocess_images(im_sim, im_real):\n",
    "    [sim,] = tf.py_function(cn.preprocess_image,[im_sim,],[tf.float32,])\n",
    "    [real,] = tf.py_function(cn.preprocess_image,[im_real,],[tf.float32,])\n",
    "    #sim = tf.squeeze(sim)\n",
    "    #real = tf.squeeze(real)\n",
    "    return sim, real\n"
   ]
  },
  {
   "cell_type": "code",
   "execution_count": 75,
   "metadata": {},
   "outputs": [],
   "source": [
    "\n",
    "sim_ds = tf.data.Dataset.from_tensor_slices((sim_files2, real_files))\n",
    "#real_ds = tf.data.Dataset.from_tensor_slices(real_files)\n",
    "\n",
    "sim_ds = sim_ds.map(preprocess_images, num_parallel_calls=tf.data.AUTOTUNE)\n",
    "#real_ds = real_ds.map(preprocess_image, num_parallel_calls=tf.data.AUTOTUNE)\n",
    "\n",
    "sim_ds = sim_ds.batch(batch_size, drop_remainder=False)\n",
    "#real_ds = real_ds.batch(batch_size, drop_remainder=False)"
   ]
  },
  {
   "cell_type": "code",
   "execution_count": 283,
   "metadata": {},
   "outputs": [],
   "source": [
    "num_elem = np.product(image_shape)\n",
    "img_input = layers.Input(shape=image_shape + (1,)) # Channels last.\n",
    "#x = layers.ZeroPadding3D(padding=(5, 10, 10), name='psf_pad')(img_input)\n",
    "x = layers.Conv3D(1, (10,20,20),\n",
    "        strides=(1, 1, 1),\n",
    "        padding='same',\n",
    "        kernel_initializer='he_normal',\n",
    "        name='psf')(img_input)\n",
    "\n",
    "#x = layers.ZeroPadding3D(padding=(3, 3, 3), name='conv1_pad')(x)\n",
    "\"\"\"\n",
    "x = layers.Conv3D(64, (3,3,3),\n",
    "        strides=(1, 1, 1),\n",
    "        padding='same',\n",
    "        kernel_initializer='he_normal',\n",
    "        name='conv1')(x)\n",
    "\"\"\"\n",
    "class NoiseLayer(tf.keras.layers.Layer):\n",
    "    def __init__(self):\n",
    "        super(NoiseLayer, self).__init__()\n",
    "\t\t\n",
    "    def call(self, x_input, training=False):\n",
    "        x = tf.keras.layers.GaussianNoise(0.1)(x_input)\n",
    "        return x\n",
    "x = NoiseLayer()(x)\n",
    "#x = layers.Flatten()(x)\n",
    "#x = layers.Dense(num_elem, activation='linear')(x)\n",
    "output = tf.math.reduce_sum(x, axis=-1)\n",
    "#x = tf.keras.backend.sum(x, axis=-1)\n",
    "#x = layers.Reshape(tuple([64]) + image_shape)(x)\n",
    "model = Model(img_input, output, name=\"Embedding\")"
   ]
  },
  {
   "cell_type": "code",
   "execution_count": 81,
   "metadata": {},
   "outputs": [],
   "source": [
    "sim_ds = tf.data.Dataset.from_tensor_slices((sim_files2, real_files))\n",
    "\n",
    "sim_ds = sim_ds.map(preprocess_images, num_parallel_calls=tf.data.AUTOTUNE)\n",
    "\n",
    "sim_ds = sim_ds.batch(batch_size, drop_remainder=False)\n"
   ]
  },
  {
   "cell_type": "code",
   "execution_count": 100,
   "metadata": {},
   "outputs": [
    {
     "name": "stdout",
     "output_type": "stream",
     "text": [
      "Epoch 1/3\n",
      "1/1 [==============================] - 27s 27s/step - loss: 0.0267\n",
      "Epoch 2/3\n",
      "1/1 [==============================] - 29s 29s/step - loss: 0.0172\n",
      "Epoch 3/3\n",
      "1/1 [==============================] - 29s 29s/step - loss: 0.0114\n"
     ]
    },
    {
     "data": {
      "text/plain": [
       "<tensorflow.python.keras.callbacks.History at 0x181de2a30>"
      ]
     },
     "execution_count": 100,
     "metadata": {},
     "output_type": "execute_result"
    }
   ],
   "source": [
    "#dataset = tf.data.Dataset.zip((sim_ds, real_ds))\n",
    "model.compile(optimizer=tf.keras.optimizers.Adam(0.001), loss=tf.keras.losses.mean_squared_error)\n",
    "model.fit(sim_ds, epochs=3)"
   ]
  },
  {
   "cell_type": "code",
   "execution_count": 145,
   "metadata": {},
   "outputs": [
    {
     "name": "stdout",
     "output_type": "stream",
     "text": [
      "Epoch 1/3\n",
      "1/1 [==============================] - 28s 28s/step - loss: 0.0091\n",
      "Epoch 2/3\n",
      "1/1 [==============================] - 30s 30s/step - loss: 0.0094\n",
      "Epoch 3/3\n",
      "1/1 [==============================] - 30s 30s/step - loss: 0.0111\n"
     ]
    },
    {
     "data": {
      "text/plain": [
       "<tensorflow.python.keras.callbacks.History at 0x181ada460>"
      ]
     },
     "execution_count": 145,
     "metadata": {},
     "output_type": "execute_result"
    }
   ],
   "source": [
    "model.fit(sim_ds, epochs=3)"
   ]
  },
  {
   "cell_type": "code",
   "execution_count": 85,
   "metadata": {},
   "outputs": [],
   "source": [
    "sims = []\n",
    "for i in sim_ds:\n",
    "    sims.append(i)"
   ]
  },
  {
   "cell_type": "code",
   "execution_count": 101,
   "metadata": {},
   "outputs": [
    {
     "data": {
      "application/vnd.jupyter.widget-view+json": {
       "model_id": "f999cd188c704a48833512b823aca56d",
       "version_major": 2,
       "version_minor": 0
      },
      "text/plain": [
       "interactive(children=(Dropdown(description='Color', index=10, options=('Reds', 'plasma', 'gray', 'magma', 'inf…"
      ]
     },
     "metadata": {},
     "output_type": "display_data"
    }
   ],
   "source": [
    "t = model(np.expand_dims(sims[0][0][1], axis=0))\n",
    "\n",
    "fm.viewer(t.numpy() * 1000, 5)"
   ]
  },
  {
   "cell_type": "code",
   "execution_count": 121,
   "metadata": {},
   "outputs": [],
   "source": [
    "l = model.layers[1]\n",
    "w = l.get_weights()[0]\n",
    "w = np.squeeze(w)\n",
    "fm.viewer(w * 1_000, 5)"
   ]
  },
  {
   "cell_type": "code",
   "execution_count": 146,
   "metadata": {},
   "outputs": [
    {
     "data": {
      "application/vnd.jupyter.widget-view+json": {
       "model_id": "824fd0fac02f48e185ded9447a40ae3b",
       "version_major": 2,
       "version_minor": 0
      },
      "text/plain": [
       "interactive(children=(Dropdown(description='Color', index=10, options=('Reds', 'plasma', 'gray', 'magma', 'inf…"
      ]
     },
     "metadata": {},
     "output_type": "display_data"
    }
   ],
   "source": [
    "w = l.get_weights()[0]\n",
    "w = np.squeeze(w)\n",
    "fm.viewer(w * 1_000, 5)"
   ]
  },
  {
   "cell_type": "code",
   "execution_count": null,
   "metadata": {},
   "outputs": [],
   "source": []
  },
  {
   "cell_type": "code",
   "execution_count": null,
   "metadata": {},
   "outputs": [],
   "source": []
  },
  {
   "cell_type": "code",
   "execution_count": 195,
   "metadata": {},
   "outputs": [],
   "source": [
    "def norm(x):\n",
    "    #x_nz = x[x > 0]\n",
    "    x_nz = x\n",
    "    #return x\n",
    "    return (x - np.min(x_nz)) / (np.max(x_nz) - np.min(x_nz))\n",
    "\n",
    "real = fm.load_pickle('/Users/michaelstadler/Bioinformatics/Projects/rpb1/data/blackbox/reals/zld-cterm_20220321-zld-cterm-gfp-em1-01_0_1.pkl')\n",
    "real = norm(real)\n",
    "mask = ndi.morphology.binary_erosion(np.where(real > 0, 1, 0), structure=np.ones((1,7,7)))"
   ]
  },
  {
   "cell_type": "code",
   "execution_count": 165,
   "metadata": {},
   "outputs": [],
   "source": [
    "sim = fm.load_pickle('/Users/michaelstadler/Bioinformatics/Projects/rpb1/data/blackbox/sims/GUB_zld-cterm_20220321-zld-cterm-gfp-em1-01_0_1.pkl')"
   ]
  },
  {
   "cell_type": "code",
   "execution_count": 180,
   "metadata": {},
   "outputs": [
    {
     "name": "stdout",
     "output_type": "stream",
     "text": [
      "(21, 25, 25)\n",
      "(8, 15, 15)\n"
     ]
    }
   ],
   "source": [
    "kernel = fm.load_pickle('/Users/michaelstadler/Bioinformatics/Projects/rpb1/PSFs/psf_20220210_21x25x25pixels_100x50x50voxel.pkl')\n",
    "print(kernel.shape)\n",
    "kernel = ndi.zoom(kernel, (100/250, 50/85, 50/85))\n",
    "print(kernel.shape)\n",
    "kernel = kernel / np.sum(kernel)"
   ]
  },
  {
   "cell_type": "code",
   "execution_count": 235,
   "metadata": {},
   "outputs": [],
   "source": [
    "cv = ndi.convolve(sim, kernel)\n",
    "cv = norm(cv)\n",
    "n = np.random.normal(0, 0.4, size=cv.shape)\n",
    "n = np.where(mask > 0, n, 0)\n",
    "cv = cv + n\n",
    "cv = norm(cv)"
   ]
  },
  {
   "cell_type": "code",
   "execution_count": 236,
   "metadata": {},
   "outputs": [
    {
     "data": {
      "application/vnd.jupyter.widget-view+json": {
       "model_id": "5e19216311414787ba661effe8b96d9c",
       "version_major": 2,
       "version_minor": 0
      },
      "text/plain": [
       "interactive(children=(Dropdown(description='Color', index=10, options=('Reds', 'plasma', 'gray', 'magma', 'inf…"
      ]
     },
     "metadata": {},
     "output_type": "display_data"
    }
   ],
   "source": [
    "fm.viewer([cv * 1000, real * 1000],5)"
   ]
  },
  {
   "cell_type": "code",
   "execution_count": 170,
   "metadata": {},
   "outputs": [
    {
     "data": {
      "application/vnd.jupyter.widget-view+json": {
       "model_id": "3e4f5185e3bc4c21b270a8c9313b9bd7",
       "version_major": 2,
       "version_minor": 0
      },
      "text/plain": [
       "interactive(children=(Dropdown(description='Color', index=10, options=('Reds', 'plasma', 'gray', 'magma', 'inf…"
      ]
     },
     "metadata": {},
     "output_type": "display_data"
    }
   ],
   "source": [
    "fm.viewer((cv - real) * 1000, 5)"
   ]
  },
  {
   "cell_type": "code",
   "execution_count": 197,
   "metadata": {},
   "outputs": [],
   "source": [
    "res = real - cv\n",
    "res = res[mask > 0]"
   ]
  },
  {
   "cell_type": "code",
   "execution_count": 198,
   "metadata": {},
   "outputs": [
    {
     "data": {
      "image/png": "[encoded data removed]",
      "text/plain": [
       "<Figure size 432x288 with 1 Axes>"
      ]
     },
     "metadata": {
      "needs_background": "light"
     },
     "output_type": "display_data"
    }
   ],
   "source": [
    "plt.hist(res, bins=50);"
   ]
  },
  {
   "cell_type": "code",
   "execution_count": 208,
   "metadata": {},
   "outputs": [],
   "source": [
    "import scipy\n",
    "x = scipy.stats.norm(loc=-0.2, scale=0.15)\n",
    "#plt.plot(x)\n"
   ]
  },
  {
   "cell_type": "code",
   "execution_count": 220,
   "metadata": {},
   "outputs": [],
   "source": [
    "n = np.random.normal(0, 0.15, size=(34,100,100))\n",
    "n = n - np.min(n)\n",
    "n = np.where(mask > 0, n, 0)\n"
   ]
  },
  {
   "cell_type": "code",
   "execution_count": 221,
   "metadata": {},
   "outputs": [
    {
     "data": {
      "application/vnd.jupyter.widget-view+json": {
       "model_id": "647144fa9bed4934aa1bb7937fa3a25c",
       "version_major": 2,
       "version_minor": 0
      },
      "text/plain": [
       "interactive(children=(Dropdown(description='Color', index=10, options=('Reds', 'plasma', 'gray', 'magma', 'inf…"
      ]
     },
     "metadata": {},
     "output_type": "display_data"
    }
   ],
   "source": [
    "fm.viewer(n * 1000, 5)"
   ]
  },
  {
   "cell_type": "code",
   "execution_count": 230,
   "metadata": {},
   "outputs": [
    {
     "data": {
      "application/vnd.jupyter.widget-view+json": {
       "model_id": "bfa362097aeb4c79bbef48c72d0fa618",
       "version_major": 2,
       "version_minor": 0
      },
      "text/plain": [
       "interactive(children=(Dropdown(description='Color', index=10, options=('Reds', 'plasma', 'gray', 'magma', 'inf…"
      ]
     },
     "metadata": {},
     "output_type": "display_data"
    }
   ],
   "source": []
  },
  {
   "cell_type": "code",
   "execution_count": null,
   "metadata": {},
   "outputs": [],
   "source": []
  },
  {
   "cell_type": "code",
   "execution_count": null,
   "metadata": {},
   "outputs": [],
   "source": []
  },
  {
   "cell_type": "code",
   "execution_count": null,
   "metadata": {},
   "outputs": [],
   "source": []
  },
  {
   "cell_type": "code",
   "execution_count": null,
   "metadata": {},
   "outputs": [],
   "source": []
  },
  {
   "cell_type": "code",
   "execution_count": null,
   "metadata": {},
   "outputs": [],
   "source": []
  },
  {
   "cell_type": "code",
   "execution_count": null,
   "metadata": {},
   "outputs": [],
   "source": []
  },
  {
   "cell_type": "code",
   "execution_count": null,
   "metadata": {},
   "outputs": [],
   "source": []
  },
  {
   "cell_type": "code",
   "execution_count": 284,
   "metadata": {},
   "outputs": [
    {
     "data": {
      "application/vnd.jupyter.widget-view+json": {
       "model_id": "b3e084a8beb2490aaff2c1833c88acc1",
       "version_major": 2,
       "version_minor": 0
      },
      "text/plain": [
       "interactive(children=(Dropdown(description='Color', index=10, options=('Reds', 'plasma', 'gray', 'magma', 'inf…"
      ]
     },
     "metadata": {},
     "output_type": "display_data"
    }
   ],
   "source": [
    "model = tf.keras.models.load_model('/Users/michaelstadler/Bioinformatics/Projects/rpb1/results/trained_models/blackbox')\n",
    "\n",
    "im = fm.load_pickle('/Users/michaelstadler/Bioinformatics/Projects/rpb1/data/blackbox/sims/Jpb_zld-cterm_20220321-zld-cterm-gfp-em1-01_0_5.pkl')\n",
    "\n",
    "x = np.expand_dims(im, axis=-1)\n",
    "x = np.expand_dims(x, axis=0)\n",
    "\n",
    "m = model(x)\n",
    "\n",
    "fm.viewer(m.numpy() * 1000, 5)"
   ]
  },
  {
   "cell_type": "code",
   "execution_count": 285,
   "metadata": {},
   "outputs": [
    {
     "data": {
      "application/vnd.jupyter.widget-view+json": {
       "model_id": "5941ab3feda449869da30ebfe431da77",
       "version_major": 2,
       "version_minor": 0
      },
      "text/plain": [
       "interactive(children=(Dropdown(description='Color', index=10, options=('Reds', 'plasma', 'gray', 'magma', 'inf…"
      ]
     },
     "metadata": {},
     "output_type": "display_data"
    }
   ],
   "source": [
    "model = tf.keras.models.load_model('/Users/michaelstadler/Bioinformatics/Projects/rpb1/results/trained_models/blackbox2')\n",
    "\n",
    "im = fm.load_pickle('/Users/michaelstadler/Bioinformatics/Projects/rpb1/data/blackbox/sims/Jpb_zld-cterm_20220321-zld-cterm-gfp-em1-01_0_5.pkl')\n",
    "\n",
    "x = np.expand_dims(im, axis=-1)\n",
    "x = np.expand_dims(x, axis=0)\n",
    "\n",
    "m = model(x)\n",
    "\n",
    "fm.viewer(m.numpy() * 1000, 5)"
   ]
  },
  {
   "cell_type": "code",
   "execution_count": 291,
   "metadata": {},
   "outputs": [
    {
     "name": "stdout",
     "output_type": "stream",
     "text": [
      "<property object at 0x17cc78590>\n"
     ]
    }
   ],
   "source": [
    "print(tf.keras.layers.Conv3D.weights)"
   ]
  },
  {
   "cell_type": "code",
   "execution_count": 292,
   "metadata": {},
   "outputs": [
    {
     "name": "stdout",
     "output_type": "stream",
     "text": [
      "Model: \"Embedding\"\n",
      "_________________________________________________________________\n",
      "Layer (type)                 Output Shape              Param #   \n",
      "=================================================================\n",
      "input_1 (InputLayer)         [(None, 34, 100, 100, 1)] 0         \n",
      "_________________________________________________________________\n",
      "psf (Conv3D)                 (None, 34, 100, 100, 1)   1801      \n",
      "_________________________________________________________________\n",
      "conv1 (Conv3D)               (None, 34, 100, 100, 64)  1792      \n",
      "_________________________________________________________________\n",
      "tf.math.reduce_sum (TFOpLamb (None, 34, 100, 100)      0         \n",
      "=================================================================\n",
      "Total params: 3,593\n",
      "Trainable params: 3,593\n",
      "Non-trainable params: 0\n",
      "_________________________________________________________________\n"
     ]
    }
   ],
   "source": [
    "model.summary()"
   ]
  },
  {
   "cell_type": "code",
   "execution_count": null,
   "metadata": {},
   "outputs": [],
   "source": []
  }
 ],
 "metadata": {
  "interpreter": {
   "hash": "e372816e4ed8f4776be7691c42762f9e24664f8c81a636e19b7b5da78d6a9ebf"
  },
  "kernelspec": {
   "display_name": "tf2",
   "language": "python",
   "name": "python3"
  },
  "language_info": {
   "codemirror_mode": {
    "name": "ipython",
    "version": 3
   },
   "file_extension": ".py",
   "mimetype": "text/x-python",
   "name": "python",
   "nbconvert_exporter": "python",
   "pygments_lexer": "ipython3",
   "version": "3.9.7"
  },
  "orig_nbformat": 4
 },
 "nbformat": 4,
 "nbformat_minor": 2
}
