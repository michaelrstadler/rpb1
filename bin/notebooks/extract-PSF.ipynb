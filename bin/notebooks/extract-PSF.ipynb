{
 "cells": [
  {
   "cell_type": "code",
   "execution_count": 50,
   "metadata": {},
   "outputs": [
    {
     "name": "stdout",
     "output_type": "stream",
     "text": [
      "The autoreload extension is already loaded. To reload it, use:\n",
      "  %reload_ext autoreload\n"
     ]
    }
   ],
   "source": [
    "import flymovie as fm\n",
    "import numpy as np\n",
    "import scipy.ndimage as ndi\n",
    "from importlib import reload\n",
    "from flymovie.general_functions import extract_box, stack_normalize_minmax\n",
    "\n",
    "%load_ext autoreload\n",
    "%autoreload 2"
   ]
  },
  {
   "cell_type": "code",
   "execution_count": 51,
   "metadata": {},
   "outputs": [],
   "source": [
    "stack1 = fm.read_czi('/Users/michaelstadler/Bioinformatics/Projects/rpb1/data/psf/2022-02-09/tetraspeck-100x50-field4-1AU-green-01.czi', swapaxes=False)\n",
    "stack2 = fm.read_czi('/Users/michaelstadler/Bioinformatics/Projects/rpb1/data/psf/2022-02-09/tetraspeck-100x50-field5-1AU-green-01.czi', swapaxes=False)\n",
    "\n",
    "stacklist = [stack1[0], stack1[1], stack2[0], stack2[1], stack2[2], stack2[3], stack2[4]]"
   ]
  },
  {
   "cell_type": "code",
   "execution_count": 53,
   "metadata": {},
   "outputs": [],
   "source": [
    "boxes = fm.extract_beads_batch(stacklist, 20, (41, 31, 31))"
   ]
  },
  {
   "cell_type": "code",
   "execution_count": 54,
   "metadata": {},
   "outputs": [
    {
     "data": {
      "text/plain": [
       "(85, 41, 31, 31)"
      ]
     },
     "execution_count": 54,
     "metadata": {},
     "output_type": "execute_result"
    }
   ],
   "source": [
    "boxes.shape"
   ]
  },
  {
   "cell_type": "code",
   "execution_count": 55,
   "metadata": {},
   "outputs": [
    {
     "data": {
      "application/vnd.jupyter.widget-view+json": {
       "model_id": "fb5db00370e54a43976bd9425aaf2171",
       "version_major": 2,
       "version_minor": 0
      },
      "text/plain": [
       "interactive(children=(Dropdown(description='Color', index=2, options=('prism', 'Gators', 'cividis', 'gray', 'R…"
      ]
     },
     "metadata": {},
     "output_type": "display_data"
    }
   ],
   "source": [
    "fm.viewer([boxes.max(axis=(1)) * 1000, boxes.max(axis=(2)) * 1000], 4)"
   ]
  },
  {
   "cell_type": "code",
   "execution_count": 56,
   "metadata": {},
   "outputs": [],
   "source": [
    "bad_beads = [11,28, 35]\n"
   ]
  },
  {
   "cell_type": "code",
   "execution_count": 57,
   "metadata": {},
   "outputs": [
    {
     "data": {
      "application/vnd.jupyter.widget-view+json": {
       "model_id": "aa71d9c1c08349c9967722984888ec7d",
       "version_major": 2,
       "version_minor": 0
      },
      "text/plain": [
       "interactive(children=(Dropdown(description='Color', index=2, options=('prism', 'Gators', 'cividis', 'gray', 'R…"
      ]
     },
     "metadata": {},
     "output_type": "display_data"
    }
   ],
   "source": [
    "boxes_good = fm.remove_bad_beads(boxes, bad_beads)\n",
    "psf = boxes_good.mean(axis=0)\n",
    "fm.viewer([psf.max(axis=0) * 1000, psf.max(axis=1) * 1000, psf.max(axis=2) * 1000], 5)"
   ]
  },
  {
   "cell_type": "markdown",
   "metadata": {},
   "source": [
    "### Save original"
   ]
  },
  {
   "cell_type": "code",
   "execution_count": 62,
   "metadata": {},
   "outputs": [],
   "source": [
    "psf_file = '/Users/michaelstadler/Bioinformatics/Projects/rpb1/PSFs/psf_20220511_100nmx50x50_41pxx31x31.pkl'\n",
    "fm.save_pickle(psf, psf_file)"
   ]
  },
  {
   "cell_type": "markdown",
   "metadata": {},
   "source": [
    "### Stretch and save"
   ]
  },
  {
   "cell_type": "code",
   "execution_count": null,
   "metadata": {},
   "outputs": [],
   "source": [
    "stretch_factor = 3\n",
    "stretched = ndi.zoom(psf, (stretch_factor, 1, 1))\n",
    "# Squeeze a little if desired to reduce kernel size.\n",
    "stretched = stretched[22:-22, 2:-2, 2:-2]\n",
    "stretched = stretched / np.max(stretched)\n",
    "fm.viewer([psf.max(axis=1) * 1000, stretched.max(axis=1) * 1000], 5)"
   ]
  },
  {
   "cell_type": "code",
   "execution_count": null,
   "metadata": {},
   "outputs": [],
   "source": [
    "stretched.shape"
   ]
  },
  {
   "cell_type": "code",
   "execution_count": null,
   "metadata": {},
   "outputs": [],
   "source": [
    "stretched_file = '/Users/michaelstadler/Bioinformatics/Projects/rpb1/PSFs/psf_20220503_100nmx50x50_79pxx21x21_zstretch3.0.pkl'\n",
    "fm.save_pickle(stretched, stretched_file)"
   ]
  },
  {
   "cell_type": "markdown",
   "metadata": {},
   "source": [
    "### Stretch lobes"
   ]
  },
  {
   "cell_type": "code",
   "execution_count": 61,
   "metadata": {},
   "outputs": [
    {
     "data": {
      "text/plain": [
       "(41, 31, 31)"
      ]
     },
     "execution_count": 61,
     "metadata": {},
     "output_type": "execute_result"
    }
   ],
   "source": [
    "psf.shape"
   ]
  },
  {
   "cell_type": "code",
   "execution_count": 71,
   "metadata": {},
   "outputs": [
    {
     "data": {
      "application/vnd.jupyter.widget-view+json": {
       "model_id": "b321cbc63506431b9ea7bd3e737bf0c6",
       "version_major": 2,
       "version_minor": 0
      },
      "text/plain": [
       "interactive(children=(Dropdown(description='Color', index=2, options=('prism', 'Gators', 'cividis', 'gray', 'R…"
      ]
     },
     "metadata": {},
     "output_type": "display_data"
    }
   ],
   "source": [
    "def stretch_lobes(kernel, nslices, stretch_factor):\n",
    "    top = kernel[:nslices]\n",
    "    bottom = kernel[-nslices:]\n",
    "    middle = kernel[nslices:-nslices]\n",
    "    top = ndi.zoom(top, (stretch_factor,1,1))\n",
    "    bottom = ndi.zoom(bottom, (stretch_factor,1,1))\n",
    "    stretched = np.vstack((top, middle, bottom))\n",
    "    return stretched\n",
    "\n",
    "stretched = stretch_lobes(psf, 17, 2.2)\n",
    "stretched.shape\n",
    "#stretched = stretched[36:-36, 2:-2, 2:-2]\n",
    "stretched = stretched[14:-14, :, :]\n",
    "fm.viewer([psf.max(axis=0) * 1000, psf.max(axis=1) * 1000, stretched.max(axis=0) * 1000, stretched.max(axis=1) * 1000], 5)"
   ]
  },
  {
   "cell_type": "code",
   "execution_count": 72,
   "metadata": {},
   "outputs": [
    {
     "data": {
      "text/plain": [
       "(53, 31, 31)"
      ]
     },
     "execution_count": 72,
     "metadata": {},
     "output_type": "execute_result"
    }
   ],
   "source": [
    "stretched.shape"
   ]
  },
  {
   "cell_type": "code",
   "execution_count": 68,
   "metadata": {},
   "outputs": [],
   "source": [
    "# Save lobe stretched PSF.\n",
    "lobestretched_file = '/Users/michaelstadler/Bioinformatics/Projects/rpb1/PSFs/psf_20220511_100nmx50x50_53pxx31x31_lobestretch_17_2.2.pkl'\n",
    "fm.save_pickle(stretched, lobestretched_file)"
   ]
  },
  {
   "cell_type": "markdown",
   "metadata": {},
   "source": [
    "### Fit and stretch"
   ]
  },
  {
   "cell_type": "code",
   "execution_count": null,
   "metadata": {},
   "outputs": [],
   "source": [
    "def make_kernel(x, shape):\n",
    "    \"\"\"Make kernel of certain shape from fitted 3d gaussian function.\"\"\"\n",
    "    x1 = list(x.copy())\n",
    "    x1[0] = int(shape[0] / 2)\n",
    "    x1[1] = int(shape[1] / 2)\n",
    "    x1[2] = int(shape[2] / 2)\n",
    "    g = fm.gaussian3d(*x1)\n",
    "    return g(*np.indices(shape))"
   ]
  },
  {
   "cell_type": "code",
   "execution_count": null,
   "metadata": {},
   "outputs": [],
   "source": [
    "shape = (51,20,20)\n",
    "opt = fm.fitgaussian3d(psf / np.max(psf))\n",
    "x = opt.x.copy()\n",
    "kernel_f = make_kernel(x, shape)"
   ]
  },
  {
   "cell_type": "code",
   "execution_count": null,
   "metadata": {},
   "outputs": [],
   "source": [
    "fm.viewer(kernel_f.max(axis=1) * 1000, 5)"
   ]
  },
  {
   "cell_type": "code",
   "execution_count": null,
   "metadata": {},
   "outputs": [],
   "source": [
    "# See current z-width.\n",
    "original_zwidth = x[4]\n",
    "print(original_zwidth)"
   ]
  },
  {
   "cell_type": "code",
   "execution_count": null,
   "metadata": {},
   "outputs": [],
   "source": [
    "stretch_factor = 1.5\n",
    "x[4] = stretch_factor * original_zwidth\n",
    "shape = (51,20,20)\n",
    "fitted = make_kernel(x, shape)\n",
    "fm.viewer(fitted.max(axis=1) * 1000, 5)"
   ]
  },
  {
   "cell_type": "code",
   "execution_count": null,
   "metadata": {},
   "outputs": [],
   "source": [
    "fitted_file = '/Users/michaelstadler/Bioinformatics/Projects/rpb1/PSFs/fitted_20220503_z4.2_100nmx50x50_51pxx20x20.pkl'\n",
    "fm.save_pickle(fitted, fitted_file)"
   ]
  },
  {
   "cell_type": "code",
   "execution_count": null,
   "metadata": {},
   "outputs": [],
   "source": []
  }
 ],
 "metadata": {
  "interpreter": {
   "hash": "eca358e5a2f32eca92640d7df176777d47bc005b1d6ea5f309faabbd9462bdfe"
  },
  "kernelspec": {
   "display_name": "Python 3.9.7 ('im2')",
   "language": "python",
   "name": "python3"
  },
  "language_info": {
   "codemirror_mode": {
    "name": "ipython",
    "version": 3
   },
   "file_extension": ".py",
   "mimetype": "text/x-python",
   "name": "python",
   "nbconvert_exporter": "python",
   "pygments_lexer": "ipython3",
   "version": "3.9.7"
  },
  "orig_nbformat": 4
 },
 "nbformat": 4,
 "nbformat_minor": 2
}
