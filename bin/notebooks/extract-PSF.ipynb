{
 "cells": [
  {
   "cell_type": "code",
   "execution_count": 95,
   "metadata": {},
   "outputs": [
    {
     "name": "stdout",
     "output_type": "stream",
     "text": [
      "The autoreload extension is already loaded. To reload it, use:\n",
      "  %reload_ext autoreload\n"
     ]
    }
   ],
   "source": [
    "import flymovie as fm\n",
    "import numpy as np\n",
    "import scipy.ndimage as ndi\n",
    "from importlib import reload\n",
    "from flymovie.general_functions import extract_box, stack_normalize_minmax\n",
    "\n",
    "%load_ext autoreload\n",
    "%autoreload 2"
   ]
  },
  {
   "cell_type": "code",
   "execution_count": 96,
   "metadata": {},
   "outputs": [],
   "source": [
    "def loadfiles(files):\n",
    "    stacklist = []\n",
    "    for file in files:\n",
    "        stack = fm.read_czi(file, swapaxes=False)\n",
    "    \n",
    "        if stack.ndim == 3:\n",
    "            stacklist.append(stack)\n",
    "\n",
    "        else:\n",
    "            # Remove last frame\n",
    "            stack = stack[:-1]\n",
    "            for frame in stack:\n",
    "                stacklist.append(frame)\n",
    "\n",
    "    return stacklist"
   ]
  },
  {
   "cell_type": "code",
   "execution_count": 97,
   "metadata": {},
   "outputs": [],
   "source": [
    "filelist = [\n",
    "    '/Volumes/stad3/2022-05-12/tetraspeck-green-solution-100x50x50-bead2-01.czi',\n",
    "    '/Volumes/stad3/2022-05-12/tetraspeck-green-solution-100x50x50-bead3-02.czi',\n",
    "    '/Volumes/stad3/2022-05-12/tetraspeck-green-solution-100x50x50-bead3-03.czi',\n",
    "    '/Volumes/stad3/2022-05-12/tetraspeck-green-solution-100x50x50-bead4-02.czi',\n",
    "    '/Volumes/stad3/2022-05-12/tetraspeck-green-solution-100x50x50-bead5-02.czi',\n",
    "    '/Volumes/stad3/2022-05-12/tetraspeck-green-solution-100x50x50-bead6-01.czi',\n",
    "    '/Volumes/stad3/2022-05-12/tetraspeck-green-solution-100x50x50-bead7-01.czi'\n",
    "]\n",
    "\n",
    "stacklist = loadfiles(filelist)"
   ]
  },
  {
   "cell_type": "code",
   "execution_count": 104,
   "metadata": {},
   "outputs": [],
   "source": [
    "filelist = [\n",
    "    '/Volumes/stad3/2022-05-19/tetraspeck-green-100x50x50-em2-inguts-bead1-01.czi',\n",
    "    '/Volumes/stad3/2022-05-19/tetraspeck-green-100x50x50-em2-inguts-bead2-02.czi',\n",
    "    '/Volumes/stad3/2022-05-19/tetraspeck-green-100x50x50-em2-inguts-bead3-02.czi',\n",
    "    '/Volumes/stad3/2022-05-19/tetraspeck-green-100x50x50-em2-inguts-bead4-02.czi',\n",
    "    '/Volumes/stad3/2022-05-19/tetraspeck-green-100x50x50-em3-inguts-bead1-01.czi',\n",
    "    '/Volumes/stad3/2022-05-19/tetraspeck-green-100x50x50-em3-inguts-bead2-02.czi',\n",
    "    '/Volumes/stad3/2022-05-19/tetraspeck-green-100x50x50-em3-inguts-bead3-01.czi',\n",
    "    '/Volumes/stad3/2022-05-19/tetraspeck-green-100x50x50-em3-inguts-bead4-02.czi',\n",
    "    '/Volumes/stad3/2022-05-19/tetraspeck-green-100x50x50-em3-inguts-bead5-01.czi',\n",
    "    '/Volumes/stad3/2022-05-19/tetraspeck-green-100x50x50-em3-inguts-bead6-01.czi',\n",
    "    '/Volumes/stad3/2022-05-19/tetraspeck-green-100x50x50-em5-inguts-bead1-01.czi',\n",
    "    '/Volumes/stad3/2022-05-19/tetraspeck-green-100x50x50-em5-inguts-bead2-01.czi',\n",
    "    '/Volumes/stad3/2022-05-19/tetraspeck-green-100x50x50-em5-inguts-bead3-01.czi',\n",
    "    '/Volumes/stad3/2022-05-19/tetraspeck-green-100x50x50-em5-inguts-bead4-01.czi'\n",
    "]\n",
    "\n",
    "stacklist = loadfiles(filelist)"
   ]
  },
  {
   "cell_type": "code",
   "execution_count": 105,
   "metadata": {},
   "outputs": [],
   "source": [
    "boxes = fm.extract_beads_batch(stacklist, 3000, (27, 25, 25))"
   ]
  },
  {
   "cell_type": "code",
   "execution_count": 106,
   "metadata": {},
   "outputs": [
    {
     "data": {
      "text/plain": [
       "(79, 27, 25, 25)"
      ]
     },
     "execution_count": 106,
     "metadata": {},
     "output_type": "execute_result"
    }
   ],
   "source": [
    "boxes.shape"
   ]
  },
  {
   "cell_type": "code",
   "execution_count": 110,
   "metadata": {},
   "outputs": [
    {
     "data": {
      "application/vnd.jupyter.widget-view+json": {
       "model_id": "13faf167c90945c7802f820a8d8a1216",
       "version_major": 2,
       "version_minor": 0
      },
      "text/plain": [
       "interactive(children=(Dropdown(description='Color', index=7, options=('Greens', 'gray_r', 'inferno', 'prism', …"
      ]
     },
     "metadata": {},
     "output_type": "display_data"
    }
   ],
   "source": [
    "fm.viewer([boxes.max(axis=(1)) * 1000, boxes.max(axis=(2)) * 1000], 4)"
   ]
  },
  {
   "cell_type": "code",
   "execution_count": 111,
   "metadata": {},
   "outputs": [],
   "source": [
    "bad_beads = [5,7,12,14,31,36,38,39]\n",
    "bad_beads=[]"
   ]
  },
  {
   "cell_type": "code",
   "execution_count": 112,
   "metadata": {},
   "outputs": [
    {
     "data": {
      "application/vnd.jupyter.widget-view+json": {
       "model_id": "eb4f99c2f0564ea585fa6861c9c5ed99",
       "version_major": 2,
       "version_minor": 0
      },
      "text/plain": [
       "interactive(children=(Dropdown(description='Color', index=7, options=('Greens', 'gray_r', 'inferno', 'prism', …"
      ]
     },
     "metadata": {},
     "output_type": "display_data"
    }
   ],
   "source": [
    "boxes_good = fm.remove_bad_beads(boxes, bad_beads)\n",
    "psf = boxes_good.mean(axis=0)\n",
    "fm.viewer([psf.max(axis=0) * 1000, psf.max(axis=1) * 1000, psf.max(axis=2) * 1000], 5)"
   ]
  },
  {
   "cell_type": "markdown",
   "metadata": {},
   "source": [
    "### Save original"
   ]
  },
  {
   "cell_type": "code",
   "execution_count": 62,
   "metadata": {},
   "outputs": [],
   "source": [
    "psf_file = '/Users/michaelstadler/Bioinformatics/Projects/rpb1/PSFs/psf_20220519_mountingmedia_nm100x50x50_px27x25x25.pkl'\n",
    "psf_to_save = psf[:,:,:]\n",
    "fm.save_pickle(psf_to_save, psf_file)"
   ]
  },
  {
   "cell_type": "markdown",
   "metadata": {},
   "source": [
    "### Stretch and save"
   ]
  },
  {
   "cell_type": "code",
   "execution_count": null,
   "metadata": {},
   "outputs": [],
   "source": [
    "stretch_factor = 3\n",
    "stretched = ndi.zoom(psf, (stretch_factor, 1, 1))\n",
    "# Squeeze a little if desired to reduce kernel size.\n",
    "stretched = stretched[22:-22, 2:-2, 2:-2]\n",
    "stretched = stretched / np.max(stretched)\n",
    "fm.viewer([psf.max(axis=1) * 1000, stretched.max(axis=1) * 1000], 5)"
   ]
  },
  {
   "cell_type": "code",
   "execution_count": null,
   "metadata": {},
   "outputs": [],
   "source": [
    "stretched.shape"
   ]
  },
  {
   "cell_type": "code",
   "execution_count": null,
   "metadata": {},
   "outputs": [],
   "source": [
    "stretched_file = '/Users/michaelstadler/Bioinformatics/Projects/rpb1/PSFs/psf_20220503_100nmx50x50_79pxx21x21_zstretch3.0.pkl'\n",
    "fm.save_pickle(stretched, stretched_file)"
   ]
  },
  {
   "cell_type": "markdown",
   "metadata": {},
   "source": [
    "### Stretch lobes"
   ]
  },
  {
   "cell_type": "code",
   "execution_count": null,
   "metadata": {},
   "outputs": [],
   "source": [
    "psf.shape"
   ]
  },
  {
   "cell_type": "code",
   "execution_count": null,
   "metadata": {},
   "outputs": [],
   "source": [
    "def stretch_lobes(kernel, nslices, stretch_factor):\n",
    "    top = kernel[:nslices]\n",
    "    bottom = kernel[-nslices:]\n",
    "    middle = kernel[nslices:-nslices]\n",
    "    top = ndi.zoom(top, (stretch_factor,1,1))\n",
    "    bottom = ndi.zoom(bottom, (stretch_factor,1,1))\n",
    "    stretched = np.vstack((top, middle, bottom))\n",
    "    return stretched\n",
    "\n",
    "stretched = stretch_lobes(psf, 17, 2.2)\n",
    "stretched.shape\n",
    "#stretched = stretched[36:-36, 2:-2, 2:-2]\n",
    "stretched = stretched[14:-14, :, :]\n",
    "fm.viewer([psf.max(axis=0) * 1000, psf.max(axis=1) * 1000, stretched.max(axis=0) * 1000, stretched.max(axis=1) * 1000], 5)"
   ]
  },
  {
   "cell_type": "code",
   "execution_count": null,
   "metadata": {},
   "outputs": [],
   "source": [
    "stretched.shape"
   ]
  },
  {
   "cell_type": "code",
   "execution_count": null,
   "metadata": {},
   "outputs": [],
   "source": [
    "# Save lobe stretched PSF.\n",
    "lobestretched_file = '/Users/michaelstadler/Bioinformatics/Projects/rpb1/PSFs/psf_20220511_100nmx50x50_53pxx31x31_lobestretch_17_2.2.pkl'\n",
    "fm.save_pickle(stretched, lobestretched_file)"
   ]
  },
  {
   "cell_type": "markdown",
   "metadata": {},
   "source": [
    "### Fit and stretch"
   ]
  },
  {
   "cell_type": "code",
   "execution_count": null,
   "metadata": {},
   "outputs": [],
   "source": [
    "def make_kernel(x, shape):\n",
    "    \"\"\"Make kernel of certain shape from fitted 3d gaussian function.\"\"\"\n",
    "    x1 = list(x.copy())\n",
    "    x1[0] = int(shape[0] / 2)\n",
    "    x1[1] = int(shape[1] / 2)\n",
    "    x1[2] = int(shape[2] / 2)\n",
    "    g = fm.gaussian3d(*x1)\n",
    "    return g(*np.indices(shape))"
   ]
  },
  {
   "cell_type": "code",
   "execution_count": null,
   "metadata": {},
   "outputs": [],
   "source": [
    "shape = (51,20,20)\n",
    "opt = fm.fitgaussian3d(psf / np.max(psf))\n",
    "x = opt.x.copy()\n",
    "kernel_f = make_kernel(x, shape)"
   ]
  },
  {
   "cell_type": "code",
   "execution_count": null,
   "metadata": {},
   "outputs": [],
   "source": [
    "fm.viewer(kernel_f.max(axis=1) * 1000, 5)"
   ]
  },
  {
   "cell_type": "code",
   "execution_count": null,
   "metadata": {},
   "outputs": [],
   "source": [
    "# See current z-width.\n",
    "original_zwidth = x[4]\n",
    "print(original_zwidth)"
   ]
  },
  {
   "cell_type": "code",
   "execution_count": null,
   "metadata": {},
   "outputs": [],
   "source": [
    "stretch_factor = 1.5\n",
    "x[4] = stretch_factor * original_zwidth\n",
    "shape = (51,20,20)\n",
    "fitted = make_kernel(x, shape)\n",
    "fm.viewer(fitted.max(axis=1) * 1000, 5)"
   ]
  },
  {
   "cell_type": "code",
   "execution_count": null,
   "metadata": {},
   "outputs": [],
   "source": [
    "fitted_file = '/Users/michaelstadler/Bioinformatics/Projects/rpb1/PSFs/fitted_20220503_z4.2_100nmx50x50_51pxx20x20.pkl'\n",
    "fm.save_pickle(fitted, fitted_file)"
   ]
  },
  {
   "cell_type": "code",
   "execution_count": null,
   "metadata": {},
   "outputs": [],
   "source": []
  },
  {
   "cell_type": "code",
   "execution_count": null,
   "metadata": {},
   "outputs": [],
   "source": []
  },
  {
   "cell_type": "code",
   "execution_count": null,
   "metadata": {},
   "outputs": [],
   "source": [
    "im = fm.read_czi('', swapaxes=False)"
   ]
  },
  {
   "cell_type": "code",
   "execution_count": 63,
   "metadata": {},
   "outputs": [],
   "source": [
    "def norm(x):\n",
    "    return (x - np.min(x)) / (np.max(x) - np.min(x))"
   ]
  },
  {
   "cell_type": "code",
   "execution_count": 64,
   "metadata": {},
   "outputs": [],
   "source": [
    "k = fm.load_pickle('/Users/michaelstadler/Bioinformatics/Projects/rpb1/PSFs/psf_20220512_nm100x50x50_px27x25x25.pkl')\n",
    "kis = fm.load_pickle('/Users/michaelstadler/Bioinformatics/Projects/rpb1/PSFs/psf_20220519_insitu_nm100x50x50_px27x25x25.pkl')\n",
    "k = norm(k)\n",
    "kis = norm(kis)\n",
    "psf = norm(psf)"
   ]
  },
  {
   "cell_type": "code",
   "execution_count": 73,
   "metadata": {},
   "outputs": [
    {
     "data": {
      "application/vnd.jupyter.widget-view+json": {
       "model_id": "9b67413dffdf473faba5b15aba59fc2f",
       "version_major": 2,
       "version_minor": 0
      },
      "text/plain": [
       "interactive(children=(Dropdown(description='Color', index=7, options=('Greens', 'gray_r', 'inferno', 'prism', …"
      ]
     },
     "metadata": {},
     "output_type": "display_data"
    }
   ],
   "source": [
    "axis=1\n",
    "fm.viewer([k.max(axis=axis) * 1000, kis.max(axis=axis) * 1000])"
   ]
  },
  {
   "cell_type": "code",
   "execution_count": 94,
   "metadata": {},
   "outputs": [
    {
     "data": {
      "text/plain": [
       "[<matplotlib.lines.Line2D at 0x16137ed90>]"
      ]
     },
     "execution_count": 94,
     "metadata": {},
     "output_type": "execute_result"
    },
    {
     "data": {
      "image/png": "[encoded data removed]",
      "text/plain": [
       "<Figure size 432x288 with 1 Axes>"
      ]
     },
     "metadata": {
      "needs_background": "light"
     },
     "output_type": "display_data"
    }
   ],
   "source": [
    "import matplotlib.pyplot as plt\n",
    "i = 11\n",
    "j = 13\n",
    "plt.plot(k[:,i,j])\n",
    "plt.plot(kis[:,i,j])"
   ]
  },
  {
   "cell_type": "code",
   "execution_count": 123,
   "metadata": {},
   "outputs": [],
   "source": [
    "k = fm.load_pickle('/Users/michaelstadler/Bioinformatics/Projects/rpb1/PSFs/psf_20220519_insitu_nm100x50x50_px27x25x25.pkl')\n",
    "k = (k - np.min(k)) / (np.max(k) - np.min(k))\n",
    "fm.save_pickle(k, '/Users/michaelstadler/Bioinformatics/Projects/rpb1/PSFs/psf_20220519_insitu_nm100x50x50_px27x25x25_normed.pkl')"
   ]
  },
  {
   "cell_type": "code",
   "execution_count": 127,
   "metadata": {},
   "outputs": [
    {
     "data": {
      "application/vnd.jupyter.widget-view+json": {
       "model_id": "cdd9d0ad910346a1856023e997c53e3a",
       "version_major": 2,
       "version_minor": 0
      },
      "text/plain": [
       "interactive(children=(Dropdown(description='Color', index=7, options=('Greens', 'gray_r', 'inferno', 'prism', …"
      ]
     },
     "metadata": {},
     "output_type": "display_data"
    }
   ],
   "source": [
    "fm.viewer(k * 1000)"
   ]
  },
  {
   "cell_type": "code",
   "execution_count": null,
   "metadata": {},
   "outputs": [],
   "source": []
  }
 ],
 "metadata": {
  "interpreter": {
   "hash": "eca358e5a2f32eca92640d7df176777d47bc005b1d6ea5f309faabbd9462bdfe"
  },
  "kernelspec": {
   "display_name": "Python 3.9.7 ('im2')",
   "language": "python",
   "name": "python3"
  },
  "language_info": {
   "codemirror_mode": {
    "name": "ipython",
    "version": 3
   },
   "file_extension": ".py",
   "mimetype": "text/x-python",
   "name": "python",
   "nbconvert_exporter": "python",
   "pygments_lexer": "ipython3",
   "version": "3.9.7"
  },
  "orig_nbformat": 4
 },
 "nbformat": 4,
 "nbformat_minor": 2
}
