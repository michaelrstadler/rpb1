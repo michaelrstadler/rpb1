{
 "cells": [
  {
   "cell_type": "markdown",
   "metadata": {},
   "source": [
    "I'm going to try to learn a CNN that reproduces the signal processing of a microscope. I'm going to train on some images that I believe are \"bags of GFP\" -- Colleen's IDRs and Zelda C-terminal fragments. I measure the concentration of these via the standard candles, that means I can make a reasonable simulation of the \"true image\" — just n fluors randomly distributed within the mask. I can make a lot of sims for each real image. The CNN needs to output an n X n X n image, the loss function is some simple measure of pixel intensity difference (I think mean difference per non-zero pixel? Obvi can try multiple things).\n",
    "\n",
    "Workflow:\n",
    "\n",
    "1. Make an initial training set (simulations of real c-terminal nuclei with 80 nM free)\n",
    "2. Design a 1 conv layer network to test (just get it to ouput proper size and test loss function)"
   ]
  },
  {
   "cell_type": "code",
   "execution_count": 1,
   "metadata": {},
   "outputs": [],
   "source": [
    "from importlib import reload\n",
    "import flymovie as fm\n",
    "import cnn_models.siamese_cnn as cn\n",
    "import cnn_models.evaluate_models as ev\n",
    "from flymovie.simnuc import Sim\n",
    "import matplotlib.pyplot as plt\n",
    "import numpy as np\n",
    "import os\n",
    "import random\n",
    "import string\n",
    "import tensorflow as tf\n",
    "import pickle\n",
    "from importlib import reload\n",
    "from sklearn.manifold import TSNE\n",
    "import scipy.ndimage as ndi\n",
    "import skimage as ski\n",
    "\n",
    "from tensorflow.keras import layers\n",
    "from tensorflow.keras.layers import Dense, Flatten, Reshape\n",
    "from tensorflow.keras import Model\n",
    "%load_ext autoreload\n",
    "%autoreload 2"
   ]
  },
  {
   "cell_type": "code",
   "execution_count": 238,
   "metadata": {},
   "outputs": [],
   "source": [
    "imfolder = '/Users/michaelstadler/Bioinformatics/Projects/rpb1/data/blackbox/reals/'\n",
    "outfolder = '/Users/michaelstadler/Bioinformatics/Projects/rpb1/data/blackbox/sims/'\n",
    "imfile = 'zld-cterm_20220321-zld-cterm-gfp-em1-01_0_1.pkl'"
   ]
  },
  {
   "cell_type": "code",
   "execution_count": 239,
   "metadata": {},
   "outputs": [],
   "source": [
    "im = fm.load_pickle(os.path.join(imfolder, imfile))\n",
    "mask = ndi.morphology.binary_erosion(np.where(im > 0, 1, 0), structure=np.ones((1,7,7)))"
   ]
  },
  {
   "cell_type": "code",
   "execution_count": 244,
   "metadata": {},
   "outputs": [],
   "source": [
    "for imfile in os.listdir(imfolder):\n",
    "    if imfile[0] == '.':\n",
    "        continue\n",
    "    im = fm.load_pickle(os.path.join(imfolder, imfile))\n",
    "    mask = ndi.morphology.binary_erosion(np.where(im > 0, 1, 0), structure=np.ones((1,7,7)))"
   ]
  },
  {
   "cell_type": "code",
   "execution_count": 246,
   "metadata": {},
   "outputs": [],
   "source": [
    "for imfile in os.listdir(imfolder):\n",
    "    if imfile[0] == '.':\n",
    "        continue\n",
    "    im = fm.load_pickle(os.path.join(imfolder, imfile))\n",
    "    mask = ndi.morphology.binary_erosion(np.where(im > 0, 1, 0), structure=np.ones((1,7,7)))\n",
    "\n",
    "    for _ in range(1):\n",
    "        leader = ''.join(random.choice(string.ascii_letters) for i in range(3)) + '_'\n",
    "        sim = Sim(mask, 250,85)\n",
    "        nmolecules = round(sim.conc_to_nmolecules(80))\n",
    "        sim.add_n_objects(nmolecules, 1, 1, 1)\n",
    "        filename = os.path.join(outfolder, leader + imfile)\n",
    "        fm.save_pickle(sim.im, filename)"
   ]
  },
  {
   "cell_type": "code",
   "execution_count": 58,
   "metadata": {},
   "outputs": [],
   "source": [
    "reals_folder = '/Users/michaelstadler/Bioinformatics/Projects/rpb1/data/blackbox/reals/'\n",
    "sims_folder = '/Users/michaelstadler/Bioinformatics/Projects/rpb1/data/blackbox/sims/'\n",
    "batch_size = 32\n",
    "image_shape = (34,100,100)"
   ]
  },
  {
   "cell_type": "code",
   "execution_count": 59,
   "metadata": {},
   "outputs": [],
   "source": [
    "#tf.data.Dataset.from_tensor_slices(anchor_files)\n",
    "\n",
    "sim_files1 = os.listdir(sims_folder)\n",
    "sim_files2 = []\n",
    "real_files = []\n",
    "for f in sim_files1:\n",
    "    if f[0] == '.':\n",
    "        continue\n",
    "\n",
    "    splits = f.split('_')\n",
    "    real_file = '_'.join(splits[1:])\n",
    "    sim_files2.append(os.path.join(sims_folder, f))\n",
    "    real_files.append(os.path.join(reals_folder, real_file))\n"
   ]
  },
  {
   "cell_type": "code",
   "execution_count": 74,
   "metadata": {},
   "outputs": [],
   "source": [
    "def preprocess_images(im_sim, im_real):\n",
    "    [sim,] = tf.py_function(cn.preprocess_image,[im_sim,],[tf.float32,])\n",
    "    [real,] = tf.py_function(cn.preprocess_image,[im_real,],[tf.float32,])\n",
    "    #sim = tf.squeeze(sim)\n",
    "    #real = tf.squeeze(real)\n",
    "    return sim, real\n"
   ]
  },
  {
   "cell_type": "code",
   "execution_count": 75,
   "metadata": {},
   "outputs": [],
   "source": [
    "\n",
    "sim_ds = tf.data.Dataset.from_tensor_slices((sim_files2, real_files))\n",
    "#real_ds = tf.data.Dataset.from_tensor_slices(real_files)\n",
    "\n",
    "sim_ds = sim_ds.map(preprocess_images, num_parallel_calls=tf.data.AUTOTUNE)\n",
    "#real_ds = real_ds.map(preprocess_image, num_parallel_calls=tf.data.AUTOTUNE)\n",
    "\n",
    "sim_ds = sim_ds.batch(batch_size, drop_remainder=False)\n",
    "#real_ds = real_ds.batch(batch_size, drop_remainder=False)"
   ]
  },
  {
   "cell_type": "code",
   "execution_count": 283,
   "metadata": {},
   "outputs": [],
   "source": [
    "num_elem = np.product(image_shape)\n",
    "img_input = layers.Input(shape=image_shape + (1,)) # Channels last.\n",
    "#x = layers.ZeroPadding3D(padding=(5, 10, 10), name='psf_pad')(img_input)\n",
    "x = layers.Conv3D(1, (10,20,20),\n",
    "        strides=(1, 1, 1),\n",
    "        padding='same',\n",
    "        kernel_initializer='he_normal',\n",
    "        name='psf')(img_input)\n",
    "\n",
    "#x = layers.ZeroPadding3D(padding=(3, 3, 3), name='conv1_pad')(x)\n",
    "\"\"\"\n",
    "x = layers.Conv3D(64, (3,3,3),\n",
    "        strides=(1, 1, 1),\n",
    "        padding='same',\n",
    "        kernel_initializer='he_normal',\n",
    "        name='conv1')(x)\n",
    "\"\"\"\n",
    "class NoiseLayer(tf.keras.layers.Layer):\n",
    "    def __init__(self):\n",
    "        super(NoiseLayer, self).__init__()\n",
    "\t\t\n",
    "    def call(self, x_input, training=False):\n",
    "        x = tf.keras.layers.GaussianNoise(0.1)(x_input)\n",
    "        return x\n",
    "x = NoiseLayer()(x)\n",
    "#x = layers.Flatten()(x)\n",
    "#x = layers.Dense(num_elem, activation='linear')(x)\n",
    "output = tf.math.reduce_sum(x, axis=-1)\n",
    "#x = tf.keras.backend.sum(x, axis=-1)\n",
    "#x = layers.Reshape(tuple([64]) + image_shape)(x)\n",
    "model = Model(img_input, output, name=\"Embedding\")"
   ]
  },
  {
   "cell_type": "code",
   "execution_count": 81,
   "metadata": {},
   "outputs": [],
   "source": [
    "sim_ds = tf.data.Dataset.from_tensor_slices((sim_files2, real_files))\n",
    "\n",
    "sim_ds = sim_ds.map(preprocess_images, num_parallel_calls=tf.data.AUTOTUNE)\n",
    "\n",
    "sim_ds = sim_ds.batch(batch_size, drop_remainder=False)\n"
   ]
  },
  {
   "cell_type": "code",
   "execution_count": 100,
   "metadata": {},
   "outputs": [
    {
     "name": "stdout",
     "output_type": "stream",
     "text": [
      "Epoch 1/3\n",
      "1/1 [==============================] - 27s 27s/step - loss: 0.0267\n",
      "Epoch 2/3\n",
      "1/1 [==============================] - 29s 29s/step - loss: 0.0172\n",
      "Epoch 3/3\n",
      "1/1 [==============================] - 29s 29s/step - loss: 0.0114\n"
     ]
    },
    {
     "data": {
      "text/plain": [
       "<tensorflow.python.keras.callbacks.History at 0x181de2a30>"
      ]
     },
     "execution_count": 100,
     "metadata": {},
     "output_type": "execute_result"
    }
   ],
   "source": [
    "#dataset = tf.data.Dataset.zip((sim_ds, real_ds))\n",
    "model.compile(optimizer=tf.keras.optimizers.Adam(0.001), loss=tf.keras.losses.mean_squared_error)\n",
    "model.fit(sim_ds, epochs=3)"
   ]
  },
  {
   "cell_type": "code",
   "execution_count": 145,
   "metadata": {},
   "outputs": [
    {
     "name": "stdout",
     "output_type": "stream",
     "text": [
      "Epoch 1/3\n",
      "1/1 [==============================] - 28s 28s/step - loss: 0.0091\n",
      "Epoch 2/3\n",
      "1/1 [==============================] - 30s 30s/step - loss: 0.0094\n",
      "Epoch 3/3\n",
      "1/1 [==============================] - 30s 30s/step - loss: 0.0111\n"
     ]
    },
    {
     "data": {
      "text/plain": [
       "<tensorflow.python.keras.callbacks.History at 0x181ada460>"
      ]
     },
     "execution_count": 145,
     "metadata": {},
     "output_type": "execute_result"
    }
   ],
   "source": [
    "model.fit(sim_ds, epochs=3)"
   ]
  },
  {
   "cell_type": "code",
   "execution_count": 85,
   "metadata": {},
   "outputs": [],
   "source": [
    "sims = []\n",
    "for i in sim_ds:\n",
    "    sims.append(i)"
   ]
  },
  {
   "cell_type": "code",
   "execution_count": 101,
   "metadata": {},
   "outputs": [
    {
     "data": {
      "application/vnd.jupyter.widget-view+json": {
       "model_id": "f999cd188c704a48833512b823aca56d",
       "version_major": 2,
       "version_minor": 0
      },
      "text/plain": [
       "interactive(children=(Dropdown(description='Color', index=10, options=('Reds', 'plasma', 'gray', 'magma', 'inf…"
      ]
     },
     "metadata": {},
     "output_type": "display_data"
    }
   ],
   "source": [
    "t = model(np.expand_dims(sims[0][0][1], axis=0))\n",
    "\n",
    "fm.viewer(t.numpy() * 1000, 5)"
   ]
  },
  {
   "cell_type": "code",
   "execution_count": 2,
   "metadata": {},
   "outputs": [
    {
     "name": "stderr",
     "output_type": "stream",
     "text": [
      "2022-05-01 15:49:22.524904: I tensorflow/core/platform/cpu_feature_guard.cc:142] This TensorFlow binary is optimized with oneAPI Deep Neural Network Library (oneDNN) to use the following CPU instructions in performance-critical operations:  SSE4.1 SSE4.2 AVX AVX2 AVX512F FMA\n",
      "To enable them in other operations, rebuild TensorFlow with the appropriate compiler flags.\n"
     ]
    },
    {
     "data": {
      "application/vnd.jupyter.widget-view+json": {
       "model_id": "6aacc6a6e08b4f3384e33735b2933883",
       "version_major": 2,
       "version_minor": 0
      },
      "text/plain": [
       "interactive(children=(Dropdown(description='Color', index=9, options=('Gators', 'prism', 'inferno', 'Greens', …"
      ]
     },
     "metadata": {},
     "output_type": "display_data"
    }
   ],
   "source": [
    "l = model.layers[1]\n",
    "w = l.get_weights()[0]\n",
    "w = np.squeeze(w)\n",
    "fm.viewer(w * 1_000, 5)"
   ]
  },
  {
   "cell_type": "code",
   "execution_count": 146,
   "metadata": {},
   "outputs": [
    {
     "data": {
      "application/vnd.jupyter.widget-view+json": {
       "model_id": "824fd0fac02f48e185ded9447a40ae3b",
       "version_major": 2,
       "version_minor": 0
      },
      "text/plain": [
       "interactive(children=(Dropdown(description='Color', index=10, options=('Reds', 'plasma', 'gray', 'magma', 'inf…"
      ]
     },
     "metadata": {},
     "output_type": "display_data"
    }
   ],
   "source": [
    "w = l.get_weights()[0]\n",
    "w = np.squeeze(w)\n",
    "fm.viewer(w * 1_000, 5)"
   ]
  },
  {
   "cell_type": "code",
   "execution_count": null,
   "metadata": {},
   "outputs": [],
   "source": []
  },
  {
   "cell_type": "code",
   "execution_count": 314,
   "metadata": {},
   "outputs": [
    {
     "name": "stdout",
     "output_type": "stream",
     "text": [
      "(21, 25, 25)\n",
      "(8, 15, 15)\n"
     ]
    }
   ],
   "source": [
    "def norm(x):\n",
    "    x_nz = x[x > 0]\n",
    "    #x_nz = x\n",
    "    #return x\n",
    "    return (x - np.min(x_nz)) / (np.max(x_nz) - np.min(x_nz))\n",
    "\n",
    "def get_real(simfile):\n",
    "    f = simfile.split('/')[-1]\n",
    "    return os.path.join('/Users/michaelstadler/Bioinformatics/Projects/rpb1/data/blackbox/reals/', f[4:])\n",
    "\n",
    "kernel = fm.load_pickle('/Users/michaelstadler/Bioinformatics/Projects/rpb1/PSFs/psf_20220210_21x25x25pixels_100x50x50voxel.pkl')\n",
    "print(kernel.shape)\n",
    "kernel = ndi.zoom(kernel, (100/250, 50/85, 50/85))\n",
    "print(kernel.shape)\n",
    "kernel = kernel / np.sum(kernel)"
   ]
  },
  {
   "cell_type": "code",
   "execution_count": 319,
   "metadata": {},
   "outputs": [],
   "source": [
    "def norm(x):\n",
    "    x_nz = x[x > 0]\n",
    "    #x_nz = x\n",
    "    #return x\n",
    "    return (x - np.min(x_nz)) / (np.max(x_nz) - np.min(x_nz))\n",
    "\n",
    "def get_real(simfile):\n",
    "    f = simfile.split('/')[-1]\n",
    "    return os.path.join('/Users/michaelstadler/Bioinformatics/Projects/rpb1/data/blackbox/reals/', f[4:])\n",
    "\n",
    "kernel = fm.load_pickle('/Users/michaelstadler/Bioinformatics/Projects/rpb1/PSFs/psf_20220210_21x25x25pixels_100x50x50voxel.pkl')\n",
    "print(kernel.shape)\n",
    "kernel = ndi.zoom(kernel, (100/250, 50/85, 50/85))\n",
    "print(kernel.shape)\n",
    "kernel = kernel / np.sum(kernel)\n",
    "\n",
    "simfile = '/Users/michaelstadler/Bioinformatics/Projects/rpb1/data/blackbox/sims/had_zld-cterm_20220321-zld-cterm-gfp-em1-01_10_3.pkl'\n",
    "sim = fm.load_pickle(simfile)\n",
    "real = fm.load_pickle(get_real(simfile))\n",
    "\n",
    "mask = ndi.morphology.binary_erosion(np.where(real > 0, 1, 0), structure=np.ones((1,7,7)))\n",
    "real = norm(real)\n",
    "\n",
    "cv = norm(ndi.convolve(sim, kernel))\n",
    "res = cv - real\n",
    "res = res[mask > 0]"
   ]
  },
  {
   "cell_type": "code",
   "execution_count": 320,
   "metadata": {},
   "outputs": [],
   "source": [
    "cv = norm(ndi.convolve(sim, kernel))\n",
    "res = cv - real\n",
    "res = res[mask > 0]\n"
   ]
  },
  {
   "cell_type": "code",
   "execution_count": 321,
   "metadata": {},
   "outputs": [
    {
     "data": {
      "image/png": "[encoded data removed]",
      "text/plain": [
       "<Figure size 432x288 with 1 Axes>"
      ]
     },
     "metadata": {
      "needs_background": "light"
     },
     "output_type": "display_data"
    }
   ],
   "source": [
    "plt.hist(res.flatten(), bins=100);"
   ]
  },
  {
   "cell_type": "code",
   "execution_count": 322,
   "metadata": {},
   "outputs": [
    {
     "data": {
      "text/plain": [
       "<matplotlib.collections.PathCollection at 0x180fbca60>"
      ]
     },
     "execution_count": 322,
     "metadata": {},
     "output_type": "execute_result"
    },
    {
     "data": {
      "image/png": "[encoded data removed]",
      "text/plain": [
       "<Figure size 432x288 with 1 Axes>"
      ]
     },
     "metadata": {
      "needs_background": "light"
     },
     "output_type": "display_data"
    }
   ],
   "source": [
    "realpix = real[mask > 0]\n",
    "plt.scatter(realpix, res)"
   ]
  },
  {
   "cell_type": "code",
   "execution_count": null,
   "metadata": {},
   "outputs": [],
   "source": []
  },
  {
   "cell_type": "code",
   "execution_count": 235,
   "metadata": {},
   "outputs": [],
   "source": [
    "\n",
    "n = np.random.normal(0, 0.4, size=cv.shape)\n",
    "n = np.where(mask > 0, n, 0)\n",
    "cv = cv + n\n",
    "cv = norm(cv)"
   ]
  },
  {
   "cell_type": "code",
   "execution_count": 236,
   "metadata": {},
   "outputs": [
    {
     "data": {
      "application/vnd.jupyter.widget-view+json": {
       "model_id": "5e19216311414787ba661effe8b96d9c",
       "version_major": 2,
       "version_minor": 0
      },
      "text/plain": [
       "interactive(children=(Dropdown(description='Color', index=10, options=('Reds', 'plasma', 'gray', 'magma', 'inf…"
      ]
     },
     "metadata": {},
     "output_type": "display_data"
    }
   ],
   "source": [
    "sim = fm.load_pickle('/Users/michaelstadler/Bioinformatics/Projects/rpb1/data/blackbox/sims/GUB_zld-cterm_20220321-zld-cterm-gfp-em1-01_0_1.pkl')\n",
    "fm.viewer([cv * 1000, real * 1000],5)"
   ]
  },
  {
   "cell_type": "code",
   "execution_count": 170,
   "metadata": {},
   "outputs": [
    {
     "data": {
      "application/vnd.jupyter.widget-view+json": {
       "model_id": "3e4f5185e3bc4c21b270a8c9313b9bd7",
       "version_major": 2,
       "version_minor": 0
      },
      "text/plain": [
       "interactive(children=(Dropdown(description='Color', index=10, options=('Reds', 'plasma', 'gray', 'magma', 'inf…"
      ]
     },
     "metadata": {},
     "output_type": "display_data"
    }
   ],
   "source": [
    "fm.viewer((cv - real) * 1000, 5)"
   ]
  },
  {
   "cell_type": "code",
   "execution_count": 197,
   "metadata": {},
   "outputs": [],
   "source": [
    "res = real - cv\n",
    "res = res[mask > 0]"
   ]
  },
  {
   "cell_type": "code",
   "execution_count": 198,
   "metadata": {},
   "outputs": [
    {
     "data": {
      "image/png": "[encoded data removed]",
      "text/plain": [
       "<Figure size 432x288 with 1 Axes>"
      ]
     },
     "metadata": {
      "needs_background": "light"
     },
     "output_type": "display_data"
    }
   ],
   "source": [
    "plt.hist(res, bins=50);"
   ]
  },
  {
   "cell_type": "code",
   "execution_count": 208,
   "metadata": {},
   "outputs": [],
   "source": [
    "import scipy\n",
    "x = scipy.stats.norm(loc=-0.2, scale=0.15)\n",
    "#plt.plot(x)\n"
   ]
  },
  {
   "cell_type": "code",
   "execution_count": 220,
   "metadata": {},
   "outputs": [],
   "source": [
    "n = np.random.normal(0, 0.15, size=(34,100,100))\n",
    "n = n - np.min(n)\n",
    "n = np.where(mask > 0, n, 0)\n"
   ]
  },
  {
   "cell_type": "code",
   "execution_count": 221,
   "metadata": {},
   "outputs": [
    {
     "data": {
      "application/vnd.jupyter.widget-view+json": {
       "model_id": "647144fa9bed4934aa1bb7937fa3a25c",
       "version_major": 2,
       "version_minor": 0
      },
      "text/plain": [
       "interactive(children=(Dropdown(description='Color', index=10, options=('Reds', 'plasma', 'gray', 'magma', 'inf…"
      ]
     },
     "metadata": {},
     "output_type": "display_data"
    }
   ],
   "source": [
    "fm.viewer(n * 1000, 5)"
   ]
  },
  {
   "cell_type": "code",
   "execution_count": null,
   "metadata": {},
   "outputs": [],
   "source": []
  },
  {
   "cell_type": "code",
   "execution_count": null,
   "metadata": {},
   "outputs": [],
   "source": []
  },
  {
   "cell_type": "code",
   "execution_count": null,
   "metadata": {},
   "outputs": [],
   "source": []
  },
  {
   "cell_type": "code",
   "execution_count": null,
   "metadata": {},
   "outputs": [],
   "source": []
  },
  {
   "cell_type": "code",
   "execution_count": null,
   "metadata": {},
   "outputs": [],
   "source": []
  },
  {
   "cell_type": "code",
   "execution_count": null,
   "metadata": {},
   "outputs": [],
   "source": []
  },
  {
   "cell_type": "code",
   "execution_count": null,
   "metadata": {},
   "outputs": [],
   "source": []
  },
  {
   "cell_type": "code",
   "execution_count": 345,
   "metadata": {},
   "outputs": [
    {
     "data": {
      "application/vnd.jupyter.widget-view+json": {
       "model_id": "e75b3eff80bb4b62bfee9e9d6e102cb9",
       "version_major": 2,
       "version_minor": 0
      },
      "text/plain": [
       "interactive(children=(Dropdown(description='Color', index=10, options=('Reds', 'plasma', 'gray', 'magma', 'inf…"
      ]
     },
     "metadata": {},
     "output_type": "display_data"
    }
   ],
   "source": [
    "model = tf.keras.models.load_model('/Users/michaelstadler/Bioinformatics/Projects/rpb1/results/trained_models/blackbox')\n",
    "\n",
    "im = fm.load_pickle('/Users/michaelstadler/Bioinformatics/Projects/rpb1/data/blackbox/sims/Jpb_zld-cterm_20220321-zld-cterm-gfp-em1-01_0_5.pkl')\n",
    "im[15:18,45:55,45:55] = 0.6\n",
    "x = np.expand_dims(im, axis=-1)\n",
    "x = np.expand_dims(x, axis=0)\n",
    "\n",
    "m = model(x)\n",
    "\n",
    "fm.viewer(m.numpy() * 1000, 5)"
   ]
  },
  {
   "cell_type": "code",
   "execution_count": 3,
   "metadata": {},
   "outputs": [
    {
     "ename": "NameError",
     "evalue": "name 'tf' is not defined",
     "output_type": "error",
     "traceback": [
      "\u001b[0;31m---------------------------------------------------------------------------\u001b[0m",
      "\u001b[0;31mNameError\u001b[0m                                 Traceback (most recent call last)",
      "\u001b[0;32m/var/folders/46/dftvy0sd0jv10kyqlkqc2d8m0000gn/T/ipykernel_682/2420699646.py\u001b[0m in \u001b[0;36m<module>\u001b[0;34m\u001b[0m\n\u001b[0;32m----> 1\u001b[0;31m \u001b[0mmodel\u001b[0m \u001b[0;34m=\u001b[0m \u001b[0mtf\u001b[0m\u001b[0;34m.\u001b[0m\u001b[0mkeras\u001b[0m\u001b[0;34m.\u001b[0m\u001b[0mmodels\u001b[0m\u001b[0;34m.\u001b[0m\u001b[0mload_model\u001b[0m\u001b[0;34m(\u001b[0m\u001b[0;34m'/Users/michaelstadler/Bioinformatics/Projects/rpb1/results/trained_models/blackbox2'\u001b[0m\u001b[0;34m)\u001b[0m\u001b[0;34m\u001b[0m\u001b[0;34m\u001b[0m\u001b[0m\n\u001b[0m\u001b[1;32m      2\u001b[0m \u001b[0;34m\u001b[0m\u001b[0m\n\u001b[1;32m      3\u001b[0m \u001b[0mim\u001b[0m \u001b[0;34m=\u001b[0m \u001b[0mfm\u001b[0m\u001b[0;34m.\u001b[0m\u001b[0mload_pickle\u001b[0m\u001b[0;34m(\u001b[0m\u001b[0;34m'/Users/michaelstadler/Bioinformatics/Projects/rpb1/data/blackbox/sims/Jpb_zld-cterm_20220321-zld-cterm-gfp-em1-01_0_5.pkl'\u001b[0m\u001b[0;34m)\u001b[0m\u001b[0;34m\u001b[0m\u001b[0;34m\u001b[0m\u001b[0m\n\u001b[1;32m      4\u001b[0m \u001b[0mim\u001b[0m\u001b[0;34m[\u001b[0m\u001b[0;36m15\u001b[0m\u001b[0;34m:\u001b[0m\u001b[0;36m18\u001b[0m\u001b[0;34m,\u001b[0m\u001b[0;36m45\u001b[0m\u001b[0;34m:\u001b[0m\u001b[0;36m55\u001b[0m\u001b[0;34m,\u001b[0m\u001b[0;36m45\u001b[0m\u001b[0;34m:\u001b[0m\u001b[0;36m55\u001b[0m\u001b[0;34m]\u001b[0m \u001b[0;34m=\u001b[0m \u001b[0;36m0.6\u001b[0m\u001b[0;34m\u001b[0m\u001b[0;34m\u001b[0m\u001b[0m\n\u001b[1;32m      5\u001b[0m \u001b[0mx\u001b[0m \u001b[0;34m=\u001b[0m \u001b[0mnp\u001b[0m\u001b[0;34m.\u001b[0m\u001b[0mexpand_dims\u001b[0m\u001b[0;34m(\u001b[0m\u001b[0mim\u001b[0m\u001b[0;34m,\u001b[0m \u001b[0maxis\u001b[0m\u001b[0;34m=\u001b[0m\u001b[0;34m-\u001b[0m\u001b[0;36m1\u001b[0m\u001b[0;34m)\u001b[0m\u001b[0;34m\u001b[0m\u001b[0;34m\u001b[0m\u001b[0m\n",
      "\u001b[0;31mNameError\u001b[0m: name 'tf' is not defined"
     ]
    }
   ],
   "source": [
    "model = tf.keras.models.load_model('/Users/michaelstadler/Bioinformatics/Projects/rpb1/results/trained_models/blackbox2')\n",
    "\n",
    "im = fm.load_pickle('/Users/michaelstadler/Bioinformatics/Projects/rpb1/data/blackbox/sims/Jpb_zld-cterm_20220321-zld-cterm-gfp-em1-01_0_5.pkl')\n",
    "im[15:18,45:55,45:55] = 0.6\n",
    "x = np.expand_dims(im, axis=-1)\n",
    "x = np.expand_dims(x, axis=0)\n",
    "\n",
    "m = model(x)\n",
    "\n",
    "fm.viewer(m.numpy() * 1000, 5)"
   ]
  },
  {
   "cell_type": "code",
   "execution_count": 344,
   "metadata": {},
   "outputs": [
    {
     "data": {
      "application/vnd.jupyter.widget-view+json": {
       "model_id": "261364b7023546cf8bf7a3fb3f6c53b5",
       "version_major": 2,
       "version_minor": 0
      },
      "text/plain": [
       "interactive(children=(Dropdown(description='Color', index=10, options=('Reds', 'plasma', 'gray', 'magma', 'inf…"
      ]
     },
     "metadata": {},
     "output_type": "display_data"
    }
   ],
   "source": [
    "model = tf.keras.models.load_model('/Users/michaelstadler/Bioinformatics/Projects/rpb1/results/trained_models/blackbox3')\n",
    "\n",
    "im = fm.load_pickle('/Users/michaelstadler/Bioinformatics/Projects/rpb1/data/blackbox/sims/Jpb_zld-cterm_20220321-zld-cterm-gfp-em1-01_0_5.pkl')\n",
    "im[15:18,45:55,45:55] = 0.6\n",
    "\n",
    "x = np.expand_dims(im, axis=-1)\n",
    "x = np.expand_dims(x, axis=0)\n",
    "\n",
    "m = model(x)\n",
    "\n",
    "fm.viewer(m.numpy() * 1000, 5)"
   ]
  },
  {
   "cell_type": "markdown",
   "metadata": {},
   "source": []
  },
  {
   "cell_type": "markdown",
   "metadata": {},
   "source": [
    "Automate: "
   ]
  },
  {
   "cell_type": "code",
   "execution_count": 5,
   "metadata": {},
   "outputs": [],
   "source": [
    "kernel = fm.load_pickle('/Users/michaelstadler/Bioinformatics/Projects/rpb1/PSFs/psf_20220210_21x25x25pixels_100x50x50voxel.pkl')\n",
    "kernel = ndi.zoom(kernel, (100/250, 50/85, 50/85))\n",
    "kernel = kernel / np.sum(kernel)\n",
    "\n",
    "def conv_psf(im):\n",
    "    return ndi.convolve(im, kernel)"
   ]
  },
  {
   "cell_type": "code",
   "execution_count": 6,
   "metadata": {},
   "outputs": [
    {
     "name": "stderr",
     "output_type": "stream",
     "text": [
      "2022-04-29 10:40:33.118005: I tensorflow/core/platform/cpu_feature_guard.cc:142] This TensorFlow binary is optimized with oneAPI Deep Neural Network Library (oneDNN) to use the following CPU instructions in performance-critical operations:  SSE4.1 SSE4.2 AVX AVX2 AVX512F FMA\n",
      "To enable them in other operations, rebuild TensorFlow with the appropriate compiler flags.\n"
     ]
    }
   ],
   "source": [
    "model1 = tf.keras.models.load_model('/Users/michaelstadler/Bioinformatics/Projects/rpb1/results/trained_models/blackbox')\n",
    "model2 = tf.keras.models.load_model('/Users/michaelstadler/Bioinformatics/Projects/rpb1/results/trained_models/blackbox2')\n",
    "\n",
    "def conv_model(im, model):\n",
    "    x = np.expand_dims(im, axis=-1)\n",
    "    x = np.expand_dims(x, axis=0)\n",
    "    m = model(x).numpy()\n",
    "    return m[0]\n",
    "\n",
    "conv_model1 = lambda x: conv_model(x, model1)\n",
    "conv_model2 = lambda x: conv_model(x, model2)\n",
    "\n",
    "def test(x):\n",
    "    return x"
   ]
  },
  {
   "cell_type": "code",
   "execution_count": 7,
   "metadata": {},
   "outputs": [],
   "source": [
    "def get_diff(simfile, conv_func):\n",
    "    def norm(x, mask):\n",
    "        vals = x[mask]\n",
    "        return x / np.mean(vals)\n",
    "        return (x - np.min(vals)) / (np.max(vals) - np.min(vals))\n",
    "\n",
    "    def get_real(simfile):\n",
    "        f = simfile.split('/')[-1]\n",
    "        return os.path.join('/Users/michaelstadler/Bioinformatics/Projects/rpb1/data/blackbox/reals/', f[4:])\n",
    "\n",
    "    sim = fm.load_pickle(simfile)\n",
    "    real = fm.load_pickle(get_real(simfile))\n",
    "\n",
    "    mask = ndi.morphology.binary_erosion(np.where(real > 0, 1, 0), structure=np.ones((1,7,7)))\n",
    "    real = norm(real, mask)\n",
    "\n",
    "    cv = norm(conv_func(sim), mask)\n",
    "    res = cv - real\n",
    "    res = res[mask > 0]\n",
    "    realpix = real[mask > 0]\n",
    "    return cv, real, mask\n",
    "\n"
   ]
  },
  {
   "cell_type": "code",
   "execution_count": 8,
   "metadata": {},
   "outputs": [],
   "source": [
    "res0 = get_diff('/Users/michaelstadler/Bioinformatics/Projects/rpb1/data/blackbox/sims/gPD_zld-cterm_20220321-zld-cterm-gfp-em1-01_5_5.pkl', conv_psf)\n",
    "res1 = get_diff('/Users/michaelstadler/Bioinformatics/Projects/rpb1/data/blackbox/sims/gPD_zld-cterm_20220321-zld-cterm-gfp-em1-01_5_5.pkl', conv_model1)\n",
    "res2 = get_diff('/Users/michaelstadler/Bioinformatics/Projects/rpb1/data/blackbox/sims/gPD_zld-cterm_20220321-zld-cterm-gfp-em1-01_5_5.pkl', conv_model2)"
   ]
  },
  {
   "cell_type": "code",
   "execution_count": 20,
   "metadata": {},
   "outputs": [
    {
     "data": {
      "application/vnd.jupyter.widget-view+json": {
       "model_id": "72e58cb9ea5f474eb75aa2b3cd6d3a87",
       "version_major": 2,
       "version_minor": 0
      },
      "text/plain": [
       "interactive(children=(Dropdown(description='Color', index=2, options=('prism', 'viridis', 'cividis', 'gray', '…"
      ]
     },
     "metadata": {},
     "output_type": "display_data"
    }
   ],
   "source": [
    "im0 = (res0[1] - res0[0]) * 1000\n",
    "im1 = (res1[1] - res1[0]) * 1000\n",
    "im2 = (res2[1] - res2[0]) * 1000\n",
    "g = np.random.normal(np.mean(im0), 300, size=(34,100,100)) * 2\n",
    "g = np.where(res0[2], g, 0)\n",
    "\n",
    "fm.viewer([im0, im1, im2, g], 5)"
   ]
  },
  {
   "cell_type": "code",
   "execution_count": 403,
   "metadata": {},
   "outputs": [
    {
     "data": {
      "image/png": "[encoded data removed]",
      "text/plain": [
       "<Figure size 432x288 with 1 Axes>"
      ]
     },
     "metadata": {
      "needs_background": "light"
     },
     "output_type": "display_data"
    }
   ],
   "source": [
    "plt.hist(res0[1], bins=100, alpha=0.3);\n",
    "plt.hist(res1[1], bins=100, alpha=0.3);\n",
    "plt.hist(res2[1], bins=100, alpha=0.3);"
   ]
  },
  {
   "cell_type": "code",
   "execution_count": 404,
   "metadata": {},
   "outputs": [],
   "source": [
    "im = fm.load_pickle('/Users/michaelstadler/Bioinformatics/Projects/rpb1/data/blackbox/sims/gPD_zld-cterm_20220321-zld-cterm-gfp-em1-01_5_5.pkl')\n",
    "cv0 = conv_psf(im)\n",
    "cv1 = conv_model1(im)\n",
    "cv2 = conv_model2(im)\n",
    "real = fm.load_pickle('/Users/michaelstadler/Bioinformatics/Projects/rpb1/data/blackbox/reals/zld-cterm_20220321-zld-cterm-gfp-em1-01_5_5.pkl')"
   ]
  },
  {
   "cell_type": "code",
   "execution_count": 408,
   "metadata": {},
   "outputs": [
    {
     "data": {
      "application/vnd.jupyter.widget-view+json": {
       "model_id": "191bc130c4e94124af071a4c0c17c251",
       "version_major": 2,
       "version_minor": 0
      },
      "text/plain": [
       "interactive(children=(Dropdown(description='Color', index=10, options=('Reds', 'plasma', 'gray', 'magma', 'inf…"
      ]
     },
     "metadata": {},
     "output_type": "display_data"
    }
   ],
   "source": [
    "fm.viewer([cv1 * 1000, cv2 * 1000, cv0 * 1000, real / 30], 5)"
   ]
  },
  {
   "cell_type": "code",
   "execution_count": null,
   "metadata": {},
   "outputs": [],
   "source": []
  },
  {
   "cell_type": "markdown",
   "metadata": {},
   "source": [
    "## Conclusions\n",
    "\n",
    "I'm still a little confused about all this. The basic situation is that I'm dividing the process of converting true images (fluorophore distributions) into images into two parts. The first part is convolution, the second is adding noise. This makes sense and it's what I've been doing for a while.\n",
    "\n",
    "I've now developed two ways to do the convolution. The first is to use a bead-measured PSF for the microscope to do the convolution. The strength here is we are measuring something off the actual imaging system. The weakness is that we *know* we are measuring the WRONG thing: the real PSF will be different within the sample and will vary with depth.\n",
    "\n",
    "The second idea is to learn the convolution part using some light ML. For this, we basically need some true images, some real images, and we let the \"black box\" learn how to convert one to the other. It's not at all clear that we have anything that fits this bill. My stab at it was to assume that C-terminal Zelda was uniformly and randomly distributed. For training data, I simulated a large number of images, each matched to a real nucleus, with different random distributions of fluores according to measured concentrations. I learned the convolution different ways, once using a single convolution layer and filter to learn a PSF, and then two different architectures using multi-filter convolution layers. In the first (model1) I did a 64 filter 3x3 layer and simply summed the outputs to produce an image. In the second (model2) I had the same layer feed to a 1x1 1-filter layer, which should have produced a weighted average of the 64 filters, which seemed like what I wanted. This model didn't do very well: it just learned to find where there is sigmal and produce a uniform signal. In fairness, this could be a consequence of bad training data. Maybe that is what a good algorithm will learn from using only uniform inputs.\n",
    "\n",
    "I also thought some about what these black boxes will learn. Because each random distribution will be unique and not actually match the real image, and because I don't think it's capable of learning to produce random noise, I think I expect it to learn some kind of average, whatever will reduce the residual to the minimum. That residual is the remaining noise component.\n",
    "\n",
    "So I ended up trying three different convolutions: measured PSF, blackbox 1 and blackbox 2. I think used these to convolve simulated images and look at the residual after subtracting from real images (* there's some issue about how best to normalize images for comparison but I think I have it ok). The confounding this is that the histograms of the residuals look almost identical for all three approaches.\n",
    "\n",
    "This is quite surprising. The blackbox convolutions are much \"blurrier\" (the convolution kernel is much wider and flatter than the sharper PSF) and the convolved images from the real PSF are much sharper. Yet the overall pattern of the residuals are very similar. This could be obscuring spatial correlations, and indeed it is, to some degree. However, looking at the residual images, I think that gaussian noise is probably a fairly decent approximation of this residual.\n",
    "\n",
    "So what to do?\n",
    "\n",
    "I think for now I'm going to let this rest. I will try using the learned convolution kernel in some other simulations and compare it to the measured PSF, using a gaussian noise model. This is admittedly close to being back where we started, but I think much was learned."
   ]
  },
  {
   "cell_type": "markdown",
   "metadata": {},
   "source": []
  }
 ],
 "metadata": {
  "interpreter": {
   "hash": "e372816e4ed8f4776be7691c42762f9e24664f8c81a636e19b7b5da78d6a9ebf"
  },
  "kernelspec": {
   "display_name": "tf2",
   "language": "python",
   "name": "python3"
  },
  "language_info": {
   "codemirror_mode": {
    "name": "ipython",
    "version": 3
   },
   "file_extension": ".py",
   "mimetype": "text/x-python",
   "name": "python",
   "nbconvert_exporter": "python",
   "pygments_lexer": "ipython3",
   "version": "3.9.7"
  },
  "orig_nbformat": 4
 },
 "nbformat": 4,
 "nbformat_minor": 2
}
