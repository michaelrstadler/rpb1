{
 "cells": [
  {
   "cell_type": "code",
   "execution_count": 1,
   "metadata": {},
   "outputs": [],
   "source": [
    "from importlib import reload\n",
    "import flymovie as fm\n",
    "from flymovie.simnuc import Sim\n",
    "import matplotlib.pyplot as plt\n",
    "import numpy as np\n",
    "import os\n",
    "import pickle\n",
    "from importlib import reload\n",
    "import scipy.ndimage as ndi\n",
    "import skimage as ski\n",
    "%load_ext autoreload\n",
    "%autoreload 2"
   ]
  },
  {
   "cell_type": "code",
   "execution_count": 55,
   "metadata": {},
   "outputs": [],
   "source": [
    "#from skimage import regionprops\n",
    "def extract_nuclei(stack, lmask, box_dims, sample_name, stack_name, outfolder):\n",
    "    def inbounds(im_shape, halflens, centroid):\n",
    "        for dim in [1,2]:\n",
    "            if centroid[dim] - halflens[dim] < 0:\n",
    "                return False\n",
    "            if centroid[dim] + halflens[dim] > im_shape[dim]:\n",
    "                return False\n",
    "        return True\n",
    "    \n",
    "    def get_box(stack, box_halflengths, box_dims, centroid, z):\n",
    "        box = stack[\n",
    "                    z:(z + box_dims[0]),\n",
    "                    (centroid[1] - box_halflengths[1]):(centroid[1] + box_halflengths[1]),\n",
    "                    (centroid[2] - box_halflengths[2]):(centroid[2] + box_halflengths[2])\n",
    "                ]\n",
    "        return box\n",
    "\n",
    "    regions = ski.measure.regionprops(lmask)\n",
    "    box_halflengths = (\n",
    "            int(box_dims[0] / 2),\n",
    "            int(box_dims[1] / 2),\n",
    "            int(box_dims[2] / 2), \n",
    "        )\n",
    "    count = 0\n",
    "    filepaths = []\n",
    "    ims = []\n",
    "    for region in regions:\n",
    "        centroid = ([round(x) for x in region.centroid])\n",
    "        if inbounds(lmask.shape, box_halflengths, centroid):\n",
    "            for z in range(lmask.shape[0] - box_dims[0]):\n",
    "                outfilepath = os.path.join(outfolder, '_'.join([sample_name, stack_name, str(count), str(z)]) + '.pkl')\n",
    "                im_box = get_box(stack, box_halflengths, box_dims, centroid, z)\n",
    "                lmask_box = get_box(lmask, box_halflengths, box_dims, centroid, z)\n",
    "                im_box = np.where(lmask_box == region.label, im_box, 0)\n",
    "                filepaths.append(outfilepath)\n",
    "                ims.append(im_box)\n",
    "            count += 1\n",
    "    \n",
    "    return ims, filepaths\n",
    "\n",
    "\n",
    "def save_nucs(ims, filepaths, bad_nucs):\n",
    "    for i in range(len(ims)):\n",
    "        if i not in bad_nucs:\n",
    "            with open(filepaths[i], 'wb') as outfile:\n",
    "                pickle.dump(ims[i], outfile)"
   ]
  },
  {
   "cell_type": "code",
   "execution_count": 61,
   "metadata": {},
   "outputs": [
    {
     "data": {
      "application/vnd.jupyter.widget-view+json": {
       "model_id": "6467d320888b4da8ab1c10d154ae5e87",
       "version_major": 2,
       "version_minor": 0
      },
      "text/plain": [
       "interactive(children=(Dropdown(description='Color', index=1, options=('gray_r', 'cividis', 'inferno', 'plasma'…"
      ]
     },
     "metadata": {},
     "output_type": "display_data"
    }
   ],
   "source": [
    "#stack = fm.read_czi('/Volumes/ELIMBIO/2022-03-13/h2b-gfp-em2-13.czi', swapaxes=False)\n",
    "#stack = fm.read_czi('/Volumes/ELIMBIO/2022-03-13/h2b-gfp-em2-14.czi', swapaxes=False)\n",
    "#stack = fm.read_czi('/Volumes/ELIMBIO/2022-03-13/h2b-gfp-em2-15.czi', swapaxes=False)\n",
    "#stack = fm.read_czi('/Volumes/ELIMBIO/2022-03-13/rpb1-gfp-em2-06.czi', swapaxes=False)\n",
    "#stack = fm.read_czi('/Volumes/ELIMBIO/2022-03-13/rpb1-gfp-em2-07.czi', swapaxes=False)\n",
    "#stack = fm.read_czi('/Volumes/ELIMBIO/2022-03-13/rpb1-gfp-em2-09.czi', swapaxes=False)\n",
    "#stack = fm.read_czi('/Volumes/ELIMBIO/2022-03-13/zld-mneon-em1-01.czi', swapaxes=False)\n",
    "#stack = fm.read_czi('/Volumes/ELIMBIO/2022-03-13/zld-mneon-em1-02.czi', swapaxes=False)\n",
    "stack = fm.read_czi('/Volumes/ELIMBIO/2022-03-13/zld-mneon-em1-03.czi', swapaxes=False)\n",
    "lmask = fm.segment_nuclei_3Dstack_rpb1(stack)\n",
    "lmask = fm.labelmask_filter_objsize(lmask, 100, 1e5)\n",
    "fm.viewer(lmask, 5)"
   ]
  },
  {
   "cell_type": "code",
   "execution_count": 62,
   "metadata": {},
   "outputs": [
    {
     "data": {
      "application/vnd.jupyter.widget-view+json": {
       "model_id": "825d7c0ccdbd4289af077e07dced5923",
       "version_major": 2,
       "version_minor": 0
      },
      "text/plain": [
       "interactive(children=(Dropdown(description='Color', index=1, options=('gray_r', 'cividis', 'inferno', 'plasma'…"
      ]
     },
     "metadata": {},
     "output_type": "display_data"
    }
   ],
   "source": [
    "ims, filepaths = extract_nuclei(stack, lmask, (34,100,100), 'zld', 'em1-03', '/Users/michaelstadler/Bioinformatics/Projects/rpb1/data/real_nuclei')\n",
    "fm.viewer(np.array(ims).max(axis=1), 5)"
   ]
  },
  {
   "cell_type": "code",
   "execution_count": 60,
   "metadata": {},
   "outputs": [],
   "source": [
    "bad_nucs = []\n",
    "save_nucs(ims, filepaths, bad_nucs)"
   ]
  },
  {
   "cell_type": "code",
   "execution_count": null,
   "metadata": {},
   "outputs": [],
   "source": []
  }
 ],
 "metadata": {
  "interpreter": {
   "hash": "eca358e5a2f32eca92640d7df176777d47bc005b1d6ea5f309faabbd9462bdfe"
  },
  "kernelspec": {
   "display_name": "Python 3.9.7 ('im2')",
   "language": "python",
   "name": "python3"
  },
  "language_info": {
   "codemirror_mode": {
    "name": "ipython",
    "version": 3
   },
   "file_extension": ".py",
   "mimetype": "text/x-python",
   "name": "python",
   "nbconvert_exporter": "python",
   "pygments_lexer": "ipython3",
   "version": "3.9.7"
  },
  "orig_nbformat": 4
 },
 "nbformat": 4,
 "nbformat_minor": 2
}
