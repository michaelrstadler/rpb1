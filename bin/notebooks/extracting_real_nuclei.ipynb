{
 "cells": [
  {
   "cell_type": "markdown",
   "metadata": {},
   "source": [
    "# Extracting nuclei from 3D image stacks\n",
    "\n",
    "This notebook allows user to load 3D microscopy images, segment nuclei, extract windows around nuclei, perform manual QC, and save them in a format suitable for downstream ML applications.\n",
    "\n",
    "Output files will feature three tags that serve different purposes in forming A-P-N triplets:\n",
    "\n",
    "sampleID: Negative images will have different sampleIDs (example: Zelda, Rpb1-nc12)\n",
    "stackID: Positive images will have the same stackID (example: 20211115-zld-gfp-em1-03)\n",
    "nucID: Positive images will have different nucIDs (for image augmentation purposes; allows multiple images from a single nucleus)\n",
    "\n",
    "Example filename:\n",
    "\n",
    "zld_2021115-zld-gfp-03_nuc1_01.pkl\n",
    "\n",
    "sampleID: zld\n",
    "stack_ID: 2021115-zld-gfp-03\n",
    "nucID: nuc1"
   ]
  },
  {
   "cell_type": "code",
   "execution_count": 1,
   "metadata": {},
   "outputs": [],
   "source": [
    "import flymovie as fm\n",
    "from flymovie.simnuc import Sim\n",
    "import matplotlib.pyplot as plt\n",
    "import numpy as np\n",
    "import os\n",
    "import pickle\n",
    "from importlib import reload\n",
    "import scipy.ndimage as ndi\n",
    "import skimage as ski\n",
    "from importlib import reload\n",
    "%load_ext autoreload\n",
    "%autoreload 2"
   ]
  },
  {
   "cell_type": "code",
   "execution_count": 2,
   "metadata": {},
   "outputs": [],
   "source": [
    "#from skimage import regionprops\n",
    "def extract_nuclei(stack, lmask, box_dims, mask_dil_struct=np.ones((2,10,10))):\n",
    "    def inbounds(im_shape, halflens, centroid):\n",
    "        for dim in [1,2]:\n",
    "            if centroid[dim] - halflens[dim] < 0:\n",
    "                return False\n",
    "            if centroid[dim] + halflens[dim] > im_shape[dim]:\n",
    "                return False\n",
    "        return True\n",
    "    \n",
    "    def get_box(stack, box_halflengths, box_dims, centroid):\n",
    "        box = stack[\n",
    "                    :,\n",
    "                    (centroid[1] - box_halflengths[1]):(centroid[1] + box_halflengths[1]),\n",
    "                    (centroid[2] - box_halflengths[2]):(centroid[2] + box_halflengths[2])\n",
    "                ]\n",
    "        return box\n",
    "\n",
    "    regions = ski.measure.regionprops(lmask)\n",
    "    box_halflengths = (\n",
    "            int(box_dims[0] / 2),\n",
    "            int(box_dims[1] / 2),\n",
    "            int(box_dims[2] / 2), \n",
    "        )\n",
    "    nuc_count = 0\n",
    "    ims = []\n",
    "    for region in regions:\n",
    "        centroid = ([round(x) for x in region.centroid])\n",
    "        if inbounds(lmask.shape, box_halflengths, centroid):\n",
    "            im_box = get_box(stack, box_halflengths, box_dims, centroid)\n",
    "            lmask_box = get_box(lmask, box_halflengths, box_dims, centroid)\n",
    "            mask_box = np.where(lmask_box == region.label, 1, 0)\n",
    "            mask_box = ndi.morphology.binary_dilation(mask_box, structure=mask_dil_struct)\n",
    "            im_box = np.where(mask_box, im_box, 0)\n",
    "            ims.append(im_box)\n",
    "            nuc_count += 1\n",
    "    \n",
    "    return ims\n",
    "\n",
    "\n",
    "def save_nucs(ims, bad_nucs, box_dims, sampleID, stackID, outfolder, z_range=[0]):\n",
    "    def get_center_z(box):\n",
    "        z, i, j = np.where(box > 0)\n",
    "        return round((np.max(z) + np.min(z)) / 2)\n",
    "\n",
    "    saved_count = 0\n",
    "    nucs_saved = {}\n",
    "    for nucID in range(len(ims)):\n",
    "        if nucID not in bad_nucs:\n",
    "            center_z = get_center_z(ims[nucID])\n",
    "            start_z = center_z - int(box_dims[0] / 2)\n",
    "\n",
    "            for z_add in z_range:\n",
    "                z = start_z + z_add\n",
    "                filepath = os.path.join(outfolder, '_'.join([sampleID, stackID, str(nucID), str(z)]) + '.pkl')\n",
    "                im_to_save = ims[nucID][z:(z + box_dims[0])]\n",
    "                if np.array_equal(im_to_save.shape, box_dims):\n",
    "                    saved_count += 1\n",
    "                    nucs_saved[nucID] = 1\n",
    "                    with open(filepath, 'wb') as outfile:\n",
    "                        pickle.dump(im_to_save, outfile)\n",
    "                else:\n",
    "                    pass\n",
    "                    #print('Extracted image is wrong size.')\n",
    "    print('Saved ' + str(saved_count) + ' images from ' + str(len(nucs_saved.keys())) + ' nuclei.')\n"
   ]
  },
  {
   "cell_type": "code",
   "execution_count": 378,
   "metadata": {},
   "outputs": [],
   "source": [
    "box_dims = (34,100,100)\n",
    "sampleID = 'zld-cterm'\n",
    "stackID = '20220313-zld-mneon-em3-03'\n",
    "output_folder = '/Users/michaelstadler/Bioinformatics/Projects/rpb1/data/real_nuclei/set2'\n",
    "stack_file = '/Users/michaelstadler/Desktop/2022-03-13/zld-mneon-em3-03.czi'"
   ]
  },
  {
   "cell_type": "code",
   "execution_count": 379,
   "metadata": {},
   "outputs": [
    {
     "data": {
      "application/vnd.jupyter.widget-view+json": {
       "model_id": "b23d771e267345259589e8b2226321d4",
       "version_major": 2,
       "version_minor": 0
      },
      "text/plain": [
       "interactive(children=(Dropdown(description='Color', options=('cividis', 'gray_r', 'magma', 'Gators', 'viridis'…"
      ]
     },
     "metadata": {},
     "output_type": "display_data"
    }
   ],
   "source": [
    "stack = fm.read_czi(stack_file, swapaxes=False)\n",
    "#stack = stack[4:,:,:]\n",
    "fm.viewer(stack, 8)"
   ]
  },
  {
   "cell_type": "code",
   "execution_count": 380,
   "metadata": {},
   "outputs": [
    {
     "data": {
      "application/vnd.jupyter.widget-view+json": {
       "model_id": "aaa692feb978437993c484da04025454",
       "version_major": 2,
       "version_minor": 0
      },
      "text/plain": [
       "interactive(children=(Dropdown(description='Color', options=('cividis', 'gray_r', 'magma', 'Gators', 'viridis'…"
      ]
     },
     "metadata": {},
     "output_type": "display_data"
    }
   ],
   "source": [
    "# Segment nuclei.\n",
    "lmask = fm.segment_nuclei_3Dstack_rpb1(stack, usemax=False, sigma=4, min_nuc_center_dist=50, display=False)\n",
    "#lmask = fm.labelmask_filter_objsize(lmask, 10_000, 2.5e5)\n",
    "fm.viewer(lmask, 8)"
   ]
  },
  {
   "cell_type": "code",
   "execution_count": 381,
   "metadata": {},
   "outputs": [
    {
     "data": {
      "application/vnd.jupyter.widget-view+json": {
       "model_id": "f1318612c5134adf9b2a0adc7e2a2ad4",
       "version_major": 2,
       "version_minor": 0
      },
      "text/plain": [
       "interactive(children=(Dropdown(description='Color', options=('cividis', 'gray_r', 'magma', 'Gators', 'viridis'…"
      ]
     },
     "metadata": {},
     "output_type": "display_data"
    },
    {
     "data": {
      "application/vnd.jupyter.widget-view+json": {
       "model_id": "ba244fce68d146fb8f212ed24f9309e2",
       "version_major": 2,
       "version_minor": 0
      },
      "text/plain": [
       "interactive(children=(Dropdown(description='Color', options=('cividis', 'gray_r', 'magma', 'Gators', 'viridis'…"
      ]
     },
     "metadata": {},
     "output_type": "display_data"
    }
   ],
   "source": [
    "# Extract nuclei.\n",
    "ims = extract_nuclei(stack, lmask, box_dims, np.ones((1,7,7)))\n",
    "fm.viewer(np.array(ims).max(axis=1), 5)\n",
    "fm.viewer(np.array(ims), 3)"
   ]
  },
  {
   "cell_type": "code",
   "execution_count": 377,
   "metadata": {},
   "outputs": [
    {
     "name": "stdout",
     "output_type": "stream",
     "text": [
      "Saved 24 images from 9 nuclei.\n"
     ]
    }
   ],
   "source": [
    "bad_nucs = [0,1,6]\n",
    "\n",
    "save_nucs(ims, bad_nucs, box_dims, sampleID, stackID, output_folder, z_range=[-2,0,2])"
   ]
  },
  {
   "cell_type": "code",
   "execution_count": null,
   "metadata": {},
   "outputs": [],
   "source": []
  },
  {
   "cell_type": "code",
   "execution_count": 385,
   "metadata": {},
   "outputs": [
    {
     "name": "stdout",
     "output_type": "stream",
     "text": [
      "h2b: 482\n",
      "rpb1: 462\n",
      "bcd: 146\n",
      "zld: 230\n",
      "zld-cterm: 128\n"
     ]
    }
   ],
   "source": [
    "# Count nuclei.\n",
    "\n",
    "folder = '/Users/michaelstadler/Bioinformatics/Projects/rpb1/data/real_nuclei/set2'\n",
    "\n",
    "samples = {}\n",
    "\n",
    "for f in os.listdir(folder):\n",
    "    if f[0] == '.':\n",
    "        continue\n",
    "    splits = f.split('_')\n",
    "    key = '_'.join(splits[1:3])\n",
    "    sample = splits[0]\n",
    "\n",
    "    if sample in samples:\n",
    "        if key not in samples[sample]:\n",
    "            samples[sample][key] = 1\n",
    "    else:\n",
    "        samples[sample] = {}\n",
    "        samples[sample][key] = 1\n",
    "\n",
    "for sample in samples:\n",
    "    print(sample + ': ' + str(len(samples[sample].keys())))"
   ]
  },
  {
   "cell_type": "code",
   "execution_count": null,
   "metadata": {},
   "outputs": [],
   "source": []
  },
  {
   "cell_type": "code",
   "execution_count": null,
   "metadata": {},
   "outputs": [],
   "source": []
  }
 ],
 "metadata": {
  "interpreter": {
   "hash": "eca358e5a2f32eca92640d7df176777d47bc005b1d6ea5f309faabbd9462bdfe"
  },
  "kernelspec": {
   "display_name": "Python 3.9.7 ('im2')",
   "language": "python",
   "name": "python3"
  },
  "language_info": {
   "codemirror_mode": {
    "name": "ipython",
    "version": 3
   },
   "file_extension": ".py",
   "mimetype": "text/x-python",
   "name": "python",
   "nbconvert_exporter": "python",
   "pygments_lexer": "ipython3",
   "version": "3.9.7"
  },
  "orig_nbformat": 4
 },
 "nbformat": 4,
 "nbformat_minor": 2
}
