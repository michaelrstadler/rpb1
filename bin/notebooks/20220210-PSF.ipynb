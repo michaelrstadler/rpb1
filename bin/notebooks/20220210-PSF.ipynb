{
 "cells": [
  {
   "cell_type": "code",
   "execution_count": 9,
   "metadata": {},
   "outputs": [
    {
     "name": "stdout",
     "output_type": "stream",
     "text": [
      "The autoreload extension is already loaded. To reload it, use:\n",
      "  %reload_ext autoreload\n"
     ]
    }
   ],
   "source": [
    "import flymovie as fm\n",
    "import numpy as np\n",
    "import os\n",
    "import scipy.ndimage as ndi\n",
    "from importlib import reload\n",
    "import scipy\n",
    "from skimage.measure import regionprops\n",
    "from flymovie.general_functions import extract_box, stack_normalize_minmax\n",
    "from copy import deepcopy\n",
    "\n",
    "%load_ext autoreload\n",
    "%autoreload 2"
   ]
  },
  {
   "cell_type": "code",
   "execution_count": 34,
   "metadata": {},
   "outputs": [],
   "source": [
    "stack = fm.read_czi('/Users/michaelstadler/Bioinformatics/Projects/rpb1/data/psf/2022-02-09/tetraspeck-field1-100x50.czi', swapaxes=False)\n",
    "\n",
    "def extract_beads(stack, thresh, box_dims):\n",
    "    \"\"\"Extract windows centered at beads.\"\"\"\n",
    "\n",
    "    # Make mask with thresholding, use opening to get rid of small objects, label.\n",
    "    mask = np.where(stack > thresh, 1, 0)\n",
    "    mask = ndi.morphology.binary_opening(mask, structure=np.ones((3,3,3)))\n",
    "\n",
    "    # Strategy: ndi.measurements.center_of_mass finds the center of mass of objects\n",
    "    # in a labelmask. I'm worried that if I use the thresholded mask, subtle\n",
    "    # differences in thresholding might change the center. It would be better\n",
    "    # to determine the center of mass within a nice window around each object. \n",
    "    # To do this, first expand the objects using morphological\n",
    "    # dilation and find the center of mass of these larger objects.\n",
    "\n",
    "    mask = ndi.morphology.binary_dilation(mask, structure=np.ones((4,8,8)))\n",
    "    lmask,_ = ndi.label(mask)\n",
    "    \"\"\"\n",
    "    props = regionprops(lmask)\n",
    "    for id_ in range(0, len(props)):\n",
    "        centroid = [int(x) for x in props[id_].centroid]\n",
    "        sl = ()\n",
    "        for d in range(len(centroid)):\n",
    "            halflen = int(box_dims[d] / 2)\n",
    "            sl = sl + tuple([slice(centroid[d] - halflen, centroid[d] + halflen + 1)])\n",
    "        lmask[sl] = id_\n",
    "    \"\"\"\n",
    "    # Find center of mass for each spot (within window defined above).\n",
    "    centers = ndi.measurements.center_of_mass(stack, lmask, np.arange(1, np.max(lmask) + 1))\n",
    "\n",
    "    boxes = np.ndarray(tuple([0]) + box_dims)\n",
    "    for center in centers:\n",
    "            center = [round(x) for x in center]\n",
    "            box = extract_box(stack, center, box_dims, pad=False)\n",
    "            if not np.array_equal(box.shape, box_dims):\n",
    "                continue\n",
    "            box = stack_normalize_minmax(box)\n",
    "            box = np.expand_dims(box, axis=0)\n",
    "            boxes = np.vstack([boxes, box])\n",
    "    return boxes\n",
    "\n",
    "boxes = extract_beads(stack, 40, (21,21,21))"
   ]
  },
  {
   "cell_type": "code",
   "execution_count": 35,
   "metadata": {},
   "outputs": [
    {
     "data": {
      "application/vnd.jupyter.widget-view+json": {
       "model_id": "4b05927afbb14d55be5658972158dc45",
       "version_major": 2,
       "version_minor": 0
      },
      "text/plain": [
       "interactive(children=(Dropdown(description='Color', index=5, options=('gray', 'inferno', 'Gators', 'plasma', '…"
      ]
     },
     "metadata": {},
     "output_type": "display_data"
    }
   ],
   "source": [
    "fm.viewer(boxes.mean(axis=0) * 1000, 4)"
   ]
  },
  {
   "cell_type": "code",
   "execution_count": null,
   "metadata": {},
   "outputs": [],
   "source": [
    "stack1 = fm.read_czi('/Users/michaelstadler/Bioinformatics/Projects/rpb1/data/psf/2022-02-09/tetraspeck-100x50-field4-1AU-green-01.czi', swapaxes=False)\n",
    "stack2 = fm.read_czi('/Users/michaelstadler/Bioinformatics/Projects/rpb1/data/psf/2022-02-09/tetraspeck-100x50-field5-1AU-green-01.czi', swapaxes=False)\n",
    "\n",
    "stack = [stack1[0], stack1[1], stack2[0], stack2[1], stack2[2], stack2[3], stack2[4]]"
   ]
  },
  {
   "cell_type": "code",
   "execution_count": 5,
   "metadata": {},
   "outputs": [
    {
     "data": {
      "text/plain": [
       "array([[1., 1., 1., 1.],\n",
       "       [1., 1., 1., 1.],\n",
       "       [1., 1., 1., 1.],\n",
       "       [1., 1., 1., 1.]])"
      ]
     },
     "execution_count": 5,
     "metadata": {},
     "output_type": "execute_result"
    }
   ],
   "source": [
    "sl = tuple([slice(0,4), slice(0,4)])\n",
    "np.ones((5,5))[sl]\n"
   ]
  },
  {
   "cell_type": "code",
   "execution_count": null,
   "metadata": {},
   "outputs": [],
   "source": []
  }
 ],
 "metadata": {
  "interpreter": {
   "hash": "eca358e5a2f32eca92640d7df176777d47bc005b1d6ea5f309faabbd9462bdfe"
  },
  "kernelspec": {
   "display_name": "Python 3.9.7 ('im2')",
   "language": "python",
   "name": "python3"
  },
  "language_info": {
   "codemirror_mode": {
    "name": "ipython",
    "version": 3
   },
   "file_extension": ".py",
   "mimetype": "text/x-python",
   "name": "python",
   "nbconvert_exporter": "python",
   "pygments_lexer": "ipython3",
   "version": "3.9.7"
  },
  "orig_nbformat": 4
 },
 "nbformat": 4,
 "nbformat_minor": 2
}
