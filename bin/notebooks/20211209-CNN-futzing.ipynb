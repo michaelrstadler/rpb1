{
 "cells": [
  {
   "cell_type": "markdown",
   "metadata": {},
   "source": [
    "Trying to code up a CNN based on resnet50 from scratch."
   ]
  },
  {
   "cell_type": "code",
   "execution_count": 2,
   "metadata": {},
   "outputs": [
    {
     "name": "stdout",
     "output_type": "stream",
     "text": [
      "The autoreload extension is already loaded. To reload it, use:\n",
      "  %reload_ext autoreload\n"
     ]
    }
   ],
   "source": [
    "from importlib import reload\n",
    "import flymovie as fm\n",
    "import cnn_models.siamese_cnn as cn\n",
    "import matplotlib.pyplot as plt\n",
    "import numpy as np\n",
    "import os\n",
    "import random\n",
    "import pickle\n",
    "import tensorflow as tf\n",
    "from pathlib import Path\n",
    "\n",
    "from tensorflow.keras import applications\n",
    "from tensorflow.keras import layers\n",
    "from tensorflow.keras import losses\n",
    "from tensorflow.keras import optimizers\n",
    "from tensorflow.keras import metrics\n",
    "from tensorflow.keras import Model\n",
    "from tensorflow.keras.applications import resnet\n",
    "\n",
    "%load_ext autoreload\n",
    "%autoreload 2\n"
   ]
  },
  {
   "cell_type": "code",
   "execution_count": null,
   "metadata": {},
   "outputs": [],
   "source": [
    "cache_dir = Path('/Users/michaelstadler/Bioinformatics/Projects/rpb1/results/test_sims_realnuc_10_UZpRgVbW')\n",
    "target_shape = (100, 100)\n",
    "channels_axis=1\n",
    "train_dataset, val = cn.make_triplet_inputs(cache_dir, 100)"
   ]
  },
  {
   "cell_type": "code",
   "execution_count": null,
   "metadata": {},
   "outputs": [],
   "source": [
    "#2d\n",
    "cache_dir = Path('/Users/michaelstadler/Bioinformatics/Projects/rpb1/results/test_sims_realnuc_10_UZpRgVbW')\n",
    "target_shape = (100, 100)\n",
    "channels_axis=1\n",
    "train_dataset, val = cn.make_triplet_inputs(cache_dir, mip=True)\n",
    "\n",
    "iter = train_dataset.as_numpy_iterator()\n",
    "a = next(iter)\n",
    "\n",
    "def show(ax, image):\n",
    "        ax.imshow(image, vmin=0, vmax=1)\n",
    "        ax.get_xaxis().set_visible(False)\n",
    "        ax.get_yaxis().set_visible(False)\n",
    "\n",
    "fig = plt.figure(figsize=(9, 9))\n",
    "\n",
    "axs = fig.subplots(3, 3)\n",
    "for i in range(3):\n",
    "    show(axs[i, 0], a[0][i,:,:,0])\n",
    "    show(axs[i, 1], a[1][i,:,:,0])\n",
    "    show(axs[i, 2], a[2][i,:,:,0])"
   ]
  },
  {
   "cell_type": "code",
   "execution_count": null,
   "metadata": {},
   "outputs": [],
   "source": [
    "#3d\n",
    "cache_dir = Path('/Users/michaelstadler/Bioinformatics/Projects/rpb1/results/test_sims_realnuc_10_UZpRgVbW')\n",
    "target_shape = (20,100, 100)\n",
    "channels_axis=1\n",
    "train_dataset, val = cn.make_triplet_inputs(cache_dir, 20, mip=False)\n",
    "\n",
    "iter = train_dataset.as_numpy_iterator()\n",
    "a = next(iter)\n",
    "\n",
    "def show(ax, image):\n",
    "        ax.imshow(image, vmin=0, vmax=1)\n",
    "        ax.get_xaxis().set_visible(False)\n",
    "        ax.get_yaxis().set_visible(False)\n",
    "\n",
    "fig = plt.figure(figsize=(9, 9))\n",
    "\n",
    "axs = fig.subplots(3, 3)\n",
    "for i in range(3):\n",
    "    show(axs[i, 0], a[0][i,:,:,:,0].max(axis=0))\n",
    "    show(axs[i, 1], a[1][i,:,:,:,0].max(axis=0))\n",
    "    show(axs[i, 2], a[2][i,:,:,:,0].max(axis=0))"
   ]
  },
  {
   "cell_type": "code",
   "execution_count": null,
   "metadata": {},
   "outputs": [],
   "source": [
    "#2d\n",
    "cache_dir = Path('/Users/michaelstadler/Bioinformatics/Projects/rpb1/results/test_sims_realnuc_50_iAKPibSh')\n",
    "log_dir = '/Users/michaelstadler/Bioinformatics/Projects/rpb1/tensorboard/tfmip-1'\n",
    "train_dataset, val_dataset = cn.make_triplet_inputs(cache_dir, mip=True)\n",
    "base_cnn = cn.make_base_cnn(image_shape=(100,100))\n",
    "embedding = cn.make_embedding(base_cnn)\n",
    "siamese_network = cn.make_siamese_network(embedding)\n",
    "siamese_model = cn.SiameseModel(siamese_network)\n",
    "siamese_model.compile(optimizer=optimizers.Adam(0.0001))\n",
    "tensorboard_callback = tf.keras.callbacks.TensorBoard(log_dir=log_dir, histogram_freq=1)\n",
    "\n",
    "history = siamese_model.fit(train_dataset, epochs=4, validation_data=val_dataset, verbose=True,\n",
    "            callbacks=tensorboard_callback)\n"
   ]
  },
  {
   "cell_type": "markdown",
   "metadata": {},
   "source": []
  },
  {
   "cell_type": "code",
   "execution_count": 3,
   "metadata": {},
   "outputs": [
    {
     "name": "stderr",
     "output_type": "stream",
     "text": [
      "2022-01-28 10:27:44.622273: I tensorflow/core/platform/cpu_feature_guard.cc:142] This TensorFlow binary is optimized with oneAPI Deep Neural Network Library (oneDNN) to use the following CPU instructions in performance-critical operations:  SSE4.1 SSE4.2 AVX AVX2 AVX512F FMA\n",
      "To enable them in other operations, rebuild TensorFlow with the appropriate compiler flags.\n",
      "2022-01-28 10:27:46.050344: I tensorflow/core/profiler/lib/profiler_session.cc:136] Profiler session initializing.\n",
      "2022-01-28 10:27:46.050362: I tensorflow/core/profiler/lib/profiler_session.cc:155] Profiler session started.\n",
      "2022-01-28 10:27:46.050417: I tensorflow/core/profiler/lib/profiler_session.cc:172] Profiler session tear down.\n",
      "2022-01-28 10:27:46.065061: I tensorflow/compiler/mlir/mlir_graph_optimization_pass.cc:116] None of the MLIR optimization passes are enabled (registered 2)\n"
     ]
    },
    {
     "name": "stdout",
     "output_type": "stream",
     "text": [
      "Epoch 1/4\n",
      "1/2 [==============>...............] - ETA: 30s - loss: 8.4070"
     ]
    },
    {
     "name": "stderr",
     "output_type": "stream",
     "text": [
      "2022-01-28 10:28:16.711411: I tensorflow/core/profiler/lib/profiler_session.cc:136] Profiler session initializing.\n",
      "2022-01-28 10:28:16.711427: I tensorflow/core/profiler/lib/profiler_session.cc:155] Profiler session started.\n"
     ]
    },
    {
     "name": "stdout",
     "output_type": "stream",
     "text": [
      "2/2 [==============================] - ETA: 0s - loss: 7.0283 "
     ]
    },
    {
     "name": "stderr",
     "output_type": "stream",
     "text": [
      "2022-01-28 10:28:21.838895: I tensorflow/core/profiler/lib/profiler_session.cc:71] Profiler session collecting data.\n",
      "2022-01-28 10:28:21.856919: I tensorflow/core/profiler/lib/profiler_session.cc:172] Profiler session tear down.\n",
      "2022-01-28 10:28:21.869196: I tensorflow/core/profiler/rpc/client/save_profile.cc:137] Creating directory: /Users/michaelstadler/Bioinformatics/Projects/rpb1/tensorboard/tf3d-1-slow/train/plugins/profile/2022_01_28_10_28_21\n",
      "2022-01-28 10:28:21.875378: I tensorflow/core/profiler/rpc/client/save_profile.cc:143] Dumped gzipped tool data for trace.json.gz to /Users/michaelstadler/Bioinformatics/Projects/rpb1/tensorboard/tf3d-1-slow/train/plugins/profile/2022_01_28_10_28_21/Michaels-MacBook-Pro-2.local.trace.json.gz\n",
      "2022-01-28 10:28:21.904458: I tensorflow/core/profiler/rpc/client/save_profile.cc:137] Creating directory: /Users/michaelstadler/Bioinformatics/Projects/rpb1/tensorboard/tf3d-1-slow/train/plugins/profile/2022_01_28_10_28_21\n",
      "2022-01-28 10:28:21.904770: I tensorflow/core/profiler/rpc/client/save_profile.cc:143] Dumped gzipped tool data for memory_profile.json.gz to /Users/michaelstadler/Bioinformatics/Projects/rpb1/tensorboard/tf3d-1-slow/train/plugins/profile/2022_01_28_10_28_21/Michaels-MacBook-Pro-2.local.memory_profile.json.gz\n",
      "2022-01-28 10:28:21.908329: I tensorflow/core/profiler/rpc/client/capture_profile.cc:251] Creating directory: /Users/michaelstadler/Bioinformatics/Projects/rpb1/tensorboard/tf3d-1-slow/train/plugins/profile/2022_01_28_10_28_21Dumped tool data for xplane.pb to /Users/michaelstadler/Bioinformatics/Projects/rpb1/tensorboard/tf3d-1-slow/train/plugins/profile/2022_01_28_10_28_21/Michaels-MacBook-Pro-2.local.xplane.pb\n",
      "Dumped tool data for overview_page.pb to /Users/michaelstadler/Bioinformatics/Projects/rpb1/tensorboard/tf3d-1-slow/train/plugins/profile/2022_01_28_10_28_21/Michaels-MacBook-Pro-2.local.overview_page.pb\n",
      "Dumped tool data for input_pipeline.pb to /Users/michaelstadler/Bioinformatics/Projects/rpb1/tensorboard/tf3d-1-slow/train/plugins/profile/2022_01_28_10_28_21/Michaels-MacBook-Pro-2.local.input_pipeline.pb\n",
      "Dumped tool data for tensorflow_stats.pb to /Users/michaelstadler/Bioinformatics/Projects/rpb1/tensorboard/tf3d-1-slow/train/plugins/profile/2022_01_28_10_28_21/Michaels-MacBook-Pro-2.local.tensorflow_stats.pb\n",
      "Dumped tool data for kernel_stats.pb to /Users/michaelstadler/Bioinformatics/Projects/rpb1/tensorboard/tf3d-1-slow/train/plugins/profile/2022_01_28_10_28_21/Michaels-MacBook-Pro-2.local.kernel_stats.pb\n",
      "\n"
     ]
    },
    {
     "name": "stdout",
     "output_type": "stream",
     "text": [
      "2/2 [==============================] - 42s 12s/step - loss: 7.0283 - val_loss: 11.0652\n",
      "Epoch 2/4\n",
      "2/2 [==============================] - 34s 10s/step - loss: 4.6495 - val_loss: 1.1885\n",
      "Epoch 3/4\n",
      "2/2 [==============================] - 32s 9s/step - loss: 1.7568 - val_loss: 0.4625\n",
      "Epoch 4/4\n",
      "2/2 [==============================] - 32s 9s/step - loss: 1.3552 - val_loss: 0.4261\n"
     ]
    }
   ],
   "source": [
    "#3d\n",
    "cache_dir = Path('/Users/michaelstadler/Bioinformatics/Projects/rpb1/results/test_sims_realnuc_50_iAKPibSh')\n",
    "log_dir = '/Users/michaelstadler/Bioinformatics/Projects/rpb1/tensorboard/tf3d-1-slow'\n",
    "train_dataset, val_dataset = cn.make_triplet_inputs(cache_dir, mip=False)\n",
    "base_cnn = cn.make_base_cnn_3d(image_shape=(20,100,100))\n",
    "embedding = cn.make_embedding(base_cnn)\n",
    "siamese_network = cn.make_siamese_network(embedding)\n",
    "siamese_model = cn.SiameseModel(siamese_network)\n",
    "siamese_model.compile(optimizer=optimizers.Adam(0.0001))\n",
    "tensorboard_callback = tf.keras.callbacks.TensorBoard(log_dir=log_dir, histogram_freq=1)\n",
    "\n",
    "history = siamese_model.fit(train_dataset, epochs=4, validation_data=val_dataset, verbose=True,\n",
    "            callbacks=tensorboard_callback)\n"
   ]
  },
  {
   "cell_type": "code",
   "execution_count": null,
   "metadata": {},
   "outputs": [],
   "source": [
    "%load_ext tensorboard"
   ]
  },
  {
   "cell_type": "code",
   "execution_count": null,
   "metadata": {},
   "outputs": [],
   "source": []
  }
 ],
 "metadata": {
  "interpreter": {
   "hash": "e372816e4ed8f4776be7691c42762f9e24664f8c81a636e19b7b5da78d6a9ebf"
  },
  "kernelspec": {
   "display_name": "tf2",
   "language": "python",
   "name": "python3"
  },
  "language_info": {
   "codemirror_mode": {
    "name": "ipython",
    "version": 3
   },
   "file_extension": ".py",
   "mimetype": "text/x-python",
   "name": "python",
   "nbconvert_exporter": "python",
   "pygments_lexer": "ipython3",
   "version": "3.9.7"
  }
 },
 "nbformat": 4,
 "nbformat_minor": 2
}
