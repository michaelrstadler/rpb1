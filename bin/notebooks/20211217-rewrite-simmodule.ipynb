{
 "cells": [
  {
   "cell_type": "code",
   "execution_count": 1,
   "metadata": {},
   "outputs": [],
   "source": [
    "from importlib import reload\n",
    "import flymovie as fm\n",
    "from flymovie.simnuc import Sim\n",
    "import matplotlib.pyplot as plt\n",
    "import numpy as np\n",
    "import os\n",
    "import random\n",
    "import pickle\n",
    "from pathlib import Path\n",
    "import scipy.ndimage as ndi\n",
    "from importlib import reload\n",
    "%load_ext autoreload\n",
    "%autoreload 2"
   ]
  },
  {
   "cell_type": "code",
   "execution_count": 21,
   "metadata": {},
   "outputs": [],
   "source": [
    "# Get some nuclear masks.\n",
    "im = fm.read_czi('/Users/michaelstadler/Bioinformatics/Projects/rpb1/data/counting_blobs/cycle 13/embryo 12.czi', swapaxes=False)\n",
    "sm = ndi.gaussian_filter(im, 2)\n",
    "mask = np.where(sm > 12, 1, 0)\n",
    "mask = ndi.morphology.binary_opening(mask,np.ones((1,7,7)))\n",
    "lmask,_ = ndi.label(mask)\n",
    "#fm.viewer(lmask, 5)\n",
    "masks = Sim.extract_nuclear_masks(lmask)\n",
    "\n",
    "fm.save_pickle(masks, '/Users/michaelstadler/Bioinformatics/Projects/rpb1/results/real_nuclear_masks_nc13.pkl')"
   ]
  },
  {
   "cell_type": "code",
   "execution_count": 11,
   "metadata": {},
   "outputs": [
    {
     "name": "stdout",
     "output_type": "stream",
     "text": [
      "\u001b[0;31mSignature:\u001b[0m\n",
      "\u001b[0msim\u001b[0m\u001b[0;34m.\u001b[0m\u001b[0madd_nblobs\u001b[0m\u001b[0;34m(\u001b[0m\u001b[0;34m\u001b[0m\n",
      "\u001b[0;34m\u001b[0m    \u001b[0mnumblobs\u001b[0m\u001b[0;34m,\u001b[0m\u001b[0;34m\u001b[0m\n",
      "\u001b[0;34m\u001b[0m    \u001b[0mintensity_mean\u001b[0m\u001b[0;34m,\u001b[0m\u001b[0;34m\u001b[0m\n",
      "\u001b[0;34m\u001b[0m    \u001b[0mintensity_std\u001b[0m\u001b[0;34m,\u001b[0m\u001b[0;34m\u001b[0m\n",
      "\u001b[0;34m\u001b[0m    \u001b[0msigma_base\u001b[0m\u001b[0;34m,\u001b[0m\u001b[0;34m\u001b[0m\n",
      "\u001b[0;34m\u001b[0m    \u001b[0msigma_k\u001b[0m\u001b[0;34m=\u001b[0m\u001b[0;36m0.5\u001b[0m\u001b[0;34m,\u001b[0m\u001b[0;34m\u001b[0m\n",
      "\u001b[0;34m\u001b[0m    \u001b[0msigma_theta\u001b[0m\u001b[0;34m=\u001b[0m\u001b[0;36m0.5\u001b[0m\u001b[0;34m,\u001b[0m\u001b[0;34m\u001b[0m\n",
      "\u001b[0;34m\u001b[0m\u001b[0;34m)\u001b[0m\u001b[0;34m\u001b[0m\u001b[0;34m\u001b[0m\u001b[0m\n",
      "\u001b[0;31mDocstring:\u001b[0m\n",
      "Add gaussian blobs at random positions inside nucleus, with\n",
      "intensities and widths drawn from random distributions.\n",
      "\n",
      "Intensities are drawn from gaussian distribution, widths (sigma of\n",
      "gaussian) use a gamma distribution (gamma is non-negative): \n",
      "    sigma = sigma_base + gamma(k, theta)\n",
      "\n",
      "Args:\n",
      "    numblobs: int, number of blobs to add\n",
      "    intensity_mean: numeric, mean of the distribution from which \n",
      "        blob intensities are drawn.\n",
      "    intensity_std: numeric, std. deviation of the distribution from\n",
      "        which blob intensities are drawn.\n",
      "    sigma_base: numeric, minimum value of gaussian width (sigma)\n",
      "    sigma_k: numeric, shape parameter of gamma distribution added to \n",
      "        sigma_base to determine gaussian width\n",
      "    sigma_theta: numeric, scale parameter of gamma distribution added \n",
      "        to sigma_base to determine gaussian width\n",
      "\u001b[0;31mFile:\u001b[0m      ~/Bioinformatics/Projects/rpb1/bin/flymovie/flymovie/simnuc.py\n",
      "\u001b[0;31mType:\u001b[0m      method\n"
     ]
    }
   ],
   "source": [
    "?sim.add_nblobs"
   ]
  },
  {
   "cell_type": "code",
   "execution_count": 39,
   "metadata": {},
   "outputs": [
    {
     "data": {
      "application/vnd.jupyter.widget-view+json": {
       "model_id": "86b9ff44b9254a1ebe8ebdc7b0adf0bd",
       "version_major": 2,
       "version_minor": 0
      },
      "text/plain": [
       "interactive(children=(Dropdown(description='Color', index=10, options=('magma', 'gray_r', 'inferno', 'cividis'…"
      ]
     },
     "metadata": {},
     "output_type": "display_data"
    }
   ],
   "source": [
    "mask = Sim.make_dummy_mask()\n",
    "sim = Sim(mask)\n",
    "sim.add_background(val=10_000)\n",
    "sim.add_background(val=1500, inverse=True)\n",
    "sim.smooth_edges(sigma=1.5)\n",
    "sim.add_hlb(24_000, 4.5, p=3)\n",
    "sim.add_nblobs(300, 7_000, 4_500, 1.5, 0.5, 0.5)\n",
    "sim.add_noise(sigma=2000)\n",
    "fm.viewer(sim.im, 4, color='viridis')"
   ]
  },
  {
   "cell_type": "code",
   "execution_count": 63,
   "metadata": {},
   "outputs": [
    {
     "name": "stdout",
     "output_type": "stream",
     "text": [
      "arglist done\n"
     ]
    }
   ],
   "source": [
    "# Do a batch of sims.\n",
    "fm.simnuc.sim_rpb1_rand_batch(\n",
    "    maskfile = '/Users/michaelstadler/Bioinformatics/Projects/rpb1/results/real_nuclear_masks_nc13.pkl',\n",
    "    outfolder = '/Users/michaelstadler/Bioinformatics/Projects/rpb1/results/simstemp',\n",
    "    nsims=500,\n",
    "    nreps=4,\n",
    "    nprocesses=4,\n",
    "    nuc_bg_mean_rng=[8_000, 10_000], \n",
    "    nonnuc_bg_mean_rng=[800,1200], \n",
    "    noise_sigma_rng=[200,400], \n",
    "    nblobs_rng=[0,100], \n",
    "    blob_intensity_mean_rng=[8_000, 12_000], \n",
    "    blob_intensity_std_rng=[1_000, 3_000],\n",
    "    blob_sigma_base_rng=[0.5,0.5],\n",
    "    blob_sigma_k_rng=[0.5,0.5], \n",
    "    blob_sigma_theta_rng=[0.5,0.5], \n",
    "    hlb_intensity_rng=[15_000, 25_000],\n",
    "    hlb_sigma_rng=[4,6], \n",
    "    hlb_p_rng=[1.7,2.3])"
   ]
  },
  {
   "cell_type": "code",
   "execution_count": 59,
   "metadata": {},
   "outputs": [
    {
     "data": {
      "application/vnd.jupyter.widget-view+json": {
       "model_id": "8a94af050ed645359416697f9f247a9a",
       "version_major": 2,
       "version_minor": 0
      },
      "text/plain": [
       "interactive(children=(Dropdown(description='Color', index=2, options=('gray_r', 'Reds', 'cividis', 'plasma', '…"
      ]
     },
     "metadata": {},
     "output_type": "display_data"
    }
   ],
   "source": [
    "mask = masks[0]\n",
    "nuc_bg_mean = 40 * 256\n",
    "nonnuc_bg_mean = 1_250\n",
    "hlb_intensity = 38_500\n",
    "hlb_sigma = 5\n",
    "hlb_p = 2.5\n",
    "nblobs = 200\n",
    "blob_intensity_mean = 5_000\n",
    "blob_intensity_std = 2_000\n",
    "blob_sigma_base = 0.2\n",
    "blob_sigma_k = 0.5\n",
    "blob_sigma_theta = 1\n",
    "noise_sigma = 625\n",
    "\n",
    "l = []\n",
    "\n",
    "for _ in range(6):\n",
    "    mask = masks[np.random.randint(0,len(masks))]\n",
    "    mask = np.pad(mask, [(0,0), (8,8), (8,8)])\n",
    "    sim = Sim(mask)\n",
    "    sim.add_background(val=nuc_bg_mean)\n",
    "    sim.add_background(inverse=True, val=nonnuc_bg_mean)\n",
    "    sim.smooth_edges(2.5)\n",
    "    sim.im = np.where(mask, sim.im, nonnuc_bg_mean)\n",
    "    sim.smooth_edges(1)\n",
    "    sim.add_hlb(hlb_intensity, hlb_sigma, hlb_p)\n",
    "    sim.add_nblobs(nblobs, blob_intensity_mean, blob_intensity_std, \n",
    "        sigma_base=blob_sigma_base, sigma_k=blob_sigma_k, \n",
    "        sigma_theta=blob_sigma_theta)\n",
    "    sim.add_noise(sigma=noise_sigma)\n",
    "    #sim.im = np.pad(sim.im, [(0,0), (8,8), (8,8)])\n",
    "    l.append(sim.im.max(axis=0))\n",
    "\n",
    "fm.viewer(l, 3)"
   ]
  },
  {
   "cell_type": "code",
   "execution_count": 41,
   "metadata": {},
   "outputs": [
    {
     "data": {
      "application/vnd.jupyter.widget-view+json": {
       "model_id": "dc24d9e0f29748008754ad81fd4b6124",
       "version_major": 2,
       "version_minor": 0
      },
      "text/plain": [
       "interactive(children=(Dropdown(description='Color', index=2, options=('gray_r', 'Reds', 'cividis', 'plasma', '…"
      ]
     },
     "metadata": {},
     "output_type": "display_data"
    }
   ],
   "source": [
    "im = fm.read_czi('/Users/michaelstadler/Bioinformatics/Projects/rpb1/data/counting_blobs/cycle 12/embryo3.czi', swapaxes=False)\n",
    "fm.viewer(im.max(axis=0) * 256)"
   ]
  },
  {
   "cell_type": "code",
   "execution_count": 38,
   "metadata": {},
   "outputs": [
    {
     "data": {
      "text/plain": [
       "<matplotlib.collections.PathCollection at 0x159714820>"
      ]
     },
     "execution_count": 38,
     "metadata": {},
     "output_type": "execute_result"
    },
    {
     "data": {
      "image/png": "[encoded data removed]",
      "text/plain": [
       "<Figure size 432x288 with 1 Axes>"
      ]
     },
     "metadata": {
      "needs_background": "light"
     },
     "output_type": "display_data"
    }
   ],
   "source": [
    "a = np.zeros((300,2))\n",
    "for c in range(a.shape[1]):\n",
    "    a[:,c] = np.random.random(size=a.shape[0]) - 0.5\n",
    "\n",
    "plt.scatter(a[:,0], a[:,1], alpha=0.5)\n",
    "plt.axhline(y=0, color='k', alpha=0.5)\n",
    "plt.axvline(x=0, color='k', alpha=0.5)\n",
    "plt.scatter(0.2,0.2)"
   ]
  },
  {
   "cell_type": "code",
   "execution_count": 31,
   "metadata": {},
   "outputs": [
    {
     "data": {
      "text/plain": [
       "<matplotlib.collections.PathCollection at 0x1595b1a90>"
      ]
     },
     "execution_count": 31,
     "metadata": {},
     "output_type": "execute_result"
    },
    {
     "data": {
      "image/png": "[encoded data removed]",
      "text/plain": [
       "<Figure size 432x288 with 1 Axes>"
      ]
     },
     "metadata": {
      "needs_background": "light"
     },
     "output_type": "display_data"
    }
   ],
   "source": []
  },
  {
   "cell_type": "code",
   "execution_count": null,
   "metadata": {},
   "outputs": [],
   "source": []
  }
 ],
 "metadata": {
  "interpreter": {
   "hash": "eca358e5a2f32eca92640d7df176777d47bc005b1d6ea5f309faabbd9462bdfe"
  },
  "kernelspec": {
   "display_name": "Python 3.9.7 64-bit ('im2': conda)",
   "language": "python",
   "name": "python3"
  },
  "language_info": {
   "codemirror_mode": {
    "name": "ipython",
    "version": 3
   },
   "file_extension": ".py",
   "mimetype": "text/x-python",
   "name": "python",
   "nbconvert_exporter": "python",
   "pygments_lexer": "ipython3",
   "version": "3.9.7"
  },
  "orig_nbformat": 4
 },
 "nbformat": 4,
 "nbformat_minor": 2
}
