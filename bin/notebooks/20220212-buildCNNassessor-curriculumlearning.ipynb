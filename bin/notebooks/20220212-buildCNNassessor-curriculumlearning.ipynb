{
 "cells": [
  {
   "cell_type": "code",
   "execution_count": 1,
   "metadata": {},
   "outputs": [],
   "source": [
    "from importlib import reload\n",
    "import flymovie as fm\n",
    "from flymovie.simnuc import Sim\n",
    "import matplotlib.pyplot as plt\n",
    "import numpy as np\n",
    "import os\n",
    "import random\n",
    "import pickle\n",
    "from pathlib import Path\n",
    "import scipy.ndimage as ndi\n",
    "from importlib import reload\n",
    "%load_ext autoreload\n",
    "%autoreload 2"
   ]
  },
  {
   "cell_type": "markdown",
   "metadata": {},
   "source": [
    "## Goals\n",
    "\n",
    "1. Design a test for the performance of an embedding\n",
    "\n",
    "2. Design a way to apply curriculum learning to my siamese CNN network.\n",
    "\n",
    "\n",
    "### Designing a test for the performance of an embedding\n",
    "\n",
    "My strategy is to first construct a test set of images, feed those images through a candidate embedding, and determine the success of the network based on how well similar images are clustered together. Some options:\n",
    "    - top N accuracy: how often is the most-similar non-self image in the top N\n",
    "    - Mean ranking of top N: rank images by actual similarity (based on sim parameters), rank them by embedding distance, compare. I think I'll start with just the sum of the squared rank differences. I can probably adapt this to be something with useful statistical properties eventually but no need right now.\n"
   ]
  },
  {
   "cell_type": "code",
   "execution_count": null,
   "metadata": {},
   "outputs": [],
   "source": [
    "def embed_images(im_folder, embedding):\n",
    "    \"\"\"Pass images from a folder through embedding, return their location and simulation parameters.\"\"\"\n",
    "    "
   ]
  }
 ],
 "metadata": {
  "interpreter": {
   "hash": "eca358e5a2f32eca92640d7df176777d47bc005b1d6ea5f309faabbd9462bdfe"
  },
  "kernelspec": {
   "display_name": "Python 3.9.7 ('im2')",
   "language": "python",
   "name": "python3"
  },
  "language_info": {
   "codemirror_mode": {
    "name": "ipython",
    "version": 3
   },
   "file_extension": ".py",
   "mimetype": "text/x-python",
   "name": "python",
   "nbconvert_exporter": "python",
   "pygments_lexer": "ipython3",
   "version": "3.9.7"
  },
  "orig_nbformat": 4
 },
 "nbformat": 4,
 "nbformat_minor": 2
}
