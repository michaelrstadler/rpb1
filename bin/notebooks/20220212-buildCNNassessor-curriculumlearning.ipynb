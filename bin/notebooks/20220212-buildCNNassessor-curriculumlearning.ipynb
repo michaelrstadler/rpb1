{
 "cells": [
  {
   "cell_type": "code",
   "execution_count": 114,
   "metadata": {},
   "outputs": [
    {
     "name": "stdout",
     "output_type": "stream",
     "text": [
      "The autoreload extension is already loaded. To reload it, use:\n",
      "  %reload_ext autoreload\n"
     ]
    }
   ],
   "source": [
    "from importlib import reload\n",
    "import flymovie as fm\n",
    "import cnn_models\n",
    "import cnn_models.siamese_cnn as cn\n",
    "import cnn_models.evaluate_models as ev\n",
    "from flymovie.simnuc import Sim\n",
    "import matplotlib.pyplot as plt\n",
    "import numpy as np\n",
    "import os\n",
    "import random\n",
    "import pickle\n",
    "from pathlib import Path\n",
    "import scipy.spatial\n",
    "import scipy.ndimage as ndi\n",
    "import tensorflow as tf\n",
    "from importlib import reload\n",
    "%load_ext autoreload\n",
    "%autoreload 2"
   ]
  },
  {
   "cell_type": "markdown",
   "metadata": {},
   "source": [
    "## Goals\n",
    "\n",
    "1. Design a test for the performance of an embedding\n",
    "\n",
    "2. Design a way to apply curriculum learning to my siamese CNN network.\n",
    "\n",
    "\n",
    "### 1. Designing a test for the performance of an embedding\n",
    "\n",
    "My strategy is to first construct a test set of images, feed those images through a candidate embedding, and determine the success of the network based on how well similar images are clustered together. Some options:\n",
    "    - top N accuracy: how often is the most-similar non-self image in the top N\n",
    "    - Mean ranking of top N: rank images by actual similarity (based on sim parameters), rank them by embedding distance, compare. I think I'll start with just the sum of the squared rank differences. I can probably adapt this to be something with useful statistical properties eventually but no need right now.\n"
   ]
  },
  {
   "cell_type": "code",
   "execution_count": 5,
   "metadata": {},
   "outputs": [
    {
     "name": "stderr",
     "output_type": "stream",
     "text": [
      "2022-02-18 12:45:44.633327: I tensorflow/core/platform/cpu_feature_guard.cc:142] This TensorFlow binary is optimized with oneAPI Deep Neural Network Library (oneDNN) to use the following CPU instructions in performance-critical operations:  SSE4.1 SSE4.2 AVX AVX2 AVX512F FMA\n",
      "To enable them in other operations, rebuild TensorFlow with the appropriate compiler flags.\n"
     ]
    },
    {
     "data": {
      "text/plain": [
       "<tensorflow.python.training.tracking.util.CheckpointLoadStatus at 0x184546d90>"
      ]
     },
     "execution_count": 5,
     "metadata": {},
     "output_type": "execute_result"
    }
   ],
   "source": [
    "weights_file = '/Users/michaelstadler/Bioinformatics/Projects/rpb1/results/gridsearch/variables/checkpoint_0.0001_0.5_nocurriculum'\n",
    "base_cnn = cn.make_base_cnn_3d(image_shape=(34,100,100), nlayers=18)\n",
    "embedding = cn.make_embedding(base_cnn)\n",
    "embedding.load_weights(weights_file)"
   ]
  },
  {
   "cell_type": "code",
   "execution_count": 2,
   "metadata": {},
   "outputs": [],
   "source": [
    "from cnn_models.siamese_cnn import preprocess_image\n",
    "\n",
    "############################################################################\n",
    "def embed_images(im_folder, embedding, mip=False):\n",
    "    \"\"\"Pass images from a folder through embedding, return their location \n",
    "    and simulation parameters.\"\"\"\n",
    "    \n",
    "    def normalize_params(params):\n",
    "        std = np.std(params, axis=0)\n",
    "        # If the parameter is fixed it will have std=0. Since the difference\n",
    "        # will be 0 and the desired value is all 0, any non-zero value for \n",
    "        # std works to avoid divide by 0 error.\n",
    "        std[std == 0] = 1e6\n",
    "        p = params.copy()\n",
    "        p = (p - p.mean(axis=0)) / std\n",
    "        return p\n",
    "        \n",
    "    ims = []\n",
    "    files = sorted(os.listdir(im_folder))\n",
    "    num_params = len(files[-1].split('_')) - 2\n",
    "    params = np.ndarray((0, num_params))\n",
    "\n",
    "    # Load images and extract parameters.\n",
    "    for f in files:\n",
    "        if f[3] != '_':\n",
    "            continue\n",
    "        # Because of the silliness with extracting filename from tensor, \n",
    "        # have to add two single quotes flanking filename.\n",
    "        filename = \"_'\" + os.path.join(im_folder, f) + \"'_\"\n",
    "        im = preprocess_image(filename, mip)\n",
    "        ims.append(im)\n",
    "        p= f.split('_')[1:-1]\n",
    "        p = [float(x) for x in p]\n",
    "        params = np.vstack([params, p])\n",
    "    \n",
    "    params = normalize_params(params)\n",
    "\n",
    "    # Calculate embedding for each image.\n",
    "    im_embeddings = np.ndarray((0,256))\n",
    "    for i in range(len(ims)):\n",
    "        im = ims[i]\n",
    "        im = np.expand_dims(im, axis=0)\n",
    "        e = embedding(im).numpy()\n",
    "        im_embeddings = np.vstack([im_embeddings, e])\n",
    "        \n",
    "    return im_embeddings, params\n",
    "\n",
    "############################################################################\n",
    "def sort_by_distance(data, n):\n",
    "        ref = data[n, :]\n",
    "        f = lambda x: scipy.spatial.distance.euclidean(x, ref)\n",
    "        dists = np.apply_along_axis(f, 1, data)\n",
    "        indxs = np.argsort(dists)\n",
    "        return indxs[1:]\n",
    "\n",
    "############################################################################\n",
    "def top_n_accuracy(im_embeddings, params, n):\n",
    "    if im_embeddings.shape[0] != params.shape[0]:\n",
    "        raise ValueError('Row number does not match.')\n",
    "    \n",
    "    num_images = im_embeddings.shape[0]\n",
    "    rank_sq_diff_sums = []\n",
    "    best_in_topn_count = 0\n",
    "\n",
    "    for i in range(num_images):\n",
    "        embedding_dist = sort_by_distance(im_embeddings, i)\n",
    "        param_dist = sort_by_distance(params, i)\n",
    "        best_idx = param_dist[0]\n",
    "        if best_idx in embedding_dist[:n]:\n",
    "            best_in_topn_count += 1\n",
    "        rank_sq_diff_sum = np.sum((embedding_dist[:n] - param_dist[:n]) ** 2)\n",
    "        rank_sq_diff_sums.append(rank_sq_diff_sum)\n",
    "    \n",
    "    accuracy = best_in_topn_count / num_images\n",
    "    print('Top ' + str(n) + ' accuracy: ' + str(accuracy))\n",
    "    rank_sq_diff_mean = np.mean(rank_sq_diff_sums)\n",
    "    print('Top ' + str(n) + ' rank square difference mean: ' + str(rank_sq_diff_mean))\n",
    "\n",
    "############################################################################       \n",
    "def visualize_batch(ds, figsize=4):\n",
    "    def process_im(arr):\n",
    "        im = np.squeeze(arr)\n",
    "        return (im - np.min(im)) / (np.max(im) - np.min(im)) * 1000\n",
    "    iter = ds.as_numpy_iterator()\n",
    "    batch = next(iter)\n",
    "    im1 = process_im(batch[0])\n",
    "    im2 = process_im(batch[1])\n",
    "    im3 = process_im(batch[2])\n",
    "    fm.viewer([im1, im2, im3], figsize)"
   ]
  },
  {
   "cell_type": "code",
   "execution_count": 117,
   "metadata": {},
   "outputs": [],
   "source": [
    "im_embeddings, params = ev.embed_images('/Users/michaelstadler/Bioinformatics/Projects/rpb1/results/testsims_uPoNivMJ/left', embedding)\n"
   ]
  },
  {
   "cell_type": "code",
   "execution_count": null,
   "metadata": {},
   "outputs": [],
   "source": [
    "weights_file = '/Users/michaelstadler/Bioinformatics/Projects/rpb1/results/gridsearch/variables/checkpoint_0.0001_0.5_all_to_hard'\n",
    "embedding.load_weights(weights_file)\n",
    "im_embeddings, params = embed_images('/Users/michaelstadler/Bioinformatics/Projects/rpb1/results/testsims_uPoNivMJ/left', embedding)\n",
    "params_shuf = params.copy()\n",
    "np.random.shuffle(params_shuf)"
   ]
  },
  {
   "cell_type": "code",
   "execution_count": null,
   "metadata": {},
   "outputs": [],
   "source": [
    "n=10\n",
    "np.random.shuffle(params_shuf)\n",
    "top_n_accuracy(im_embeddings, params, n)\n",
    "top_n_accuracy(im_embeddings, params_shuf, n)"
   ]
  },
  {
   "cell_type": "code",
   "execution_count": 4,
   "metadata": {},
   "outputs": [
    {
     "ename": "NameError",
     "evalue": "name 'embedding' is not defined",
     "output_type": "error",
     "traceback": [
      "\u001b[0;31m---------------------------------------------------------------------------\u001b[0m",
      "\u001b[0;31mNameError\u001b[0m                                 Traceback (most recent call last)",
      "\u001b[0;32m/var/folders/46/dftvy0sd0jv10kyqlkqc2d8m0000gn/T/ipykernel_1805/1881875739.py\u001b[0m in \u001b[0;36m<module>\u001b[0;34m\u001b[0m\n\u001b[1;32m      1\u001b[0m \u001b[0mweights_file\u001b[0m \u001b[0;34m=\u001b[0m \u001b[0;34m'/Users/michaelstadler/Bioinformatics/Projects/rpb1/results/gridsearch/variables/checkpoint_0.0001_0.5_nocurriculum'\u001b[0m\u001b[0;34m\u001b[0m\u001b[0;34m\u001b[0m\u001b[0m\n\u001b[0;32m----> 2\u001b[0;31m \u001b[0membedding\u001b[0m\u001b[0;34m.\u001b[0m\u001b[0mload_weights\u001b[0m\u001b[0;34m(\u001b[0m\u001b[0mweights_file\u001b[0m\u001b[0;34m)\u001b[0m\u001b[0;34m\u001b[0m\u001b[0;34m\u001b[0m\u001b[0m\n\u001b[0m\u001b[1;32m      3\u001b[0m \u001b[0mim_embeddings\u001b[0m\u001b[0;34m,\u001b[0m \u001b[0mparams\u001b[0m \u001b[0;34m=\u001b[0m \u001b[0membed_images\u001b[0m\u001b[0;34m(\u001b[0m\u001b[0;34m'/Users/michaelstadler/Bioinformatics/Projects/rpb1/results/testsims_uPoNivMJ/left'\u001b[0m\u001b[0;34m,\u001b[0m \u001b[0membedding\u001b[0m\u001b[0;34m)\u001b[0m\u001b[0;34m\u001b[0m\u001b[0;34m\u001b[0m\u001b[0m\n\u001b[1;32m      4\u001b[0m \u001b[0mparams_shuf\u001b[0m \u001b[0;34m=\u001b[0m \u001b[0mparams\u001b[0m\u001b[0;34m.\u001b[0m\u001b[0mcopy\u001b[0m\u001b[0;34m(\u001b[0m\u001b[0;34m)\u001b[0m\u001b[0;34m\u001b[0m\u001b[0;34m\u001b[0m\u001b[0m\n\u001b[1;32m      5\u001b[0m \u001b[0mnp\u001b[0m\u001b[0;34m.\u001b[0m\u001b[0mrandom\u001b[0m\u001b[0;34m.\u001b[0m\u001b[0mshuffle\u001b[0m\u001b[0;34m(\u001b[0m\u001b[0mparams_shuf\u001b[0m\u001b[0;34m)\u001b[0m\u001b[0;34m\u001b[0m\u001b[0;34m\u001b[0m\u001b[0m\n",
      "\u001b[0;31mNameError\u001b[0m: name 'embedding' is not defined"
     ]
    }
   ],
   "source": [
    "weights_file = '/Users/michaelstadler/Bioinformatics/Projects/rpb1/results/gridsearch/variables/checkpoint_0.0001_0.5_nocurriculum'\n",
    "embedding.load_weights(weights_file)\n",
    "im_embeddings, params = embed_images('/Users/michaelstadler/Bioinformatics/Projects/rpb1/results/testsims_uPoNivMJ/left', embedding)\n",
    "params_shuf = params.copy()\n",
    "np.random.shuffle(params_shuf)"
   ]
  },
  {
   "cell_type": "code",
   "execution_count": null,
   "metadata": {},
   "outputs": [],
   "source": [
    "n=10\n",
    "np.random.shuffle(params_shuf)\n",
    "top_n_accuracy(im_embeddings, params, n)\n",
    "top_n_accuracy(im_embeddings, params_shuf, n)"
   ]
  },
  {
   "cell_type": "markdown",
   "metadata": {},
   "source": [
    "\n",
    "\n"
   ]
  },
  {
   "cell_type": "code",
   "execution_count": null,
   "metadata": {},
   "outputs": [],
   "source": [
    "# Set up input directories.\n",
    "from pathlib import Path\n",
    "folder = Path('/Users/michaelstadler/Bioinformatics/Projects/rpb1/results/testsims_uPoNivMJ')\n",
    "cache_dir=folder\n",
    "anchor_images_path = cache_dir / \"left\"\n",
    "positive_images_path = cache_dir / \"right\""
   ]
  },
  {
   "cell_type": "code",
   "execution_count": null,
   "metadata": {},
   "outputs": [],
   "source": [
    "anchor_images = sorted(\n",
    "    [str(anchor_images_path / f) for f in os.listdir(anchor_images_path)]\n",
    ")\n",
    "\n",
    "positive_images = sorted(\n",
    "    [str(positive_images_path / f) for f in os.listdir(positive_images_path)]\n",
    ")\n",
    "\n",
    "image_count = len(anchor_images)\n",
    "\n",
    "anchor_dataset = tf.data.Dataset.from_tensor_slices(anchor_images)\n",
    "positive_dataset = tf.data.Dataset.from_tensor_slices(positive_images)\n",
    "\n",
    "negative_images = anchor_images + positive_images\n",
    "negative_dataset = tf.data.Dataset.from_tensor_slices(negative_images)\n",
    "negative_dataset = negative_dataset.shuffle(buffer_size=4096)   \n",
    "\n",
    "dataset = tf.data.Dataset.zip((anchor_dataset, positive_dataset)) \n",
    "#dataset = dataset.shuffle(buffer_size=1024)"
   ]
  },
  {
   "cell_type": "markdown",
   "metadata": {},
   "source": [
    "### Below is the new strategy\n",
    "\n",
    "No longer use shuffling of negative dataset. Start by pairing files (as lists). Will do a scheme where it accepts some parameter (num_negative_pairs maybe) and for each AP pair, generates that many negative pairings that are within some margin in parameter distance. The result will be three ordered lists. Make three datasets from these, zip them, shuffle, and use the take method to select subset.\n",
    "\n",
    "This way I generate num_images * num_negative_pairs possible APN filename pairings, Randomly sample from those for training sets.\n",
    "\n",
    "Basically: first generate an excess number of triplets that satisfy margin, randomly sample from those as opposed to doing the shuffling online.\n",
    "\n",
    "## Goals 2022-02-14\n",
    "\n",
    "1. Implement the above\n",
    "\n",
    "2. Comment and test cnn module (ugh). Get it in order."
   ]
  },
  {
   "cell_type": "code",
   "execution_count": null,
   "metadata": {},
   "outputs": [],
   "source": [
    "a = np.arange(1000)\n",
    "n = np.arange(2000)\n",
    "a_dataset = tf.data.Dataset.from_tensor_slices(a)\n",
    "p_dataset = tf.data.Dataset.from_tensor_slices(a)\n",
    "n_dataset = tf.data.Dataset.from_tensor_slices(n)\n",
    "\n",
    "dataset = tf.data.Dataset.zip((a_dataset, p_dataset, n_dataset)) \n",
    "dataset = dataset.shuffle(5000)\n",
    "dataset = dataset.take(1)\n"
   ]
  },
  {
   "cell_type": "code",
   "execution_count": null,
   "metadata": {},
   "outputs": [],
   "source": [
    "count = 0\n",
    "\n",
    "for i in dataset:\n",
    "    print(i)"
   ]
  },
  {
   "cell_type": "code",
   "execution_count": null,
   "metadata": {},
   "outputs": [],
   "source": [
    "iter = dataset.as_numpy_iterator()\n",
    "\n",
    "def show(ax, image):\n",
    "        ax.imshow(image, vmin=0, vmax=1)\n",
    "        ax.get_xaxis().set_visible(False)\n",
    "        ax.get_yaxis().set_visible(False)\n",
    "\n",
    "fig = plt.figure(figsize=(9, 9))\n",
    "\n",
    "axs = fig.subplots(3, 3)\n",
    "for i in range(3):\n",
    "    a = next(iter)\n",
    "    show(axs[i, 0], a[0].max(axis=0))\n",
    "    show(axs[i, 1], a[1].max(axis=0))\n",
    "    show(axs[i, 2], a[2].max(axis=0))"
   ]
  },
  {
   "cell_type": "code",
   "execution_count": null,
   "metadata": {},
   "outputs": [],
   "source": [
    "#cache_dir = Path('/Users/michaelstadler/Bioinformatics/Projects/rpb1/results/testsims_uPoNivMJ')\n",
    "cache_dir = Path('/Users/michaelstadler/Bioinformatics/Projects/rpb1/results/testsims_715_ylolCRqp')\n",
    "left = cache_dir / 'left'\n",
    "right = cache_dir / 'right'\n",
    "anchor = sorted(\n",
    "        [str(left / f) for f in os.listdir(left)]\n",
    "    )\n",
    "\n",
    "positive = sorted(\n",
    "        [str(right / f) for f in os.listdir(right)]\n",
    "    )\n"
   ]
  },
  {
   "cell_type": "code",
   "execution_count": null,
   "metadata": {},
   "outputs": [],
   "source": [
    "def fake_files(n):\n",
    "    l = []\n",
    "    for _ in range(n):\n",
    "        f = 'aaa'\n",
    "        for _1 in range(9):\n",
    "            f = f + '_' + str(np.random.randint(0,100))\n",
    "        f = f + '_rep0.pkl'\n",
    "        l.append(f)\n",
    "    return l\n",
    "\n",
    "anchor = fake_files(10_000)\n",
    "positive = fake_files(10_000)"
   ]
  },
  {
   "cell_type": "code",
   "execution_count": null,
   "metadata": {},
   "outputs": [],
   "source": [
    "rand_indxs = np.random.randint(0,len(a), 3)\n",
    "\n",
    "def show(ax, image):\n",
    "        ax.imshow(image)\n",
    "        ax.get_xaxis().set_visible(False)\n",
    "        ax.get_yaxis().set_visible(False)\n",
    "\n",
    "fig = plt.figure(figsize=(9, 9))\n",
    "\n",
    "axs = fig.subplots(3, 3)\n",
    "for i in range(3):\n",
    "    im_a = fm.load_pickle(a[rand_indxs[i]])\n",
    "    im_p = fm.load_pickle(p[rand_indxs[i]])\n",
    "    im_n = fm.load_pickle(n[rand_indxs[i]])\n",
    "    show(axs[i, 0], im_a.max(axis=0))\n",
    "    show(axs[i, 1], im_p.max(axis=0))\n",
    "    show(axs[i, 2], im_n.max(axis=0))\n",
    "\n",
    "    "
   ]
  },
  {
   "cell_type": "code",
   "execution_count": null,
   "metadata": {},
   "outputs": [],
   "source": [
    "cache_dir = Path('/Users/michaelstadler/Bioinformatics/Projects/rpb1/results/testsims_715_ylolCRqp')\n",
    "left = cache_dir / 'left'\n",
    "right = cache_dir / 'right'\n",
    "anchor = sorted(\n",
    "        [str(left / f) for f in os.listdir(left)]\n",
    "    )\n",
    "\n",
    "positive = sorted(\n",
    "        [str(right / f) for f in os.listdir(right)]\n",
    "    )\n",
    "\n",
    "train, val = cn.make_triplet_inputs(cache_dir, lower_margin=98, upper_margin=100, num_negatives=5)"
   ]
  },
  {
   "cell_type": "code",
   "execution_count": null,
   "metadata": {},
   "outputs": [],
   "source": [
    "visualize_batch(train)"
   ]
  },
  {
   "cell_type": "code",
   "execution_count": null,
   "metadata": {},
   "outputs": [],
   "source": [
    "import tempfile\n",
    "\n",
    "os.makedir()"
   ]
  },
  {
   "cell_type": "code",
   "execution_count": null,
   "metadata": {},
   "outputs": [],
   "source": [
    "sysTemp = tempfile.gettempdir()\n",
    "myTemp = os.path.join(sysTemp,'mytemp')\n",
    "\n",
    "#You must make sure myTemp exists\n",
    "if not os.path.exists(myTemp):\n",
    "    os.makedirs(myTemp)\n"
   ]
  },
  {
   "cell_type": "code",
   "execution_count": null,
   "metadata": {},
   "outputs": [],
   "source": [
    "from flymovie.load_save import save_pickle\n",
    "from cnn_models.siamese_cnn import make_triplet_inputs\n",
    "\n",
    "with tempfile.TemporaryDirectory() as topdir:\n",
    "    print(topdir)\n",
    "    os.mkdir(os.path.join(topdir, 'left'))\n",
    "    os.mkdir(os.path.join(topdir, 'right'))\n",
    "\n",
    "    im = np.ones((10,20,20))\n",
    "    im1 = im.copy()\n",
    "    im1[0,0,0] = 10\n",
    "    im2 = im.copy()\n",
    "    im2[0,0,1] = 10\n",
    "    save_pickle(im1, os.path.join(topdir, 'left', 'aaa_10_10_10_10_10_10_10_10_10_rep0.pkl'))\n",
    "    save_pickle(im1, os.path.join(topdir, 'right', 'aaa_10_10_10_10_10_10_10_10_10_rep1.pkl'))\n",
    "    save_pickle(im1, os.path.join(topdir, 'left', 'bbb_9_9_9_9_9_9_9_9_9_rep0.pkl'))\n",
    "    save_pickle(im1, os.path.join(topdir, 'right', 'bbb_9_9_9_9_9_9_9_9_9_rep1.pkl'))\n",
    "    save_pickle(im2, os.path.join(topdir, 'left', 'ccc_1_1_1_1_1_1_1_1_1_rep0.pkl'))\n",
    "    save_pickle(im2, os.path.join(topdir, 'right', 'ccc_1_1_1_1_1_1_1_1_1_rep1.pkl'))\n",
    "    save_pickle(im2, os.path.join(topdir, 'left', 'ddd_1.5_1.5_1.5_1.5_1.5_1.5_1.5_1.5_1.5_rep0.pkl'))\n",
    "    save_pickle(im2, os.path.join(topdir, 'right', 'ddd_1.5_1.5_1.5_1.5_1.5_1.5_1.5_1.5_1.5_rep1.pkl'))\n",
    "    cache_dir = Path(topdir)\n",
    "    train_dataset, val_dataset = make_triplet_inputs(cache_dir, lower_margin=0, upper_margin=45, num_negatives=1, \n",
    "        n_repeats=1, mip=False, batch_size=1, rotate=False)\n",
    "    for batch in train_dataset:\n",
    "        print('batch')\n",
    "\n",
    "    for batch in val_dataset:\n",
    "        print('v')\n",
    "    \n",
    "    for batch in train_dataset:\n",
    "        print(batch[0][0,0,0,0,0])\n",
    "        print(batch[2][0,0,0,0,0])\n",
    "        print('')\n",
    "\n",
    "    for batch in val_dataset:\n",
    "        print(batch[0][0,0,0,0,0])\n",
    "        print(batch[2][0,0,0,0,0])\n",
    "        print('')\n",
    "    \"\"\"\n",
    "    for batch in val_dataset:\n",
    "        print(batch[0][0,0,0,1,0])\n",
    "        print(batch[1][0,0,0,1,0])\n",
    "        print(batch[2][0,0,0,1,0])\n",
    "        print('')\n",
    "    \"\"\"\n",
    "    #visualize_batch(train_dataset)\n"
   ]
  },
  {
   "cell_type": "code",
   "execution_count": null,
   "metadata": {},
   "outputs": [],
   "source": [
    "# This function keeps the initial learning rate for the first ten epochs\n",
    "# and decreases it exponentially after that.\n",
    "def scheduler(epoch, lr):\n",
    "  #if epoch < 10:\n",
    "  #  return lr\n",
    "  #else:\n",
    "    return lr * 0.9#tf.math.exp(-0.1)\n",
    "\n",
    "model = tf.keras.models.Sequential([tf.keras.layers.Dense(10)])\n",
    "model.compile(tf.keras.optimizers.SGD(), loss='mse')\n",
    "round(model.optimizer.lr.numpy(), 5)\n"
   ]
  },
  {
   "cell_type": "code",
   "execution_count": null,
   "metadata": {},
   "outputs": [],
   "source": [
    "callback = tf.keras.callbacks.LearningRateScheduler(scheduler)\n",
    "history = model.fit(np.arange(100).reshape(5, 20), np.zeros(5),\n",
    "                    epochs=1, callbacks=[callback], verbose=0)\n",
    "round(model.optimizer.lr.numpy(), 5)\n"
   ]
  },
  {
   "cell_type": "code",
   "execution_count": null,
   "metadata": {},
   "outputs": [],
   "source": [
    "anchor_files = ['abc', 'def']\n",
    "ds = tf.data.Dataset.from_tensor_slices(anchor_files)\n",
    "def f(x):\n",
    "    print(x)\n",
    "    fm.load_pickle(x)\n",
    "    return x\n",
    "def process(x):\n",
    "    \n",
    "    x = tf.py_function(f, [x,], [tf.string,])\n",
    "    return x\n",
    "_ = ds.map(process)"
   ]
  },
  {
   "cell_type": "code",
   "execution_count": null,
   "metadata": {},
   "outputs": [],
   "source": [
    "h = fm.load_pickle('/Users/michaelstadler/Bioinformatics/Projects/rpb1/results/gridsearch_histories/history_0.001_0.5_all_to_hard.pkl')"
   ]
  },
  {
   "cell_type": "code",
   "execution_count": null,
   "metadata": {},
   "outputs": [],
   "source": [
    "def plot_history(h):\n",
    "    val_loss = []\n",
    "    loss = []\n",
    "    lr = []\n",
    "    for i in range(len(h)):\n",
    "        val_loss = val_loss + h[i]['val_loss']\n",
    "        loss = loss + h[i]['loss']\n",
    "        lr = lr + h[i]['lr']\n",
    "\n",
    "    plt.plot(val_loss)\n",
    "    #plt.plot(np.arange(1, len(loss)), loss[1:])\n",
    "    #plt.plot(np.arange(0, len(lr)),lr * 100)\n",
    "\n",
    "plot_history(h)"
   ]
  },
  {
   "cell_type": "code",
   "execution_count": null,
   "metadata": {},
   "outputs": [],
   "source": [
    "h = fm.load_pickle('/Users/michaelstadler/Bioinformatics/Projects/rpb1/results/gridsearch_histories/history_0.001_0.5_all_to_hard.pkl')\n",
    "plot_history(h)\n",
    "h = fm.load_pickle('/Users/michaelstadler/Bioinformatics/Projects/rpb1/results/gridsearch_histories/history_0.00033_0.5_all_to_hard.pkl')\n",
    "plot_history(h)\n",
    "h = fm.load_pickle('/Users/michaelstadler/Bioinformatics/Projects/rpb1/results/gridsearch_histories/history_0.0001_0.5_all_to_hard.pkl')\n",
    "plot_history(h)\n"
   ]
  },
  {
   "cell_type": "code",
   "execution_count": null,
   "metadata": {},
   "outputs": [],
   "source": [
    "h = fm.load_pickle('/Users/michaelstadler/Bioinformatics/Projects/rpb1/results/gridsearch_histories/history_0.0001_0.5_nocurriculum.pkl')\n",
    "plot_history(h)\n",
    "h = fm.load_pickle('/Users/michaelstadler/Bioinformatics/Projects/rpb1/results/gridsearch_histories/history_0.0001_0.5_all_to_hard.pkl')\n",
    "plot_history(h)"
   ]
  },
  {
   "cell_type": "code",
   "execution_count": 40,
   "metadata": {},
   "outputs": [],
   "source": [
    "def compare_embeddings_self(embeddings1, embeddings2):\n",
    "    ranks = []\n",
    "    for n in range(embeddings1.shape[0]):\n",
    "        emb_ref = embeddings1[n]\n",
    "        embeddings_nonself = np.vstack((embeddings2, embeddings1[:n, :], embeddings1[(1+n):, :]))\n",
    "        dists = np.sum((embeddings_nonself - emb_ref) ** 2, axis=1)\n",
    "        idxs_sorted = np.argsort(dists)\n",
    "        ranks.append(np.where(idxs_sorted == n)[0][0])\n",
    "        \n",
    "    return ranks\n",
    "\n",
    "\n",
    "compare_embeddings_self(im_embeddings1, im_embeddings2)"
   ]
  },
  {
   "cell_type": "code",
   "execution_count": 126,
   "metadata": {},
   "outputs": [
    {
     "ename": "SyntaxError",
     "evalue": "invalid syntax (4230605215.py, line 7)",
     "output_type": "error",
     "traceback": [
      "\u001b[0;36m  File \u001b[0;32m\"/var/folders/46/dftvy0sd0jv10kyqlkqc2d8m0000gn/T/ipykernel_1805/4230605215.py\"\u001b[0;36m, line \u001b[0;32m7\u001b[0m\n\u001b[0;31m    for e in (embedd)\u001b[0m\n\u001b[0m                     ^\u001b[0m\n\u001b[0;31mSyntaxError\u001b[0m\u001b[0;31m:\u001b[0m invalid syntax\n"
     ]
    }
   ],
   "source": [
    "from sklearn.decomposition import PCA\n",
    "\n",
    "X = im_embeddings1.copy()\n",
    "pca = PCA(n_components=3)\n",
    "pca.fit(X)\n",
    "print(pca.explained_variance_ratio_)\n",
    "for e in (embedd)\n",
    "plt.scatter(components[:,0], components[:,1])\n"
   ]
  },
  {
   "cell_type": "code",
   "execution_count": 56,
   "metadata": {},
   "outputs": [
    {
     "data": {
      "text/plain": [
       "<bound method _BasePCA.transform of PCA(n_components=3)>"
      ]
     },
     "execution_count": 56,
     "metadata": {},
     "output_type": "execute_result"
    }
   ],
   "source": [
    "pca.transform"
   ]
  },
  {
   "cell_type": "code",
   "execution_count": 120,
   "metadata": {},
   "outputs": [],
   "source": [
    "weights_file = '/Users/michaelstadler/Bioinformatics/Projects/rpb1/results/gridsearch/variables/checkpoint_0.001_0.5_nocurriculum'\n",
    "embedding.load_weights(weights_file)\n",
    "im_embeddings1, params1 = embed_images('/Users/michaelstadler/Bioinformatics/Projects/rpb1/results/testsims_uPoNivMJ/left', embedding)\n",
    "im_embeddings2, params2 = embed_images('/Users/michaelstadler/Bioinformatics/Projects/rpb1/results/testsims_uPoNivMJ/right', embedding)\n",
    "#compare_embeddings_self(im_embeddings1, im_embeddings2)"
   ]
  },
  {
   "cell_type": "code",
   "execution_count": 121,
   "metadata": {},
   "outputs": [
    {
     "data": {
      "text/plain": [
       "array([0. , 0. , 0. , 0. , 1.5, 0. , 0.5, 0. , 0. , 0. , 0.5, 0. , 1.5,\n",
       "       0.5, 0.5, 0. , 0. , 0. , 0. , 0. , 1. , 0. , 0. , 1. , 0.5, 1. ,\n",
       "       0. , 1. , 0. , 0.5, 0. , 1. , 0. , 0. , 0. , 0. , 0. , 0. , 0. ,\n",
       "       0. , 0. , 0. , 0. , 0. , 0. , 0. , 0. , 1. , 0. , 0.5])"
      ]
     },
     "execution_count": 121,
     "metadata": {},
     "output_type": "execute_result"
    }
   ],
   "source": [
    "compare_embeddings_matchedpairs(im_embeddings1, im_embeddings2)\n",
    "\n"
   ]
  },
  {
   "cell_type": "code",
   "execution_count": 123,
   "metadata": {},
   "outputs": [
    {
     "data": {
      "text/plain": [
       "array([ 3.5, 22.5,  7.5,  8. ,  6.5, 16. , 41.5, 45.5, 46.5, 37.5, 18. ,\n",
       "       14.5, 47. , 18.5,  8. , 31. , 16.5, 26.5, 44.5,  0.5,  6. , 41.5,\n",
       "        5. , 42. , 39.5, 46.5, 30. , 15. , 49. , 20.5, 24. , 13. ,  8.5,\n",
       "       47. , 16.5, 40. , 34.5, 10. , 27. , 14. ,  0.5,  7.5, 44.5,  8. ,\n",
       "       16.5, 32. ,  0.5,  5.5, 20.5, 39.5])"
      ]
     },
     "execution_count": 123,
     "metadata": {},
     "output_type": "execute_result"
    }
   ],
   "source": [
    "np.random.shuffle(im_embeddings2)\n",
    "compare_embeddings_matchedpairs(im_embeddings1, im_embeddings2)"
   ]
  },
  {
   "cell_type": "markdown",
   "metadata": {},
   "source": [
    "I need some new ideas on how to test these. I think the magic is going to be in the test datasets. Some ideas:\n",
    "    - Take real images, transform, test:\n",
    "        - multiple simulations of same parameters\n",
    "        - rotation\n",
    "        - re-apply noise\n",
    "    - Simulate images with narrow or wide ranges of parameters matched to \n",
    "    - Simulate images that vary only in certain traits and see how well separated they are.\n",
    "\n",
    "\n",
    "Two sides to every test: the similar images and the competition. Accuracy will depend on both. Want to challenge our network with \n",
    "\n",
    "I think this ends up with generating a bunch of sets which consist of paired images. The pairs are similar images. The task for each is to determine the ranking of the distance between the pairs compared to the distance to all others in the set. Can then do topN accuracy or mean rank.\n",
    "\n",
    "Write a function to print out a report for a model.\n",
    "\n",
    "Test function:\n",
    "    - Get embedding for left and right\n",
    "    - Stack all of left except self onto right files\n",
    "    - calc distance to ref in embedding\n",
    "    - Rank\n",
    "    - return rank of \"self\"\n"
   ]
  },
  {
   "cell_type": "code",
   "execution_count": 119,
   "metadata": {},
   "outputs": [
    {
     "ename": "NameError",
     "evalue": "name 'im_embedding' is not defined",
     "output_type": "error",
     "traceback": [
      "\u001b[0;31m---------------------------------------------------------------------------\u001b[0m",
      "\u001b[0;31mNameError\u001b[0m                                 Traceback (most recent call last)",
      "\u001b[0;32m/var/folders/46/dftvy0sd0jv10kyqlkqc2d8m0000gn/T/ipykernel_1805/2891570526.py\u001b[0m in \u001b[0;36m<module>\u001b[0;34m\u001b[0m\n\u001b[0;32m----> 1\u001b[0;31m \u001b[0mcompare_embeddings_matchedpairs\u001b[0m\u001b[0;34m(\u001b[0m\u001b[0mim_embedding\u001b[0m\u001b[0;34m)\u001b[0m\u001b[0;34m\u001b[0m\u001b[0;34m\u001b[0m\u001b[0m\n\u001b[0m",
      "\u001b[0;31mNameError\u001b[0m: name 'im_embedding' is not defined"
     ]
    }
   ],
   "source": [
    "compare_embeddings_matchedpairs(im_embedding)"
   ]
  },
  {
   "cell_type": "code",
   "execution_count": 128,
   "metadata": {},
   "outputs": [
    {
     "name": "stdout",
     "output_type": "stream",
     "text": [
      "[0.61601948 0.3155334  0.04522466]\n"
     ]
    },
    {
     "data": {
      "image/png": "[encoded data removed]",
      "text/plain": [
       "<Figure size 576x288 with 2 Axes>"
      ]
     },
     "metadata": {
      "needs_background": "light"
     },
     "output_type": "display_data"
    }
   ],
   "source": [
    "#---------------------------------------------------------------------------\n",
    "def rank_embeddingdist_matchedpairs(embeddings1, embeddings2):\n",
    "    \"\"\"Determine the ranking of matched pairs of images w.r.t. embedding \n",
    "    distance.\n",
    "    \n",
    "    Takes two sets of embeddings that represent matched pairs of images \n",
    "    (the same row in embeddings1 and embeddings2 correspond to paired images,\n",
    "    e.g. two different simulations performed with the same parameters). For\n",
    "    each image, the distance to every other image is calculated, the \n",
    "    distances are ranked, and the ranking of its matched pair is recorded. \n",
    "    For an ideal model, the ranking will always be 0. \n",
    "    \n",
    "    \n",
    "    \"\"\"\n",
    "    def get_ranks(embeddins1, embeddings2):\n",
    "        ranks = []\n",
    "        for n in range(embeddings1.shape[0]):\n",
    "            emb_ref = embeddings1[n]\n",
    "            # Stack all the embeddings EXCEPT self from first set onto second\n",
    "            # set. The row number of the matched pair will be unchanged.\n",
    "            embeddings_nonself = np.vstack((embeddings2, embeddings1[:n, :], \n",
    "                                embeddings1[(1+n):, :]))\n",
    "            dists = np.sum((embeddings_nonself - emb_ref) ** 2, axis=1)\n",
    "            # Rank indexes by distance, add the rank of the matched pair.\n",
    "            idxs_sorted = np.argsort(dists)\n",
    "            ranks.append(np.where(idxs_sorted == n)[0][0])\n",
    "            \n",
    "        return np.array(ranks)\n",
    "    \n",
    "    # Get the ranks wrt each image in embeddings1, then embeddings2, return mean \n",
    "    # rank for each pair.\n",
    "    ranks1 = get_ranks(embeddings1, embeddings2)\n",
    "    ranks2 = get_ranks(embeddings2, embeddings1)\n",
    "    return (ranks1 + ranks2) / 2\n",
    "\n",
    "#---------------------------------------------------------------------------\n",
    "def plot_pca(embeddings1, embeddings2):\n",
    "    \"\"\"Plot a 2d and 3d PCA of embeddings of matched pair images.\n",
    "    \n",
    "    Embeddings represent matched pairs (same row in each represent\n",
    "    embeddings of similar images). PCA is performed on all embeddings\n",
    "    together, PCA is applied to each set, and positions of each sample\n",
    "    are plotted in scatterplots using random color pallet such that matched\n",
    "    pairs are the same color.\n",
    "\n",
    "    2D scatterplot features PC1 vs. PC2; 3D scatter added PC3.\n",
    "\n",
    "    Args:\n",
    "        embeddings1 and embeddings2: ndarray\n",
    "            Embedding locations for images, each row is an image\n",
    "    \n",
    "    Returns: None\n",
    "    \"\"\"\n",
    "    # Combine and perform PCA dimensionality reduction.\n",
    "    combined = np.vstack((embeddings1, embeddings2))\n",
    "    pca = PCA(n_components=3)\n",
    "    pca.fit(combined)\n",
    "    print(pca.explained_variance_ratio_)\n",
    "    fig = plt.figure(figsize=plt.figaspect(0.5))\n",
    "    ax1 = fig.add_subplot(1, 2, 1)\n",
    "    ax2 = fig.add_subplot(1, 2, 2, projection='3d')\n",
    "    \n",
    "    # Plot separately for each set of embeddings.\n",
    "    for e in (embeddings1, embeddings2):\n",
    "        tfm = pca.transform(e)\n",
    "        ax1.scatter(tfm[:,0], tfm[:,1], c = np.arange(tfm.shape[0]), cmap='prism')\n",
    "        ax2.scatter(tfm[:,0], tfm[:,1], tfm[:,2], c = np.arange(tfm.shape[0]), cmap='prism')\n",
    "\n",
    "ev.plot_pca(im_embeddings1, im_embeddings2)"
   ]
  },
  {
   "cell_type": "code",
   "execution_count": 113,
   "metadata": {},
   "outputs": [
    {
     "name": "stdout",
     "output_type": "stream",
     "text": [
      "[0.61601948 0.3155334  0.04522466]\n"
     ]
    },
    {
     "data": {
      "image/png": "[encoded data removed]",
      "text/plain": [
       "<Figure size 576x288 with 2 Axes>"
      ]
     },
     "metadata": {
      "needs_background": "light"
     },
     "output_type": "display_data"
    }
   ],
   "source": [
    "import tempfile\n",
    "def test_pdf(embeddings1, embeddings2):\n",
    "    ranks = compare_embeddings_self(embeddings1, embeddings2)\n",
    "    plot_pca(embeddings1, embeddings2)\n",
    "    pdf = FPDF()\n",
    "    pdf.add_page()\n",
    "    pdf.set_font('Arial', 'B', 16)\n",
    "    pdf.cell(40, 10, 'Hello World!')\n",
    "    #plt.scatter(np.random.random(10), np.random.random(10))\n",
    "    with tempfile.NamedTemporaryFile('w', suffix='.png') as f:\n",
    "        plt.savefig(f.name, dpi=150)\n",
    "        pdf.image(f.name, w=65, h=50)\n",
    "    pdf.output('/Users/michaelstadler/Bioinformatics/Projects/rpb1/results/gridsearch/test.pdf', 'F')\n",
    "        \n",
    "        \n",
    "test_pdf(im_embeddings1, im_embeddings2)"
   ]
  },
  {
   "cell_type": "code",
   "execution_count": null,
   "metadata": {},
   "outputs": [],
   "source": []
  }
 ],
 "metadata": {
  "interpreter": {
   "hash": "eca358e5a2f32eca92640d7df176777d47bc005b1d6ea5f309faabbd9462bdfe"
  },
  "kernelspec": {
   "display_name": "Python 3.9.7 ('im2')",
   "language": "python",
   "name": "python3"
  },
  "language_info": {
   "codemirror_mode": {
    "name": "ipython",
    "version": 3
   },
   "file_extension": ".py",
   "mimetype": "text/x-python",
   "name": "python",
   "nbconvert_exporter": "python",
   "pygments_lexer": "ipython3",
   "version": "3.9.7"
  },
  "orig_nbformat": 4
 },
 "nbformat": 4,
 "nbformat_minor": 2
}
