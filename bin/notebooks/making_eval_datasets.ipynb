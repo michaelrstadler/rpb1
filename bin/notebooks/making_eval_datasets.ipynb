{
 "cells": [
  {
   "cell_type": "code",
   "execution_count": 82,
   "metadata": {},
   "outputs": [
    {
     "name": "stdout",
     "output_type": "stream",
     "text": [
      "The autoreload extension is already loaded. To reload it, use:\n",
      "  %reload_ext autoreload\n"
     ]
    }
   ],
   "source": [
    "from importlib import reload\n",
    "import flymovie as fm\n",
    "from flymovie.simnuc import Sim\n",
    "import matplotlib.pyplot as plt\n",
    "import scipy.ndimage as ndi\n",
    "import numpy as np\n",
    "import os\n",
    "import random\n",
    "import pickle\n",
    "from importlib import reload\n",
    "from flymovie.general_functions import stack_normalize_minmax\n",
    "%load_ext autoreload\n",
    "%autoreload 2"
   ]
  },
  {
   "cell_type": "code",
   "execution_count": 12,
   "metadata": {},
   "outputs": [],
   "source": [
    "kernel = fm.load_pickle('/Users/michaelstadler/Bioinformatics/Projects/rpb1/PSFs/psf_20220210_21x25x25pixels_100x50x50voxel.pkl')\n",
    "gfp_intensity=100"
   ]
  },
  {
   "cell_type": "code",
   "execution_count": 64,
   "metadata": {},
   "outputs": [],
   "source": [
    "def mkdirs(dir_):\n",
    "    if not os.path.isdir(dir_):\n",
    "        os.mkdir(dir_)\n",
    "        os.mkdir(os.path.join(dir_, 'left'))\n",
    "        os.mkdir(os.path.join(dir_, 'right'))"
   ]
  },
  {
   "cell_type": "markdown",
   "metadata": {},
   "source": [
    "## Isolating cluster number"
   ]
  },
  {
   "cell_type": "code",
   "execution_count": 69,
   "metadata": {},
   "outputs": [],
   "source": [
    "outfolder = '/Users/michaelstadler/Bioinformatics/Projects/rpb1/data/siamese_eval_datasets/iso_nclusters'\n",
    "mkdirs(outfolder)\n",
    "mask = Sim.make_spherical_mask(100,100,100,40)\n",
    "sim = Sim(mask, res_z=85, res_ij=85)\n",
    "eroded_coords = sim.get_eroded_coordinates(10)\n",
    "eroded_coords = list(zip(eroded_coords[0], eroded_coords[1], eroded_coords[2]))\n",
    "\n",
    "for n_clusters in range(0,150,5):\n",
    "    for rep in ['left', 'right']:\n",
    "        sim = Sim(mask, res_z=85, res_ij=85)\n",
    "        sim.add_kernel(kernel, res_z=100, res_ij=50)\n",
    "        # Add free population.\n",
    "        sim.add_n_objects(10_000, gfp_intensity, fluors_per_object=1, size=1, mode='nuc')\n",
    "        # Add HLB.\n",
    "        sim.add_sphere(eroded_coords[np.random.randint(len(eroded_coords))], gfp_intensity, 400, 5)\n",
    "        sim.add_sphere(eroded_coords[np.random.randint(len(eroded_coords))], gfp_intensity, 400, 5)\n",
    "        # Add clusters.\n",
    "        sim.add_n_objects(n_clusters, gfp_intensity, fluors_per_object=13, \n",
    "                size=2)\n",
    "        # Add noise and convolve.\n",
    "        sim.add_noise('poisson')\n",
    "        sim.convolve()\n",
    "        sim.resize((250,85,85), order=1)\n",
    "        sim.im = stack_normalize_minmax(sim.im) * 1000\n",
    "        filename = '0_0_' + str(n_clusters) + '.pkl'\n",
    "        sim.add_noise('gaussian', sigma=27)\n",
    "        fm.save_pickle(sim.im, os.path.join(outfolder, rep, filename))\n",
    "\n",
    "\n"
   ]
  },
  {
   "cell_type": "code",
   "execution_count": 92,
   "metadata": {},
   "outputs": [
    {
     "data": {
      "application/vnd.jupyter.widget-view+json": {
       "model_id": "3b689a64b9c44e149219e620ec8e3cea",
       "version_major": 2,
       "version_minor": 0
      },
      "text/plain": [
       "interactive(children=(Dropdown(description='Color', index=1, options=('gray', 'cividis', 'gray_r', 'Greens', '…"
      ]
     },
     "metadata": {},
     "output_type": "display_data"
    }
   ],
   "source": [
    "im1a = fm.load_pickle('/Users/michaelstadler/Bioinformatics/Projects/rpb1/data/siamese_eval_datasets/iso_nclusters/left/0_0_5.pkl')\n",
    "im1b = fm.load_pickle('/Users/michaelstadler/Bioinformatics/Projects/rpb1/data/siamese_eval_datasets/iso_nclusters/right/0_0_5.pkl')\n",
    "im2a = fm.load_pickle('/Users/michaelstadler/Bioinformatics/Projects/rpb1/data/siamese_eval_datasets/iso_nclusters/left/0_0_50.pkl')\n",
    "im2b = fm.load_pickle('/Users/michaelstadler/Bioinformatics/Projects/rpb1/data/siamese_eval_datasets/iso_nclusters/right/0_0_50.pkl')\n",
    "fm.viewer([im1a, im1b, im2a, im2b], 6)"
   ]
  },
  {
   "cell_type": "markdown",
   "metadata": {},
   "source": [
    "## Isolating cluster fluor number"
   ]
  },
  {
   "cell_type": "code",
   "execution_count": 71,
   "metadata": {},
   "outputs": [],
   "source": [
    "outfolder = '/Users/michaelstadler/Bioinformatics/Projects/rpb1/data/siamese_eval_datasets/iso_mols_per_cluster'\n",
    "mkdirs(outfolder)\n",
    "mask = Sim.make_spherical_mask(100,100,100,40)\n",
    "sim = Sim(mask, res_z=85, res_ij=85)\n",
    "eroded_coords = sim.get_eroded_coordinates(10)\n",
    "eroded_coords = list(zip(eroded_coords[0], eroded_coords[1], eroded_coords[2]))\n",
    "\n",
    "for fluors_per_cluster in range(3,37,3):\n",
    "    for rep in ['left', 'right']:\n",
    "        sim = Sim(mask, res_z=85, res_ij=85)\n",
    "        sim.add_kernel(kernel, res_z=100, res_ij=50)\n",
    "        # Add free population.\n",
    "        sim.add_n_objects(10_000, gfp_intensity, fluors_per_object=1, size=1, mode='nuc')\n",
    "        # Add HLB.\n",
    "        sim.add_sphere(eroded_coords[np.random.randint(len(eroded_coords))], gfp_intensity, 400, 5)\n",
    "        sim.add_sphere(eroded_coords[np.random.randint(len(eroded_coords))], gfp_intensity, 400, 5)\n",
    "        # Add clusters.\n",
    "        sim.add_n_objects(60, gfp_intensity, fluors_per_object=fluors_per_cluster, \n",
    "                size=2)\n",
    "        # Add noise and convolve.\n",
    "        sim.add_noise('poisson')\n",
    "        sim.convolve()\n",
    "        sim.resize((250,85,85), order=1)\n",
    "        sim.im = stack_normalize_minmax(sim.im) * 1000\n",
    "        filename = '0_0_' + str(fluors_per_cluster) + '.pkl'\n",
    "        sim.add_noise('gaussian', sigma=27)\n",
    "        fm.save_pickle(sim.im, os.path.join(outfolder, rep, filename))"
   ]
  },
  {
   "cell_type": "code",
   "execution_count": 74,
   "metadata": {},
   "outputs": [
    {
     "data": {
      "application/vnd.jupyter.widget-view+json": {
       "model_id": "a67d93f9c8e744e88a2c8cd1a1b8bfe8",
       "version_major": 2,
       "version_minor": 0
      },
      "text/plain": [
       "interactive(children=(Dropdown(description='Color', index=1, options=('gray', 'cividis', 'gray_r', 'Greens', '…"
      ]
     },
     "metadata": {},
     "output_type": "display_data"
    }
   ],
   "source": [
    "im = fm.load_pickle('/Users/michaelstadler/Bioinformatics/Projects/rpb1/data/siamese_eval_datasets/iso_mols_per_cluster/left/0_0_3.pkl')\n",
    "fm.viewer(im, 6)"
   ]
  },
  {
   "cell_type": "markdown",
   "metadata": {},
   "source": [
    "## Isolating nfree"
   ]
  },
  {
   "cell_type": "code",
   "execution_count": 75,
   "metadata": {},
   "outputs": [],
   "source": [
    "outfolder = '/Users/michaelstadler/Bioinformatics/Projects/rpb1/data/siamese_eval_datasets/iso_nfree'\n",
    "mkdirs(outfolder)\n",
    "mask = Sim.make_spherical_mask(100,100,100,40)\n",
    "sim = Sim(mask, res_z=85, res_ij=85)\n",
    "eroded_coords = sim.get_eroded_coordinates(10)\n",
    "eroded_coords = list(zip(eroded_coords[0], eroded_coords[1], eroded_coords[2]))\n",
    "\n",
    "for nfree in range(0, 40_000, 2500):\n",
    "    for rep in ['left', 'right']:\n",
    "        sim = Sim(mask, res_z=85, res_ij=85)\n",
    "        sim.add_kernel(kernel, res_z=100, res_ij=50)\n",
    "        # Add free population.\n",
    "        sim.add_n_objects(nfree, gfp_intensity, fluors_per_object=1, size=1, mode='nuc')\n",
    "        # Add HLB.\n",
    "        sim.add_sphere(eroded_coords[np.random.randint(len(eroded_coords))], gfp_intensity, 400, 5)\n",
    "        sim.add_sphere(eroded_coords[np.random.randint(len(eroded_coords))], gfp_intensity, 400, 5)\n",
    "        # Add clusters.\n",
    "        sim.add_n_objects(60, gfp_intensity, fluors_per_object=15, \n",
    "                size=2)\n",
    "        # Add noise and convolve.\n",
    "        sim.add_noise('poisson')\n",
    "        sim.convolve()\n",
    "        sim.resize((250,85,85), order=1)\n",
    "        sim.im = stack_normalize_minmax(sim.im) * 1000\n",
    "        filename = '0_0_' + str(nfree) + '.pkl'\n",
    "        sim.add_noise('gaussian', sigma=27)\n",
    "        fm.save_pickle(sim.im, os.path.join(outfolder, rep, filename))"
   ]
  },
  {
   "cell_type": "code",
   "execution_count": 78,
   "metadata": {},
   "outputs": [
    {
     "data": {
      "application/vnd.jupyter.widget-view+json": {
       "model_id": "a4da3ee0aa6e40d5a6b0572106dad175",
       "version_major": 2,
       "version_minor": 0
      },
      "text/plain": [
       "interactive(children=(Dropdown(description='Color', index=1, options=('gray', 'cividis', 'gray_r', 'Greens', '…"
      ]
     },
     "metadata": {},
     "output_type": "display_data"
    }
   ],
   "source": [
    "im = fm.load_pickle('/Users/michaelstadler/Bioinformatics/Projects/rpb1/data/siamese_eval_datasets/iso_nfree/left/0_0_20000.pkl')\n",
    "fm.viewer(im, 6)"
   ]
  },
  {
   "cell_type": "markdown",
   "metadata": {},
   "source": [
    "## Isolating fluors_per_HLB"
   ]
  },
  {
   "cell_type": "code",
   "execution_count": 81,
   "metadata": {},
   "outputs": [],
   "source": [
    "outfolder = '/Users/michaelstadler/Bioinformatics/Projects/rpb1/data/siamese_eval_datasets/iso_HLB_fluors'\n",
    "mkdirs(outfolder)\n",
    "mask = Sim.make_spherical_mask(100,100,100,40)\n",
    "sim = Sim(mask, res_z=85, res_ij=85)\n",
    "eroded_coords = sim.get_eroded_coordinates(10)\n",
    "eroded_coords = list(zip(eroded_coords[0], eroded_coords[1], eroded_coords[2]))\n",
    "\n",
    "for fluors_per_hlb in range(100, 801, 50):\n",
    "    for rep in ['left', 'right']:\n",
    "        sim = Sim(mask, res_z=85, res_ij=85)\n",
    "        sim.add_kernel(kernel, res_z=100, res_ij=50)\n",
    "        # Add free population.\n",
    "        sim.add_n_objects(10_000, gfp_intensity, fluors_per_object=1, size=1, mode='nuc')\n",
    "        # Add HLB.\n",
    "        sim.add_sphere(eroded_coords[np.random.randint(len(eroded_coords))], gfp_intensity, fluors_per_hlb, 5)\n",
    "        sim.add_sphere(eroded_coords[np.random.randint(len(eroded_coords))], gfp_intensity, fluors_per_hlb, 5)\n",
    "        # Add clusters.\n",
    "        sim.add_n_objects(60, gfp_intensity, fluors_per_object=15, \n",
    "                size=2)\n",
    "        # Add noise and convolve.\n",
    "        sim.add_noise('poisson')\n",
    "        sim.convolve()\n",
    "        sim.resize((250,85,85), order=1)\n",
    "        sim.im = stack_normalize_minmax(sim.im) * 1000\n",
    "        filename = '0_0_' + str(fluors_per_hlb) + '.pkl'\n",
    "        sim.add_noise('gaussian', sigma=27)\n",
    "        fm.save_pickle(sim.im, os.path.join(outfolder, rep, filename))"
   ]
  },
  {
   "cell_type": "code",
   "execution_count": 80,
   "metadata": {},
   "outputs": [
    {
     "data": {
      "application/vnd.jupyter.widget-view+json": {
       "model_id": "67ab0500e70d4645a063afb3f0b9e344",
       "version_major": 2,
       "version_minor": 0
      },
      "text/plain": [
       "interactive(children=(Dropdown(description='Color', index=1, options=('gray', 'cividis', 'gray_r', 'Greens', '…"
      ]
     },
     "metadata": {},
     "output_type": "display_data"
    }
   ],
   "source": [
    "im = fm.load_pickle('/Users/michaelstadler/Bioinformatics/Projects/rpb1/data/siamese_eval_datasets/iso_HLB_fluors/left/0_0_100.pkl')\n",
    "fm.viewer(im, 6)"
   ]
  },
  {
   "cell_type": "markdown",
   "metadata": {},
   "source": [
    "## Rotating images"
   ]
  },
  {
   "cell_type": "code",
   "execution_count": 91,
   "metadata": {},
   "outputs": [],
   "source": [
    "outfolder = '/Users/michaelstadler/Bioinformatics/Projects/rpb1/data/siamese_eval_datasets/rotations'\n",
    "mkdirs(outfolder)\n",
    "mask = Sim.make_spherical_mask(100,100,100,40)\n",
    "sim = Sim(mask, res_z=85, res_ij=85)\n",
    "eroded_coords = sim.get_eroded_coordinates(10)\n",
    "eroded_coords = list(zip(eroded_coords[0], eroded_coords[1], eroded_coords[2]))\n",
    "\n",
    "for n_clusters in range(0,150,5):\n",
    "    sim = Sim(mask, res_z=85, res_ij=85)\n",
    "    sim.add_kernel(kernel, res_z=100, res_ij=50)\n",
    "    # Add free population.\n",
    "    sim.add_n_objects(10_000, gfp_intensity, fluors_per_object=1, size=1, mode='nuc')\n",
    "    # Add HLB.\n",
    "    sim.add_sphere(eroded_coords[np.random.randint(len(eroded_coords))], gfp_intensity, 400, 5)\n",
    "    sim.add_sphere(eroded_coords[np.random.randint(len(eroded_coords))], gfp_intensity, 400, 5)\n",
    "    # Add clusters.\n",
    "    sim.add_n_objects(n_clusters, gfp_intensity, fluors_per_object=13, \n",
    "            size=2)\n",
    "    # Add noise and convolve.\n",
    "    sim.add_noise('poisson')\n",
    "    sim.convolve()\n",
    "    sim.resize((250,85,85), order=1)\n",
    "    sim.im = stack_normalize_minmax(sim.im) * 1000\n",
    "    filename = '0_0_' + str(n_clusters) + '.pkl'\n",
    "    sim.add_noise('gaussian', sigma=27)\n",
    "    fm.save_pickle(sim.im, os.path.join(outfolder, 'left', filename))\n",
    "    im_rotated = ndi.rotate(sim.im, np.random.RandomState().uniform(-180, 45), axes=(1,2), reshape=False)\n",
    "    fm.save_pickle(im_rotated, os.path.join(outfolder, 'right', filename))"
   ]
  },
  {
   "cell_type": "code",
   "execution_count": 90,
   "metadata": {},
   "outputs": [
    {
     "data": {
      "application/vnd.jupyter.widget-view+json": {
       "model_id": "f4735f7e1dfd4eba991e0372fa6f18ed",
       "version_major": 2,
       "version_minor": 0
      },
      "text/plain": [
       "interactive(children=(Dropdown(description='Color', index=1, options=('gray', 'cividis', 'gray_r', 'Greens', '…"
      ]
     },
     "metadata": {},
     "output_type": "display_data"
    }
   ],
   "source": [
    "im1 = fm.load_pickle('/Users/michaelstadler/Bioinformatics/Projects/rpb1/data/siamese_eval_datasets/rotations/left/0_0_15.pkl')\n",
    "im2 = fm.load_pickle('/Users/michaelstadler/Bioinformatics/Projects/rpb1/data/siamese_eval_datasets/rotations/right/0_0_15.pkl')\n",
    "fm.viewer([im1.max(axis=0), im2.max(axis=0)], 6)"
   ]
  },
  {
   "cell_type": "code",
   "execution_count": null,
   "metadata": {},
   "outputs": [],
   "source": []
  }
 ],
 "metadata": {
  "interpreter": {
   "hash": "eca358e5a2f32eca92640d7df176777d47bc005b1d6ea5f309faabbd9462bdfe"
  },
  "kernelspec": {
   "display_name": "Python 3.9.7 ('im2')",
   "language": "python",
   "name": "python3"
  },
  "language_info": {
   "codemirror_mode": {
    "name": "ipython",
    "version": 3
   },
   "file_extension": ".py",
   "mimetype": "text/x-python",
   "name": "python",
   "nbconvert_exporter": "python",
   "pygments_lexer": "ipython3",
   "version": "3.9.7"
  },
  "orig_nbformat": 4
 },
 "nbformat": 4,
 "nbformat_minor": 2
}
