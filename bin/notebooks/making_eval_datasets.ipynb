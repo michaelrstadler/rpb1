{
 "cells": [
  {
   "cell_type": "code",
   "execution_count": 29,
   "metadata": {},
   "outputs": [
    {
     "name": "stdout",
     "output_type": "stream",
     "text": [
      "The autoreload extension is already loaded. To reload it, use:\n",
      "  %reload_ext autoreload\n"
     ]
    }
   ],
   "source": [
    "from importlib import reload\n",
    "import flymovie as fm\n",
    "from flymovie.simnuc import Sim\n",
    "import matplotlib.pyplot as plt\n",
    "import numpy as np\n",
    "import os\n",
    "import random\n",
    "import pickle\n",
    "from importlib import reload\n",
    "from flymovie.general_functions import stack_normalize_minmax\n",
    "%load_ext autoreload\n",
    "%autoreload 2"
   ]
  },
  {
   "cell_type": "code",
   "execution_count": 12,
   "metadata": {},
   "outputs": [],
   "source": [
    "kernel = fm.load_pickle('/Users/michaelstadler/Bioinformatics/Projects/rpb1/PSFs/psf_20220210_21x25x25pixels_100x50x50voxel.pkl')\n",
    "gfp_intensity=100"
   ]
  },
  {
   "cell_type": "markdown",
   "metadata": {},
   "source": [
    "## Isolating cluster number"
   ]
  },
  {
   "cell_type": "code",
   "execution_count": 46,
   "metadata": {},
   "outputs": [],
   "source": [
    "outfolder = '/Users/michaelstadler/Bioinformatics/Projects/rpb1/data/siamese_eval_datsets/iso_nclusters'\n",
    "mask = Sim.make_spherical_mask(100,100,100,40)\n",
    "sim = Sim(mask, res_z=85, res_ij=85)\n",
    "eroded_coords = sim.get_eroded_coordinates(10)\n",
    "eroded_coords = list(zip(eroded_coords[0], eroded_coords[1], eroded_coords[2]))\n",
    "\n",
    "for n_clusters in range(0,150,5):\n",
    "    for rep in ['left', 'right']:\n",
    "        sim = Sim(mask, res_z=85, res_ij=85)\n",
    "        sim.add_kernel(kernel, res_z=100, res_ij=50)\n",
    "        # Add free population.\n",
    "        sim.add_n_objects(10_000, gfp_intensity, fluors_per_object=1, size=1, mode='nuc')\n",
    "        # Add HLB.\n",
    "        sim.add_sphere(eroded_coords[np.random.randint(len(eroded_coords))], gfp_intensity, 400, 5)\n",
    "        sim.add_sphere(eroded_coords[np.random.randint(len(eroded_coords))], gfp_intensity, 400, 5)\n",
    "        # Add clusters.\n",
    "        sim.add_n_objects(n_clusters, gfp_intensity, fluors_per_object=13, \n",
    "                size=2)\n",
    "        # Add noise and convolve.\n",
    "        sim.add_noise('poisson')\n",
    "        sim.convolve()\n",
    "        sim.resize((250,85,85), order=1)\n",
    "        sim.im = stack_normalize_minmax(sim.im) * 1000\n",
    "        filename = str(n_clusters) + '.pkl'\n",
    "        sim.add_noise('gaussian', sigma=27)\n",
    "        fm.save_pickle(sim.im, os.path.join(outfolder, rep, filename))\n",
    "\n",
    "\n"
   ]
  },
  {
   "cell_type": "code",
   "execution_count": 49,
   "metadata": {},
   "outputs": [
    {
     "data": {
      "application/vnd.jupyter.widget-view+json": {
       "model_id": "131425a138a94319a8fa9bd08438dde1",
       "version_major": 2,
       "version_minor": 0
      },
      "text/plain": [
       "interactive(children=(Dropdown(description='Color', index=1, options=('gray', 'cividis', 'gray_r', 'Greens', '…"
      ]
     },
     "metadata": {},
     "output_type": "display_data"
    }
   ],
   "source": [
    "im = fm.load_pickle('/Users/michaelstadler/Bioinformatics/Projects/rpb1/data/siamese_eval_datsets/iso_nclusters/right/5.pkl')\n",
    "fm.viewer(im, 6)"
   ]
  },
  {
   "cell_type": "markdown",
   "metadata": {},
   "source": [
    "## Isolating cluster fluor number"
   ]
  },
  {
   "cell_type": "code",
   "execution_count": 55,
   "metadata": {},
   "outputs": [],
   "source": [
    "outfolder = '/Users/michaelstadler/Bioinformatics/Projects/rpb1/data/siamese_eval_datsets/iso_mols_per_cluster'\n",
    "\n",
    "mask = Sim.make_spherical_mask(100,100,100,40)\n",
    "sim = Sim(mask, res_z=85, res_ij=85)\n",
    "eroded_coords = sim.get_eroded_coordinates(10)\n",
    "eroded_coords = list(zip(eroded_coords[0], eroded_coords[1], eroded_coords[2]))\n",
    "\n",
    "for fluors_per_cluster in range(30,37,3):\n",
    "    for rep in ['left', 'right']:\n",
    "        sim = Sim(mask, res_z=85, res_ij=85)\n",
    "        sim.add_kernel(kernel, res_z=100, res_ij=50)\n",
    "        # Add free population.\n",
    "        sim.add_n_objects(10_000, gfp_intensity, fluors_per_object=1, size=1, mode='nuc')\n",
    "        # Add HLB.\n",
    "        sim.add_sphere(eroded_coords[np.random.randint(len(eroded_coords))], gfp_intensity, 400, 5)\n",
    "        sim.add_sphere(eroded_coords[np.random.randint(len(eroded_coords))], gfp_intensity, 400, 5)\n",
    "        # Add clusters.\n",
    "        sim.add_n_objects(60, gfp_intensity, fluors_per_object=fluors_per_cluster, \n",
    "                size=2)\n",
    "        # Add noise and convolve.\n",
    "        sim.add_noise('poisson')\n",
    "        sim.convolve()\n",
    "        sim.resize((250,85,85), order=1)\n",
    "        sim.im = stack_normalize_minmax(sim.im) * 1000\n",
    "        filename = str(fluors_per_cluster) + '.pkl'\n",
    "        sim.add_noise('gaussian', sigma=27)\n",
    "        fm.save_pickle(sim.im, os.path.join(outfolder, rep, filename))\n",
    "\n",
    "\n"
   ]
  },
  {
   "cell_type": "code",
   "execution_count": 56,
   "metadata": {},
   "outputs": [
    {
     "data": {
      "application/vnd.jupyter.widget-view+json": {
       "model_id": "7fa53a9bffc248e2b645b64a23477664",
       "version_major": 2,
       "version_minor": 0
      },
      "text/plain": [
       "interactive(children=(Dropdown(description='Color', index=1, options=('gray', 'cividis', 'gray_r', 'Greens', '…"
      ]
     },
     "metadata": {},
     "output_type": "display_data"
    }
   ],
   "source": [
    "im = fm.load_pickle('/Users/michaelstadler/Bioinformatics/Projects/rpb1/data/siamese_eval_datsets/iso_mols_per_cluster/left/36.pkl')\n",
    "fm.viewer(im, 6)"
   ]
  },
  {
   "cell_type": "code",
   "execution_count": 26,
   "metadata": {},
   "outputs": [
    {
     "data": {
      "text/plain": [
       "143"
      ]
     },
     "execution_count": 26,
     "metadata": {},
     "output_type": "execute_result"
    }
   ],
   "source": []
  },
  {
   "cell_type": "code",
   "execution_count": null,
   "metadata": {},
   "outputs": [],
   "source": []
  }
 ],
 "metadata": {
  "interpreter": {
   "hash": "eca358e5a2f32eca92640d7df176777d47bc005b1d6ea5f309faabbd9462bdfe"
  },
  "kernelspec": {
   "display_name": "Python 3.9.7 ('im2')",
   "language": "python",
   "name": "python3"
  },
  "language_info": {
   "codemirror_mode": {
    "name": "ipython",
    "version": 3
   },
   "file_extension": ".py",
   "mimetype": "text/x-python",
   "name": "python",
   "nbconvert_exporter": "python",
   "pygments_lexer": "ipython3",
   "version": "3.9.7"
  },
  "orig_nbformat": 4
 },
 "nbformat": 4,
 "nbformat_minor": 2
}
