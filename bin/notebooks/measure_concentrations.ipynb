{
 "cells": [
  {
   "cell_type": "code",
   "execution_count": 32,
   "metadata": {},
   "outputs": [
    {
     "name": "stdout",
     "output_type": "stream",
     "text": [
      "The autoreload extension is already loaded. To reload it, use:\n",
      "  %reload_ext autoreload\n"
     ]
    }
   ],
   "source": [
    "import flymovie as fm\n",
    "import numpy as np\n",
    "import scipy.ndimage as ndi\n",
    "%load_ext autoreload\n",
    "%autoreload 2\n",
    "\n",
    "def calc_nM(stack, mask, im_dims, brightness, kernel_1gfp):\n",
    "    \"\"\"Calculate concentration in nM of labeled species.\"\"\"\n",
    "    pix = stack[mask > 0]\n",
    "    num_pix = len(pix)\n",
    "    sum_ = np.sum(pix)\n",
    "    rel_brightness = brightness / 33.54\n",
    "    nmolecules = sum_ / np.sum(kernel_1gfp) / rel_brightness\n",
    "\n",
    "    # multiply each side length, 1e-27 is 1e-9 meters cubed to convert nm to m, 1000 is liters in a cubic meter\n",
    "    L = np.product(im_dims) * 1e-27 * 1000 * num_pix # in liters\n",
    "    mols = nmolecules / 6.022e23\n",
    "    M = mols / L\n",
    "    nM = M / 1e-9\n",
    "    return nM"
   ]
  },
  {
   "cell_type": "markdown",
   "metadata": {},
   "source": [
    "### Add files and params"
   ]
  },
  {
   "cell_type": "code",
   "execution_count": 68,
   "metadata": {},
   "outputs": [],
   "source": [
    "stack_bg = 2800\n",
    "kernel_peak = 30_000\n",
    "kernel_bg = 800\n",
    "n_gfps = 120\n",
    "# 34 for egfp, 93 for mneon, 54 for sfgfp\n",
    "brightness = 34\n",
    "kernelfile = '/Users/michaelstadler/Bioinformatics/Projects/rpb1/PSFs/psf_20220519_insitu_nm100x50x50_px27x25x25.pkl'\n",
    "stackfile = '/Volumes/stad3/2022-03-18/bcd-gfp-em2-11.czi'\n",
    "kernel_dims = (100, 50, 50)\n",
    "im_dims = (250, 85, 85)"
   ]
  },
  {
   "cell_type": "markdown",
   "metadata": {},
   "source": [
    "### Calculate kernel for 1 GFP."
   ]
  },
  {
   "cell_type": "code",
   "execution_count": 69,
   "metadata": {},
   "outputs": [],
   "source": [
    "kernel = fm.load_pickle(kernelfile)\n",
    "kernel = ndi.zoom(kernel, np.divide(kernel_dims, im_dims), order=3)\n",
    "kernel = (kernel - np.min(kernel)) / (np.max(kernel) - np.min(kernel))\n",
    "kernel_1gfp = kernel * ((kernel_peak - kernel_bg) / np.max(kernel)) / n_gfps"
   ]
  },
  {
   "cell_type": "markdown",
   "metadata": {},
   "source": [
    "### Smooth and view stack, trimming in Z if necessary/desired"
   ]
  },
  {
   "cell_type": "code",
   "execution_count": 22,
   "metadata": {},
   "outputs": [
    {
     "data": {
      "application/vnd.jupyter.widget-view+json": {
       "model_id": "cf19e02f3ffb462b85583c2ccd3cec31",
       "version_major": 2,
       "version_minor": 0
      },
      "text/plain": [
       "interactive(children=(Dropdown(description='Color', index=6, options=('Greens', 'gray', 'magma', 'inferno', 'G…"
      ]
     },
     "metadata": {},
     "output_type": "display_data"
    }
   ],
   "source": [
    "stack = fm.read_czi(stackfile, swapaxes=False)\n",
    "stack = stack.astype(float) - stack_bg\n",
    "stack = stack[18:, :, :]\n",
    "sm = ndi.gaussian_filter(stack, (2,5,5))\n",
    "fm.viewer(sm, 5)"
   ]
  },
  {
   "cell_type": "markdown",
   "metadata": {},
   "source": [
    "### Set threshold and make mask."
   ]
  },
  {
   "cell_type": "code",
   "execution_count": 24,
   "metadata": {},
   "outputs": [
    {
     "data": {
      "application/vnd.jupyter.widget-view+json": {
       "model_id": "1eea1758f4294d7c85ab19b34569ae34",
       "version_major": 2,
       "version_minor": 0
      },
      "text/plain": [
       "interactive(children=(Dropdown(description='Color', index=6, options=('Greens', 'gray', 'magma', 'inferno', 'G…"
      ]
     },
     "metadata": {},
     "output_type": "display_data"
    }
   ],
   "source": [
    "t = 3500\n",
    "mask = np.where(sm > t, 1, 0)\n",
    "fm.viewer([np.where(mask, stack, 0), stack], 10)"
   ]
  },
  {
   "cell_type": "markdown",
   "metadata": {},
   "source": [
    "### Calculate concentration"
   ]
  },
  {
   "cell_type": "code",
   "execution_count": 25,
   "metadata": {},
   "outputs": [
    {
     "data": {
      "text/plain": [
       "105.19209561319803"
      ]
     },
     "execution_count": 25,
     "metadata": {},
     "output_type": "execute_result"
    }
   ],
   "source": [
    "calc_nM(stack, mask, im_dims, brightness, kernel_1gfp)"
   ]
  },
  {
   "cell_type": "markdown",
   "metadata": {},
   "source": [
    "### bicoid (25k - 60)\n",
    "/Volumes/stad3/2022-03-18/bcd-gfp-em2-11.czi 155 nM (25k - 60)\n",
    "\n",
    "### rpb1 (40k - 120)\n",
    "/Volumes/stad3/2022-03-18/rpb1-gfp-em1-21.czi 385 nM (nc14) (252)\n",
    "\n",
    "/Volumes/stad3/2022-03-18/rpb1-gfp-em2-02.czi 335 nM (early, maybe nc11) (105)\n",
    "\n",
    "/Volumes/stad3/2022-03-18/rpb1-gfp-em2-06.czi (early)\n",
    "\n",
    "### zld (25k - 60)\n",
    "/Volumes/stad3/2022-03-18/zld-mneon-em1-01.czi 83 nM\n",
    "\n",
    "/Volumes/stad3/2022-03-18/zld-mneon-em1-10.czi 79 nM\n",
    "\n",
    "/Volumes/stad3/2022-03-18/zld-mneon-em1-14.czi 75 nM\n",
    "\n",
    "### h2b (4k - 120)\n",
    "/Volumes/stad3/2022-03-17/h2b-gfp-em1-11.czi 5000 nM\n",
    "\n",
    "/Volumes/stad3/2022-03-17/h2b-gfp-em2-08.czi 4977 nM\n",
    "\n",
    "### cp190 (20k - 60)\n",
    "\n",
    "/Volumes/stad3/2022-03-24/cp190-em3-01.czi 215 nM\n",
    "\n",
    "/Volumes/stad3/2022-03-24/cp190-em3-08.czi 218 nM\n",
    "\n",
    "/Volumes/stad3/2022-03-24/cp190-em3-16.czi 212 nM\n",
    "\n",
    "/Volumes/stad3/2022-03-24/cp190-em3-24.czi 210 nM\n",
    "\n",
    "### zld cterm (28k - 60)\n",
    "\n",
    "26983-1-1-em2-01.czi 86 nM\n",
    "\n",
    "26983-1-1-em2-01.czi 75.8 nM\n",
    "\n",
    "26983-1-1-em2-16.czi 60 nM\n",
    "\n",
    "stretched psf:\n",
    "\n",
    "/Volumes/stad3/2022-03-21/26983-1-1-em2-01.czi 36.2 nM\n",
    "\n",
    "/Volumes/stad3/2022-03-21/26983-1-1-em2-04.czi 33.91 nM\n",
    "\n",
    "/Volumes/stad3/2022-03-21/26983-1-1-em2-14.czi 25.65 nM\n",
    "\n",
    "/Volumes/stad3/2022-03-21/26983-1-1-em2-16.czi 25.38 nM\n",
    "\n",
    "\n"
   ]
  },
  {
   "cell_type": "code",
   "execution_count": null,
   "metadata": {},
   "outputs": [],
   "source": []
  },
  {
   "cell_type": "code",
   "execution_count": null,
   "metadata": {},
   "outputs": [],
   "source": []
  },
  {
   "cell_type": "code",
   "execution_count": null,
   "metadata": {},
   "outputs": [],
   "source": []
  },
  {
   "cell_type": "code",
   "execution_count": null,
   "metadata": {},
   "outputs": [],
   "source": []
  },
  {
   "cell_type": "code",
   "execution_count": 70,
   "metadata": {},
   "outputs": [],
   "source": [
    "ones = np.ones((100,100,100))\n",
    "cv = ndi.convolve(ones, kernel_1gfp, mode='constant', cval=0)"
   ]
  },
  {
   "cell_type": "code",
   "execution_count": 71,
   "metadata": {},
   "outputs": [
    {
     "data": {
      "text/plain": [
       "29115.1484653122"
      ]
     },
     "execution_count": 71,
     "metadata": {},
     "output_type": "execute_result"
    }
   ],
   "source": [
    "cv[50,50,50]"
   ]
  },
  {
   "cell_type": "code",
   "execution_count": 65,
   "metadata": {},
   "outputs": [
    {
     "data": {
      "text/plain": [
       "24129.677837690222"
      ]
     },
     "execution_count": 65,
     "metadata": {},
     "output_type": "execute_result"
    }
   ],
   "source": [
    "cv[50,50,50]"
   ]
  },
  {
   "cell_type": "code",
   "execution_count": 52,
   "metadata": {},
   "outputs": [
    {
     "data": {
      "text/plain": [
       "919.3510760429748"
      ]
     },
     "execution_count": 52,
     "metadata": {},
     "output_type": "execute_result"
    }
   ],
   "source": [
    "L = np.product(im_dims) * 1e-27 * 1000 # in liters\n",
    "mols = 1 / 6.022e23\n",
    "M = mols / L\n",
    "nM = M / 1e-9\n",
    "nM\n"
   ]
  },
  {
   "cell_type": "code",
   "execution_count": 72,
   "metadata": {},
   "outputs": [
    {
     "data": {
      "text/plain": [
       "79.22413793103449"
      ]
     },
     "execution_count": 72,
     "metadata": {},
     "output_type": "execute_result"
    }
   ],
   "source": [
    "2500/29000 * 919\n"
   ]
  },
  {
   "cell_type": "markdown",
   "metadata": {},
   "source": [
    "Procedure:\n",
    "\n",
    "- Measure a bunch of nanocages with fast stacks 100 x 50 x 50\n",
    "- Use same conditions to image in anterior bicoid nuclei -- just need the mean.\n",
    "- apply above"
   ]
  }
 ],
 "metadata": {
  "interpreter": {
   "hash": "eca358e5a2f32eca92640d7df176777d47bc005b1d6ea5f309faabbd9462bdfe"
  },
  "kernelspec": {
   "display_name": "Python 3.9.7 ('im2')",
   "language": "python",
   "name": "python3"
  },
  "language_info": {
   "codemirror_mode": {
    "name": "ipython",
    "version": 3
   },
   "file_extension": ".py",
   "mimetype": "text/x-python",
   "name": "python",
   "nbconvert_exporter": "python",
   "pygments_lexer": "ipython3",
   "version": "3.9.7"
  },
  "orig_nbformat": 4
 },
 "nbformat": 4,
 "nbformat_minor": 2
}
