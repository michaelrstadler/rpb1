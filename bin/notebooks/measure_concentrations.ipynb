{
 "cells": [
  {
   "cell_type": "code",
   "execution_count": 21,
   "metadata": {},
   "outputs": [
    {
     "name": "stdout",
     "output_type": "stream",
     "text": [
      "The autoreload extension is already loaded. To reload it, use:\n",
      "  %reload_ext autoreload\n"
     ]
    }
   ],
   "source": [
    "import flymovie as fm\n",
    "import numpy as np\n",
    "import scipy.ndimage as ndi\n",
    "%load_ext autoreload\n",
    "%autoreload 2\n",
    "\n",
    "def calc_nM(stack, mask, im_dims, brightness, kernel_1gfp):\n",
    "    \"\"\"Calculate concentration in nM of labeled species.\"\"\"\n",
    "    pix = stack[mask > 0]\n",
    "    num_pix = len(pix)\n",
    "    sum_ = np.sum(pix)\n",
    "    rel_brightness = brightness / 33.54\n",
    "    nmolecules = sum_ / np.sum(kernel_1gfp) / rel_brightness\n",
    "\n",
    "    # multiply each side length, 1e-27 is 1e-9 meters cubed to convert nm to m, 1000 is liters in a cubic meter\n",
    "    L = np.product(im_dims) * 1e-27 * 1000 * num_pix # in liters\n",
    "    mols = nmolecules / 6.022e23\n",
    "    M = mols / L\n",
    "    nM = M / 1e-9\n",
    "    return nM"
   ]
  },
  {
   "cell_type": "markdown",
   "metadata": {},
   "source": [
    "### Add files and params"
   ]
  },
  {
   "cell_type": "code",
   "execution_count": 9,
   "metadata": {},
   "outputs": [],
   "source": [
    "kernel_peak = 28_000\n",
    "n_gfps = 60\n",
    "# 34 for egfp, 93 for mneon, 54 for sfgfp\n",
    "brightness = 93\n",
    "kernelfile = '/Users/michaelstadler/Bioinformatics/Projects/rpb1/PSFs/psf_20220210_21x25x25pixels_100x50x50voxel.pkl'\n",
    "stackfile = '/Volumes/stad3/2022-03-21/26983-1-1-em2-16.czi'\n",
    "kernel_dims = (100, 50, 50)\n",
    "im_dims = (250, 85, 85)"
   ]
  },
  {
   "cell_type": "markdown",
   "metadata": {},
   "source": [
    "### Calculate kernel for 1 GFP."
   ]
  },
  {
   "cell_type": "code",
   "execution_count": 8,
   "metadata": {},
   "outputs": [],
   "source": [
    "kernel = fm.load_pickle(kernelfile)\n",
    "kernel = ndi.zoom(kernel, np.divide(kernel_dims, im_dims), order=3)\n",
    "kernel_1gfp = kernel * (kernel_peak / np.max(kernel)) / n_gfps"
   ]
  },
  {
   "cell_type": "markdown",
   "metadata": {},
   "source": [
    "### Smooth and view stack, trimming in Z if necessary/desired"
   ]
  },
  {
   "cell_type": "code",
   "execution_count": 11,
   "metadata": {},
   "outputs": [
    {
     "data": {
      "application/vnd.jupyter.widget-view+json": {
       "model_id": "6a2db9bd678a425e8680fccdf5d72025",
       "version_major": 2,
       "version_minor": 0
      },
      "text/plain": [
       "interactive(children=(Dropdown(description='Color', index=8, options=('Greens', 'gray_r', 'plasma', 'viridis',…"
      ]
     },
     "metadata": {},
     "output_type": "display_data"
    }
   ],
   "source": [
    "stack = fm.read_czi(stackfile, swapaxes=False)\n",
    "stack = stack[0:]\n",
    "sm = ndi.gaussian_filter(stack, (2,5,5))\n",
    "fm.viewer(sm, 5)"
   ]
  },
  {
   "cell_type": "markdown",
   "metadata": {},
   "source": [
    "### Set threshold and make mask."
   ]
  },
  {
   "cell_type": "code",
   "execution_count": 15,
   "metadata": {},
   "outputs": [
    {
     "data": {
      "application/vnd.jupyter.widget-view+json": {
       "model_id": "9ef5d31e465341a1980b92c0255189ff",
       "version_major": 2,
       "version_minor": 0
      },
      "text/plain": [
       "interactive(children=(Dropdown(description='Color', index=8, options=('Greens', 'gray_r', 'plasma', 'viridis',…"
      ]
     },
     "metadata": {},
     "output_type": "display_data"
    }
   ],
   "source": [
    "t = 3400\n",
    "mask = np.where(sm > t, 1, 0)\n",
    "fm.viewer([np.where(mask, stack, 0), stack], 10)"
   ]
  },
  {
   "cell_type": "markdown",
   "metadata": {},
   "source": [
    "### Calculate concentration"
   ]
  },
  {
   "cell_type": "code",
   "execution_count": 22,
   "metadata": {},
   "outputs": [
    {
     "data": {
      "text/plain": [
       "60.30028913112654"
      ]
     },
     "execution_count": 22,
     "metadata": {},
     "output_type": "execute_result"
    }
   ],
   "source": [
    "calc_nM(stack, mask, im_dims, brightness, kernel_1gfp)"
   ]
  },
  {
   "cell_type": "markdown",
   "metadata": {},
   "source": [
    "### bicoid (25k - 60)\n",
    "/Volumes/stad3/2022-03-18/bcd-gfp-em2-11.czi 155 nM (25k - 60)\n",
    "\n",
    "### rpb1 (40k - 120)\n",
    "/Volumes/stad3/2022-03-18/rpb1-gfp-em1-21.czi 385 nM (nc14)\n",
    "\n",
    "/Volumes/stad3/2022-03-18/rpb1-gfp-em2-02.czi 335 nM (early, maybe nc11)\n",
    "\n",
    "/Volumes/stad3/2022-03-18/rpb1-gfp-em2-06.czi (early)\n",
    "\n",
    "### zld (25k - 60)\n",
    "/Volumes/stad3/2022-03-18/zld-mneon-em1-01.czi 83 nM\n",
    "\n",
    "/Volumes/stad3/2022-03-18/zld-mneon-em1-10.czi 79 nM\n",
    "\n",
    "/Volumes/stad3/2022-03-18/zld-mneon-em1-14.czi 75 nM\n",
    "\n",
    "### h2b (4k - 120)\n",
    "/Volumes/stad3/2022-03-17/h2b-gfp-em1-11.czi 5000 nM\n",
    "\n",
    "/Volumes/stad3/2022-03-17/h2b-gfp-em2-08.czi 4977 nM\n",
    "\n",
    "### cp190 (20k - 60)\n",
    "\n",
    "/Volumes/stad3/2022-03-24/cp190-em3-01.czi 215 nM\n",
    "\n",
    "/Volumes/stad3/2022-03-24/cp190-em3-08.czi 218 nM\n",
    "\n",
    "/Volumes/stad3/2022-03-24/cp190-em3-16.czi 212 nM\n",
    "\n",
    "/Volumes/stad3/2022-03-24/cp190-em3-24.czi 210 nM\n",
    "\n",
    "### zld cterm (28k - 60)\n",
    "\n",
    "26983-1-1-em2-01.czi 86 nM\n",
    "\n",
    "26983-1-1-em2-01.czi 75.8 nM\n",
    "\n",
    "26983-1-1-em2-16.czi 60 nM\n",
    "\n",
    "\n"
   ]
  },
  {
   "cell_type": "markdown",
   "metadata": {},
   "source": []
  }
 ],
 "metadata": {
  "interpreter": {
   "hash": "eca358e5a2f32eca92640d7df176777d47bc005b1d6ea5f309faabbd9462bdfe"
  },
  "kernelspec": {
   "display_name": "Python 3.9.7 ('im2')",
   "language": "python",
   "name": "python3"
  },
  "language_info": {
   "codemirror_mode": {
    "name": "ipython",
    "version": 3
   },
   "file_extension": ".py",
   "mimetype": "text/x-python",
   "name": "python",
   "nbconvert_exporter": "python",
   "pygments_lexer": "ipython3",
   "version": "3.9.7"
  },
  "orig_nbformat": 4
 },
 "nbformat": 4,
 "nbformat_minor": 2
}
