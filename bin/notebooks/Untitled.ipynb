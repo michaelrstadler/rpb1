{
 "cells": [
  {
   "cell_type": "code",
   "execution_count": 1,
   "id": "52a81abc",
   "metadata": {},
   "outputs": [],
   "source": [
    "from importlib import reload\n",
    "#import flymovie as fm\n",
    "import cnn_models.siamese_cnn as cn\n",
    "import matplotlib.pyplot as plt\n",
    "import numpy as np\n",
    "import os\n",
    "import random\n",
    "import pickle\n",
    "import tensorflow as tf\n",
    "from pathlib import Path\n",
    "\n",
    "from tensorflow.keras import applications\n",
    "from tensorflow.keras import layers\n",
    "from tensorflow.keras import losses\n",
    "from tensorflow.keras import optimizers\n",
    "from tensorflow.keras import metrics\n",
    "from tensorflow.keras import Model\n",
    "from tensorflow.keras.applications import resnet\n",
    "\n",
    "%load_ext autoreload\n",
    "%autoreload 2\n"
   ]
  },
  {
   "cell_type": "code",
   "execution_count": null,
   "id": "f5ee9c40",
   "metadata": {},
   "outputs": [],
   "source": [
    "#2d\n",
    "cache_dir = Path('/Users/michaelstadler/Bioinformatics/Projects/rpb1/results/test_sims_realnuc_50_iAKPibSh')\n",
    "log_dir = '/Users/michaelstadler/Bioinformatics/Projects/rpb1/tensorboard/tfmip-1'\n",
    "train_dataset, val_dataset = cn.make_triplet_inputs(cache_dir, mip=True)\n",
    "base_cnn = cn.make_base_cnn(image_shape=(100,100))\n",
    "embedding = cn.make_embedding(base_cnn)\n",
    "siamese_network = cn.make_siamese_network(embedding)\n",
    "siamese_model = cn.SiameseModel(siamese_network)\n",
    "siamese_model.compile(optimizer=optimizers.Adam(0.0001))\n",
    "tensorboard_callback = tf.keras.callbacks.TensorBoard(log_dir=log_dir, histogram_freq=1)\n",
    "\n",
    "history = siamese_model.fit(train_dataset, epochs=4, validation_data=val_dataset, verbose=True,\n",
    "            callbacks=tensorboard_callback)"
   ]
  },
  {
   "cell_type": "code",
   "execution_count": 3,
   "id": "dd53f766",
   "metadata": {},
   "outputs": [
    {
     "name": "stdout",
     "output_type": "stream",
     "text": [
      "The tensorboard extension is already loaded. To reload it, use:\n",
      "  %reload_ext tensorboard\n"
     ]
    }
   ],
   "source": [
    "%load_ext tensorboard"
   ]
  },
  {
   "cell_type": "code",
   "execution_count": 4,
   "id": "ce48221e",
   "metadata": {},
   "outputs": [
    {
     "data": {
      "text/html": [
       "\n",
       "      <iframe id=\"tensorboard-frame-65323e9480e5e686\" width=\"100%\" height=\"800\" frameborder=\"0\">\n",
       "      </iframe>\n",
       "      <script>\n",
       "        (function() {\n",
       "          const frame = document.getElementById(\"tensorboard-frame-65323e9480e5e686\");\n",
       "          const url = new URL(\"/\", window.location);\n",
       "          url.port = 6006;\n",
       "          frame.src = url;\n",
       "        })();\n",
       "      </script>\n",
       "  "
      ],
      "text/plain": [
       "<IPython.core.display.HTML object>"
      ]
     },
     "metadata": {},
     "output_type": "display_data"
    }
   ],
   "source": [
    "%tensorboard --logdir '/Users/michaelstadler/Bioinformatics/Projects/rpb1/tensorboard/tf3d-1-slow'"
   ]
  },
  {
   "cell_type": "code",
   "execution_count": 5,
   "id": "f68a594a",
   "metadata": {},
   "outputs": [
    {
     "data": {
      "text/plain": [
       "Reusing TensorBoard on port 6007 (pid 57404), started 0:05:28 ago. (Use '!kill 57404' to kill it.)"
      ]
     },
     "metadata": {},
     "output_type": "display_data"
    },
    {
     "data": {
      "text/html": [
       "\n",
       "      <iframe id=\"tensorboard-frame-a4c5114d6b38ac75\" width=\"100%\" height=\"800\" frameborder=\"0\">\n",
       "      </iframe>\n",
       "      <script>\n",
       "        (function() {\n",
       "          const frame = document.getElementById(\"tensorboard-frame-a4c5114d6b38ac75\");\n",
       "          const url = new URL(\"/\", window.location);\n",
       "          url.port = 6007;\n",
       "          frame.src = url;\n",
       "        })();\n",
       "      </script>\n",
       "  "
      ],
      "text/plain": [
       "<IPython.core.display.HTML object>"
      ]
     },
     "metadata": {},
     "output_type": "display_data"
    }
   ],
   "source": [
    "%tensorboard --logdir '/Users/michaelstadler/Bioinformatics/Projects/rpb1/tensorboard/tf3d-1-slow'"
   ]
  },
  {
   "cell_type": "code",
   "execution_count": null,
   "id": "5c962193",
   "metadata": {},
   "outputs": [],
   "source": []
  }
 ],
 "metadata": {
  "kernelspec": {
   "display_name": "Python (tf2-1)",
   "language": "python",
   "name": "tf2-1"
  },
  "language_info": {
   "codemirror_mode": {
    "name": "ipython",
    "version": 3
   },
   "file_extension": ".py",
   "mimetype": "text/x-python",
   "name": "python",
   "nbconvert_exporter": "python",
   "pygments_lexer": "ipython3",
   "version": "3.7.11"
  }
 },
 "nbformat": 4,
 "nbformat_minor": 5
}
