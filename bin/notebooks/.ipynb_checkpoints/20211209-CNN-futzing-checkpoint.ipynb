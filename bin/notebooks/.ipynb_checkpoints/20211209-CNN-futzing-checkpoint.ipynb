{
 "cells": [
  {
   "cell_type": "markdown",
   "metadata": {},
   "source": [
    "Trying to code up a CNN based on resnet50 from scratch."
   ]
  },
  {
   "cell_type": "code",
   "execution_count": 2,
   "metadata": {},
   "outputs": [
    {
     "ename": "ModuleNotFoundError",
     "evalue": "No module named 'cnn_models'",
     "output_type": "error",
     "traceback": [
      "\u001b[0;31m---------------------------------------------------------------------------\u001b[0m",
      "\u001b[0;31mModuleNotFoundError\u001b[0m                       Traceback (most recent call last)",
      "\u001b[0;32m<ipython-input-2-d4a1758bdf42>\u001b[0m in \u001b[0;36m<module>\u001b[0;34m\u001b[0m\n\u001b[1;32m      1\u001b[0m \u001b[0;32mfrom\u001b[0m \u001b[0mimportlib\u001b[0m \u001b[0;32mimport\u001b[0m \u001b[0mreload\u001b[0m\u001b[0;34m\u001b[0m\u001b[0;34m\u001b[0m\u001b[0m\n\u001b[1;32m      2\u001b[0m \u001b[0;31m#import flymovie as fm\u001b[0m\u001b[0;34m\u001b[0m\u001b[0;34m\u001b[0m\u001b[0;34m\u001b[0m\u001b[0m\n\u001b[0;32m----> 3\u001b[0;31m \u001b[0;32mimport\u001b[0m \u001b[0mcnn_models\u001b[0m\u001b[0;34m.\u001b[0m\u001b[0msiamese_cnn\u001b[0m \u001b[0;32mas\u001b[0m \u001b[0mcn\u001b[0m\u001b[0;34m\u001b[0m\u001b[0;34m\u001b[0m\u001b[0m\n\u001b[0m\u001b[1;32m      4\u001b[0m \u001b[0;32mimport\u001b[0m \u001b[0mmatplotlib\u001b[0m\u001b[0;34m.\u001b[0m\u001b[0mpyplot\u001b[0m \u001b[0;32mas\u001b[0m \u001b[0mplt\u001b[0m\u001b[0;34m\u001b[0m\u001b[0;34m\u001b[0m\u001b[0m\n\u001b[1;32m      5\u001b[0m \u001b[0;32mimport\u001b[0m \u001b[0mnumpy\u001b[0m \u001b[0;32mas\u001b[0m \u001b[0mnp\u001b[0m\u001b[0;34m\u001b[0m\u001b[0;34m\u001b[0m\u001b[0m\n",
      "\u001b[0;31mModuleNotFoundError\u001b[0m: No module named 'cnn_models'"
     ]
    }
   ],
   "source": [
    "from importlib import reload\n",
    "#import flymovie as fm\n",
    "import cnn_models.siamese_cnn as cn\n",
    "import matplotlib.pyplot as plt\n",
    "import numpy as np\n",
    "import os\n",
    "import random\n",
    "import pickle\n",
    "import tensorflow as tf\n",
    "from pathlib import Path\n",
    "\n",
    "from tensorflow.keras import applications\n",
    "from tensorflow.keras import layers\n",
    "from tensorflow.keras import losses\n",
    "from tensorflow.keras import optimizers\n",
    "from tensorflow.keras import metrics\n",
    "from tensorflow.keras import Model\n",
    "from tensorflow.keras.applications import resnet\n",
    "\n",
    "%load_ext autoreload\n",
    "%autoreload 2\n"
   ]
  },
  {
   "cell_type": "code",
   "execution_count": null,
   "metadata": {},
   "outputs": [],
   "source": [
    "cache_dir = Path('/Users/michaelstadler/Bioinformatics/Projects/rpb1/results/test_sims_realnuc_10_UZpRgVbW')\n",
    "target_shape = (100, 100)\n",
    "channels_axis=1\n",
    "train_dataset, val = cn.make_triplet_inputs(cache_dir, 100)"
   ]
  },
  {
   "cell_type": "code",
   "execution_count": null,
   "metadata": {},
   "outputs": [],
   "source": [
    "#2d\n",
    "cache_dir = Path('/Users/michaelstadler/Bioinformatics/Projects/rpb1/results/test_sims_realnuc_10_UZpRgVbW')\n",
    "target_shape = (100, 100)\n",
    "channels_axis=1\n",
    "train_dataset, val = cn.make_triplet_inputs(cache_dir, mip=True)\n",
    "\n",
    "iter = train_dataset.as_numpy_iterator()\n",
    "a = next(iter)\n",
    "\n",
    "def show(ax, image):\n",
    "        ax.imshow(image, vmin=0, vmax=1)\n",
    "        ax.get_xaxis().set_visible(False)\n",
    "        ax.get_yaxis().set_visible(False)\n",
    "\n",
    "fig = plt.figure(figsize=(9, 9))\n",
    "\n",
    "axs = fig.subplots(3, 3)\n",
    "for i in range(3):\n",
    "    show(axs[i, 0], a[0][i,:,:,0])\n",
    "    show(axs[i, 1], a[1][i,:,:,0])\n",
    "    show(axs[i, 2], a[2][i,:,:,0])"
   ]
  },
  {
   "cell_type": "code",
   "execution_count": null,
   "metadata": {},
   "outputs": [],
   "source": [
    "#3d\n",
    "cache_dir = Path('/Users/michaelstadler/Bioinformatics/Projects/rpb1/results/test_sims_realnuc_10_UZpRgVbW')\n",
    "target_shape = (20,100, 100)\n",
    "channels_axis=1\n",
    "train_dataset, val = cn.make_triplet_inputs(cache_dir, 20, mip=False)\n",
    "\n",
    "iter = train_dataset.as_numpy_iterator()\n",
    "a = next(iter)\n",
    "\n",
    "def show(ax, image):\n",
    "        ax.imshow(image, vmin=0, vmax=1)\n",
    "        ax.get_xaxis().set_visible(False)\n",
    "        ax.get_yaxis().set_visible(False)\n",
    "\n",
    "fig = plt.figure(figsize=(9, 9))\n",
    "\n",
    "axs = fig.subplots(3, 3)\n",
    "for i in range(3):\n",
    "    show(axs[i, 0], a[0][i,:,:,:,0].max(axis=0))\n",
    "    show(axs[i, 1], a[1][i,:,:,:,0].max(axis=0))\n",
    "    show(axs[i, 2], a[2][i,:,:,:,0].max(axis=0))"
   ]
  },
  {
   "cell_type": "code",
   "execution_count": null,
   "metadata": {},
   "outputs": [],
   "source": [
    "#2d\n",
    "cache_dir = Path('/Users/michaelstadler/Bioinformatics/Projects/rpb1/results/test_sims_realnuc_50_iAKPibSh')\n",
    "log_dir = '/Users/michaelstadler/Bioinformatics/Projects/rpb1/tensorboard/tfmip-1'\n",
    "train_dataset, val_dataset = cn.make_triplet_inputs(cache_dir, mip=True)\n",
    "base_cnn = cn.make_base_cnn(image_shape=(100,100))\n",
    "embedding = cn.make_embedding(base_cnn)\n",
    "siamese_network = cn.make_siamese_network(embedding)\n",
    "siamese_model = cn.SiameseModel(siamese_network)\n",
    "siamese_model.compile(optimizer=optimizers.Adam(0.0001))\n",
    "tensorboard_callback = tf.keras.callbacks.TensorBoard(log_dir=log_dir, histogram_freq=1)\n",
    "\n",
    "history = siamese_model.fit(train_dataset, epochs=4, validation_data=val_dataset, verbose=True,\n",
    "            callbacks=tensorboard_callback)\n"
   ]
  },
  {
   "cell_type": "markdown",
   "metadata": {},
   "source": []
  },
  {
   "cell_type": "code",
   "execution_count": null,
   "metadata": {},
   "outputs": [],
   "source": [
    "#3d\n",
    "cache_dir = Path('/Users/michaelstadler/Bioinformatics/Projects/rpb1/results/test_sims_realnuc_50_iAKPibSh')\n",
    "log_dir = '/Users/michaelstadler/Bioinformatics/Projects/rpb1/tensorboard/tf3d-1-slow'\n",
    "train_dataset, val_dataset = cn.make_triplet_inputs(cache_dir, mip=False)\n",
    "base_cnn = cn.make_base_cnn_3d(image_shape=(20,100,100))\n",
    "embedding = cn.make_embedding(base_cnn)\n",
    "siamese_network = cn.make_siamese_network(embedding)\n",
    "siamese_model = cn.SiameseModel(siamese_network)\n",
    "siamese_model.compile(optimizer=optimizers.Adam(0.0001))\n",
    "tensorboard_callback = tf.keras.callbacks.TensorBoard(log_dir=log_dir, histogram_freq=1)\n",
    "\n",
    "history = siamese_model.fit(train_dataset, epochs=4, validation_data=val_dataset, verbose=True,\n",
    "            callbacks=tensorboard_callback)\n"
   ]
  },
  {
   "cell_type": "code",
   "execution_count": null,
   "metadata": {},
   "outputs": [],
   "source": [
    "%load_ext tensorboard"
   ]
  },
  {
   "cell_type": "code",
   "execution_count": null,
   "metadata": {},
   "outputs": [],
   "source": []
  }
 ],
 "metadata": {
  "interpreter": {
   "hash": "e372816e4ed8f4776be7691c42762f9e24664f8c81a636e19b7b5da78d6a9ebf"
  },
  "kernelspec": {
   "display_name": "tf2",
   "language": "python",
   "name": "tf2"
  },
  "language_info": {
   "codemirror_mode": {
    "name": "ipython",
    "version": 3
   },
   "file_extension": ".py",
   "mimetype": "text/x-python",
   "name": "python",
   "nbconvert_exporter": "python",
   "pygments_lexer": "ipython3",
   "version": "3.8.3"
  }
 },
 "nbformat": 4,
 "nbformat_minor": 2
}
