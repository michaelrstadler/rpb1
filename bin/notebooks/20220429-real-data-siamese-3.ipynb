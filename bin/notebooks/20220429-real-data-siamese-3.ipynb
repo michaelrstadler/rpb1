{
 "cells": [
  {
   "cell_type": "code",
   "execution_count": 1,
   "metadata": {},
   "outputs": [],
   "source": [
    "from importlib import reload\n",
    "import flymovie as fm\n",
    "import cnn_models.siamese_cnn as cn\n",
    "import cnn_models.evaluate_models as ev\n",
    "from flymovie.simnuc import Sim\n",
    "import matplotlib.pyplot as plt\n",
    "import numpy as np\n",
    "import os\n",
    "import re\n",
    "import sklearn\n",
    "import tempfile\n",
    "import pickle\n",
    "import tensorflow as tf\n",
    "import umap\n",
    "from importlib import reload\n",
    "from sklearn.manifold import TSNE\n",
    "import scipy.ndimage as ndi\n",
    "import skimage as ski\n",
    "%load_ext autoreload\n",
    "%autoreload 2"
   ]
  },
  {
   "cell_type": "code",
   "execution_count": 121,
   "metadata": {},
   "outputs": [],
   "source": [
    "em_s, files_s = fm.load_pickle('/Users/michaelstadler/Bioinformatics/Projects/rpb1/results/embeddings-zld-cterm-stretchpsf_gqBgafnA_mix_real_sim_3_34layer.pkl') \n",
    "#em_s, files_s = fm.load_pickle('/Users/michaelstadler/Bioinformatics/Projects/rpb1/results/embeddings-zld-cterm-blackbox1_GlxqIxOJ_mix_real_sim_3_34layer.pkl') \n",
    "em_r, files_r = fm.load_pickle('/Users/michaelstadler/Bioinformatics/Projects/rpb1/results/embeddings-zldcterm-nc14-real-202200501_mix_real_sim_3_34layer.pkl') "
   ]
  },
  {
   "cell_type": "code",
   "execution_count": 123,
   "metadata": {},
   "outputs": [],
   "source": [
    "def dists_arr_to_row(arr, row):\n",
    "    dists_sq = np.sum((arr - row) ** 2, axis=1)\n",
    "    dists = np.sqrt(dists_sq)\n",
    "    return dists\n",
    "\n",
    "def find_in_radius(em1, files1, em2, files2, r):\n",
    "    good_files = []\n",
    "    for i in range(len(files1)):\n",
    "        if i % 250 == 0:\n",
    "            print(i)\n",
    "\n",
    "        dists = dists_arr_to_row(em2, em1[i])\n",
    "        good_uns = dists <= r\n",
    "        #good_files1 = np.array(files1)[good_uns]\n",
    "        good_files_this = list(np.array(files2)[good_uns])\n",
    "        good_files = good_files + good_files_this\n",
    "\n",
    "    return np.unique(good_files)\n",
    "\n",
    "def d_pairwise_all(em1, em2):\n",
    "    d = []\n",
    "    for i in range(len(em2)):\n",
    "        d_ = list(dists_arr_to_row(em1, em2[i]))\n",
    "        d = d + d_\n",
    "    return d\n"
   ]
  },
  {
   "cell_type": "code",
   "execution_count": 127,
   "metadata": {},
   "outputs": [
    {
     "name": "stdout",
     "output_type": "stream",
     "text": [
      "0\n"
     ]
    },
    {
     "data": {
      "text/plain": [
       "array(['Avk_2051.02_9.57_1_1_1_0.0_1_0.1_7.28_rep0.pkl',\n",
       "       'DSi_1893.74_13.85_1_1_1_0.0_1_0.1_7.79_rep0.pkl',\n",
       "       'FAU_2292.21_9.16_1_1_1_0.0_1_0.1_8.83_rep0.pkl',\n",
       "       'Gvv_1901.8_13.75_1_1_1_0.0_1_0.1_8.26_rep0.pkl',\n",
       "       'IbF_2440.14_10.78_1_1_1_0.0_1_0.1_8.92_rep0.pkl',\n",
       "       'LqJ_2050.46_8.8_1_1_1_0.0_1_0.1_7.53_rep0.pkl',\n",
       "       'MUb_2165.81_9.78_1_1_1_0.0_1_0.1_8.82_rep1.pkl',\n",
       "       'NNB_2240.08_13.3_1_1_1_0.0_1_0.1_9.35_rep0.pkl',\n",
       "       'NtK_1915.63_12.09_1_1_1_0.0_1_0.1_8.16_rep0.pkl',\n",
       "       'PcE_2468.66_8.3_1_1_1_0.0_1_0.1_7.9_rep0.pkl',\n",
       "       'QjG_2390.69_8.8_1_1_1_0.0_1_0.1_9.31_rep0.pkl',\n",
       "       'RyD_1979.24_11.0_1_1_1_0.0_1_0.1_8.25_rep0.pkl',\n",
       "       'SXX_2418.07_12.06_1_1_1_0.0_1_0.1_8.59_rep0.pkl',\n",
       "       'TDk_2126.66_9.69_1_1_1_0.0_1_0.1_8.45_rep0.pkl',\n",
       "       'VHL_2410.35_9.02_1_1_1_0.0_1_0.1_8.55_rep0.pkl',\n",
       "       'ZQY_1741.48_11.16_1_1_1_0.0_1_0.1_6.98_rep0.pkl',\n",
       "       'ZrM_2535.68_13.68_1_1_1_0.0_1_0.1_9.26_rep0.pkl',\n",
       "       'aeg_1931.11_8.96_1_1_1_0.0_1_0.1_8.08_rep0.pkl',\n",
       "       'dnP_1982.18_11.17_1_1_1_0.0_1_0.1_7.82_rep0.pkl',\n",
       "       'fei_2333.62_12.84_1_1_1_0.0_1_0.1_7.46_rep0.pkl',\n",
       "       'kWL_2145.76_11.4_1_1_1_0.0_1_0.1_8.88_rep0.pkl',\n",
       "       'lEk_2119.65_9.52_1_1_1_0.0_1_0.1_7.79_rep0.pkl',\n",
       "       'mXq_2452.61_9.44_1_1_1_0.0_1_0.1_8.91_rep0.pkl',\n",
       "       'mlg_2050.46_12.78_1_1_1_0.0_1_0.1_8.8_rep0.pkl',\n",
       "       'nsB_2503.06_12.95_1_1_1_0.0_1_0.1_8.15_rep0.pkl',\n",
       "       'oTm_2462.84_11.63_1_1_1_0.0_1_0.1_8.25_rep0.pkl',\n",
       "       'puR_2373.55_9.46_1_1_1_0.0_1_0.1_8.33_rep0.pkl',\n",
       "       'sqs_2155.41_11.12_1_1_1_0.0_1_0.1_7.64_rep0.pkl',\n",
       "       'wHM_1732.43_12.14_1_1_1_0.0_1_0.1_7.74_rep0.pkl',\n",
       "       'wyj_2553.86_11.61_1_1_1_0.0_1_0.1_9.0_rep0.pkl',\n",
       "       'ygN_2454.54_11.11_1_1_1_0.0_1_0.1_9.0_rep0.pkl'], dtype='<U47')"
      ]
     },
     "execution_count": 127,
     "metadata": {},
     "output_type": "execute_result"
    }
   ],
   "source": [
    "find_in_radius(em_r, files_r, em_s, files_s, r=0.7)"
   ]
  },
  {
   "cell_type": "code",
   "execution_count": 39,
   "metadata": {},
   "outputs": [
    {
     "data": {
      "text/plain": [
       "10.330000000000002"
      ]
     },
     "execution_count": 39,
     "metadata": {},
     "output_type": "execute_result"
    }
   ],
   "source": [
    "np.mean([10.2,10.2,10.79,11.29,9.94,10.22,10.47,10.66,10.49,10.55,9.45,9.01,11.02])"
   ]
  },
  {
   "cell_type": "code",
   "execution_count": 126,
   "metadata": {},
   "outputs": [
    {
     "data": {
      "image/png": "[encoded data removed]",
      "text/plain": [
       "<Figure size 432x288 with 1 Axes>"
      ]
     },
     "metadata": {
      "needs_background": "light"
     },
     "output_type": "display_data"
    }
   ],
   "source": [
    "plt.hist(d_pairwise_all(em_r, em_r), bins=50, alpha=0.5, density=True);\n",
    "plt.hist(d_pairwise_all(em_s, em_s), bins=50, alpha=0.5, density=True);"
   ]
  },
  {
   "cell_type": "code",
   "execution_count": 35,
   "metadata": {},
   "outputs": [
    {
     "data": {
      "text/plain": [
       "4809.952710376001"
      ]
     },
     "execution_count": 35,
     "metadata": {},
     "output_type": "execute_result"
    }
   ],
   "source": [
    "mask = fm.load_pickle('/Users/michaelstadler/Bioinformatics/Projects/rpb1/data/real_masks/zld-cterm/20220321-zld-cterm-em1-01_2.pkl')\n",
    "sim = Sim(mask)\n",
    "sim.conc_to_nmolecules(80)"
   ]
  },
  {
   "cell_type": "code",
   "execution_count": 40,
   "metadata": {},
   "outputs": [],
   "source": [
    "em_w, files_w = fm.load_pickle('/Users/michaelstadler/Bioinformatics/Projects/rpb1/results/embeddings-zld-wt-early13_mix_real_sim_3_34layer.pkl') \n",
    "em_m, files_m = fm.load_pickle('/Users/michaelstadler/Bioinformatics/Projects/rpb1/results/embeddings-zldmut_early13_mix_real_sim_3_34layer.pkl') "
   ]
  },
  {
   "cell_type": "code",
   "execution_count": 56,
   "metadata": {},
   "outputs": [
    {
     "data": {
      "image/png": "[encoded data removed]",
      "text/plain": [
       "<Figure size 432x288 with 1 Axes>"
      ]
     },
     "metadata": {
      "needs_background": "light"
     },
     "output_type": "display_data"
    }
   ],
   "source": [
    "plt.hist(d_pairwise_all(em_w, em_m), bins=50, alpha=0.5, density=True);\n",
    "plt.hist(d_pairwise_all(em_w, em_w), bins=50, alpha=0.5, density=True);"
   ]
  },
  {
   "cell_type": "code",
   "execution_count": 66,
   "metadata": {},
   "outputs": [
    {
     "data": {
      "application/vnd.jupyter.widget-view+json": {
       "model_id": "fb2dad98d8394908bd252491b4f93632",
       "version_major": 2,
       "version_minor": 0
      },
      "text/plain": [
       "interactive(children=(Dropdown(description='Color', index=2, options=('gray_r', 'Greens', 'cividis', 'Reds', '…"
      ]
     },
     "metadata": {},
     "output_type": "display_data"
    }
   ],
   "source": [
    "im = fm.load_pickle('/Users/michaelstadler/Bioinformatics/Projects/rpb1/data/real_nuclei/set2/zld/zld-real_20220318-zld-mneon-em1-09_4_3.pkl')\n",
    "fm.viewer(im, 5)"
   ]
  },
  {
   "cell_type": "code",
   "execution_count": 63,
   "metadata": {},
   "outputs": [
    {
     "data": {
      "application/vnd.jupyter.widget-view+json": {
       "model_id": "20e367f39e3f41e2b839578198e12907",
       "version_major": 2,
       "version_minor": 0
      },
      "text/plain": [
       "interactive(children=(Dropdown(description='Color', index=2, options=('gray_r', 'Greens', 'cividis', 'Reds', '…"
      ]
     },
     "metadata": {},
     "output_type": "display_data"
    }
   ],
   "source": [
    "kernel = fm.load_pickle('/Users/michaelstadler/Bioinformatics/Projects/rpb1/PSFs/psf_20220210_21x25x25pixels_100x50x50voxel.pkl')\n",
    "outfolder = '/Users/michaelstadler/Desktop/temp'\n",
    "nreps = 1\n",
    "concentration = 80\n",
    "hlb_diam_rng = [12,12]\n",
    "hlb_nmols_rng = [1,1]\n",
    "n_clusters_rng = [60,60]\n",
    "cluster_diam_mean_rng = [1,1] \n",
    "cluster_diam_var_rng = [0.01,0.01]\n",
    "cluster_nmols_mean_rng = [6,6]\n",
    "cluster_nmols_var_rng = [1,1]\n",
    "noise_sigma_rng = [10.2, 10.2]\n",
    "dims_init=(85, 85, 85)\n",
    "dims_kernel=(100,50,50)\n",
    "dims_final=(250,85,85)\n",
    "gfp_intensity = 2.7\n",
    "\n",
    "#hlb_coords = [hlb_possible_coords[x] for x in np.random.choice(len(hlb_possible_coords), 2)]\n",
    "hlb_coords = [(12, 60, 38), (51, 57, 41)]\n",
    "sims = []\n",
    "nsims=1\n",
    "for _ in range(nsims):\n",
    "    masks = masks_src[np.random.choice(np.arange(masks_src.shape[0]), nsims)]\n",
    "    sim = fm.sim_rpb1(masks, kernel, outfolder, nreps, concentration, hlb_diam_rng, \n",
    "        hlb_nmols_rng, n_clusters_rng, cluster_diam_mean_rng, \n",
    "        cluster_diam_var_rng, cluster_nmols_mean_rng, cluster_nmols_var_rng,\n",
    "        noise_sigma_rng, hlb_coords, dims_init, \n",
    "        dims_kernel, dims_final, gfp_intensity, return_sim=True, mask_nuclei=False)\n",
    "    sims.append(sim.im)\n",
    "\n",
    "n = 4\n",
    "#fm.viewer([norm(nucs[n]), norm(sim.im)], 5)\n",
    "fm.viewer(sim.im, 5)"
   ]
  },
  {
   "cell_type": "code",
   "execution_count": 64,
   "metadata": {},
   "outputs": [
    {
     "data": {
      "application/vnd.jupyter.widget-view+json": {
       "model_id": "88d46eb2d0fd414ca174276ee4f42905",
       "version_major": 2,
       "version_minor": 0
      },
      "text/plain": [
       "interactive(children=(Dropdown(description='Color', index=2, options=('gray_r', 'Greens', 'cividis', 'Reds', '…"
      ]
     },
     "metadata": {},
     "output_type": "display_data"
    }
   ],
   "source": [
    "fm.viewer(sim.im, 5)"
   ]
  },
  {
   "cell_type": "code",
   "execution_count": 69,
   "metadata": {},
   "outputs": [
    {
     "data": {
      "application/vnd.jupyter.widget-view+json": {
       "model_id": "6f78a14ab379474d9b2d680fc3e76e33",
       "version_major": 2,
       "version_minor": 0
      },
      "text/plain": [
       "interactive(children=(Dropdown(description='Color', index=2, options=('gray_r', 'Greens', 'cividis', 'Reds', '…"
      ]
     },
     "metadata": {},
     "output_type": "display_data"
    }
   ],
   "source": [
    "fm.viewer(kernel * 1000, 5)"
   ]
  },
  {
   "cell_type": "code",
   "execution_count": 10,
   "metadata": {},
   "outputs": [],
   "source": [
    "kernel = fm.load_pickle('/Users/michaelstadler/Bioinformatics/Projects/rpb1/PSFs/psf_20220210_21x25x25pixels_100x50x50voxel.pkl')\n",
    "masks_src = fm.load_pickle('/Users/michaelstadler/Bioinformatics/Projects/rpb1/data/real_masks/mask_files/nc14_1.pkl')"
   ]
  },
  {
   "cell_type": "code",
   "execution_count": 11,
   "metadata": {},
   "outputs": [
    {
     "data": {
      "application/vnd.jupyter.widget-view+json": {
       "model_id": "d1db50ea2ea24a6b976d1b82353571cf",
       "version_major": 2,
       "version_minor": 0
      },
      "text/plain": [
       "interactive(children=(Dropdown(description='Color', index=9, options=('magma', 'viridis', 'inferno', 'plasma',…"
      ]
     },
     "metadata": {},
     "output_type": "display_data"
    }
   ],
   "source": [
    "def tnorm(x):\n",
    "    return (x / np.max(x)) * 1000\n",
    "\n",
    "def make_kernel(x, shape):\n",
    "    g = fm.gaussian3d(*x)\n",
    "    return g(*np.indices(shape))\n",
    "\n",
    "def norm(x):\n",
    "    return x / np.mean(x) * 1000\n",
    "\n",
    "def double_convolve(im, k1, k2):\n",
    "    k1 = ndi.zoom(k1, (100/85, 50/85, 50/85))\n",
    "    k2 = ndi.zoom(k2, (100/85, 50/85, 50/85))\n",
    "    cv1 = ndi.convolve(im, k1)\n",
    "    cv2 = ndi.convolve(im, k2)\n",
    "    fm.viewer([norm(cv1), norm(cv2)], 5)\n",
    "\n",
    "opt = fm.fitgaussian3d(kernel / np.max(kernel))\n",
    "kernel_f = make_kernel(opt.x, kernel.shape)\n",
    "\n",
    "fm.viewer([tnorm(kernel_f), tnorm(kernel)], 5)\n"
   ]
  },
  {
   "cell_type": "code",
   "execution_count": 12,
   "metadata": {},
   "outputs": [],
   "source": [
    "im = fm.load_pickle('/Users/michaelstadler/Bioinformatics/Projects/rpb1/data/real_nuclei/set2/tmp/zld-cterm-unmasked/zld-cterm_20220321-zld-cterm-em1-01_0_1.pkl')"
   ]
  },
  {
   "cell_type": "code",
   "execution_count": 53,
   "metadata": {},
   "outputs": [
    {
     "data": {
      "application/vnd.jupyter.widget-view+json": {
       "model_id": "1aa21882d1fd4336b4f4e0f9e31d2eb8",
       "version_major": 2,
       "version_minor": 0
      },
      "text/plain": [
       "interactive(children=(Dropdown(description='Color', index=9, options=('magma', 'viridis', 'inferno', 'plasma',…"
      ]
     },
     "metadata": {},
     "output_type": "display_data"
    }
   ],
   "source": [
    "# (z, x, y, height, width_z, width_x, width_y)\n",
    "\n",
    "z_width = 13\n",
    "sigma = 3\n",
    "x = opt.x.copy()\n",
    "x[1] = 10\n",
    "x[2] = 10\n",
    "x[0] = 50\n",
    "x[4] = z_width\n",
    "k = make_kernel(x, (101,20,20))\n",
    "\n",
    "sim = Sim(masks_src[0], res_z=85, res_ij=85)\n",
    "nmolecules = round(sim.conc_to_nmolecules(36))\n",
    "sim.add_n_objects(nmolecules, 2.7, 1, 1)\n",
    "sim.add_kernel(k, res_z=100, res_ij=50)\n",
    "sim.convolve()\n",
    "sim.resize((250,85,85),order=0)\n",
    "sim.add_noise('gaussian', sigma=10)\n",
    "\n",
    "\n",
    "fm.viewer([norm(sim.im), norm(im)],5)\n"
   ]
  },
  {
   "cell_type": "code",
   "execution_count": 154,
   "metadata": {},
   "outputs": [
    {
     "data": {
      "text/plain": [
       "(100, 100, 100)"
      ]
     },
     "execution_count": 154,
     "metadata": {},
     "output_type": "execute_result"
    }
   ],
   "source": [
    "sim.resize((250,85,85),order=1)\n",
    "sim.im.shape\n",
    "\n",
    "#fm.viewer([norm(sim.im), norm(im)],5)\n"
   ]
  },
  {
   "cell_type": "code",
   "execution_count": 119,
   "metadata": {},
   "outputs": [
    {
     "data": {
      "application/vnd.jupyter.widget-view+json": {
       "model_id": "ea075cac2b90432faf95dc24ef1b2210",
       "version_major": 2,
       "version_minor": 0
      },
      "text/plain": [
       "interactive(children=(Dropdown(description='Color', index=9, options=('magma', 'viridis', 'inferno', 'plasma',…"
      ]
     },
     "metadata": {},
     "output_type": "display_data"
    }
   ],
   "source": [
    "z_width = 13\n",
    "x = opt.x.copy()\n",
    "x[1] = 10\n",
    "x[2] = 10\n",
    "x[0] = 40\n",
    "x[4] = z_width\n",
    "k1 = make_kernel(x, (81,20,20))\n",
    "fm.viewer([k.max(axis=1) * 1000, k1.max(axis=1) * 1000], 5)"
   ]
  },
  {
   "cell_type": "code",
   "execution_count": 120,
   "metadata": {},
   "outputs": [],
   "source": [
    "fm.save_pickle(k1, '/Users/michaelstadler/Bioinformatics/Projects/rpb1/PSFs/fitted_z13_100nmx50x50_80pxx20x20.pkl')"
   ]
  },
  {
   "cell_type": "code",
   "execution_count": 131,
   "metadata": {},
   "outputs": [
    {
     "data": {
      "application/vnd.jupyter.widget-view+json": {
       "model_id": "5e4f1f28e1764a5a8ba59d5146531b60",
       "version_major": 2,
       "version_minor": 0
      },
      "text/plain": [
       "interactive(children=(Dropdown(description='Color', index=9, options=('magma', 'viridis', 'inferno', 'plasma',…"
      ]
     },
     "metadata": {},
     "output_type": "display_data"
    }
   ],
   "source": [
    "kernel = fm.load_pickle('/Users/michaelstadler/Bioinformatics/Projects/rpb1/PSFs/psf_20220502_100nmx50x50_41pxx25x25.pkl')\n",
    "fm.viewer(kernel.max(axis=1) * 1000, 5)"
   ]
  },
  {
   "cell_type": "code",
   "execution_count": 148,
   "metadata": {},
   "outputs": [
    {
     "data": {
      "application/vnd.jupyter.widget-view+json": {
       "model_id": "6c6a7dc98b5f46eb98dbb6c63c1b0501",
       "version_major": 2,
       "version_minor": 0
      },
      "text/plain": [
       "interactive(children=(Dropdown(description='Color', index=9, options=('magma', 'viridis', 'inferno', 'plasma',…"
      ]
     },
     "metadata": {},
     "output_type": "display_data"
    }
   ],
   "source": [
    "k3 = ndi.zoom(kernel, (2, 1, 1))\n",
    "k3 = k3[:, 2:-2, 2:-2]\n",
    "k3 = k3 / np.max(k3)\n",
    "fm.viewer([kernel.max(axis=1) * 1000, k3.max(axis=1) * 1000], 5)"
   ]
  },
  {
   "cell_type": "code",
   "execution_count": 150,
   "metadata": {},
   "outputs": [
    {
     "data": {
      "application/vnd.jupyter.widget-view+json": {
       "model_id": "a21abb8012674e0ab363c57aab1e3649",
       "version_major": 2,
       "version_minor": 0
      },
      "text/plain": [
       "interactive(children=(Dropdown(description='Color', index=9, options=('magma', 'viridis', 'inferno', 'plasma',…"
      ]
     },
     "metadata": {},
     "output_type": "display_data"
    }
   ],
   "source": [
    "sim = Sim(masks_src[0], res_z=85, res_ij=85)\n",
    "nmolecules = round(sim.conc_to_nmolecules(36))\n",
    "sim.add_n_objects(nmolecules, 2.7, 1, 1)\n",
    "sim.add_kernel(k3, res_z=100, res_ij=50)\n",
    "sim.convolve()\n",
    "sim.resize((250,85,85),order=0)\n",
    "sim.add_noise('gaussian', sigma=7)\n",
    "\n",
    "\n",
    "fm.viewer([norm(sim.im), norm(im)],5)"
   ]
  },
  {
   "cell_type": "code",
   "execution_count": 141,
   "metadata": {},
   "outputs": [],
   "source": [
    "fm.save_pickle(k3, '/Users/michaelstadler/Bioinformatics/Projects/rpb1/PSFs/psf_20220502_100nmx50x50_82pxx21x21_zstretch2.0.pkl')"
   ]
  },
  {
   "cell_type": "code",
   "execution_count": 136,
   "metadata": {},
   "outputs": [
    {
     "data": {
      "text/plain": [
       "(62, 21, 21)"
      ]
     },
     "execution_count": 136,
     "metadata": {},
     "output_type": "execute_result"
    }
   ],
   "source": []
  },
  {
   "cell_type": "code",
   "execution_count": null,
   "metadata": {},
   "outputs": [],
   "source": []
  },
  {
   "cell_type": "code",
   "execution_count": null,
   "metadata": {},
   "outputs": [],
   "source": []
  },
  {
   "cell_type": "code",
   "execution_count": null,
   "metadata": {},
   "outputs": [],
   "source": []
  },
  {
   "cell_type": "code",
   "execution_count": null,
   "metadata": {},
   "outputs": [],
   "source": []
  },
  {
   "cell_type": "code",
   "execution_count": null,
   "metadata": {},
   "outputs": [],
   "source": []
  },
  {
   "cell_type": "code",
   "execution_count": null,
   "metadata": {},
   "outputs": [],
   "source": []
  },
  {
   "cell_type": "code",
   "execution_count": null,
   "metadata": {},
   "outputs": [],
   "source": []
  },
  {
   "cell_type": "code",
   "execution_count": null,
   "metadata": {},
   "outputs": [],
   "source": []
  },
  {
   "cell_type": "code",
   "execution_count": null,
   "metadata": {},
   "outputs": [],
   "source": []
  },
  {
   "cell_type": "code",
   "execution_count": 67,
   "metadata": {},
   "outputs": [],
   "source": [
    "f = '/Users/michaelstadler/Bioinformatics/reference/dm6.fa'\n",
    "\n",
    "seq = {}\n",
    "chr_ = ''\n",
    "for line in open(f, 'r'):\n",
    "    line = line.rstrip()\n",
    "    line = str.lower(line)\n",
    "    if line[0] == '>':\n",
    "        chr_ = line[1:]\n",
    "        seq[chr_] = []\n",
    "    else:\n",
    "        seq[chr_].append(line)\n",
    "\n",
    "for chr_ in seq:\n",
    "    seq[chr_] = ''.join(seq[chr_])\n",
    "\n"
   ]
  },
  {
   "cell_type": "code",
   "execution_count": 118,
   "metadata": {},
   "outputs": [],
   "source": [
    "pattern = 'aagagaagagaagagaagagaagag'\n",
    "pattern2 = 'ctcttctcttctcttctcttctctt'\n",
    "chrs = []\n",
    "freqs = []\n",
    "counts = []\n",
    "for chr_ in seq:\n",
    "    count = seq[chr_].count(pattern) + seq[chr_].count(pattern2)\n",
    "    freq = count / len(seq[chr_])\n",
    "    #freq = (seq[chr_].count(pattern) + seq[chr_].count(pattern2))/ len(seq[chr_])\n",
    "    chrs.append(chr_)\n",
    "    freqs.append(freq)\n",
    "    counts.append(count)\n",
    "\n",
    "chrs = np.array(chrs)\n",
    "freqs = np.array(freqs)\n",
    "\n",
    "s = pd.DataFrame([freqs, counts]).T\n",
    "s.index = chrs\n",
    "s.columns = ['freq', 'count']\n",
    "s = s.sort_values(by='freq', ascending=False)\n",
    "s.to_csv('/Users/michaelstadler/Bioinformatics/reference/aagag5x.csv')"
   ]
  },
  {
   "cell_type": "code",
   "execution_count": 116,
   "metadata": {},
   "outputs": [
    {
     "data": {
      "text/html": [
       "<div>\n",
       "<style scoped>\n",
       "    .dataframe tbody tr th:only-of-type {\n",
       "        vertical-align: middle;\n",
       "    }\n",
       "\n",
       "    .dataframe tbody tr th {\n",
       "        vertical-align: top;\n",
       "    }\n",
       "\n",
       "    .dataframe thead th {\n",
       "        text-align: right;\n",
       "    }\n",
       "</style>\n",
       "<table border=\"1\" class=\"dataframe\">\n",
       "  <thead>\n",
       "    <tr style=\"text-align: right;\">\n",
       "      <th></th>\n",
       "      <th>freq</th>\n",
       "      <th>count</th>\n",
       "    </tr>\n",
       "  </thead>\n",
       "  <tbody>\n",
       "    <tr>\n",
       "      <th>chrun_ds484484v1</th>\n",
       "      <td>0.011881</td>\n",
       "      <td>24.0</td>\n",
       "    </tr>\n",
       "    <tr>\n",
       "      <th>chrun_ds484861v1</th>\n",
       "      <td>0.007168</td>\n",
       "      <td>10.0</td>\n",
       "    </tr>\n",
       "    <tr>\n",
       "      <th>chrun_ds485695v2</th>\n",
       "      <td>0.007092</td>\n",
       "      <td>4.0</td>\n",
       "    </tr>\n",
       "    <tr>\n",
       "      <th>chrun_ds485504v1</th>\n",
       "      <td>0.002671</td>\n",
       "      <td>3.0</td>\n",
       "    </tr>\n",
       "    <tr>\n",
       "      <th>chrun_ds483755v1</th>\n",
       "      <td>0.002451</td>\n",
       "      <td>17.0</td>\n",
       "    </tr>\n",
       "    <tr>\n",
       "      <th>...</th>\n",
       "      <td>...</td>\n",
       "      <td>...</td>\n",
       "    </tr>\n",
       "    <tr>\n",
       "      <th>chrun_ds484435v1</th>\n",
       "      <td>0.000000</td>\n",
       "      <td>0.0</td>\n",
       "    </tr>\n",
       "    <tr>\n",
       "      <th>chrun_ds485383v1</th>\n",
       "      <td>0.000000</td>\n",
       "      <td>0.0</td>\n",
       "    </tr>\n",
       "    <tr>\n",
       "      <th>chrun_ds485818v1</th>\n",
       "      <td>0.000000</td>\n",
       "      <td>0.0</td>\n",
       "    </tr>\n",
       "    <tr>\n",
       "      <th>chrun_ds484847v1</th>\n",
       "      <td>0.000000</td>\n",
       "      <td>0.0</td>\n",
       "    </tr>\n",
       "    <tr>\n",
       "      <th>chry_cp007108v1_random</th>\n",
       "      <td>0.000000</td>\n",
       "      <td>0.0</td>\n",
       "    </tr>\n",
       "  </tbody>\n",
       "</table>\n",
       "<p>1870 rows × 2 columns</p>\n",
       "</div>"
      ],
      "text/plain": [
       "                            freq  count\n",
       "chrun_ds484484v1        0.011881   24.0\n",
       "chrun_ds484861v1        0.007168   10.0\n",
       "chrun_ds485695v2        0.007092    4.0\n",
       "chrun_ds485504v1        0.002671    3.0\n",
       "chrun_ds483755v1        0.002451   17.0\n",
       "...                          ...    ...\n",
       "chrun_ds484435v1        0.000000    0.0\n",
       "chrun_ds485383v1        0.000000    0.0\n",
       "chrun_ds485818v1        0.000000    0.0\n",
       "chrun_ds484847v1        0.000000    0.0\n",
       "chry_cp007108v1_random  0.000000    0.0\n",
       "\n",
       "[1870 rows x 2 columns]"
      ]
     },
     "execution_count": 116,
     "metadata": {},
     "output_type": "execute_result"
    }
   ],
   "source": []
  },
  {
   "cell_type": "code",
   "execution_count": null,
   "metadata": {},
   "outputs": [],
   "source": []
  }
 ],
 "metadata": {
  "interpreter": {
   "hash": "e372816e4ed8f4776be7691c42762f9e24664f8c81a636e19b7b5da78d6a9ebf"
  },
  "kernelspec": {
   "display_name": "tf2",
   "language": "python",
   "name": "python3"
  },
  "language_info": {
   "codemirror_mode": {
    "name": "ipython",
    "version": 3
   },
   "file_extension": ".py",
   "mimetype": "text/x-python",
   "name": "python",
   "nbconvert_exporter": "python",
   "pygments_lexer": "ipython3",
   "version": "3.9.7"
  },
  "orig_nbformat": 4
 },
 "nbformat": 4,
 "nbformat_minor": 2
}
