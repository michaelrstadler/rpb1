{
 "cells": [
  {
   "cell_type": "code",
   "execution_count": 7,
   "metadata": {},
   "outputs": [
    {
     "name": "stdout",
     "output_type": "stream",
     "text": [
      "The autoreload extension is already loaded. To reload it, use:\n",
      "  %reload_ext autoreload\n"
     ]
    }
   ],
   "source": [
    "from importlib import reload\n",
    "import flymovie as fm\n",
    "import cnn_models.siamese_cnn as cn\n",
    "import cnn_models.evaluate_models as ev\n",
    "from flymovie.simnuc import Sim\n",
    "import matplotlib.pyplot as plt\n",
    "import numpy as np\n",
    "import pandas as pd\n",
    "import seaborn as sn\n",
    "import tensorflow as tf\n",
    "from importlib import reload\n",
    "from sklearn.manifold import TSNE\n",
    "import scipy.ndimage as ndi\n",
    "import skimage as ski\n",
    "%load_ext autoreload\n",
    "%autoreload 2"
   ]
  },
  {
   "cell_type": "code",
   "execution_count": 155,
   "metadata": {},
   "outputs": [],
   "source": [
    "em_s, files_s = fm.load_pickle('/Users/michaelstadler/Bioinformatics/Projects/rpb1/results/embeddings-zldcterm-sims-202200502-realkernel-stretch2_wGFzhIht_mix_real_sim_3_34layer.pkl') \n",
    "#em_s, files_s = fm.load_pickle('/Users/michaelstadler/Bioinformatics/Projects/rpb1/results/embeddings-zld-cterm-blackbox1_GlxqIxOJ_mix_real_sim_3_34layer.pkl') \n",
    "em_r, files_r = fm.load_pickle('/Users/michaelstadler/Bioinformatics/Projects/rpb1/results/embeddings-zldcterm-nc14-real-202200501_mix_real_sim_3_34layer.pkl') "
   ]
  },
  {
   "cell_type": "code",
   "execution_count": 313,
   "metadata": {},
   "outputs": [],
   "source": [
    "def dists_arr_to_row(arr, row):\n",
    "    dists_sq = np.sum((arr - row) ** 2, axis=1)\n",
    "    dists = np.sqrt(dists_sq)\n",
    "    return dists\n",
    "\n",
    "def dist_to_center(ref_arr, arr):\n",
    "    center = ref_arr.mean(axis=0)\n",
    "    sqdist = np.sum((arr - center) ** 2, axis=1)\n",
    "    return np.sqrt(sqdist)\n",
    "\n",
    "def find_in_radius(em1, files1, em2, files2, r):\n",
    "    good_files = []\n",
    "    for i in range(len(files1)):\n",
    "        if i % 250 == 0:\n",
    "            print(i)\n",
    "\n",
    "        dists = dists_arr_to_row(em2, em1[i])\n",
    "        good_uns = dists <= r\n",
    "        #good_files1 = np.array(files1)[good_uns]\n",
    "        good_files_this = list(np.array(files2)[good_uns])\n",
    "        good_files = good_files + good_files_this\n",
    "\n",
    "    return np.unique(good_files)\n",
    "\n",
    "def d_pairwise_all(em1, em2):\n",
    "    d = []\n",
    "    for i in range(len(em2)):\n",
    "        d_ = list(dists_arr_to_row(em1, em2[i]))\n",
    "        d = d + d_\n",
    "    return d\n",
    "\n",
    "def norm(x):\n",
    "    mean_ = np.mean(x[x>0])\n",
    "    return x / mean_ * 1000\n",
    "\n",
    "def make_df(files):\n",
    "    p = []\n",
    "    for f in files:\n",
    "        #print(f.split('_')[])\n",
    "\n",
    "        p.append(f.split('_')[1:-1])\n",
    "\n",
    "    p = np.array(p)\n",
    "    p = p.astype(float) \n",
    "    return pd.DataFrame(p, columns=['ntotal', 'hlb_diam','hlb_nmols', 'n_clusters', 'cluster_diam_mean', 'cluster_diam_var','cluster_nmols_mean','cluster_nmols_var','noise_sigma'])\n"
   ]
  },
  {
   "cell_type": "code",
   "execution_count": 166,
   "metadata": {},
   "outputs": [
    {
     "name": "stdout",
     "output_type": "stream",
     "text": [
      "0\n"
     ]
    },
    {
     "data": {
      "image/png": "[encoded data removed]",
      "text/plain": [
       "<Figure size 432x288 with 1 Axes>"
      ]
     },
     "metadata": {
      "needs_background": "light"
     },
     "output_type": "display_data"
    }
   ],
   "source": [
    "files = find_in_radius(em_r, files_r, em_s, files_s, r=0.7)\n",
    "n = []\n",
    "for f in files:\n",
    "    n.append(float(f.split('_')[-2]))\n",
    "\n",
    "plt.hist(n, bins=10);"
   ]
  },
  {
   "cell_type": "code",
   "execution_count": 157,
   "metadata": {},
   "outputs": [
    {
     "data": {
      "image/png": "[encoded data removed]",
      "text/plain": [
       "<Figure size 432x288 with 1 Axes>"
      ]
     },
     "metadata": {
      "needs_background": "light"
     },
     "output_type": "display_data"
    }
   ],
   "source": [
    "plt.hist(d_pairwise_all(em_r, em_r), bins=50, alpha=0.5, density=True);\n",
    "plt.hist(d_pairwise_all(em_s, em_s), bins=50, alpha=0.5, density=True);"
   ]
  },
  {
   "cell_type": "code",
   "execution_count": 154,
   "metadata": {},
   "outputs": [
    {
     "name": "stdout",
     "output_type": "stream",
     "text": [
      "0\n"
     ]
    },
    {
     "data": {
      "text/plain": [
       "array(['DSi_1893.74_13.85_1_1_1_0.0_1_0.1_7.79_rep0.pkl',\n",
       "       'NtK_1915.63_12.09_1_1_1_0.0_1_0.1_8.16_rep0.pkl',\n",
       "       'QjG_2390.69_8.8_1_1_1_0.0_1_0.1_9.31_rep0.pkl',\n",
       "       'RyD_1979.24_11.0_1_1_1_0.0_1_0.1_8.25_rep0.pkl',\n",
       "       'ZQY_1741.48_11.16_1_1_1_0.0_1_0.1_6.98_rep0.pkl',\n",
       "       'aeg_1931.11_8.96_1_1_1_0.0_1_0.1_8.08_rep0.pkl',\n",
       "       'wHM_1732.43_12.14_1_1_1_0.0_1_0.1_7.74_rep0.pkl'], dtype='<U47')"
      ]
     },
     "execution_count": 154,
     "metadata": {},
     "output_type": "execute_result"
    }
   ],
   "source": [
    "find_in_radius(em_r, files_r, em_s, files_s, r=0.5)"
   ]
  },
  {
   "cell_type": "code",
   "execution_count": 39,
   "metadata": {},
   "outputs": [
    {
     "data": {
      "text/plain": [
       "10.330000000000002"
      ]
     },
     "execution_count": 39,
     "metadata": {},
     "output_type": "execute_result"
    }
   ],
   "source": [
    "np.mean([10.2,10.2,10.79,11.29,9.94,10.22,10.47,10.66,10.49,10.55,9.45,9.01,11.02])"
   ]
  },
  {
   "cell_type": "code",
   "execution_count": 126,
   "metadata": {},
   "outputs": [
    {
     "data": {
      "image/png": "[encoded data removed]",
      "text/plain": [
       "<Figure size 432x288 with 1 Axes>"
      ]
     },
     "metadata": {
      "needs_background": "light"
     },
     "output_type": "display_data"
    }
   ],
   "source": [
    "plt.hist(d_pairwise_all(em_r, em_r), bins=50, alpha=0.5, density=True);\n",
    "plt.hist(d_pairwise_all(em_s, em_s), bins=50, alpha=0.5, density=True);"
   ]
  },
  {
   "cell_type": "code",
   "execution_count": 35,
   "metadata": {},
   "outputs": [
    {
     "data": {
      "text/plain": [
       "4809.952710376001"
      ]
     },
     "execution_count": 35,
     "metadata": {},
     "output_type": "execute_result"
    }
   ],
   "source": [
    "mask = fm.load_pickle('/Users/michaelstadler/Bioinformatics/Projects/rpb1/data/real_masks/zld-cterm/20220321-zld-cterm-em1-01_2.pkl')\n",
    "sim = Sim(mask)\n",
    "sim.conc_to_nmolecules(80)"
   ]
  },
  {
   "cell_type": "code",
   "execution_count": 186,
   "metadata": {},
   "outputs": [],
   "source": [
    "em_w, files_w = fm.load_pickle('/Users/michaelstadler/Bioinformatics/Projects/rpb1/results/embeddings-zld-wt-early13_mix_real_sim_3_34layer.pkl') \n",
    "em_m, files_m = fm.load_pickle('/Users/michaelstadler/Bioinformatics/Projects/rpb1/results/embeddings-zldmut_early13_mix_real_sim_3_34layer.pkl') "
   ]
  },
  {
   "cell_type": "code",
   "execution_count": 56,
   "metadata": {},
   "outputs": [
    {
     "data": {
      "image/png": "[encoded data removed]",
      "text/plain": [
       "<Figure size 432x288 with 1 Axes>"
      ]
     },
     "metadata": {
      "needs_background": "light"
     },
     "output_type": "display_data"
    }
   ],
   "source": [
    "plt.hist(d_pairwise_all(em_w, em_m), bins=50, alpha=0.5, density=True);\n",
    "plt.hist(d_pairwise_all(em_w, em_w), bins=50, alpha=0.5, density=True);"
   ]
  },
  {
   "cell_type": "code",
   "execution_count": 66,
   "metadata": {},
   "outputs": [
    {
     "data": {
      "application/vnd.jupyter.widget-view+json": {
       "model_id": "fb2dad98d8394908bd252491b4f93632",
       "version_major": 2,
       "version_minor": 0
      },
      "text/plain": [
       "interactive(children=(Dropdown(description='Color', index=2, options=('gray_r', 'Greens', 'cividis', 'Reds', '…"
      ]
     },
     "metadata": {},
     "output_type": "display_data"
    }
   ],
   "source": [
    "im = fm.load_pickle('/Users/michaelstadler/Bioinformatics/Projects/rpb1/data/real_nuclei/set2/zld/zld-real_20220318-zld-mneon-em1-09_4_3.pkl')\n",
    "fm.viewer(im, 5)"
   ]
  },
  {
   "cell_type": "code",
   "execution_count": 63,
   "metadata": {},
   "outputs": [
    {
     "data": {
      "application/vnd.jupyter.widget-view+json": {
       "model_id": "20e367f39e3f41e2b839578198e12907",
       "version_major": 2,
       "version_minor": 0
      },
      "text/plain": [
       "interactive(children=(Dropdown(description='Color', index=2, options=('gray_r', 'Greens', 'cividis', 'Reds', '…"
      ]
     },
     "metadata": {},
     "output_type": "display_data"
    }
   ],
   "source": [
    "kernel = fm.load_pickle('/Users/michaelstadler/Bioinformatics/Projects/rpb1/PSFs/psf_20220210_21x25x25pixels_100x50x50voxel.pkl')\n",
    "outfolder = '/Users/michaelstadler/Desktop/temp'\n",
    "nreps = 1\n",
    "concentration = 80\n",
    "hlb_diam_rng = [12,12]\n",
    "hlb_nmols_rng = [1,1]\n",
    "n_clusters_rng = [60,60]\n",
    "cluster_diam_mean_rng = [1,1] \n",
    "cluster_diam_var_rng = [0.01,0.01]\n",
    "cluster_nmols_mean_rng = [6,6]\n",
    "cluster_nmols_var_rng = [1,1]\n",
    "noise_sigma_rng = [10.2, 10.2]\n",
    "dims_init=(85, 85, 85)\n",
    "dims_kernel=(100,50,50)\n",
    "dims_final=(250,85,85)\n",
    "gfp_intensity = 2.7\n",
    "\n",
    "#hlb_coords = [hlb_possible_coords[x] for x in np.random.choice(len(hlb_possible_coords), 2)]\n",
    "hlb_coords = [(12, 60, 38), (51, 57, 41)]\n",
    "sims = []\n",
    "nsims=1\n",
    "for _ in range(nsims):\n",
    "    masks = masks_src[np.random.choice(np.arange(masks_src.shape[0]), nsims)]\n",
    "    sim = fm.sim_rpb1(masks, kernel, outfolder, nreps, concentration, hlb_diam_rng, \n",
    "        hlb_nmols_rng, n_clusters_rng, cluster_diam_mean_rng, \n",
    "        cluster_diam_var_rng, cluster_nmols_mean_rng, cluster_nmols_var_rng,\n",
    "        noise_sigma_rng, hlb_coords, dims_init, \n",
    "        dims_kernel, dims_final, gfp_intensity, return_sim=True, mask_nuclei=False)\n",
    "    sims.append(sim.im)\n",
    "\n",
    "n = 4\n",
    "#fm.viewer([norm(nucs[n]), norm(sim.im)], 5)\n",
    "fm.viewer(sim.im, 5)"
   ]
  },
  {
   "cell_type": "code",
   "execution_count": 64,
   "metadata": {},
   "outputs": [
    {
     "data": {
      "application/vnd.jupyter.widget-view+json": {
       "model_id": "88d46eb2d0fd414ca174276ee4f42905",
       "version_major": 2,
       "version_minor": 0
      },
      "text/plain": [
       "interactive(children=(Dropdown(description='Color', index=2, options=('gray_r', 'Greens', 'cividis', 'Reds', '…"
      ]
     },
     "metadata": {},
     "output_type": "display_data"
    }
   ],
   "source": [
    "fm.viewer(sim.im, 5)"
   ]
  },
  {
   "cell_type": "code",
   "execution_count": 69,
   "metadata": {},
   "outputs": [
    {
     "data": {
      "application/vnd.jupyter.widget-view+json": {
       "model_id": "6f78a14ab379474d9b2d680fc3e76e33",
       "version_major": 2,
       "version_minor": 0
      },
      "text/plain": [
       "interactive(children=(Dropdown(description='Color', index=2, options=('gray_r', 'Greens', 'cividis', 'Reds', '…"
      ]
     },
     "metadata": {},
     "output_type": "display_data"
    }
   ],
   "source": [
    "fm.viewer(kernel * 1000, 5)"
   ]
  },
  {
   "cell_type": "code",
   "execution_count": 10,
   "metadata": {},
   "outputs": [],
   "source": [
    "kernel = fm.load_pickle('/Users/michaelstadler/Bioinformatics/Projects/rpb1/PSFs/psf_20220210_21x25x25pixels_100x50x50voxel.pkl')\n",
    "masks_src = fm.load_pickle('/Users/michaelstadler/Bioinformatics/Projects/rpb1/data/real_masks/mask_files/nc14_1.pkl')"
   ]
  },
  {
   "cell_type": "code",
   "execution_count": 104,
   "metadata": {},
   "outputs": [
    {
     "data": {
      "application/vnd.jupyter.widget-view+json": {
       "model_id": "fdbfe3071ea74101acb26c4a7b4e77ee",
       "version_major": 2,
       "version_minor": 0
      },
      "text/plain": [
       "interactive(children=(Dropdown(description='Color', index=9, options=('gray_r', 'Gators', 'Reds', 'gray', 'inf…"
      ]
     },
     "metadata": {},
     "output_type": "display_data"
    }
   ],
   "source": [
    "def tnorm(x):\n",
    "    return (x / np.max(x)) * 1000\n",
    "\n",
    "def make_kernel(x, shape):\n",
    "    g = fm.gaussian3d(*x)\n",
    "    return g(*np.indices(shape))\n",
    "\n",
    "def double_convolve(im, k1, k2):\n",
    "    k1 = ndi.zoom(k1, (100/85, 50/85, 50/85))\n",
    "    k2 = ndi.zoom(k2, (100/85, 50/85, 50/85))\n",
    "    cv1 = ndi.convolve(im, k1)\n",
    "    cv2 = ndi.convolve(im, k2)\n",
    "    fm.viewer([norm(cv1), norm(cv2)], 5)\n",
    "\n",
    "opt = fm.fitgaussian3d(kernel / np.max(kernel))\n",
    "kernel_f = make_kernel(opt.x, kernel.shape)\n",
    "\n",
    "fm.viewer([tnorm(kernel_f), tnorm(kernel)], 5)\n"
   ]
  },
  {
   "cell_type": "code",
   "execution_count": 12,
   "metadata": {},
   "outputs": [],
   "source": [
    "im = fm.load_pickle('/Users/michaelstadler/Bioinformatics/Projects/rpb1/data/real_nuclei/set2/tmp/zld-cterm-unmasked/zld-cterm_20220321-zld-cterm-em1-01_0_1.pkl')"
   ]
  },
  {
   "cell_type": "code",
   "execution_count": 53,
   "metadata": {},
   "outputs": [
    {
     "data": {
      "application/vnd.jupyter.widget-view+json": {
       "model_id": "1aa21882d1fd4336b4f4e0f9e31d2eb8",
       "version_major": 2,
       "version_minor": 0
      },
      "text/plain": [
       "interactive(children=(Dropdown(description='Color', index=9, options=('magma', 'viridis', 'inferno', 'plasma',…"
      ]
     },
     "metadata": {},
     "output_type": "display_data"
    }
   ],
   "source": [
    "# (z, x, y, height, width_z, width_x, width_y)\n",
    "\n",
    "z_width = 13\n",
    "sigma = 3\n",
    "x = opt.x.copy()\n",
    "x[1] = 10\n",
    "x[2] = 10\n",
    "x[0] = 50\n",
    "x[4] = z_width\n",
    "k = make_kernel(x, (101,20,20))\n",
    "\n",
    "sim = Sim(masks_src[0], res_z=85, res_ij=85)\n",
    "nmolecules = round(sim.conc_to_nmolecules(36))\n",
    "sim.add_n_objects(nmolecules, 2.7, 1, 1)\n",
    "sim.add_kernel(k, res_z=100, res_ij=50)\n",
    "sim.convolve()\n",
    "sim.resize((250,85,85),order=0)\n",
    "sim.add_noise('gaussian', sigma=10)\n",
    "\n",
    "\n",
    "fm.viewer([norm(sim.im), norm(im)],5)\n"
   ]
  },
  {
   "cell_type": "code",
   "execution_count": 154,
   "metadata": {},
   "outputs": [
    {
     "data": {
      "text/plain": [
       "(100, 100, 100)"
      ]
     },
     "execution_count": 154,
     "metadata": {},
     "output_type": "execute_result"
    }
   ],
   "source": [
    "sim.resize((250,85,85),order=1)\n",
    "sim.im.shape\n",
    "\n",
    "#fm.viewer([norm(sim.im), norm(im)],5)\n"
   ]
  },
  {
   "cell_type": "code",
   "execution_count": 119,
   "metadata": {},
   "outputs": [
    {
     "data": {
      "application/vnd.jupyter.widget-view+json": {
       "model_id": "ea075cac2b90432faf95dc24ef1b2210",
       "version_major": 2,
       "version_minor": 0
      },
      "text/plain": [
       "interactive(children=(Dropdown(description='Color', index=9, options=('magma', 'viridis', 'inferno', 'plasma',…"
      ]
     },
     "metadata": {},
     "output_type": "display_data"
    }
   ],
   "source": [
    "z_width = 13\n",
    "x = opt.x.copy()\n",
    "x[1] = 10\n",
    "x[2] = 10\n",
    "x[0] = 40\n",
    "x[4] = z_width\n",
    "k1 = make_kernel(x, (81,20,20))\n",
    "fm.viewer([k.max(axis=1) * 1000, k1.max(axis=1) * 1000], 5)"
   ]
  },
  {
   "cell_type": "code",
   "execution_count": 120,
   "metadata": {},
   "outputs": [],
   "source": [
    "fm.save_pickle(k1, '/Users/michaelstadler/Bioinformatics/Projects/rpb1/PSFs/fitted_z13_100nmx50x50_80pxx20x20.pkl')"
   ]
  },
  {
   "cell_type": "code",
   "execution_count": 131,
   "metadata": {},
   "outputs": [
    {
     "data": {
      "application/vnd.jupyter.widget-view+json": {
       "model_id": "5e4f1f28e1764a5a8ba59d5146531b60",
       "version_major": 2,
       "version_minor": 0
      },
      "text/plain": [
       "interactive(children=(Dropdown(description='Color', index=9, options=('magma', 'viridis', 'inferno', 'plasma',…"
      ]
     },
     "metadata": {},
     "output_type": "display_data"
    }
   ],
   "source": [
    "kernel = fm.load_pickle('/Users/michaelstadler/Bioinformatics/Projects/rpb1/PSFs/psf_20220502_100nmx50x50_41pxx25x25.pkl')\n",
    "fm.viewer(kernel.max(axis=1) * 1000, 5)"
   ]
  },
  {
   "cell_type": "code",
   "execution_count": 151,
   "metadata": {},
   "outputs": [
    {
     "data": {
      "application/vnd.jupyter.widget-view+json": {
       "model_id": "f51e49a96a504ca68d31ec9a0e7b2b7b",
       "version_major": 2,
       "version_minor": 0
      },
      "text/plain": [
       "interactive(children=(Dropdown(description='Color', index=9, options=('magma', 'viridis', 'inferno', 'plasma',…"
      ]
     },
     "metadata": {},
     "output_type": "display_data"
    }
   ],
   "source": [
    "k3 = ndi.zoom(kernel, (2, 1, 1))\n",
    "k3 = k3[10:-10, 2:-2, 2:-2]\n",
    "k3 = k3 / np.max(k3)\n",
    "fm.viewer([kernel.max(axis=1) * 1000, k3.max(axis=1) * 1000], 5)"
   ]
  },
  {
   "cell_type": "code",
   "execution_count": 150,
   "metadata": {},
   "outputs": [
    {
     "data": {
      "application/vnd.jupyter.widget-view+json": {
       "model_id": "a21abb8012674e0ab363c57aab1e3649",
       "version_major": 2,
       "version_minor": 0
      },
      "text/plain": [
       "interactive(children=(Dropdown(description='Color', index=9, options=('magma', 'viridis', 'inferno', 'plasma',…"
      ]
     },
     "metadata": {},
     "output_type": "display_data"
    }
   ],
   "source": [
    "sim = Sim(masks_src[0], res_z=85, res_ij=85)\n",
    "nmolecules = round(sim.conc_to_nmolecules(36))\n",
    "sim.add_n_objects(nmolecules, 2.7, 1, 1)\n",
    "sim.add_kernel(k3, res_z=100, res_ij=50)\n",
    "sim.convolve()\n",
    "sim.resize((250,85,85),order=0)\n",
    "sim.add_noise('gaussian', sigma=7)\n",
    "\n",
    "\n",
    "fm.viewer([norm(sim.im), norm(im)],5)"
   ]
  },
  {
   "cell_type": "code",
   "execution_count": 153,
   "metadata": {},
   "outputs": [],
   "source": [
    "fm.save_pickle(k3, '/Users/michaelstadler/Bioinformatics/Projects/rpb1/PSFs/psf_20220502_100nmx50x50_62pxx21x21_zstretch2.0.pkl')"
   ]
  },
  {
   "cell_type": "code",
   "execution_count": null,
   "metadata": {},
   "outputs": [],
   "source": []
  },
  {
   "cell_type": "code",
   "execution_count": 167,
   "metadata": {},
   "outputs": [],
   "source": [
    "im = fm.load_pickle('/Users/michaelstadler/Bioinformatics/Projects/rpb1/data/real_nuclei/set2/zld/zld-real_20220318-zld-mneon-em1-09_4_3.pkl')"
   ]
  },
  {
   "cell_type": "code",
   "execution_count": 173,
   "metadata": {},
   "outputs": [
    {
     "data": {
      "application/vnd.jupyter.widget-view+json": {
       "model_id": "46e2ac4bf3454b1186afb446a749cb8c",
       "version_major": 2,
       "version_minor": 0
      },
      "text/plain": [
       "interactive(children=(Dropdown(description='Color', index=9, options=('magma', 'viridis', 'inferno', 'plasma',…"
      ]
     },
     "metadata": {},
     "output_type": "display_data"
    }
   ],
   "source": [
    "kernel = fm.load_pickle('/Users/michaelstadler/Bioinformatics/Projects/rpb1/PSFs/psf_20220502_100nmx50x50_62pxx21x21_zstretch2.0.pkl')\n",
    "outfolder = '/Users/michaelstadler/Desktop/temp'\n",
    "nreps = 1\n",
    "concentration = 30\n",
    "hlb_diam_rng = [12,12]\n",
    "hlb_nmols_rng = [1,1]\n",
    "n_clusters_rng = [60,60]\n",
    "cluster_diam_mean_rng = [1,1] \n",
    "cluster_diam_var_rng = [0.01,0.01]\n",
    "cluster_nmols_mean_rng = [6,6]\n",
    "cluster_nmols_var_rng = [1,1]\n",
    "noise_sigma_rng = [3.5, 3.5]\n",
    "dims_init=(85, 85, 85)\n",
    "dims_kernel=(100,50,50)\n",
    "dims_final=(250,85,85)\n",
    "gfp_intensity = 2.7\n",
    "\n",
    "#hlb_coords = [hlb_possible_coords[x] for x in np.random.choice(len(hlb_possible_coords), 2)]\n",
    "hlb_coords = [(12, 60, 38), (51, 57, 41)]\n",
    "sims = []\n",
    "nsims=1\n",
    "for _ in range(nsims):\n",
    "    masks = masks_src[np.random.choice(np.arange(masks_src.shape[0]), nsims)]\n",
    "    sim = fm.sim_rpb1(masks, kernel, outfolder, nreps, concentration, hlb_diam_rng, \n",
    "        hlb_nmols_rng, n_clusters_rng, cluster_diam_mean_rng, \n",
    "        cluster_diam_var_rng, cluster_nmols_mean_rng, cluster_nmols_var_rng,\n",
    "        noise_sigma_rng, hlb_coords, dims_init, \n",
    "        dims_kernel, dims_final, gfp_intensity, return_sim=True, mask_nuclei=True)\n",
    "    sims.append(sim.im)\n",
    "\n",
    "n = 4\n",
    "#fm.viewer([norm(nucs[n]), norm(sim.im)], 5)\n",
    "fm.viewer([norm(sim.im), norm(im)], 5)"
   ]
  },
  {
   "cell_type": "code",
   "execution_count": 201,
   "metadata": {},
   "outputs": [
    {
     "data": {
      "image/png": "[encoded data removed]",
      "text/plain": [
       "<Figure size 432x288 with 1 Axes>"
      ]
     },
     "metadata": {
      "needs_background": "light"
     },
     "output_type": "display_data"
    }
   ],
   "source": [
    "em_w, files_w = fm.load_pickle('/Users/michaelstadler/Bioinformatics/Projects/rpb1/results/embeddings-zld-wt-early13_mix_real_sim_3_34layer.pkl') \n",
    "em_s, files_s = fm.load_pickle('/Users/michaelstadler/Bioinformatics/Projects/rpb1/results/embeddings-zld-matchsims-202200503-realkernel-stretch1.5_tBcKoKLD_mix_real_sim_3_34layer.pkl')\n",
    "plt.hist(d_pairwise_all(em_w, em_w), bins=50, alpha=0.5, density=True);\n",
    "plt.hist(d_pairwise_all(em_w, em_s), bins=50, alpha=0.5, density=True);"
   ]
  },
  {
   "cell_type": "code",
   "execution_count": 206,
   "metadata": {},
   "outputs": [
    {
     "data": {
      "image/png": "[encoded data removed]",
      "text/plain": [
       "<Figure size 432x288 with 1 Axes>"
      ]
     },
     "metadata": {
      "needs_background": "light"
     },
     "output_type": "display_data"
    }
   ],
   "source": [
    "em_w, files_w = fm.load_pickle('/Users/michaelstadler/Bioinformatics/Projects/rpb1/results/embeddings-zld-wt-early13_mix_real_sim_3_34layer.pkl') \n",
    "em_s, files_s = fm.load_pickle('/Users/michaelstadler/Bioinformatics/Projects/rpb1/results/embeddings-zld-matchsims-202200503-realkernel-stretch2.0_bGdxAfAR_mix_real_sim_3_34layer.pkl')\n",
    "plt.hist(d_pairwise_all(em_w, em_w), bins=50, alpha=0.5, density=True);\n",
    "plt.hist(d_pairwise_all(em_w, em_s), bins=50, alpha=0.5, density=True);"
   ]
  },
  {
   "cell_type": "code",
   "execution_count": 203,
   "metadata": {},
   "outputs": [
    {
     "data": {
      "image/png": "[encoded data removed]",
      "text/plain": [
       "<Figure size 432x288 with 1 Axes>"
      ]
     },
     "metadata": {
      "needs_background": "light"
     },
     "output_type": "display_data"
    }
   ],
   "source": [
    "em_w, files_w = fm.load_pickle('/Users/michaelstadler/Bioinformatics/Projects/rpb1/results/embeddings-zld-wt-early13_mix_real_sim_3_34layer.pkl') \n",
    "em_s, files_s = fm.load_pickle('/Users/michaelstadler/Bioinformatics/Projects/rpb1/results/embeddings-zld-matchsims-202200503-realkernel-stretch2.25_VHLlNeUj_mix_real_sim_3_34layer.pkl')\n",
    "plt.hist(d_pairwise_all(em_w, em_w), bins=50, alpha=0.5, density=True);\n",
    "plt.hist(d_pairwise_all(em_w, em_s), bins=50, alpha=0.5, density=True);"
   ]
  },
  {
   "cell_type": "code",
   "execution_count": 204,
   "metadata": {},
   "outputs": [
    {
     "data": {
      "image/png": "[encoded data removed]",
      "text/plain": [
       "<Figure size 432x288 with 1 Axes>"
      ]
     },
     "metadata": {
      "needs_background": "light"
     },
     "output_type": "display_data"
    }
   ],
   "source": [
    "em_w, files_w = fm.load_pickle('/Users/michaelstadler/Bioinformatics/Projects/rpb1/results/embeddings-zld-wt-early13_mix_real_sim_3_34layer.pkl') \n",
    "em_s, files_s = fm.load_pickle('/Users/michaelstadler/Bioinformatics/Projects/rpb1/results/embeddings-zld-matchsims-202200503-fittedkernel-z8_eRLBrHnt_mix_real_sim_3_34layer.pkl')\n",
    "plt.hist(d_pairwise_all(em_w, em_w), bins=50, alpha=0.5, density=True);\n",
    "plt.hist(d_pairwise_all(em_w, em_s), bins=50, alpha=0.5, density=True);"
   ]
  },
  {
   "cell_type": "code",
   "execution_count": 205,
   "metadata": {},
   "outputs": [
    {
     "data": {
      "image/png": "[encoded data removed]",
      "text/plain": [
       "<Figure size 432x288 with 1 Axes>"
      ]
     },
     "metadata": {
      "needs_background": "light"
     },
     "output_type": "display_data"
    }
   ],
   "source": [
    "em_w, files_w = fm.load_pickle('/Users/michaelstadler/Bioinformatics/Projects/rpb1/results/embeddings-zld-wt-early13_mix_real_sim_3_34layer.pkl') \n",
    "em_s, files_s = fm.load_pickle('/Users/michaelstadler/Bioinformatics/Projects/rpb1/results/embeddings-zld-matchsims-202200503-fittedkernel-z12_iIMYDNeI_mix_real_sim_3_34layer.pkl')\n",
    "plt.hist(d_pairwise_all(em_w, em_w), bins=50, alpha=0.5, density=True);\n",
    "plt.hist(d_pairwise_all(em_w, em_s), bins=50, alpha=0.5, density=True);"
   ]
  },
  {
   "cell_type": "code",
   "execution_count": 242,
   "metadata": {},
   "outputs": [
    {
     "data": {
      "image/png": "[encoded data removed]",
      "text/plain": [
       "<Figure size 432x288 with 1 Axes>"
      ]
     },
     "metadata": {
      "needs_background": "light"
     },
     "output_type": "display_data"
    }
   ],
   "source": [
    "em_w, files_w = fm.load_pickle('/Users/michaelstadler/Bioinformatics/Projects/rpb1/results/embeddings-zld-wt-early13_mix_real_sim_3_34layer.pkl') \n",
    "em_s, files_s = fm.load_pickle('/Users/michaelstadler/Bioinformatics/Projects/rpb1/results/embeddings-zld-matchsims-202200503-tight2-realkernel-zstretch2.0_vwFxmWFj_mix_real_sim_3_34layer.pkl')\n",
    "plt.hist(d_pairwise_all(em_w, em_w), bins=50, alpha=0.5, density=True);\n",
    "plt.hist(d_pairwise_all(em_w, em_s), bins=50, alpha=0.5, density=True);"
   ]
  },
  {
   "cell_type": "code",
   "execution_count": 244,
   "metadata": {},
   "outputs": [
    {
     "data": {
      "image/png": "[encoded data removed]",
      "text/plain": [
       "<Figure size 432x288 with 1 Axes>"
      ]
     },
     "metadata": {
      "needs_background": "light"
     },
     "output_type": "display_data"
    }
   ],
   "source": [
    "em_w, files_w = fm.load_pickle('/Users/michaelstadler/Bioinformatics/Projects/rpb1/results/embeddings-zld-wt-early13_mix_real_sim_3_34layer.pkl') \n",
    "em_s, files_s = fm.load_pickle('/Users/michaelstadler/Bioinformatics/Projects/rpb1/results/embeddings-zld-matchsims-202200503-tight2-realkernel-zstretch2.7_UaqwADKX_mix_real_sim_3_34layer.pkl')\n",
    "plt.hist(d_pairwise_all(em_w, em_w), bins=50, alpha=0.5, density=True);\n",
    "plt.hist(d_pairwise_all(em_w, em_s), bins=50, alpha=0.5, density=True);"
   ]
  },
  {
   "cell_type": "code",
   "execution_count": 260,
   "metadata": {},
   "outputs": [
    {
     "data": {
      "image/png": "[encoded data removed]",
      "text/plain": [
       "<Figure size 432x288 with 1 Axes>"
      ]
     },
     "metadata": {
      "needs_background": "light"
     },
     "output_type": "display_data"
    }
   ],
   "source": [
    "plt.hist(d_pairwise_all(em_m, em_m), bins=50, alpha=0.5, density=True);\n",
    "plt.hist(d_pairwise_all(em_m, em_s), bins=50, alpha=0.5, density=True);"
   ]
  },
  {
   "cell_type": "code",
   "execution_count": 246,
   "metadata": {},
   "outputs": [
    {
     "name": "stdout",
     "output_type": "stream",
     "text": [
      "0\n"
     ]
    },
    {
     "data": {
      "text/plain": [
       "array(['BMH_2903.56_1.0_1_22_1_0.0_4_3.01_4.81_rep1.pkl',\n",
       "       'CjA_2916.8_1.0_1_20_1_0.0_5_3.95_5.06_rep1.pkl',\n",
       "       'EvS_2928.25_1.0_1_2_1_0.0_3_2.22_4.84_rep1.pkl',\n",
       "       'Fhz_2508.35_1.0_1_10_1_0.0_2_2.53_4.39_rep0.pkl',\n",
       "       'GZQ_2873.25_1.0_1_54_1_0.0_4_2.87_4.73_rep1.pkl',\n",
       "       'GZQ_3217.22_1.0_1_54_1_0.0_4_2.87_4.73_rep0.pkl',\n",
       "       'GlH_2873.25_1.0_1_13_1_0.0_5_3.17_4.87_rep1.pkl',\n",
       "       'Hrc_2657.44_1.0_1_8_1_0.0_3_1.91_3.94_rep1.pkl',\n",
       "       'IGL_3052.2_1.0_1_26_1_0.0_2_2.85_5.29_rep0.pkl',\n",
       "       'JPt_2792.03_1.0_1_35_1_0.0_5_3.88_5.08_rep1.pkl',\n",
       "       'KEW_3051.95_1.0_1_4_1_0.0_6_3.97_4.87_rep1.pkl',\n",
       "       'KHD_2916.8_1.0_1_9_1_0.0_4_2.63_4.62_rep1.pkl',\n",
       "       'MLO_2461.45_1.0_1_31_1_0.0_3_0.87_4.5_rep0.pkl',\n",
       "       'NMC_2916.8_1.0_1_24_1_0.0_3_0.54_4.33_rep1.pkl',\n",
       "       'NQY_2892.62_1.0_1_6_1_0.0_4_1.84_4.74_rep1.pkl',\n",
       "       'NVb_2928.25_1.0_1_23_1_0.0_3_3.1_4.38_rep0.pkl',\n",
       "       'NZM_2916.8_1.0_1_44_1_0.0_2_1.99_4.58_rep1.pkl',\n",
       "       'Phl_2910.81_1.0_1_19_1_0.0_5_1.4_4.6_rep0.pkl',\n",
       "       'QsK_2689.09_1.0_1_23_1_0.0_4_2.05_4.91_rep0.pkl',\n",
       "       'QsK_3217.22_1.0_1_23_1_0.0_4_2.05_4.91_rep1.pkl',\n",
       "       'RLB_2928.25_1.0_1_35_1_0.0_3_1.12_4.15_rep1.pkl',\n",
       "       'Rca_2916.8_1.0_1_79_1_0.0_4_3.22_4.79_rep0.pkl',\n",
       "       'Rxq_2944.72_1.0_1_26_1_0.0_4_2.77_5.09_rep1.pkl',\n",
       "       'SSe_2928.25_1.0_1_60_1_0.0_3_2.62_4.91_rep1.pkl',\n",
       "       'Sya_2689.09_1.0_1_63_1_0.0_5_1.71_5.14_rep1.pkl',\n",
       "       'TCA_2916.8_1.0_1_24_1_0.0_5_3.88_4.36_rep1.pkl',\n",
       "       'TJH_2988.85_1.0_1_32_1_0.0_5_3.86_5.32_rep1.pkl',\n",
       "       'TVd_2461.46_1.0_1_18_1_0.0_4_2.89_4.52_rep1.pkl',\n",
       "       'TfE_2892.62_1.0_1_18_1_0.0_2_1.75_4.55_rep0.pkl',\n",
       "       'TnU_2689.09_1.0_1_4_1_0.0_5_2.43_4.67_rep0.pkl',\n",
       "       'VOi_2471.5_1.0_1_27_1_0.0_3_2.82_4.75_rep1.pkl',\n",
       "       'Vtf_2847.16_1.0_1_41_1_0.0_4_2.09_4.97_rep1.pkl',\n",
       "       'Xvf_2944.72_1.0_1_45_1_0.0_2_3.06_5.06_rep0.pkl',\n",
       "       'Xvf_2944.72_1.0_1_45_1_0.0_2_3.06_5.06_rep1.pkl',\n",
       "       'YqY_2916.8_1.0_1_72_1_0.0_4_2.06_4.4_rep1.pkl',\n",
       "       'ZUg_2944.72_1.0_1_52_1_0.0_5_1.91_4.95_rep0.pkl',\n",
       "       'ZjD_2988.85_1.0_1_23_1_0.0_6_3.72_4.87_rep1.pkl',\n",
       "       'bHI_3052.2_1.0_1_47_1_0.0_4_2.7_4.83_rep1.pkl',\n",
       "       'bey_2928.25_1.0_1_67_1_0.0_6_1.06_4.87_rep1.pkl',\n",
       "       'bkj_3051.95_1.0_1_21_1_0.0_4_2.87_5.17_rep0.pkl',\n",
       "       'byx_3217.22_1.0_1_6_1_0.0_3_1.61_4.75_rep0.pkl',\n",
       "       'ceh_2944.72_1.0_1_46_1_0.0_5_1.73_5.37_rep1.pkl',\n",
       "       'fKf_3217.22_1.0_1_9_1_0.0_3_0.86_5.09_rep1.pkl',\n",
       "       'gDU_2988.85_1.0_1_72_1_0.0_6_2.32_5.33_rep1.pkl',\n",
       "       'gkT_2529.79_1.0_1_44_1_0.0_4_4.0_4.7_rep0.pkl',\n",
       "       'hdo_2659.67_1.0_1_63_1_0.0_5_1.8_4.6_rep0.pkl',\n",
       "       'ivV_2903.56_1.0_1_17_1_0.0_4_2.05_4.51_rep0.pkl',\n",
       "       'kbv_2873.25_1.0_1_48_1_0.0_3_2.18_4.06_rep0.pkl',\n",
       "       'klk_3051.95_1.0_1_74_1_0.0_3_0.77_4.69_rep1.pkl',\n",
       "       'laN_2471.5_1.0_1_8_1_0.0_6_2.42_4.42_rep1.pkl',\n",
       "       'mAF_3052.2_1.0_1_59_1_0.0_3_1.97_4.71_rep0.pkl',\n",
       "       'mPp_3217.22_1.0_1_43_1_0.0_3_3.46_4.84_rep0.pkl',\n",
       "       'mvW_2928.25_1.0_1_27_1_0.0_2_1.98_4.91_rep1.pkl',\n",
       "       'nGK_2847.16_1.0_1_23_1_0.0_5_3.63_4.5_rep1.pkl',\n",
       "       'nGK_2903.56_1.0_1_23_1_0.0_5_3.63_4.5_rep0.pkl',\n",
       "       'nTT_2916.8_1.0_1_53_1_0.0_3_1.16_4.84_rep1.pkl',\n",
       "       'oFu_2689.09_1.0_1_2_1_0.0_2_2.21_4.56_rep0.pkl',\n",
       "       'oMj_2988.85_1.0_1_48_1_0.0_4_3.02_4.71_rep0.pkl',\n",
       "       'oia_2731.19_1.0_1_40_1_0.0_3_3.16_4.46_rep0.pkl',\n",
       "       'ozm_2471.5_1.0_1_7_1_0.0_4_3.92_4.3_rep0.pkl',\n",
       "       'pZH_2657.44_1.0_1_10_1_0.0_4_2.89_4.57_rep1.pkl',\n",
       "       'ptI_3217.22_1.0_1_27_1_0.0_3_3.51_4.73_rep0.pkl',\n",
       "       'qqP_2689.09_1.0_1_80_1_0.0_2_1.72_5.13_rep0.pkl',\n",
       "       'ryU_2944.72_1.0_1_10_1_0.0_5_1.76_4.49_rep0.pkl',\n",
       "       'sBc_3052.2_1.0_1_1_1_0.0_4_1.53_4.88_rep0.pkl',\n",
       "       'sfX_2737.82_1.0_1_17_1_0.0_5_3.96_5.12_rep1.pkl',\n",
       "       'ugw_2782.69_1.0_1_17_1_0.0_5_3.41_4.54_rep0.pkl',\n",
       "       'uiN_2928.25_1.0_1_17_1_0.0_5_0.95_5.06_rep0.pkl',\n",
       "       'uiN_3217.22_1.0_1_17_1_0.0_5_0.95_5.06_rep1.pkl',\n",
       "       'vQG_2914.09_1.0_1_23_1_0.0_4_2.62_4.82_rep0.pkl',\n",
       "       'wGg_2471.5_1.0_1_74_1_0.0_3_1.66_4.52_rep0.pkl',\n",
       "       'wJw_3217.22_1.0_1_45_1_0.0_4_3.46_5.23_rep1.pkl',\n",
       "       'wpv_2847.16_1.0_1_78_1_0.0_3_2.03_5.18_rep0.pkl',\n",
       "       'yFc_2928.25_1.0_1_14_1_0.0_4_2.92_4.86_rep0.pkl'], dtype='<U47')"
      ]
     },
     "execution_count": 246,
     "metadata": {},
     "output_type": "execute_result"
    }
   ],
   "source": [
    "find_in_radius(em_w, files_w, em_s, files_s, r=2.5)"
   ]
  },
  {
   "cell_type": "code",
   "execution_count": 193,
   "metadata": {},
   "outputs": [
    {
     "data": {
      "image/png": "[encoded data removed]",
      "text/plain": [
       "<Figure size 432x288 with 1 Axes>"
      ]
     },
     "metadata": {
      "needs_background": "light"
     },
     "output_type": "display_data"
    }
   ],
   "source": [
    "plt.hist(d_pairwise_all(em_m, em_m), bins=50, alpha=0.5, density=True);\n",
    "plt.hist(d_pairwise_all(em_m, em_s), bins=50, alpha=0.5, density=True);"
   ]
  },
  {
   "cell_type": "code",
   "execution_count": 194,
   "metadata": {},
   "outputs": [
    {
     "name": "stdout",
     "output_type": "stream",
     "text": [
      "0\n"
     ]
    },
    {
     "data": {
      "text/plain": [
       "array(['Iat_3051.95_1.0_1_9_1_0.0_9_3.74_4.67_rep0.pkl',\n",
       "       'kLv_3217.22_1.0_1_21_1_0.0_4_2.81_4.33_rep1.pkl'], dtype='<U47')"
      ]
     },
     "execution_count": 194,
     "metadata": {},
     "output_type": "execute_result"
    }
   ],
   "source": [
    "find_in_radius(em_m, files_m, em_s, files_s, r=3)"
   ]
  },
  {
   "cell_type": "code",
   "execution_count": 264,
   "metadata": {},
   "outputs": [
    {
     "data": {
      "application/vnd.jupyter.widget-view+json": {
       "model_id": "0d6c4230a16b4b47b0ab3ce6501d4846",
       "version_major": 2,
       "version_minor": 0
      },
      "text/plain": [
       "interactive(children=(Dropdown(description='Color', index=9, options=('magma', 'viridis', 'inferno', 'plasma',…"
      ]
     },
     "metadata": {},
     "output_type": "display_data"
    }
   ],
   "source": [
    "im_real = fm.load_pickle('/Users/michaelstadler/Bioinformatics/Projects/rpb1/data/real_nuclei/set2/tmp/zldmut_early13/zldmutzn5_20220408-zldmutzn5-em1-17_2_0.pkl')\n",
    "im_sim = fm.load_pickle('/Users/michaelstadler/Desktop/temp/ALs_2484.56_1.0_1_42_1_0.0_4_1.12_3.78_rep1.pkl')\n",
    "fm.viewer([norm(im_real), norm(im_sim)], 5)"
   ]
  },
  {
   "cell_type": "code",
   "execution_count": 248,
   "metadata": {},
   "outputs": [
    {
     "name": "stdout",
     "output_type": "stream",
     "text": [
      "0\n"
     ]
    }
   ],
   "source": [
    "files = find_in_radius(em_w, files_w, em_s, files_s, r=2500)\n",
    "p = []\n",
    "for f in files:\n",
    "    #print(f.split('_')[])\n",
    "\n",
    "    p.append(f.split('_')[1:-1])\n",
    "\n",
    "p = np.array(p)\n",
    "p = p.astype(float) \n",
    "p_all = p.copy()"
   ]
  },
  {
   "cell_type": "code",
   "execution_count": 250,
   "metadata": {},
   "outputs": [
    {
     "data": {
      "image/png": "[encoded data removed]",
      "text/plain": [
       "<Figure size 432x288 with 1 Axes>"
      ]
     },
     "metadata": {
      "needs_background": "light"
     },
     "output_type": "display_data"
    }
   ],
   "source": [
    "n=3\n",
    "plt.hist(p_all[:,n], density=True, bins=20, alpha=0.5);\n",
    "plt.hist(p2[:,n], density=True, bins=20, alpha=0.5);"
   ]
  },
  {
   "cell_type": "code",
   "execution_count": 8,
   "metadata": {},
   "outputs": [
    {
     "ename": "NameError",
     "evalue": "name 'p2' is not defined",
     "output_type": "error",
     "traceback": [
      "\u001b[0;31m---------------------------------------------------------------------------\u001b[0m",
      "\u001b[0;31mNameError\u001b[0m                                 Traceback (most recent call last)",
      "\u001b[0;32m/var/folders/46/dftvy0sd0jv10kyqlkqc2d8m0000gn/T/ipykernel_743/1706044085.py\u001b[0m in \u001b[0;36m<module>\u001b[0;34m\u001b[0m\n\u001b[1;32m      1\u001b[0m \u001b[0;32mimport\u001b[0m \u001b[0mseaborn\u001b[0m \u001b[0;32mas\u001b[0m \u001b[0msn\u001b[0m\u001b[0;34m\u001b[0m\u001b[0;34m\u001b[0m\u001b[0m\n\u001b[0;32m----> 2\u001b[0;31m \u001b[0mdf\u001b[0m \u001b[0;34m=\u001b[0m \u001b[0mpd\u001b[0m\u001b[0;34m.\u001b[0m\u001b[0mDataFrame\u001b[0m\u001b[0;34m(\u001b[0m\u001b[0mp2\u001b[0m\u001b[0;34m,\u001b[0m \u001b[0mcolumns\u001b[0m\u001b[0;34m=\u001b[0m\u001b[0;34m[\u001b[0m\u001b[0;34m'ntotal'\u001b[0m\u001b[0;34m,\u001b[0m \u001b[0;34m'hlb_diam'\u001b[0m\u001b[0;34m,\u001b[0m\u001b[0;34m'hlb_nmols'\u001b[0m\u001b[0;34m,\u001b[0m \u001b[0;34m'n_clusters'\u001b[0m\u001b[0;34m,\u001b[0m \u001b[0;34m'cluster_diam_mean'\u001b[0m\u001b[0;34m,\u001b[0m \u001b[0;34m'cluster_diam_var'\u001b[0m\u001b[0;34m,\u001b[0m\u001b[0;34m'cluster_nmols_mean'\u001b[0m\u001b[0;34m,\u001b[0m\u001b[0;34m'cluster_nmols_var'\u001b[0m\u001b[0;34m,\u001b[0m\u001b[0;34m'noise_sigma'\u001b[0m\u001b[0;34m]\u001b[0m\u001b[0;34m)\u001b[0m\u001b[0;34m\u001b[0m\u001b[0;34m\u001b[0m\u001b[0m\n\u001b[0m\u001b[1;32m      3\u001b[0m \u001b[0mmasks_src\u001b[0m \u001b[0;34m=\u001b[0m \u001b[0mfm\u001b[0m\u001b[0;34m.\u001b[0m\u001b[0mload_pickle\u001b[0m\u001b[0;34m(\u001b[0m\u001b[0;34m'/Users/michaelstadler/Bioinformatics/Projects/rpb1/data/real_masks/mask_files/zldmut_nc13_masks.pkl'\u001b[0m\u001b[0;34m)\u001b[0m\u001b[0;34m\u001b[0m\u001b[0;34m\u001b[0m\u001b[0m\n",
      "\u001b[0;31mNameError\u001b[0m: name 'p2' is not defined"
     ]
    }
   ],
   "source": [
    "df = pd.DataFrame(p2, columns=['ntotal', 'hlb_diam','hlb_nmols', 'n_clusters', 'cluster_diam_mean', 'cluster_diam_var','cluster_nmols_mean','cluster_nmols_var','noise_sigma'])\n"
   ]
  },
  {
   "cell_type": "code",
   "execution_count": 99,
   "metadata": {},
   "outputs": [],
   "source": [
    "masks_src = fm.load_pickle('/Users/michaelstadler/Bioinformatics/Projects/rpb1/data/real_masks/mask_files/zldmut_nc13_masks.pkl')"
   ]
  },
  {
   "cell_type": "code",
   "execution_count": 134,
   "metadata": {},
   "outputs": [
    {
     "data": {
      "application/vnd.jupyter.widget-view+json": {
       "model_id": "d17fb7320b9b4956aa78f1f68b0468f7",
       "version_major": 2,
       "version_minor": 0
      },
      "text/plain": [
       "interactive(children=(Dropdown(description='Color', index=9, options=('gray_r', 'Gators', 'Reds', 'gray', 'inf…"
      ]
     },
     "metadata": {},
     "output_type": "display_data"
    }
   ],
   "source": [
    "masks_src = fm.load_pickle('/Users/michaelstadler/Bioinformatics/Projects/rpb1/data/real_masks/mask_files/zldmut_nc13_masks.pkl')\n",
    "im_real = fm.load_pickle('/Users/michaelstadler/Bioinformatics/Projects/rpb1/data/real_nuclei/set2/tmp/zldmut_nc14/zldmutzn5_20220408-zldmutzn5-em1-34_0_1.pkl')\n",
    "kernel = fm.load_pickle('/Users/michaelstadler/Bioinformatics/Projects/rpb1/PSFs/psf_20220503_100nmx50x50_79pxx21x21_zstretch3.0.pkl')\n",
    "outfolder = '/Users/michaelstadler/Desktop/temp'\n",
    "nreps = 1\n",
    "concentration = 30\n",
    "hlb_diam_rng = [12,12]\n",
    "hlb_nmols_rng = [1,1]\n",
    "n_clusters_rng = [40,40]\n",
    "cluster_diam_mean_rng = [2,2] \n",
    "cluster_diam_var_rng = [1,1]\n",
    "cluster_nmols_mean_rng = [2,2]\n",
    "cluster_nmols_var_rng = [5, 5]\n",
    "noise_sigma_rng = [5.2,5.2]\n",
    "dims_init=(85, 85, 85)\n",
    "dims_kernel=(100,50,50)\n",
    "dims_final=(250,85,85)\n",
    "gfp_intensity = 2.7\n",
    "\n",
    "#hlb_coords = [hlb_possible_coords[x] for x in np.random.choice(len(hlb_possible_coords), 2)]\n",
    "hlb_coords = [(12, 60, 38), (51, 57, 41)]\n",
    "sims = []\n",
    "nsims=1\n",
    "for _ in range(nsims):\n",
    "    masks = masks_src[np.random.choice(np.arange(masks_src.shape[0]), nsims)]\n",
    "    sim = fm.sim_rpb1(masks, kernel, outfolder, nreps, concentration, hlb_diam_rng, \n",
    "        hlb_nmols_rng, n_clusters_rng, cluster_diam_mean_rng, \n",
    "        cluster_diam_var_rng, cluster_nmols_mean_rng, cluster_nmols_var_rng,\n",
    "        noise_sigma_rng, hlb_coords, dims_init, \n",
    "        dims_kernel, dims_final, gfp_intensity, return_sim=True, mask_nuclei=True)\n",
    "    sims.append(sim.im)\n",
    "\n",
    "n = 4\n",
    "#fm.viewer([norm(nucs[n]), norm(sim.im)], 5)\n",
    "\n",
    "fm.viewer([norm(sim.im), norm(im_real)], 5)"
   ]
  },
  {
   "cell_type": "code",
   "execution_count": 142,
   "metadata": {},
   "outputs": [],
   "source": [
    "masks_src = fm.load_pickle('/Users/michaelstadler/Bioinformatics/Projects/rpb1/data/real_masks/mask_files/nc12_1.pkl')"
   ]
  },
  {
   "cell_type": "code",
   "execution_count": 338,
   "metadata": {},
   "outputs": [
    {
     "data": {
      "application/vnd.jupyter.widget-view+json": {
       "model_id": "66fae30db23d49a2a5b539a9fe27f31f",
       "version_major": 2,
       "version_minor": 0
      },
      "text/plain": [
       "interactive(children=(Dropdown(description='Color', index=9, options=('gray_r', 'Gators', 'Reds', 'gray', 'inf…"
      ]
     },
     "metadata": {},
     "output_type": "display_data"
    }
   ],
   "source": [
    "im_real = fm.load_pickle('/Users/michaelstadler/Bioinformatics/Projects/rpb1/data/real_nuclei/set2/tmp/rpb1-nc12/rpb1-real_20220318-rpb1-em2-05_1_0.pkl')\n",
    "kernel = fm.load_pickle('/Users/michaelstadler/Bioinformatics/Projects/rpb1/PSFs/psf_20220505_100nmx50x50_53pxx21x21_lobestretch_16_2.5.pkl')\n",
    "outfolder = '/Users/michaelstadler/Desktop/temp'\n",
    "nreps = 1\n",
    "concentration = 130\n",
    "hlb_diam_rng = [8,8]\n",
    "hlb_nmols_rng = [900,900]\n",
    "n_clusters_rng = [30,30]\n",
    "cluster_diam_mean_rng = [1,1] \n",
    "cluster_diam_var_rng = [3,3]\n",
    "cluster_nmols_mean_rng = [35,35]\n",
    "cluster_nmols_var_rng = [3,3]\n",
    "noise_sigma_rng = [4.0,4.0]\n",
    "dims_init=(85, 85, 85)\n",
    "dims_kernel=(100,50,50)\n",
    "dims_final=(250,85,85)\n",
    "gfp_intensity = 1\n",
    "\n",
    "#hlb_coords = [hlb_possible_coords[x] for x in np.random.choice(len(hlb_possible_coords), 2)]\n",
    "hlb_coords = [(36, 60, 60), (45, 36, 36)]\n",
    "sims = []\n",
    "nsims=1\n",
    "for _ in range(nsims):\n",
    "    masks = masks_src[np.random.choice(np.arange(masks_src.shape[0]), nsims)]\n",
    "    sim = fm.sim_rpb1(masks, kernel, outfolder, nreps, concentration, hlb_diam_rng, \n",
    "        hlb_nmols_rng, n_clusters_rng, cluster_diam_mean_rng, \n",
    "        cluster_diam_var_rng, cluster_nmols_mean_rng, cluster_nmols_var_rng,\n",
    "        noise_sigma_rng, hlb_coords, dims_init, \n",
    "        dims_kernel, dims_final, gfp_intensity, return_sim=True, mask_nuclei=True)\n",
    "    sims.append(sim.im)\n",
    "\n",
    "n = 4\n",
    "#fm.viewer([norm(nucs[n]), norm(sim.im)], 5)\n",
    "fm.viewer([norm(im_real), norm(sim.im)], 5)"
   ]
  },
  {
   "cell_type": "code",
   "execution_count": 306,
   "metadata": {},
   "outputs": [],
   "source": [
    "fm.save_pickle(k2, '/Users/michaelstadler/Bioinformatics/Projects/rpb1/PSFs/psf_20220505_100nmx50x50_53pxx21x21_lobestretch_16_2.5.pkl')"
   ]
  },
  {
   "cell_type": "code",
   "execution_count": 303,
   "metadata": {},
   "outputs": [
    {
     "name": "stdout",
     "output_type": "stream",
     "text": [
      "(16, 25, 25)\n",
      "(40, 25, 25)\n"
     ]
    },
    {
     "data": {
      "application/vnd.jupyter.widget-view+json": {
       "model_id": "c9028988afcf463ab2dbd7aa31f0cb2f",
       "version_major": 2,
       "version_minor": 0
      },
      "text/plain": [
       "interactive(children=(Dropdown(description='Color', index=9, options=('gray_r', 'Gators', 'Reds', 'gray', 'inf…"
      ]
     },
     "metadata": {},
     "output_type": "display_data"
    }
   ],
   "source": [
    "k = fm.load_pickle('/Users/michaelstadler/Bioinformatics/Projects/rpb1/PSFs/psf_20220503_100nmx50x50_41pxx25x25.pkl')\n",
    "n=16\n",
    "stretch = 2.5\n",
    "\n",
    "top = k[:n]\n",
    "print(top.shape)\n",
    "bottom = k[-n:]\n",
    "middle = k[n:-n]\n",
    "top = ndi.zoom(top, (stretch,1,1))\n",
    "bottom = ndi.zoom(bottom, (stretch,1,1))\n",
    "print(top.shape)\n",
    "k2 = np.vstack((top, middle, bottom))\n",
    "k3 = ndi.zoom(k, (stretch,1,1))\n",
    "k2 = k2[18:-18]\n",
    "fm.viewer([k.max(axis=0) * 1000, k.max(axis=1) * 1000, k2.max(axis=0) * 1000, k2.max(axis=1) * 1000, k3.max(axis=0) * 1000, k3.max(axis=1) * 1000],5)"
   ]
  },
  {
   "cell_type": "code",
   "execution_count": 285,
   "metadata": {},
   "outputs": [
    {
     "name": "stdout",
     "output_type": "stream",
     "text": [
      "[ 1  2  3  4  5  6  7  8  9 10 11 12 13 14 15 16 17 18 19 20]\n"
     ]
    },
    {
     "data": {
      "application/vnd.jupyter.widget-view+json": {
       "model_id": "47b58ae26544446b91c726d90f6544fb",
       "version_major": 2,
       "version_minor": 0
      },
      "text/plain": [
       "interactive(children=(Dropdown(description='Color', index=9, options=('gray_r', 'Gators', 'Reds', 'gray', 'inf…"
      ]
     },
     "metadata": {},
     "output_type": "display_data"
    }
   ],
   "source": [
    "def squinch(arr_in, a):\n",
    "    arr = arr_in.copy()\n",
    "    midpoint = int(arr.shape[0] / 2)\n",
    "    x = np.arange(1, midpoint + 1)\n",
    "    print(x)\n",
    "    y = np.exp(x * a)\n",
    "    y = np.concatenate((y[::-1], [1], y))\n",
    "    for i in range(arr.shape[0]):\n",
    "        arr[i] = arr[i] * y[i]\n",
    "    return arr\n",
    "\n",
    "k4 = squinch(k, 0.05)\n",
    "fm.viewer([k.max(axis=0) * 1000, k.max(axis=1) * 1000, k4.max(axis=0) * 1000, k4.max(axis=1) * 1000],5)"
   ]
  },
  {
   "cell_type": "code",
   "execution_count": 270,
   "metadata": {},
   "outputs": [
    {
     "name": "stdout",
     "output_type": "stream",
     "text": [
      "[ 0  1  2  3  4  5  6  7  8  9 10 11 12 13 14 15 16 17 18 19]\n"
     ]
    },
    {
     "data": {
      "text/plain": [
       "(0.9, 1.2)"
      ]
     },
     "execution_count": 270,
     "metadata": {},
     "output_type": "execute_result"
    },
    {
     "data": {
      "image/png": "[encoded data removed]",
      "text/plain": [
       "<Figure size 432x288 with 1 Axes>"
      ]
     },
     "metadata": {
      "needs_background": "light"
     },
     "output_type": "display_data"
    }
   ],
   "source": [
    "x = np.arange(20)\n",
    "print(x)\n",
    "a = 0.01\n",
    "plt.plot(np.exp(a * x))\n",
    "plt.ylim((0.9,1.2))"
   ]
  },
  {
   "cell_type": "code",
   "execution_count": 233,
   "metadata": {},
   "outputs": [
    {
     "data": {
      "text/plain": [
       "array([9, 8, 7, 6, 5, 4, 3, 2, 1, 0, 0, 0, 1, 2, 3, 4, 5, 6, 7, 8, 9])"
      ]
     },
     "execution_count": 233,
     "metadata": {},
     "output_type": "execute_result"
    }
   ],
   "source": [
    "np.concatenate([np.arange(10)[::-1],[0],np.arange(10)])"
   ]
  },
  {
   "cell_type": "code",
   "execution_count": null,
   "metadata": {},
   "outputs": [],
   "source": []
  },
  {
   "cell_type": "code",
   "execution_count": 121,
   "metadata": {},
   "outputs": [
    {
     "data": {
      "image/png": "[encoded data removed]",
      "text/plain": [
       "<Figure size 432x288 with 1 Axes>"
      ]
     },
     "metadata": {
      "needs_background": "light"
     },
     "output_type": "display_data"
    }
   ],
   "source": [
    "em_w, files_w = fm.load_pickle('/Users/michaelstadler/Bioinformatics/Projects/rpb1/results/embeddings/embeddings-zld-wt-early13_mix_real_sim_3_34layer.pkl') \n",
    "em_s, files_s = fm.load_pickle('/Users/michaelstadler/Bioinformatics/Projects/rpb1/results/embeddings/embeddings-zld-matchsims-202200503-tight2-realkernel-zstretch2.7_UaqwADKX_mix_real_sim_3_34layer.pkl')\n",
    "plt.hist(d_pairwise_all(em_m, em_m), bins=50, alpha=0.5, density=True);\n",
    "plt.hist(d_pairwise_all(em_m, em_s), bins=50, alpha=0.5, density=True);"
   ]
  },
  {
   "cell_type": "code",
   "execution_count": 123,
   "metadata": {},
   "outputs": [
    {
     "data": {
      "image/png": "[encoded data removed]",
      "text/plain": [
       "<Figure size 432x288 with 1 Axes>"
      ]
     },
     "metadata": {
      "needs_background": "light"
     },
     "output_type": "display_data"
    }
   ],
   "source": [
    "em_m, files_m = fm.load_pickle('/Users/michaelstadler/Bioinformatics/Projects/rpb1/results/embeddings/embeddings-zldmut_early13_mix_real_sim_3_34layer.pkl') \n",
    "em_s, files_s = fm.load_pickle('/Users/michaelstadler/Bioinformatics/Projects/rpb1/results/embeddings-zldmut-matchsims-202200504-tight2-realkernel-zstretch3.0_AIftDXBm_mix_real_sim_3_34layer.pkl')\n",
    "plt.hist(d_pairwise_all(em_m, em_m), bins=50, alpha=0.5, density=True);\n",
    "plt.hist(d_pairwise_all(em_m, em_s), bins=50, alpha=0.5, density=True);\n",
    "#plt.ylim((0,0.2))"
   ]
  },
  {
   "cell_type": "code",
   "execution_count": 132,
   "metadata": {},
   "outputs": [
    {
     "name": "stdout",
     "output_type": "stream",
     "text": [
      "0\n"
     ]
    },
    {
     "data": {
      "text/html": [
       "<div>\n",
       "<style scoped>\n",
       "    .dataframe tbody tr th:only-of-type {\n",
       "        vertical-align: middle;\n",
       "    }\n",
       "\n",
       "    .dataframe tbody tr th {\n",
       "        vertical-align: top;\n",
       "    }\n",
       "\n",
       "    .dataframe thead th {\n",
       "        text-align: right;\n",
       "    }\n",
       "</style>\n",
       "<table border=\"1\" class=\"dataframe\">\n",
       "  <thead>\n",
       "    <tr style=\"text-align: right;\">\n",
       "      <th></th>\n",
       "      <th>ntotal</th>\n",
       "      <th>hlb_diam</th>\n",
       "      <th>hlb_nmols</th>\n",
       "      <th>n_clusters</th>\n",
       "      <th>cluster_diam_mean</th>\n",
       "      <th>cluster_diam_var</th>\n",
       "      <th>cluster_nmols_mean</th>\n",
       "      <th>cluster_nmols_var</th>\n",
       "      <th>noise_sigma</th>\n",
       "    </tr>\n",
       "  </thead>\n",
       "  <tbody>\n",
       "    <tr>\n",
       "      <th>0</th>\n",
       "      <td>2916.80</td>\n",
       "      <td>1.0</td>\n",
       "      <td>1.0</td>\n",
       "      <td>14.0</td>\n",
       "      <td>1.0</td>\n",
       "      <td>0.52</td>\n",
       "      <td>14.0</td>\n",
       "      <td>0.96</td>\n",
       "      <td>6.08</td>\n",
       "    </tr>\n",
       "    <tr>\n",
       "      <th>1</th>\n",
       "      <td>2461.45</td>\n",
       "      <td>1.0</td>\n",
       "      <td>1.0</td>\n",
       "      <td>13.0</td>\n",
       "      <td>1.0</td>\n",
       "      <td>0.79</td>\n",
       "      <td>15.0</td>\n",
       "      <td>3.39</td>\n",
       "      <td>4.84</td>\n",
       "    </tr>\n",
       "    <tr>\n",
       "      <th>2</th>\n",
       "      <td>2484.56</td>\n",
       "      <td>1.0</td>\n",
       "      <td>1.0</td>\n",
       "      <td>5.0</td>\n",
       "      <td>2.0</td>\n",
       "      <td>0.82</td>\n",
       "      <td>16.0</td>\n",
       "      <td>0.63</td>\n",
       "      <td>5.30</td>\n",
       "    </tr>\n",
       "    <tr>\n",
       "      <th>3</th>\n",
       "      <td>2461.46</td>\n",
       "      <td>1.0</td>\n",
       "      <td>1.0</td>\n",
       "      <td>1.0</td>\n",
       "      <td>2.0</td>\n",
       "      <td>0.21</td>\n",
       "      <td>8.0</td>\n",
       "      <td>3.42</td>\n",
       "      <td>5.95</td>\n",
       "    </tr>\n",
       "    <tr>\n",
       "      <th>4</th>\n",
       "      <td>2792.03</td>\n",
       "      <td>1.0</td>\n",
       "      <td>1.0</td>\n",
       "      <td>13.0</td>\n",
       "      <td>1.0</td>\n",
       "      <td>0.57</td>\n",
       "      <td>14.0</td>\n",
       "      <td>3.32</td>\n",
       "      <td>4.37</td>\n",
       "    </tr>\n",
       "    <tr>\n",
       "      <th>...</th>\n",
       "      <td>...</td>\n",
       "      <td>...</td>\n",
       "      <td>...</td>\n",
       "      <td>...</td>\n",
       "      <td>...</td>\n",
       "      <td>...</td>\n",
       "      <td>...</td>\n",
       "      <td>...</td>\n",
       "      <td>...</td>\n",
       "    </tr>\n",
       "    <tr>\n",
       "      <th>531</th>\n",
       "      <td>2471.50</td>\n",
       "      <td>1.0</td>\n",
       "      <td>1.0</td>\n",
       "      <td>5.0</td>\n",
       "      <td>2.0</td>\n",
       "      <td>0.51</td>\n",
       "      <td>20.0</td>\n",
       "      <td>0.89</td>\n",
       "      <td>5.40</td>\n",
       "    </tr>\n",
       "    <tr>\n",
       "      <th>532</th>\n",
       "      <td>2873.25</td>\n",
       "      <td>1.0</td>\n",
       "      <td>1.0</td>\n",
       "      <td>14.0</td>\n",
       "      <td>2.0</td>\n",
       "      <td>0.32</td>\n",
       "      <td>19.0</td>\n",
       "      <td>2.12</td>\n",
       "      <td>6.50</td>\n",
       "    </tr>\n",
       "    <tr>\n",
       "      <th>533</th>\n",
       "      <td>2910.81</td>\n",
       "      <td>1.0</td>\n",
       "      <td>1.0</td>\n",
       "      <td>19.0</td>\n",
       "      <td>1.0</td>\n",
       "      <td>0.56</td>\n",
       "      <td>20.0</td>\n",
       "      <td>0.98</td>\n",
       "      <td>5.66</td>\n",
       "    </tr>\n",
       "    <tr>\n",
       "      <th>534</th>\n",
       "      <td>3217.22</td>\n",
       "      <td>1.0</td>\n",
       "      <td>1.0</td>\n",
       "      <td>3.0</td>\n",
       "      <td>1.0</td>\n",
       "      <td>0.98</td>\n",
       "      <td>9.0</td>\n",
       "      <td>3.69</td>\n",
       "      <td>5.46</td>\n",
       "    </tr>\n",
       "    <tr>\n",
       "      <th>535</th>\n",
       "      <td>2944.72</td>\n",
       "      <td>1.0</td>\n",
       "      <td>1.0</td>\n",
       "      <td>10.0</td>\n",
       "      <td>2.0</td>\n",
       "      <td>0.81</td>\n",
       "      <td>10.0</td>\n",
       "      <td>3.67</td>\n",
       "      <td>4.22</td>\n",
       "    </tr>\n",
       "  </tbody>\n",
       "</table>\n",
       "<p>536 rows × 9 columns</p>\n",
       "</div>"
      ],
      "text/plain": [
       "      ntotal  hlb_diam  hlb_nmols  n_clusters  cluster_diam_mean  \\\n",
       "0    2916.80       1.0        1.0        14.0                1.0   \n",
       "1    2461.45       1.0        1.0        13.0                1.0   \n",
       "2    2484.56       1.0        1.0         5.0                2.0   \n",
       "3    2461.46       1.0        1.0         1.0                2.0   \n",
       "4    2792.03       1.0        1.0        13.0                1.0   \n",
       "..       ...       ...        ...         ...                ...   \n",
       "531  2471.50       1.0        1.0         5.0                2.0   \n",
       "532  2873.25       1.0        1.0        14.0                2.0   \n",
       "533  2910.81       1.0        1.0        19.0                1.0   \n",
       "534  3217.22       1.0        1.0         3.0                1.0   \n",
       "535  2944.72       1.0        1.0        10.0                2.0   \n",
       "\n",
       "     cluster_diam_var  cluster_nmols_mean  cluster_nmols_var  noise_sigma  \n",
       "0                0.52                14.0               0.96         6.08  \n",
       "1                0.79                15.0               3.39         4.84  \n",
       "2                0.82                16.0               0.63         5.30  \n",
       "3                0.21                 8.0               3.42         5.95  \n",
       "4                0.57                14.0               3.32         4.37  \n",
       "..                ...                 ...                ...          ...  \n",
       "531              0.51                20.0               0.89         5.40  \n",
       "532              0.32                19.0               2.12         6.50  \n",
       "533              0.56                20.0               0.98         5.66  \n",
       "534              0.98                 9.0               3.69         5.46  \n",
       "535              0.81                10.0               3.67         4.22  \n",
       "\n",
       "[536 rows x 9 columns]"
      ]
     },
     "execution_count": 132,
     "metadata": {},
     "output_type": "execute_result"
    }
   ],
   "source": [
    "\"\"\"\n",
    "0: ntotal\n",
    "1: hlb_diam\n",
    "2: hlb_nmols\n",
    "3: n_clusters\n",
    "4: cluster_diam_mean, \n",
    "5: cluster_diam_var\n",
    "6: cluster_nmols_mean\n",
    "7: cluster_nmols_var\n",
    "8: noise_sigma\n",
    "\"\"\"\n",
    "\n",
    "make_df(files = find_in_radius(em_m, files_m, em_s, files_s, r=300))"
   ]
  },
  {
   "cell_type": "code",
   "execution_count": 340,
   "metadata": {},
   "outputs": [
    {
     "data": {
      "text/plain": [
       "(100, 100, 100)"
      ]
     },
     "execution_count": 340,
     "metadata": {},
     "output_type": "execute_result"
    }
   ],
   "source": [
    "im_real = fm.load_pickle('/Users/michaelstadler/Bioinformatics/Projects/rpb1/data/real_nuclei/set2/tmp/zldmut_nc14/zldmutzn5_20220408-zldmutzn5-em1-35_6_1.pkl')\n",
    "mask = np.where(im_real > 0, 1, 0)\n",
    "mask = ndi.morphology.binary_erosion(mask, np.ones((1,7,7)))\n",
    "mask = ndi.zoom(mask, (100/34, 1, 1))\n",
    "mask.shape"
   ]
  },
  {
   "cell_type": "code",
   "execution_count": 344,
   "metadata": {},
   "outputs": [
    {
     "data": {
      "application/vnd.jupyter.widget-view+json": {
       "model_id": "3f665e8ff8f14c0f88f386b0f3f795b2",
       "version_major": 2,
       "version_minor": 0
      },
      "text/plain": [
       "interactive(children=(Dropdown(description='Color', index=9, options=('gray_r', 'Gators', 'Reds', 'gray', 'inf…"
      ]
     },
     "metadata": {},
     "output_type": "display_data"
    }
   ],
   "source": [
    "kernel = fm.load_pickle('/Users/michaelstadler/Bioinformatics/Projects/rpb1/PSFs/psf_20220505_100nmx50x50_53pxx21x21_lobestretch_16_2.5.pkl')\n",
    "outfolder = '/Users/michaelstadler/Desktop/temp'\n",
    "nreps = 1\n",
    "concentration = 50\n",
    "hlb_diam_rng = [12,12]\n",
    "hlb_nmols_rng = [1,1]\n",
    "n_clusters_rng = [1,1]\n",
    "cluster_diam_mean_rng = [2,2] \n",
    "cluster_diam_var_rng = [1,1]\n",
    "cluster_nmols_mean_rng = [1,1]\n",
    "cluster_nmols_var_rng = [1, 1]\n",
    "noise_sigma_rng = [4,4]\n",
    "dims_init=(85, 85, 85)\n",
    "dims_kernel=(100,50,50)\n",
    "dims_final=(250,85,85)\n",
    "gfp_intensity = 2.7\n",
    "\n",
    "#hlb_coords = [hlb_possible_coords[x] for x in np.random.choice(len(hlb_possible_coords), 2)]\n",
    "hlb_coords = [(12, 60, 38), (51, 57, 41)]\n",
    "sims = []\n",
    "nsims=1\n",
    "for _ in range(nsims):\n",
    "    #masks = masks_src[np.random.choice(np.arange(masks_src.shape[0]), nsims)]\n",
    "    sim = fm.sim_rpb1([mask], kernel, outfolder, nreps, concentration, hlb_diam_rng, \n",
    "        hlb_nmols_rng, n_clusters_rng, cluster_diam_mean_rng, \n",
    "        cluster_diam_var_rng, cluster_nmols_mean_rng, cluster_nmols_var_rng,\n",
    "        noise_sigma_rng, hlb_coords, dims_init, \n",
    "        dims_kernel, dims_final, gfp_intensity, return_sim=True, mask_nuclei=True)\n",
    "    sims.append(sim.im)\n",
    "\n",
    "n = 4\n",
    "#fm.viewer([norm(nucs[n]), norm(sim.im)], 5)\n",
    "\n",
    "fm.viewer([norm(sim.im), norm(im_real)], 5)"
   ]
  },
  {
   "cell_type": "code",
   "execution_count": null,
   "metadata": {},
   "outputs": [],
   "source": []
  },
  {
   "cell_type": "code",
   "execution_count": null,
   "metadata": {},
   "outputs": [],
   "source": []
  },
  {
   "cell_type": "code",
   "execution_count": null,
   "metadata": {},
   "outputs": [],
   "source": []
  },
  {
   "cell_type": "code",
   "execution_count": null,
   "metadata": {},
   "outputs": [],
   "source": []
  },
  {
   "cell_type": "code",
   "execution_count": null,
   "metadata": {},
   "outputs": [],
   "source": []
  },
  {
   "cell_type": "code",
   "execution_count": null,
   "metadata": {},
   "outputs": [],
   "source": []
  },
  {
   "cell_type": "code",
   "execution_count": null,
   "metadata": {},
   "outputs": [],
   "source": []
  },
  {
   "cell_type": "code",
   "execution_count": null,
   "metadata": {},
   "outputs": [],
   "source": []
  },
  {
   "cell_type": "code",
   "execution_count": null,
   "metadata": {},
   "outputs": [],
   "source": []
  },
  {
   "cell_type": "code",
   "execution_count": null,
   "metadata": {},
   "outputs": [],
   "source": []
  },
  {
   "cell_type": "code",
   "execution_count": null,
   "metadata": {},
   "outputs": [],
   "source": []
  },
  {
   "cell_type": "code",
   "execution_count": null,
   "metadata": {},
   "outputs": [],
   "source": []
  },
  {
   "cell_type": "code",
   "execution_count": 115,
   "metadata": {},
   "outputs": [
    {
     "data": {
      "text/plain": [
       "8725.0"
      ]
     },
     "execution_count": 115,
     "metadata": {},
     "output_type": "execute_result"
    }
   ],
   "source": []
  },
  {
   "cell_type": "code",
   "execution_count": 114,
   "metadata": {},
   "outputs": [
    {
     "data": {
      "text/plain": [
       "5134.948479411764"
      ]
     },
     "execution_count": 114,
     "metadata": {},
     "output_type": "execute_result"
    }
   ],
   "source": []
  },
  {
   "cell_type": "code",
   "execution_count": null,
   "metadata": {},
   "outputs": [],
   "source": []
  },
  {
   "cell_type": "code",
   "execution_count": null,
   "metadata": {},
   "outputs": [],
   "source": []
  },
  {
   "cell_type": "code",
   "execution_count": 67,
   "metadata": {},
   "outputs": [],
   "source": [
    "f = '/Users/michaelstadler/Bioinformatics/reference/dm6.fa'\n",
    "\n",
    "seq = {}\n",
    "chr_ = ''\n",
    "for line in open(f, 'r'):\n",
    "    line = line.rstrip()\n",
    "    line = str.lower(line)\n",
    "    if line[0] == '>':\n",
    "        chr_ = line[1:]\n",
    "        seq[chr_] = []\n",
    "    else:\n",
    "        seq[chr_].append(line)\n",
    "\n",
    "for chr_ in seq:\n",
    "    seq[chr_] = ''.join(seq[chr_])\n",
    "\n"
   ]
  },
  {
   "cell_type": "code",
   "execution_count": 118,
   "metadata": {},
   "outputs": [],
   "source": [
    "pattern = 'aagagaagagaagagaagagaagag'\n",
    "pattern2 = 'ctcttctcttctcttctcttctctt'\n",
    "chrs = []\n",
    "freqs = []\n",
    "counts = []\n",
    "for chr_ in seq:\n",
    "    count = seq[chr_].count(pattern) + seq[chr_].count(pattern2)\n",
    "    freq = count / len(seq[chr_])\n",
    "    #freq = (seq[chr_].count(pattern) + seq[chr_].count(pattern2))/ len(seq[chr_])\n",
    "    chrs.append(chr_)\n",
    "    freqs.append(freq)\n",
    "    counts.append(count)\n",
    "\n",
    "chrs = np.array(chrs)\n",
    "freqs = np.array(freqs)\n",
    "\n",
    "s = pd.DataFrame([freqs, counts]).T\n",
    "s.index = chrs\n",
    "s.columns = ['freq', 'count']\n",
    "s = s.sort_values(by='freq', ascending=False)\n",
    "s.to_csv('/Users/michaelstadler/Bioinformatics/reference/aagag5x.csv')"
   ]
  },
  {
   "cell_type": "code",
   "execution_count": 42,
   "metadata": {},
   "outputs": [
    {
     "ename": "NameError",
     "evalue": "name 'em_s' is not defined",
     "output_type": "error",
     "traceback": [
      "\u001b[0;31m---------------------------------------------------------------------------\u001b[0m",
      "\u001b[0;31mNameError\u001b[0m                                 Traceback (most recent call last)",
      "\u001b[0;32m/var/folders/46/dftvy0sd0jv10kyqlkqc2d8m0000gn/T/ipykernel_743/2392366453.py\u001b[0m in \u001b[0;36m<module>\u001b[0;34m\u001b[0m\n\u001b[0;32m----> 1\u001b[0;31m \u001b[0mem_s\u001b[0m\u001b[0;34m\u001b[0m\u001b[0;34m\u001b[0m\u001b[0m\n\u001b[0m",
      "\u001b[0;31mNameError\u001b[0m: name 'em_s' is not defined"
     ]
    }
   ],
   "source": [
    "em_s"
   ]
  },
  {
   "cell_type": "code",
   "execution_count": 141,
   "metadata": {},
   "outputs": [
    {
     "data": {
      "text/plain": [
       "140608"
      ]
     },
     "execution_count": 141,
     "metadata": {},
     "output_type": "execute_result"
    }
   ],
   "source": []
  },
  {
   "cell_type": "code",
   "execution_count": null,
   "metadata": {},
   "outputs": [],
   "source": []
  }
 ],
 "metadata": {
  "interpreter": {
   "hash": "e372816e4ed8f4776be7691c42762f9e24664f8c81a636e19b7b5da78d6a9ebf"
  },
  "kernelspec": {
   "display_name": "tf2",
   "language": "python",
   "name": "python3"
  },
  "language_info": {
   "codemirror_mode": {
    "name": "ipython",
    "version": 3
   },
   "file_extension": ".py",
   "mimetype": "text/x-python",
   "name": "python",
   "nbconvert_exporter": "python",
   "pygments_lexer": "ipython3",
   "version": "3.9.7"
  },
  "orig_nbformat": 4
 },
 "nbformat": 4,
 "nbformat_minor": 2
}
