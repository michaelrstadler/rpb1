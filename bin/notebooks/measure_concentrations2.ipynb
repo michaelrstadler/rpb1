{
 "cells": [
  {
   "cell_type": "code",
   "execution_count": 1,
   "metadata": {},
   "outputs": [],
   "source": [
    "import flymovie as fm\n",
    "import numpy as np\n",
    "import scipy.ndimage as ndi\n",
    "%load_ext autoreload\n",
    "%autoreload 2"
   ]
  },
  {
   "cell_type": "code",
   "execution_count": 15,
   "metadata": {},
   "outputs": [],
   "source": [
    "def calc_nM(im_dims, brightness, kernel, sample_mean, sample_bg):\n",
    "    # multiply each side length, 1e-27 is 1e-9 meters cubed to convert nm to m, 1000 is liters in a cubic meter\n",
    "    L = np.product(im_dims) * 1e-27 * 1000 # in liters\n",
    "    mols = 1 / 6.022e23\n",
    "    M = mols / L\n",
    "    nM_ref = M / 1e-9 # nM for 1 molecule per pixel\n",
    "\n",
    "    im = ndi.convolve(np.ones((50,50,50)), kernel)\n",
    "    mean_ref = im[25,25,25]\n",
    "\n",
    "    nM = (sample_mean - sample_bg) / mean_ref * nM_ref\n",
    "    return nM"
   ]
  },
  {
   "cell_type": "markdown",
   "metadata": {},
   "source": [
    "### Add files and params"
   ]
  },
  {
   "cell_type": "code",
   "execution_count": 19,
   "metadata": {},
   "outputs": [],
   "source": [
    "kernel_peak = 22_000\n",
    "kernel_bg = 600\n",
    "sample_mean = 4500\n",
    "sample_bg = 300\n",
    "n_gfps = 120\n",
    "# 34 for egfp, 93 for mneon, 54 for sfgfp\n",
    "brightness = 34\n",
    "kernelfile = '/Users/michaelstadler/Bioinformatics/Projects/rpb1/PSFs/psf_20220519_insitu_nm100x50x50_px27x25x25.pkl'\n",
    "kernel_dims = (100, 50, 50)\n",
    "im_dims = (100, 50, 50)\n"
   ]
  },
  {
   "cell_type": "markdown",
   "metadata": {},
   "source": [
    "### Calculate kernel for 1 GFP."
   ]
  },
  {
   "cell_type": "code",
   "execution_count": 20,
   "metadata": {},
   "outputs": [],
   "source": [
    "kernel = fm.load_pickle(kernelfile)\n",
    "kernel = ndi.zoom(kernel, np.divide(kernel_dims, im_dims), order=3)\n",
    "kernel = (kernel - np.min(kernel)) / (np.max(kernel) - np.min(kernel))\n",
    "kernel_1gfp = kernel * ((kernel_peak - kernel_bg) / np.max(kernel)) / n_gfps"
   ]
  },
  {
   "cell_type": "markdown",
   "metadata": {},
   "source": [
    "### Calculate concentration"
   ]
  },
  {
   "cell_type": "code",
   "execution_count": 21,
   "metadata": {},
   "outputs": [
    {
     "data": {
      "text/plain": [
       "173.14466932739143"
      ]
     },
     "execution_count": 21,
     "metadata": {},
     "output_type": "execute_result"
    }
   ],
   "source": [
    "calc_nM(im_dims, brightness, kernel_1gfp, sample_mean, sample_bg)"
   ]
  },
  {
   "cell_type": "markdown",
   "metadata": {},
   "source": [
    "2022-06-01\n",
    "\n",
    "H2B: 2900 - 5800 nM  \n",
    "Bicoid 53 nM - 166 nM  \n",
    "Rpb1: 173 - 240\n",
    "Zld: \n",
    "\n",
    "## Volumes:"
   ]
  },
  {
   "cell_type": "code",
   "execution_count": 38,
   "metadata": {},
   "outputs": [
    {
     "data": {
      "application/vnd.jupyter.widget-view+json": {
       "model_id": "8e71fdd7b0774424ab9dc7d9882816a3",
       "version_major": 2,
       "version_minor": 0
      },
      "text/plain": [
       "interactive(children=(Dropdown(description='Color', index=10, options=('prism', 'plasma', 'Greens', 'gray', 'i…"
      ]
     },
     "metadata": {},
     "output_type": "display_data"
    }
   ],
   "source": [
    "im = fm.read_czi('/Volumes/stad3/2022-05-31/rpb1-measurement-1pct-vol-em2-01.czi', swapaxes=False)\n",
    "fm.viewer(im)"
   ]
  },
  {
   "cell_type": "code",
   "execution_count": 39,
   "metadata": {},
   "outputs": [
    {
     "data": {
      "application/vnd.jupyter.widget-view+json": {
       "model_id": "f1c21ff403a54ec6814b3d4eb3bf7a30",
       "version_major": 2,
       "version_minor": 0
      },
      "text/plain": [
       "interactive(children=(Dropdown(description='Color', index=10, options=('prism', 'plasma', 'Greens', 'gray', 'i…"
      ]
     },
     "metadata": {},
     "output_type": "display_data"
    }
   ],
   "source": [
    "sm = ndi.gaussian_filter(im, 4)\n",
    "mask = np.where(sm > 2000, 1, 0)\n",
    "lmask,_ = ndi.label(mask)\n",
    "fm.viewer(lmask)"
   ]
  },
  {
   "cell_type": "code",
   "execution_count": 40,
   "metadata": {},
   "outputs": [
    {
     "data": {
      "application/vnd.jupyter.widget-view+json": {
       "model_id": "912da68b83624f8db08cbdbc0b0684af",
       "version_major": 2,
       "version_minor": 0
      },
      "text/plain": [
       "interactive(children=(Dropdown(description='Color', index=10, options=('prism', 'plasma', 'Greens', 'gray', 'i…"
      ]
     },
     "metadata": {},
     "output_type": "display_data"
    }
   ],
   "source": [
    "fm.viewer(np.where(lmask == 2, 1, 0))"
   ]
  },
  {
   "cell_type": "code",
   "execution_count": 41,
   "metadata": {},
   "outputs": [
    {
     "data": {
      "text/plain": [
       "3265.5351922694203"
      ]
     },
     "execution_count": 41,
     "metadata": {},
     "output_type": "execute_result"
    }
   ],
   "source": [
    "np.mean(im[lmask == 2])"
   ]
  },
  {
   "cell_type": "code",
   "execution_count": null,
   "metadata": {},
   "outputs": [],
   "source": []
  }
 ],
 "metadata": {
  "interpreter": {
   "hash": "eca358e5a2f32eca92640d7df176777d47bc005b1d6ea5f309faabbd9462bdfe"
  },
  "kernelspec": {
   "display_name": "Python 3.9.7 ('im2')",
   "language": "python",
   "name": "python3"
  },
  "language_info": {
   "codemirror_mode": {
    "name": "ipython",
    "version": 3
   },
   "file_extension": ".py",
   "mimetype": "text/x-python",
   "name": "python",
   "nbconvert_exporter": "python",
   "pygments_lexer": "ipython3",
   "version": "3.9.7"
  },
  "orig_nbformat": 4
 },
 "nbformat": 4,
 "nbformat_minor": 2
}
