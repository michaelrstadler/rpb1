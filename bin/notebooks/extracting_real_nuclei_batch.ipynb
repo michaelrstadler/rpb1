{
 "cells": [
  {
   "cell_type": "markdown",
   "metadata": {},
   "source": [
    "# Extracting nuclei from 3D image stacks\n",
    "\n",
    "This notebook allows user to load 3D microscopy images, segment nuclei, extract windows around nuclei, perform manual QC, and save them in a format suitable for downstream ML applications.\n",
    "\n",
    "Output files will feature three tags that serve different purposes in forming A-P-N triplets:\n",
    "\n",
    "sampleID: Negative images will have different sampleIDs (example: Zelda, Rpb1-nc12)\n",
    "stackID: Positive images will have the same stackID (example: 20211115-zld-gfp-em1-03)\n",
    "nucID: Positive images will have different nucIDs (for image augmentation purposes; allows multiple images from a single nucleus)\n",
    "\n",
    "Example filename:\n",
    "\n",
    "zld_2021115-zld-gfp-03_nuc1_01.pkl\n",
    "\n",
    "sampleID: zld\n",
    "stack_ID: 2021115-zld-gfp-03\n",
    "nucID: nuc1"
   ]
  },
  {
   "cell_type": "code",
   "execution_count": 1,
   "metadata": {},
   "outputs": [],
   "source": [
    "import flymovie as fm\n",
    "from flymovie.simnuc import Sim\n",
    "import matplotlib.pyplot as plt\n",
    "import numpy as np\n",
    "import os\n",
    "import pickle\n",
    "from importlib import reload\n",
    "import scipy.ndimage as ndi\n",
    "import skimage as ski\n",
    "from importlib import reload\n",
    "%load_ext autoreload\n",
    "%autoreload 2"
   ]
  },
  {
   "cell_type": "code",
   "execution_count": 5,
   "metadata": {},
   "outputs": [],
   "source": [
    "#from skimage import regionprops\n",
    "def extract_nuclei_stack(stack, lmask, box_dims, mask_dil_struct=np.ones((2,10,10)), mask_nucs=True, centroid_margin=15):\n",
    "    \"\"\"Extract boxes containing nuclei from labelmask.\"\"\"\n",
    "    def adjust_centroid(im_shape, halflens, centroid, centroid_margin):\n",
    "        \"\"\"Move centroid to keep bounding box within image.\"\"\"\n",
    "        centroid_new = [centroid[0]]\n",
    "        for dim in [1,2]:\n",
    "            left_bound = centroid[dim] - halflens[dim]\n",
    "            right_bound = centroid[dim] + halflens[dim]\n",
    "            if left_bound < 0:\n",
    "                if abs(left_bound) <= centroid_margin:\n",
    "                    print('oh fixed that for you')\n",
    "                    centroid_new = centroid_new + [halflens[dim]]\n",
    "                else:\n",
    "                    return None\n",
    "            elif right_bound > im_shape[dim]:\n",
    "                if abs(right_bound - im_shape[dim]) <= centroid_margin:\n",
    "                    print('fuuuuck fixed that for you')\n",
    "                    centroid_new = centroid_new + [im_shape[dim] - halflens[dim]]\n",
    "                else:\n",
    "                    return None\n",
    "            else:\n",
    "                centroid_new = centroid_new + [centroid[dim]]\n",
    "\n",
    "        return centroid_new\n",
    "    \n",
    "    def get_box(stack, box_halflengths, centroid):\n",
    "        \"\"\"Extract ij box, keeping all z.\"\"\"\n",
    "        box = stack[\n",
    "                    :,\n",
    "                    (centroid[1] - box_halflengths[1]):(centroid[1] + box_halflengths[1]),\n",
    "                    (centroid[2] - box_halflengths[2]):(centroid[2] + box_halflengths[2])\n",
    "                ]\n",
    "        return box\n",
    "\n",
    "    def midpoint_max(stack):\n",
    "        midpoint_z = round(stack.shape[0] / 2)\n",
    "        return np.max(stack[midpoint_z])\n",
    "\n",
    "    regions = ski.measure.regionprops(lmask)\n",
    "    box_halflengths = (\n",
    "            int(box_dims[0] / 2),\n",
    "            int(box_dims[1] / 2),\n",
    "            int(box_dims[2] / 2), \n",
    "        )\n",
    "    nuc_count = 0\n",
    "    ims = []\n",
    "    for region in regions:\n",
    "        centroid = ([round(x) for x in region.centroid])\n",
    "        centroid = adjust_centroid(lmask.shape, box_halflengths, centroid, centroid_margin)\n",
    "\n",
    "        if centroid is not None:\n",
    "            im_box = get_box(stack, box_halflengths, centroid)\n",
    "            lmask_box = get_box(lmask, box_halflengths, centroid)\n",
    "            mask_box = np.where(lmask_box == region.label, 1, 0)\n",
    "            mask_box = ndi.morphology.binary_dilation(mask_box, structure=mask_dil_struct)\n",
    "            if mask_nucs:\n",
    "                im_box = np.where(mask_box, im_box, 0)\n",
    "            # Remove a number of bad nuclei by ensuring center z slice is occupied.\n",
    "            if midpoint_max(im_box) == 0:\n",
    "                print(\"Han, I got one!\")\n",
    "                continue\n",
    "            ims.append(im_box)\n",
    "            nuc_count += 1\n",
    "    \n",
    "    return ims\n",
    "\n",
    "######################\n",
    "def extract_nuclei_batch(folder, sampleID, box_dims, datestr, mask_dil_struct, thresh_boost=700):\n",
    "    nucs = []\n",
    "    filestems = []\n",
    "    for f in os.listdir(folder):\n",
    "        if f[0] == '.':\n",
    "            continue\n",
    "\n",
    "        stackID = datestr + '-' + f.split('.')[0]\n",
    "        stack = fm.read_czi(os.path.join(folder, f), swapaxes=False)\n",
    "        if stack.ndim == 4:\n",
    "            stack = stack[:-1]\n",
    "        if stack.ndim == 3:\n",
    "            stack = [stack]\n",
    "        for i in range(len(stack)):\n",
    "            lmask = fm.segment_nuclei_3Dstack_rpb1(stack[i], usemax=False, sigma=4, min_nuc_center_dist=50, thresh_boost=thresh_boost)\n",
    "            lmask = fm.labelmask_filter_objsize(lmask, 10_000, 2.5e5)\n",
    "            ims = extract_nuclei_stack(stack[i], lmask, box_dims, mask_dil_struct, mask_nucs=True, centroid_margin=12)\n",
    "            nucID = 0\n",
    "            for nuc in ims:\n",
    "                nucs.append(nuc)\n",
    "                filestem = sampleID + '_' + stackID + '-' + str(i) + '_' + str(nucID)\n",
    "                filestems.append(filestem)\n",
    "                nucID += 1\n",
    "        \n",
    "    return np.array(nucs), filestems\n",
    "\n",
    "#################################\n",
    "def save_nucs(nucs, filestems, bad_nucs, box_dims, outfolder, z_range=[0], mask_dil_struct=np.ones((1,7,7)), \n",
    "        maskfolder=None, mask_target_dims=(100,100,100)):\n",
    "    \"\"\"Save nuclei, possibly with a range of z start positions.\"\"\"\n",
    "    def get_center_z(box):\n",
    "        z, i, j = np.where(box > 0)\n",
    "        return round((np.max(z) + np.min(z)) / 2)\n",
    "\n",
    "    def save_mask(im, maskfolder, filename, mask_dil_struct, target_dims):\n",
    "        mask = np.where(im > 0, 1, 0)\n",
    "        mask = ndi.morphology.binary_erosion(mask, structure=mask_dil_struct)\n",
    "        mask = ndi.zoom(mask, np.divide(target_dims, mask.shape), order=0)\n",
    "        \n",
    "        filepath = os.path.join(maskfolder, filename)\n",
    "        with open(filepath, 'wb') as outfile:\n",
    "            pickle.dump(mask, outfile)\n",
    "\n",
    "    saved_count = 0\n",
    "    stems_saved = {}\n",
    "    nucs_saved = []\n",
    "    \n",
    "    for i in range(nucs.shape[0]):\n",
    "        if i not in bad_nucs:\n",
    "            center_z = get_center_z(nucs[i])\n",
    "            start_z = center_z - int(box_dims[0] / 2)\n",
    "            filestem = filestems[i]\n",
    "\n",
    "            for z_add in z_range:\n",
    "                z = start_z + z_add\n",
    "                filename = '_'.join([filestem, str(z)]) + '.pkl'\n",
    "                filepath = os.path.join(outfolder, filename)\n",
    "                im_to_save = nucs[i][z:(z + box_dims[0])]\n",
    "                if np.array_equal(im_to_save.shape, box_dims):\n",
    "                    saved_count += 1\n",
    "                    stems_saved[filestem] = 1\n",
    "                    nucs_saved.append(im_to_save)\n",
    "                    with open(filepath, 'wb') as outfile:\n",
    "                        pickle.dump(im_to_save, outfile)\n",
    "                    \n",
    "                    if maskfolder is not None:\n",
    "                        save_mask(im_to_save, maskfolder, filename, mask_dil_struct, mask_target_dims)\n",
    "    \n",
    "    print('Saved ' + str(saved_count) + ' images from ' + str(len(stems_saved.keys())) + ' nuclei.')\n",
    "    return np.array(nucs_saved)\n",
    "\n",
    "#c = save_nucs(a, b, [], (34,100,100), '/Volumes/stad3/2022-05-23/batchtest', z_range=[-2, 0, 2], maskfolder='/Volumes/stad3/2022-05-23/batchtest_masks')"
   ]
  },
  {
   "cell_type": "code",
   "execution_count": 3,
   "metadata": {},
   "outputs": [],
   "source": [
    "im_folder = '/Volumes/stad3/2022-05-26/bcd-stacks'\n",
    "# h2b, zld-wt, zld-cterm, zld-mutzn5, cp190, rpb1, zld-mutzn5-het\n",
    "sampleID = 'bcd'\n",
    "datestr = '20220526'\n",
    "box_dims = (34,100,100)\n",
    "mask_dil_struct = np.ones((1,7,7))\n",
    "\n",
    "im_outfolder = '/Volumes/stad3/real_nuclei_batch/nucs/bcd'\n",
    "mask_outfolder = '/Volumes/stad3/real_nuclei_batch/masks/bcd'"
   ]
  },
  {
   "cell_type": "code",
   "execution_count": 6,
   "metadata": {},
   "outputs": [
    {
     "name": "stdout",
     "output_type": "stream",
     "text": [
      "threshold: 2185\n",
      "threshold: 1921\n",
      "fuuuuck fixed that for you\n",
      "oh fixed that for you\n",
      "threshold: 2027\n",
      "fuuuuck fixed that for you\n",
      "threshold: 3076\n",
      "oh fixed that for you\n",
      "oh fixed that for you\n",
      "Han, I got one!\n",
      "oh fixed that for you\n",
      "oh fixed that for you\n",
      "fuuuuck fixed that for you\n",
      "fuuuuck fixed that for you\n",
      "threshold: 2925\n",
      "oh fixed that for you\n",
      "Han, I got one!\n",
      "Han, I got one!\n",
      "fuuuuck fixed that for you\n",
      "oh fixed that for you\n",
      "fuuuuck fixed that for you\n",
      "fuuuuck fixed that for you\n",
      "fuuuuck fixed that for you\n",
      "oh fixed that for you\n",
      "fuuuuck fixed that for you\n",
      "oh fixed that for you\n",
      "threshold: 2735\n",
      "oh fixed that for you\n",
      "fuuuuck fixed that for you\n",
      "oh fixed that for you\n",
      "fuuuuck fixed that for you\n",
      "oh fixed that for you\n",
      "fuuuuck fixed that for you\n",
      "threshold: 2627\n",
      "oh fixed that for you\n",
      "fuuuuck fixed that for you\n",
      "oh fixed that for you\n",
      "fuuuuck fixed that for you\n",
      "fuuuuck fixed that for you\n",
      "threshold: 2922\n",
      "threshold: 2527\n",
      "Han, I got one!\n",
      "threshold: 3095\n",
      "threshold: 3019\n",
      "threshold: 3322\n",
      "oh fixed that for you\n",
      "Han, I got one!\n",
      "Han, I got one!\n",
      "oh fixed that for you\n",
      "threshold: 2834\n",
      "Han, I got one!\n",
      "Han, I got one!\n",
      "oh fixed that for you\n",
      "Han, I got one!\n",
      "threshold: 3614\n",
      "fuuuuck fixed that for you\n",
      "threshold: 3897\n",
      "oh fixed that for you\n",
      "Han, I got one!\n",
      "Han, I got one!\n",
      "oh fixed that for you\n",
      "Han, I got one!\n",
      "oh fixed that for you\n",
      "Han, I got one!\n",
      "Han, I got one!\n",
      "Han, I got one!\n",
      "Han, I got one!\n",
      "Han, I got one!\n",
      "Han, I got one!\n",
      "Han, I got one!\n",
      "fuuuuck fixed that for you\n",
      "Han, I got one!\n",
      "fuuuuck fixed that for you\n",
      "oh fixed that for you\n",
      "threshold: 3788\n",
      "oh fixed that for you\n",
      "threshold: 4215\n",
      "Han, I got one!\n",
      "oh fixed that for you\n",
      "oh fixed that for you\n",
      "threshold: 4166\n",
      "Han, I got one!\n",
      "Han, I got one!\n",
      "threshold: 2727\n",
      "fuuuuck fixed that for you\n",
      "fuuuuck fixed that for you\n",
      "oh fixed that for you\n",
      "oh fixed that for you\n",
      "threshold: 2619\n",
      "oh fixed that for you\n",
      "threshold: 3738\n",
      "fuuuuck fixed that for you\n",
      "Han, I got one!\n",
      "oh fixed that for you\n",
      "threshold: 3487\n",
      "oh fixed that for you\n",
      "threshold: 3358\n",
      "oh fixed that for you\n",
      "Han, I got one!\n",
      "fuuuuck fixed that for you\n",
      "oh fixed that for you\n",
      "oh fixed that for you\n",
      "fuuuuck fixed that for you\n",
      "threshold: 2987\n",
      "fuuuuck fixed that for you\n",
      "oh fixed that for you\n",
      "fuuuuck fixed that for you\n",
      "fuuuuck fixed that for you\n",
      "fuuuuck fixed that for you\n",
      "fuuuuck fixed that for you\n",
      "threshold: 2685\n",
      "fuuuuck fixed that for you\n",
      "fuuuuck fixed that for you\n",
      "oh fixed that for you\n",
      "oh fixed that for you\n",
      "threshold: 3119\n",
      "fuuuuck fixed that for you\n",
      "oh fixed that for you\n",
      "fuuuuck fixed that for you\n",
      "fuuuuck fixed that for you\n",
      "fuuuuck fixed that for you\n",
      "oh fixed that for you\n",
      "threshold: 3061\n",
      "fuuuuck fixed that for you\n",
      "oh fixed that for you\n",
      "fuuuuck fixed that for you\n",
      "oh fixed that for you\n",
      "fuuuuck fixed that for you\n",
      "fuuuuck fixed that for you\n",
      "oh fixed that for you\n",
      "fuuuuck fixed that for you\n",
      "threshold: 2992\n",
      "oh fixed that for you\n",
      "fuuuuck fixed that for you\n",
      "oh fixed that for you\n",
      "oh fixed that for you\n",
      "fuuuuck fixed that for you\n",
      "fuuuuck fixed that for you\n",
      "oh fixed that for you\n",
      "fuuuuck fixed that for you\n",
      "oh fixed that for you\n",
      "threshold: 2947\n",
      "oh fixed that for you\n",
      "oh fixed that for you\n",
      "oh fixed that for you\n",
      "fuuuuck fixed that for you\n",
      "fuuuuck fixed that for you\n",
      "fuuuuck fixed that for you\n",
      "oh fixed that for you\n",
      "fuuuuck fixed that for you\n",
      "oh fixed that for you\n",
      "threshold: 2878\n",
      "oh fixed that for you\n",
      "oh fixed that for you\n",
      "fuuuuck fixed that for you\n",
      "oh fixed that for you\n",
      "threshold: 2839\n",
      "fuuuuck fixed that for you\n",
      "oh fixed that for you\n",
      "oh fixed that for you\n",
      "threshold: 2807\n",
      "fuuuuck fixed that for you\n",
      "fuuuuck fixed that for you\n",
      "oh fixed that for you\n",
      "threshold: 2784\n",
      "fuuuuck fixed that for you\n",
      "fuuuuck fixed that for you\n",
      "threshold: 2753\n",
      "fuuuuck fixed that for you\n",
      "fuuuuck fixed that for you\n",
      "oh fixed that for you\n",
      "threshold: 2733\n",
      "fuuuuck fixed that for you\n",
      "fuuuuck fixed that for you\n"
     ]
    }
   ],
   "source": [
    "nucs, filestems = extract_nuclei_batch(im_folder, sampleID, box_dims, datestr, mask_dil_struct, thresh_boost=300)"
   ]
  },
  {
   "cell_type": "code",
   "execution_count": 7,
   "metadata": {},
   "outputs": [
    {
     "data": {
      "application/vnd.jupyter.widget-view+json": {
       "model_id": "c6e0dec3288d4d9fa405b8d34699cf3c",
       "version_major": 2,
       "version_minor": 0
      },
      "text/plain": [
       "interactive(children=(Dropdown(description='Color', index=8, options=('inferno', 'plasma', 'gray_r', 'viridis'…"
      ]
     },
     "metadata": {},
     "output_type": "display_data"
    }
   ],
   "source": [
    "fm.viewer([nucs.max(axis=1), nucs.max(axis=2), nucs.max(axis=3)])"
   ]
  },
  {
   "cell_type": "code",
   "execution_count": 8,
   "metadata": {},
   "outputs": [
    {
     "name": "stdout",
     "output_type": "stream",
     "text": [
      "Saved 777 images from 357 nuclei.\n"
     ]
    }
   ],
   "source": [
    "# Save good nuclei.\n",
    "bad_nucs = [\n",
    "    19,28,29,45,80,99,117,141,142,146,231,\n",
    "]\n",
    "\n",
    "z_range = [-2,0,2]\n",
    "nucs_saved = save_nucs(nucs, filestems, bad_nucs, box_dims, im_outfolder, z_range=z_range, mask_dil_struct=mask_dil_struct, maskfolder=mask_outfolder)"
   ]
  },
  {
   "cell_type": "code",
   "execution_count": null,
   "metadata": {},
   "outputs": [],
   "source": [
    "fm.viewer(nucs_saved.max(axis=1))"
   ]
  },
  {
   "cell_type": "markdown",
   "metadata": {},
   "source": []
  },
  {
   "cell_type": "code",
   "execution_count": null,
   "metadata": {},
   "outputs": [],
   "source": [
    "m = fm.load_pickle('/Volumes/stad3/real_nuclei_batch/masks/rpb1/rpb1_20220523-rpb1-gfp-em2-01_7_5.pkl')\n",
    "fm.viewer(m)"
   ]
  },
  {
   "cell_type": "code",
   "execution_count": 19,
   "metadata": {},
   "outputs": [
    {
     "name": "stdout",
     "output_type": "stream",
     "text": [
      "rpb1-real: 610\n",
      "rpb1: 7\n"
     ]
    }
   ],
   "source": [
    "# Count nuclei.\n",
    "\n",
    "folder = im_outfolder\n",
    "\n",
    "folder = '/Users/michaelstadler/Bioinformatics/Projects/rpb1/data/real_nuclei/set2/rpb1'\n",
    "\n",
    "samples = {}\n",
    "\n",
    "for f in os.listdir(folder):\n",
    "    if f[0] == '.':\n",
    "        continue\n",
    "    splits = f.split('_')\n",
    "    key = '_'.join(splits[1:3])\n",
    "    sample = splits[0]\n",
    "\n",
    "    if sample in samples:\n",
    "        if key not in samples[sample]:\n",
    "            samples[sample][key] = 1\n",
    "    else:\n",
    "        samples[sample] = {}\n",
    "        samples[sample][key] = 1\n",
    "\n",
    "for sample in samples:\n",
    "    print(sample + ': ' + str(len(samples[sample].keys())))"
   ]
  },
  {
   "cell_type": "code",
   "execution_count": 17,
   "metadata": {},
   "outputs": [
    {
     "data": {
      "text/plain": [
       "7111"
      ]
     },
     "execution_count": 17,
     "metadata": {},
     "output_type": "execute_result"
    }
   ],
   "source": [
    "556 + 446 + 1724 + 1775 + 373 + 399 + 814 + 1024"
   ]
  },
  {
   "cell_type": "code",
   "execution_count": null,
   "metadata": {},
   "outputs": [],
   "source": [
    "fm.simnuc.make_mask_file('/Users/michaelstadler/Bioinformatics/Projects/rpb1/data/real_masks/rpb1-nc12', '/Users/michaelstadler/Bioinformatics/Projects/rpb1/data/real_masks/mask_files/nc12_1.pkl')"
   ]
  },
  {
   "cell_type": "code",
   "execution_count": null,
   "metadata": {},
   "outputs": [],
   "source": [
    "masks = fm.load_pickle('/Users/michaelstadler/Bioinformatics/Projects/rpb1/data/real_masks/mask_files/nc13_1.pkl')\n",
    "fm.viewer(masks, 5)"
   ]
  },
  {
   "cell_type": "code",
   "execution_count": null,
   "metadata": {},
   "outputs": [],
   "source": []
  },
  {
   "cell_type": "code",
   "execution_count": null,
   "metadata": {},
   "outputs": [],
   "source": []
  },
  {
   "cell_type": "code",
   "execution_count": null,
   "metadata": {},
   "outputs": [],
   "source": [
    "sm = ndi.gaussian_filter(stack, (1,4,4))"
   ]
  },
  {
   "cell_type": "code",
   "execution_count": null,
   "metadata": {},
   "outputs": [],
   "source": [
    "plt.hist(sm.flatten(), bins=500);"
   ]
  },
  {
   "cell_type": "code",
   "execution_count": null,
   "metadata": {},
   "outputs": [],
   "source": [
    "skimage.filters.thresholding.thre"
   ]
  },
  {
   "cell_type": "code",
   "execution_count": null,
   "metadata": {},
   "outputs": [],
   "source": [
    "skimage.filters.thresholding.threshold_multiotsu(sm.flatten(), classes=3)[1]"
   ]
  },
  {
   "cell_type": "code",
   "execution_count": null,
   "metadata": {},
   "outputs": [],
   "source": [
    "?skimage.filters.thresholding.threshold_multiotsu"
   ]
  },
  {
   "cell_type": "code",
   "execution_count": null,
   "metadata": {},
   "outputs": [],
   "source": []
  }
 ],
 "metadata": {
  "interpreter": {
   "hash": "eca358e5a2f32eca92640d7df176777d47bc005b1d6ea5f309faabbd9462bdfe"
  },
  "kernelspec": {
   "display_name": "Python 3.9.7 ('im2')",
   "language": "python",
   "name": "python3"
  },
  "language_info": {
   "codemirror_mode": {
    "name": "ipython",
    "version": 3
   },
   "file_extension": ".py",
   "mimetype": "text/x-python",
   "name": "python",
   "nbconvert_exporter": "python",
   "pygments_lexer": "ipython3",
   "version": "3.9.7"
  },
  "orig_nbformat": 4
 },
 "nbformat": 4,
 "nbformat_minor": 2
}
