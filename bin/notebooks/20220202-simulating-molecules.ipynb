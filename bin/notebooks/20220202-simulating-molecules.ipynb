{
 "cells": [
  {
   "cell_type": "code",
   "execution_count": 1,
   "metadata": {},
   "outputs": [],
   "source": [
    "from importlib import reload\n",
    "import flymovie as fm\n",
    "from flymovie.simnuc import Sim\n",
    "import matplotlib.pyplot as plt\n",
    "import numpy as np\n",
    "import os\n",
    "import random\n",
    "import pickle\n",
    "from pathlib import Path\n",
    "import scipy.ndimage as ndi\n",
    "from importlib import reload\n",
    "import scipy\n",
    "import pandas as pd\n",
    "import scipy\n",
    "from copy import deepcopy\n",
    "\n",
    "%load_ext autoreload\n",
    "%autoreload 2"
   ]
  },
  {
   "cell_type": "code",
   "execution_count": 5,
   "metadata": {},
   "outputs": [
    {
     "name": "stdout",
     "output_type": "stream",
     "text": [
      "arglist done\n"
     ]
    }
   ],
   "source": [
    "outfolder = '/Users/michaelstadler/Bioinformatics/Projects/rpb1/results/batch_test'\n",
    "fm.sim_rpb1_batch(outfolder, kernel_real, 2,1,1,(200,200,200), nuc_rad=92, nfree_rng=[10_000,50_000], hlb_diam_rng=[7,15], \n",
    "    hlb_nmols_rng=[100,1000], n_clusters_rng=[0,300], cluster_diam_mean_rng=[1,3], \n",
    "    cluster_diam_var_rng=[0.5, 2], cluster_nmols_mean_rng=[10,100], cluster_nmols_var_rng=[1,10], noise_sigma_rng=[1_000, 2_000])\n"
   ]
  },
  {
   "cell_type": "code",
   "execution_count": 80,
   "metadata": {},
   "outputs": [],
   "source": [
    "def rebin(arr, new_shape):\n",
    "    \"\"\"Bin a 2D numpy array to fit a new shape, with each entry\n",
    "    in the binned array equal to the sum of the constituent\n",
    "    entries in the original.\"\"\"\n",
    "    shape = ()\n",
    "    for i in range(arr.ndim):\n",
    "        shape = shape + (new_shape[i], arr.shape[i] // new_shape[i],)\n",
    "\n",
    "    binned = arr.reshape(shape)\n",
    "    for i in range(arr.ndim):\n",
    "        binned = binned.sum(i + 1)\n",
    "    \n",
    "    return binned"
   ]
  },
  {
   "cell_type": "markdown",
   "metadata": {},
   "source": [
    "## Tuning to real data"
   ]
  },
  {
   "cell_type": "code",
   "execution_count": 2,
   "metadata": {},
   "outputs": [],
   "source": [
    "def norm(x):\n",
    "    return (x - np.min(x)) / (np.max(x) - np.min(x))"
   ]
  },
  {
   "cell_type": "code",
   "execution_count": 3,
   "metadata": {},
   "outputs": [],
   "source": [
    "realstack = fm.read_czi('/Users/michaelstadler/Bioinformatics/Projects/rpb1/data/counting_blobs/cycle 12/embryo17.czi', swapaxes=False)"
   ]
  },
  {
   "cell_type": "code",
   "execution_count": 5,
   "metadata": {},
   "outputs": [],
   "source": [
    "kernel2 = fm.load_pickle('/Users/michaelstadler/Bioinformatics/Projects/rpb1/PSFs/psf_20220210_21x25x25pixels_100x50x50voxel.pkl')"
   ]
  },
  {
   "cell_type": "code",
   "execution_count": 6,
   "metadata": {},
   "outputs": [],
   "source": [
    "sub = fm.stack_normalize_minmax(realstack[:,350:, 100:300]) * 1000\n",
    "sub = sub[:,0:100, 25:125]"
   ]
  },
  {
   "cell_type": "code",
   "execution_count": 7,
   "metadata": {},
   "outputs": [
    {
     "data": {
      "application/vnd.jupyter.widget-view+json": {
       "model_id": "efd0057baf5247518ed737d8af77973d",
       "version_major": 2,
       "version_minor": 0
      },
      "text/plain": [
       "interactive(children=(Dropdown(description='Color', options=('cividis', 'plasma', 'inferno', 'Greens', 'viridi…"
      ]
     },
     "metadata": {},
     "output_type": "display_data"
    }
   ],
   "source": [
    "mask = Sim.make_spherical_mask(100,100,100, 40)\n",
    "sim = Sim(mask, 85, 85)\n",
    "sim.add_kernel(kernel2, 100, 50)\n",
    "# Free\n",
    "sim.add_n_objects(10_000, 100, 1, 1, 'nuc')\n",
    "# HLB\n",
    "sim.add_sphere((47,35,35), 100, 400, 5)\n",
    "sim.add_sphere((47,50,68), 100, 400, 5)\n",
    "# clusters\n",
    "sim.add_n_objects(60, 100, 10, 2)\n",
    "sim.add_noise('poisson')\n",
    "sim.convolve()\n",
    "sim.resize((250,85,85), order=1)\n",
    "sim.im = fm.stack_normalize_minmax(sim.im) * 1000\n",
    "sim.add_noise('gaussian', sigma=30)\n",
    "fm.viewer([sim.im * (np.mean(sub)/np.mean(sim.im)), sub], 5)\n"
   ]
  },
  {
   "cell_type": "code",
   "execution_count": 13,
   "metadata": {},
   "outputs": [
    {
     "data": {
      "application/vnd.jupyter.widget-view+json": {
       "model_id": "13178a928f194fb28f634fa00c3e624d",
       "version_major": 2,
       "version_minor": 0
      },
      "text/plain": [
       "interactive(children=(Dropdown(description='Color', index=4, options=('gray_r', 'Gators', 'viridis', 'inferno'…"
      ]
     },
     "metadata": {},
     "output_type": "display_data"
    }
   ],
   "source": [
    "fm.viewer(sim.im, 5)"
   ]
  },
  {
   "cell_type": "code",
   "execution_count": 11,
   "metadata": {},
   "outputs": [
    {
     "data": {
      "text/plain": [
       "(34, 100, 100)"
      ]
     },
     "execution_count": 11,
     "metadata": {},
     "output_type": "execute_result"
    }
   ],
   "source": [
    "sim.im.shape"
   ]
  },
  {
   "cell_type": "code",
   "execution_count": 22,
   "metadata": {},
   "outputs": [
    {
     "data": {
      "text/plain": [
       "15.511245459892377"
      ]
     },
     "execution_count": 22,
     "metadata": {},
     "output_type": "execute_result"
    }
   ],
   "source": [
    "np.std(sub[0])"
   ]
  },
  {
   "cell_type": "code",
   "execution_count": 5,
   "metadata": {},
   "outputs": [
    {
     "data": {
      "application/vnd.jupyter.widget-view+json": {
       "model_id": "4c8a4998cf724c35862fc2d3b9193a06",
       "version_major": 2,
       "version_minor": 0
      },
      "text/plain": [
       "interactive(children=(Dropdown(description='Color', index=4, options=('gray_r', 'Gators', 'gray', 'magma', 'ci…"
      ]
     },
     "metadata": {},
     "output_type": "display_data"
    }
   ],
   "source": [
    "im = fm.load_pickle('/Users/michaelstadler/Bioinformatics/Projects/rpb1/results/testsimsoThRIpoU/ErD_20914_13.52_540_200_3_4.99_32_3.7_13.6_rep1.pkl')\n",
    "fm.viewer(im.max(axis=0), 5)"
   ]
  },
  {
   "cell_type": "code",
   "execution_count": null,
   "metadata": {},
   "outputs": [],
   "source": []
  }
 ],
 "metadata": {
  "interpreter": {
   "hash": "eca358e5a2f32eca92640d7df176777d47bc005b1d6ea5f309faabbd9462bdfe"
  },
  "kernelspec": {
   "display_name": "Python 3.9.7 64-bit ('im2': conda)",
   "language": "python",
   "name": "python3"
  },
  "language_info": {
   "codemirror_mode": {
    "name": "ipython",
    "version": 3
   },
   "file_extension": ".py",
   "mimetype": "text/x-python",
   "name": "python",
   "nbconvert_exporter": "python",
   "pygments_lexer": "ipython3",
   "version": "3.9.7"
  },
  "orig_nbformat": 4
 },
 "nbformat": 4,
 "nbformat_minor": 2
}
