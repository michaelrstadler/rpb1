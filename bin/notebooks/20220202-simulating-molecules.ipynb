{
 "cells": [
  {
   "cell_type": "code",
   "execution_count": 1,
   "metadata": {},
   "outputs": [],
   "source": [
    "from importlib import reload\n",
    "import flymovie as fm\n",
    "from flymovie.simnuc import Sim\n",
    "import matplotlib.pyplot as plt\n",
    "import numpy as np\n",
    "import os\n",
    "import random\n",
    "import pickle\n",
    "from pathlib import Path\n",
    "import scipy.ndimage as ndi\n",
    "from importlib import reload\n",
    "import scipy\n",
    "import pandas as pd\n",
    "import scipy\n",
    "from copy import deepcopy\n",
    "\n",
    "%load_ext autoreload\n",
    "%autoreload 2"
   ]
  },
  {
   "cell_type": "code",
   "execution_count": 5,
   "metadata": {},
   "outputs": [
    {
     "name": "stdout",
     "output_type": "stream",
     "text": [
      "arglist done\n"
     ]
    }
   ],
   "source": [
    "outfolder = '/Users/michaelstadler/Bioinformatics/Projects/rpb1/results/batch_test'\n",
    "fm.sim_rpb1_batch(outfolder, kernel_real, 2,1,1,(200,200,200), nuc_rad=92, nfree_rng=[10_000,50_000], hlb_diam_rng=[7,15], \n",
    "    hlb_nmols_rng=[100,1000], n_clusters_rng=[0,300], cluster_diam_mean_rng=[1,3], \n",
    "    cluster_diam_var_rng=[0.5, 2], cluster_nmols_mean_rng=[10,100], cluster_nmols_var_rng=[1,10], noise_sigma_rng=[1_000, 2_000])\n"
   ]
  },
  {
   "cell_type": "code",
   "execution_count": 80,
   "metadata": {},
   "outputs": [],
   "source": [
    "def rebin(arr, new_shape):\n",
    "    \"\"\"Bin a 2D numpy array to fit a new shape, with each entry\n",
    "    in the binned array equal to the sum of the constituent\n",
    "    entries in the original.\"\"\"\n",
    "    shape = ()\n",
    "    for i in range(arr.ndim):\n",
    "        shape = shape + (new_shape[i], arr.shape[i] // new_shape[i],)\n",
    "\n",
    "    binned = arr.reshape(shape)\n",
    "    for i in range(arr.ndim):\n",
    "        binned = binned.sum(i + 1)\n",
    "    \n",
    "    return binned"
   ]
  },
  {
   "cell_type": "markdown",
   "metadata": {},
   "source": [
    "## Tuning to real data"
   ]
  },
  {
   "cell_type": "code",
   "execution_count": 161,
   "metadata": {},
   "outputs": [],
   "source": [
    "def norm(x):\n",
    "    return (x - np.min(x)) / (np.max(x) - np.min(x))"
   ]
  },
  {
   "cell_type": "code",
   "execution_count": 165,
   "metadata": {},
   "outputs": [],
   "source": [
    "realstack = fm.read_czi('/Users/michaelstadler/Bioinformatics/Projects/rpb1/data/counting_blobs/cycle 12/embryo17.czi', swapaxes=False)"
   ]
  },
  {
   "cell_type": "code",
   "execution_count": 164,
   "metadata": {},
   "outputs": [],
   "source": [
    "kernel2 = fm.load_pickle('/Users/michaelstadler/Bioinformatics/Projects/rpb1/results/psf_20220210.pkl')"
   ]
  },
  {
   "cell_type": "code",
   "execution_count": 166,
   "metadata": {},
   "outputs": [],
   "source": [
    "sub = norm(realstack[:,350:, 100:300]) * 1000\n",
    "sub = sub[:,0:100, 25:125]"
   ]
  },
  {
   "cell_type": "code",
   "execution_count": 167,
   "metadata": {},
   "outputs": [
    {
     "data": {
      "application/vnd.jupyter.widget-view+json": {
       "model_id": "17bfe7f6f8e7494e99ced59e9c857d93",
       "version_major": 2,
       "version_minor": 0
      },
      "text/plain": [
       "interactive(children=(Dropdown(description='Color', index=1, options=('Reds', 'cividis', 'gray', 'Greens', 'in…"
      ]
     },
     "metadata": {},
     "output_type": "display_data"
    }
   ],
   "source": [
    "mask = Sim.make_spherical_mask(100,100,100, 40)\n",
    "sim = Sim(mask, 85, 85)\n",
    "sim.add_kernel(kernel2, 100, 50)\n",
    "# Free\n",
    "sim.add_n_objects(10_000, 100, 1, 1, 'nuc')\n",
    "# HLB\n",
    "sim.add_sphere((47,35,35), 100, 400, 5)\n",
    "sim.add_sphere((47,50,68), 100, 400, 5)\n",
    "# clusters\n",
    "sim.add_n_objects(60, 100, 10, 2)\n",
    "#sim.add_n_objects(200, 100, 4, 2)\n",
    "sim.add_noise('poisson')\n",
    "sim.convolve()\n",
    "sim.resize((250,85,85), order=1)\n",
    "sim.im = norm(sim.im) * 1000\n",
    "sim.add_noise('gaussian', sigma=20)\n",
    "fm.viewer([sim.im * (np.mean(sub)/np.mean(sim.im)), sub], 5)\n"
   ]
  },
  {
   "cell_type": "code",
   "execution_count": 9,
   "metadata": {},
   "outputs": [
    {
     "data": {
      "text/plain": [
       "0.0"
      ]
     },
     "execution_count": 9,
     "metadata": {},
     "output_type": "execute_result"
    }
   ],
   "source": [
    "np.min(fm.stack_normalize_minmax(sim.im))"
   ]
  },
  {
   "cell_type": "code",
   "execution_count": 11,
   "metadata": {},
   "outputs": [
    {
     "data": {
      "text/plain": [
       "array([[0.58885976, 0.80369097, 0.83154375, 0.93872689, 0.38503927,\n",
       "        0.82839788, 0.564153  , 0.64396203, 0.35173638, 0.72041955,\n",
       "        0.52009986, 0.69649784, 0.92176532, 0.32224221, 0.7796964 ,\n",
       "        0.21284628, 0.65489507, 0.28323664, 0.68993935, 0.24635628],\n",
       "       [0.88567575, 0.96016432, 0.22195968, 0.96691403, 0.8362162 ,\n",
       "        0.98081391, 0.1691706 , 0.07178698, 0.63351503, 0.13186   ,\n",
       "        0.76064322, 0.18322916, 0.90451496, 0.71753499, 0.9172418 ,\n",
       "        0.66567536, 0.81243367, 0.07514118, 0.27563948, 0.37396411],\n",
       "       [0.19314588, 0.01142992, 0.3628084 , 0.58645793, 0.59270544,\n",
       "        0.05922144, 0.94518293, 0.15507244, 0.87063839, 0.01532149,\n",
       "        0.99358914, 0.74248937, 0.90590599, 0.2942996 , 0.93742622,\n",
       "        0.08592347, 0.88411328, 0.29531802, 0.93380088, 0.86090825],\n",
       "       [0.77650512, 0.02679758, 0.85563138, 0.87256157, 0.17839924,\n",
       "        0.47910737, 0.16036844, 0.0243565 , 0.23537636, 0.01204458,\n",
       "        0.3480154 , 0.40931393, 0.40908704, 0.03035329, 0.45377427,\n",
       "        0.24794016, 0.15545107, 0.23186007, 0.70190475, 0.09850643],\n",
       "       [0.44070326, 0.11642847, 0.21473598, 0.96096003, 0.11529978,\n",
       "        0.54553996, 0.02177192, 0.15847186, 0.32416363, 0.98461429,\n",
       "        0.54133005, 0.79475574, 0.257369  , 0.26520322, 0.15002667,\n",
       "        0.84292003, 0.79465694, 0.69165772, 0.30037788, 0.49241554],\n",
       "       [0.62959226, 0.84373746, 0.92651808, 0.02012201, 0.01578938,\n",
       "        0.15053907, 0.48436172, 0.3326825 , 0.05090677, 0.92235446,\n",
       "        0.92419309, 0.52009445, 0.04880109, 0.86790054, 0.7456964 ,\n",
       "        0.02126486, 0.07615869, 0.54022226, 0.44920028, 0.32032801],\n",
       "       [0.96406954, 0.59022719, 0.53909637, 0.05260483, 0.07301435,\n",
       "        0.44207215, 0.52685476, 0.92911197, 0.71389803, 0.04893052,\n",
       "        0.36505061, 0.99136636, 0.3650535 , 0.42471357, 0.73520079,\n",
       "        0.10909321, 0.31982001, 0.00672563, 0.08353596, 0.68569529],\n",
       "       [0.88093278, 0.89355702, 0.33156659, 0.3815315 , 0.66220586,\n",
       "        0.49867007, 0.21512656, 0.31078059, 0.06653515, 0.99523144,\n",
       "        0.3526392 , 0.23607404, 0.92457916, 0.60071362, 0.20568968,\n",
       "        0.50855134, 0.96218227, 0.39187495, 0.4118954 , 0.00544964],\n",
       "       [0.6855338 , 0.33352111, 0.56258696, 0.94409057, 0.00163511,\n",
       "        0.08820883, 0.3365048 , 0.20642576, 0.75880083, 0.15111962,\n",
       "        0.48973464, 0.9261786 , 0.31548393, 0.81907847, 0.10180881,\n",
       "        0.08672136, 0.54622174, 0.67717985, 0.09774953, 0.14618348],\n",
       "       [0.61883759, 0.40786011, 0.0473645 , 0.28938869, 0.9915198 ,\n",
       "        0.00955539, 0.44809305, 0.49411152, 0.08957488, 0.45384108,\n",
       "        0.77671797, 0.14937442, 0.00199944, 0.36206935, 0.42776238,\n",
       "        0.98434199, 0.92301488, 0.15905744, 0.44848813, 0.60540812],\n",
       "       [0.62202164, 0.35442191, 0.48477272, 0.08256207, 0.12864623,\n",
       "        0.01161759, 0.67543855, 0.17625919, 0.7107649 , 0.80759587,\n",
       "        0.15237701, 0.08555344, 0.01046739, 0.49721479, 0.03538549,\n",
       "        0.08865798, 0.84846117, 0.32755541, 0.93419509, 0.96561348],\n",
       "       [0.15916906, 0.37230006, 0.88155589, 0.61611271, 0.22685808,\n",
       "        0.10587789, 0.24432244, 0.33343321, 0.07240458, 0.97051005,\n",
       "        0.23326537, 0.56129033, 0.34680124, 0.05517058, 0.51287145,\n",
       "        0.36178495, 0.53221595, 0.35006006, 0.59645286, 0.07797904],\n",
       "       [0.28255428, 0.93269911, 0.06293452, 0.06641689, 0.8876079 ,\n",
       "        0.70301469, 0.70420331, 0.71110895, 0.08207167, 0.78227654,\n",
       "        0.38908896, 0.47378341, 0.86756737, 0.20413495, 0.04933173,\n",
       "        0.27734182, 0.22279209, 0.78010191, 0.6165021 , 0.88718898],\n",
       "       [0.62841839, 0.55776579, 0.22319043, 0.97680226, 0.09089279,\n",
       "        0.87351035, 0.88471549, 0.30135721, 0.54683011, 0.18338121,\n",
       "        0.34412567, 0.12937092, 0.60983699, 0.97064431, 0.10910082,\n",
       "        0.45768209, 0.58730179, 0.48614044, 0.06368465, 0.22676619],\n",
       "       [0.36336121, 0.00450389, 0.15734774, 0.3134833 , 0.85678551,\n",
       "        0.78997808, 0.40833761, 0.93853298, 0.31554344, 0.86841462,\n",
       "        0.96024487, 0.20659437, 0.58244128, 0.43753824, 0.13896092,\n",
       "        0.23606933, 0.60797585, 0.89616802, 0.8825533 , 0.94908767],\n",
       "       [0.45473162, 0.73752446, 0.5712221 , 0.84328986, 0.50278397,\n",
       "        0.64535824, 0.58712317, 0.64505244, 0.04087233, 0.75770998,\n",
       "        0.89049627, 0.40100462, 0.87445668, 0.62633456, 0.1261947 ,\n",
       "        0.4512679 , 0.47034444, 0.9448218 , 0.40116215, 0.1995903 ],\n",
       "       [0.90650307, 0.1818361 , 0.23886281, 0.629865  , 0.79387473,\n",
       "        0.89285042, 0.43087889, 0.18397714, 0.46057923, 0.78956271,\n",
       "        0.46196136, 0.09662394, 0.88835638, 0.83448263, 0.58776815,\n",
       "        0.16236161, 0.2277633 , 0.63294392, 0.12898271, 0.74628578],\n",
       "       [0.51763372, 0.78660826, 0.77085533, 0.07510579, 0.91096289,\n",
       "        0.62934299, 0.05976715, 0.21390717, 0.72999681, 0.04318988,\n",
       "        0.74621844, 0.5036413 , 0.60378132, 0.62854213, 0.01662582,\n",
       "        0.33085877, 0.70372339, 0.27662875, 0.96521891, 0.33286822],\n",
       "       [0.37358344, 0.6739253 , 0.87198642, 0.83968338, 0.91004885,\n",
       "        0.13439263, 0.36573983, 0.30891124, 0.88562312, 0.70964064,\n",
       "        0.98217007, 0.23051203, 0.10131059, 0.49016217, 0.28764759,\n",
       "        0.02384959, 0.57988042, 0.86522538, 0.69441746, 0.81532984],\n",
       "       [0.56391215, 0.27923451, 0.18650761, 0.59057151, 0.39656836,\n",
       "        0.14299099, 0.77216045, 0.46045199, 0.69889105, 0.28602563,\n",
       "        0.68712318, 0.4590992 , 0.18182725, 0.22380191, 0.71433027,\n",
       "        0.82374703, 0.35404091, 0.85589661, 0.41485896, 0.17501941]])"
      ]
     },
     "execution_count": 11,
     "metadata": {},
     "output_type": "execute_result"
    }
   ],
   "source": [
    "np.random.random((20,20))"
   ]
  },
  {
   "cell_type": "code",
   "execution_count": 23,
   "metadata": {},
   "outputs": [
    {
     "data": {
      "text/plain": [
       "27.329019607843133"
      ]
     },
     "execution_count": 23,
     "metadata": {},
     "output_type": "execute_result"
    }
   ],
   "source": [
    "np.mean(sub[0])"
   ]
  },
  {
   "cell_type": "code",
   "execution_count": 22,
   "metadata": {},
   "outputs": [
    {
     "data": {
      "text/plain": [
       "15.511245459892377"
      ]
     },
     "execution_count": 22,
     "metadata": {},
     "output_type": "execute_result"
    }
   ],
   "source": [
    "np.std(sub[0])"
   ]
  },
  {
   "cell_type": "code",
   "execution_count": 29,
   "metadata": {},
   "outputs": [
    {
     "data": {
      "text/plain": [
       "False"
      ]
     },
     "execution_count": 29,
     "metadata": {},
     "output_type": "execute_result"
    }
   ],
   "source": [
    "2 > 3 > 1"
   ]
  },
  {
   "cell_type": "code",
   "execution_count": null,
   "metadata": {},
   "outputs": [],
   "source": []
  }
 ],
 "metadata": {
  "interpreter": {
   "hash": "eca358e5a2f32eca92640d7df176777d47bc005b1d6ea5f309faabbd9462bdfe"
  },
  "kernelspec": {
   "display_name": "Python 3.9.7 64-bit ('im2': conda)",
   "language": "python",
   "name": "python3"
  },
  "language_info": {
   "codemirror_mode": {
    "name": "ipython",
    "version": 3
   },
   "file_extension": ".py",
   "mimetype": "text/x-python",
   "name": "python",
   "nbconvert_exporter": "python",
   "pygments_lexer": "ipython3",
   "version": "3.9.7"
  },
  "orig_nbformat": 4
 },
 "nbformat": 4,
 "nbformat_minor": 2
}
