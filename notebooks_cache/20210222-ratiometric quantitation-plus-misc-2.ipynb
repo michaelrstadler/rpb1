{
 "cells": [
  {
   "cell_type": "code",
   "execution_count": 1,
   "metadata": {},
   "outputs": [],
   "source": [
    "# Import public packages.\n",
    "import numpy as np\n",
    "import matplotlib.pyplot as plt\n",
    "import pandas as pd\n",
    "from scipy import ndimage as ndi \n",
    "from importlib import reload\n",
    "import pickle\n",
    "import czifile\n",
    "\n",
    "# The order of loading matplotlib is important to avoid issues on my machine.\n",
    "%matplotlib inline\n",
    "import matplotlib as mpl\n",
    "#%matplotlib notebook\n",
    "#%matplotlib notebook\n",
    "\n",
    "# Import my packages.\n",
    "import sys\n",
    "sys.path.append('/Users/michaelstadler/Bioinformatics/Projects/rpb1/bin')\n",
    "import imagep as imp\n",
    "reload(imp)\n",
    "from imagep import viewer, save_pickle, load_pickle, box_spots, read_czi"
   ]
  },
  {
   "cell_type": "code",
   "execution_count": 2,
   "metadata": {},
   "outputs": [],
   "source": [
    "stack_mcp = imp.read_czi('/Users/michaelstadler/Bioinformatics/Projects/rpb1/data/20210224-MCP-GFP-eveMS2-em10-488-3pct-01.czi', swapaxes=False)\n",
    "stack_noms2 = imp.read_czi('/Users/michaelstadler/Bioinformatics/Projects/rpb1/data/20210224-MCP-GFP-noMS2-em3-488-3pct-02.czi', swapaxes=False)\n",
    "stack_rpb = imp.read_czi('/Users/michaelstadler/Bioinformatics/Projects/rpb1/data/20210224-rpb1gfp-eveMS2-em1-488-3pct-02.czi', swapaxes=False)"
   ]
  },
  {
   "cell_type": "code",
   "execution_count": 4,
   "metadata": {
    "scrolled": false
   },
   "outputs": [
    {
     "data": {
      "application/vnd.jupyter.widget-view+json": {
       "model_id": "d2e1a6366317459e82da3a3a13ab6983",
       "version_major": 2,
       "version_minor": 0
      },
      "text/plain": [
       "interactive(children=(Dropdown(description='Color', index=2, options=('gray_r', 'plasma', 'Greens', 'viridis',…"
      ]
     },
     "metadata": {},
     "output_type": "display_data"
    }
   ],
   "source": [
    "viewer(stack_mcp)"
   ]
  },
  {
   "cell_type": "code",
   "execution_count": 5,
   "metadata": {},
   "outputs": [
    {
     "data": {
      "application/vnd.jupyter.widget-view+json": {
       "model_id": "9ad96d164c8d4414b375251439b894a7",
       "version_major": 2,
       "version_minor": 0
      },
      "text/plain": [
       "interactive(children=(Dropdown(description='Color', index=2, options=('gray_r', 'plasma', 'Greens', 'viridis',…"
      ]
     },
     "metadata": {},
     "output_type": "display_data"
    }
   ],
   "source": [
    "viewer(stack_noms2)"
   ]
  },
  {
   "cell_type": "code",
   "execution_count": 6,
   "metadata": {},
   "outputs": [
    {
     "data": {
      "application/vnd.jupyter.widget-view+json": {
       "model_id": "4f7a6cee4bab48e192273e79fe24f5d3",
       "version_major": 2,
       "version_minor": 0
      },
      "text/plain": [
       "interactive(children=(Dropdown(description='Color', index=2, options=('gray_r', 'plasma', 'Greens', 'viridis',…"
      ]
     },
     "metadata": {},
     "output_type": "display_data"
    }
   ],
   "source": [
    "viewer(stack_rpb)"
   ]
  },
  {
   "cell_type": "code",
   "execution_count": 157,
   "metadata": {},
   "outputs": [],
   "source": [
    "coordfile='/Users/michaelstadler/Bioinformatics/Projects/rpb1/bin/test2.txt'\n",
    "def clean_spot_clicks(stack, coordfile, nudge=True, length=5, zrad=1):\n",
    "    def nudge_coords(t,z,x,y, stack, rad, zrad):\n",
    "        # Find maximum Z.\n",
    "        new_z = z\n",
    "        max_mean = 0\n",
    "        xmin = x-rad\n",
    "        xmax = x+rad+1\n",
    "        ymin = y-rad\n",
    "        ymax = y+rad+1\n",
    "        for z_test in range(np.max([0, z-zrad]), np.min([stack.shape[-3], z+zrad+1])):\n",
    "            box = stack[t, z_test,xmin:xmax, ymin:ymax]\n",
    "            box_mean = np.mean(box)\n",
    "            #print(z_test, box_mean)\n",
    "            if box_mean > max_mean:\n",
    "                new_z = z_test\n",
    "                max_mean = box_mean\n",
    "        # Currently, leave x,y alone. Could nudge them too.\n",
    "        #new_z = z\n",
    "        box = stack[t, new_z, xmin:xmax, ymin:ymax]\n",
    "        rel_x, rel_y = np.where(box == np.max(box))\n",
    "        new_x = x + rel_x[0] - rad\n",
    "        new_y = y + rel_y[0] - rad\n",
    "        #new_x = x\n",
    "        #new_y = y\n",
    "        \n",
    "        return (t, new_z,new_x,new_y)              \n",
    "    \n",
    "    rad = int(length /2)\n",
    "    spots = set()\n",
    "    \n",
    "    with open(coordfile, 'r') as f:\n",
    "        for line in f:\n",
    "            line = line.rstrip()\n",
    "            if (line[0] == '#'):\n",
    "                continue\n",
    "            t,z,x,y = line.split('\\t') # x and y are flipped by click storer.\n",
    "            if (x == 'None') or (y == 'None'):\n",
    "                continue\n",
    "            t,z,x,y = [float(i) for i in [t,z,x,y]]\n",
    "            t,z,x,y = [int(i) for i in [t,z,x,y]]\n",
    "            if (nudge):\n",
    "                spots.add(nudge_coords(t,z,x,y, stack, rad, zrad))\n",
    "            else:\n",
    "                spots.add((t,z,x,y))\n",
    "    \n",
    "    return spots\n",
    "            \n",
    "            \n",
    "\n",
    "#b = clean_spot_clicks(stack[0], coordfile)"
   ]
  },
  {
   "cell_type": "code",
   "execution_count": 158,
   "metadata": {},
   "outputs": [],
   "source": [
    "def make_substack_from_coords(stack, coordslist, length=9):\n",
    "    new_stack = np.zeros((1,length,length))\n",
    "    rad = int(length / 2)\n",
    "    xlim, ylim = (stack.shape[-2], stack.shape[-1])\n",
    "    for (t, z,x,y) in coordslist:\n",
    "        #print(t,z,x,y)\n",
    "        x_start = x - rad\n",
    "        x_end = x + rad + 1\n",
    "        y_start = y - rad\n",
    "        y_end = y + rad + 1\n",
    "        if ((x_start >= 0) &\n",
    "            (x_end < xlim) &\n",
    "            (y_start >= 0) &\n",
    "            (y_end < ylim)\n",
    "           ):\n",
    "            box = stack[t,z, x_start:x_end, y_start:y_end]\n",
    "            new_stack = np.vstack((new_stack, [box]))\n",
    "    return new_stack[1:]\n",
    "\n",
    "#c = make_substack_from_coords(stack[0], b, 29)"
   ]
  },
  {
   "cell_type": "code",
   "execution_count": 159,
   "metadata": {},
   "outputs": [],
   "source": [
    "def process_spots(stackfiles, coordfiles, length_clean=5, zrad=1, length_box=9, channel=0, nudge=True):\n",
    "    pointstack = np.zeros((1, length_box, length_box))\n",
    "    for i in range(0, len(stackfiles)):\n",
    "        stack = read_czi(stackfiles[i])\n",
    "        coordfile = coordfiles[i]\n",
    "        coords_cleaned = clean_spot_clicks(stack[channel], coordfile, length=length_clean, zrad=zrad, nudge=nudge)\n",
    "        substack = make_substack_from_coords(stack[channel], coords_cleaned, length_box)\n",
    "        pointstack = np.vstack([pointstack, substack])\n",
    "    return pointstack[1:]"
   ]
  },
  {
   "cell_type": "code",
   "execution_count": 10,
   "metadata": {},
   "outputs": [],
   "source": [
    "def fg_bg(x, inner=5, outter=7, bg_subtract=True):\n",
    "    midpoint = int(x.shape[-1] / 2)\n",
    "    inner_rad = int(inner / 2)\n",
    "    outter_rad = int(outter / 2)\n",
    "    inner_start = midpoint - inner_rad\n",
    "    inner_end = midpoint + inner_rad + 1\n",
    "    outter_start = midpoint - outter_rad\n",
    "    outter_end = midpoint + outter_rad + 1\n",
    "    means = []\n",
    "    for box in x:\n",
    "        inner_box = box[inner_start:inner_end]\n",
    "        if (bg_subtract):\n",
    "            outter_box = box[outter_start:outter_end]      \n",
    "            outter_mean = (np.sum(outter_box) - np.sum(inner_box)) / (outter_box.size - inner_box.size)\n",
    "            inner_mean = np.mean(inner_box)\n",
    "            bgsub_mean = inner_mean - outter_mean\n",
    "            means.append(bgsub_mean)\n",
    "        else:\n",
    "            means.append(np.mean(inner_box))\n",
    "    return means    "
   ]
  },
  {
   "cell_type": "code",
   "execution_count": 11,
   "metadata": {},
   "outputs": [],
   "source": [
    "# Process rpb1\n",
    "#(stackfiles, coordfiles, length_clean=5, zrad=1, length_box=9, channel=0):\n",
    "stackfiles=['/Users/michaelstadler/Bioinformatics/Projects/rpb1/data/20210224-rpb1gfp-eveMS2-em1-488-3pct-03.czi',\n",
    "           '/Users/michaelstadler/Bioinformatics/Projects/rpb1/data/20210224-rpb1gfp-eveMS2-em4-488-3pct-01.czi',\n",
    "           '/Users/michaelstadler/Bioinformatics/Projects/rpb1/data/20210224-rpb1gfp-eveMS2-em4-488-3pct-02.czi']\n",
    "\n",
    "coordfiles=['/Users/michaelstadler/Bioinformatics/Projects/rpb1/results/20210224-rpb1gfp-eveMS2-em1-488-3pct-03-clicks1.txt',\n",
    "           '/Users/michaelstadler/Bioinformatics/Projects/rpb1/results/20210224-rpb1gfp-eveMS2-em4-488-3pct-01-clicks1.txt',\n",
    "           '/Users/michaelstadler/Bioinformatics/Projects/rpb1/results/20210224-rpb1gfp-eveMS2-em4-488-3pct-02-clicks1.txt']\n",
    "rpb = process_spots(stackfiles, coordfiles, length_clean=5, zrad=1, length_box=13)"
   ]
  },
  {
   "cell_type": "code",
   "execution_count": 12,
   "metadata": {},
   "outputs": [],
   "source": [
    "# Process MCP mRNAs.\n",
    "#(stackfiles, coordfiles, length_clean=5, zrad=1, length_box=9, channel=0):\n",
    "stackfiles=['/Users/michaelstadler/Bioinformatics/Projects/rpb1/data/20210224-MCP-GFP-eveMS2-em10-488-3pct-02.czi',\n",
    "           '/Users/michaelstadler/Bioinformatics/Projects/rpb1/data/20210224-MCP-GFP-eveMS2-em14-488-3pct-01.czi',\n",
    "           '/Users/michaelstadler/Bioinformatics/Projects/rpb1/data/20210224-MCP-GFP-eveMS2-em14-488-3pct-02.czi',\n",
    "           '/Users/michaelstadler/Bioinformatics/Projects/rpb1/data/20210224-MCP-GFP-eveMS2-em14-488-3pct-03.czi']\n",
    "\n",
    "coordfiles=['/Users/michaelstadler/Bioinformatics/Projects/rpb1/results/20210224-MCP-GFP-eveMS2-em10-488-3pct-02-clicks1.txt',\n",
    "           '/Users/michaelstadler/Bioinformatics/Projects/rpb1/results/20210224-MCP-GFP-eveMS2-em14-488-3pct-01-clicks1.txt',\n",
    "           '/Users/michaelstadler/Bioinformatics/Projects/rpb1/results/20210224-MCP-GFP-eveMS2-em14-488-3pct-02-clicks1.txt',\n",
    "           '/Users/michaelstadler/Bioinformatics/Projects/rpb1/results/20210224-MCP-GFP-eveMS2-em14-488-3pct-03-clicks1.txt']\n",
    "mcp = process_spots(stackfiles, coordfiles, length_clean=5, zrad=1, length_box=13)"
   ]
  },
  {
   "cell_type": "code",
   "execution_count": 13,
   "metadata": {},
   "outputs": [],
   "source": [
    "# Process MCP txn sites.\n",
    "#(stackfiles, coordfiles, length_clean=5, zrad=1, length_box=9, channel=0):\n",
    "stackfiles=['/Users/michaelstadler/Bioinformatics/Projects/rpb1/data/20210224-MCP-GFP-eveMS2-em10-488-3pct-02.czi',\n",
    "           '/Users/michaelstadler/Bioinformatics/Projects/rpb1/data/20210224-MCP-GFP-eveMS2-em14-488-3pct-02.czi',\n",
    "           '/Users/michaelstadler/Bioinformatics/Projects/rpb1/data/20210224-MCP-GFP-eveMS2-em14-488-3pct-03.czi']\n",
    "\n",
    "coordfiles=['/Users/michaelstadler/Bioinformatics/Projects/rpb1/results/20210224-MCP-GFP-eveMS2-em10-488-3pct-02-txnsites-clicks1.txt',\n",
    "           '/Users/michaelstadler/Bioinformatics/Projects/rpb1/results/20210224-MCP-GFP-eveMS2-em14-488-3pct-02-txnsites-clicks1.txt',\n",
    "           '/Users/michaelstadler/Bioinformatics/Projects/rpb1/results/20210224-MCP-GFP-eveMS2-em14-488-3pct-03-txnsites-clicks1.txt']\n",
    "mcp_txn = process_spots(stackfiles, coordfiles, length_clean=5, zrad=3, length_box=13, nudge=False)"
   ]
  },
  {
   "cell_type": "code",
   "execution_count": 28,
   "metadata": {},
   "outputs": [
    {
     "data": {
      "application/vnd.jupyter.widget-view+json": {
       "model_id": "e56db43030b44e908c9da41b12b6f33d",
       "version_major": 2,
       "version_minor": 0
      },
      "text/plain": [
       "interactive(children=(Dropdown(description='Color', index=2, options=('gray_r', 'plasma', 'Greens', 'viridis',…"
      ]
     },
     "metadata": {},
     "output_type": "display_data"
    }
   ],
   "source": [
    "viewer(rpb, 6)"
   ]
  },
  {
   "cell_type": "code",
   "execution_count": 26,
   "metadata": {},
   "outputs": [
    {
     "data": {
      "image/png": "[encoded data removed]",
      "text/plain": [
       "<Figure size 864x432 with 2 Axes>"
      ]
     },
     "metadata": {
      "needs_background": "light"
     },
     "output_type": "display_data"
    }
   ],
   "source": [
    "# With background subtraction\n",
    "inner=5\n",
    "outter = 11\n",
    "means_mcp = fg_bg(mcp, inner=inner, outter=outter)\n",
    "means_mcp_txn = fg_bg(mcp_txn, inner=inner, outter=outter)\n",
    "means_rpb = fg_bg(rpb, inner=inner, outter=outter)\n",
    "plt.subplots(1,2, figsize=(12,6));\n",
    "plt.subplot(121)\n",
    "plt.boxplot([means_mcp, means_rpb, mcp_txn], showfliers=False, labels=['minor MS2','minor Rpb1','MS2 txn site'],notch=True);\n",
    "plt.ylabel('Intensity over background')\n",
    "plt.xticks(rotation=45);\n",
    "plt.subplot(122)\n",
    "plt.boxplot([means_mcp, means_rpb], showfliers=False, notch=True, labels=['minor MS2','minor Rpb1']);\n",
    "plt.xticks(rotation=45);"
   ]
  },
  {
   "cell_type": "markdown",
   "metadata": {},
   "source": [
    "### Kinetics of pol2 foci"
   ]
  },
  {
   "cell_type": "code",
   "execution_count": 55,
   "metadata": {},
   "outputs": [],
   "source": [
    "def spot_means_time(stack, coordfile, length_clean=5, zrad=1, length_box=9, channel=0, nudge=True, inner=5, outter=7, bg_subtract=True):\n",
    "    \n",
    "    def coords_to_array(coords):\n",
    "        arr = np.zeros((1,4))\n",
    "        for coord in coords:\n",
    "            arr = np.vstack((arr, [coord]))\n",
    "        return arr[1:].astype(int)\n",
    "       \n",
    "    coords_cleaned = clean_spot_clicks(stack[channel], coordfile, length=length_clean, zrad=zrad, nudge=nudge)\n",
    "    coords = coords_to_array(coords_cleaned)\n",
    "    t_min = np.min(coords[:,0])\n",
    "    t_max = np.max(coords[:,0])\n",
    "    means = np.zeros(t_max+1)\n",
    "    for t in range(t_min, t_max+1):\n",
    "        frame_coords = coords[coords[:,0] == t]\n",
    "        substack = make_substack_from_coords(stack[channel], frame_coords, length_box)\n",
    "        means[t] = np.mean(fg_bg(substack, inner=inner, outter=outter, bg_subtract=bg_subtract))\n",
    "    return means    \n"
   ]
  },
  {
   "cell_type": "code",
   "execution_count": 56,
   "metadata": {
    "scrolled": true
   },
   "outputs": [
    {
     "data": {
      "text/plain": [
       "array([14057.79555556,  7564.98666667,     0.        ])"
      ]
     },
     "execution_count": 56,
     "metadata": {},
     "output_type": "execute_result"
    }
   ],
   "source": [
    "stack = read_czi('/Users/michaelstadler/Bioinformatics/Projects/rpb1/data/20210224-MCP-GFP-eveMS2-em14-488-3pct-03.czi')\n",
    "coordfile = '/Users/michaelstadler/Bioinformatics/Projects/rpb1/results/testcoords.txt'\n",
    "spot_means_time(stack, coordfile)"
   ]
  },
  {
   "cell_type": "code",
   "execution_count": 58,
   "metadata": {},
   "outputs": [],
   "source": [
    "stack = read_czi('/Users/michaelstadler/Bioinformatics/Projects/rpb1/data/20200730-em1-zsmv-05.czi')"
   ]
  },
  {
   "cell_type": "code",
   "execution_count": 57,
   "metadata": {},
   "outputs": [],
   "source": [
    "%matplotlib notebook\n",
    "%matplotlib notebook"
   ]
  },
  {
   "cell_type": "code",
   "execution_count": 61,
   "metadata": {},
   "outputs": [],
   "source": [
    "#viewer(stack, figsize=6, coordfile='/Users/michaelstadler/Bioinformatics/Projects/rpb1/results/20200730-em1-zsmv-05-ms2.txt')"
   ]
  },
  {
   "cell_type": "code",
   "execution_count": 62,
   "metadata": {},
   "outputs": [],
   "source": [
    "mv = imp.load_pickle('/Users/michaelstadler/Bioinformatics/Projects/rpb1/results/20200730-em1-zsmv-05.pkl')"
   ]
  },
  {
   "cell_type": "code",
   "execution_count": 70,
   "metadata": {},
   "outputs": [
    {
     "data": {
      "text/plain": [
       "[<matplotlib.lines.Line2D at 0x7f9e79e8c910>]"
      ]
     },
     "execution_count": 70,
     "metadata": {},
     "output_type": "execute_result"
    },
    {
     "data": {
      "image/png": "[encoded data removed]",
      "text/plain": [
       "<Figure size 432x288 with 1 Axes>"
      ]
     },
     "metadata": {
      "needs_background": "light"
     },
     "output_type": "display_data"
    }
   ],
   "source": [
    "%matplotlib inline\n",
    "plt.plot(mv.intvol.mean(axis=1))"
   ]
  },
  {
   "cell_type": "code",
   "execution_count": 174,
   "metadata": {},
   "outputs": [],
   "source": [
    "def intvol_to_coordfile(df, coordfile):\n",
    "    with open(coordfile, 'w') as out:\n",
    "        out.write('#\\n')\n",
    "        for spot_id in df:\n",
    "            for row in df[spot_id]:\n",
    "                coords = row[[0,2,3,4]]\n",
    "                t,z,x,y = [str(x) for x in coords]\n",
    "                # Why are the X and Y coordinates switched?\n",
    "                out.write(t + '\\t' + z + '\\t' + x + '\\t' + y + '\\n')\n",
    "\n",
    "mv = load_pickle('/Users/michaelstadler/Bioinformatics/Projects/rpb1/results/20200730-em1-zsmv-05.pkl')\n",
    "intvol_to_coordfile(mv.spot_data, '/Users/michaelstadler/Bioinformatics/Projects/rpb1/results/20200730-em1-zsmv-05_spot_coords.txt')                "
   ]
  },
  {
   "cell_type": "code",
   "execution_count": 181,
   "metadata": {},
   "outputs": [
    {
     "name": "stderr",
     "output_type": "stream",
     "text": [
      "/Users/michaelstadler/opt/anaconda3/envs/im/lib/python3.8/site-packages/numpy/core/fromnumeric.py:3334: RuntimeWarning: Mean of empty slice.\n",
      "  return _methods._mean(a, axis=axis, dtype=dtype,\n",
      "/Users/michaelstadler/opt/anaconda3/envs/im/lib/python3.8/site-packages/numpy/core/_methods.py:161: RuntimeWarning: invalid value encountered in double_scalars\n",
      "  ret = ret.dtype.type(ret / rcount)\n"
     ]
    },
    {
     "data": {
      "text/plain": [
       "[<matplotlib.lines.Line2D at 0x7f9eb9927580>]"
      ]
     },
     "execution_count": 181,
     "metadata": {},
     "output_type": "execute_result"
    },
    {
     "data": {
      "image/png": "[encoded data removed]",
      "text/plain": [
       "<Figure size 432x288 with 1 Axes>"
      ]
     },
     "metadata": {
      "needs_background": "light"
     },
     "output_type": "display_data"
    }
   ],
   "source": [
    "stack = read_czi('/Users/michaelstadler/Bioinformatics/Projects/rpb1/data/20200730-em1-zsmv-05.czi')\n",
    "#def spot_means_time(stack, coordfile, length_clean=5, zrad=1, length_box=9, channel=0, nudge=True, inner=5, outter=7, bg_subtract=True):\n",
    "r = spot_means_time(stack, '/Users/michaelstadler/Bioinformatics/Projects/rpb1/results/20200730-em1-zsmv-05-rpb1-2.txt', channel=0, bg_subtract=True)\n",
    "m = spot_means_time(stack, '/Users/michaelstadler/Bioinformatics/Projects/rpb1/results/20200730-em1-zsmv-05_spot_coords.txt', channel=1, nudge=False, bg_subtract=True)\n",
    "\n",
    "\n",
    "\n",
    "\n",
    "\n",
    "\n",
    "plt.plot(m)\n",
    "plt.plot(r)"
   ]
  },
  {
   "cell_type": "code",
   "execution_count": 176,
   "metadata": {},
   "outputs": [
    {
     "data": {
      "text/plain": [
       "[<matplotlib.lines.Line2D at 0x7f9e82327730>]"
      ]
     },
     "execution_count": 176,
     "metadata": {},
     "output_type": "execute_result"
    },
    {
     "data": {
      "image/png": "[encoded data removed]",
      "text/plain": [
       "<Figure size 432x288 with 1 Axes>"
      ]
     },
     "metadata": {
      "needs_background": "light"
     },
     "output_type": "display_data"
    }
   ],
   "source": [
    "plt.plot(m)"
   ]
  },
  {
   "cell_type": "code",
   "execution_count": 163,
   "metadata": {},
   "outputs": [],
   "source": [
    "#Flip X and Y for bad clicked coordinate files.\n",
    "file = '/Users/michaelstadler/Bioinformatics/Projects/rpb1/results/20210224-MCP-GFP-eveMS2-em14-488-3pct-02-txnsites-clicks1.txt'\n",
    "outfile = '/Users/michaelstadler/Bioinformatics/Projects/rpb1/results/20210224-MCP-GFP-eveMS2-em14-488-3pct-02-txnsites-clicks1-2.txt'\n",
    "\n",
    "with open(file, 'r') as f:\n",
    "    with open(outfile, 'w') as out:\n",
    "        for line in f:\n",
    "            line = line.rstrip()\n",
    "            if (line[0] == '#'):\n",
    "                out.write(line + '\\n')\n",
    "            else:\n",
    "                t,z,y,x = line.split('\\t')\n",
    "                out.write(t + '\\t' + z + '\\t' + x + '\\t' + y + '\\n')"
   ]
  },
  {
   "cell_type": "markdown",
   "metadata": {},
   "source": [
    "### Reset\n",
    "\n",
    "I'm trying to do something pretty simple: compare the kinetics of Rpb1 foci to the kinetics of transcribed loci (measured via MS2). I've been trying to do this without tracking single Rpb1 foci, and instead using the average signal of all Rpb1 foci. I don't think this will work, for multiple reasons.\n",
    "\n",
    "I think it's going to require tracking both MS2 spots and Rpb1 spots and comparing their kinetics. Critical questions are:\n",
    "\n",
    "1. What is the time of onset of transcription vs. Rpb1 foci? The interesting result is if Rpb1 foci form before transcription, or if they achieve steady state intensity levels before this could be plausibly explained by elongating pol2 molecules. This will require correcting for MS2 signal lag.\n",
    "\n",
    "2. What is the rate of \"filling\" (reaching steady state) or the two kinds of structures? Pol2 can only initiate and elongate so fast, so if Rpb1 foci fill too fast, this would support a non-elongation component of polymerase clustering. The rate of reaching steady state is a function of the length of the transcript. The lacZ constructs are ~4 kb total (I think), while early-transcribed genes tend to be pretty short. I can't remember the eaverage length right but I want to say it's on the order of 1 kb. \n",
    "\n",
    "Some considerations:\n",
    "\n",
    "- It's possible different genes show different kinetics. Namely, it seems plausible that the strong early genes (like the dosage compensation machinery) might turn on quicker than genes like eve or Sna that act later. \n",
    "\n",
    "- A direct comparison with a strong early gene would be useful (using Victoria's MS2 lines).\n",
    "\n",
    "- This all interfaces well with quantifying the number of molecules in foci. \n",
    "\n",
    "- Early MS2 transcription clearly form on Rpb1 foci. Can that tell us anything? Perhaps quantifying the strength of these foci or tracking their growth?\n",
    "\n",
    "- DNase protection seems to show RNAP2 protecting 42-51 nt of DNA, so maximum density of ~20 per kb seems reasonable (this is assuming this kind of maximum packing is possible.\n",
    "\n",
    "## Plan\n",
    "\n",
    "After staring at movies, I now think the interesting thing to do is to look at pol2 blobs around MS2 dots as they just come on. A few interesting things about these I have come to appreciate. \n",
    "\n",
    "First, the pol2 blobs are awfully strong at the outset. Would need to quantify under matched imaging conditions, but I think these are certainly stronger than single MCP-labeled mRNAs, so perhaps ~40-100 GFPs. That seems like a lot for just the first 1 kb (enough to start seeing MS2 signal). There are some assumptions in there, but it just smells like there are too many pol2 molecules there too fast to just being elongating molecules.\n",
    "\n",
    "Second, the pol2 signal doesn't trace the MS2 signal. The MS2 signal starts out as a really small dot very close to or on top of a pol2 spot. With time, the MS2 signal spreads out and occupies a much larger space. We might expect to see the pol2 signal do something similar, spreading out to fill a larger space with similar intensity, but we don't see that. The association between MS2 signal and pol2 signal becomes much weaker, and I would generally say that there's a relatively weak pol2 enrichment underneath the MS2 signal. What does this mean? Is it a phenomenon of hte locus decompacting as it is transcribed (totally possible), so that the same number of (elongating) pol2 molecules are spread over a larger space, giving a weaker signal? Is it that the longer transcripts fan out some in the nucleoplasm so that the area covered by the MS2 signal is much larger than the DNA footprint of the gene, and we just aren't seeing where it is? Or is it that the pol2 focus is not elongating molecules, but is instead some buildup of pol2 at the promoter associated with initiation of transcription (initiation as in kicking of transcrpition from this locus during this nuclear cycle) that dissipates over time? This is certainly consistent with what we see: transcription starts on a strong pol2 focus and by the time transcription is mature no such focus is reliably found. However the decompaction is a plausible worry here. Also in the early cycles I worry about the fact that prophase starts so early. By the time transcription has ramped up we are into prophase which could be affecting things (though it's hard to see why a model in which we are seeing elongating pol2 molecules would give a different signal). For this reason looking at transcription turn-on in nc13 and nc14 might be optimal.\n",
    "\n",
    "Third, related to the above, is an observation that I have unfortunately not given its due: the early MS2 transcription spots often don't directly overlap the Rpb1 foci, but are in fact right next to them. We could do the math, but intuitively, it looks quite plausible that they are always spatially distinct and the cases of pure overlap result from the two spots being rotated so they are ovelapping in the lateral plane and separated (below instrument resolution) in the axial direction. What does this mean? It's a little hard to figure, unfortunately. One of the issues is that with MCP we are labeling hte MS2 loops at the 5' of nascent transcripts, and God only knows where they go. Do they stay close to the site of transcription or flare out away from the locus? The stem loops themselves are of course folded, so I'm guessing that the 5' region is pretty compact. It's just hard to know how far the MS2 signal from transcripts will be from the polymerases that are transcribing them.\n",
    "\n",
    "I think the path forward is to track the early spots and make spot-centered movies. First, visually observe what happens around them. I'm interested in the idea of doing some kind of averaged position thing, fixing the relative orientation of protein and MS2 signals and getting an average. Not sure how that will work."
   ]
  },
  {
   "cell_type": "code",
   "execution_count": 221,
   "metadata": {},
   "outputs": [],
   "source": [
    "mv = load_pickle('/Users/michaelstadler/Bioinformatics/Projects/rpb1/results/20200729-rpb1-Hb-em1-zsmv-03.pkl')\n",
    "prot = imp.spot_movies(mv.stack, mv.spot_data, fill=0, channel=0, view=False, len_z=3, len_ij=81)\n",
    "ms2 = imp.spot_movies(mv.stack, mv.spot_data, fill=0, channel=1, view=False,len_z=3, len_ij=81)"
   ]
  },
  {
   "cell_type": "code",
   "execution_count": 222,
   "metadata": {},
   "outputs": [
    {
     "data": {
      "application/vnd.jupyter.widget-view+json": {
       "model_id": "f61b56426f334eff8eaec787e24016fb",
       "version_major": 2,
       "version_minor": 0
      },
      "text/plain": [
       "interactive(children=(Dropdown(description='Color', index=2, options=('gray_r', 'plasma', 'Greens', 'viridis',…"
      ]
     },
     "metadata": {},
     "output_type": "display_data"
    }
   ],
   "source": [
    "viewer([ms2.max(axis=2) * 3, prot.max(axis=2)], order='stxy', figsize=5)"
   ]
  },
  {
   "cell_type": "code",
   "execution_count": 224,
   "metadata": {},
   "outputs": [
    {
     "data": {
      "application/vnd.jupyter.widget-view+json": {
       "model_id": "53b17c4861f3497caab892a500203816",
       "version_major": 2,
       "version_minor": 0
      },
      "text/plain": [
       "interactive(children=(Dropdown(description='Color', index=2, options=('gray_r', 'plasma', 'Greens', 'viridis',…"
      ]
     },
     "metadata": {},
     "output_type": "display_data"
    }
   ],
   "source": [
    "viewer([ms2 * 3, prot], order='stzxy', figsize=5)"
   ]
  },
  {
   "cell_type": "markdown",
   "metadata": {},
   "source": [
    "Spot 17 is a great one.\n",
    "\n",
    "An idea is forming. In later stages, transcribed loci are just too dense. But in the early cycles, we have a tremendous advantage, which is that the transcribed loci are sparse enough for us to actually make them out. Much like single molecule imaging, sparseness is our friend. So first, focus on the early cycles!\n",
    "\n",
    "Second: we can see structure to these loci. Levine has already demonstrated this, and I think it's clear that we see structure. Early MS2 spots look like little balls, but as the spots grow (transcripts spread along gene body), the illuminated structure becomes long and skinny (relatively). But it doesn't always appear that way because of the angle--it is presumably rotated relative to the imaging axis in a random way so that you only see the oblong nature when its situated in the XY plane. The thing that's fun about this is maybe we can do a cryo-EM-like thing and use average of MS2 and Rpb1 signals to build a picture of these loci. Could be a pipe dream, but sounds fun. Could also motivate better imaging modalities. \n",
    "\n",
    "Also worth saying that the thing motivating this is that I *__think__* that we are seeing a blob of pol2 around the promoter and not on the gene body, but this is enormously speculative at the moment. "
   ]
  },
  {
   "cell_type": "markdown",
   "metadata": {},
   "source": [
    "### Looking at shapes of MS2 spots"
   ]
  },
  {
   "cell_type": "code",
   "execution_count": 4,
   "metadata": {},
   "outputs": [],
   "source": [
    "mv = imp.load_pickle('/Users/michaelstadler/Bioinformatics/Projects/rpb1/results/20180915-rpb1-eve-em4-zsmv-04-06.pkl')"
   ]
  },
  {
   "cell_type": "code",
   "execution_count": 5,
   "metadata": {},
   "outputs": [],
   "source": [
    "ms2 = imp.spot_movies(mv.stack, mv.spot_data, len_ij=51, view=False, fill=0, channel=1)\n",
    "prot = imp.spot_movies(mv.stack, mv.spot_data, len_ij=51, view=False, fill=0, channel=0)"
   ]
  },
  {
   "cell_type": "code",
   "execution_count": 6,
   "metadata": {},
   "outputs": [
    {
     "data": {
      "application/vnd.jupyter.widget-view+json": {
       "model_id": "217ce5c589b1409dba250e5443080138",
       "version_major": 2,
       "version_minor": 0
      },
      "text/plain": [
       "interactive(children=(Dropdown(description='Color', index=2, options=('plasma', 'Reds', 'cividis', 'prism', 'g…"
      ]
     },
     "metadata": {},
     "output_type": "display_data"
    }
   ],
   "source": [
    "a=ms2[:,:,2:5].max(axis=2)\n",
    "b=ms2[:,:,2:5].mean(axis=2)\n",
    "viewer([a, b * np.mean(a) / np.mean(b)], color='cividis',order='ctxy', figsize=6)"
   ]
  },
  {
   "cell_type": "markdown",
   "metadata": {},
   "source": [
    "Can we classify spots by shape? \n",
    "\n",
    "OK what if I mask the spots and look at pol2 distributions within them?"
   ]
  },
  {
   "cell_type": "code",
   "execution_count": 7,
   "metadata": {},
   "outputs": [
    {
     "data": {
      "application/vnd.jupyter.widget-view+json": {
       "model_id": "1e6fdbe106f641828901d0096cc3824e",
       "version_major": 2,
       "version_minor": 0
      },
      "text/plain": [
       "interactive(children=(Dropdown(description='Color', index=2, options=('plasma', 'Reds', 'cividis', 'prism', 'g…"
      ]
     },
     "metadata": {},
     "output_type": "display_data"
    }
   ],
   "source": [
    "b=ms2[:,:,2:5].mean(axis=2)\n",
    "c=prot[:,:,2:5].mean(axis=2)\n",
    "t = 1000\n",
    "sigma=1\n",
    "b_smooth = ndi.gaussian_filter(b, sigma=[0,0,sigma,sigma])\n",
    "mask = np.where(b_smooth > t, 1, 0)\n",
    "#Astruct = np.zeros(1,)\n",
    "mask = ndi.morphology.binary_erosion(mask, structure=np.ones((1,1,2,2)))\n",
    "mask = ndi.morphology.binary_dilation(mask, structure=np.ones((1,1,3,3)))\n",
    "b_masked = np.where(mask, b, 0)\n",
    "c_masked = np.where(mask, c, 0)\n",
    "c_masked = c_masked * np.mean(b_masked) / np.mean(c_masked)\n",
    "viewer([b_masked, c_masked], color='cividis', figsize=5)"
   ]
  },
  {
   "cell_type": "markdown",
   "metadata": {},
   "source": [
    "## Zelda enrichment at eve in homozygotes\n",
    "\n",
    "I took some data from early cycles with mNeon-Zelda as a homozygote (all previous attempts at this experiment were in hets). Ran them throuhg the spot finding code, going to do enrichment analysis. By eye, a little hard to say, but it does seem like just as spots come on they are near Zelda blobs. The issue is that Zelda blobs are not as sparse as pol2 blobs, so the enrichment is hard to see. The following analyses are not restricted to \"just coming on\" dots but all dots in the movies."
   ]
  },
  {
   "cell_type": "code",
   "execution_count": 3,
   "metadata": {},
   "outputs": [],
   "source": [
    "mv1 = load_pickle('/Users/michaelstadler/Bioinformatics/Projects/rpb1/results/20210212-mneonzld-eveBAC-em2-zsmv-06.pkl')\n",
    "mv2 = load_pickle('/Users/michaelstadler/Bioinformatics/Projects/rpb1/results/20210212-mneonzld-eveBAC-em2-zsmv-05.pkl')"
   ]
  },
  {
   "cell_type": "code",
   "execution_count": 13,
   "metadata": {},
   "outputs": [],
   "source": [
    "ms2_1 = imp.spot_movies(mv1.stack, mv1.spot_data, len_ij=31, view=False, fill=0, channel=1)\n",
    "prot_1 = imp.spot_movies(mv1.stack, mv1.spot_data, len_ij=31, view=False, fill=0, channel=0)\n",
    "\n",
    "ms2_2 = imp.spot_movies(mv2.stack, mv2.spot_data, len_ij=31, view=False, fill=0, channel=1)\n",
    "prot_2 = imp.spot_movies(mv2.stack, mv2.spot_data, len_ij=31, view=False, fill=0, channel=0)"
   ]
  },
  {
   "cell_type": "code",
   "execution_count": 16,
   "metadata": {},
   "outputs": [
    {
     "data": {
      "application/vnd.jupyter.widget-view+json": {
       "model_id": "267a8224d33c41c3a6161ec2a366ee3c",
       "version_major": 2,
       "version_minor": 0
      },
      "text/plain": [
       "interactive(children=(Dropdown(description='Color', options=('Greens', 'cividis', 'prism', 'viridis', 'gray', …"
      ]
     },
     "metadata": {},
     "output_type": "display_data"
    }
   ],
   "source": [
    "viewer(prot_1[1:,:,2:5].sum(axis=(0,1,2)), figsize=5)"
   ]
  },
  {
   "cell_type": "code",
   "execution_count": 21,
   "metadata": {},
   "outputs": [
    {
     "name": "stdout",
     "output_type": "stream",
     "text": [
      "2298\n",
      "7128\n"
     ]
    }
   ],
   "source": [
    "# Counting non-zero frames.\n",
    "e=prot_2[1:,:,2:5].mean(axis=(3,4))\n",
    "print(np.count_nonzero(e))\n",
    "print(len(e.flatten()))"
   ]
  },
  {
   "cell_type": "code",
   "execution_count": 20,
   "metadata": {},
   "outputs": [
    {
     "data": {
      "application/vnd.jupyter.widget-view+json": {
       "model_id": "f07d5fde91584db896acaaa2d20daacd",
       "version_major": 2,
       "version_minor": 0
      },
      "text/plain": [
       "interactive(children=(Dropdown(description='Color', options=('Greens', 'cividis', 'prism', 'viridis', 'gray', …"
      ]
     },
     "metadata": {},
     "output_type": "display_data"
    }
   ],
   "source": [
    "viewer(prot_1[1:,:,2:5].sum(axis=(0,1,2)) / 641, figsize=5)"
   ]
  },
  {
   "cell_type": "code",
   "execution_count": 25,
   "metadata": {},
   "outputs": [
    {
     "data": {
      "application/vnd.jupyter.widget-view+json": {
       "model_id": "5ace12d0cd1e49eb8c5496c800e5c05a",
       "version_major": 2,
       "version_minor": 0
      },
      "text/plain": [
       "interactive(children=(Dropdown(description='Color', options=('Greens', 'cividis', 'prism', 'viridis', 'gray', …"
      ]
     },
     "metadata": {},
     "output_type": "display_data"
    }
   ],
   "source": [
    "viewer(prot_2[1:,:,2:5].sum(axis=(0,1,2)) / 2298, figsize=5)"
   ]
  },
  {
   "cell_type": "code",
   "execution_count": 28,
   "metadata": {},
   "outputs": [
    {
     "data": {
      "application/vnd.jupyter.widget-view+json": {
       "model_id": "fab8d7bbb7e24fc1af571971f0fb4c56",
       "version_major": 2,
       "version_minor": 0
      },
      "text/plain": [
       "interactive(children=(Dropdown(description='Color', options=('Greens', 'cividis', 'prism', 'viridis', 'gray', …"
      ]
     },
     "metadata": {},
     "output_type": "display_data"
    }
   ],
   "source": [
    "viewer((prot_1[1:,:,2:5].sum(axis=(0,1,2)) + prot_2[1:,:,2:5].sum(axis=(0,1,2)))/ (641+2298), figsize=5)"
   ]
  },
  {
   "cell_type": "markdown",
   "metadata": {},
   "source": [
    "#### Zelda conclusions\n",
    "\n",
    "Well, that's a pretty strong enrichment signal. In fact, it looks a lot like what I've seen for other factors. A couple more experiments worth doing:\n",
    "\n",
    "- Zelda enrichment at other genes (Snail, Hb, dosage compensation).\n",
    "- Zelda at MS2 spots in nc14."
   ]
  },
  {
   "cell_type": "markdown",
   "metadata": {},
   "source": [
    "## Thoughts\n",
    "\n",
    "I have a number of threads going at the moment. To enumerate:\n",
    "\n",
    "- Homozygous Zelda enrichment\n",
    "- Quantitation of Rpb1 foci (and perhaps Zelda foci?)\n",
    "- Kinetics of Rpb1 foci vis-a-vis MS2 spots\n",
    "- Structure of loci\n",
    "\n",
    "There are some experiments we could do for each:\n",
    "\n",
    "1. Homozygous Zelda enrichment\n",
    "    - Look at other loci, preferentially in nc12, 13, and 14     \n",
    "    \n",
    "2. Quantitation of Rpb1 foci\n",
    "    - Get additional standards (lacO, Meghan's 60-mers)  \n",
    "\n",
    "3. Kinetics of Rpb1 foci\n",
    "    - Potentially more high-speed movies of Rpb1 and MS2 spots together  \n",
    "    \n",
    "4. Structure\n",
    "    - Try continous mode high-speed single spot with airyscan.  \n",
    "    \n",
    "    \n",
    "##### Analysis?\n",
    "\n",
    "Where are we on analysis? I think a next step would be to take a look at segmenting airyscan spots."
   ]
  },
  {
   "cell_type": "code",
   "execution_count": null,
   "metadata": {},
   "outputs": [],
   "source": []
  }
 ],
 "metadata": {
  "kernelspec": {
   "display_name": "Python (im)",
   "language": "python",
   "name": "im"
  },
  "language_info": {
   "codemirror_mode": {
    "name": "ipython",
    "version": 3
   },
   "file_extension": ".py",
   "mimetype": "text/x-python",
   "name": "python",
   "nbconvert_exporter": "python",
   "pygments_lexer": "ipython3",
   "version": "3.8.3"
  }
 },
 "nbformat": 4,
 "nbformat_minor": 4
}
