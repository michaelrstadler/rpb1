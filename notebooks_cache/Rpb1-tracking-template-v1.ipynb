{
 "cells": [
  {
   "cell_type": "code",
   "execution_count": 1,
   "metadata": {},
   "outputs": [],
   "source": [
    "# Import public packages.\n",
    "import numpy as np\n",
    "import matplotlib.pyplot as plt\n",
    "import pandas as pd\n",
    "from scipy import ndimage as ndi \n",
    "from importlib import reload\n",
    "import skimage as ski\n",
    "import pickle\n",
    "import czifile\n",
    "\n",
    "# The order of loading matplotlib is important to avoid issues on my machine.\n",
    "%matplotlib inline\n",
    "import matplotlib as mpl\n",
    "#%matplotlib notebook\n",
    "#%matplotlib notebook\n",
    "\n",
    "# Import my packages.\n",
    "import sys\n",
    "sys.path.append('/Users/michaelstadler/Bioinformatics/Projects/rpb1/bin')\n",
    "import imagep as imp\n",
    "reload(imp)\n",
    "from imagep import viewer, save_pickle, load_pickle, box_spots, read_czi"
   ]
  },
  {
   "cell_type": "code",
   "execution_count": 2,
   "metadata": {},
   "outputs": [],
   "source": [
    "from fitting import fitgaussian3d, gaussian3d\n",
    "from imagep import get_object_centroid, clamp, labelmask_filter_objsize, relabel_labelmask\n",
    "\n",
    "def fit_objects_from_mask(stack, mask, fitwindow_rad_xy=10, fitwindow_rad_z=2):  \n",
    "    def get_fitwindow(data, peak, xy_rad, z_rad):\n",
    "        \"\"\"Retrieve section of image stack corresponding to given\n",
    "        window around a point and the coordinate adjustments necessary\n",
    "        to convert window coordinates to coordinates in the original image\"\"\"\n",
    "        \n",
    "        # Set the start points for windows and \"adjust\" them if they get \n",
    "        # to negative numbers.\n",
    "        zmin = peak[0] - z_rad\n",
    "        xmin = peak[1] - xy_rad\n",
    "        ymin = peak[2] - xy_rad\n",
    "        # Initialize adjustments to values that are correct if no edge problems \n",
    "        # are encountered.\n",
    "        z_adj = -z_rad\n",
    "        x_adj = -xy_rad\n",
    "        y_adj = -xy_rad\n",
    "        # Update mins and adjustments if windows start at negative coordinates.\n",
    "        if (zmin < 0):\n",
    "            zmin = 0\n",
    "            z_adj = -peak[0]\n",
    "        if (xmin < 0):\n",
    "            xmin = 0\n",
    "            x_adj = -peak[1]\n",
    "        if (ymin < 0):\n",
    "            ymin = 0\n",
    "            y_adj = -peak[2]\n",
    "\n",
    "        # Get end points, constained by max coordinate in data.\n",
    "        zmax = min(data.shape[0] - 1, peak[0] + z_rad)\n",
    "        xmax = min(data.shape[1] - 1, peak[1] + xy_rad)\n",
    "        ymax = min(data.shape[2] - 1, peak[2] + xy_rad)\n",
    "\n",
    "        return (data[zmin:(zmax+1), xmin:(xmax+1), ymin:(ymax+1)], z_adj, x_adj, y_adj)\n",
    "    \n",
    "    def get_centroids(labelmask):\n",
    "        centroids = []\n",
    "        for id_ in np.unique(labelmask):\n",
    "            centroids.append(get_object_centroid(labelmask, id_))\n",
    "        return centroids\n",
    "    \n",
    "    def fit_frame(substack, submask):\n",
    "        labelmask = ndi.label(submask)[0]\n",
    "        peaks = get_centroids(labelmask)\n",
    "        \n",
    "        # Fit 3D gaussian in window surrounding each local maximum.\n",
    "        fitparams = np.ndarray((0,7))\n",
    "        for peak in peaks:\n",
    "            fitwindow, z_adj, x_adj, y_adj = get_fitwindow(substack, peak, fitwindow_rad_xy, \n",
    "                fitwindow_rad_z)\n",
    "            opt = fitgaussian3d(fitwindow)\n",
    "            if opt.success:\n",
    "                peak_fitparams = opt.x\n",
    "                # Move center coordinates to match center of gaussian fit, ensure they're within image. \n",
    "                # If they're outside the image, coordinate is assigned as the edge of the image.\n",
    "                peak_fitparams[0] = int(round(clamp((peak[0] + peak_fitparams[0] + z_adj), 0, substack.shape[-3]-1)))\n",
    "                peak_fitparams[1] = int(round(clamp((peak[1] + peak_fitparams[1] + x_adj), 0, substack.shape[-2]-1)))\n",
    "                peak_fitparams[2] = int(round(clamp((peak[2] + peak_fitparams[2] + y_adj), 0, substack.shape[-1]-1)))\n",
    "                fitparams = np.vstack((fitparams, peak_fitparams))\n",
    "            # If fit fails, add dummy entry for spot.\n",
    "            else:\n",
    "                fitparams = np.vstack((fitparams, np.array([z_adj,x_adj,y_adj,0,np.inf,np.inf,np.inf])))\n",
    "        return fitparams\n",
    "    \n",
    "    fit_data = []\n",
    "    for t in range(0, stack.shape[0]):\n",
    "        print(t)\n",
    "        fit_data.append(fit_frame(stack[t], mask[t]))\n",
    "    \n",
    "    return fit_data\n",
    "\n",
    "def fits_adjust_nucmovement(labelmask, fits):\n",
    "    num_objects = len(np.unique(labelmask))\n",
    "    num_frames = labelmask.shape[0]\n",
    "    positions = np.empty((2, num_objects, num_frames))\n",
    "    positions[:] = np.nan\n",
    "    for f in range(0, num_frames):\n",
    "        labels = np.unique(labelmask[f])\n",
    "        for label in labels:\n",
    "            centroid = get_object_centroid(labelmask[f], label)\n",
    "            x,y = centroid[-2:]\n",
    "            positions[0, label, f] = x\n",
    "            positions[1, label, f] = y\n",
    "    \n",
    "    mean_changes = np.zeros((2, positions.shape[2]))\n",
    "    for pos in range(0,2):\n",
    "        for col in range(1, positions.shape[2]):\n",
    "            changes = positions[pos,:,col] - positions[pos,:,0]\n",
    "            mean = int(np.nanmean(changes))\n",
    "            mean_changes[pos, col] = mean\n",
    "    x_adjustments = mean_changes[0]\n",
    "    y_adjustments = mean_changes[1]\n",
    "    #return mean_changes\n",
    "    \n",
    "    fits_adj = []\n",
    "    fits_adj.append(fits[0])\n",
    "    for f in range(1, len(fits)):\n",
    "        adj = fits[f].copy()            \n",
    "        adj[:,1] = adj[:,1] - x_adjustments[f]\n",
    "        adj[:,2] = adj[:,2] - y_adjustments[f]\n",
    "        fits_adj.append(adj)\n",
    "    return fits_adj, x_adjustments, y_adjustments\n",
    "\n",
    "def revert_nucmovement_adjustments(spot_data, x_adjustments, y_adjustments):\n",
    "    spot_data_r = {}\n",
    "    for spot_id in spot_data.keys():\n",
    "        arr = spot_data[spot_id].copy()\n",
    "        for i in range(0, spot_data[spot_id].shape[0]):\n",
    "            #3,4\n",
    "            t = int(spot_data[spot_id][i,0])\n",
    "            x_adjustment, y_adjustment = x_adjustments[t], y_adjustments[t]\n",
    "            arr[i,3] = arr[i,3] + x_adjustment\n",
    "            arr[i,4] = arr[i,4] + y_adjustment\n",
    "        spot_data_r[spot_id] = arr\n",
    "    return spot_data_r\n",
    "\n",
    "def segment_nuclei3D_simple(substack, sigma=3, size_min=0, size_max=np.inf):\n",
    "    sm = ndi.gaussian_filter(substack, sigma)\n",
    "    t = ski.filters.thresholding.threshold_otsu(sm)\n",
    "    mask = np.where(sm >= t, 1, 0)\n",
    "    labelmask, _ = ndi.label(mask)\n",
    "    labelmask = labelmask_filter_objsize(labelmask, size_min, size_max)\n",
    "    return labelmask"
   ]
  },
  {
   "cell_type": "code",
   "execution_count": 3,
   "metadata": {},
   "outputs": [],
   "source": [
    "# Find spots by thresholding and fit.\n",
    "stack = read_czi('/Users/michaelstadler/Bioinformatics/Projects/rpb1/data/Dots_coming_on/20210309-Rpb1GFP-HbMS2-em1-zsmv-02.czi', trim=True)\n",
    "\n",
    "channel=0\n",
    "sigma_big = 3\n",
    "sigma_small = 1\n",
    "\n",
    "stack_ch0 = stack[channel]\n",
    "dog = imp.dog_filter(stack_ch0, [0,0,sigma_small,sigma_small],[0,0,sigma_big,sigma_big])"
   ]
  },
  {
   "cell_type": "code",
   "execution_count": 4,
   "metadata": {},
   "outputs": [
    {
     "data": {
      "application/vnd.jupyter.widget-view+json": {
       "model_id": "f61b62d2089c472a9e9004eb0d4d8b83",
       "version_major": 2,
       "version_minor": 0
      },
      "text/plain": [
       "interactive(children=(Dropdown(description='Color', index=6, options=('cividis', 'Reds', 'viridis', 'magma', '…"
      ]
     },
     "metadata": {},
     "output_type": "display_data"
    }
   ],
   "source": [
    "# Pick threshold\n",
    "viewer(dog)"
   ]
  },
  {
   "cell_type": "code",
   "execution_count": 82,
   "metadata": {},
   "outputs": [
    {
     "data": {
      "application/vnd.jupyter.widget-view+json": {
       "model_id": "000324cf05a24223a5a008d97298bff2",
       "version_major": 2,
       "version_minor": 0
      },
      "text/plain": [
       "interactive(children=(Dropdown(description='Color', options=('cividis', 'Reds', 'viridis', 'magma', 'prism', '…"
      ]
     },
     "metadata": {},
     "output_type": "display_data"
    }
   ],
   "source": [
    "# Refine threshold.\n",
    "t=3000\n",
    "mask = np.where(dog >= t, 1, 0)\n",
    "viewer([np.where(dog >0,dog,0), mask * np.max(dog)], color='cividis', figsize=18)"
   ]
  },
  {
   "cell_type": "code",
   "execution_count": 83,
   "metadata": {},
   "outputs": [
    {
     "name": "stdout",
     "output_type": "stream",
     "text": [
      "0\n",
      "1\n",
      "2\n",
      "3\n",
      "4\n",
      "5\n",
      "6\n",
      "7\n",
      "8\n",
      "9\n",
      "10\n",
      "11\n",
      "12\n",
      "13\n",
      "14\n",
      "15\n",
      "16\n",
      "17\n",
      "18\n",
      "19\n",
      "20\n",
      "21\n",
      "22\n",
      "23\n",
      "24\n",
      "25\n",
      "26\n",
      "27\n",
      "28\n",
      "29\n",
      "30\n",
      "31\n",
      "32\n",
      "33\n",
      "34\n",
      "35\n",
      "36\n",
      "37\n",
      "38\n",
      "39\n",
      "40\n",
      "41\n",
      "42\n",
      "43\n",
      "44\n",
      "45\n",
      "46\n",
      "47\n",
      "48\n",
      "49\n",
      "50\n",
      "51\n",
      "52\n"
     ]
    }
   ],
   "source": [
    "fits = fit_objects_from_mask(stack_ch0, mask, fitwindow_rad_z=3, fitwindow_rad_xy=3)"
   ]
  },
  {
   "cell_type": "code",
   "execution_count": 84,
   "metadata": {},
   "outputs": [
    {
     "name": "stderr",
     "output_type": "stream",
     "text": [
      "/Users/michaelstadler/Bioinformatics/Projects/rpb1/bin/imagep.py:2192: RuntimeWarning: divide by zero encountered in log\n",
      "  spot_peakiness = np.log(peak_heights / xy_width_means)\n"
     ]
    },
    {
     "data": {
      "application/vnd.jupyter.widget-view+json": {
       "model_id": "5a73b8b052734b0bb0b10d8d203fea3e",
       "version_major": 2,
       "version_minor": 0
      },
      "text/plain": [
       "interactive(children=(Dropdown(description='Color', options=('cividis', 'Reds', 'viridis', 'magma', 'prism', '…"
      ]
     },
     "metadata": {},
     "output_type": "display_data"
    }
   ],
   "source": [
    "fits_f = imp.filter_ms2fits(fits, 6.5)\n",
    "imp.quickview_ms2(stack, fits_f, MAX=True, figsize=15)"
   ]
  },
  {
   "cell_type": "code",
   "execution_count": 85,
   "metadata": {},
   "outputs": [
    {
     "name": "stdout",
     "output_type": "stream",
     "text": [
      "1 2 3 4 5 6 7 8 9 10 11 12 13 14 15 16 17 18 19 20 21 22 23 24 25 26 27 28 29 30 31 32 33 34 35 36 37 38 39 40 41 42 43 44 45 46 47 48 49 50 51 52 \n",
      "1 2 3 4 5 6 7 8 9 10 11 12 13 14 15 16 17 18 19 20 21 22 23 24 25 26 27 28 29 30 31 32 33 34 35 36 37 38 39 40 41 42 43 44 45 46 47 48 49 50 51 52 \n"
     ]
    }
   ],
   "source": [
    "# Get nuclear movements.\n",
    "nucmask_init = imp.segment_nuclei_4dstack(stack_ch0, segment_nuclei3D_simple, size_min=1e4)\n",
    "nucmask = imp.connect_nuclei(nucmask_init)\n",
    "nucmask = relabel_labelmask(nucmask)\n",
    "fits_adj, x_adjustments, y_adjustments = fits_adjust_nucmovement(nucmask, fits_f)"
   ]
  },
  {
   "cell_type": "code",
   "execution_count": 101,
   "metadata": {},
   "outputs": [
    {
     "name": "stdout",
     "output_type": "stream",
     "text": [
      "1 2 3 4 5 6 7 8 9 10 11 12 13 14 15 16 17 18 19 20 21 22 23 24 25 26 27 28 29 30 31 32 33 34 35 36 37 38 39 40 41 42 43 44 45 46 47 48 49 50 51 52 "
     ]
    }
   ],
   "source": [
    "#spots_connected = imp.connect_ms2_frames(fits_adj, nucmask, scale_xy=85, scale_z=1840/8, max_jump=850, max_frame_gap=0)\n",
    "spots_connected = imp.connect_ms2_frames(fits_adj, nucmask, scale_xy=1, scale_z=1, max_jump=10, max_frame_gap=1)\n",
    "spots_connected = revert_nucmovement_adjustments(spots_connected, x_adjustments, y_adjustments)"
   ]
  },
  {
   "cell_type": "code",
   "execution_count": 118,
   "metadata": {},
   "outputs": [
    {
     "name": "stdout",
     "output_type": "stream",
     "text": [
      "18\n"
     ]
    }
   ],
   "source": [
    "min_len = 15\n",
    "\n",
    "# Filter for trajectory length.\n",
    "spot_data = imp.filter_spot_duration(spots_connected, min_len)\n",
    "print(len(spot_data))"
   ]
  },
  {
   "cell_type": "code",
   "execution_count": 175,
   "metadata": {},
   "outputs": [
    {
     "name": "stdout",
     "output_type": "stream",
     "text": [
      "10 "
     ]
    }
   ],
   "source": [
    "# Add integration from mean fluorescent signal.\n",
    "ij_rad = 4\n",
    "z_rad = 1\n",
    "ij_scale = 1\n",
    "z_scale = 1\n",
    "spotchannel=0\n",
    "\n",
    "spot_data2 = imp.add_volume_mean(spot_data, stack, spotchannel, ij_rad, z_rad, ij_scale, z_scale)"
   ]
  },
  {
   "cell_type": "code",
   "execution_count": 176,
   "metadata": {},
   "outputs": [],
   "source": [
    "# Add integration from gaussian fit.\n",
    "wlength_ij = 13\n",
    "wlength_z = 3\n",
    "reload(imp)\n",
    "spot_data3 = imp.add_gaussian_integration(spot_data2, wlength_ij, wlength_z)"
   ]
  },
  {
   "cell_type": "code",
   "execution_count": 177,
   "metadata": {},
   "outputs": [],
   "source": [
    "intvol = imp.movie.make_spot_table(spot_data3, nucmask, 9)\n",
    "intgauss = imp.movie.make_spot_table(spot_data3, nucmask, 10)"
   ]
  },
  {
   "cell_type": "code",
   "execution_count": 106,
   "metadata": {},
   "outputs": [],
   "source": [
    "z_min = 2\n",
    "z_max = 4\n",
    "x_min = 50\n",
    "x_max = 170\n",
    "y_min = 50\n",
    "y_max = 874\n",
    "centery_spots = {}\n",
    "spot_count = 1\n",
    "for spot_id in spot_data.keys():\n",
    "    mean_z = np.mean(spot_data[spot_id][:,2])\n",
    "    mean_x = np.mean(spot_data[spot_id][:,3])\n",
    "    mean_y = np.mean(spot_data[spot_id][:,4])\n",
    "    if ((mean_z >= z_min) and (mean_z <= z_max) and\n",
    "        (mean_x >= x_min) and (mean_x <= x_max) and\n",
    "        (mean_y >= y_min) and (mean_y <= y_max)):\n",
    "        #centery_spots[spot_count] = spot_data[spot_id].copy()\n",
    "        centery_spots[spot_id] = spot_data[spot_id].copy()\n",
    "        spot_count += 1\n",
    "    "
   ]
  },
  {
   "cell_type": "code",
   "execution_count": 151,
   "metadata": {},
   "outputs": [
    {
     "data": {
      "text/plain": [
       "array([18, 19, 30, 15, 17, 23, 21, 22, 20, 18, 18, 23, 15, 17, 17, 16, 16,\n",
       "       16])"
      ]
     },
     "execution_count": 151,
     "metadata": {},
     "output_type": "execute_result"
    }
   ],
   "source": [
    "np.count_nonzero(~np.isnan(intvol), axis=0)"
   ]
  },
  {
   "cell_type": "code",
   "execution_count": 196,
   "metadata": {},
   "outputs": [
    {
     "data": {
      "application/vnd.jupyter.widget-view+json": {
       "model_id": "e084a2e136644150b9909dfd88e17060",
       "version_major": 2,
       "version_minor": 0
      },
      "text/plain": [
       "interactive(children=(Dropdown(description='Color', options=('cividis', 'Reds', 'viridis', 'magma', 'prism', '…"
      ]
     },
     "metadata": {},
     "output_type": "display_data"
    }
   ],
   "source": [
    "imp.quickview_ms2(stack, spot_data, spot_id=17, MAX=True, figsize=15, init_maxval=13000)"
   ]
  },
  {
   "cell_type": "code",
   "execution_count": 191,
   "metadata": {
    "scrolled": true
   },
   "outputs": [
    {
     "data": {
      "text/plain": [
       "<matplotlib.axes._subplots.AxesSubplot at 0x7fad20ef2be0>"
      ]
     },
     "execution_count": 191,
     "metadata": {},
     "output_type": "execute_result"
    },
    {
     "data": {
      "image/png": "[encoded data removed]",
      "text/plain": [
       "<Figure size 432x288 with 1 Axes>"
      ]
     },
     "metadata": {
      "needs_background": "light"
     },
     "output_type": "display_data"
    }
   ],
   "source": [
    "#7, 11, 12, 16\n",
    "intvol[12].plot()\n",
    "intgauss[12].plot()"
   ]
  },
  {
   "cell_type": "code",
   "execution_count": null,
   "metadata": {},
   "outputs": [],
   "source": []
  }
 ],
 "metadata": {
  "kernelspec": {
   "display_name": "Python (im)",
   "language": "python",
   "name": "im"
  },
  "language_info": {
   "codemirror_mode": {
    "name": "ipython",
    "version": 3
   },
   "file_extension": ".py",
   "mimetype": "text/x-python",
   "name": "python",
   "nbconvert_exporter": "python",
   "pygments_lexer": "ipython3",
   "version": "3.8.3"
  }
 },
 "nbformat": 4,
 "nbformat_minor": 4
}
