{
 "cells": [
  {
   "cell_type": "code",
   "execution_count": 1,
   "metadata": {},
   "outputs": [],
   "source": [
    "# Import public packages.\n",
    "import numpy as np\n",
    "import matplotlib.pyplot as plt\n",
    "import pandas as pd\n",
    "from scipy import ndimage as ndi \n",
    "from importlib import reload\n",
    "import pickle\n",
    "import czifile\n",
    "from skimage.filters.thresholding import threshold_otsu\n",
    "\n",
    "# The order of loading matplotlib is important to avoid issues on my machine.\n",
    "%matplotlib inline\n",
    "#%matplotlib notebook\n",
    "#%matplotlib notebook\n",
    "\n",
    "# Import my packages.\n",
    "import sys\n",
    "sys.path.append('/Users/michaelstadler/Bioinformatics/Projects/rpb1/bin')\n",
    "#import imagep as imp\n",
    "#reload(imp)\n",
    "#from imagep import viewer, save_pickle, load_pickle, box_spots, read_czi\n",
    "import flymovie as imp\n",
    "#from flymovie import general_functions as gf"
   ]
  },
  {
   "cell_type": "code",
   "execution_count": 141,
   "metadata": {},
   "outputs": [],
   "source": [
    "class TestData():\n",
    "    def __init__(self):\n",
    "        pass\n",
    "test_data = TestData()"
   ]
  },
  {
   "cell_type": "code",
   "execution_count": 145,
   "metadata": {},
   "outputs": [],
   "source": [
    "# Set channels corresponding to nuclear signal and MS2 spots.\n",
    "nucchannel = 0\n",
    "spotchannel = 1\n",
    "# Set files for output movie object and input files.\n",
    "mv_filename = '/Users/michaelstadler/Bioinformatics/Projects/rpb1/results/20210518-rpb1gfp-evems2-em2-01-05.pkl'\n",
    "czi_folder = '/Volumes/Stadler100/2021-03-11/'\n",
    "czi_files = ['20210311-Rpb1GFP-HbMS2-em1-zsmv-03.czi'\n",
    "            ]"
   ]
  },
  {
   "cell_type": "code",
   "execution_count": 146,
   "metadata": {},
   "outputs": [],
   "source": [
    "# Read and join czi files into single image stack, recording frames at which movies\n",
    "# are joined and starting Z positions.\n",
    "instack, join_frames, starting_positions, z_interval = imp.read_czi_multiple(czi_files, czi_folder)"
   ]
  },
  {
   "cell_type": "code",
   "execution_count": 147,
   "metadata": {},
   "outputs": [
    {
     "data": {
      "application/vnd.jupyter.widget-view+json": {
       "model_id": "02ce0b64d2494183866dafd6382c8750",
       "version_major": 2,
       "version_minor": 0
      },
      "text/plain": [
       "interactive(children=(Dropdown(description='Color', index=1, options=('Reds', 'Greens', 'Gators', 'viridis', '…"
      ]
     },
     "metadata": {},
     "output_type": "display_data"
    }
   ],
   "source": [
    "imp.viewer(instack, 5)"
   ]
  },
  {
   "cell_type": "code",
   "execution_count": 148,
   "metadata": {},
   "outputs": [
    {
     "data": {
      "application/vnd.jupyter.widget-view+json": {
       "model_id": "329ad04808e0499f8ae049593c08fcc3",
       "version_major": 2,
       "version_minor": 0
      },
      "text/plain": [
       "interactive(children=(Dropdown(description='Color', index=1, options=('Reds', 'Greens', 'Gators', 'viridis', '…"
      ]
     },
     "metadata": {},
     "output_type": "display_data"
    }
   ],
   "source": [
    "stack = instack[:, 8:11, 2:10, :, 200:600]\n",
    "imp.viewer(stack, 5)"
   ]
  },
  {
   "cell_type": "code",
   "execution_count": 149,
   "metadata": {},
   "outputs": [],
   "source": [
    "test_data.stack = stack"
   ]
  },
  {
   "cell_type": "code",
   "execution_count": 155,
   "metadata": {},
   "outputs": [],
   "source": [
    "# Perform initial nuclear segmentation using the first few frames to determine parameters.\n",
    "nucchannel = 0\n",
    "seed_window = (30,30)\n",
    "min_seed_dist = 30\n",
    "sigma = 5\n",
    "usemax = True\n",
    "\n",
    "test_data.segment_nuclei_3Dstack_rpb1_output = imp.segment_nuclei_3Dstack_rpb1(stack[nucchannel, 0], seed_window=seed_window, min_seed_dist=min_seed_dist, sigma=sigma, usemax=usemax)\n"
   ]
  },
  {
   "cell_type": "code",
   "execution_count": 151,
   "metadata": {},
   "outputs": [
    {
     "name": "stdout",
     "output_type": "stream",
     "text": [
      "1 \n"
     ]
    }
   ],
   "source": [
    "nucmask_test = imp.segment_nuclei_4dstack(stack[nucchannel, :2], imp.segment_nuclei_3Dstack_rpb1, seed_window=seed_window, min_seed_dist=min_seed_dist, sigma=sigma, usemax=usemax)\n",
    "\n"
   ]
  },
  {
   "cell_type": "code",
   "execution_count": 162,
   "metadata": {},
   "outputs": [
    {
     "name": "stdout",
     "output_type": "stream",
     "text": [
      "1 2 \n"
     ]
    },
    {
     "data": {
      "application/vnd.jupyter.widget-view+json": {
       "model_id": "f07ea46e8340400bb0ef2663476eafb7",
       "version_major": 2,
       "version_minor": 0
      },
      "text/plain": [
       "interactive(children=(Dropdown(description='Color', index=10, options=('Reds', 'Greens', 'Gators', 'viridis', …"
      ]
     },
     "metadata": {},
     "output_type": "display_data"
    }
   ],
   "source": [
    "# Segment nuclei using parameters determined above.\n",
    "nucmask_init = imp.segment_nuclei_4dstack(stack[nucchannel], imp.segment_nuclei_3Dstack_rpb1, seed_window=seed_window, min_seed_dist=min_seed_dist, sigma=sigma, usemax=usemax)\n",
    "imp.viewer(nucmask_init, 5, color='prism')"
   ]
  },
  {
   "cell_type": "code",
   "execution_count": 169,
   "metadata": {},
   "outputs": [
    {
     "name": "stdout",
     "output_type": "stream",
     "text": [
      "0 1 2 "
     ]
    },
    {
     "data": {
      "application/vnd.jupyter.widget-view+json": {
       "model_id": "a41b459f794e42cbbcfc4035cd5e36a9",
       "version_major": 2,
       "version_minor": 0
      },
      "text/plain": [
       "interactive(children=(Dropdown(description='Color', index=10, options=('Reds', 'Greens', 'Gators', 'viridis', …"
      ]
     },
     "metadata": {},
     "output_type": "display_data"
    }
   ],
   "source": [
    "# Filter segmented nuclei based on their size.\n",
    "size_min = 0\n",
    "size_max = 90000\n",
    "\n",
    "nucmask_sizefiltered = imp.labelmask_filter_objsize_apply4d(nucmask_init, size_min, size_max)\n",
    "\n",
    "imp.viewer(nucmask_sizefiltered, color=\"prism\")"
   ]
  },
  {
   "cell_type": "code",
   "execution_count": 170,
   "metadata": {},
   "outputs": [],
   "source": [
    "test_data.labelmask_filter_objsize_apply4d_output = nucmask_sizefiltered"
   ]
  },
  {
   "cell_type": "code",
   "execution_count": 172,
   "metadata": {},
   "outputs": [],
   "source": [
    "nucmask_sizefiltered_3d = imp.labelmask_filter_objsize(nucmask_init[0], size_min, size_max)"
   ]
  },
  {
   "cell_type": "code",
   "execution_count": 173,
   "metadata": {},
   "outputs": [],
   "source": [
    "test_data.labelmask_filter_objsize_output = nucmask_sizefiltered_3d"
   ]
  },
  {
   "cell_type": "code",
   "execution_count": 175,
   "metadata": {},
   "outputs": [
    {
     "data": {
      "text/plain": [
       "0.7789622038689256"
      ]
     },
     "execution_count": 175,
     "metadata": {},
     "output_type": "execute_result"
    }
   ],
   "source": [
    "imp.object_circularity(test_data.labelmask_filter_objsize_output, 1)"
   ]
  },
  {
   "cell_type": "code",
   "execution_count": 179,
   "metadata": {},
   "outputs": [],
   "source": [
    "test_data.filter_labelmask_circularity_output = imp.filter_labelmask_circularity(test_data.labelmask_filter_objsize_output, 5)\n"
   ]
  },
  {
   "cell_type": "code",
   "execution_count": 183,
   "metadata": {},
   "outputs": [],
   "source": [
    "test_data.update_labels_output = imp.update_labels(test_data.filter_labelmask_circularity_apply4d_output[0], test_data.filter_labelmask_circularity_apply4d_output[1])"
   ]
  },
  {
   "cell_type": "code",
   "execution_count": 188,
   "metadata": {},
   "outputs": [
    {
     "name": "stdout",
     "output_type": "stream",
     "text": [
      "1 2 "
     ]
    }
   ],
   "source": [
    "test_data.connect_nuclei_output = imp.connect_nuclei(test_data.filter_labelmask_circularity_apply4d_output)"
   ]
  },
  {
   "cell_type": "code",
   "execution_count": 191,
   "metadata": {},
   "outputs": [
    {
     "data": {
      "application/vnd.jupyter.widget-view+json": {
       "model_id": "615d89be6feb441f91bf1abfea5671d3",
       "version_major": 2,
       "version_minor": 0
      },
      "text/plain": [
       "interactive(children=(Dropdown(description='Color', index=1, options=('Reds', 'Greens', 'Gators', 'viridis', '…"
      ]
     },
     "metadata": {},
     "output_type": "display_data"
    }
   ],
   "source": [
    "imp.viewer(test_data.connect_nuclei_output, 5)"
   ]
  },
  {
   "cell_type": "code",
   "execution_count": 243,
   "metadata": {},
   "outputs": [],
   "source": [
    "a = test_data.connect_nuclei_output.copy()"
   ]
  },
  {
   "cell_type": "code",
   "execution_count": 244,
   "metadata": {},
   "outputs": [],
   "source": [
    "a[1][a[1] == 14] = 0"
   ]
  },
  {
   "cell_type": "code",
   "execution_count": 245,
   "metadata": {},
   "outputs": [
    {
     "data": {
      "application/vnd.jupyter.widget-view+json": {
       "model_id": "534d673c14fd4715bb75f67a3c1630cd",
       "version_major": 2,
       "version_minor": 0
      },
      "text/plain": [
       "interactive(children=(Dropdown(description='Color', index=1, options=('Reds', 'Greens', 'Gators', 'viridis', '…"
      ]
     },
     "metadata": {},
     "output_type": "display_data"
    }
   ],
   "source": [
    "imp.viewer(a==14, 5)"
   ]
  },
  {
   "cell_type": "code",
   "execution_count": 246,
   "metadata": {},
   "outputs": [],
   "source": [
    "test_data.interpolate_nuclear_mask_input = a"
   ]
  },
  {
   "cell_type": "code",
   "execution_count": 248,
   "metadata": {},
   "outputs": [
    {
     "data": {
      "application/vnd.jupyter.widget-view+json": {
       "model_id": "54f6e384c48942c5a78ae5f355b451c4",
       "version_major": 2,
       "version_minor": 0
      },
      "text/plain": [
       "interactive(children=(Dropdown(description='Color', index=1, options=('Reds', 'Greens', 'Gators', 'viridis', '…"
      ]
     },
     "metadata": {},
     "output_type": "display_data"
    }
   ],
   "source": [
    "b = imp.interpolate_nuclear_mask(a)\n",
    "imp.viewer([a, b],5)"
   ]
  },
  {
   "cell_type": "code",
   "execution_count": 250,
   "metadata": {},
   "outputs": [],
   "source": [
    "test_data.interpolate_nuclear_mask_output = b"
   ]
  },
  {
   "cell_type": "code",
   "execution_count": 315,
   "metadata": {},
   "outputs": [],
   "source": [
    "mv = imp.load_pickle('/Users/michaelstadler/Bioinformatics/Projects/rpb1/results/20210402-mNeonZld-hbms2-zsmv-em1-05.pkl')"
   ]
  },
  {
   "cell_type": "code",
   "execution_count": 327,
   "metadata": {},
   "outputs": [],
   "source": [
    "test_data.df = mv.intvol\n",
    "test_data.df_stack = mv.stack\n",
    "locs = [(1,2), (2,2), (3,3)]\n",
    "test_data.align_traces_output = imp.align_traces(test_data.df, locs, window_size=3)"
   ]
  },
  {
   "cell_type": "code",
   "execution_count": 328,
   "metadata": {},
   "outputs": [],
   "source": [
    "imp.save_pickle(test_data, '/Users/michaelstadler/Bioinformatics/Projects/rpb1/bin/test/test_data.pkl')"
   ]
  },
  {
   "cell_type": "code",
   "execution_count": 330,
   "metadata": {},
   "outputs": [
    {
     "data": {
      "text/html": [
       "<div>\n",
       "<style scoped>\n",
       "    .dataframe tbody tr th:only-of-type {\n",
       "        vertical-align: middle;\n",
       "    }\n",
       "\n",
       "    .dataframe tbody tr th {\n",
       "        vertical-align: top;\n",
       "    }\n",
       "\n",
       "    .dataframe thead th {\n",
       "        text-align: right;\n",
       "    }\n",
       "</style>\n",
       "<table border=\"1\" class=\"dataframe\">\n",
       "  <thead>\n",
       "    <tr style=\"text-align: right;\">\n",
       "      <th></th>\n",
       "      <th>0</th>\n",
       "      <th>1</th>\n",
       "      <th>2</th>\n",
       "    </tr>\n",
       "  </thead>\n",
       "  <tbody>\n",
       "    <tr>\n",
       "      <th>1</th>\n",
       "      <td>True</td>\n",
       "      <td>False</td>\n",
       "      <td>False</td>\n",
       "    </tr>\n",
       "    <tr>\n",
       "      <th>2</th>\n",
       "      <td>True</td>\n",
       "      <td>True</td>\n",
       "      <td>True</td>\n",
       "    </tr>\n",
       "    <tr>\n",
       "      <th>3</th>\n",
       "      <td>True</td>\n",
       "      <td>True</td>\n",
       "      <td>True</td>\n",
       "    </tr>\n",
       "  </tbody>\n",
       "</table>\n",
       "</div>"
      ],
      "text/plain": [
       "      0      1      2\n",
       "1  True  False  False\n",
       "2  True   True   True\n",
       "3  True   True   True"
      ]
     },
     "execution_count": 330,
     "metadata": {},
     "output_type": "execute_result"
    }
   ],
   "source": [
    "test_data.align_traces_output == test_data.align_traces_output"
   ]
  },
  {
   "cell_type": "code",
   "execution_count": 339,
   "metadata": {},
   "outputs": [
    {
     "data": {
      "text/plain": [
       "array([[[0.4046278 , 0.09453305],\n",
       "        [0.6914914 , 0.93887589]],\n",
       "\n",
       "       [[0.83926766, 0.46654519],\n",
       "        [0.87026443, 0.70583297]]])"
      ]
     },
     "execution_count": 339,
     "metadata": {},
     "output_type": "execute_result"
    }
   ],
   "source": [
    "np.random.rand(2,2,2)"
   ]
  },
  {
   "cell_type": "code",
   "execution_count": 354,
   "metadata": {},
   "outputs": [],
   "source": [
    "import tempfile\n",
    "a = tempfile.NamedTemporaryFile()"
   ]
  },
  {
   "cell_type": "code",
   "execution_count": 356,
   "metadata": {},
   "outputs": [],
   "source": [
    "imp.save_pickle(mv.stack, a.name)"
   ]
  },
  {
   "cell_type": "code",
   "execution_count": 358,
   "metadata": {},
   "outputs": [],
   "source": [
    "a.close()"
   ]
  },
  {
   "cell_type": "code",
   "execution_count": 361,
   "metadata": {},
   "outputs": [],
   "source": [
    "imp.save_pickle(mv.stack, a.name)"
   ]
  },
  {
   "cell_type": "code",
   "execution_count": 362,
   "metadata": {},
   "outputs": [
    {
     "data": {
      "text/plain": [
       "'/var/folders/46/dftvy0sd0jv10kyqlkqc2d8m0000gn/T/tmptjrsn54e'"
      ]
     },
     "execution_count": 362,
     "metadata": {},
     "output_type": "execute_result"
    }
   ],
   "source": [
    "a.name"
   ]
  },
  {
   "cell_type": "code",
   "execution_count": 363,
   "metadata": {},
   "outputs": [
    {
     "data": {
      "text/plain": [
       "array([[[[[ 1555,  1001,  1181, ...,  1034,  1782,  1282],\n",
       "          [ 1107,   137,  1523, ...,   576,  1420,  1141],\n",
       "          [  711,   304,   732, ...,    95,  3728,  1531],\n",
       "          ...,\n",
       "          [14237,  6659,  6296, ...,   125,   786,   144],\n",
       "          [10794, 10519,  4472, ...,    86,    67,   210],\n",
       "          [ 2263,  3039,  3988, ...,    88,    73,    86]],\n",
       "\n",
       "         [[ 3297,   665,   186, ...,    84,   739,   471],\n",
       "          [ 1655,  2246,  1016, ...,  1133,   614,    84],\n",
       "          [  683,    88,    75, ...,  1173,   945,   103],\n",
       "          ...,\n",
       "          [ 8010,  4323,  5895, ...,   498,  1688,   105],\n",
       "          [ 4838,  3427,  1902, ...,  1511,    84,    85],\n",
       "          [ 1811,  5203,  3499, ...,   631,    82,  1640]],\n",
       "\n",
       "         [[ 1632,   815,    80, ...,  1183,  1430,    94],\n",
       "          [ 1729,  1230,  1535, ...,  1791,    89,   990],\n",
       "          [   98,  3643,   998, ...,  1159,    97,  2164],\n",
       "          ...,\n",
       "          [ 3506,  1328,  2703, ...,  2751,  2714,   534],\n",
       "          [ 2970,   872,  3634, ...,  2390,  2423,   924],\n",
       "          [ 2910,  3966,   984, ...,  1848,   765,   487]],\n",
       "\n",
       "         ...,\n",
       "\n",
       "         [[ 3523,  6834,  3715, ...,  3524,  2143,   929],\n",
       "          [ 4776,  2964,  2388, ...,  1080,  1118,  1158],\n",
       "          [ 5581,  6781,  2905, ...,    93,  1341,  1103],\n",
       "          ...,\n",
       "          [ 1065,    96,    81, ...,  2448,  4528,  2091],\n",
       "          [   89,    83,    84, ...,  1591,  1235,  2522],\n",
       "          [   88,    83,    70, ...,   118,  2033,  4074]],\n",
       "\n",
       "         [[ 5916,  7169,  5011, ...,   887,    75,  1385],\n",
       "          [ 6641,  8518,  4122, ...,  1355,    82,    67],\n",
       "          [ 4533,  6412,  4493, ...,  3523,   536,   394],\n",
       "          ...,\n",
       "          [  842,   827,    91, ...,  1677,  1726,   419],\n",
       "          [ 1894,    93,   105, ...,  1556,  1356,  3228],\n",
       "          [   70,    91,   256, ...,  3351,  4385,   931]],\n",
       "\n",
       "         [[ 8231,  6867,  9936, ...,  1663,   109,   817],\n",
       "          [ 1692,  4812, 11901, ...,  1090,   601,  2463],\n",
       "          [ 5498,  5337,  5702, ...,    80,  1357,   133],\n",
       "          ...,\n",
       "          [   81,    72,   724, ...,  2271,   448,  2102],\n",
       "          [   80,    83,    92, ...,  2316,  2084,  1977],\n",
       "          [   95,   454,   401, ...,  2513,   770,  1015]]],\n",
       "\n",
       "\n",
       "        [[[  373,   637,   103, ...,  2686,  1042,  1696],\n",
       "          [   82,   667,   504, ...,    81,  1840,  1780],\n",
       "          [ 2990,  1686,   772, ...,   255,   126,   649],\n",
       "          ...,\n",
       "          [11117,  7107,  1705, ...,    76,  1462,  1144],\n",
       "          [ 9066,  4653,  5270, ...,   894,  1221,   587],\n",
       "          [  987,  3271,  1579, ...,  2845,   865,   580]],\n",
       "\n",
       "         [[  110,  1670,   140, ...,  3649,   103,    95],\n",
       "          [  250,  1563,  1224, ...,  1038,    94,   356],\n",
       "          [  111,  2176,  1110, ...,  1763,    86,   987],\n",
       "          ...,\n",
       "          [ 4837,  3925,  6174, ...,  1078,    82,   346],\n",
       "          [ 4903,  3140,  7437, ...,   115,    84,  2257],\n",
       "          [ 4021,  2755,  3248, ...,    79,  1009,  2362]],\n",
       "\n",
       "         [[  154,  1003,   746, ...,   214,    93,   770],\n",
       "          [   93,   624,    73, ...,  2392,   417,    83],\n",
       "          [  788,    86,   570, ...,  1948,  1318,   555],\n",
       "          ...,\n",
       "          [ 1728,  4160,  1974, ...,    84,  1186,  1897],\n",
       "          [ 2466,  2249,   945, ...,    89,   874,    91],\n",
       "          [ 1447,   503,  2458, ...,   214,  2395,   588]],\n",
       "\n",
       "         ...,\n",
       "\n",
       "         [[ 5361,  6460,  7441, ...,  2040,  4212,   192],\n",
       "          [ 6576,  8260,  2922, ...,  1864,  1112,   713],\n",
       "          [ 5266,  8532,  9289, ...,  2442,  1293,  2211],\n",
       "          ...,\n",
       "          [   73,    97,    84, ...,  4268,  2638,  4159],\n",
       "          [   77,    83,    93, ...,  1666,   976,  4682],\n",
       "          [ 1020,    89,    81, ...,   483,  2977,  2120]],\n",
       "\n",
       "         [[ 4120,  4450,   449, ...,   429,  2459,  2354],\n",
       "          [ 1559,   849,  1171, ...,   607,   448,  1268],\n",
       "          [ 2560,  2631,  2060, ...,  1743,  1686,  1433],\n",
       "          ...,\n",
       "          [   80,   320,    83, ...,  2336,  2065,  2296],\n",
       "          [   94,    74,    73, ...,   179,  3613,  1896],\n",
       "          [   87,    78,    78, ...,   996,  1206,   884]],\n",
       "\n",
       "         [[ 2971,  2169,  2439, ...,  1268,  1002,   986],\n",
       "          [ 2905,  2885,  1896, ...,  1710,  1043,  1080],\n",
       "          [ 3557,  3454,  2180, ...,    88,   102,  2183],\n",
       "          ...,\n",
       "          [  174,   353,    75, ...,  1108,    76,  3377],\n",
       "          [   92,    86,  1566, ...,  1103,  1090,  1155],\n",
       "          [   83,    81,   654, ...,    98,   787,   531]]],\n",
       "\n",
       "\n",
       "        [[[  545,  2427,  2811, ...,   828,   864,   768],\n",
       "          [ 1918,   925,  2676, ...,   379,  2203,  4594],\n",
       "          [  522,   820,   496, ...,   761,  2076,  1498],\n",
       "          ...,\n",
       "          [ 6832,  6074,  3319, ...,    87,    71,  2054],\n",
       "          [ 8176,  4671,  3307, ...,    82,    87,    82],\n",
       "          [ 4434,  4030,  6160, ...,    76,    78,  1826]],\n",
       "\n",
       "         [[   90,  1216,  3584, ...,   117,   156,  2652],\n",
       "          [   98,    60,  1457, ...,  2495,  2062,  1244],\n",
       "          [ 1648,  1023,   910, ...,  1230,  1176,  1808],\n",
       "          ...,\n",
       "          [ 3839,  2426,  3828, ...,   101,    75,    84],\n",
       "          [ 3242,  1904,  4584, ...,   722,   402,   566],\n",
       "          [ 5024,  1786,  4433, ...,    76,    82,    90]],\n",
       "\n",
       "         [[   94,   393,   136, ...,   110,  1716,   132],\n",
       "          [ 1727,  1283,    82, ...,   109,   700,   940],\n",
       "          [   90,    71,    76, ...,  4074,    87,    82],\n",
       "          ...,\n",
       "          [ 1291,  1535,  2880, ...,   531,    79,    95],\n",
       "          [ 2640,   510,  1242, ...,    84,   727,   307],\n",
       "          [ 1182,   488,    81, ...,    93,   363,   387]],\n",
       "\n",
       "         ...,\n",
       "\n",
       "         [[ 2405,  8915,  6419, ...,  3295,  5125,  1753],\n",
       "          [ 4125,  4118,  7109, ...,  2177,  3918,  3371],\n",
       "          [ 5520,  2120,  5807, ...,  2407,  1070,  3447],\n",
       "          ...,\n",
       "          [ 1223,    81,    89, ...,   841,  2946,  3183],\n",
       "          [   87,    95,    97, ...,  2444,  1896,  6051],\n",
       "          [   85,   521,   106, ...,  3956,  4978,  4299]],\n",
       "\n",
       "         [[ 3906,  2591,  3355, ...,  2885,  2564,  2157],\n",
       "          [ 4557,  1903,  3553, ...,   102,  1008,  1658],\n",
       "          [ 3837,  5052,  3615, ...,  3390,   607,   649],\n",
       "          ...,\n",
       "          [ 1779,  1309,   110, ...,  2217,   986,  3718],\n",
       "          [   73,    88,   359, ...,  1617,  2151,  1866],\n",
       "          [   80,    86,   109, ...,   699,  2052,  2161]],\n",
       "\n",
       "         [[ 2931,  1128,   110, ...,  6903,  1322,  1271],\n",
       "          [  933,  2076,  2205, ...,   688,  3755,   704],\n",
       "          [ 5131,   148,  3952, ...,  2030,  1688,   174],\n",
       "          ...,\n",
       "          [   74,    90,   101, ...,  2699,  1166,   132],\n",
       "          [   90,    89,  1892, ...,  1266,  2601,   838],\n",
       "          [  307,    84,   101, ...,  1916,  3706,  2983]]],\n",
       "\n",
       "\n",
       "        [[[  340,    90,    84, ...,  1023,   742,  1891],\n",
       "          [ 3344,  1294,   949, ...,  1512,    89,   133],\n",
       "          [ 1296,   159,   301, ...,    94,   936,   570],\n",
       "          ...,\n",
       "          [ 7274, 10144,  3695, ...,    77,    76,   261],\n",
       "          [ 3353,  6198,  3969, ...,   148,   913,  1272],\n",
       "          [ 5823,  3869,  5387, ...,    83,    89,    77]],\n",
       "\n",
       "         [[ 1633,    88,   380, ...,   401,  2260,  1922],\n",
       "          [  528,   112,  1020, ...,   562,   397,  1034],\n",
       "          [  439,   324,  1365, ...,   635,  1430,   892],\n",
       "          ...,\n",
       "          [ 1054,  1694,  3916, ...,    76,  1281,   306],\n",
       "          [ 2504,  5054,  3145, ...,    80,  1298,    91],\n",
       "          [ 3757,  4083,  5657, ...,   446,    98,    85]],\n",
       "\n",
       "         [[  534,    85,   546, ...,  1335,   684,   356],\n",
       "          [  127,    88,   105, ...,   540,   111,   180],\n",
       "          [  669,   216,    84, ...,   257,   785,  1472],\n",
       "          ...,\n",
       "          [ 2221,  5036,    88, ...,   135,  1070,   111],\n",
       "          [ 1553,  1997,   888, ...,    79,  1093,  1734],\n",
       "          [ 3029,  1530,  1970, ...,    66,    77,    81]],\n",
       "\n",
       "         ...,\n",
       "\n",
       "         [[ 8379,  5706,  5234, ...,  3847,  4537,  3608],\n",
       "          [ 2621,  1682,  2377, ...,  3575,  4339,  4700],\n",
       "          [ 4024,  3761,  4465, ...,  3982,  4707,  3305],\n",
       "          ...,\n",
       "          [  722,    80,   808, ...,  3033,  2576,  4662],\n",
       "          [ 1025,    70,  1149, ...,  1186,  3746,  2729],\n",
       "          [ 1275,   121,    97, ...,  3931,  2444,  4847]],\n",
       "\n",
       "         [[ 3298,  1477,  3244, ...,  3287,  1231,   975],\n",
       "          [ 2984,  2662,  1428, ...,  2677,  1561,  2439],\n",
       "          [  450,  3130,   387, ...,  2237,  4873,  3071],\n",
       "          ...,\n",
       "          [ 2873,   169,   218, ...,  2111,  4207,  4767],\n",
       "          [  657,   387,    93, ...,  1109,  3077,   762],\n",
       "          [ 2477,  1170,   219, ...,  1583,  2449,  2378]],\n",
       "\n",
       "         [[ 2088,   505,  2985, ...,  3251,  1734,  1425],\n",
       "          [  722,   710,  1351, ...,  1052,  1255,   806],\n",
       "          [ 1535,   625,  3738, ...,   891,  2239,   653],\n",
       "          ...,\n",
       "          [   74,  1215,    69, ...,   362,  2580,  1454],\n",
       "          [  683,   299,    84, ...,  2150,  1354,   267],\n",
       "          [  328,    94,   463, ...,    80,   127,  1007]]],\n",
       "\n",
       "\n",
       "        [[[  446,  1518,   521, ...,  1889,   591,   898],\n",
       "          [ 1510,   119,  1807, ...,  1255,  1180,  3613],\n",
       "          [  570,    94,   207, ...,  1221,  1651,  1560],\n",
       "          ...,\n",
       "          [ 6598,  5169,  2263, ...,    71,  1417,   309],\n",
       "          [ 5481,  5485,  2164, ...,   582,    88,   915],\n",
       "          [ 6402,  2033,  2575, ...,   885,   105,    92]],\n",
       "\n",
       "         [[  895,  1196,  1316, ...,    93,   122,  1550],\n",
       "          [  865,   274,   126, ...,    71,    96,   645],\n",
       "          [   82,    97,  1611, ...,  1056,  3415,   737],\n",
       "          ...,\n",
       "          [ 3462,  5600,  5265, ...,   180,   987,    91],\n",
       "          [ 2115,  6679,  2229, ...,    89,    86,   221],\n",
       "          [ 4440,  2536,  4421, ...,   884,   208,   109]],\n",
       "\n",
       "         [[  155,   523,    78, ...,    84,   245,  2216],\n",
       "          [  520,    79,    84, ...,    71,   964,  1280],\n",
       "          [  935,   567,    95, ...,   762,   123,  1231],\n",
       "          ...,\n",
       "          [ 3384,  3845,  1118, ...,    83,    76,   172],\n",
       "          [ 1674,  1938,  3991, ...,   141,    78,    80],\n",
       "          [ 2079,  1519,  1194, ...,    86,    91,  1010]],\n",
       "\n",
       "         ...,\n",
       "\n",
       "         [[ 1915,  1361,  3622, ...,  2569,  1710,  2628],\n",
       "          [ 3783,  3568,  1619, ...,  3602,  4095,  2309],\n",
       "          [ 1892,   719,  2928, ...,  3438,  2184,  5078],\n",
       "          ...,\n",
       "          [  725,    82,    85, ...,   692,  1977,  2809],\n",
       "          [  115,    79,    79, ...,   551,  1815,  2047],\n",
       "          [  631,   134,  1049, ...,  1786,  1391,  3837]],\n",
       "\n",
       "         [[ 3067,  3189,  2204, ...,  3677,  4507,   574],\n",
       "          [ 3731,  2008,  2202, ...,  5876,  3007,  5195],\n",
       "          [ 1257,  2802,  1745, ...,  4013,  6522,  4228],\n",
       "          ...,\n",
       "          [   95,   443,   295, ...,  2228,  3080,  1079],\n",
       "          [   83,   888,    85, ...,  1599,  5526,  1244],\n",
       "          [ 1112,    84,    90, ...,   682,  1559,   572]],\n",
       "\n",
       "         [[ 2974,   664,   620, ...,  2383,  3290,  2865],\n",
       "          [ 1292,  2718,  1809, ...,  3114,  2814,  4435],\n",
       "          [ 1505,  1338,  3242, ...,  1533,  1501,  1649],\n",
       "          ...,\n",
       "          [ 1217,    81,    88, ...,  3280,  1364,  2439],\n",
       "          [   76,    79,    84, ...,  1010,  2138,  1939],\n",
       "          [ 1550,   454,    76, ...,  1957,  2484,  1814]]]],\n",
       "\n",
       "\n",
       "\n",
       "       [[[[ 1587,  3505,  3285, ...,  3291,  2654,   508],\n",
       "          [ 1692,  1590,  3888, ...,   809,  3010,  2995],\n",
       "          [  250,  2632,  1085, ...,  2265,  2250,   544],\n",
       "          ...,\n",
       "          [ 8203, 10391,  5990, ...,  1806,   896,   925],\n",
       "          [10387,  3007,  3057, ...,  1759,   515,   964],\n",
       "          [10512,  5797,  4253, ...,   692,    62,   791]],\n",
       "\n",
       "         [[ 6020,   735,  2229, ...,  1193,  2526,  4352],\n",
       "          [  526,   272,  1855, ...,  1435,   949,  3031],\n",
       "          [ 2774,    98,  1217, ...,   646,  2012,  3490],\n",
       "          ...,\n",
       "          [ 3705,  4246,  4812, ...,  2448,  1935,   321],\n",
       "          [ 1246,  7381,  6025, ...,  2174,  1983,  1239],\n",
       "          [ 1932,  3492,   879, ...,    64,  1942,  1479]],\n",
       "\n",
       "         [[ 2241,  3394,   407, ...,  2210,  1316,  2361],\n",
       "          [ 2819,  2850,   751, ...,   155,  2203,  3494],\n",
       "          [ 2490,  2627,   111, ...,  2561,  2169,  2717],\n",
       "          ...,\n",
       "          [ 1501,  2343,  1664, ...,  2884,   613,   599],\n",
       "          [ 4049,   815,  4732, ...,   929,  1594,   903],\n",
       "          [ 2063,   750,  2018, ...,  1667,   885,  2808]],\n",
       "\n",
       "         ...,\n",
       "\n",
       "         [[  509,  2935,   783, ...,  1650,  1382,   243],\n",
       "          [ 1191,  2486,  1898, ...,   782,   482,   415],\n",
       "          [   55,   577,  2076, ...,  2300,   611,  1430],\n",
       "          ...,\n",
       "          [   71,  1981,    51, ...,   469,   248,  1111],\n",
       "          [ 1880,   288,   402, ...,   146,  1372,  3259],\n",
       "          [   57,  1924,  1536, ...,   990,  1921,  1799]],\n",
       "\n",
       "         [[  227,  1883,  1039, ...,  1931,  1772,   684],\n",
       "          [ 2794,    83,  1244, ...,    82,    68,   887],\n",
       "          [   77,  1122,   664, ...,    93,  1108,  2437],\n",
       "          ...,\n",
       "          [   61,  1426,    57, ...,    84,  1478,    68],\n",
       "          [   93,  1313,    72, ...,    68,    60,   180],\n",
       "          [  356,  1259,  2049, ...,    73,   843,   303]],\n",
       "\n",
       "         [[ 1074,   308,   813, ...,  2557,  2692,  3387],\n",
       "          [  667,  1405,  1299, ...,  2324,   882,  3850],\n",
       "          [  186,    63,   101, ...,  2053,   585,  1189],\n",
       "          ...,\n",
       "          [  775,  1510,  1064, ...,    71,   367,   248],\n",
       "          [  674,  2773,   394, ...,   183,   199,   154],\n",
       "          [  746,   906,  3405, ...,  1256,   676,  1170]]],\n",
       "\n",
       "\n",
       "        [[[ 3013,  3851,  2383, ...,  2248,   313,  1443],\n",
       "          [ 1715,  2297,  1097, ...,  2572,  3979,    63],\n",
       "          [ 1213,  1971,  3121, ...,  2454,  3190,  1268],\n",
       "          ...,\n",
       "          [10368, 10566,  5055, ...,    66,   831,  1282],\n",
       "          [ 4929,  7862,  4601, ...,  1203,   906,  2192],\n",
       "          [ 4901,  4095,  3590, ...,    46,  1483,    72]],\n",
       "\n",
       "         [[ 1506,  1978,    59, ...,  1100,  1343,  2543],\n",
       "          [ 2512,  2449,  2575, ...,   488,  1349,   560],\n",
       "          [ 2931,   548,   559, ...,  1872,  1013,    74],\n",
       "          ...,\n",
       "          [ 5376,  8079,  6600, ...,  1052,   102,  1119],\n",
       "          [ 5466,  5403,  4520, ...,  1293,  1324,  2114],\n",
       "          [ 6343,  5872,  6502, ...,  1294,  1643,  1297]],\n",
       "\n",
       "         [[ 1246,  2027,   488, ...,  1952,   633,   161],\n",
       "          [ 1359,  1063,  1533, ...,  2526,  4458,   269],\n",
       "          [ 1191,  2668,   524, ...,   923,  1922,  4492],\n",
       "          ...,\n",
       "          [ 2024,  2649,  4705, ...,  1258,  1209,   372],\n",
       "          [ 3286,  2060,  2722, ...,  3164,   320,  1745],\n",
       "          [ 2293,  4233,  2516, ...,  2295,  2153,  1203]],\n",
       "\n",
       "         ...,\n",
       "\n",
       "         [[ 1333,   519,  1995, ...,    59,  1770,   423],\n",
       "          [ 1905,   756,    79, ...,  1765,  1338,  1567],\n",
       "          [   65,    52,    65, ...,    72,  1010,  1299],\n",
       "          ...,\n",
       "          [   44,  1373,  2253, ...,    49,   100,  4422],\n",
       "          [ 2359,    81,   298, ...,    54,    45,  1158],\n",
       "          [  360,   857,   251, ...,   827,    63,    65]],\n",
       "\n",
       "         [[ 2832,   183,  1041, ...,  2633,  3252,   716],\n",
       "          [  666,   830,  4501, ...,  3192,  2088,   131],\n",
       "          [ 2207,   478,   652, ...,    60,    63,    89],\n",
       "          ...,\n",
       "          [  976,  1424,   232, ...,  1809,    85,   694],\n",
       "          [  427,  1493,   815, ...,    71,   823,   847],\n",
       "          [  183,  2693,  1680, ...,   934,  1557,    56]],\n",
       "\n",
       "         [[ 3044,  1631,    88, ...,    56,    55,   474],\n",
       "          [ 1644,    92,   695, ...,  1264,   686,   665],\n",
       "          [ 1004,  1489,   615, ...,  1158,    47,  1266],\n",
       "          ...,\n",
       "          [  807,    69,   707, ...,    61,  2669,   212],\n",
       "          [  566,   368,   505, ...,   384,  1247,   778],\n",
       "          [   71,    70,   226, ...,  1022,  2379,  2877]]],\n",
       "\n",
       "\n",
       "        [[[  510,  3301,  2747, ...,  1590,   730,  2047],\n",
       "          [ 4138,  2818,  5545, ...,  3036,   931,  2310],\n",
       "          [ 1389,  2006,   739, ...,  2594,  2336,  3817],\n",
       "          ...,\n",
       "          [ 6572,  9175,  6258, ...,  3445,   666,   158],\n",
       "          [ 6129,  4368,  3588, ...,  1355,  1808,  1674],\n",
       "          [ 6962,  3915,  3751, ...,  1321,  2565,    71]],\n",
       "\n",
       "         [[ 2622,  1225,   741, ...,  1476,   821,  4044],\n",
       "          [  433,   795,  1707, ...,  1873,  1643,  2867],\n",
       "          [  717,  1130,  2705, ...,    61,   791,  2575],\n",
       "          ...,\n",
       "          [ 3231,  6716,  2493, ...,    66,    52,   408],\n",
       "          [ 3162,  4879,  3562, ...,  2102,  1498,    62],\n",
       "          [ 5681,  5170,  5414, ...,  2051,   880,  1384]],\n",
       "\n",
       "         [[ 1273,  3534,  2142, ...,  1789,  3842,  1471],\n",
       "          [ 2661,  1393,  1638, ...,   828,    98,  2354],\n",
       "          [  203,  2719,  1976, ...,  1673,  4285,   149],\n",
       "          ...,\n",
       "          [ 1533,   943,  1129, ...,    60,  3016,  1064],\n",
       "          [ 4035,  2752,  2735, ...,  1680,  1712,  2676],\n",
       "          [ 2905,  2814,  2060, ...,   610,   712,  1945]],\n",
       "\n",
       "         ...,\n",
       "\n",
       "         [[  182,  1313,  2218, ...,   978,   758,    57],\n",
       "          [ 1179,  1397,   115, ...,  2639,  1557,   104],\n",
       "          [  108,  3463,  1943, ...,   629,   256,   530],\n",
       "          ...,\n",
       "          [   56,   879,   586, ...,  2782,   185,  2224],\n",
       "          [ 1299,  1677,   177, ...,    64,    97,  1770],\n",
       "          [ 2735,  3297,   114, ...,  2481,  1523,    72]],\n",
       "\n",
       "         [[ 1144,    64,   256, ...,    59,  1369,   109],\n",
       "          [   98,  1360,  1193, ...,   896,    55,  1001],\n",
       "          [ 1277,   571,  3430, ...,  3703,   472,   669],\n",
       "          ...,\n",
       "          [  977,   774,   291, ...,  2723,   879,    76],\n",
       "          [   56,  1041,    87, ...,   115,   268,  1804],\n",
       "          [ 1409,   433,  2397, ...,  3116,   354,   511]],\n",
       "\n",
       "         [[  625,   921,    81, ...,  1487,   451,    68],\n",
       "          [ 1055,  1001,    64, ...,   121,   674,  2735],\n",
       "          [ 1353,   790,   345, ...,   790,   325,    75],\n",
       "          ...,\n",
       "          [  671,   174,  1101, ...,   363,  1831,    72],\n",
       "          [   52,    77,  3548, ...,   318,  1102,  1214],\n",
       "          [ 2285,  4845,  3193, ...,    76,    76,    79]]],\n",
       "\n",
       "\n",
       "        [[[ 3560,   545,  1411, ...,  1539,  3217,  2107],\n",
       "          [ 4626,  5222,  1573, ...,   575,  2148,   666],\n",
       "          [ 2393,  2145,  1370, ...,   282,   260,  1937],\n",
       "          ...,\n",
       "          [ 5863,  6843,  6835, ...,   477,  1679,  1548],\n",
       "          [ 5910,  8252,  2055, ...,  3643,  1069,   848],\n",
       "          [ 4097,  2356,  1350, ...,   350,  1962,  1317]],\n",
       "\n",
       "         [[ 2468,   673,   501, ...,  1220,  3286,   415],\n",
       "          [ 1857,  3948,  2815, ...,  2806,  2440,   671],\n",
       "          [ 1346,  1113,  2695, ...,  2976,   765,   615],\n",
       "          ...,\n",
       "          [ 3456,  3568,  5247, ...,  2104,   990,   935],\n",
       "          [ 4040,  3775,  2069, ...,  3072,  2022,  4433],\n",
       "          [ 3684,  5622,  2123, ...,    65,   541,   735]],\n",
       "\n",
       "         [[ 2059,  1930,   236, ...,  2153,  1892,  2623],\n",
       "          [  840,  1183,  2001, ...,  2381,   839,  1091],\n",
       "          [ 1653,  2327,  1390, ...,  6002,    59,  2598],\n",
       "          ...,\n",
       "          [ 3709,  2586,  1319, ...,    53,  1812,   105],\n",
       "          [ 1259,  2027,  4585, ...,   728,    77,  3647],\n",
       "          [ 3763,  1888,  1271, ...,  1180,   438,  1767]],\n",
       "\n",
       "         ...,\n",
       "\n",
       "         [[ 3131,  3233,   965, ...,   435,   377,  1046],\n",
       "          [   60,   788,   377, ...,  1749,  2256,  1934],\n",
       "          [ 1038,  1790,  1381, ...,  1482,  1172,  1716],\n",
       "          ...,\n",
       "          [  781,   598,   817, ...,    61,   165,    76],\n",
       "          [   65,    69,  1340, ...,   806,    96,    92],\n",
       "          [  474,   454,  3459, ...,    63,   260,   412]],\n",
       "\n",
       "         [[ 2820,    89,   713, ...,   647,    80,  1307],\n",
       "          [  653,   114,  1347, ...,    61,    52,   579],\n",
       "          [ 2218,  2723,  1145, ...,    68,  1088,  1621],\n",
       "          ...,\n",
       "          [  788,   520,  2291, ...,   596,  1607,  2037],\n",
       "          [ 2721,  2151,    78, ...,    58,    63,  1020],\n",
       "          [ 1808,    53,  1202, ...,  1189,  2304,  1539]],\n",
       "\n",
       "         [[ 1365,  2614,  1288, ...,   211,  1091,  1200],\n",
       "          [ 1954,  1386,    84, ...,   103,   660,   165],\n",
       "          [ 1657,   970,  2341, ...,    80,  1121,   417],\n",
       "          ...,\n",
       "          [   60,  2636,  1967, ...,    68,   323,   999],\n",
       "          [  154,  1459,  2340, ...,   294,    70,   183],\n",
       "          [ 1619,  1279,    86, ...,  1885,   255,    74]]],\n",
       "\n",
       "\n",
       "        [[[ 2749,  1470,   667, ...,  2764,  1320,  1166],\n",
       "          [ 2342,  4589,  4041, ...,  1734,   539,  1262],\n",
       "          [ 3628,  4052,  1316, ...,  2049,   359,   366],\n",
       "          ...,\n",
       "          [ 7172,  7378,  3382, ...,  1774,   583,  1865],\n",
       "          [ 8633,  5574,  6321, ...,  4080,  1266,   509],\n",
       "          [ 5077,  4844,  5043, ...,   913,    84,   802]],\n",
       "\n",
       "         [[  898,   803,  4686, ...,  1846,  1401,  3273],\n",
       "          [  411,   135,  4116, ...,  1975,   714,  4097],\n",
       "          [ 2660,  1250,  4269, ...,  1521,  3285,  2085],\n",
       "          ...,\n",
       "          [ 5689,  3729,  2214, ...,    60,   616,   217],\n",
       "          [ 2389,  3644,  3262, ...,  3043,  2696,  1898],\n",
       "          [ 3746,  5027,  4867, ...,    59,  2964,  3934]],\n",
       "\n",
       "         [[ 1885,   546,  1359, ...,  2483,  2801,  1531],\n",
       "          [ 1836,   451,   567, ...,   887,   765,  1771],\n",
       "          [  574,  3252,  1600, ...,  1143,  1016,  2026],\n",
       "          ...,\n",
       "          [ 2414,  1590,  2067, ...,   228,    62,  1610],\n",
       "          [ 3389,  2854,  4722, ...,  1400,   883,   303],\n",
       "          [ 2937,  3506,  6286, ...,   436,   864,  1427]],\n",
       "\n",
       "         ...,\n",
       "\n",
       "         [[ 1611,  1048,  1290, ...,   666,   523,   471],\n",
       "          [ 1418,   772,   106, ...,  1351,  2494,    70],\n",
       "          [ 1387,   127,  1166, ...,   856,  2439,   735],\n",
       "          ...,\n",
       "          [ 2967,   545,  1568, ...,   817,  1177,   791],\n",
       "          [   45,   440,  4190, ...,   559,    61,    76],\n",
       "          [ 1531,   949,  2399, ...,  1085,   273,  1722]],\n",
       "\n",
       "         [[ 1082,  2148,  1041, ...,   642,   924,  1551],\n",
       "          [   68,    61,    53, ...,    63,   523,    88],\n",
       "          [  780,  1307,  1691, ...,   406,    77,  1858],\n",
       "          ...,\n",
       "          [ 5138,  1574,   104, ...,  1201,  1892,  1145],\n",
       "          [ 1995,   788,  1994, ...,  1158,    76,   189],\n",
       "          [ 1047,    67,   509, ...,  2254,   176,    57]],\n",
       "\n",
       "         [[  667,   354,    66, ...,   923,    95,  1385],\n",
       "          [   58,    73,    70, ...,   444,   734,  1187],\n",
       "          [  364,  2069,    94, ...,   849,  1636,   643],\n",
       "          ...,\n",
       "          [ 1907,  1971,  1737, ...,  1867,   108,  2114],\n",
       "          [  301,  2612,  1544, ...,  1290,    68,    44],\n",
       "          [  375,   238,   816, ...,    62,    74,    75]]]]],\n",
       "      dtype=uint16)"
      ]
     },
     "execution_count": 363,
     "metadata": {},
     "output_type": "execute_result"
    }
   ],
   "source": [
    "imp.load_pickle(a.name)"
   ]
  },
  {
   "cell_type": "code",
   "execution_count": null,
   "metadata": {},
   "outputs": [],
   "source": []
  },
  {
   "cell_type": "code",
   "execution_count": null,
   "metadata": {},
   "outputs": [],
   "source": []
  },
  {
   "cell_type": "code",
   "execution_count": 181,
   "metadata": {},
   "outputs": [
    {
     "name": "stdout",
     "output_type": "stream",
     "text": [
      "0 1 2 "
     ]
    },
    {
     "data": {
      "application/vnd.jupyter.widget-view+json": {
       "model_id": "63d29c6e380148b686d98c55cc6e995f",
       "version_major": 2,
       "version_minor": 0
      },
      "text/plain": [
       "interactive(children=(Dropdown(description='Color', index=10, options=('Reds', 'Greens', 'Gators', 'viridis', …"
      ]
     },
     "metadata": {},
     "output_type": "display_data"
    }
   ],
   "source": [
    "# Filter segmented nuclei based on circularity (0-1).\n",
    "slicenum = 6 # Z slice to use for circularity -- irrelevant if using max projections.\n",
    "circularity_min = 0.7\n",
    "\n",
    "test_data.filter_labelmask_circularity_apply4d_output = imp.filter_labelmask_circularity_apply4d(test_data.labelmask_filter_objsize_apply4d_output, slicenum=slicenum, \n",
    "    circularity_min=circularity_min)\n",
    "\n",
    "imp.viewer(test_data.filter_labelmask_circularity_apply4d_output, color=\"prism\")"
   ]
  },
  {
   "cell_type": "code",
   "execution_count": 11,
   "metadata": {},
   "outputs": [
    {
     "name": "stdout",
     "output_type": "stream",
     "text": [
      "1 2 3 4 5 6 7 8 9 10 11 12 13 14 15 16 17 18 "
     ]
    },
    {
     "data": {
      "application/vnd.jupyter.widget-view+json": {
       "model_id": "8ba41ccba2f14f65969baf432986232b",
       "version_major": 2,
       "version_minor": 0
      },
      "text/plain": [
       "interactive(children=(Dropdown(description='Color', index=10, options=('Reds', 'Greens', 'Gators', 'viridis', …"
      ]
     },
     "metadata": {},
     "output_type": "display_data"
    }
   ],
   "source": [
    "# Connect nuclei between frames.\n",
    "max_frames_skipped = 2\n",
    "\n",
    "nucmask_conn = imp.connect_nuclei(nucmask_filtercirc, max_frames_skipped=max_frames_skipped, usemax=True)\n",
    "imp.viewer(nucmask_conn, color='prism')"
   ]
  },
  {
   "cell_type": "code",
   "execution_count": 253,
   "metadata": {},
   "outputs": [
    {
     "data": {
      "text/plain": [
       "array([1.2])"
      ]
     },
     "execution_count": 253,
     "metadata": {},
     "output_type": "execute_result"
    }
   ],
   "source": [
    "orig = np.ones((5,5,5))\n",
    "orig[3] = 2\n",
    "np.unique(imp.zstack_normalize_mean(orig))"
   ]
  },
  {
   "cell_type": "code",
   "execution_count": 296,
   "metadata": {},
   "outputs": [
    {
     "name": "stdout",
     "output_type": "stream",
     "text": [
      "1 2 "
     ]
    }
   ],
   "source": [
    "reload(imp.detect_spots)\n",
    "stack = test_data.stack[1]\n",
    "min_distances = (stack.shape[-2], 25, 25)\n",
    "fitwindow_rad_xy = 10\n",
    "fitwindow_rad_z = 2\n",
    "sigma_small = 1\n",
    "correct_output = test_data.fit_ms2_output\n",
    "fits = imp.detect_spots.fit_ms2(stack, min_distances=min_distances, \n",
    "fitwindow_rad_xy=fitwindow_rad_xy, sigma_small=sigma_small)\n",
    "\n"
   ]
  },
  {
   "cell_type": "code",
   "execution_count": 297,
   "metadata": {},
   "outputs": [],
   "source": [
    "test_data.fit_ms2_output = fits\n",
    "imp.save_pickle(test_data, '/Users/michaelstadler/Bioinformatics/Projects/rpb1/bin/test/test_data.pkl')"
   ]
  },
  {
   "cell_type": "code",
   "execution_count": 291,
   "metadata": {},
   "outputs": [],
   "source": [
    "# Parameters for filtering fit\n",
    "reload(imp.detect_spots)\n",
    "peakiness = 4.2\n",
    "fits_filtered = imp.detect_spots.filter_ms2fits(test_data.fit_ms2_output, peakiness)\n",
    "#imp.quickview_ms2(stack, fits_filtered, 1)"
   ]
  },
  {
   "cell_type": "code",
   "execution_count": 295,
   "metadata": {},
   "outputs": [],
   "source": [
    "test_data.filter_ms2fits_output = fits_filtered\n",
    "imp.save_pickle(test_data, '/Users/michaelstadler/Bioinformatics/Projects/rpb1/bin/test/test_data.pkl')"
   ]
  },
  {
   "cell_type": "code",
   "execution_count": 301,
   "metadata": {},
   "outputs": [
    {
     "name": "stdout",
     "output_type": "stream",
     "text": [
      "0 1 2 "
     ]
    }
   ],
   "source": [
    "test_data.connect_ms2_frames_via_nuclei_output = imp.detect_spots.connect_ms2_frames_via_nuclei(test_data.filter_ms2fits_output, test_data.filter_labelmask_circularity_apply4d_output) "
   ]
  },
  {
   "cell_type": "code",
   "execution_count": 310,
   "metadata": {},
   "outputs": [],
   "source": [
    "test_data.filter_spot_duration_output = imp.detect_spots.filter_spot_duration(test_data.connect_ms2_frames_via_nuclei_output,2)"
   ]
  },
  {
   "cell_type": "code",
   "execution_count": 311,
   "metadata": {},
   "outputs": [],
   "source": [
    "imp.save_pickle(test_data, '/Users/michaelstadler/Bioinformatics/Projects/rpb1/bin/test/test_data.pkl')"
   ]
  },
  {
   "cell_type": "code",
   "execution_count": 18,
   "metadata": {},
   "outputs": [
    {
     "name": "stdout",
     "output_type": "stream",
     "text": [
      "0 1 2 3 4 5 6 7 8 9 10 11 12 13 14 15 16 17 18 "
     ]
    }
   ],
   "source": [
    "reload(imp.detect_spots)\n",
    "spots_connected = imp.detect_spots.connect_ms2_frames_via_nuclei(fits_filtered, nucmask, nucmask_dilation=7)"
   ]
  },
  {
   "cell_type": "code",
   "execution_count": 43,
   "metadata": {},
   "outputs": [],
   "source": [
    "mask = np.zeros([10, 100, 100])\n",
    "mask[4:7, 4:7, 4:7] = 10\n",
    "mask[0:2, 0:2, 0:2] = 81"
   ]
  },
  {
   "cell_type": "code",
   "execution_count": 46,
   "metadata": {},
   "outputs": [
    {
     "data": {
      "text/plain": [
       "False"
      ]
     },
     "execution_count": 46,
     "metadata": {},
     "output_type": "execute_result"
    }
   ],
   "source": [
    "np.array_equal(np.unique(mask), [0,10,80])"
   ]
  },
  {
   "cell_type": "code",
   "execution_count": 125,
   "metadata": {},
   "outputs": [],
   "source": [
    "from imagep import log_filter"
   ]
  },
  {
   "cell_type": "code",
   "execution_count": 116,
   "metadata": {},
   "outputs": [],
   "source": [
    "orig = np.zeros((5,5))\n",
    "orig[2:4,2:4] = 100"
   ]
  },
  {
   "cell_type": "code",
   "execution_count": 123,
   "metadata": {},
   "outputs": [
    {
     "data": {
      "application/vnd.jupyter.widget-view+json": {
       "model_id": "8ef2308ef9ac4626b8a6eb42ce2fe038",
       "version_major": 2,
       "version_minor": 0
      },
      "text/plain": [
       "interactive(children=(Dropdown(description='Color', index=1, options=('Reds', 'Greens', 'Gators', 'viridis', '…"
      ]
     },
     "metadata": {},
     "output_type": "display_data"
    }
   ],
   "source": [
    "imp.viewer([dog_filter(orig,10,1), orig])"
   ]
  },
  {
   "cell_type": "code",
   "execution_count": 124,
   "metadata": {},
   "outputs": [
    {
     "data": {
      "text/plain": [
       "array([[ 16,  14,  13,  13,  13],\n",
       "       [ 14,   7,  -3,  -3,   5],\n",
       "       [ 12,  -3, -25, -25,  -7],\n",
       "       [ 12,  -3, -25, -25,  -7],\n",
       "       [ 13,   5,  -7,  -7,   3]], dtype=int16)"
      ]
     },
     "execution_count": 124,
     "metadata": {},
     "output_type": "execute_result"
    }
   ],
   "source": [
    "dog_filter(orig,10,1)"
   ]
  },
  {
   "cell_type": "code",
   "execution_count": 113,
   "metadata": {},
   "outputs": [
    {
     "data": {
      "text/plain": [
       "array([[  3,   2,   2,   2,   3],\n",
       "       [  2,  -2,  -6,  -2,   2],\n",
       "       [  1,  -6, -11,  -6,   1],\n",
       "       [  2,  -2,  -6,  -2,   2],\n",
       "       [  3,   2,   2,   2,   3]])"
      ]
     },
     "execution_count": 113,
     "metadata": {},
     "output_type": "execute_result"
    }
   ],
   "source": [
    "np.array([[ 16,  14,  13,  13,  13],\n",
    "       [ 14,   7,  -3,  -3,   5],\n",
    "       [ 12,  -3, -25, -25,  -7],\n",
    "       [ 12,  -3, -25, -25,  -7],\n",
    "       [ 13,   5,  -7,  -7,   3]])"
   ]
  },
  {
   "cell_type": "code",
   "execution_count": 126,
   "metadata": {},
   "outputs": [
    {
     "data": {
      "text/plain": [
       "array([[ 0,  1,  0, -1,  1],\n",
       "       [ 1,  3,  2,  1, -1],\n",
       "       [ 1, -2, -3,  1, -1],\n",
       "       [-1,  2,  1,  0, -2],\n",
       "       [ 1, -1, -1, -2,  0]], dtype=int16)"
      ]
     },
     "execution_count": 126,
     "metadata": {},
     "output_type": "execute_result"
    }
   ],
   "source": [
    "log_filter(orig, 3)"
   ]
  },
  {
   "cell_type": "code",
   "execution_count": 127,
   "metadata": {},
   "outputs": [],
   "source": [
    "import flymovie"
   ]
  },
  {
   "cell_type": "code",
   "execution_count": 128,
   "metadata": {},
   "outputs": [
    {
     "data": {
      "text/plain": [
       "'/Users/michaelstadler/Bioinformatics/Projects/rpb1/bin/flymovie/__init__.py'"
      ]
     },
     "execution_count": 128,
     "metadata": {},
     "output_type": "execute_result"
    }
   ],
   "source": [
    "flymovie.__file__"
   ]
  },
  {
   "cell_type": "code",
   "execution_count": null,
   "metadata": {},
   "outputs": [],
   "source": []
  }
 ],
 "metadata": {
  "kernelspec": {
   "display_name": "Python (im)",
   "language": "python",
   "name": "im"
  },
  "language_info": {
   "codemirror_mode": {
    "name": "ipython",
    "version": 3
   },
   "file_extension": ".py",
   "mimetype": "text/x-python",
   "name": "python",
   "nbconvert_exporter": "python",
   "pygments_lexer": "ipython3",
   "version": "3.8.3"
  }
 },
 "nbformat": 4,
 "nbformat_minor": 4
}
