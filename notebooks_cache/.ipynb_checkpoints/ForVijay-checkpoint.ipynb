{
 "cells": [
  {
   "cell_type": "markdown",
   "metadata": {},
   "source": [
    "# MS2 processing\n",
    "\n",
    "This is work in progress, so it's not really set up for others to use and descriptions are weak. The input data is 2-channel fluorescence microscopy movies of fly embryos. In one channel is a nuclear-protein (which marks nuclei and is also interesting in its own right), and in the other channel are \"MS2\" spots, which are individual transcribed genes. The intensity of the spot corresponds to how actively the gene is being transcribed. The resulting data give us a real time readout of gene transcription. The computational challenge is to segment nuclei, detect MS2 spots, and quantify the fluorescence intensity of those spots. I also do some correcting of those measurements (for bleaching and sample depth), but I'm working on those and they're not quite ready.\n",
    "\n",
    "I wrote everything with the idea of being used in an interactive notebook. The reason is that the data are not (yet) standardized. I potentially want to analyze data with different resolutions, fields of view, nuclear sizes (a function of the developmental stage of the embryo), nuclear proteins (which protein is fluorescently labeled), laser intensities (influencing signal intensity and contrast), and other variables. As such it isn't currently set up to be a single command-line pipeline where you input files and it spits out processed data. I expect the user to tweak parameters at various steps to get it to work for a given dataset. Eventually, some of these experiments might get standardized to that point, and alternately good enough code could probably work that way.\n",
    "\n",
    "A note on speed: This dataset processes pretty quickly because 1) it's a small dataset and 2) I've sped things up by working in 2D where possible, particularly with the nuclear segmentation. This is workable, but it would be better to do proper 3D segmentation. It's just that with larger datasets, 3D segmentation takes a long time. Parallelizing parts to speed this up would be very nice...\n",
    "\n",
    "The notebook calls functions from the imagep.py file (located in bin/), and imagep.py requires the file fitting.py (also in bin) to be in the same directory. The dependencies are also probably going to be hell -- it seems that for anyone else to use, putting it in a docker container would be helpful. Anyway, this is its current state.\n",
    "\n",
    "## 0. Set files\n",
    "\n",
    "Example data files can be downloaded at https://berkeley.box.com/s/gece4vm6k5e4o16f0x79irmr2bmi9ue9\n",
    "\n",
    "There are 5 files (consecutive movies -- we periodically re-adjust the Z position to account for drift), but you don't need to do all 5. The first 2 will suffice."
   ]
  },
  {
   "cell_type": "code",
   "execution_count": null,
   "metadata": {},
   "outputs": [],
   "source": [
    "# Set channels corresponding to nuclear signal and MS2 spots.\n",
    "nucchannel = 0\n",
    "spotchannel = 1\n",
    "# Set paths for output movie object, input files, and bin.\n",
    "mv_filename = ''\n",
    "czi_folder_path = '/Volumes/Stadler100/2021-03-11'\n",
    "bin_path = '/Users/michaelstadler/Bioinformatics/Projects/rpb1/bin'\n",
    "\n",
    "czi_files = ['20210311-Rpb1GFP-HbMS2-em1-zsmv-03.czi',\n",
    "             '20210311-Rpb1GFP-HbMS2-em1-zsmv-04.czi',\n",
    "             '20210311-Rpb1GFP-HbMS2-em1-zsmv-05.czi',\n",
    "             '20210311-Rpb1GFP-HbMS2-em1-zsmv-06.czi',\n",
    "             '20210311-Rpb1GFP-HbMS2-em1-zsmv-07.czi',\n",
    "            ]"
   ]
  },
  {
   "cell_type": "code",
   "execution_count": null,
   "metadata": {},
   "outputs": [],
   "source": [
    "# Import public packages.\n",
    "import numpy as np\n",
    "import matplotlib.pyplot as plt\n",
    "from scipy import ndimage as ndi \n",
    "from importlib import reload\n",
    "import czifile\n",
    "import sys\n",
    "import xml.etree.ElementTree as ET\n",
    "%matplotlib inline\n",
    "\n",
    "# Import my packages.\n",
    "sys.path.append(bin_path)\n",
    "import imagep as imp\n",
    "from imagep import viewer, save_pickle, load_pickle, box_spots, read_czi"
   ]
  },
  {
   "cell_type": "markdown",
   "metadata": {},
   "source": [
    "## 1. Read input files"
   ]
  },
  {
   "cell_type": "code",
   "execution_count": null,
   "metadata": {},
   "outputs": [],
   "source": [
    "# Read and join czi files into single image stack, recording frames at which movies\n",
    "# are joined and starting Z positions.\n",
    "stack, join_frames, starting_positions = imp.read_czi_multiple(czi_files, czi_folder_path)"
   ]
  },
  {
   "cell_type": "code",
   "execution_count": null,
   "metadata": {},
   "outputs": [],
   "source": [
    "# Take a look at the data\n",
    "viewer(stack, zmax=True)"
   ]
  },
  {
   "cell_type": "markdown",
   "metadata": {},
   "source": [
    "## 2. Nuclear Segmentation\n",
    "### 2-1 Determine parameters for segmentation of nuclei."
   ]
  },
  {
   "cell_type": "code",
   "execution_count": null,
   "metadata": {},
   "outputs": [],
   "source": [
    "# Perform initial nuclear segmentation using the first few frames to determine parameters.\n",
    "seed_window = (30,30)\n",
    "min_seed_dist = 30\n",
    "sigma = 5\n",
    "usemax = True\n",
    "\n",
    "# Descriptions of parameters:\n",
    "#?imp.segment_nuclei_3Dstack_rpb1"
   ]
  },
  {
   "cell_type": "code",
   "execution_count": null,
   "metadata": {},
   "outputs": [],
   "source": [
    "nucmask_test = imp.segment_nuclei_4dstack(stack[nucchannel, 6:7], imp.segment_nuclei_3Dstack_rpb1, seed_window=seed_window, min_seed_dist=min_seed_dist, sigma=sigma, usemax=usemax)\n",
    "viewer(nucmask_test, color='prism')"
   ]
  },
  {
   "cell_type": "markdown",
   "metadata": {},
   "source": [
    "### 2-2. Perform initial segmentation, filtering, and connect nuclei"
   ]
  },
  {
   "cell_type": "code",
   "execution_count": null,
   "metadata": {
    "scrolled": true
   },
   "outputs": [],
   "source": [
    "# Segment nuclei using parameters determined above.\n",
    "nucmask_init = imp.segment_nuclei_4dstack(stack[nucchannel], imp.segment_nuclei_3Dstack_rpb1, seed_window=seed_window, min_seed_dist=min_seed_dist, sigma=sigma, usemax=usemax)\n",
    "viewer(nucmask_init, color='prism')"
   ]
  },
  {
   "cell_type": "code",
   "execution_count": null,
   "metadata": {},
   "outputs": [],
   "source": [
    "# Glance at histogram of object sizes.\n",
    "plt.hist(np.unique(nucmask_init[0], return_counts=True)[1], bins=20);"
   ]
  },
  {
   "cell_type": "code",
   "execution_count": null,
   "metadata": {},
   "outputs": [],
   "source": [
    "# Filter segmented nuclei based on their size.\n",
    "size_min = 0\n",
    "size_max = 50000\n",
    "\n",
    "nucmask_sizefiltered = imp.labelmask_filter_objsize_apply4d(nucmask_init, size_min, size_max)\n",
    "\n",
    "viewer(nucmask_sizefiltered, color=\"prism\")"
   ]
  },
  {
   "cell_type": "code",
   "execution_count": null,
   "metadata": {},
   "outputs": [],
   "source": [
    "# Filter segmented nuclei based on circularity (0-1).\n",
    "slicenum = 6 # Z slice to use for circularity -- irrelevant if using max projections.\n",
    "circularity_min = 0.7\n",
    "\n",
    "nucmask_filtercirc = imp.filter_labelmask_circularity_apply4d(nucmask_sizefiltered, slicenum=slicenum, \n",
    "    circularity_min=circularity_min)\n",
    "\n",
    "viewer(nucmask_filtercirc, color=\"prism\")"
   ]
  },
  {
   "cell_type": "code",
   "execution_count": null,
   "metadata": {
    "scrolled": true
   },
   "outputs": [],
   "source": [
    "# Connect nuclei between frames.\n",
    "max_frames_skipped = 2\n",
    "\n",
    "nucmask_conn = imp.connect_nuclei(nucmask_filtercirc, max_frames_skipped=max_frames_skipped, usemax=True)\n",
    "viewer(nucmask_conn, color='prism')"
   ]
  },
  {
   "cell_type": "markdown",
   "metadata": {},
   "source": [
    "### 2-3. Interpolate to fill in gaps\n",
    "\n",
    "Working on this, currently nonfunctional."
   ]
  },
  {
   "cell_type": "code",
   "execution_count": null,
   "metadata": {},
   "outputs": [],
   "source": [
    "#nucmask = imp.interpolate_nuclear_mask(nucmask_conn, 3, usemax=True)\n",
    "nucmask = nucmask_conn"
   ]
  },
  {
   "cell_type": "markdown",
   "metadata": {},
   "source": [
    "## 3. Detecting MS2 spots\n",
    "### 3-1 Perform gaussian fitting on MS2 channel"
   ]
  },
  {
   "cell_type": "code",
   "execution_count": null,
   "metadata": {
    "scrolled": true
   },
   "outputs": [],
   "source": [
    "min_distances = (stack.shape[-2], 25, 25)\n",
    "fitwindow_rad_xy = 10\n",
    "fitwindow_rad_z = 2\n",
    "sigma_small = 1\n",
    "\n",
    "fits = imp.fit_ms2(stack[spotchannel], min_distances=min_distances, fitwindow_rad_xy=fitwindow_rad_xy, sigma_small=sigma_small)"
   ]
  },
  {
   "cell_type": "markdown",
   "metadata": {},
   "source": [
    "### 3-2 Filter fits"
   ]
  },
  {
   "cell_type": "code",
   "execution_count": null,
   "metadata": {},
   "outputs": [],
   "source": [
    "# Parameters for filtering fit\n",
    "peakiness = 4.2\n",
    "fits_filtered = imp.filter_ms2fits(fits, peakiness, stack, spotchannel)\n",
    "imp.quickview_ms2(stack, fits_filtered, 1)"
   ]
  },
  {
   "cell_type": "markdown",
   "metadata": {},
   "source": [
    "### 3-3 Connect spots between frames"
   ]
  },
  {
   "cell_type": "code",
   "execution_count": null,
   "metadata": {},
   "outputs": [],
   "source": [
    "# Connect all frames.\n",
    "spots_connected = imp.connect_ms2_frames_via_nuclei(fits_filtered, nucmask, nucmask_dilation=10)"
   ]
  },
  {
   "cell_type": "markdown",
   "metadata": {},
   "source": [
    "### 3-4 Filter detected spots"
   ]
  },
  {
   "cell_type": "code",
   "execution_count": null,
   "metadata": {},
   "outputs": [],
   "source": [
    "# Filter for trajectory length.\n",
    "min_len = 10\n",
    "\n",
    "spot_data = imp.filter_spot_duration(spots_connected, min_len)"
   ]
  },
  {
   "cell_type": "code",
   "execution_count": null,
   "metadata": {},
   "outputs": [],
   "source": [
    "# Check the results.\n",
    "imp.quickview_ms2(stack, spot_data, channel = spotchannel, MAX=True)"
   ]
  },
  {
   "cell_type": "markdown",
   "metadata": {},
   "source": [
    "## 4. Integrate signal around spots, apply corrections.\n",
    "### 4-1. Integrate MS2 signal\n",
    "__*Integrated volume of MS2 signal: finds mean signal (in un-processed data) of an ellipsoid centered at the spot center*__"
   ]
  },
  {
   "cell_type": "code",
   "execution_count": null,
   "metadata": {},
   "outputs": [],
   "source": [
    "ij_rad = 6\n",
    "z_rad = 1.1\n",
    "ij_scale = 1\n",
    "z_scale = 1\n",
    "\n",
    "spot_data2 = imp.add_volume_mean(spot_data, stack, spotchannel, ij_rad, z_rad, ij_scale, z_scale)"
   ]
  },
  {
   "cell_type": "markdown",
   "metadata": {},
   "source": [
    "### 4-2 Integrate gaussian fits\n",
    "__*Integrates the 'area under the curve'&ast; of the gaussian fit*__"
   ]
  },
  {
   "cell_type": "code",
   "execution_count": null,
   "metadata": {},
   "outputs": [],
   "source": [
    "wlength_ij = 13\n",
    "wlength_z = 3\n",
    "reload(imp)\n",
    "spot_data3 = imp.add_gaussian_integration(spot_data2, wlength_ij, wlength_z)"
   ]
  },
  {
   "cell_type": "markdown",
   "metadata": {},
   "source": [
    "### 4-3 Integrate signal from protein channel\n",
    "__*Integrated volume of protein signal: finds mean signal (in un-processed data) of an ellipsoid centered at the spot center*__"
   ]
  },
  {
   "cell_type": "code",
   "execution_count": null,
   "metadata": {},
   "outputs": [],
   "source": [
    "ij_rad = 3\n",
    "z_rad = 1.1\n",
    "ij_scale = 1\n",
    "z_scale = 1\n",
    "\n",
    "spot_data4 = imp.add_volume_mean(spot_data3, stack, nucchannel, ij_rad, z_rad, ij_scale, z_scale)"
   ]
  },
  {
   "cell_type": "markdown",
   "metadata": {},
   "source": [
    "### 4-4. Package into *movie* object."
   ]
  },
  {
   "cell_type": "code",
   "execution_count": null,
   "metadata": {},
   "outputs": [],
   "source": [
    "mv = imp.movie(stack, nucmask, fits, spot_data4)"
   ]
  },
  {
   "cell_type": "markdown",
   "metadata": {},
   "source": [
    "### 4-5 Perform corrections\n",
    "\n",
    "(This section under construction)"
   ]
  },
  {
   "cell_type": "markdown",
   "metadata": {},
   "source": [
    "Plan for Z corrections:\n",
    "\n",
    "- Before and after dataset, record position of embryo surface in microns.  \n",
    "- Pull Z stack start positions from czi metadata for each movie.\n",
    "- Assume that drift is linear. Combination of start positions and calculated \"true\" embryo position should give something close to a real embryo depth measurement for each Z position in the dataset. \n",
    "\n",
    "How to apply this in code?"
   ]
  },
  {
   "cell_type": "code",
   "execution_count": null,
   "metadata": {},
   "outputs": [],
   "source": [
    "# Get z increment (in microns) from metadata.\n",
    "\"\"\"\n",
    "metadata = czifile.CziFile(czi_file).metadata()\n",
    "root = ET.fromstring(metadata)\n",
    "z_increment = float(root[0][4][3][11][5][3][0][1].text)\n",
    "print(z_increment)\n",
    "\"\"\""
   ]
  },
  {
   "cell_type": "code",
   "execution_count": null,
   "metadata": {},
   "outputs": [],
   "source": [
    "# Generate new dataframes using z depth correction calibration.\n",
    "\"\"\"\n",
    "slope = -338\n",
    "slice_thickness = z_increment\n",
    "mv.intvol_zc, mv.intfit_zc, mv.prot_zc = imp.correct_spot_data_depth(mv.spot_data, slope=slope, slice_thickness=slice_thickness, \n",
    "    cols=[9,10,11], return_dfs=True)\n",
    "\"\"\""
   ]
  },
  {
   "cell_type": "code",
   "execution_count": null,
   "metadata": {},
   "outputs": [],
   "source": [
    "#mv.intvol_bzc = imp.spotdf_bleach_correct(mv.intvol_zc, mv.stack[nucchannel])\n",
    "#mv.intfit_bzc = imp.spotdf_bleach_correct(mv.intfit_zc, mv.stack[nucchannel])\n",
    "#mv.prot_bzc = imp.spotdf_bleach_correct(mv.prot_zc, mv.stack[nucchannel])"
   ]
  },
  {
   "cell_type": "code",
   "execution_count": null,
   "metadata": {},
   "outputs": [],
   "source": [
    "mv.intvol_bc = imp.spotdf_bleach_correct(mv.intvol, mv.stack[nucchannel])\n",
    "mv.intfit_bc = imp.spotdf_bleach_correct(mv.intfit, mv.stack[nucchannel])\n",
    "mv.prot_bc = imp.spotdf_bleach_correct(mv.prot, mv.stack[nucchannel])"
   ]
  },
  {
   "cell_type": "code",
   "execution_count": null,
   "metadata": {},
   "outputs": [],
   "source": [
    "save_pickle(mv, mv_filename)"
   ]
  },
  {
   "cell_type": "markdown",
   "metadata": {},
   "source": [
    "## 5. QC"
   ]
  },
  {
   "cell_type": "code",
   "execution_count": null,
   "metadata": {
    "scrolled": false
   },
   "outputs": [],
   "source": [
    "# Plot some traces to see if they look reasonable.\n",
    "imp.spotdf_plot_traces(mv.intvol_bc, mv.intfit_bc, 50, sigma=0.1)"
   ]
  },
  {
   "cell_type": "code",
   "execution_count": null,
   "metadata": {
    "scrolled": true
   },
   "outputs": [],
   "source": [
    "# Examine time-averaged xy (Z-projection) and xz views of each spot.\n",
    "sm = imp.spot_movies(mv.stack, mv.spot_data, 1,17, fill=0, view=False)\n",
    "# Note: put this in a function.\n",
    "for x in range(1,len(sm)):\n",
    "    xy = sm[x].mean(axis=(0,1))\n",
    "    xz = sm[x].mean(axis=(0,2))\n",
    "    fig, ax = plt.subplots(1,2)\n",
    "    ax[0].imshow(xy)\n",
    "    ax[0].set_title(x)\n",
    "    ax[1].imshow(xz)\n"
   ]
  },
  {
   "cell_type": "code",
   "execution_count": null,
   "metadata": {},
   "outputs": [],
   "source": [
    "# View \"spot movies\", small boxes of stack data centered on detected spots.\n",
    "spot_movies = imp.spot_movies(mv.stack, mv.spot_data, channel=1, len_ij=51, fill=0)\n",
    "# Mean projection of z slices -1 to +1:\n",
    "viewer(spot_movies[:,:,2:5].mean(axis=2), 5, order='ntxy', color='cividis')\n",
    "# No projection (with Z axis):\n",
    "#viewer(spot_movies, 5, order='ntzxy', color='cividis')"
   ]
  },
  {
   "cell_type": "code",
   "execution_count": null,
   "metadata": {},
   "outputs": [],
   "source": [
    "# Optional: Examine individual spots in original data.\n",
    "spot_to_view = 29\n",
    "imp.quickview_ms2(mv.stack, mv.spot_data, channel=1, spot_id=spot_to_view, MAX=True)"
   ]
  },
  {
   "cell_type": "code",
   "execution_count": null,
   "metadata": {},
   "outputs": [],
   "source": []
  }
 ],
 "metadata": {
  "kernelspec": {
   "display_name": "Python (im)",
   "language": "python",
   "name": "im"
  },
  "language_info": {
   "codemirror_mode": {
    "name": "ipython",
    "version": 3
   },
   "file_extension": ".py",
   "mimetype": "text/x-python",
   "name": "python",
   "nbconvert_exporter": "python",
   "pygments_lexer": "ipython3",
   "version": "3.8.3"
  }
 },
 "nbformat": 4,
 "nbformat_minor": 4
}
