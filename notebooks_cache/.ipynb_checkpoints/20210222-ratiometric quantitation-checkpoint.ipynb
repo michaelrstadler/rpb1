{
 "cells": [
  {
   "cell_type": "markdown",
   "metadata": {},
   "source": [
    "# Quantifying Rpb1 blobs\n",
    "\n",
    "A longstanding goal about all of our observations of transcription protein clustering is to quantify the number of proteins in the various structures we see. Rpb1 is ripe for this: it forms very clear, discrete, stable structures, and we have some very good biological hypotheses about what these structures are and what questions we can ask about them. We've been around theh ringer trying different things, but I had the idea of looking at MCP-GFP + MS2. The idea is that transcribed loci could act as standards: we have some estimate of the number of GFP molecules at these loci (it's not a very good estimate) and we could use these loci to extrapolate to the strength of our blobs.\n",
    "\n",
    "I got flies from Nick and made a few movies, and had a surprise: I'm pretty certain I see individual MS2-labeled mRNAs in these movies. This has given me at least the beginning of a plan. These mRNAs give us standards with a much more accurate accounting of GFP number (we need only account for occupancy of the stem loops, instead of occupancy of stem loops as well as pol2 density at the transcribed loci). These particles are also happily in the range of the numbers of elongating polymerases we expect at early-transcribed loci. I need to check on the estimates, but I think the maximum occupancy is thought to be something like one every 30-50 bp which would be ~20-35 for a 1 kb gene, and early-transcribed genes are pretty short. Certainly on the same order of magnitude.\n",
    "\n",
    "It's also worth pointing out that the presence of these guys gives us TWO standards: the individual mRNAs and the transcribed spot. We also have multiple MS2 constructs (including eveS2 constructs with variable lengths). One can imagine building standard curves from single mRNAs and various transcription spots. This method may not give us super-accurate absolute numbers, but it seems highly probably that we can at least situate the Rpb1 foci on that curve and get some crude estimates of molecule number, at least.\n",
    "\n",
    "I did some reading about attempts to use standards (ratiometric quantitation). I'm not sure about those strategies, but they serve as some kind of guidelines. So what do I want to try to do?\n",
    "\n",
    "First, I need to make some new movies. I've learned some things from looking through the movies I have:\n",
    "\n",
    "- The best point for seeing single mRNAs is in the early cycles. Later on (nc14) they're too dense.\n",
    "- The best time to see Rpb1 foci is also (of course) in the early cycles.\n",
    "- I don't currently have well-matched samples, so I need samples collected with matched conditions.\n",
    "\n",
    "Things I want to try for sample collection:\n",
    "\n",
    "1. Collect matched movies of early cycles in Rpb1 and MCP-GFP+MS2.\n",
    "2. Collect a laser-off image for background.\n",
    "2. Try using higher laser power (better to see single mRNAs).\n",
    "3. Image MCP-GFP with no MS2 to confirm that I don't see these particles that I think are MS2-labeled mRNAs.\n",
    "4. Try my frozen trick again. Freeze some embryos, see if the single mRNAs are stabilized."
   ]
  },
  {
   "cell_type": "code",
   "execution_count": 1,
   "metadata": {},
   "outputs": [],
   "source": [
    "# Import public packages.\n",
    "import numpy as np\n",
    "import matplotlib.pyplot as plt\n",
    "import pandas as pd\n",
    "from scipy import ndimage as ndi \n",
    "from importlib import reload\n",
    "import pickle\n",
    "import czifile\n",
    "\n",
    "# The order of loading matplotlib is important to avoid issues on my machine.\n",
    "%matplotlib inline\n",
    "import matplotlib as mpl\n",
    "#%matplotlib notebook\n",
    "#%matplotlib notebook\n",
    "\n",
    "# Import my packages.\n",
    "import sys\n",
    "sys.path.append('/Users/michaelstadler/Bioinformatics/Projects/rpb1/bin')\n",
    "import imagep as imp\n",
    "reload(imp)\n",
    "from imagep import viewer, save_pickle, load_pickle, box_spots, read_czi"
   ]
  },
  {
   "cell_type": "markdown",
   "metadata": {},
   "source": [
    "## Analysis?\n",
    "\n",
    "OK what about analysis? To start with, I'm just going to set up a thing where I click on spots. I can work on automatic detection later but not worth it currently. After detecting spots, I guess I need to draw shells and sum intensities. The papers I was looking at did this thing where they would define an inner region (say 5x5) that encompasses the spots and also a 7x7 region, subtracting the inner from the outer to give a \"background\". \n",
    "\n",
    "From Lawrimore, Bloom, and Salmon JCB 2011:\n",
    "\n",
    "*Integrated fluorescence intensity (minus BG) measurements were ob- tained using the Hoffman et al. (2001) method as described in Joglekar et al. (2006) and Johnston et al. (2010). A 5 × 5 pixel region was centered on the fluorescent cluster or spot to obtain integrated fluores- cence, whereas a 7 × 7 region centered on the 5 × 5 region was used to obtain surrounding BG intensity. We only measured kinetochore clus- ters that did not obviously move. Measured values were calculated by: integrated fluorescence intensity (minus BG) = integrated counts for 5 × 5 region – (integrated counts for the 7 × 7 region  integrated counts for 5 × 5 region) × pixel area of the 5 × 5 region/(pixel area of the 7 × 7 region  pixel area of a 5 × 5 region). BG measurements were obtained from the 7 × 7 pixel region minus the value for the 5 × 5 pixel region and scaled to the same area as the specimen after subtracting the value for a camera image without laser illumination (mostly readout offset and noise). Note that each count (gray value in the 12 bit image) corresponds to approximately five photoelectrons.*\n",
    "\n",
    "I wonder about, as an alernative, just collecting a box around all of the spots into a stack. Then I can make a composite using different metrics (mean, median, max, etc.) and compare to background (outer pixels). This might be more flexible.\n",
    "\n",
    "Need to work on the click coordinates first:"
   ]
  },
  {
   "cell_type": "code",
   "execution_count": 2,
   "metadata": {},
   "outputs": [],
   "source": [
    "stack= imp.read_czi('/Users/michaelstadler/Bioinformatics/Projects/rpb1/data/ratio-rpb1-20200731-rpb1Sna-rd2-em1-zs-02.czi', swapaxes=False)"
   ]
  },
  {
   "cell_type": "code",
   "execution_count": 9,
   "metadata": {},
   "outputs": [
    {
     "data": {
      "text/plain": [
       "{(8, 217, 155), (8, 645, 91), (8, 836, 217), (8, 977, 226), (8, 978, 86)}"
      ]
     },
     "execution_count": 9,
     "metadata": {},
     "output_type": "execute_result"
    }
   ],
   "source": [
    "b"
   ]
  },
  {
   "cell_type": "code",
   "execution_count": 54,
   "metadata": {
    "scrolled": false
   },
   "outputs": [
    {
     "data": {
      "application/vnd.jupyter.widget-view+json": {
       "model_id": "36b5ec91654a4db2b6cbbfd16296f923",
       "version_major": 2,
       "version_minor": 0
      },
      "text/plain": [
       "interactive(children=(Dropdown(description='Color', index=3, options=('Gators', 'plasma', 'gray_r', 'Greens', …"
      ]
     },
     "metadata": {},
     "output_type": "display_data"
    }
   ],
   "source": [
    "reload(imp)\n",
    "imp.viewer(stack, figsize=6, coordfile='/Users/michaelstadler/Bioinformatics/Projects/rpb1/bin/test.txt')"
   ]
  },
  {
   "cell_type": "markdown",
   "metadata": {},
   "source": [
    "OK, I clicked through some spots. I need to do some work on them. Center them in Z and get rid of duplicates."
   ]
  },
  {
   "cell_type": "code",
   "execution_count": 2,
   "metadata": {},
   "outputs": [],
   "source": [
    "coordfile='/Users/michaelstadler/Bioinformatics/Projects/rpb1/bin/test2.txt'\n",
    "def clean_spot_clicks(stack, coordfile, nudge=True, length=5, zrad=1):\n",
    "    def nudge_coords(t,z,x,y, stack, rad, zrad):\n",
    "        # Find maximum Z.\n",
    "        new_z = z\n",
    "        max_mean = 0\n",
    "        xmin = x-rad\n",
    "        xmax = x+rad+1\n",
    "        ymin = y-rad\n",
    "        ymax = y+rad+1\n",
    "        for z_test in range(np.max([0, z-zrad]), np.min([stack.shape[-3], z+zrad+1])):\n",
    "            box = stack[t, z_test,xmin:xmax, ymin:ymax]\n",
    "            box_mean = np.mean(box)\n",
    "            #print(z_test, box_mean)\n",
    "            if box_mean > max_mean:\n",
    "                new_z = z_test\n",
    "                max_mean = box_mean\n",
    "        # Currently, leave x,y alone. Could nudge them too.\n",
    "        #new_z = z\n",
    "        box = stack[t, new_z, xmin:xmax, ymin:ymax]\n",
    "        rel_x, rel_y = np.where(box == np.max(box))\n",
    "        new_x = x + rel_x[0] - rad\n",
    "        new_y = y + rel_y[0] - rad\n",
    "        #new_x = x\n",
    "        #new_y = y\n",
    "        \n",
    "        return (t, new_z,new_x,new_y)              \n",
    "    \n",
    "    rad = int(length /2)\n",
    "    spots = set()\n",
    "    \n",
    "    with open(coordfile, 'r') as f:\n",
    "        for line in f:\n",
    "            line = line.rstrip()\n",
    "            if (line[0] == '#'):\n",
    "                continue\n",
    "            t,z,y,x = line.split('\\t') # x and y are flipped by click storer.\n",
    "            if (x == 'None') or (y == 'None'):\n",
    "                continue\n",
    "            t,z,x,y = [float(i) for i in [t,z,x,y]]\n",
    "            t,z,x,y = [int(i) for i in [t,z,x,y]]\n",
    "            if (nudge):\n",
    "                spots.add(nudge_coords(t,z,x,y, stack, rad, zrad))\n",
    "            else:\n",
    "                spots.add((t,z,x,y))\n",
    "    \n",
    "    return spots\n",
    "            \n",
    "            \n",
    "\n",
    "#b = clean_spot_clicks(stack[0], coordfile)"
   ]
  },
  {
   "cell_type": "code",
   "execution_count": 3,
   "metadata": {},
   "outputs": [],
   "source": [
    "def make_substack_from_coords(stack, coordslist, length=9):\n",
    "    new_stack = np.zeros((1,length,length))\n",
    "    rad = int(length / 2)\n",
    "    for (t, z,x,y) in coordslist:\n",
    "        box = stack[t,z, (x-rad):(x+rad+1), (y-rad):(y+rad+1)]\n",
    "        new_stack = np.vstack((new_stack, [box]))\n",
    "    return new_stack[1:]\n",
    "\n",
    "#c = make_substack_from_coords(stack[0], b, 29)"
   ]
  },
  {
   "cell_type": "code",
   "execution_count": 4,
   "metadata": {},
   "outputs": [],
   "source": [
    "def process_spots(stackfiles, coordfiles, length_clean=5, zrad=1, length_box=9, channel=0, nudge=True):\n",
    "    pointstack = np.zeros((1, length_box, length_box))\n",
    "    for i in range(0, len(stackfiles)):\n",
    "        stack = read_czi(stackfiles[i])\n",
    "        coordfile = coordfiles[i]\n",
    "        coords_cleaned = clean_spot_clicks(stack[channel], coordfile, length=length_clean, zrad=zrad, nudge=nudge)\n",
    "        substack = make_substack_from_coords(stack[channel], coords_cleaned, length_box)\n",
    "        pointstack = np.vstack([pointstack, substack])\n",
    "    return pointstack[1:]"
   ]
  },
  {
   "cell_type": "code",
   "execution_count": 5,
   "metadata": {},
   "outputs": [],
   "source": [
    "def fg_bg(x, inner=5, outter=7, bg_subtract=True):\n",
    "    midpoint = int(x.shape[-1] / 2)\n",
    "    inner_rad = int(inner / 2)\n",
    "    outter_rad = int(outter / 2)\n",
    "    inner_start = midpoint - inner_rad\n",
    "    inner_end = midpoint + inner_rad + 1\n",
    "    outter_start = midpoint - outter_rad\n",
    "    outter_end = midpoint + outter_rad + 1\n",
    "    means = []\n",
    "    for box in x:\n",
    "        inner_box = box[inner_start:inner_end]\n",
    "        if (bg_subtract):\n",
    "            outter_box = box[outter_start:outter_end]      \n",
    "            outter_mean = (np.sum(outter_box) - np.sum(inner_box)) / (outter_box.size - inner_box.size)\n",
    "            inner_mean = np.mean(inner_box)\n",
    "            bgsub_mean = inner_mean - outter_mean\n",
    "            means.append(bgsub_mean)\n",
    "        else:\n",
    "            means.append(np.mean(inner_box))\n",
    "    return means    "
   ]
  },
  {
   "cell_type": "code",
   "execution_count": 128,
   "metadata": {},
   "outputs": [],
   "source": [
    "stackfiles=['/Users/michaelstadler/Bioinformatics/Projects/rpb1/data/20210224-rpb1gfp-eveMS2-em1-488-3pct-03.czi',\n",
    "           '/Users/michaelstadler/Bioinformatics/Projects/rpb1/data/20210224-rpb1gfp-eveMS2-em4-488-3pct-01.czi']\n",
    "\n",
    "coordfiles=['/Users/michaelstadler/Bioinformatics/Projects/rpb1/results/20210224-rpb1gfp-eveMS2-em1-488-3pct-03-clicks1.txt',\n",
    "           '/Users/michaelstadler/Bioinformatics/Projects/rpb1/results/20210224-rpb1gfp-eveMS2-em4-488-3pct-01-clicks1.txt']\n",
    "a = process_spots(stackfiles, coordfiles)"
   ]
  },
  {
   "cell_type": "code",
   "execution_count": 131,
   "metadata": {},
   "outputs": [
    {
     "data": {
      "application/vnd.jupyter.widget-view+json": {
       "model_id": "df03832cbff94b3491429f9629f0043a",
       "version_major": 2,
       "version_minor": 0
      },
      "text/plain": [
       "interactive(children=(Dropdown(description='Color', index=3, options=('Gators', 'plasma', 'gray_r', 'Greens', …"
      ]
     },
     "metadata": {},
     "output_type": "display_data"
    }
   ],
   "source": [
    "reload(imp)\n",
    "imp.viewer(a, figsize=5)"
   ]
  },
  {
   "cell_type": "markdown",
   "metadata": {},
   "source": [
    "### Seems to work well.\n",
    "\n",
    "Once I collect new data, do the click thing on single mRNAs and transcription sites in the MCP data, Rpb1 foci in the Rpb1 data. Once I have substacks for each, can come up with things to do. One obvious thing is take the mean of the stack, compare the raw intensities (how many molecules are there?) as well as the intensity above local background (the 5 and 7 thing), which is a little interesting to interpret since the nuclear backgrounds are so different. Also valuable to assign some kind of quantitation (e.g. sum of intensities in central 5x5 region) and look at distributions of the different types."
   ]
  },
  {
   "cell_type": "code",
   "execution_count": 99,
   "metadata": {},
   "outputs": [],
   "source": [
    "stack_rpb =read_czi('/Users/michaelstadler/Bioinformatics/Projects/rpb1/data/20210224-rpb1gfp-eveMS2-em1-488-3pct-02.czi')\n",
    "coordfile='/Users/michaelstadler/Bioinformatics/Projects/rpb1/results/20210224-rpb1gfp-eveMS2-em1-488-3pct-02-clicks1.txt'\n",
    "#imp.viewer(stack_rpb, figsize=6, coordfile=coordfile)"
   ]
  },
  {
   "cell_type": "code",
   "execution_count": 108,
   "metadata": {},
   "outputs": [],
   "source": [
    "stack_rpb =read_czi('/Users/michaelstadler/Bioinformatics/Projects/rpb1/data/20210224-rpb1gfp-eveMS2-em4-488-3pct-01.czi')\n",
    "coordfile='/Users/michaelstadler/Bioinformatics/Projects/rpb1/results/20210224-rpb1gfp-eveMS2-em4-488-3pct-01-clicks1.txt'\n",
    "#imp.viewer(stack_rpb, figsize=6, coordfile=coordfile)"
   ]
  },
  {
   "cell_type": "code",
   "execution_count": 110,
   "metadata": {},
   "outputs": [],
   "source": [
    "stack_rpb =read_czi('/Users/michaelstadler/Bioinformatics/Projects/rpb1/data/20210224-rpb1gfp-eveMS2-em4-488-3pct-02.czi')\n",
    "coordfile='/Users/michaelstadler/Bioinformatics/Projects/rpb1/results/20210224-rpb1gfp-eveMS2-em4-488-3pct-02-clicks1.txt'\n",
    "#imp.viewer(stack_rpb, figsize=6, coordfile=coordfile)"
   ]
  },
  {
   "cell_type": "code",
   "execution_count": 112,
   "metadata": {},
   "outputs": [],
   "source": [
    "stack_rpb =read_czi('/Users/michaelstadler/Bioinformatics/Projects/rpb1/data/20210224-MCP-GFP-eveMS2-em10-488-3pct-02.czi')\n",
    "coordfile='/Users/michaelstadler/Bioinformatics/Projects/rpb1/results/20210224-MCP-GFP-eveMS2-em10-488-3pct-02-clicks1.txt'\n",
    "#imp.viewer(stack_rpb, figsize=6, coordfile=coordfile)"
   ]
  },
  {
   "cell_type": "code",
   "execution_count": 119,
   "metadata": {},
   "outputs": [],
   "source": [
    "stack_rpb =read_czi('/Users/michaelstadler/Bioinformatics/Projects/rpb1/data/20210224-MCP-GFP-eveMS2-em14-488-3pct-02.czi')\n",
    "coordfile='/Users/michaelstadler/Bioinformatics/Projects/rpb1/results/20210224-MCP-GFP-eveMS2-em14-488-3pct-02-clicks1.txt'\n",
    "#imp.viewer(stack_rpb, figsize=6, coordfile=coordfile)"
   ]
  },
  {
   "cell_type": "code",
   "execution_count": 123,
   "metadata": {},
   "outputs": [],
   "source": [
    "stack_rpb =read_czi('/Users/michaelstadler/Bioinformatics/Projects/rpb1/data/20210224-MCP-GFP-eveMS2-em14-488-3pct-03.czi')\n",
    "coordfile='/Users/michaelstadler/Bioinformatics/Projects/rpb1/results/20210224-MCP-GFP-eveMS2-em14-488-3pct-03-clicks1.txt'\n",
    "#imp.viewer(stack_rpb, figsize=6, coordfile=coordfile)"
   ]
  },
  {
   "cell_type": "code",
   "execution_count": 6,
   "metadata": {},
   "outputs": [],
   "source": [
    "%matplotlib notebook\n",
    "%matplotlib notebook"
   ]
  },
  {
   "cell_type": "code",
   "execution_count": 8,
   "metadata": {},
   "outputs": [],
   "source": [
    "stack_rpb =read_czi('/Users/michaelstadler/Bioinformatics/Projects/rpb1/data/20210224-MCP-GFP-eveMS2-em10-488-3pct-02.czi')\n",
    "coordfile='/Users/michaelstadler/Bioinformatics/Projects/rpb1/results/20210224-MCP-GFP-eveMS2-em10-488-3pct-02-txnsites-clicks1.txt'\n",
    "#imp.viewer(stack_rpb, figsize=6, coordfile=coordfile)"
   ]
  },
  {
   "cell_type": "code",
   "execution_count": 10,
   "metadata": {},
   "outputs": [],
   "source": [
    "stack_rpb =read_czi('/Users/michaelstadler/Bioinformatics/Projects/rpb1/data/20210224-MCP-GFP-eveMS2-em14-488-3pct-02.czi')\n",
    "coordfile='/Users/michaelstadler/Bioinformatics/Projects/rpb1/results/20210224-MCP-GFP-eveMS2-em14-488-3pct-02-txnsites-clicks1.txt'\n",
    "#imp.viewer(stack_rpb, figsize=6, coordfile=coordfile)"
   ]
  },
  {
   "cell_type": "code",
   "execution_count": 12,
   "metadata": {},
   "outputs": [],
   "source": [
    "stack_rpb =read_czi('/Users/michaelstadler/Bioinformatics/Projects/rpb1/data/20210224-MCP-GFP-eveMS2-em14-488-3pct-03.czi')\n",
    "coordfile='/Users/michaelstadler/Bioinformatics/Projects/rpb1/results/20210224-MCP-GFP-eveMS2-em14-488-3pct-03-txnsites-clicks1.txt'\n",
    "#imp.viewer(stack_rpb, figsize=6, coordfile=coordfile)"
   ]
  },
  {
   "cell_type": "code",
   "execution_count": null,
   "metadata": {},
   "outputs": [],
   "source": []
  },
  {
   "cell_type": "code",
   "execution_count": null,
   "metadata": {},
   "outputs": [],
   "source": []
  },
  {
   "cell_type": "code",
   "execution_count": null,
   "metadata": {},
   "outputs": [],
   "source": []
  },
  {
   "cell_type": "code",
   "execution_count": null,
   "metadata": {},
   "outputs": [],
   "source": []
  },
  {
   "cell_type": "code",
   "execution_count": 21,
   "metadata": {},
   "outputs": [],
   "source": [
    "# Process rpb1\n",
    "#(stackfiles, coordfiles, length_clean=5, zrad=1, length_box=9, channel=0):\n",
    "stackfiles=['/Users/michaelstadler/Bioinformatics/Projects/rpb1/data/20210224-rpb1gfp-eveMS2-em1-488-3pct-03.czi',\n",
    "           '/Users/michaelstadler/Bioinformatics/Projects/rpb1/data/20210224-rpb1gfp-eveMS2-em4-488-3pct-01.czi',\n",
    "           '/Users/michaelstadler/Bioinformatics/Projects/rpb1/data/20210224-rpb1gfp-eveMS2-em4-488-3pct-02.czi']\n",
    "\n",
    "coordfiles=['/Users/michaelstadler/Bioinformatics/Projects/rpb1/results/20210224-rpb1gfp-eveMS2-em1-488-3pct-03-clicks1.txt',\n",
    "           '/Users/michaelstadler/Bioinformatics/Projects/rpb1/results/20210224-rpb1gfp-eveMS2-em4-488-3pct-01-clicks1.txt',\n",
    "           '/Users/michaelstadler/Bioinformatics/Projects/rpb1/results/20210224-rpb1gfp-eveMS2-em4-488-3pct-02-clicks1.txt']\n",
    "rpb = process_spots(stackfiles, coordfiles, length_clean=5, zrad=1, length_box=13)"
   ]
  },
  {
   "cell_type": "code",
   "execution_count": 18,
   "metadata": {},
   "outputs": [],
   "source": [
    "# Process MCP mRNAs.\n",
    "#(stackfiles, coordfiles, length_clean=5, zrad=1, length_box=9, channel=0):\n",
    "stackfiles=['/Users/michaelstadler/Bioinformatics/Projects/rpb1/data/20210224-MCP-GFP-eveMS2-em10-488-3pct-02.czi',\n",
    "           '/Users/michaelstadler/Bioinformatics/Projects/rpb1/data/20210224-MCP-GFP-eveMS2-em14-488-3pct-01.czi',\n",
    "           '/Users/michaelstadler/Bioinformatics/Projects/rpb1/data/20210224-MCP-GFP-eveMS2-em14-488-3pct-02.czi',\n",
    "           '/Users/michaelstadler/Bioinformatics/Projects/rpb1/data/20210224-MCP-GFP-eveMS2-em14-488-3pct-03.czi']\n",
    "\n",
    "coordfiles=['/Users/michaelstadler/Bioinformatics/Projects/rpb1/results/20210224-MCP-GFP-eveMS2-em10-488-3pct-02-clicks1.txt',\n",
    "           '/Users/michaelstadler/Bioinformatics/Projects/rpb1/results/20210224-MCP-GFP-eveMS2-em14-488-3pct-01-clicks1.txt',\n",
    "           '/Users/michaelstadler/Bioinformatics/Projects/rpb1/results/20210224-MCP-GFP-eveMS2-em14-488-3pct-02-clicks1.txt',\n",
    "           '/Users/michaelstadler/Bioinformatics/Projects/rpb1/results/20210224-MCP-GFP-eveMS2-em14-488-3pct-03-clicks1.txt']\n",
    "mcp = process_spots(stackfiles, coordfiles, length_clean=5, zrad=1, length_box=13)"
   ]
  },
  {
   "cell_type": "code",
   "execution_count": 19,
   "metadata": {},
   "outputs": [],
   "source": [
    "# Process MCP txn sites.\n",
    "#(stackfiles, coordfiles, length_clean=5, zrad=1, length_box=9, channel=0):\n",
    "stackfiles=['/Users/michaelstadler/Bioinformatics/Projects/rpb1/data/20210224-MCP-GFP-eveMS2-em10-488-3pct-02.czi',\n",
    "           '/Users/michaelstadler/Bioinformatics/Projects/rpb1/data/20210224-MCP-GFP-eveMS2-em14-488-3pct-02.czi',\n",
    "           '/Users/michaelstadler/Bioinformatics/Projects/rpb1/data/20210224-MCP-GFP-eveMS2-em14-488-3pct-03.czi']\n",
    "\n",
    "coordfiles=['/Users/michaelstadler/Bioinformatics/Projects/rpb1/results/20210224-MCP-GFP-eveMS2-em10-488-3pct-02-txnsites-clicks1.txt',\n",
    "           '/Users/michaelstadler/Bioinformatics/Projects/rpb1/results/20210224-MCP-GFP-eveMS2-em14-488-3pct-02-txnsites-clicks1.txt',\n",
    "           '/Users/michaelstadler/Bioinformatics/Projects/rpb1/results/20210224-MCP-GFP-eveMS2-em14-488-3pct-03-txnsites-clicks1.txt']\n",
    "mcp_txn = process_spots(stackfiles, coordfiles, length_clean=5, zrad=3, length_box=13, nudge=True)"
   ]
  },
  {
   "cell_type": "code",
   "execution_count": 22,
   "metadata": {},
   "outputs": [
    {
     "data": {
      "image/png": "[encoded data removed]",
      "text/plain": [
       "<Figure size 432x288 with 2 Axes>"
      ]
     },
     "metadata": {
      "needs_background": "light"
     },
     "output_type": "display_data"
    }
   ],
   "source": [
    "# With background subtraction\n",
    "inner=3\n",
    "outter = 11\n",
    "means_mcp = fg_bg(mcp, inner=inner, outter=outter)\n",
    "means_mcp_txn = fg_bg(mcp_txn, inner=inner, outter=outter)\n",
    "means_rpb = fg_bg(rpb, inner=inner, outter=outter)\n",
    "plt.subplot(121)\n",
    "plt.boxplot([means_mcp, means_rpb, mcp_txn], showfliers=False);\n",
    "plt.subplot(122)\n",
    "plt.boxplot([means_mcp, means_rpb], showfliers=False);"
   ]
  },
  {
   "cell_type": "code",
   "execution_count": 35,
   "metadata": {},
   "outputs": [
    {
     "data": {
      "image/png": "[encoded data removed]",
      "text/plain": [
       "<Figure size 432x288 with 1 Axes>"
      ]
     },
     "metadata": {
      "needs_background": "light"
     },
     "output_type": "display_data"
    }
   ],
   "source": [
    "# With background subtraction\n",
    "inner=5\n",
    "outter = 9\n",
    "means_mcp = fg_bg(mcp, inner=inner, outter=outter)\n",
    "means_mcp_txn = fg_bg(mcp_txn, inner=inner, outter=outter)\n",
    "means_rpb = fg_bg(rpb, inner=inner, outter=outter)\n",
    "plt.subplot(121)\n",
    "plt.boxplot([means_mcp, means_rpb, mcp_txn], showfliers=False);\n"
   ]
  },
  {
   "cell_type": "code",
   "execution_count": 27,
   "metadata": {},
   "outputs": [
    {
     "data": {
      "image/png": "[encoded data removed]",
      "text/plain": [
       "<Figure size 432x288 with 1 Axes>"
      ]
     },
     "metadata": {
      "needs_background": "light"
     },
     "output_type": "display_data"
    }
   ],
   "source": [
    "plt.subplot(122)\n",
    "plt.boxplot([means_mcp, means_rpb], showfliers=False);"
   ]
  },
  {
   "cell_type": "code",
   "execution_count": 25,
   "metadata": {},
   "outputs": [
    {
     "data": {
      "image/png": "[encoded data removed]",
      "text/plain": [
       "<Figure size 432x288 with 1 Axes>"
      ]
     },
     "metadata": {
      "needs_background": "light"
     },
     "output_type": "display_data"
    }
   ],
   "source": [
    "# Without background subtraction\n",
    "inner=5\n",
    "outter = 11\n",
    "means_mcp = fg_bg(mcp, inner=inner, outter=outter, bg_subtract=False)\n",
    "means_mcp_txn = fg_bg(mcp_txn, inner=inner, outter=outter, bg_subtract=False)\n",
    "means_rpb = fg_bg(rpb, inner=inner, outter=outter, bg_subtract=False)\n",
    "plt.subplot(121)\n",
    "plt.boxplot([means_mcp, means_rpb, mcp_txn], showfliers=False);\n",
    "plt.subplot(122)\n",
    "plt.boxplot([means_mcp, means_rpb], showfliers=False);"
   ]
  },
  {
   "cell_type": "code",
   "execution_count": 16,
   "metadata": {},
   "outputs": [
    {
     "data": {
      "application/vnd.jupyter.widget-view+json": {
       "model_id": "b486f511b22c4baf83d6567f99bc85fc",
       "version_major": 2,
       "version_minor": 0
      },
      "text/plain": [
       "interactive(children=(Dropdown(description='Color', index=8, options=('gray', 'plasma', 'viridis', 'Gators', '…"
      ]
     },
     "metadata": {},
     "output_type": "display_data"
    }
   ],
   "source": [
    "%matplotlib inline\n",
    "viewer([mcp_txn, mcp_txn2], figsize=6)"
   ]
  }
 ],
 "metadata": {
  "kernelspec": {
   "display_name": "Python (im)",
   "language": "python",
   "name": "im"
  },
  "language_info": {
   "codemirror_mode": {
    "name": "ipython",
    "version": 3
   },
   "file_extension": ".py",
   "mimetype": "text/x-python",
   "name": "python",
   "nbconvert_exporter": "python",
   "pygments_lexer": "ipython3",
   "version": "3.8.3"
  }
 },
 "nbformat": 4,
 "nbformat_minor": 4
}
