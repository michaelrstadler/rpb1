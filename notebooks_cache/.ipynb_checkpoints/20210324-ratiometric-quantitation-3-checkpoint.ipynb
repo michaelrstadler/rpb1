{
 "cells": [
  {
   "cell_type": "markdown",
   "metadata": {},
   "source": [
    "# 2021-03-24\n",
    "\n",
    "Trying to do a three-way quantitation of Rpb1 foci, 120-mer GFP particles, and single MS2-labeled mRNP particles. \n",
    "\n",
    "First, import and run functions."
   ]
  },
  {
   "cell_type": "code",
   "execution_count": 3,
   "metadata": {},
   "outputs": [],
   "source": [
    "# Import public packages.\n",
    "import numpy as np\n",
    "import matplotlib.pyplot as plt\n",
    "import pandas as pd\n",
    "from scipy import ndimage as ndi \n",
    "from importlib import reload\n",
    "import pickle\n",
    "import czifile\n",
    "from skimage.filters.thresholding import threshold_otsu\n",
    "\n",
    "# The order of loading matplotlib is important to avoid issues on my machine.\n",
    "%matplotlib inline\n",
    "import matplotlib as mpl\n",
    "#%matplotlib notebook\n",
    "#%matplotlib notebook\n",
    "\n",
    "# Import my packages.\n",
    "import sys\n",
    "sys.path.append('/Users/michaelstadler/Bioinformatics/Projects/rpb1/bin')\n",
    "import imagep as imp\n",
    "reload(imp)\n",
    "from imagep import viewer, save_pickle, load_pickle, box_spots, read_czi"
   ]
  },
  {
   "cell_type": "code",
   "execution_count": 312,
   "metadata": {},
   "outputs": [],
   "source": [
    "from fitting import fitgaussian3d, gaussian3d\n",
    "from imagep import get_object_centroid, clamp\n",
    "\n",
    "def fit_objects_from_mask(stack, mask, fitwindow_rad_xy=10, fitwindow_rad_z=2):  \n",
    "    def get_fitwindow(data, peak, xy_rad, z_rad):\n",
    "        \"\"\"Retrieve section of image stack corresponding to given\n",
    "        window around a point and the coordinate adjustments necessary\n",
    "        to convert window coordinates to coordinates in the original image\"\"\"\n",
    "        \n",
    "        # Set the start points for windows and \"adjust\" them if they get \n",
    "        # to negative numbers.\n",
    "        zmin = peak[0] - z_rad\n",
    "        xmin = peak[1] - xy_rad\n",
    "        ymin = peak[2] - xy_rad\n",
    "        # Initialize adjustments to values that are correct if no edge problems \n",
    "        # are encountered.\n",
    "        z_adj = -z_rad\n",
    "        x_adj = -xy_rad\n",
    "        y_adj = -xy_rad\n",
    "        # Update mins and adjustments if windows start at negative coordinates.\n",
    "        if (zmin < 0):\n",
    "            zmin = 0\n",
    "            z_adj = -peak[0]\n",
    "        if (xmin < 0):\n",
    "            xmin = 0\n",
    "            x_adj = -peak[1]\n",
    "        if (ymin < 0):\n",
    "            ymin = 0\n",
    "            y_adj = -peak[2]\n",
    "\n",
    "        # Get end points, constained by max coordinate in data.\n",
    "        zmax = min(data.shape[0] - 1, peak[0] + z_rad)\n",
    "        xmax = min(data.shape[1] - 1, peak[1] + xy_rad)\n",
    "        ymax = min(data.shape[2] - 1, peak[2] + xy_rad)\n",
    "\n",
    "        return (data[zmin:(zmax+1), xmin:(xmax+1), ymin:(ymax+1)], z_adj, x_adj, y_adj)\n",
    "    \n",
    "    def get_centroids(labelmask):\n",
    "        centroids = []\n",
    "        for id_ in np.unique(labelmask):\n",
    "            centroids.append(get_object_centroid(labelmask, id_))\n",
    "        return centroids\n",
    "    \n",
    "    def fit_frame(substack, submask):\n",
    "        labelmask = ndi.label(submask)[0]\n",
    "        peaks = get_centroids(labelmask)\n",
    "        count = 0\n",
    "        \n",
    "        # Fit 3D gaussian in window surrounding each local maximum.\n",
    "        fitparams = np.ndarray((0,7))\n",
    "        for peak in peaks:\n",
    "            count += 1\n",
    "            if ((count % 100) == 0):\n",
    "                print(count, end=' ')\n",
    "            fitwindow, z_adj, x_adj, y_adj = get_fitwindow(substack, peak, fitwindow_rad_xy, \n",
    "                fitwindow_rad_z)\n",
    "            opt = fitgaussian3d(fitwindow)\n",
    "            if opt.success:\n",
    "                peak_fitparams = opt.x\n",
    "                # Move center coordinates to match center of gaussian fit, ensure they're within image. \n",
    "                # If they're outside the image, coordinate is assigned as the edge of the image.\n",
    "                peak_fitparams[0] = int(round(clamp((peak[0] + peak_fitparams[0] + z_adj), 0, substack.shape[-3]-1)))\n",
    "                peak_fitparams[1] = int(round(clamp((peak[1] + peak_fitparams[1] + x_adj), 0, substack.shape[-2]-1)))\n",
    "                peak_fitparams[2] = int(round(clamp((peak[2] + peak_fitparams[2] + y_adj), 0, substack.shape[-1]-1)))\n",
    "                fitparams = np.vstack((fitparams, peak_fitparams))\n",
    "            # If fit fails, add dummy entry for spot.\n",
    "            else:\n",
    "                fitparams = np.vstack((fitparams, np.array([z_adj,x_adj,y_adj,0,np.inf,np.inf,np.inf])))\n",
    "        return fitparams\n",
    "    \n",
    "    fit_data = []\n",
    "    for t in range(0, stack.shape[0]):\n",
    "        print(t)\n",
    "        fit_data.append(fit_frame(stack[t], mask[t]))\n",
    "    \n",
    "    return fit_data"
   ]
  },
  {
   "cell_type": "code",
   "execution_count": 5,
   "metadata": {},
   "outputs": [],
   "source": [
    "def fg_bg(x, inner_ij=5, outter_ij=7, inner_z=1, outter_z=3, bg_subtract=True):\n",
    "    z=3\n",
    "    # ij:\n",
    "    midpoint = int(x.shape[-1] / 2)\n",
    "    inner_rad_ij = int(inner_ij / 2)\n",
    "    outter_rad_ij = int(outter_ij / 2)\n",
    "    inner_start_ij = midpoint - inner_rad_ij\n",
    "    inner_end_ij = midpoint + inner_rad_ij + 1\n",
    "    outter_start_ij = midpoint - outter_rad_ij\n",
    "    outter_end_ij = midpoint + outter_rad_ij + 1\n",
    "    # z:\n",
    "    midpoint_z = int(x.shape[-3] / 2)\n",
    "    inner_rad_z = int(inner_z / 2)\n",
    "    outter_rad_z = int(outter_z / 2)\n",
    "    inner_start_z = midpoint_z - inner_rad_z\n",
    "    inner_end_z = midpoint_z + inner_rad_z + 1\n",
    "    outter_start_z = midpoint_z - outter_rad_z\n",
    "    outter_end_z = midpoint_z + outter_rad_z + 1\n",
    "    \n",
    "    means = []\n",
    "    for box in x:\n",
    "        inner_box = box[inner_start_z:inner_end_z, inner_start_ij:inner_end_ij, inner_start_ij:inner_end_ij]\n",
    "        if (bg_subtract):\n",
    "            outter_box = box[outter_start_z:outter_end_z, outter_start_ij:outter_end_ij, outter_start_ij:outter_end_ij] \n",
    "            outter_mean = (np.sum(outter_box) - np.sum(inner_box)) / (outter_box.size - inner_box.size)\n",
    "            inner_mean = np.mean(inner_box)\n",
    "            bgsub_mean = inner_mean - outter_mean\n",
    "            means.append(bgsub_mean)\n",
    "        else:\n",
    "            means.append(np.mean(inner_box))\n",
    "    return means  "
   ]
  },
  {
   "cell_type": "markdown",
   "metadata": {},
   "source": [
    "### Processing 120-mer movies"
   ]
  },
  {
   "cell_type": "code",
   "execution_count": 38,
   "metadata": {
    "scrolled": true
   },
   "outputs": [
    {
     "data": {
      "application/vnd.jupyter.widget-view+json": {
       "model_id": "2cf6b9f94b5e496188c28029143c606c",
       "version_major": 2,
       "version_minor": 0
      },
      "text/plain": [
       "interactive(children=(Dropdown(description='Color', index=8, options=('Reds', 'magma', 'inferno', 'gray', 'Gat…"
      ]
     },
     "metadata": {},
     "output_type": "display_data"
    }
   ],
   "source": [
    "czi_filename = '/Users/michaelstadler/Bioinformatics/Projects/rpb1/data/quantitation/20210318-120merGFP-488-3pct-em1-01.czi'\n",
    "stack = read_czi(czi_filename, swapaxes=True)\n",
    "imp.viewer(stack)"
   ]
  },
  {
   "cell_type": "code",
   "execution_count": 43,
   "metadata": {},
   "outputs": [],
   "source": [
    "stack4d = stack[0,:1,10:]\n",
    "stack5d = np.expand_dims(stack4d, axis=0)"
   ]
  },
  {
   "cell_type": "code",
   "execution_count": 44,
   "metadata": {},
   "outputs": [
    {
     "data": {
      "text/plain": [
       "(1, 4, 379, 1069)"
      ]
     },
     "execution_count": 44,
     "metadata": {},
     "output_type": "execute_result"
    }
   ],
   "source": [
    "stack4d.shape"
   ]
  },
  {
   "cell_type": "code",
   "execution_count": 45,
   "metadata": {},
   "outputs": [],
   "source": [
    "min_distances = (4, 10, 10)\n",
    "fitwindow_rad_xy = 10\n",
    "fitwindow_rad_z = 2\n",
    "sigma_small = 1\n",
    "spotchannel=0\n",
    "\n",
    "fits = imp.fit_ms2(stack4d, min_distances=min_distances, fitwindow_rad_xy=fitwindow_rad_xy, sigma_small=sigma_small)"
   ]
  },
  {
   "cell_type": "code",
   "execution_count": 46,
   "metadata": {},
   "outputs": [
    {
     "data": {
      "application/vnd.jupyter.widget-view+json": {
       "model_id": "88fd5dc6c4064430ba1cb5066396c84f",
       "version_major": 2,
       "version_minor": 0
      },
      "text/plain": [
       "interactive(children=(Dropdown(description='Color', index=6, options=('Reds', 'magma', 'inferno', 'gray', 'Gat…"
      ]
     },
     "metadata": {},
     "output_type": "display_data"
    }
   ],
   "source": [
    "imp.quickview_ms2(stack5d, fits, MAX=True)"
   ]
  },
  {
   "cell_type": "code",
   "execution_count": 51,
   "metadata": {},
   "outputs": [
    {
     "data": {
      "application/vnd.jupyter.widget-view+json": {
       "model_id": "ad6ce5952c0d4479a5d192c0b0f2afb6",
       "version_major": 2,
       "version_minor": 0
      },
      "text/plain": [
       "interactive(children=(Dropdown(description='Color', index=6, options=('Reds', 'magma', 'inferno', 'gray', 'Gat…"
      ]
     },
     "metadata": {},
     "output_type": "display_data"
    }
   ],
   "source": [
    "peakiness = 4\n",
    "fits_filtered = imp.filter_ms2fits(fits, peakiness, stack)\n",
    "imp.quickview_ms2(stack5d, fits_filtered, halfwidth_z=0, MAX=True)"
   ]
  },
  {
   "cell_type": "code",
   "execution_count": 133,
   "metadata": {},
   "outputs": [],
   "source": [
    "spot_data = imp.connect_ms2_fits_focuscorrect(fits_filtered, [0], [0], np.zeros_like(stack4d))\n",
    "spots = imp.spot_movies(stack5d, spot_data, fill=0, view=False)\n",
    "spots = np.squeeze(spots)"
   ]
  },
  {
   "cell_type": "code",
   "execution_count": 138,
   "metadata": {},
   "outputs": [],
   "source": [
    "spot_filename = '/Users/michaelstadler/Bioinformatics/Projects/rpb1/results/spotboxes_20210322-120merGFP-488-3pct-em1-01.pkl'\n",
    "save_pickle(spots, spot_filename)"
   ]
  },
  {
   "cell_type": "markdown",
   "metadata": {},
   "source": [
    "## Processing Rpb1 minor foci"
   ]
  },
  {
   "cell_type": "code",
   "execution_count": 552,
   "metadata": {},
   "outputs": [
    {
     "data": {
      "application/vnd.jupyter.widget-view+json": {
       "model_id": "a238ca5dbf94445893d72d074a95d5d2",
       "version_major": 2,
       "version_minor": 0
      },
      "text/plain": [
       "interactive(children=(Dropdown(description='Color', index=8, options=('Reds', 'magma', 'inferno', 'gray', 'Gat…"
      ]
     },
     "metadata": {},
     "output_type": "display_data"
    }
   ],
   "source": [
    "stack = read_czi('/Volumes/Stadler100/2021-03-31/20210331-rpbGFP-sisAMS2-488-3pct-em4-02.czi', swapaxes=True)\n",
    "imp.viewer(stack)"
   ]
  },
  {
   "cell_type": "code",
   "execution_count": 553,
   "metadata": {},
   "outputs": [],
   "source": [
    "stack4d = stack[0,:1]\n",
    "stack5d = np.expand_dims(stack4d, axis=0)"
   ]
  },
  {
   "cell_type": "code",
   "execution_count": 554,
   "metadata": {},
   "outputs": [],
   "source": [
    "channel=0\n",
    "sigma_big = 4\n",
    "sigma_small = 0\n",
    "\n",
    "stack3d = stack4d[channel]\n",
    "dog = imp.dog_filter(stack3d, [0,sigma_small,sigma_small],[0,sigma_big,sigma_big])"
   ]
  },
  {
   "cell_type": "code",
   "execution_count": 555,
   "metadata": {},
   "outputs": [
    {
     "data": {
      "application/vnd.jupyter.widget-view+json": {
       "model_id": "f1dde2bbca0041ef901d85964cb722b5",
       "version_major": 2,
       "version_minor": 0
      },
      "text/plain": [
       "interactive(children=(Dropdown(description='Color', index=6, options=('Reds', 'magma', 'inferno', 'gray', 'Gat…"
      ]
     },
     "metadata": {},
     "output_type": "display_data"
    }
   ],
   "source": [
    "t = 8000\n",
    "viewer(dog, color='cividis', init_minval=t, init_maxval=t+1)"
   ]
  },
  {
   "cell_type": "code",
   "execution_count": 556,
   "metadata": {},
   "outputs": [
    {
     "name": "stdout",
     "output_type": "stream",
     "text": [
      "0\n",
      "100 200 300 400 500 600 700 800 "
     ]
    }
   ],
   "source": [
    "mask = np.where(dog >= t, 1, 0)\n",
    "mask = ndi.morphology.binary_opening(mask, np.ones((1,2,2)))\n",
    "mask = np.expand_dims(mask, 0)\n",
    "fits = fit_objects_from_mask(stack4d, mask, fitwindow_rad_z=1, fitwindow_rad_xy=3)"
   ]
  },
  {
   "cell_type": "code",
   "execution_count": 557,
   "metadata": {
    "scrolled": true
   },
   "outputs": [
    {
     "name": "stderr",
     "output_type": "stream",
     "text": [
      "/Users/michaelstadler/Bioinformatics/Projects/rpb1/bin/imagep.py:2212: RuntimeWarning: divide by zero encountered in log\n",
      "  spot_peakiness = np.log(peak_heights / xy_width_means)\n"
     ]
    },
    {
     "data": {
      "application/vnd.jupyter.widget-view+json": {
       "model_id": "c34f2168fc774f01895b9aa6bec592b5",
       "version_major": 2,
       "version_minor": 0
      },
      "text/plain": [
       "interactive(children=(Dropdown(description='Color', index=6, options=('Reds', 'magma', 'inferno', 'gray', 'Gat…"
      ]
     },
     "metadata": {},
     "output_type": "display_data"
    }
   ],
   "source": [
    "peakiness = 9\n",
    "fits_filtered = imp.filter_ms2fits(fits, peakiness, stack)\n",
    "imp.quickview_ms2(stack5d, fits_filtered, halfwidth_z=0, MAX=False, shadows=False)"
   ]
  },
  {
   "cell_type": "code",
   "execution_count": 559,
   "metadata": {},
   "outputs": [],
   "source": [
    "spots_byz = []\n",
    "for i in range(0, stack4d.shape[-3]-1):\n",
    "    zslice_bool = fits_filtered[0][:,0] == i\n",
    "    fits_zslice = [fits_filtered[0][zslice_bool]]\n",
    "    spot_data = imp.connect_ms2_fits_focuscorrect(fits_zslice, [0], [0], np.zeros_like(stack4d))\n",
    "    spots = imp.spot_movies(stack5d, spot_data, fill=0, len_ij=31,view=False)\n",
    "    spots = np.squeeze(spots)\n",
    "    spots_byz.append(spots)"
   ]
  },
  {
   "cell_type": "code",
   "execution_count": 562,
   "metadata": {},
   "outputs": [],
   "source": [
    "save_pickle(spots_byz.copy(),'/Users/michaelstadler/Bioinformatics/Projects/rpb1/results/20210331_rpb1_spots_byz_4_02.pkl')\n",
    "\n",
    "spots_byz_rpb1_331_4_02 = spots_byz.copy()"
   ]
  },
  {
   "cell_type": "code",
   "execution_count": 289,
   "metadata": {},
   "outputs": [
    {
     "data": {
      "application/vnd.jupyter.widget-view+json": {
       "model_id": "7d8bc005e4284f4a9a15b10362e7939e",
       "version_major": 2,
       "version_minor": 0
      },
      "text/plain": [
       "interactive(children=(Dropdown(description='Color', index=3, options=('Reds', 'cividis', 'plasma', 'Greens', '…"
      ]
     },
     "metadata": {},
     "output_type": "display_data"
    }
   ],
   "source": [
    "viewer(spots, 6)"
   ]
  },
  {
   "cell_type": "markdown",
   "metadata": {},
   "source": [
    "## Processing MS2 spots"
   ]
  },
  {
   "cell_type": "code",
   "execution_count": 293,
   "metadata": {},
   "outputs": [
    {
     "data": {
      "application/vnd.jupyter.widget-view+json": {
       "model_id": "2b5ed46c2362463fbd6d4125ce39c954",
       "version_major": 2,
       "version_minor": 0
      },
      "text/plain": [
       "interactive(children=(Dropdown(description='Color', index=3, options=('Reds', 'cividis', 'plasma', 'Greens', '…"
      ]
     },
     "metadata": {},
     "output_type": "display_data"
    }
   ],
   "source": [
    "czi_filename = '/Users/michaelstadler/Bioinformatics/Projects/rpb1/data/quantitation/20210322-MCPGFP-Hbms2-488-3pct-em1-03.czi'\n",
    "stack = read_czi(czi_filename, swapaxes=False)\n",
    "imp.viewer(stack)"
   ]
  },
  {
   "cell_type": "code",
   "execution_count": 294,
   "metadata": {},
   "outputs": [],
   "source": [
    "stack4d = stack[:1]\n",
    "stack5d = np.expand_dims(stack4d, axis=0)"
   ]
  },
  {
   "cell_type": "code",
   "execution_count": 295,
   "metadata": {},
   "outputs": [],
   "source": [
    "channel=0\n",
    "sigma_big = 4\n",
    "sigma_small = 0\n",
    "\n",
    "stack3d = stack4d[channel]\n",
    "dog = imp.dog_filter(stack3d, [0,sigma_small,sigma_small],[0,sigma_big,sigma_big])"
   ]
  },
  {
   "cell_type": "code",
   "execution_count": 300,
   "metadata": {},
   "outputs": [
    {
     "data": {
      "application/vnd.jupyter.widget-view+json": {
       "model_id": "963d5665b3254f00a4efeb3353f70754",
       "version_major": 2,
       "version_minor": 0
      },
      "text/plain": [
       "interactive(children=(Dropdown(description='Color', index=3, options=('Reds', 'cividis', 'plasma', 'Greens', '…"
      ]
     },
     "metadata": {},
     "output_type": "display_data"
    }
   ],
   "source": [
    "# Make quick nuclear mask.\n",
    "his_channel=1\n",
    "mcp_channel=0\n",
    "hisstack = stack[his_channel].copy()\n",
    "hisstack = ndi.gaussian_filter(hisstack, sigma=3)\n",
    "t = threshold_otsu(hisstack)\n",
    "mask = np.where(hisstack > t, 1, 0)\n",
    "nucmask = ndi.morphology.binary_dilation(mask, np.ones((1,5,5)))\n",
    "#nucmask = ndi.morphology.binary_erosion(mask, np.ones((1,2,2)))\n",
    "viewer(nucmask)"
   ]
  },
  {
   "cell_type": "code",
   "execution_count": 301,
   "metadata": {},
   "outputs": [],
   "source": [
    "dog = np.where(nucmask, dog, 0)"
   ]
  },
  {
   "cell_type": "code",
   "execution_count": 305,
   "metadata": {},
   "outputs": [
    {
     "data": {
      "application/vnd.jupyter.widget-view+json": {
       "model_id": "6eb1108b470f4093bc9c3f6fe0e4b61d",
       "version_major": 2,
       "version_minor": 0
      },
      "text/plain": [
       "interactive(children=(Dropdown(description='Color', index=1, options=('Reds', 'cividis', 'plasma', 'Greens', '…"
      ]
     },
     "metadata": {},
     "output_type": "display_data"
    }
   ],
   "source": [
    "t = 12000\n",
    "viewer(dog, color='cividis', init_minval=t, init_maxval=t+1)"
   ]
  },
  {
   "cell_type": "code",
   "execution_count": 308,
   "metadata": {},
   "outputs": [
    {
     "name": "stdout",
     "output_type": "stream",
     "text": [
      "0\n",
      "(15, 166, 594)\n",
      "(0, 51, 227)\n",
      "(0, 57, 219)\n",
      "(0, 57, 875)\n",
      "(0, 59, 666)\n",
      "(0, 82, 379)\n",
      "(0, 98, 120)\n",
      "(0, 100, 580)\n",
      "(0, 117, 52)\n",
      "(0, 124, 614)\n",
      "(0, 129, 388)\n",
      "(0, 134, 303)\n",
      "(0, 133, 456)\n",
      "(0, 135, 730)\n",
      "(0, 136, 514)\n",
      "(0, 137, 726)\n",
      "(0, 138, 747)\n",
      "(0, 141, 33)\n",
      "(0, 143, 292)\n",
      "(0, 145, 288)\n",
      "(0, 146, 296)\n",
      "(0, 152, 487)\n",
      "(0, 153, 209)\n",
      "(0, 154, 205)\n",
      "(0, 156, 477)\n",
      "(0, 156, 488)\n",
      "(0, 157, 62)\n",
      "(0, 168, 349)\n",
      "(0, 176, 713)\n",
      "(0, 197, 16)\n",
      "(0, 207, 40)\n",
      "(0, 213, 7)\n",
      "(0, 209, 12)\n",
      "(0, 213, 94)\n",
      "(0, 214, 122)\n",
      "(0, 215, 92)\n",
      "(0, 216, 107)\n",
      "(0, 223, 5)\n",
      "(0, 222, 345)\n",
      "(0, 226, 134)\n",
      "(0, 228, 39)\n",
      "(0, 229, 976)\n",
      "(0, 230, 135)\n",
      "(0, 232, 0)\n",
      "(0, 235, 131)\n",
      "(0, 249, 253)\n",
      "(0, 252, 983)\n",
      "(0, 252, 255)\n",
      "(0, 252, 643)\n",
      "(0, 257, 479)\n",
      "(0, 268, 221)\n",
      "(0, 273, 599)\n",
      "(0, 272, 747)\n",
      "(0, 273, 223)\n",
      "(0, 276, 364)\n",
      "(0, 284, 555)\n",
      "(0, 287, 556)\n",
      "(0, 289, 250)\n",
      "(0, 289, 243)\n",
      "(0, 290, 561)\n",
      "(0, 297, 100)\n",
      "(0, 298, 611)\n",
      "(0, 304, 187)\n",
      "(0, 306, 800)\n",
      "(0, 313, 596)\n",
      "(0, 314, 691)\n",
      "(0, 318, 689)\n",
      "(0, 330, 84)\n",
      "(0, 331, 69)\n",
      "(1, 23, 639)\n",
      "(2, 30, 620)\n",
      "(1, 47, 45)\n",
      "(1, 48, 235)\n",
      "(1, 51, 632)\n",
      "(1, 89, 496)\n",
      "(1, 90, 719)\n",
      "(1, 94, 589)\n",
      "(1, 100, 287)\n",
      "(1, 102, 116)\n",
      "(1, 103, 584)\n",
      "(1, 104, 125)\n",
      "(1, 118, 379)\n",
      "(1, 123, 49)\n",
      "(1, 132, 386)\n",
      "(1, 141, 296)\n",
      "(1, 143, 298)\n",
      "(1, 147, 267)\n",
      "(1, 157, 219)\n",
      "(1, 165, 765)\n",
      "(1, 182, 177)\n",
      "(1, 185, 737)\n",
      "(1, 209, 93)\n",
      "(1, 214, 936)\n",
      "(1, 217, 141)\n",
      "(1, 221, 132)\n",
      "(1, 227, 973)\n",
      "(1, 229, 971)\n",
      "(1, 232, 584)\n",
      "(1, 233, 965)\n",
      "(1, 237, 574)\n",
      "(1, 240, 9)\n",
      "(1, 242, 129)\n",
      "(1, 242, 250)\n",
      "(1, 243, 566)\n",
      "(1, 250, 544)\n",
      "(1, 257, 981)\n",
      "(1, 263, 212)\n",
      "(1, 270, 224)\n",
      "(1, 275, 587)\n",
      "(1, 283, 548)\n",
      "(1, 286, 365)\n",
      "(1, 287, 370)\n",
      "(1, 289, 229)\n",
      "(1, 291, 233)\n",
      "(1, 308, 68)\n",
      "(1, 316, 570)\n",
      "(1, 322, 2)\n",
      "(2, 27, 652)\n",
      "(2, 34, 622)\n",
      "(2, 45, 46)\n",
      "(2, 50, 199)\n",
      "(2, 52, 1075)\n",
      "(2, 82, 645)\n",
      "(2, 106, 119)\n",
      "(2, 107, 585)\n",
      "(2, 111, 367)\n",
      "(2, 127, 457)\n",
      "(2, 132, 33)\n",
      "(2, 140, 511)\n",
      "(2, 146, 70)\n",
      "(2, 146, 299)\n",
      "(2, 152, 984)\n",
      "(2, 164, 46)\n",
      "(2, 174, 764)\n",
      "(2, 176, 710)\n",
      "(2, 184, 761)\n",
      "(2, 186, 741)\n",
      "(2, 198, 31)\n",
      "(2, 198, 139)\n",
      "(2, 206, 90)\n",
      "(2, 207, 560)\n",
      "(2, 212, 92)\n",
      "(2, 223, 1)\n",
      "(2, 224, 962)\n",
      "(2, 245, 684)\n",
      "(2, 248, 722)\n",
      "(2, 250, 680)\n",
      "(2, 282, 259)\n",
      "(2, 291, 157)\n",
      "(2, 297, 233)\n",
      "(2, 321, 582)\n",
      "(2, 321, 569)\n",
      "(3, 22, 465)\n",
      "(3, 33, 626)\n",
      "(3, 34, 617)\n",
      "(3, 38, 622)\n",
      "(3, 71, 219)\n",
      "(3, 73, 915)\n",
      "(4, 100, 586)\n",
      "(3, 98, 107)\n",
      "(3, 98, 588)\n",
      "(3, 99, 580)\n",
      "(3, 103, 249)\n",
      "(3, 107, 581)\n",
      "(3, 106, 587)\n",
      "(3, 136, 462)\n",
      "(3, 139, 1008)\n",
      "(3, 147, 508)\n",
      "(3, 158, 221)\n",
      "(3, 217, 328)\n",
      "(3, 232, 143)\n",
      "(3, 234, 518)\n",
      "(3, 240, 979)\n",
      "(3, 272, 435)\n",
      "(3, 292, 330)\n",
      "(3, 308, 792)\n",
      "(3, 329, 683)\n",
      "(3, 332, 684)\n",
      "(4, 18, 49)\n",
      "(4, 19, 52)\n",
      "(4, 30, 617)\n",
      "(4, 61, 882)\n",
      "(4, 86, 638)\n",
      "(4, 92, 408)\n",
      "(4, 94, 410)\n",
      "(4, 99, 582)\n",
      "(4, 101, 590)\n",
      "(4, 104, 581)\n",
      "(4, 109, 583)\n",
      "(4, 150, 24)\n",
      "(4, 158, 279)\n",
      "(4, 168, 55)\n",
      "(4, 186, 764)\n",
      "(4, 240, 772)\n",
      "(4, 274, 368)\n",
      "(4, 300, 573)\n",
      "(4, 300, 846)\n",
      "(5, 17, 47)\n",
      "(5, 28, 489)\n",
      "(5, 34, 615)\n",
      "(5, 38, 614)\n",
      "(5, 43, 66)\n",
      "(5, 59, 627)\n",
      "(5, 71, 872)\n",
      "(5, 76, 378)\n",
      "(5, 103, 583)\n",
      "(5, 107, 586)\n",
      "(5, 114, 119)\n",
      "(5, 126, 61)\n",
      "(5, 132, 552)\n",
      "(5, 141, 742)\n",
      "(5, 141, 1012)\n",
      "(5, 165, 1180)\n",
      "(5, 183, 240)\n",
      "(5, 184, 107)\n",
      "(5, 199, 833)\n",
      "(5, 200, 182)\n",
      "(5, 219, 775)\n",
      "(5, 235, 743)\n",
      "(5, 277, 448)\n",
      "(5, 277, 763)\n",
      "(5, 322, 696)\n",
      "(6, 40, 62)\n",
      "(7, 39, 619)\n",
      "(6, 59, 1142)\n",
      "(6, 75, 619)\n",
      "(6, 76, 380)\n",
      "(6, 93, 756)\n",
      "(6, 109, 397)\n",
      "(6, 113, 66)\n",
      "(6, 117, 36)\n",
      "(6, 117, 573)\n",
      "(6, 123, 77)\n",
      "(6, 127, 546)\n",
      "(6, 127, 38)\n",
      "(6, 137, 420)\n",
      "(6, 144, 57)\n",
      "(6, 156, 747)\n",
      "(6, 166, 761)\n",
      "(6, 175, 752)\n",
      "(6, 201, 186)\n",
      "(6, 204, 144)\n",
      "(6, 218, 1084)\n",
      "(6, 239, 101)\n",
      "(6, 239, 740)\n",
      "(6, 239, 745)\n",
      "(6, 245, 132)\n",
      "(6, 257, 325)\n",
      "(6, 258, 332)\n",
      "(6, 260, 322)\n",
      "(6, 260, 329)\n",
      "(6, 283, 572)\n",
      "(6, 289, 96)\n",
      "(6, 293, 61)\n",
      "(6, 300, 789)\n",
      "(6, 309, 92)\n",
      "(6, 311, 946)\n",
      "(6, 324, 679)\n",
      "(7, 28, 622)\n",
      "(7, 40, 1095)\n",
      "(7, 57, 1148)\n",
      "(8, 85, 766)\n",
      "(7, 87, 765)\n",
      "(7, 105, 420)\n",
      "(7, 109, 418)\n",
      "(7, 109, 425)\n",
      "(7, 113, 558)\n",
      "(7, 114, 583)\n",
      "(7, 133, 952)\n",
      "(7, 159, 759)\n",
      "(7, 160, 764)\n",
      "(7, 171, 220)\n",
      "(7, 185, 1146)\n",
      "(7, 189, 1144)\n",
      "(7, 211, 238)\n",
      "(7, 222, 1084)\n",
      "(7, 236, 752)\n",
      "(7, 241, 743)\n",
      "(7, 261, 325)\n",
      "(7, 264, 332)\n",
      "(7, 264, 314)\n",
      "(7, 332, 60)\n",
      "(8, 7, 940)\n",
      "(10, 35, 623)\n",
      "(8, 59, 1143)\n",
      "(8, 61, 1149)\n",
      "(8, 85, 764)\n",
      "(8, 91, 152)\n",
      "(8, 96, 893)\n",
      "(8, 103, 767)\n",
      "(8, 107, 424)\n",
      "(8, 111, 570)\n",
      "(8, 113, 420)\n",
      "(8, 127, 539)\n",
      "(8, 147, 746)\n",
      "(8, 152, 307)\n",
      "(8, 161, 302)\n",
      "(8, 164, 872)\n",
      "(8, 174, 215)\n",
      "(8, 176, 54)\n",
      "(8, 187, 1141)\n",
      "(8, 189, 1137)\n",
      "(8, 193, 1137)\n",
      "(8, 193, 1142)\n",
      "(8, 216, 829)\n",
      "(8, 219, 1081)\n",
      "(8, 241, 749)\n",
      "(8, 245, 746)\n",
      "(8, 265, 328)\n",
      "(8, 274, 767)\n",
      "(8, 278, 456)\n",
      "(8, 286, 598)\n",
      "(8, 310, 241)\n",
      "(8, 312, 614)\n",
      "(8, 319, 824)\n",
      "(8, 331, 14)\n",
      "(8, 332, 57)\n",
      "(9, 31, 626)\n",
      "(9, 34, 616)\n",
      "(9, 37, 625)\n",
      "(9, 61, 864)\n",
      "(9, 87, 634)\n",
      "(9, 91, 899)\n",
      "(9, 106, 420)\n",
      "(9, 110, 424)\n",
      "(9, 144, 53)\n",
      "(9, 160, 758)\n",
      "(9, 166, 762)\n",
      "(9, 174, 46)\n",
      "(9, 176, 218)\n",
      "(9, 199, 192)\n",
      "(9, 237, 95)\n",
      "(9, 236, 369)\n",
      "(9, 249, 985)\n",
      "(9, 301, 349)\n",
      "(9, 311, 933)\n",
      "(10, 29, 1096)\n",
      "(10, 41, 617)\n",
      "(10, 49, 81)\n",
      "(10, 63, 1148)\n",
      "(10, 77, 630)\n",
      "(10, 113, 152)\n",
      "(10, 140, 268)\n",
      "(10, 144, 269)\n",
      "(10, 154, 591)\n",
      "(10, 155, 710)\n",
      "(10, 163, 725)\n",
      "(10, 163, 762)\n",
      "(10, 163, 994)\n",
      "(10, 165, 764)\n",
      "(10, 167, 757)\n",
      "(11, 168, 765)\n",
      "(10, 170, 193)\n",
      "(10, 171, 761)\n",
      "(10, 191, 1146)\n",
      "(10, 198, 1145)\n",
      "(10, 211, 644)\n",
      "(10, 212, 197)\n",
      "(10, 213, 54)\n",
      "(10, 220, 835)\n",
      "(10, 221, 1083)\n",
      "(10, 228, 555)\n",
      "(10, 242, 750)\n",
      "(10, 243, 743)\n",
      "(10, 246, 752)\n",
      "(10, 249, 471)\n",
      "(10, 252, 952)\n",
      "(10, 313, 200)\n",
      "(10, 332, 692)\n",
      "(11, 35, 198)\n",
      "(11, 45, 83)\n",
      "(11, 75, 1079)\n",
      "(11, 84, 224)\n",
      "(11, 130, 565)\n",
      "(11, 142, 271)\n",
      "(11, 146, 265)\n",
      "(11, 147, 474)\n",
      "(11, 147, 272)\n",
      "(11, 163, 758)\n",
      "(11, 192, 1141)\n",
      "(11, 241, 743)\n",
      "(12, 249, 744)\n",
      "(11, 254, 732)\n",
      "(11, 257, 950)\n",
      "(11, 259, 337)\n",
      "(11, 262, 339)\n",
      "(11, 264, 328)\n",
      "(11, 266, 763)\n",
      "(11, 267, 338)\n",
      "(11, 277, 450)\n",
      "(11, 277, 762)\n",
      "(11, 309, 75)\n",
      "(12, 5, 933)\n",
      "(12, 45, 348)\n",
      "(12, 62, 854)\n",
      "(13, 66, 1151)\n",
      "(12, 64, 858)\n",
      "(13, 68, 1141)\n",
      "(12, 79, 1079)\n",
      "(12, 93, 767)\n",
      "(12, 109, 418)\n",
      "(12, 126, 568)\n",
      "(12, 133, 569)\n",
      "(12, 133, 554)\n",
      "(12, 146, 314)\n",
      "(12, 151, 506)\n",
      "(12, 179, 218)\n",
      "(12, 207, 198)\n",
      "(12, 213, 359)\n",
      "(12, 213, 354)\n",
      "(12, 229, 142)\n",
      "(12, 235, 747)\n",
      "(12, 246, 751)\n",
      "(12, 253, 748)\n",
      "(12, 257, 336)\n",
      "(12, 265, 330)\n",
      "(12, 286, 454)\n",
      "(12, 300, 594)\n",
      "(12, 326, 959)\n",
      "(13, 56, 858)\n",
      "(13, 67, 852)\n",
      "(13, 72, 1143)\n",
      "(13, 76, 846)\n",
      "(13, 77, 1085)\n",
      "(14, 87, 764)\n",
      "(13, 92, 763)\n",
      "(13, 111, 427)\n",
      "(13, 145, 263)\n",
      "(13, 148, 266)\n",
      "(13, 155, 478)\n",
      "(13, 176, 215)\n",
      "(13, 182, 213)\n",
      "(13, 191, 1147)\n",
      "(13, 197, 1152)\n",
      "(16, 200, 1148)\n",
      "(13, 205, 201)\n",
      "(13, 210, 357)\n",
      "(13, 216, 352)\n",
      "(13, 216, 859)\n",
      "(13, 222, 666)\n",
      "(13, 237, 31)\n",
      "(13, 242, 747)\n",
      "(13, 265, 338)\n",
      "(13, 267, 485)\n",
      "(13, 270, 329)\n",
      "(13, 321, 808)\n",
      "(14, 1, 753)\n",
      "(14, 3, 987)\n",
      "(14, 41, 621)\n",
      "(14, 55, 248)\n",
      "(14, 58, 622)\n",
      "(14, 61, 1147)\n",
      "(14, 63, 1143)\n",
      "(14, 69, 850)\n",
      "(14, 100, 415)\n",
      "(14, 103, 760)\n",
      "(15, 109, 425)\n",
      "(14, 109, 419)\n",
      "(14, 109, 427)\n",
      "(14, 112, 417)\n",
      "(14, 117, 424)\n",
      "(14, 119, 270)\n",
      "(14, 154, 470)\n",
      "(14, 172, 488)\n",
      "(14, 178, 212)\n",
      "(14, 180, 218)\n",
      "(14, 183, 211)\n",
      "(14, 201, 1150)\n",
      "(14, 244, 745)\n",
      "(15, 259, 952)\n",
      "(14, 260, 553)\n",
      "(14, 267, 772)\n",
      "(14, 287, 450)\n",
      "(14, 287, 458)\n",
      "(14, 289, 455)\n",
      "(14, 300, 594)\n",
      "(14, 315, 328)\n",
      "(15, 0, 919)\n",
      "(15, 7, 460)\n",
      "(15, 63, 1146)\n",
      "(15, 68, 1080)\n",
      "(16, 82, 1090)\n",
      "(15, 94, 764)\n",
      "(15, 110, 572)\n",
      "(15, 112, 421)\n",
      "(15, 129, 118)\n",
      "(15, 140, 268)\n",
      "(15, 148, 472)\n",
      "(15, 156, 27)\n",
      "(15, 182, 216)\n",
      "(15, 190, 733)\n",
      "(15, 202, 850)\n",
      "(15, 202, 198)\n",
      "(15, 205, 1144)\n",
      "(15, 204, 1149)\n",
      "(15, 209, 346)\n",
      "(15, 215, 221)\n",
      "(15, 218, 353)\n",
      "(15, 233, 690)\n",
      "(15, 243, 118)\n",
      "(15, 259, 557)\n",
      "(15, 264, 948)\n",
      "(15, 265, 951)\n",
      "(15, 275, 765)\n",
      "(15, 277, 457)\n",
      "(15, 303, 595)\n",
      "(15, 325, 826)\n",
      "(15, 330, 954)\n",
      "(15, 331, 958)\n",
      "(16, 7, 368)\n",
      "(16, 47, 873)\n",
      "(16, 78, 1085)\n",
      "(16, 81, 1083)\n",
      "(16, 84, 1083)\n",
      "(16, 100, 722)\n",
      "(16, 104, 1168)\n",
      "(16, 118, 515)\n",
      "(16, 126, 425)\n",
      "(16, 142, 274)\n",
      "(16, 143, 271)\n",
      "(16, 147, 276)\n",
      "(18, 153, 479)\n",
      "(16, 157, 473)\n",
      "(16, 179, 213)\n",
      "(16, 200, 849)\n",
      "(16, 204, 848)\n",
      "(16, 206, 852)\n",
      "(16, 208, 1149)\n",
      "(16, 218, 348)\n",
      "(16, 218, 358)\n",
      "(16, 251, 748)\n",
      "(16, 263, 951)\n",
      "(16, 282, 449)\n",
      "(17, 285, 457)\n",
      "(16, 315, 92)\n",
      "(16, 327, 957)\n",
      "(16, 328, 559)\n",
      "(17, 70, 852)\n",
      "(18, 75, 856)\n",
      "(17, 78, 1090)\n",
      "(17, 81, 1087)\n",
      "(17, 124, 567)\n",
      "(17, 146, 1000)\n",
      "(17, 154, 273)\n",
      "(17, 161, 478)\n",
      "(17, 168, 1006)\n",
      "(17, 172, 68)\n",
      "(17, 185, 220)\n",
      "(17, 204, 1145)\n",
      "(17, 219, 351)\n",
      "(17, 232, 59)\n",
      "(17, 242, 563)\n",
      "(17, 255, 748)\n",
      "(17, 265, 754)\n",
      "(17, 279, 453)\n",
      "(17, 305, 597)\n",
      "(17, 331, 959)\n",
      "(18, 1, 923)\n",
      "(18, 51, 206)\n",
      "(18, 53, 209)\n",
      "(18, 69, 606)\n",
      "(18, 69, 858)\n",
      "(18, 80, 60)\n",
      "(18, 124, 574)\n",
      "(18, 124, 1140)\n",
      "(18, 142, 269)\n",
      "(18, 142, 272)\n",
      "(18, 151, 272)\n",
      "(18, 153, 473)\n",
      "(18, 159, 474)\n",
      "(18, 214, 362)\n",
      "(18, 221, 353)\n",
      "(18, 256, 226)\n",
      "(18, 269, 331)\n",
      "(18, 289, 600)\n",
      "(19, 95, 1138)\n",
      "(19, 139, 72)\n",
      "(19, 145, 270)\n",
      "(19, 146, 278)\n",
      "(19, 160, 485)\n",
      "(19, 159, 976)\n",
      "(19, 163, 481)\n",
      "(19, 164, 477)\n",
      "(19, 169, 56)\n",
      "(19, 218, 355)\n",
      "(19, 220, 365)\n",
      "(19, 226, 355)\n",
      "(19, 228, 359)\n",
      "(19, 271, 761)\n",
      "(20, 10, 949)\n",
      "(20, 36, 228)\n",
      "(21, 55, 207)\n",
      "(20, 53, 1109)\n",
      "(20, 62, 240)\n",
      "(20, 204, 859)\n",
      "(20, 221, 355)\n"
     ]
    },
    {
     "name": "stdout",
     "output_type": "stream",
     "text": [
      "(21, 223, 363)\n",
      "(20, 260, 228)\n",
      "(20, 271, 769)\n",
      "(20, 309, 592)\n",
      "(20, 308, 596)\n",
      "(21, 53, 1058)\n",
      "(21, 55, 211)\n",
      "(21, 59, 204)\n",
      "(21, 67, 45)\n",
      "(21, 92, 141)\n",
      "(21, 147, 999)\n",
      "(21, 151, 1002)\n",
      "(21, 203, 852)\n",
      "(21, 204, 848)\n",
      "(21, 211, 853)\n",
      "(21, 215, 359)\n",
      "(21, 219, 369)\n",
      "(21, 250, 112)\n",
      "(21, 251, 115)\n",
      "(21, 312, 597)\n",
      "(22, 55, 1056)\n",
      "(22, 58, 55)\n",
      "(22, 98, 144)\n",
      "(22, 152, 999)\n",
      "(22, 162, 478)\n",
      "(22, 206, 852)\n",
      "(22, 207, 846)\n",
      "(22, 212, 847)\n",
      "(22, 214, 851)\n",
      "(22, 217, 365)\n",
      "(22, 220, 366)\n",
      "(22, 263, 38)\n",
      "(22, 312, 594)\n",
      "(23, 52, 1057)\n",
      "(23, 183, 732)\n",
      "(23, 208, 848)\n",
      "(23, 213, 855)\n",
      "(23, 312, 110)\n",
      "(24, 63, 89)\n",
      "(24, 94, 141)\n",
      "(24, 99, 138)\n",
      "(24, 217, 25)\n",
      "(24, 310, 594)\n",
      "(24, 318, 112)\n",
      "(25, 49, 1055)\n",
      "(25, 52, 1056)\n",
      "(25, 98, 142)\n",
      "(27, 316, 593)\n",
      "(26, 1, 962)\n",
      "(26, 104, 145)\n",
      "(27, 94, 144)\n",
      "(27, 100, 147)\n",
      "(30, 103, 121)\n"
     ]
    }
   ],
   "source": [
    "mask = np.where(dog >= t, 1, 0)\n",
    "mask = ndi.morphology.binary_opening(mask, np.ones((1,2,2)))\n",
    "mask = np.expand_dims(mask, 0)\n",
    "fits = fit_objects_from_mask(stack4d, mask, fitwindow_rad_z=1, fitwindow_rad_xy=3)"
   ]
  },
  {
   "cell_type": "code",
   "execution_count": 310,
   "metadata": {},
   "outputs": [
    {
     "data": {
      "application/vnd.jupyter.widget-view+json": {
       "model_id": "ce6b5da5959949c7bad78c3c09e90427",
       "version_major": 2,
       "version_minor": 0
      },
      "text/plain": [
       "interactive(children=(Dropdown(description='Color', index=1, options=('Reds', 'cividis', 'plasma', 'Greens', '…"
      ]
     },
     "metadata": {},
     "output_type": "display_data"
    }
   ],
   "source": [
    "imp.quickview_ms2(stack5d, fits, MAX=False, shadows=False, halfwidth_z=0)"
   ]
  },
  {
   "cell_type": "code",
   "execution_count": 312,
   "metadata": {},
   "outputs": [
    {
     "data": {
      "application/vnd.jupyter.widget-view+json": {
       "model_id": "8436ae715a18482b8a569ba9c895f648",
       "version_major": 2,
       "version_minor": 0
      },
      "text/plain": [
       "interactive(children=(Dropdown(description='Color', index=1, options=('Reds', 'cividis', 'plasma', 'Greens', '…"
      ]
     },
     "metadata": {},
     "output_type": "display_data"
    }
   ],
   "source": [
    "peakiness = 7\n",
    "fits_filtered = imp.filter_ms2fits(fits, peakiness, stack)\n",
    "imp.quickview_ms2(stack5d, fits_filtered, halfwidth_z=0, MAX=False, shadows=False)"
   ]
  },
  {
   "cell_type": "markdown",
   "metadata": {},
   "source": [
    "## Z-slice woes\n",
    "\n",
    "From the 120-mer stacks, it's clear that there's a significant decrease in intensity with increasing Z slice (deeper into the embryo). This could be from scattering or from bleaching. Some of the stacks included two time points, and it is clear from these that bleaching is a minor contribution. I can think of two ways of dealing with this. The first is two rely on the data averaging out: use inputs from multiple embryos with identical scan depths for each input, hope that the effect evens out. The second is explicit correction. This is the better and more rigorous approach.\n",
    "\n",
    "The strategy here would be to use the 120mers to calibrate signal decrease as a function of depth into the embryo, by measuring the position of the coverslip. From these data we can derive a correction function, and for all subsequent datasets, we would need to measure and record the position of the coverslip. It will still be important to have inputs from multiple embryos, and I think measuring the laser power will also be critical (to avoid the difficulty of having to do all experiments on the same day). \n",
    "\n",
    "Going to see if I can do anything with these data before while I'm waiting for the chance to collect new data."
   ]
  },
  {
   "cell_type": "code",
   "execution_count": 255,
   "metadata": {},
   "outputs": [
    {
     "data": {
      "application/vnd.jupyter.widget-view+json": {
       "model_id": "b99e24632827462e91ad9ae145c46bc1",
       "version_major": 2,
       "version_minor": 0
      },
      "text/plain": [
       "interactive(children=(Dropdown(description='Color', index=8, options=('Reds', 'magma', 'inferno', 'gray', 'Gat…"
      ]
     },
     "metadata": {},
     "output_type": "display_data"
    }
   ],
   "source": [
    "czi_filename = '/Users/michaelstadler/Bioinformatics/Projects/rpb1/data/quantitation/20210322-120merGFP-488-3pct-em3-01.czi'\n",
    "stack = read_czi(czi_filename, swapaxes=False)\n",
    "viewer(stack)"
   ]
  },
  {
   "cell_type": "code",
   "execution_count": 258,
   "metadata": {},
   "outputs": [],
   "source": [
    "stack4d = stack[:1]\n",
    "#stack4d = np.expand_dims(stack, axis=0)\n",
    "stack5d = np.expand_dims(stack4d, axis=0)"
   ]
  },
  {
   "cell_type": "code",
   "execution_count": 259,
   "metadata": {},
   "outputs": [],
   "source": [
    "channel=0\n",
    "sigma_big = 4\n",
    "sigma_small = 0\n",
    "\n",
    "stack3d = stack4d[channel]\n",
    "dog = imp.dog_filter(stack3d, [0,sigma_small,sigma_small],[0,sigma_big,sigma_big])"
   ]
  },
  {
   "cell_type": "code",
   "execution_count": 260,
   "metadata": {},
   "outputs": [
    {
     "data": {
      "application/vnd.jupyter.widget-view+json": {
       "model_id": "c96f9e9aad8c4915864134ced803a664",
       "version_major": 2,
       "version_minor": 0
      },
      "text/plain": [
       "interactive(children=(Dropdown(description='Color', index=6, options=('Reds', 'magma', 'inferno', 'gray', 'Gat…"
      ]
     },
     "metadata": {},
     "output_type": "display_data"
    }
   ],
   "source": [
    "t = 10000\n",
    "viewer(dog, color='cividis', init_minval=t, init_maxval=t+1)"
   ]
  },
  {
   "cell_type": "code",
   "execution_count": 261,
   "metadata": {},
   "outputs": [
    {
     "data": {
      "application/vnd.jupyter.widget-view+json": {
       "model_id": "f76e8908d4ee4fc8aa0f0711c3b21aaf",
       "version_major": 2,
       "version_minor": 0
      },
      "text/plain": [
       "interactive(children=(Dropdown(description='Color', index=8, options=('Reds', 'magma', 'inferno', 'gray', 'Gat…"
      ]
     },
     "metadata": {},
     "output_type": "display_data"
    }
   ],
   "source": [
    "mask = np.where(dog >= t, 1, 0)\n",
    "mask = ndi.morphology.binary_opening(mask, np.ones((1,2,2)))\n",
    "mask = np.expand_dims(mask, 0)\n",
    "viewer(mask)"
   ]
  },
  {
   "cell_type": "code",
   "execution_count": 262,
   "metadata": {},
   "outputs": [
    {
     "name": "stdout",
     "output_type": "stream",
     "text": [
      "0\n"
     ]
    },
    {
     "data": {
      "application/vnd.jupyter.widget-view+json": {
       "model_id": "69ab4d78454944b09d29259bb1ba7ab7",
       "version_major": 2,
       "version_minor": 0
      },
      "text/plain": [
       "interactive(children=(Dropdown(description='Color', index=6, options=('Reds', 'magma', 'inferno', 'gray', 'Gat…"
      ]
     },
     "metadata": {},
     "output_type": "display_data"
    }
   ],
   "source": [
    "fits = fit_objects_from_mask(stack4d, mask, fitwindow_rad_z=1, fitwindow_rad_xy=3)\n",
    "imp.quickview_ms2(stack5d, fits, MAX=True, shadows=False, halfwidth_z=0)"
   ]
  },
  {
   "cell_type": "code",
   "execution_count": 263,
   "metadata": {},
   "outputs": [
    {
     "data": {
      "application/vnd.jupyter.widget-view+json": {
       "model_id": "1721b668f72a4716a0dd5090a7a8ba83",
       "version_major": 2,
       "version_minor": 0
      },
      "text/plain": [
       "interactive(children=(Dropdown(description='Color', index=6, options=('Reds', 'magma', 'inferno', 'gray', 'Gat…"
      ]
     },
     "metadata": {},
     "output_type": "display_data"
    }
   ],
   "source": [
    "peakiness = 8\n",
    "fits_filtered = imp.filter_ms2fits(fits, peakiness, stack)\n",
    "imp.quickview_ms2(stack5d, fits_filtered, MAX=False, shadows=False, halfwidth_z=0)"
   ]
  },
  {
   "cell_type": "code",
   "execution_count": 264,
   "metadata": {},
   "outputs": [],
   "source": [
    "spots_byz = []\n",
    "for i in range(0, stack.shape[-3]-1):\n",
    "    zslice_bool = fits_filtered[0][:,0] == i\n",
    "    fits_zslice = [fits_filtered[0][zslice_bool]]\n",
    "    spot_data = imp.connect_ms2_fits_focuscorrect(fits_zslice, [0], [0], np.zeros_like(stack4d))\n",
    "    spots = imp.spot_movies(stack5d, spot_data, fill=0, len_ij=31,view=False)\n",
    "    spots = np.squeeze(spots)\n",
    "    spots_byz.append(spots)"
   ]
  },
  {
   "cell_type": "code",
   "execution_count": 265,
   "metadata": {},
   "outputs": [],
   "source": [
    "spots_byz_3_01 = spots_byz.copy()"
   ]
  },
  {
   "cell_type": "code",
   "execution_count": 270,
   "metadata": {},
   "outputs": [
    {
     "data": {
      "image/png": "[encoded data removed]",
      "text/plain": [
       "<Figure size 576x864 with 31 Axes>"
      ]
     },
     "metadata": {
      "needs_background": "light"
     },
     "output_type": "display_data"
    }
   ],
   "source": [
    "# em3-01\n",
    "spots_byz = spots_byz_3_01\n",
    "n = len(spots_byz)\n",
    "plt.subplots(n, 1, figsize=(8,12))\n",
    "for i in range(0, n):\n",
    "    plt.subplot(n,1,i+1)\n",
    "    inner_ij=5\n",
    "    outter_ij=9\n",
    "    inner_z=1\n",
    "    outter_z=1\n",
    "    bg_subtract = True\n",
    "    \n",
    "    vals = fg_bg(spots_byz[i], inner_ij=inner_ij, outter_ij=outter_ij, inner_z=inner_z, \n",
    "                 outter_z=outter_z, bg_subtract=bg_subtract)\n",
    "    vals = np.array(vals)\n",
    "    low_cut, high_cut = np.percentile(vals, [10,90])\n",
    "    #print(vals <= low_cut)\n",
    "    vals = vals[(vals >= low_cut) & (vals <= high_cut)]\n",
    "    plt.hist(vals, range=(0,20000), bins=50);\n",
    "    plt.vlines(np.mean(vals), 0,10, color='red')"
   ]
  },
  {
   "cell_type": "code",
   "execution_count": 253,
   "metadata": {},
   "outputs": [
    {
     "data": {
      "image/png": "[encoded data removed]",
      "text/plain": [
       "<Figure size 576x864 with 31 Axes>"
      ]
     },
     "metadata": {
      "needs_background": "light"
     },
     "output_type": "display_data"
    }
   ],
   "source": [
    "# em1-02\n",
    "spots_byz = spots_byz_1_02\n",
    "n = len(spots_byz)\n",
    "plt.subplots(n, 1, figsize=(8,12))\n",
    "for i in range(0, n):\n",
    "    plt.subplot(n,1,i+1)\n",
    "    inner_ij=5\n",
    "    outter_ij=9\n",
    "    inner_z=1\n",
    "    outter_z=1\n",
    "    bg_subtract = True\n",
    "    \n",
    "    vals = fg_bg(spots_byz[i], inner_ij=inner_ij, outter_ij=outter_ij, inner_z=inner_z, \n",
    "                 outter_z=outter_z, bg_subtract=bg_subtract)\n",
    "    vals = np.array(vals)\n",
    "    low_cut, high_cut = np.percentile(vals, [10,90])\n",
    "    #print(vals <= low_cut)\n",
    "    vals = vals[(vals >= low_cut) & (vals <= high_cut)]\n",
    "    plt.hist(vals, range=(0,20000), bins=50);\n",
    "    plt.vlines(np.mean(vals), 0,10, color='red')"
   ]
  },
  {
   "cell_type": "code",
   "execution_count": 243,
   "metadata": {},
   "outputs": [
    {
     "data": {
      "image/png": "[encoded data removed]",
      "text/plain": [
       "<Figure size 576x864 with 31 Axes>"
      ]
     },
     "metadata": {
      "needs_background": "light"
     },
     "output_type": "display_data"
    }
   ],
   "source": [
    "# em2-02\n",
    "n = len(spots_byz)\n",
    "plt.subplots(n, 1, figsize=(8,12))\n",
    "for i in range(0, n):\n",
    "    plt.subplot(n,1,i+1)\n",
    "    inner_ij=5\n",
    "    outter_ij=9\n",
    "    inner_z=1\n",
    "    outter_z=1\n",
    "    bg_subtract = True\n",
    "    \n",
    "    vals = fg_bg(spots_byz[i], inner_ij=inner_ij, outter_ij=outter_ij, inner_z=inner_z, \n",
    "                 outter_z=outter_z, bg_subtract=bg_subtract)\n",
    "    vals = np.array(vals)\n",
    "    low_cut, high_cut = np.percentile(vals, [10,90])\n",
    "    #print(vals <= low_cut)\n",
    "    vals = vals[(vals >= low_cut) & (vals <= high_cut)]\n",
    "    plt.hist(vals, range=(0,20000), bins=50);\n",
    "    plt.vlines(np.mean(vals), 0,10, color='red')"
   ]
  },
  {
   "cell_type": "markdown",
   "metadata": {},
   "source": [
    "OK, let's suppose we had depth information, so each slice in each stack could be assigned a distance from the embryo surface. We could have a vector of depths matching the Z slices in our spots_byz object...\n",
    "\n",
    "I think to avoid the effects of differences in spot number, I should use averages. So for each dataset, produce matching vectors of the average for each slice and the position relative to the embryo surface. Then concatenate them all together, fit some function to them (look at them to see if linear is appropriate)."
   ]
  },
  {
   "cell_type": "code",
   "execution_count": 277,
   "metadata": {},
   "outputs": [],
   "source": [
    "stepsize = 0.150\n",
    "start = 1.2\n",
    "steps = 31\n",
    "\n",
    "x = (np.arange(0, steps) * stepsize) + start"
   ]
  },
  {
   "cell_type": "code",
   "execution_count": 283,
   "metadata": {},
   "outputs": [],
   "source": [
    "spots_byz = spots_byz_3_01\n",
    "def fg_bg_byz(spots_byz, inner_ij=5, outter_ij=9, inner_z=1, outter_z=1, bg_subtract=True):\n",
    "    y = []\n",
    "    n = len(spots_byz)\n",
    "    for i in range(0, n):\n",
    "        vals = fg_bg(spots_byz[i], inner_ij=inner_ij, outter_ij=outter_ij, inner_z=inner_z, \n",
    "                     outter_z=outter_z, bg_subtract=bg_subtract)\n",
    "        vals = np.array(vals)\n",
    "        low_cut, high_cut = np.percentile(vals, [10,90])\n",
    "        vals = vals[(vals >= low_cut) & (vals <= high_cut)]\n",
    "        y.append(np.mean(vals))\n",
    "    return y"
   ]
  },
  {
   "cell_type": "code",
   "execution_count": 284,
   "metadata": {},
   "outputs": [
    {
     "data": {
      "text/plain": [
       "[<matplotlib.lines.Line2D at 0x7fc201aebee0>]"
      ]
     },
     "execution_count": 284,
     "metadata": {},
     "output_type": "execute_result"
    },
    {
     "data": {
      "image/png": "[encoded data removed]",
      "text/plain": [
       "<Figure size 432x288 with 1 Axes>"
      ]
     },
     "metadata": {
      "needs_background": "light"
     },
     "output_type": "display_data"
    }
   ],
   "source": [
    "plt.plot(x,y)"
   ]
  },
  {
   "cell_type": "markdown",
   "metadata": {},
   "source": [
    "### Imaging experiments to account for embryo depth effects\n",
    "\n",
    "For taking data:\n",
    "\n",
    "- Focus on 120-mers\n",
    "- Measure laser power\n",
    "- Record position of coverslip/embryo surface\n",
    "- Record position of Z-stack (or figure out how to get it from metadata)\n",
    "- Take two frames for each position\n",
    "- Get many positions across many embryos\n",
    "- From this, calibrate correction for fluorescence vs. embryo depth\n",
    "\n",
    "I took a bunch of movies with these conditions on 3/30. For each dataset, I recorded the position of the embryo surface and the position of the start of the Z stack. I ran through the following routine for datasets from 6 datasets from 5 embryos to segment spots, determine spot intensities, and get the \"spot movies\" (boxes of the image centered around detected spots, separated out by Z slices."
   ]
  },
  {
   "cell_type": "code",
   "execution_count": 425,
   "metadata": {},
   "outputs": [],
   "source": [
    "del stack, stack3d, stack4d, stack5d, fits, dog, fits_filtered, mask, spots_byz"
   ]
  },
  {
   "cell_type": "code",
   "execution_count": 426,
   "metadata": {
    "scrolled": true
   },
   "outputs": [
    {
     "data": {
      "application/vnd.jupyter.widget-view+json": {
       "model_id": "14a4c85c9390496cad5438c3fc0ffa8b",
       "version_major": 2,
       "version_minor": 0
      },
      "text/plain": [
       "interactive(children=(Dropdown(description='Color', index=8, options=('Reds', 'magma', 'inferno', 'gray', 'Gat…"
      ]
     },
     "metadata": {},
     "output_type": "display_data"
    }
   ],
   "source": [
    "czi_filename = '/Users/michaelstadler/Bioinformatics/Projects/rpb1/data/quantitation/20210330-120merGFP-488-3pct-em6-01.czi'\n",
    "stack = read_czi(czi_filename, swapaxes=False)\n",
    "viewer(stack)"
   ]
  },
  {
   "cell_type": "code",
   "execution_count": 427,
   "metadata": {},
   "outputs": [],
   "source": [
    "stack4d = stack[:1]\n",
    "#stack4d = np.expand_dims(stack, axis=0)\n",
    "stack5d = np.expand_dims(stack4d, axis=0)"
   ]
  },
  {
   "cell_type": "code",
   "execution_count": 428,
   "metadata": {},
   "outputs": [],
   "source": [
    "channel=0\n",
    "sigma_big = 4\n",
    "sigma_small = 0\n",
    "\n",
    "stack3d = stack4d[channel]\n",
    "dog = imp.dog_filter(stack3d, [0,sigma_small,sigma_small],[0,sigma_big,sigma_big])"
   ]
  },
  {
   "cell_type": "code",
   "execution_count": 429,
   "metadata": {
    "scrolled": true
   },
   "outputs": [
    {
     "data": {
      "application/vnd.jupyter.widget-view+json": {
       "model_id": "70b32a37cad74ce2aeaa031ce7b2d0c4",
       "version_major": 2,
       "version_minor": 0
      },
      "text/plain": [
       "interactive(children=(Dropdown(description='Color', index=6, options=('Reds', 'magma', 'inferno', 'gray', 'Gat…"
      ]
     },
     "metadata": {},
     "output_type": "display_data"
    }
   ],
   "source": [
    "t = 10000\n",
    "viewer(dog, color='cividis', init_minval=t, init_maxval=t+1)"
   ]
  },
  {
   "cell_type": "code",
   "execution_count": 430,
   "metadata": {},
   "outputs": [
    {
     "data": {
      "application/vnd.jupyter.widget-view+json": {
       "model_id": "fe64c2c618af4fbd8e7b111d741339dd",
       "version_major": 2,
       "version_minor": 0
      },
      "text/plain": [
       "interactive(children=(Dropdown(description='Color', index=8, options=('Reds', 'magma', 'inferno', 'gray', 'Gat…"
      ]
     },
     "metadata": {},
     "output_type": "display_data"
    }
   ],
   "source": [
    "mask = np.where(dog >= t, 1, 0)\n",
    "mask = ndi.morphology.binary_opening(mask, np.ones((1,2,2)))\n",
    "mask = np.expand_dims(mask, 0)\n",
    "viewer(mask)"
   ]
  },
  {
   "cell_type": "code",
   "execution_count": 431,
   "metadata": {},
   "outputs": [
    {
     "name": "stdout",
     "output_type": "stream",
     "text": [
      "0\n",
      "100 200 300 400 500 600 700 800 900 1000 1100 1200 1300 1400 1500 1600 1700 1800 1900 2000 2100 2200 2300 2400 2500 2600 2700 2800 2900 3000 3100 3200 3300 3400 3500 3600 3700 3800 3900 4000 4100 4200 4300 4400 4500 4600 4700 4800 4900 5000 "
     ]
    }
   ],
   "source": [
    "fits = fit_objects_from_mask(stack4d, mask, fitwindow_rad_z=1, fitwindow_rad_xy=3)\n",
    "#imp.quickview_ms2(stack5d, fits, MAX=True, shadows=False, halfwidth_z=0)"
   ]
  },
  {
   "cell_type": "code",
   "execution_count": 432,
   "metadata": {},
   "outputs": [
    {
     "data": {
      "application/vnd.jupyter.widget-view+json": {
       "model_id": "105d37ed854240fe9b77bb24ca243755",
       "version_major": 2,
       "version_minor": 0
      },
      "text/plain": [
       "interactive(children=(Dropdown(description='Color', index=6, options=('Reds', 'magma', 'inferno', 'gray', 'Gat…"
      ]
     },
     "metadata": {},
     "output_type": "display_data"
    }
   ],
   "source": [
    "peakiness = 8\n",
    "fits_filtered = imp.filter_ms2fits(fits, peakiness, stack)\n",
    "imp.quickview_ms2(stack5d, fits_filtered, MAX=False, shadows=False, halfwidth_z=0)"
   ]
  },
  {
   "cell_type": "code",
   "execution_count": 433,
   "metadata": {},
   "outputs": [],
   "source": [
    "spots_byz = []\n",
    "for i in range(0, stack.shape[-3]-1):\n",
    "    zslice_bool = fits_filtered[0][:,0] == i\n",
    "    fits_zslice = [fits_filtered[0][zslice_bool]]\n",
    "    spot_data = imp.connect_ms2_fits_focuscorrect(fits_zslice, [0], [0], np.zeros_like(stack4d))\n",
    "    spots = imp.spot_movies(stack5d, spot_data, fill=0, len_ij=31,view=False)\n",
    "    spots = np.squeeze(spots)\n",
    "    spots_byz.append(spots)"
   ]
  },
  {
   "cell_type": "code",
   "execution_count": 434,
   "metadata": {},
   "outputs": [],
   "source": [
    "spots_byz_6_01 = spots_byz.copy()"
   ]
  },
  {
   "cell_type": "code",
   "execution_count": 453,
   "metadata": {},
   "outputs": [],
   "source": [
    "save_pickle(spots_byz_1_02,'/Users/michaelstadler/Bioinformatics/Projects/rpb1/results/20210330_spots_byz_1_02.pkl')\n",
    "save_pickle(spots_byz_1_03,'/Users/michaelstadler/Bioinformatics/Projects/rpb1/results/20210330_spots_byz_1_03.pkl')\n",
    "save_pickle(spots_byz_3_01,'/Users/michaelstadler/Bioinformatics/Projects/rpb1/results/20210330_spots_byz_3_01.pkl')\n",
    "save_pickle(spots_byz_4_01,'/Users/michaelstadler/Bioinformatics/Projects/rpb1/results/20210330_spots_byz_4_01.pkl')\n",
    "save_pickle(spots_byz_5_01,'/Users/michaelstadler/Bioinformatics/Projects/rpb1/results/20210330_spots_byz_5_01.pkl')\n",
    "save_pickle(spots_byz_6_01,'/Users/michaelstadler/Bioinformatics/Projects/rpb1/results/20210330_spots_byz_6_01.pkl')\n"
   ]
  },
  {
   "cell_type": "markdown",
   "metadata": {},
   "source": [
    "With these made, I then use this fg_bg_byz function which uses the foreground/background function I previously wrote to get a normalized intensity for each spot in a dataset. I then take the mean value for all the spots in each z plane, giving me a vector, y, of the mean normalized intensity of spots in each z slice in a dataset."
   ]
  },
  {
   "cell_type": "code",
   "execution_count": 374,
   "metadata": {},
   "outputs": [],
   "source": [
    "def fg_bg_byz(spots_byz, inner_ij=5, outter_ij=9, inner_z=1, outter_z=1, bg_subtract=True):\n",
    "    y = []\n",
    "    n = len(spots_byz)\n",
    "    for i in range(0, n):\n",
    "        vals = fg_bg(spots_byz[i], inner_ij=inner_ij, outter_ij=outter_ij, inner_z=inner_z, \n",
    "                     outter_z=outter_z, bg_subtract=bg_subtract)\n",
    "        vals = np.array(vals)\n",
    "        low_cut, high_cut = np.percentile(vals, [10,90])\n",
    "        vals = vals[(vals >= low_cut) & (vals <= high_cut)]\n",
    "        y.append(np.mean(vals))\n",
    "    return y"
   ]
  },
  {
   "cell_type": "markdown",
   "metadata": {},
   "source": [
    "I run the above function on each dataset and also generate a matching vector with teh embryo depth of each slice, based on the recorded positions. These vectors are concatenated for all datasets."
   ]
  },
  {
   "cell_type": "code",
   "execution_count": 437,
   "metadata": {},
   "outputs": [
    {
     "name": "stdout",
     "output_type": "stream",
     "text": [
      "31\n",
      "62\n",
      "93\n",
      "124\n",
      "155\n",
      "186\n"
     ]
    }
   ],
   "source": [
    "datasets = [spots_byz_1_02, spots_byz_1_03, spots_byz_3_01, spots_byz_4_01, spots_byz_5_01, spots_byz_6_01]\n",
    "surface = [-116.3,-117,-118.9,-123.7,-83.99,-141.9]\n",
    "start = [-106.98,-105.75,-107.2,-119.26,-80.52,-133.8]\n",
    "interval = 0.240\n",
    "\n",
    "x = []\n",
    "y = []\n",
    "for i in range(0, len(datasets)):\n",
    "    y1 = fg_bg_byz(datasets[i], bg_subtract=True)\n",
    "    y = y + y1\n",
    "    x1 = (np.arange(0, len(y1)) * interval) + start[i] - surface[i]\n",
    "    x = x + list(x1)\n",
    "    print(len(x))"
   ]
  },
  {
   "cell_type": "code",
   "execution_count": 455,
   "metadata": {},
   "outputs": [
    {
     "data": {
      "text/plain": [
       "<matplotlib.collections.PathCollection at 0x7fc22407e850>"
      ]
     },
     "execution_count": 455,
     "metadata": {},
     "output_type": "execute_result"
    },
    {
     "data": {
      "image/png": "[encoded data removed]",
      "text/plain": [
       "<Figure size 432x288 with 1 Axes>"
      ]
     },
     "metadata": {
      "needs_background": "light"
     },
     "output_type": "display_data"
    }
   ],
   "source": [
    "plt.scatter(x,y)"
   ]
  },
  {
   "cell_type": "markdown",
   "metadata": {},
   "source": [
    "This is obviously a nice linear relationship. I do a standard linear fit:"
   ]
  },
  {
   "cell_type": "code",
   "execution_count": 439,
   "metadata": {},
   "outputs": [
    {
     "data": {
      "text/plain": [
       "(array([ -393.95404182, 15025.25369212]),\n",
       " array([[  66.37809982, -773.08360182],\n",
       "        [-773.08360182, 9964.49668287]]))"
      ]
     },
     "execution_count": 439,
     "metadata": {},
     "output_type": "execute_result"
    }
   ],
   "source": [
    "from scipy.optimize import curve_fit\n",
    "\n",
    "def func(x, m, b):\n",
    "    return (x * m) + b\n",
    "\n",
    "curve_fit(func, x, y)"
   ]
  },
  {
   "cell_type": "code",
   "execution_count": 451,
   "metadata": {},
   "outputs": [
    {
     "data": {
      "text/plain": [
       "Text(0.5, 1.0, 'Spot intensity vs. embryo depth')"
      ]
     },
     "execution_count": 451,
     "metadata": {},
     "output_type": "execute_result"
    },
    {
     "data": {
      "image/png": "[encoded data removed]",
      "text/plain": [
       "<Figure size 432x288 with 1 Axes>"
      ]
     },
     "metadata": {
      "needs_background": "light"
     },
     "output_type": "display_data"
    }
   ],
   "source": [
    "# Make a nice plot of the data and the fit.\n",
    "f_x = np.arange(4,20)\n",
    "f_y = (f_x * -393.95) + 15025.25\n",
    "\n",
    "plt.scatter(x,y)\n",
    "plt.plot(f_x,f_y, color=\"orange\", linewidth=3, alpha=1)\n",
    "plt.xlabel('Dept in embryo (µm)')\n",
    "plt.ylabel('Mean spot intensity')\n",
    "plt.title('Spot intensity vs. embryo depth')\n"
   ]
  },
  {
   "cell_type": "markdown",
   "metadata": {},
   "source": [
    "Wow, this is tremendous. Spot intensity is clearly a linear function of embryo depth, and this is a LARGE effect that must be accounted for. \n",
    "\n",
    "It turns out that there was an issue with the imaging--I needed to have the filters set to block mCherry/RFP. Ugh. I retook a bunch of 120-mer movies with these conditions. Running through the above pipeline again:"
   ]
  },
  {
   "cell_type": "code",
   "execution_count": 534,
   "metadata": {},
   "outputs": [],
   "source": [
    "del stack, stack3d, stack4d, stack5d, fits, dog, fits_filtered, mask, spots_byz"
   ]
  },
  {
   "cell_type": "code",
   "execution_count": 535,
   "metadata": {
    "scrolled": true
   },
   "outputs": [
    {
     "data": {
      "application/vnd.jupyter.widget-view+json": {
       "model_id": "d1cb403d4b0541708bdd67d91ce6b176",
       "version_major": 2,
       "version_minor": 0
      },
      "text/plain": [
       "interactive(children=(Dropdown(description='Color', index=8, options=('Reds', 'magma', 'inferno', 'gray', 'Gat…"
      ]
     },
     "metadata": {},
     "output_type": "display_data"
    }
   ],
   "source": [
    "czi_filename = '/Volumes/Stadler100/2021-03-31/20210331-120mers-3pct-em6-02.czi'\n",
    "stack = read_czi(czi_filename, swapaxes=True)\n",
    "viewer(stack)"
   ]
  },
  {
   "cell_type": "code",
   "execution_count": 536,
   "metadata": {},
   "outputs": [],
   "source": [
    "stack4d = stack[0,:1,:]\n",
    "#stack4d = np.expand_dims(stack, axis=0)\n",
    "stack5d = np.expand_dims(stack4d, axis=0)"
   ]
  },
  {
   "cell_type": "code",
   "execution_count": 538,
   "metadata": {},
   "outputs": [],
   "source": [
    "channel=0\n",
    "sigma_big = 4\n",
    "sigma_small = 0\n",
    "\n",
    "stack3d = stack4d[channel]\n",
    "dog = imp.dog_filter(stack3d, [0,sigma_small,sigma_small],[0,sigma_big,sigma_big])"
   ]
  },
  {
   "cell_type": "code",
   "execution_count": 539,
   "metadata": {
    "scrolled": true
   },
   "outputs": [
    {
     "data": {
      "application/vnd.jupyter.widget-view+json": {
       "model_id": "25ff1a5adf4f471bafa80099a5c5d122",
       "version_major": 2,
       "version_minor": 0
      },
      "text/plain": [
       "interactive(children=(Dropdown(description='Color', index=6, options=('Reds', 'magma', 'inferno', 'gray', 'Gat…"
      ]
     },
     "metadata": {},
     "output_type": "display_data"
    }
   ],
   "source": [
    "t = 10000\n",
    "viewer(dog, color='cividis', init_minval=t, init_maxval=t+1)"
   ]
  },
  {
   "cell_type": "code",
   "execution_count": 540,
   "metadata": {},
   "outputs": [
    {
     "data": {
      "application/vnd.jupyter.widget-view+json": {
       "model_id": "d1399526de0446a79678480a64b48420",
       "version_major": 2,
       "version_minor": 0
      },
      "text/plain": [
       "interactive(children=(Dropdown(description='Color', index=8, options=('Reds', 'magma', 'inferno', 'gray', 'Gat…"
      ]
     },
     "metadata": {},
     "output_type": "display_data"
    }
   ],
   "source": [
    "mask = np.where(dog >= t, 1, 0)\n",
    "mask = ndi.morphology.binary_opening(mask, np.ones((1,2,2)))\n",
    "mask = np.expand_dims(mask, 0)\n",
    "viewer(mask)"
   ]
  },
  {
   "cell_type": "code",
   "execution_count": 541,
   "metadata": {},
   "outputs": [
    {
     "name": "stdout",
     "output_type": "stream",
     "text": [
      "0\n",
      "100 200 300 400 500 600 700 800 900 1000 1100 1200 1300 1400 1500 1600 1700 1800 1900 2000 2100 2200 2300 2400 2500 2600 2700 2800 2900 3000 3100 3200 3300 3400 3500 3600 3700 "
     ]
    }
   ],
   "source": [
    "fits = fit_objects_from_mask(stack4d, mask, fitwindow_rad_z=1, fitwindow_rad_xy=3)\n",
    "#imp.quickview_ms2(stack5d, fits, MAX=True, shadows=False, halfwidth_z=0)"
   ]
  },
  {
   "cell_type": "code",
   "execution_count": 542,
   "metadata": {},
   "outputs": [
    {
     "data": {
      "application/vnd.jupyter.widget-view+json": {
       "model_id": "61bc88bc2c634ce8ae83dd927b7f6f4a",
       "version_major": 2,
       "version_minor": 0
      },
      "text/plain": [
       "interactive(children=(Dropdown(description='Color', index=6, options=('Reds', 'magma', 'inferno', 'gray', 'Gat…"
      ]
     },
     "metadata": {},
     "output_type": "display_data"
    }
   ],
   "source": [
    "peakiness = 8\n",
    "fits_filtered = imp.filter_ms2fits(fits, peakiness, stack)\n",
    "imp.quickview_ms2(stack5d, fits_filtered, MAX=False, shadows=False, halfwidth_z=0)"
   ]
  },
  {
   "cell_type": "code",
   "execution_count": 543,
   "metadata": {},
   "outputs": [],
   "source": [
    "spots_byz = []\n",
    "for i in range(0, stack4d.shape[-3]-1):\n",
    "    zslice_bool = fits_filtered[0][:,0] == i\n",
    "    fits_zslice = [fits_filtered[0][zslice_bool]]\n",
    "    spot_data = imp.connect_ms2_fits_focuscorrect(fits_zslice, [0], [0], np.zeros_like(stack4d))\n",
    "    spots = imp.spot_movies(stack5d, spot_data, fill=0, len_ij=31,view=False)\n",
    "    spots = np.squeeze(spots)\n",
    "    spots_byz.append(spots)\n"
   ]
  },
  {
   "cell_type": "code",
   "execution_count": 544,
   "metadata": {},
   "outputs": [],
   "source": [
    "save_pickle(spots_byz.copy(),'/Users/michaelstadler/Bioinformatics/Projects/rpb1/results/20210331_spots_byz_6_02.pkl')\n",
    "\n",
    "spots_byz_331_6_02 = spots_byz.copy()"
   ]
  },
  {
   "cell_type": "code",
   "execution_count": 545,
   "metadata": {},
   "outputs": [
    {
     "name": "stdout",
     "output_type": "stream",
     "text": [
      "31\n",
      "62\n",
      "81\n",
      "112\n",
      "143\n",
      "174\n",
      "205\n"
     ]
    }
   ],
   "source": [
    "datasets = [spots_byz_331_4_01, spots_byz_331_4_02, spots_byz_331_2_02, spots_byz_331_5_01, spots_byz_331_5_02, spots_byz_331_6_01, spots_byz_331_6_02]\n",
    "surface = [1565.78, 1564.08, 1615.68, 1564.51, 1564.33, 1568.97, 1567.8]\n",
    "start = [1573.99, 1569.91, 1620.8, 1573.48, 1568.38, 1571.79, 1574.71]\n",
    "interval = 0.240\n",
    "\n",
    "x = []\n",
    "y = []\n",
    "for i in range(0, len(datasets)):\n",
    "    y1 = fg_bg_byz(datasets[i], bg_subtract=True)\n",
    "    y = y + y1\n",
    "    x1 = (np.arange(0, len(y1)) * interval) + start[i] - surface[i]\n",
    "    x = x + list(x1)\n",
    "    print(len(x))"
   ]
  },
  {
   "cell_type": "code",
   "execution_count": 546,
   "metadata": {},
   "outputs": [
    {
     "data": {
      "text/plain": [
       "<matplotlib.collections.PathCollection at 0x7fc2158e2a00>"
      ]
     },
     "execution_count": 546,
     "metadata": {},
     "output_type": "execute_result"
    },
    {
     "data": {
      "image/png": "[encoded data removed]",
      "text/plain": [
       "<Figure size 432x288 with 1 Axes>"
      ]
     },
     "metadata": {
      "needs_background": "light"
     },
     "output_type": "display_data"
    }
   ],
   "source": [
    "plt.scatter(x,y)"
   ]
  },
  {
   "cell_type": "code",
   "execution_count": 547,
   "metadata": {},
   "outputs": [
    {
     "data": {
      "text/plain": [
       "(array([ -305.43251494, 12582.51083525]),\n",
       " array([[  89.94895016, -854.91431044],\n",
       "        [-854.91431044, 8947.34990782]]))"
      ]
     },
     "execution_count": 547,
     "metadata": {},
     "output_type": "execute_result"
    }
   ],
   "source": [
    "from scipy.optimize import curve_fit\n",
    "\n",
    "def func(x, m, b):\n",
    "    return (x * m) + b\n",
    "\n",
    "curve_fit(func, x, y)"
   ]
  },
  {
   "cell_type": "code",
   "execution_count": 550,
   "metadata": {},
   "outputs": [
    {
     "data": {
      "text/plain": [
       "Text(0.5, 1.0, 'Spot intensity vs. embryo depth')"
      ]
     },
     "execution_count": 550,
     "metadata": {},
     "output_type": "execute_result"
    },
    {
     "data": {
      "image/png": "[encoded data removed]",
      "text/plain": [
       "<Figure size 432x288 with 1 Axes>"
      ]
     },
     "metadata": {
      "needs_background": "light"
     },
     "output_type": "display_data"
    }
   ],
   "source": [
    "# Make a nice plot of the data and the fit.\n",
    "f_x = np.arange(2,18)\n",
    "f_y = (f_x * -305.43) + 12582.51\n",
    "\n",
    "plt.scatter(x,y)\n",
    "plt.plot(f_x,f_y, color=\"orange\", linewidth=3, alpha=1)\n",
    "plt.xlabel('Dept in embryo (µm)')\n",
    "plt.ylabel('Mean spot intensity')\n",
    "plt.title('Spot intensity vs. embryo depth')"
   ]
  },
  {
   "cell_type": "code",
   "execution_count": 564,
   "metadata": {},
   "outputs": [
    {
     "name": "stdout",
     "output_type": "stream",
     "text": [
      "31\n"
     ]
    },
    {
     "name": "stderr",
     "output_type": "stream",
     "text": [
      "/Users/michaelstadler/opt/anaconda3/envs/im/lib/python3.8/site-packages/numpy/core/fromnumeric.py:3334: RuntimeWarning: Mean of empty slice.\n",
      "  return _methods._mean(a, axis=axis, dtype=dtype,\n",
      "/Users/michaelstadler/opt/anaconda3/envs/im/lib/python3.8/site-packages/numpy/core/_methods.py:161: RuntimeWarning: invalid value encountered in double_scalars\n",
      "  ret = ret.dtype.type(ret / rcount)\n"
     ]
    }
   ],
   "source": [
    "datasets = [spots_byz_rpb1_331_4_02]\n",
    "surface = [1292.75]\n",
    "start = [1296.98]\n",
    "interval = 0.240\n",
    "\n",
    "x_rpb = []\n",
    "y_rpb = []\n",
    "for i in range(0, len(datasets)):\n",
    "    y1 = fg_bg_byz(datasets[i], bg_subtract=True)\n",
    "    y_rpb = y_rpb + y1\n",
    "    x1 = (np.arange(0, len(y1)) * interval) + start[i] - surface[i]\n",
    "    x_rpb = x_rpb + list(x1)\n",
    "    print(len(x_rpb))"
   ]
  },
  {
   "cell_type": "code",
   "execution_count": 565,
   "metadata": {},
   "outputs": [
    {
     "data": {
      "text/plain": [
       "<matplotlib.collections.PathCollection at 0x7fc222e295e0>"
      ]
     },
     "execution_count": 565,
     "metadata": {},
     "output_type": "execute_result"
    },
    {
     "data": {
      "image/png": "[encoded data removed]",
      "text/plain": [
       "<Figure size 432x288 with 1 Axes>"
      ]
     },
     "metadata": {
      "needs_background": "light"
     },
     "output_type": "display_data"
    }
   ],
   "source": [
    "plt.scatter(x_rpb, y_rpb)"
   ]
  },
  {
   "cell_type": "code",
   "execution_count": null,
   "metadata": {},
   "outputs": [],
   "source": []
  }
 ],
 "metadata": {
  "kernelspec": {
   "display_name": "Python (im)",
   "language": "python",
   "name": "im"
  },
  "language_info": {
   "codemirror_mode": {
    "name": "ipython",
    "version": 3
   },
   "file_extension": ".py",
   "mimetype": "text/x-python",
   "name": "python",
   "nbconvert_exporter": "python",
   "pygments_lexer": "ipython3",
   "version": "3.8.3"
  }
 },
 "nbformat": 4,
 "nbformat_minor": 4
}
