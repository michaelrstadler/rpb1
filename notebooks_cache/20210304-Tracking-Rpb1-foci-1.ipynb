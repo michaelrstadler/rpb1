{
 "cells": [
  {
   "cell_type": "markdown",
   "metadata": {},
   "source": [
    "# Tracking Rpb1 foci\n",
    "\n",
    "I want to try to track Rpb1 foci to get a sense of their kinetics (specifically estimating pol2 loading rate and comparing it to the plausible rate of adding elongating pol2 molecules). The higher-order question is whether pol2 foci contain non-elongating pol2 molecules or whether we are just seeing elongation.\n",
    "\n",
    "For tracking, I want to focus on very early cycle nuclei, where the Rpb1 foci are less numerous. As of right now, I just want to try tracking them to see if it's possible. It's also possible the imaging conditions will need to be re-worked, specifically the Z-sampling or time resolution. I imagine zooming in to subsets of nuclei is certainly going to be a part of this effort. Anyway, for now I'll try what I've got, and I can trade off analysis and experiments once I get going."
   ]
  },
  {
   "cell_type": "code",
   "execution_count": 2,
   "metadata": {},
   "outputs": [],
   "source": [
    "# Import public packages.\n",
    "import numpy as np\n",
    "import matplotlib.pyplot as plt\n",
    "import pandas as pd\n",
    "from scipy import ndimage as ndi \n",
    "from importlib import reload\n",
    "import skimage as ski\n",
    "import pickle\n",
    "import czifile\n",
    "\n",
    "# The order of loading matplotlib is important to avoid issues on my machine.\n",
    "%matplotlib inline\n",
    "import matplotlib as mpl\n",
    "#%matplotlib notebook\n",
    "#%matplotlib notebook\n",
    "\n",
    "# Import my packages.\n",
    "import sys\n",
    "sys.path.append('/Users/michaelstadler/Bioinformatics/Projects/rpb1/bin')\n",
    "import imagep as imp\n",
    "reload(imp)\n",
    "from imagep import viewer, save_pickle, load_pickle, box_spots, read_czi"
   ]
  },
  {
   "cell_type": "markdown",
   "metadata": {},
   "source": [
    "## Which movies? \n",
    "\n",
    "I've already identified the useful existing movies that have early Rpb1 dynamics. I'll review these and see which to start with.\n",
    "\n",
    "I think the two best are 20200729-rpb1-Hb-em1-zsmv-03.czi, which looks like one cycle earlier than 20200730-rpb1-Hb-em1-zsmv-04.czi"
   ]
  },
  {
   "cell_type": "code",
   "execution_count": 2,
   "metadata": {},
   "outputs": [],
   "source": [
    "stack1 = read_czi('/Users/michaelstadler/Bioinformatics/Projects/rpb1/data/Dots_coming_on/20200729-rpb1-Hb-em1-zsmv-03.czi')\n",
    "stack2 = read_czi('/Users/michaelstadler/Bioinformatics/Projects/rpb1/data/Dots_coming_on/20200730-rpb1-Hb-em1-zsmv-04.czi')"
   ]
  },
  {
   "cell_type": "code",
   "execution_count": 3,
   "metadata": {},
   "outputs": [
    {
     "data": {
      "application/vnd.jupyter.widget-view+json": {
       "model_id": "8f0c9842b02e40b4a2dee3c02ee723b6",
       "version_major": 2,
       "version_minor": 0
      },
      "text/plain": [
       "interactive(children=(Dropdown(description='Color', index=7, options=('viridis', 'Reds', 'magma', 'cividis', '…"
      ]
     },
     "metadata": {},
     "output_type": "display_data"
    }
   ],
   "source": [
    "viewer(stack1)"
   ]
  },
  {
   "cell_type": "markdown",
   "metadata": {},
   "source": [
    "Probably start with some kind of filtering. DoG is a good way to find spots."
   ]
  },
  {
   "cell_type": "code",
   "execution_count": 111,
   "metadata": {},
   "outputs": [],
   "source": [
    "# Start with a test z stack.\n",
    "z1 = stack1[0,11]\n",
    "dog_f_13 = imp.dog_filter(f, [0,1,1],[0,3,3])\n",
    "dog_f_13[dog_f_13 <= 0] = 0"
   ]
  },
  {
   "cell_type": "code",
   "execution_count": 112,
   "metadata": {},
   "outputs": [
    {
     "data": {
      "application/vnd.jupyter.widget-view+json": {
       "model_id": "40f7bf4664cb4044983633df0337a1da",
       "version_major": 2,
       "version_minor": 0
      },
      "text/plain": [
       "interactive(children=(Dropdown(description='Color', index=7, options=('viridis', 'Reds', 'magma', 'cividis', '…"
      ]
     },
     "metadata": {},
     "output_type": "display_data"
    }
   ],
   "source": [
    "viewer([dog_f_13, z1 * (np.max(dog_f_13) / np.max(z1))])"
   ]
  },
  {
   "cell_type": "markdown",
   "metadata": {},
   "source": [
    "The MS2 approach of fitting local maxes isn't gonna work. I think this is gonna require a thresholding, binarize, connect components, and then fit the resulting spots.\n",
    "\n",
    "Unfortunately that means determining a threshold which is always awful."
   ]
  },
  {
   "cell_type": "code",
   "execution_count": 113,
   "metadata": {},
   "outputs": [
    {
     "data": {
      "application/vnd.jupyter.widget-view+json": {
       "model_id": "688b9e7031524fef8944a12d324adeb9",
       "version_major": 2,
       "version_minor": 0
      },
      "text/plain": [
       "interactive(children=(Dropdown(description='Color', index=7, options=('viridis', 'Reds', 'magma', 'cividis', '…"
      ]
     },
     "metadata": {},
     "output_type": "display_data"
    }
   ],
   "source": [
    "viewer(dog_f_13)"
   ]
  },
  {
   "cell_type": "code",
   "execution_count": 128,
   "metadata": {},
   "outputs": [],
   "source": [
    "ski.filters.thresholding.threshold_multiotsu(dog_f_13, classes=3)"
   ]
  },
  {
   "cell_type": "markdown",
   "metadata": {},
   "source": [
    "We will have to see if this is stable, but it seems like a reasonable thing for now."
   ]
  },
  {
   "cell_type": "code",
   "execution_count": 200,
   "metadata": {},
   "outputs": [],
   "source": [
    "?ski.filters.thresholding.threshold_sauvola"
   ]
  },
  {
   "cell_type": "code",
   "execution_count": 201,
   "metadata": {},
   "outputs": [
    {
     "data": {
      "text/plain": [
       "135.39967278269532"
      ]
     },
     "execution_count": 201,
     "metadata": {},
     "output_type": "execute_result"
    }
   ],
   "source": [
    "ski.filters.thresholding.threshold_niblack(dog_f_13)"
   ]
  },
  {
   "cell_type": "code",
   "execution_count": 131,
   "metadata": {},
   "outputs": [],
   "source": [
    "t = ski.filters.thresholding.threshold_multiotsu(dog_f_13, classes=3)[1]"
   ]
  },
  {
   "cell_type": "code",
   "execution_count": 132,
   "metadata": {},
   "outputs": [
    {
     "data": {
      "text/plain": [
       "2612"
      ]
     },
     "execution_count": 132,
     "metadata": {},
     "output_type": "execute_result"
    }
   ],
   "source": [
    "t"
   ]
  },
  {
   "cell_type": "code",
   "execution_count": 162,
   "metadata": {
    "scrolled": true
   },
   "outputs": [
    {
     "data": {
      "application/vnd.jupyter.widget-view+json": {
       "model_id": "9dac468a6b33499bbaeb398beea8e536",
       "version_major": 2,
       "version_minor": 0
      },
      "text/plain": [
       "interactive(children=(Dropdown(description='Color', index=7, options=('viridis', 'Reds', 'magma', 'cividis', '…"
      ]
     },
     "metadata": {},
     "output_type": "display_data"
    }
   ],
   "source": [
    "viewer(labelmask)"
   ]
  },
  {
   "cell_type": "code",
   "execution_count": 3,
   "metadata": {},
   "outputs": [],
   "source": [
    "from fitting import fitgaussian3d, gaussian3d\n",
    "from imagep import get_object_centroid, clamp\n",
    "\n",
    "def fit_objects_from_mask(stack, mask, fitwindow_rad_xy=10, fitwindow_rad_z=2):  \n",
    "    def get_fitwindow(data, peak, xy_rad, z_rad):\n",
    "        \"\"\"Retrieve section of image stack corresponding to given\n",
    "        window around a point and the coordinate adjustments necessary\n",
    "        to convert window coordinates to coordinates in the original image\"\"\"\n",
    "        \n",
    "        # Set the start points for windows and \"adjust\" them if they get \n",
    "        # to negative numbers.\n",
    "        zmin = peak[0] - z_rad\n",
    "        xmin = peak[1] - xy_rad\n",
    "        ymin = peak[2] - xy_rad\n",
    "        # Initialize adjustments to values that are correct if no edge problems \n",
    "        # are encountered.\n",
    "        z_adj = -z_rad\n",
    "        x_adj = -xy_rad\n",
    "        y_adj = -xy_rad\n",
    "        # Update mins and adjustments if windows start at negative coordinates.\n",
    "        if (zmin < 0):\n",
    "            zmin = 0\n",
    "            z_adj = -peak[0]\n",
    "        if (xmin < 0):\n",
    "            xmin = 0\n",
    "            x_adj = -peak[1]\n",
    "        if (ymin < 0):\n",
    "            ymin = 0\n",
    "            y_adj = -peak[2]\n",
    "\n",
    "        # Get end points, constained by max coordinate in data.\n",
    "        zmax = min(data.shape[0] - 1, peak[0] + z_rad)\n",
    "        xmax = min(data.shape[1] - 1, peak[1] + xy_rad)\n",
    "        ymax = min(data.shape[2] - 1, peak[2] + xy_rad)\n",
    "\n",
    "        return (data[zmin:(zmax+1), xmin:(xmax+1), ymin:(ymax+1)], z_adj, x_adj, y_adj)\n",
    "    \n",
    "    def get_centroids(labelmask):\n",
    "        centroids = []\n",
    "        for id_ in np.unique(labelmask):\n",
    "            centroids.append(get_object_centroid(labelmask, id_))\n",
    "        return centroids\n",
    "    \n",
    "    def fit_frame(substack, submask):\n",
    "        labelmask = ndi.label(submask)[0]\n",
    "        peaks = get_centroids(labelmask)\n",
    "        \n",
    "        # Fit 3D gaussian in window surrounding each local maximum.\n",
    "        fitparams = np.ndarray((0,7))\n",
    "        for peak in peaks:\n",
    "            fitwindow, z_adj, x_adj, y_adj = get_fitwindow(substack, peak, fitwindow_rad_xy, \n",
    "                fitwindow_rad_z)\n",
    "            opt = fitgaussian3d(fitwindow)\n",
    "            if opt.success:\n",
    "                peak_fitparams = opt.x\n",
    "                # Move center coordinates to match center of gaussian fit, ensure they're within image. \n",
    "                # If they're outside the image, coordinate is assigned as the edge of the image.\n",
    "                peak_fitparams[0] = int(round(clamp((peak[0] + peak_fitparams[0] + z_adj), 0, substack.shape[-3]-1)))\n",
    "                peak_fitparams[1] = int(round(clamp((peak[1] + peak_fitparams[1] + x_adj), 0, substack.shape[-2]-1)))\n",
    "                peak_fitparams[2] = int(round(clamp((peak[2] + peak_fitparams[2] + y_adj), 0, substack.shape[-1]-1)))\n",
    "                fitparams = np.vstack((fitparams, peak_fitparams))\n",
    "            # If fit fails, add dummy entry for spot.\n",
    "            else:\n",
    "                fitparams = np.vstack((fitparams, np.array([z_adj,x_adj,y_adj,0,np.inf,np.inf,np.inf])))\n",
    "        return fitparams\n",
    "    \n",
    "    fit_data = []\n",
    "    for t in range(0, stack.shape[0]):\n",
    "        print(t)\n",
    "        fit_data.append(fit_frame(stack[t], mask[t]))\n",
    "    \n",
    "    return fit_data"
   ]
  },
  {
   "cell_type": "code",
   "execution_count": 248,
   "metadata": {},
   "outputs": [
    {
     "data": {
      "application/vnd.jupyter.widget-view+json": {
       "model_id": "aba2eda0889b4c9db58f15367f6feb48",
       "version_major": 2,
       "version_minor": 0
      },
      "text/plain": [
       "interactive(children=(Dropdown(description='Color', index=7, options=('viridis', 'Reds', 'magma', 'cividis', '…"
      ]
     },
     "metadata": {},
     "output_type": "display_data"
    }
   ],
   "source": [
    "stack3 = read_czi('/Users/michaelstadler/Bioinformatics/Projects/rpb1/data/Dots_coming_on/20210305-Rpb1GFP-eveMS2-em2-zsmv-01.czi')\n",
    "channel=0\n",
    "sigma_big = 3\n",
    "sigma_small = 1\n",
    "\n",
    "stack = stack3[channel]\n",
    "dog = imp.dog_filter(stack, [0,0,sigma_small,sigma_small],[0,0,sigma_big,sigma_big])\n",
    "viewer(dog)"
   ]
  },
  {
   "cell_type": "code",
   "execution_count": 250,
   "metadata": {},
   "outputs": [
    {
     "data": {
      "application/vnd.jupyter.widget-view+json": {
       "model_id": "6ce3c785521841cd810b7976100dfb53",
       "version_major": 2,
       "version_minor": 0
      },
      "text/plain": [
       "interactive(children=(Dropdown(description='Color', index=7, options=('viridis', 'Reds', 'magma', 'cividis', '…"
      ]
     },
     "metadata": {},
     "output_type": "display_data"
    }
   ],
   "source": [
    "viewer(stack3[0])"
   ]
  },
  {
   "cell_type": "code",
   "execution_count": 251,
   "metadata": {},
   "outputs": [],
   "source": [
    "t=2000\n",
    "mask = np.where(dog >= t, 1, 0)"
   ]
  },
  {
   "cell_type": "code",
   "execution_count": 255,
   "metadata": {},
   "outputs": [
    {
     "name": "stdout",
     "output_type": "stream",
     "text": [
      "0\n",
      "1\n"
     ]
    }
   ],
   "source": [
    "fits = fit_objects_from_labelmask(stack[0:2], mask[0:2], fitwindow_rad_z=1, fitwindow_rad_xy=3)"
   ]
  },
  {
   "cell_type": "code",
   "execution_count": 258,
   "metadata": {},
   "outputs": [
    {
     "data": {
      "text/plain": [
       "(120, 7)"
      ]
     },
     "execution_count": 258,
     "metadata": {},
     "output_type": "execute_result"
    }
   ],
   "source": [
    "fits[1].shape"
   ]
  },
  {
   "cell_type": "markdown",
   "metadata": {},
   "source": [
    "OK, so the fitting is good. Now I need to connect spots betwixt frames. I should be able to repurpose code from MS2 spot tracking. One thing to potentially correct for is the movement of nuclei. I think this should be pretty easy to handle with some nuclear segmentation and centroid finding."
   ]
  },
  {
   "cell_type": "code",
   "execution_count": 4,
   "metadata": {},
   "outputs": [],
   "source": [
    "from imagep import labelmask_filter_objsize, relabel_labelmask\n",
    "\n",
    "def segment_nuclei3D_simple(substack, sigma=3, size_min=0, size_max=np.inf):\n",
    "    sm = ndi.gaussian_filter(substack, sigma)\n",
    "    t = ski.filters.thresholding.threshold_otsu(sm)\n",
    "    mask = np.where(sm >= t, 1, 0)\n",
    "    labelmask, _ = ndi.label(mask)\n",
    "    labelmask = labelmask_filter_objsize(labelmask, size_min, size_max)\n",
    "    return labelmask"
   ]
  },
  {
   "cell_type": "code",
   "execution_count": 287,
   "metadata": {},
   "outputs": [
    {
     "name": "stdout",
     "output_type": "stream",
     "text": [
      "1 2 3 4 5 6 7 8 9 10 11 12 13 14 15 16 17 18 19 20 21 22 23 24 25 26 27 \n"
     ]
    }
   ],
   "source": [
    "a = imp.segment_nuclei_4dstack(stack3[0], segment_nuclei3D_simple, size_min=1e4)"
   ]
  },
  {
   "cell_type": "code",
   "execution_count": 289,
   "metadata": {},
   "outputs": [
    {
     "name": "stdout",
     "output_type": "stream",
     "text": [
      "1 2 3 4 5 6 7 8 9 10 11 12 13 14 15 16 17 18 19 20 21 22 23 24 25 26 27 \n"
     ]
    }
   ],
   "source": [
    "b = imp.connect_nuclei(a)"
   ]
  },
  {
   "cell_type": "code",
   "execution_count": 41,
   "metadata": {},
   "outputs": [],
   "source": [
    "def fits_adjust_nucmovement(labelmask, fits):\n",
    "    num_objects = len(np.unique(labelmask))\n",
    "    num_frames = labelmask.shape[0]\n",
    "    positions = np.empty((2, num_objects, num_frames))\n",
    "    positions[:] = np.nan\n",
    "    for f in range(0, num_frames):\n",
    "        labels = np.unique(labelmask[f])\n",
    "        for label in labels:\n",
    "            centroid = get_object_centroid(labelmask[f], label)\n",
    "            x,y = centroid[-2:]\n",
    "            positions[0, label, f] = x\n",
    "            positions[1, label, f] = y\n",
    "    \n",
    "    mean_changes = np.zeros((2, positions.shape[2]))\n",
    "    for pos in range(0,2):\n",
    "        for col in range(1, positions.shape[2]):\n",
    "            changes = positions[pos,:,col] - positions[pos,:,0]\n",
    "            mean = int(np.nanmean(changes))\n",
    "            mean_changes[pos, col] = mean\n",
    "    x_adjustments = mean_changes[0]\n",
    "    y_adjustments = mean_changes[1]\n",
    "    #return mean_changes\n",
    "    \n",
    "    fits_adj = []\n",
    "    fits_adj.append(fits[0])\n",
    "    for f in range(1, len(fits)):\n",
    "        adj = fits[f].copy()            \n",
    "        adj[:,1] = adj[:,1] - x_adjustments[f]\n",
    "        adj[:,2] = adj[:,2] - y_adjustments[f]\n",
    "        fits_adj.append(adj)\n",
    "    return fits_adj, x_adjustments, y_adjustments\n",
    "\n",
    "def revert_nucmovement_adjustments(spot_data, x_adjustments, y_adjustments):\n",
    "    spot_data_r = {}\n",
    "    for spot_id in spot_data.keys():\n",
    "        arr = spot_data[spot_id].copy()\n",
    "        for i in range(0, spot_data[spot_id].shape[0]):\n",
    "            #3,4\n",
    "            t = int(spot_data[spot_id][i,0])\n",
    "            x_adjustment, y_adjustment = x_adjustments[t], y_adjustments[t]\n",
    "            arr[i,3] = arr[i,3] + x_adjustment\n",
    "            arr[i,4] = arr[i,4] + y_adjustment\n",
    "        spot_data_r[spot_id] = arr\n",
    "    return spot_data_r"
   ]
  },
  {
   "cell_type": "code",
   "execution_count": 28,
   "metadata": {},
   "outputs": [
    {
     "data": {
      "text/plain": [
       "0.0"
      ]
     },
     "execution_count": 28,
     "metadata": {},
     "output_type": "execute_result"
    }
   ],
   "source": [
    "x_adjustments[0]"
   ]
  },
  {
   "cell_type": "code",
   "execution_count": 6,
   "metadata": {},
   "outputs": [],
   "source": [
    "from imagep import labelmask_filter_objsize, relabel_labelmask\n",
    "\n",
    "def segment_nuclei3D_simple(substack, sigma=3, size_min=0, size_max=np.inf):\n",
    "    sm = ndi.gaussian_filter(substack, sigma)\n",
    "    t = ski.filters.thresholding.threshold_otsu(sm)\n",
    "    mask = np.where(sm >= t, 1, 0)\n",
    "    labelmask, _ = ndi.label(mask)\n",
    "    labelmask = labelmask_filter_objsize(labelmask, size_min, size_max)\n",
    "    return labelmask"
   ]
  },
  {
   "cell_type": "code",
   "execution_count": null,
   "metadata": {},
   "outputs": [],
   "source": []
  },
  {
   "cell_type": "code",
   "execution_count": 120,
   "metadata": {},
   "outputs": [
    {
     "name": "stdout",
     "output_type": "stream",
     "text": [
      "0\n",
      "1\n",
      "2\n",
      "3\n",
      "4\n",
      "5\n",
      "6\n",
      "7\n",
      "8\n",
      "9\n",
      "10\n",
      "11\n",
      "12\n",
      "13\n",
      "14\n",
      "15\n",
      "16\n",
      "17\n",
      "18\n",
      "19\n",
      "20\n",
      "21\n",
      "22\n",
      "23\n",
      "24\n",
      "25\n",
      "26\n"
     ]
    }
   ],
   "source": [
    "# Find spots by thresholding and fit.\n",
    "stack3 = read_czi('/Users/michaelstadler/Bioinformatics/Projects/rpb1/data/Dots_coming_on/20210305-Rpb1GFP-eveMS2-em2-zsmv-01.czi', trim=True)\n",
    "\n",
    "channel=0\n",
    "sigma_big = 3\n",
    "sigma_small = 1\n",
    "\n",
    "stack = stack3[channel]\n",
    "dog = imp.dog_filter(stack, [0,0,sigma_small,sigma_small],[0,0,sigma_big,sigma_big])\n",
    "\n",
    "t=2500\n",
    "mask = np.where(dog >= t, 1, 0)\n",
    "\n",
    "fits = fit_objects_from_mask(stack, mask, fitwindow_rad_z=1, fitwindow_rad_xy=3)"
   ]
  },
  {
   "cell_type": "code",
   "execution_count": 138,
   "metadata": {},
   "outputs": [
    {
     "name": "stderr",
     "output_type": "stream",
     "text": [
      "/Users/michaelstadler/Bioinformatics/Projects/rpb1/bin/imagep.py:2192: RuntimeWarning: divide by zero encountered in log\n",
      "  Spots detected in new frame are connected to spots in previous frames\n"
     ]
    }
   ],
   "source": [
    "fits_f = imp.filter_ms2fits(fits, 6)"
   ]
  },
  {
   "cell_type": "code",
   "execution_count": 139,
   "metadata": {},
   "outputs": [],
   "source": [
    "# Get nuclear movements.\n",
    "#nucmask_init = imp.segment_nuclei_4dstack(stack3[0], segment_nuclei3D_simple, size_min=1e4)\n",
    "#nucmask = imp.connect_nuclei(nucmask_init)\n",
    "#nucmask = relabel_labelmask(nucmask)\n",
    "fits_adj, x_adjustments, y_adjustments = fits_adjust_nucmovement(nucmask, fits_f)"
   ]
  },
  {
   "cell_type": "code",
   "execution_count": 140,
   "metadata": {},
   "outputs": [
    {
     "name": "stdout",
     "output_type": "stream",
     "text": [
      "1 2 3 4 5 6 7 8 9 10 11 12 13 14 15 16 17 18 19 20 21 22 23 24 25 26 "
     ]
    }
   ],
   "source": [
    "reload(imp)\n",
    "spots_connected = imp.connect_ms2_frames(fits_adj, nucmask, scale_xy=85, scale_z=230, max_jump=850, max_frame_gap=0)\n",
    "spots_connected = revert_nucmovement_adjustments(spots_connected, x_adjustments, y_adjustments)\n"
   ]
  },
  {
   "cell_type": "code",
   "execution_count": 141,
   "metadata": {},
   "outputs": [],
   "source": [
    "min_len = 4\n",
    "\n",
    "# Filter for trajectory length.\n",
    "spot_data = imp.filter_spot_duration(spots_connected, min_len)"
   ]
  },
  {
   "cell_type": "code",
   "execution_count": 142,
   "metadata": {},
   "outputs": [
    {
     "name": "stdout",
     "output_type": "stream",
     "text": [
      "10 20 30 40 50 60 70 80 90 100 110 120 130 140 150 160 170 "
     ]
    }
   ],
   "source": [
    "# Add integration from signal.\n",
    "ij_rad = 3\n",
    "z_rad = 0.1\n",
    "ij_scale = 1\n",
    "z_scale = 1\n",
    "spotchannel=0\n",
    "\n",
    "spot_data2 = imp.add_volume_mean(spot_data, stack3, spotchannel, ij_rad, z_rad, ij_scale, z_scale)"
   ]
  },
  {
   "cell_type": "code",
   "execution_count": 143,
   "metadata": {},
   "outputs": [],
   "source": [
    "# Add integration from gaussian fit.\n",
    "wlength_ij = 13\n",
    "wlength_z = 3\n",
    "reload(imp)\n",
    "spot_data3 = imp.add_gaussian_integration(spot_data2, wlength_ij, wlength_z)"
   ]
  },
  {
   "cell_type": "code",
   "execution_count": 144,
   "metadata": {},
   "outputs": [],
   "source": [
    "a = imp.movie.make_spot_table(spot_data3, nucmask, 9)"
   ]
  },
  {
   "cell_type": "code",
   "execution_count": 153,
   "metadata": {},
   "outputs": [
    {
     "data": {
      "text/plain": [
       "1       6079.732759\n",
       "2       6518.936782\n",
       "3       7426.181034\n",
       "4       6273.871921\n",
       "5       5227.241379\n",
       "           ...     \n",
       "169     6869.301724\n",
       "170     6803.961394\n",
       "171    18543.917241\n",
       "172    18731.077586\n",
       "173    20884.233333\n",
       "Length: 173, dtype: float64"
      ]
     },
     "execution_count": 153,
     "metadata": {},
     "output_type": "execute_result"
    }
   ],
   "source": [
    "a.mean()"
   ]
  },
  {
   "cell_type": "code",
   "execution_count": 158,
   "metadata": {},
   "outputs": [
    {
     "data": {
      "application/vnd.jupyter.widget-view+json": {
       "model_id": "6372cdcb289e4ea8bbd2dac12a7712eb",
       "version_major": 2,
       "version_minor": 0
      },
      "text/plain": [
       "interactive(children=(Dropdown(description='Color', index=8, options=('magma', 'viridis', 'gray', 'Greens', 'g…"
      ]
     },
     "metadata": {},
     "output_type": "display_data"
    }
   ],
   "source": [
    "imp.quickview_ms2(stack3, spot_data3, spot_id=15, MAX=True, figsize=15)"
   ]
  },
  {
   "cell_type": "code",
   "execution_count": 156,
   "metadata": {},
   "outputs": [
    {
     "data": {
      "image/png": "[encoded data removed]",
      "text/plain": [
       "<Figure size 432x288 with 1 Axes>"
      ]
     },
     "metadata": {
      "needs_background": "light"
     },
     "output_type": "display_data"
    }
   ],
   "source": [
    "plt.plot(a.T.mean());"
   ]
  },
  {
   "cell_type": "code",
   "execution_count": 159,
   "metadata": {},
   "outputs": [
    {
     "data": {
      "text/plain": [
       "1150"
      ]
     },
     "execution_count": 159,
     "metadata": {},
     "output_type": "execute_result"
    }
   ],
   "source": [
    "230*5"
   ]
  },
  {
   "cell_type": "code",
   "execution_count": 161,
   "metadata": {},
   "outputs": [
    {
     "data": {
      "text/plain": [
       "1840"
      ]
     },
     "execution_count": 161,
     "metadata": {},
     "output_type": "execute_result"
    }
   ],
   "source": [
    "230*8"
   ]
  },
  {
   "cell_type": "code",
   "execution_count": 162,
   "metadata": {},
   "outputs": [],
   "source": [
    "mv = load_pickle('/Users/michaelstadler/Bioinformatics/Projects/rpb1/results/20180915-rpb1-eve-em4-zsmv-04-06.pkl')"
   ]
  },
  {
   "cell_type": "code",
   "execution_count": 178,
   "metadata": {},
   "outputs": [],
   "source": [
    "ms2 = imp.spot_movies(mv.stack, mv.spot_data, len_ij=51, view=False, fill=0, channel=1)\n",
    "prot = imp.spot_movies(mv.stack, mv.spot_data, len_ij=51, view=False, fill=0, channel=0)"
   ]
  },
  {
   "cell_type": "code",
   "execution_count": 188,
   "metadata": {},
   "outputs": [
    {
     "data": {
      "application/vnd.jupyter.widget-view+json": {
       "model_id": "acef20eb15d84eaaa495ab380698dae3",
       "version_major": 2,
       "version_minor": 0
      },
      "text/plain": [
       "interactive(children=(Dropdown(description='Color', index=8, options=('magma', 'viridis', 'gray', 'Greens', 'g…"
      ]
     },
     "metadata": {},
     "output_type": "display_data"
    }
   ],
   "source": [
    "a=ms2[:,:,2:5].max(axis=2)\n",
    "b=ms2[:,:,2:5].mean(axis=2)\n",
    "viewer([a, b * np.mean(a) / np.mean(b)], color='cividis',order='ctxy', figsize=6)"
   ]
  },
  {
   "cell_type": "code",
   "execution_count": 200,
   "metadata": {},
   "outputs": [
    {
     "data": {
      "application/vnd.jupyter.widget-view+json": {
       "model_id": "11958ba91ed4406191f4c8f4f954242b",
       "version_major": 2,
       "version_minor": 0
      },
      "text/plain": [
       "interactive(children=(Dropdown(description='Color', index=8, options=('magma', 'viridis', 'gray', 'Greens', 'g…"
      ]
     },
     "metadata": {},
     "output_type": "display_data"
    }
   ],
   "source": [
    "# Good spots: 11:\n",
    "sigma=0.5\n",
    "a_m = ndi.gaussian_filter(a, sigma=[0,0,sigma,sigma])\n",
    "b_m = ndi.gaussian_filter(b, sigma=[0,0,sigma,sigma])\n",
    "viewer([a_m, b_m * np.mean(a_m) / np.mean(b_m)], color='cividis',order='ctxy', figsize=6)\n"
   ]
  },
  {
   "cell_type": "markdown",
   "metadata": {},
   "source": [
    "Can we classify spots by shape? \n",
    "\n",
    "OK what if I mask the spots and look at pol2 distributions within them?"
   ]
  },
  {
   "cell_type": "code",
   "execution_count": 220,
   "metadata": {},
   "outputs": [
    {
     "data": {
      "application/vnd.jupyter.widget-view+json": {
       "model_id": "f77f1d2015ee430eaf6670c9b0c286e3",
       "version_major": 2,
       "version_minor": 0
      },
      "text/plain": [
       "interactive(children=(Dropdown(description='Color', index=8, options=('magma', 'viridis', 'gray', 'Greens', 'g…"
      ]
     },
     "metadata": {},
     "output_type": "display_data"
    }
   ],
   "source": [
    "b=ms2[:,:,2:5].mean(axis=2)\n",
    "c=prot[:,:,2:5].mean(axis=2)\n",
    "t = 1000\n",
    "sigma=1\n",
    "b_smooth = ndi.gaussian_filter(b, sigma=[0,0,sigma,sigma])\n",
    "mask = np.where(b_smooth > t, 1, 0)\n",
    "#Astruct = np.zeros(1,)\n",
    "mask = ndi.morphology.binary_erosion(mask, structure=np.ones((1,1,2,2)))\n",
    "mask = ndi.morphology.binary_dilation(mask, structure=np.ones((1,1,3,3)))\n",
    "b_masked = np.where(mask, b, 0)\n",
    "c_masked = np.where(mask, c, 0)\n",
    "c_masked = c_masked * np.mean(b_masked) / np.mean(c_masked)\n",
    "viewer([b_masked, c_masked], color='cividis', figsize=5)"
   ]
  },
  {
   "cell_type": "code",
   "execution_count": null,
   "metadata": {},
   "outputs": [],
   "source": []
  }
 ],
 "metadata": {
  "kernelspec": {
   "display_name": "Python (im)",
   "language": "python",
   "name": "im"
  },
  "language_info": {
   "codemirror_mode": {
    "name": "ipython",
    "version": 3
   },
   "file_extension": ".py",
   "mimetype": "text/x-python",
   "name": "python",
   "nbconvert_exporter": "python",
   "pygments_lexer": "ipython3",
   "version": "3.8.3"
  }
 },
 "nbformat": 4,
 "nbformat_minor": 4
}
