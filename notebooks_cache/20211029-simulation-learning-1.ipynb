{
 "cells": [
  {
   "cell_type": "code",
   "execution_count": 18,
   "metadata": {},
   "outputs": [
    {
     "name": "stdout",
     "output_type": "stream",
     "text": [
      "The autoreload extension is already loaded. To reload it, use:\n",
      "  %reload_ext autoreload\n"
     ]
    }
   ],
   "source": [
    "# Import my packages.\n",
    "import flymovie as fm\n",
    "import tensorflow as tf\n",
    "import os\n",
    "import copy\n",
    "import scipy\n",
    "import skimage as ski\n",
    "import scipy.ndimage as ndi\n",
    "import numpy as np\n",
    "import pandas as pd\n",
    "import matplotlib.pyplot as plt\n",
    "from dataclasses import dataclass\n",
    "import dask\n",
    "from time import sleep\n",
    "import seaborn as sns\n",
    "import itertools\n",
    "\n",
    "from math import sqrt\n",
    "from skimage.feature import blob_dog, blob_log, blob_doh\n",
    "from skimage.color import rgb2gray\n",
    "\n",
    "# Activate package autoload.\n",
    "%load_ext autoreload\n",
    "%autoreload 2"
   ]
  },
  {
   "cell_type": "code",
   "execution_count": 19,
   "metadata": {},
   "outputs": [],
   "source": [
    "def prepare_hist_param_data(data, num_hist_bins=400, param_pos=0, data_pos=1):\n",
    "    \"\"\"Process data output from blob simulator (list of tuples, \n",
    "    0 is params, 1 is 2d histogram) for feeding to ML function. \n",
    "    \n",
    "    For histograms: \n",
    "        - Bin (if desired)\n",
    "        - Normalize each 1d histogram by dividing by sum (-> probabilities)\n",
    "        - Flatten\n",
    "        - Take log (after adding a bit to avoid 0)\n",
    "\n",
    "    For parameters:\n",
    "        - Combine into single 2d numpy array (rows are entries)\n",
    "        - Normalize each column (mean 0 sd 1)\n",
    "    \n",
    "         \"\"\"\n",
    "    def check2d(a):\n",
    "        \"\"\"Add dummy first dimension if array is 1d.\"\"\"\n",
    "        if len(a.shape) < 2:\n",
    "            a = np.expand_dims(a, axis=0)\n",
    "        return a\n",
    "\n",
    "    def rebin(a, shape):\n",
    "        sh = shape[0],a.shape[0]//shape[0],shape[1],a.shape[1]//shape[1]\n",
    "        return a.reshape(sh).mean(-1).mean(1)\n",
    "\n",
    "    def norm_columns(x):\n",
    "        \"\"\"Normalize columns to mean=0 SD=1.\"\"\"\n",
    "        x1 = x.copy()\n",
    "        for i in range(0, x.shape[1]):\n",
    "            sd = np.std(x[:,i])\n",
    "            if sd > 0:\n",
    "                x1[:,i] = (x[:,i] - np.mean(x[:,i])) / sd\n",
    "            else:\n",
    "                x1[:,i] = np.zeros(len(x1[:,i]))\n",
    "        return x1\n",
    "\n",
    "    num_sigmas = check2d(data[0][data_pos]).shape[0]\n",
    "    num_params = len(data[0][param_pos])\n",
    "    num_entries = len(data)\n",
    "    histograms_processed = np.zeros((num_entries, num_sigmas * num_hist_bins))\n",
    "    params = np.zeros((num_entries, num_params))\n",
    "\n",
    "    for i in range(num_entries):\n",
    "        params[i] = data[i][param_pos]\n",
    "        hist2d = data[i][data_pos].copy()\n",
    "        hist2d = check2d(hist2d)\n",
    "        # Bin histograms.\n",
    "        hist2d = rebin(hist2d, [hist2d.shape[0], num_hist_bins])\n",
    "        # Normalize by dividing by row sum.\n",
    "        hist2d = np.apply_along_axis(lambda x: x / np.sum(x), axis=1, arr=hist2d)\n",
    "        # Flatten.\n",
    "        hist_flattened = hist2d.flatten()\n",
    "        # Add small number to account for 0s, take log, assign.\n",
    "        zero_pad = np.min(hist_flattened[hist_flattened > 0]) / 100\n",
    "        hist_flatlog = np.log(hist_flattened + zero_pad)\n",
    "        histograms_processed[i] = hist_flatlog\n",
    "\n",
    "    params = norm_columns(params)    \n",
    "    return histograms_processed, params\n",
    "\n",
    "def create_training_test_data(data, num_hist_bins=100, n_leaveout=100, param_pos=0, data_pos=1, permute=True):\n",
    "    histograms, params = prepare_hist_param_data(data, num_hist_bins, param_pos, data_pos)\n",
    "    if permute:\n",
    "        p = np.random.permutation(histograms.shape[0])\n",
    "    else:\n",
    "        p = np.arange(0, histograms.shape[0])\n",
    "\n",
    "    if n_leaveout > 0:       \n",
    "        x_train = histograms[p[:-n_leaveout]]\n",
    "        y_train = params[p[:-n_leaveout]]\n",
    "        x_test = histograms[p[-n_leaveout:]]\n",
    "        y_test = params[p[-n_leaveout:]]\n",
    "        \n",
    "        return x_train, y_train, x_test, y_test\n",
    "    else:\n",
    "        x_train, y_train = histograms, params\n",
    "        return x_train, y_train\n",
    "\n",
    "def difference_hist_params(histograms, params, dist_func=scipy.spatial.distance.euclidean):\n",
    "    num_entries = histograms.shape[0]\n",
    "    hist_diffs = np.zeros((num_entries * num_entries, histograms.shape[1]))\n",
    "    param_diffs = np.zeros(num_entries * num_entries)\n",
    "    for i in range(num_entries):\n",
    "        start = i * num_entries\n",
    "        hist_diffs[start : (start + num_entries)] = histograms - histograms[i]\n",
    "        # Get parameter distances.\n",
    "        param_diffs[start : (start + num_entries)] = np.apply_along_axis(lambda x: dist_func(x, params[i]), axis=1, arr=params)\n",
    "\n",
    "    return hist_diffs, param_diffs\n",
    "\n",
    "def plot_loss(history):\n",
    "  plt.plot(history.history['loss'], label='loss')\n",
    "  plt.plot(history.history['val_loss'], label='val_loss')\n",
    "  plt.ylim([0, 2])\n",
    "  plt.xlabel('Epoch')\n",
    "  plt.ylabel('Error')\n",
    "  plt.legend()\n",
    "  plt.grid(True)\n",
    "\n",
    "def merge_data(x_train1, x_train2, y_train1, y_train2):\n",
    "    def argsortcols(a, cols):\n",
    "        cols_ext = []\n",
    "        for col in cols:\n",
    "            cols_ext.append(a[:,col])\n",
    "        return np.lexsort(cols_ext)\n",
    "\n",
    "    order1 = argsortcols(y_train1, np.arange(0, y_train1.shape[1]))\n",
    "    order2 = argsortcols(y_train2, np.arange(0, y_train2.shape[1]))\n",
    "    y_train1_new = y_train1[order1]\n",
    "    y_train2_new = y_train2[order2]\n",
    "    if np.max(abs(y_train1_new - y_train2_new)) > 1e-5:\n",
    "        raise ValueError('Sorted y_train sets are not identical')\n",
    "    x_train_new = np.hstack((x_train1[order1], x_train2[order2]))\n",
    "    return x_train_new, y_train1_new\n",
    "\n",
    "def make_data_similarity(x_in, y_in, num_sample, num_diff):\n",
    "    total = num_sample * num_diff\n",
    "    x = np.zeros((total, x_in.shape[1]))\n",
    "    y = np.zeros((total, 1))\n",
    "    indexes = np.arange(0, x_in.shape[0])\n",
    "    sampled_indexes1 = np.random.choice(indexes, size=num_sample, replace=False)\n",
    "    for i in range(len(sampled_indexes1)):\n",
    "        start = i * num_diff\n",
    "        end = start + num_diff\n",
    "        index1 = sampled_indexes1[i]\n",
    "        indexes_sansself = np.concatenate((indexes[:index1], indexes[(index1 + 1):]))\n",
    "        sampled_indexes2 = np.random.choice(indexes_sansself, size=num_diff, replace=False)\n",
    "        x_sub = x_in[sampled_indexes2]\n",
    "        y_sub = y_in[sampled_indexes2]\n",
    "        x_diffs = x_sub - x_in[index1]\n",
    "        y_diffs = np.sum((y_sub - y_in[index1]) ** 2, axis=1) # sum of squared differences\n",
    "        x[start:end] = x_diffs\n",
    "        y[start:end] = np.expand_dims(y_diffs, axis=1)\n",
    "\n",
    "    return x, y"
   ]
  },
  {
   "cell_type": "code",
   "execution_count": null,
   "metadata": {},
   "outputs": [],
   "source": [
    "bg_mean_range=[10_000]\n",
    "bg_var_range=np.arange(2700, 3300, 500)  \n",
    "blob_intensity_mean_range=np.arange(15_000, 25_000, 250)\n",
    "blob_intensity_var_range=np.arange(500, 10_000, 1000)\n",
    "blob_radius_mean_range=[0.3, 0.5, 0.7]\n",
    "blob_radius_var_range=[0.25, 0.5]\n",
    "blob_number_range = [0, 10, 20, 30, 40, 50, 75, 100, 150, 200, 250, 300]\n",
    "\n",
    "len(bg_mean_range) * len(bg_var_range) * len(blob_intensity_mean_range) * len(blob_intensity_var_range) * len(blob_radius_mean_range) * len(blob_radius_var_range) * len(blob_number_range)"
   ]
  },
  {
   "cell_type": "code",
   "execution_count": 99,
   "metadata": {},
   "outputs": [],
   "source": [
    "data = fm.load_pickle('/Users/michaelstadler/Bioinformatics/Projects/rpb1/data/simulations/sshist1_to_4_by1.pkl')\n",
    "x_train1, y_train1, x_test1, y_test1 = create_training_test_data(data, 400, param_pos=1, data_pos=0)"
   ]
  },
  {
   "cell_type": "code",
   "execution_count": 127,
   "metadata": {},
   "outputs": [
    {
     "name": "stdout",
     "output_type": "stream",
     "text": [
      "Epoch 1/20\n",
      "1618/1618 [==============================] - 5s 3ms/step - loss: 1.5643 - val_loss: 0.5790\n",
      "Epoch 2/20\n",
      "1618/1618 [==============================] - 5s 3ms/step - loss: 0.5456 - val_loss: 0.6682\n",
      "Epoch 3/20\n",
      "1618/1618 [==============================] - 5s 3ms/step - loss: 0.4870 - val_loss: 0.5017\n",
      "Epoch 4/20\n",
      "1618/1618 [==============================] - 5s 3ms/step - loss: 0.4657 - val_loss: 0.4933\n",
      "Epoch 5/20\n",
      "1618/1618 [==============================] - 5s 3ms/step - loss: 0.4336 - val_loss: 0.4646\n",
      "Epoch 6/20\n",
      "1618/1618 [==============================] - 5s 3ms/step - loss: 0.4067 - val_loss: 0.4137\n",
      "Epoch 7/20\n",
      "1618/1618 [==============================] - 5s 3ms/step - loss: 0.3897 - val_loss: 0.4062\n",
      "Epoch 8/20\n",
      "1618/1618 [==============================] - 5s 3ms/step - loss: 0.3749 - val_loss: 0.3307\n",
      "Epoch 9/20\n",
      "1618/1618 [==============================] - 5s 3ms/step - loss: 0.3685 - val_loss: 0.3904\n",
      "Epoch 10/20\n",
      "1618/1618 [==============================] - 5s 3ms/step - loss: 0.3541 - val_loss: 0.3448\n",
      "Epoch 11/20\n",
      "1618/1618 [==============================] - 5s 3ms/step - loss: 0.3465 - val_loss: 0.3182\n",
      "Epoch 12/20\n",
      "1618/1618 [==============================] - 5s 3ms/step - loss: 0.3354 - val_loss: 0.3114\n",
      "Epoch 13/20\n",
      "1618/1618 [==============================] - 5s 3ms/step - loss: 0.3332 - val_loss: 0.3203\n",
      "Epoch 14/20\n",
      "1618/1618 [==============================] - 5s 3ms/step - loss: 0.3239 - val_loss: 0.3804\n",
      "Epoch 15/20\n",
      "1618/1618 [==============================] - 5s 3ms/step - loss: 0.3125 - val_loss: 0.3081\n",
      "Epoch 16/20\n",
      "1618/1618 [==============================] - 5s 3ms/step - loss: 0.3142 - val_loss: 0.3183\n",
      "Epoch 17/20\n",
      "1618/1618 [==============================] - 5s 3ms/step - loss: 0.3089 - val_loss: 0.3437\n",
      "Epoch 18/20\n",
      "1618/1618 [==============================] - 5s 3ms/step - loss: 0.3087 - val_loss: 0.2780\n",
      "Epoch 19/20\n",
      "1618/1618 [==============================] - 6s 3ms/step - loss: 0.2984 - val_loss: 0.3035\n",
      "Epoch 20/20\n",
      "1618/1618 [==============================] - 5s 3ms/step - loss: 0.2903 - val_loss: 0.2793\n"
     ]
    }
   ],
   "source": [
    "optimizer = tf.keras.optimizers.Adam(\n",
    "    learning_rate=0.0003,\n",
    "    beta_1=0.9,\n",
    "    beta_2=0.999,\n",
    "    epsilon=1e-07,\n",
    "    amsgrad=False,\n",
    "    name='Adam'\n",
    ")\n",
    "\n",
    "def get_model(n_inputs, n_outputs):\n",
    "    reg=1e-6\n",
    "    model = tf.keras.Sequential()\n",
    "    model.add(tf.keras.layers.Dense(500, input_dim=n_inputs, kernel_initializer='he_uniform', activation='relu', activity_regularizer=tf.keras.regularizers.l2(reg)))\n",
    "    model.add(tf.keras.layers.Dense(500, input_dim=n_inputs, kernel_initializer='he_uniform', activation='relu', activity_regularizer=tf.keras.regularizers.l2(reg)))\n",
    "    model.add(tf.keras.layers.Dense(500, input_dim=n_inputs, kernel_initializer='he_uniform', activation='relu', activity_regularizer=tf.keras.regularizers.l2(reg)))\n",
    "    model.add(tf.keras.layers.Dense(250, input_dim=n_inputs, kernel_initializer='he_uniform', activation='relu', activity_regularizer=tf.keras.regularizers.l2(reg)))\n",
    "    model.add(tf.keras.layers.Dense(n_outputs))\n",
    "    model.compile(loss='mse', optimizer=optimizer)\n",
    "    return model\n",
    "\n",
    "model = get_model(400, 7)\n",
    "history = model.fit(x_train1, y_train1, validation_split=0.1,epochs=20, verbose=True)"
   ]
  },
  {
   "cell_type": "code",
   "execution_count": 75,
   "metadata": {},
   "outputs": [
    {
     "data": {
      "text/plain": [
       "<matplotlib.image.AxesImage at 0x7fd7f0f7e1d0>"
      ]
     },
     "execution_count": 75,
     "metadata": {},
     "output_type": "execute_result"
    },
    {
     "data": {
      "image/png": "[encoded data removed]",
      "text/plain": [
       "<Figure size 432x288 with 2 Axes>"
      ]
     },
     "metadata": {
      "needs_background": "light"
     },
     "output_type": "display_data"
    }
   ],
   "source": [
    "fig, ax = plt.subplots(1,2)\n",
    "axes = np.ravel(ax)\n",
    "axes[0].imshow(y_test[:20])\n",
    "axes[1].imshow(model.predict(x_test)[:20])"
   ]
  },
  {
   "cell_type": "code",
   "execution_count": 58,
   "metadata": {},
   "outputs": [
    {
     "ename": "FileNotFoundError",
     "evalue": "[Errno 2] No such file or directory: '/Users/michaelstadler/Bioinformatics/Projects/rpb1/data/simulations/sshist_0p5_to_4_by0p5.pkl'",
     "output_type": "error",
     "traceback": [
      "\u001b[0;31m---------------------------------------------------------------------------\u001b[0m",
      "\u001b[0;31mFileNotFoundError\u001b[0m                         Traceback (most recent call last)",
      "\u001b[0;32m/var/folders/46/dftvy0sd0jv10kyqlkqc2d8m0000gn/T/ipykernel_13465/4221373864.py\u001b[0m in \u001b[0;36m<module>\u001b[0;34m\u001b[0m\n\u001b[0;32m----> 1\u001b[0;31m \u001b[0mdata\u001b[0m \u001b[0;34m=\u001b[0m \u001b[0mfm\u001b[0m\u001b[0;34m.\u001b[0m\u001b[0mload_pickle\u001b[0m\u001b[0;34m(\u001b[0m\u001b[0;34m'/Users/michaelstadler/Bioinformatics/Projects/rpb1/data/simulations/sshist_0p5_to_4_by0p5.pkl'\u001b[0m\u001b[0;34m)\u001b[0m\u001b[0;34m\u001b[0m\u001b[0;34m\u001b[0m\u001b[0m\n\u001b[0m\u001b[1;32m      2\u001b[0m \u001b[0mx_train2\u001b[0m\u001b[0;34m,\u001b[0m \u001b[0my_train2\u001b[0m\u001b[0;34m,\u001b[0m \u001b[0mx_test2\u001b[0m\u001b[0;34m,\u001b[0m \u001b[0my_test2\u001b[0m \u001b[0;34m=\u001b[0m \u001b[0mcreate_training_test_data\u001b[0m\u001b[0;34m(\u001b[0m\u001b[0mdata\u001b[0m\u001b[0;34m,\u001b[0m \u001b[0;36m800\u001b[0m\u001b[0;34m,\u001b[0m \u001b[0mparam_pos\u001b[0m\u001b[0;34m=\u001b[0m\u001b[0;36m1\u001b[0m\u001b[0;34m,\u001b[0m \u001b[0mdata_pos\u001b[0m\u001b[0;34m=\u001b[0m\u001b[0;36m0\u001b[0m\u001b[0;34m)\u001b[0m\u001b[0;34m\u001b[0m\u001b[0;34m\u001b[0m\u001b[0m\n",
      "\u001b[0;32m~/Bioinformatics/Projects/rpb1/bin/flymovie/load_save.py\u001b[0m in \u001b[0;36mload_pickle\u001b[0;34m(filename)\u001b[0m\n\u001b[1;32m    276\u001b[0m             \u001b[0mObject\u001b[0m\u001b[0;34m(\u001b[0m\u001b[0ms\u001b[0m\u001b[0;34m)\u001b[0m \u001b[0mcontained\u001b[0m \u001b[0;32min\u001b[0m \u001b[0mpickled\u001b[0m \u001b[0mfile\u001b[0m\u001b[0;34m\u001b[0m\u001b[0;34m\u001b[0m\u001b[0m\n\u001b[1;32m    277\u001b[0m     \"\"\"\n\u001b[0;32m--> 278\u001b[0;31m     \u001b[0;32mwith\u001b[0m \u001b[0mopen\u001b[0m\u001b[0;34m(\u001b[0m\u001b[0mfilename\u001b[0m\u001b[0;34m,\u001b[0m \u001b[0;34m'rb'\u001b[0m\u001b[0;34m)\u001b[0m \u001b[0;32mas\u001b[0m \u001b[0mfile\u001b[0m\u001b[0;34m:\u001b[0m\u001b[0;34m\u001b[0m\u001b[0;34m\u001b[0m\u001b[0m\n\u001b[0m\u001b[1;32m    279\u001b[0m         \u001b[0mobj\u001b[0m \u001b[0;34m=\u001b[0m \u001b[0mpickle\u001b[0m\u001b[0;34m.\u001b[0m\u001b[0mload\u001b[0m\u001b[0;34m(\u001b[0m\u001b[0mfile\u001b[0m\u001b[0;34m)\u001b[0m\u001b[0;34m\u001b[0m\u001b[0;34m\u001b[0m\u001b[0m\n\u001b[1;32m    280\u001b[0m     \u001b[0;32mreturn\u001b[0m \u001b[0mobj\u001b[0m\u001b[0;34m\u001b[0m\u001b[0;34m\u001b[0m\u001b[0m\n",
      "\u001b[0;31mFileNotFoundError\u001b[0m: [Errno 2] No such file or directory: '/Users/michaelstadler/Bioinformatics/Projects/rpb1/data/simulations/sshist_0p5_to_4_by0p5.pkl'"
     ]
    }
   ],
   "source": [
    "data = fm.load_pickle('/Users/michaelstadler/Bioinformatics/Projects/rpb1/data/simulations/sshist_0p5_to_4_by0p5.pkl')\n",
    "x_train2, y_train2, x_test2, y_test2 = create_training_test_data(data, 800, param_pos=1, data_pos=0)"
   ]
  },
  {
   "cell_type": "code",
   "execution_count": 131,
   "metadata": {},
   "outputs": [
    {
     "name": "stdout",
     "output_type": "stream",
     "text": [
      "Epoch 1/20\n",
      "1618/1618 [==============================] - 6s 3ms/step - loss: 1.7507 - val_loss: 0.5658\n",
      "Epoch 2/20\n",
      "1618/1618 [==============================] - 5s 3ms/step - loss: 0.4243 - val_loss: 0.5614\n",
      "Epoch 3/20\n",
      "1618/1618 [==============================] - 5s 3ms/step - loss: 0.4017 - val_loss: 0.3551\n",
      "Epoch 4/20\n",
      "1618/1618 [==============================] - 5s 3ms/step - loss: 0.3838 - val_loss: 0.3394\n",
      "Epoch 5/20\n",
      "1618/1618 [==============================] - 5s 3ms/step - loss: 0.3469 - val_loss: 0.3901\n",
      "Epoch 6/20\n",
      "1618/1618 [==============================] - 6s 4ms/step - loss: 0.3074 - val_loss: 0.3141\n",
      "Epoch 7/20\n",
      "1618/1618 [==============================] - 6s 3ms/step - loss: 0.2814 - val_loss: 0.2767\n",
      "Epoch 8/20\n",
      "1618/1618 [==============================] - 6s 3ms/step - loss: 0.2608 - val_loss: 0.2603\n",
      "Epoch 9/20\n",
      "1618/1618 [==============================] - 6s 4ms/step - loss: 0.2503 - val_loss: 0.3106\n",
      "Epoch 10/20\n",
      "1618/1618 [==============================] - 5s 3ms/step - loss: 0.2377 - val_loss: 0.2564\n",
      "Epoch 11/20\n",
      "1618/1618 [==============================] - 6s 4ms/step - loss: 0.2250 - val_loss: 0.2583\n",
      "Epoch 12/20\n",
      "1618/1618 [==============================] - 6s 3ms/step - loss: 0.2215 - val_loss: 0.1918\n",
      "Epoch 13/20\n",
      "1618/1618 [==============================] - 6s 3ms/step - loss: 0.2112 - val_loss: 0.2186\n",
      "Epoch 14/20\n",
      "1618/1618 [==============================] - 6s 3ms/step - loss: 0.2072 - val_loss: 0.2192\n",
      "Epoch 15/20\n",
      "1618/1618 [==============================] - 6s 4ms/step - loss: 0.2051 - val_loss: 0.1824\n",
      "Epoch 16/20\n",
      "1618/1618 [==============================] - 6s 4ms/step - loss: 0.2029 - val_loss: 0.2444\n",
      "Epoch 17/20\n",
      "1618/1618 [==============================] - 6s 4ms/step - loss: 0.1957 - val_loss: 0.2239\n",
      "Epoch 18/20\n",
      "1618/1618 [==============================] - 6s 4ms/step - loss: 0.1932 - val_loss: 0.2735\n",
      "Epoch 19/20\n",
      "1618/1618 [==============================] - 6s 4ms/step - loss: 0.1906 - val_loss: 0.1790\n",
      "Epoch 20/20\n",
      "1618/1618 [==============================] - 6s 4ms/step - loss: 0.1819 - val_loss: 0.2457\n"
     ]
    }
   ],
   "source": [
    "optimizer = tf.keras.optimizers.Adam(\n",
    "    learning_rate=0.0003,\n",
    "    beta_1=0.9,\n",
    "    beta_2=0.999,\n",
    "    epsilon=1e-07,\n",
    "    amsgrad=False,\n",
    "    name='Adam'\n",
    ")\n",
    "\n",
    "def get_model(n_inputs, n_outputs):\n",
    "    reg=1e-6\n",
    "    model = tf.keras.Sequential()\n",
    "    model.add(tf.keras.layers.Dense(500, input_dim=n_inputs, kernel_initializer='he_uniform', activation='relu', activity_regularizer=tf.keras.regularizers.l2(reg)))\n",
    "    model.add(tf.keras.layers.Dense(500, input_dim=n_inputs, kernel_initializer='he_uniform', activation='relu', activity_regularizer=tf.keras.regularizers.l2(reg)))\n",
    "    model.add(tf.keras.layers.Dense(500, input_dim=n_inputs, kernel_initializer='he_uniform', activation='relu', activity_regularizer=tf.keras.regularizers.l2(reg)))\n",
    "    model.add(tf.keras.layers.Dense(250, input_dim=n_inputs, kernel_initializer='he_uniform', activation='relu', activity_regularizer=tf.keras.regularizers.l2(reg)))\n",
    "    model.add(tf.keras.layers.Dense(n_outputs))\n",
    "    model.compile(loss='mse', optimizer=optimizer)\n",
    "    return model\n",
    "\n",
    "model = get_model(800, 7)\n",
    "history = model.fit(x_train2, y_train2, validation_split=0.1,epochs=20, verbose=True)"
   ]
  },
  {
   "cell_type": "code",
   "execution_count": 132,
   "metadata": {},
   "outputs": [
    {
     "data": {
      "image/png": "[encoded data removed]",
      "text/plain": [
       "<Figure size 432x288 with 1 Axes>"
      ]
     },
     "metadata": {
      "needs_background": "light"
     },
     "output_type": "display_data"
    }
   ],
   "source": [
    "plot_loss(history)"
   ]
  },
  {
   "cell_type": "code",
   "execution_count": null,
   "metadata": {},
   "outputs": [],
   "source": []
  },
  {
   "cell_type": "code",
   "execution_count": null,
   "metadata": {},
   "outputs": [],
   "source": []
  },
  {
   "cell_type": "code",
   "execution_count": null,
   "metadata": {},
   "outputs": [],
   "source": []
  },
  {
   "cell_type": "code",
   "execution_count": null,
   "metadata": {},
   "outputs": [],
   "source": []
  },
  {
   "cell_type": "code",
   "execution_count": null,
   "metadata": {},
   "outputs": [],
   "source": []
  },
  {
   "cell_type": "code",
   "execution_count": null,
   "metadata": {},
   "outputs": [],
   "source": []
  },
  {
   "cell_type": "code",
   "execution_count": 20,
   "metadata": {},
   "outputs": [
    {
     "ename": "FileNotFoundError",
     "evalue": "[Errno 2] No such file or directory: '/Users/michaelstadler/Bioinformatics/Projects/rpb1/data/simulations/sshist_0p5_to_4_by0p25.pkl'",
     "output_type": "error",
     "traceback": [
      "\u001b[0;31m---------------------------------------------------------------------------\u001b[0m",
      "\u001b[0;31mFileNotFoundError\u001b[0m                         Traceback (most recent call last)",
      "\u001b[0;32m/var/folders/46/dftvy0sd0jv10kyqlkqc2d8m0000gn/T/ipykernel_13465/1101405680.py\u001b[0m in \u001b[0;36m<module>\u001b[0;34m\u001b[0m\n\u001b[0;32m----> 1\u001b[0;31m \u001b[0mdata\u001b[0m \u001b[0;34m=\u001b[0m \u001b[0mfm\u001b[0m\u001b[0;34m.\u001b[0m\u001b[0mload_pickle\u001b[0m\u001b[0;34m(\u001b[0m\u001b[0;34m'/Users/michaelstadler/Bioinformatics/Projects/rpb1/data/simulations/sshist_0p5_to_4_by0p25.pkl'\u001b[0m\u001b[0;34m)\u001b[0m\u001b[0;34m\u001b[0m\u001b[0;34m\u001b[0m\u001b[0m\n\u001b[0m\u001b[1;32m      2\u001b[0m \u001b[0mx_train\u001b[0m\u001b[0;34m,\u001b[0m \u001b[0my_train\u001b[0m\u001b[0;34m,\u001b[0m \u001b[0mx_test\u001b[0m\u001b[0;34m,\u001b[0m \u001b[0my_test\u001b[0m \u001b[0;34m=\u001b[0m \u001b[0mcreate_training_test_data\u001b[0m\u001b[0;34m(\u001b[0m\u001b[0mdata\u001b[0m\u001b[0;34m,\u001b[0m \u001b[0;36m1500\u001b[0m\u001b[0;34m,\u001b[0m \u001b[0mparam_pos\u001b[0m\u001b[0;34m=\u001b[0m\u001b[0;36m1\u001b[0m\u001b[0;34m,\u001b[0m \u001b[0mdata_pos\u001b[0m\u001b[0;34m=\u001b[0m\u001b[0;36m0\u001b[0m\u001b[0;34m)\u001b[0m\u001b[0;34m\u001b[0m\u001b[0;34m\u001b[0m\u001b[0m\n",
      "\u001b[0;32m~/Bioinformatics/Projects/rpb1/bin/flymovie/load_save.py\u001b[0m in \u001b[0;36mload_pickle\u001b[0;34m(filename)\u001b[0m\n\u001b[1;32m    276\u001b[0m             \u001b[0mObject\u001b[0m\u001b[0;34m(\u001b[0m\u001b[0ms\u001b[0m\u001b[0;34m)\u001b[0m \u001b[0mcontained\u001b[0m \u001b[0;32min\u001b[0m \u001b[0mpickled\u001b[0m \u001b[0mfile\u001b[0m\u001b[0;34m\u001b[0m\u001b[0;34m\u001b[0m\u001b[0m\n\u001b[1;32m    277\u001b[0m     \"\"\"\n\u001b[0;32m--> 278\u001b[0;31m     \u001b[0;32mwith\u001b[0m \u001b[0mopen\u001b[0m\u001b[0;34m(\u001b[0m\u001b[0mfilename\u001b[0m\u001b[0;34m,\u001b[0m \u001b[0;34m'rb'\u001b[0m\u001b[0;34m)\u001b[0m \u001b[0;32mas\u001b[0m \u001b[0mfile\u001b[0m\u001b[0;34m:\u001b[0m\u001b[0;34m\u001b[0m\u001b[0;34m\u001b[0m\u001b[0m\n\u001b[0m\u001b[1;32m    279\u001b[0m         \u001b[0mobj\u001b[0m \u001b[0;34m=\u001b[0m \u001b[0mpickle\u001b[0m\u001b[0;34m.\u001b[0m\u001b[0mload\u001b[0m\u001b[0;34m(\u001b[0m\u001b[0mfile\u001b[0m\u001b[0;34m)\u001b[0m\u001b[0;34m\u001b[0m\u001b[0;34m\u001b[0m\u001b[0m\n\u001b[1;32m    280\u001b[0m     \u001b[0;32mreturn\u001b[0m \u001b[0mobj\u001b[0m\u001b[0;34m\u001b[0m\u001b[0;34m\u001b[0m\u001b[0m\n",
      "\u001b[0;31mFileNotFoundError\u001b[0m: [Errno 2] No such file or directory: '/Users/michaelstadler/Bioinformatics/Projects/rpb1/data/simulations/sshist_0p5_to_4_by0p25.pkl'"
     ]
    }
   ],
   "source": [
    "data = fm.load_pickle('/Users/michaelstadler/Bioinformatics/Projects/rpb1/data/simulations/sshist_0p5_to_4_by0p25.pkl')\n",
    "x_train, y_train, x_test, y_test = create_training_test_data(data, 1500, param_pos=1, data_pos=0)"
   ]
  },
  {
   "cell_type": "code",
   "execution_count": 119,
   "metadata": {},
   "outputs": [
    {
     "name": "stdout",
     "output_type": "stream",
     "text": [
      "Epoch 1/20\n",
      "1618/1618 [==============================] - 7s 4ms/step - loss: 1.8300 - val_loss: 0.8855\n",
      "Epoch 2/20\n",
      "1618/1618 [==============================] - 7s 4ms/step - loss: 0.5167 - val_loss: 0.5267\n",
      "Epoch 3/20\n",
      "1618/1618 [==============================] - 7s 4ms/step - loss: 0.4586 - val_loss: 0.4160\n",
      "Epoch 4/20\n",
      "1618/1618 [==============================] - 6s 4ms/step - loss: 0.4299 - val_loss: 0.3552\n",
      "Epoch 5/20\n",
      "1618/1618 [==============================] - 7s 4ms/step - loss: 0.3893 - val_loss: 0.4535\n",
      "Epoch 6/20\n",
      "1618/1618 [==============================] - 6s 4ms/step - loss: 0.3503 - val_loss: 0.3441\n",
      "Epoch 7/20\n",
      "1618/1618 [==============================] - 7s 4ms/step - loss: 0.3313 - val_loss: 0.3486\n",
      "Epoch 8/20\n",
      "1618/1618 [==============================] - 7s 4ms/step - loss: 0.3025 - val_loss: 0.3569\n",
      "Epoch 9/20\n",
      "1618/1618 [==============================] - 8s 5ms/step - loss: 0.2872 - val_loss: 0.3171\n",
      "Epoch 10/20\n",
      "1618/1618 [==============================] - 8s 5ms/step - loss: 0.2712 - val_loss: 0.2962\n",
      "Epoch 11/20\n",
      "1618/1618 [==============================] - 8s 5ms/step - loss: 0.2605 - val_loss: 0.2389\n",
      "Epoch 12/20\n",
      "1618/1618 [==============================] - 7s 5ms/step - loss: 0.2489 - val_loss: 0.2801\n",
      "Epoch 13/20\n",
      "1618/1618 [==============================] - 7s 5ms/step - loss: 0.2382 - val_loss: 0.2958\n",
      "Epoch 14/20\n",
      "1618/1618 [==============================] - 7s 4ms/step - loss: 0.2311 - val_loss: 0.3121\n",
      "Epoch 15/20\n",
      "1618/1618 [==============================] - 7s 4ms/step - loss: 0.2221 - val_loss: 0.3049\n",
      "Epoch 16/20\n",
      "1618/1618 [==============================] - 7s 4ms/step - loss: 0.2119 - val_loss: 0.2189\n",
      "Epoch 17/20\n",
      "1618/1618 [==============================] - 7s 4ms/step - loss: 0.2135 - val_loss: 0.2646\n",
      "Epoch 18/20\n",
      "1618/1618 [==============================] - 7s 4ms/step - loss: 0.2065 - val_loss: 0.1956\n",
      "Epoch 19/20\n",
      "1618/1618 [==============================] - 7s 4ms/step - loss: 0.2049 - val_loss: 0.2226\n",
      "Epoch 20/20\n",
      "1618/1618 [==============================] - 7s 4ms/step - loss: 0.1987 - val_loss: 0.2840\n"
     ]
    }
   ],
   "source": [
    "optimizer = tf.keras.optimizers.Adam(\n",
    "    learning_rate=0.0003,\n",
    "    beta_1=0.9,\n",
    "    beta_2=0.999,\n",
    "    epsilon=1e-07,\n",
    "    amsgrad=False,\n",
    "    name='Adam'\n",
    ")\n",
    "\n",
    "def get_model(n_inputs, n_outputs):\n",
    "    reg=1e-7\n",
    "    model = tf.keras.Sequential()\n",
    "    model.add(tf.keras.layers.Dense(500, input_dim=n_inputs, kernel_initializer='he_uniform', activation='relu', activity_regularizer=tf.keras.regularizers.l2(reg)))\n",
    "    model.add(tf.keras.layers.Dense(500, input_dim=n_inputs, kernel_initializer='he_uniform', activation='relu', activity_regularizer=tf.keras.regularizers.l2(reg)))\n",
    "    model.add(tf.keras.layers.Dense(500, input_dim=n_inputs, kernel_initializer='he_uniform', activation='relu', activity_regularizer=tf.keras.regularizers.l2(reg)))\n",
    "    model.add(tf.keras.layers.Dense(250, input_dim=n_inputs, kernel_initializer='he_uniform', activation='relu', activity_regularizer=tf.keras.regularizers.l2(reg)))\n",
    "    model.add(tf.keras.layers.Dense(n_outputs))\n",
    "    model.compile(loss='mse', optimizer=optimizer)\n",
    "    return model\n",
    "\n",
    "model = get_model(1500, 7)\n",
    "history = model.fit(x_train, y_train, validation_split=0.1,epochs=20, verbose=True)"
   ]
  },
  {
   "cell_type": "code",
   "execution_count": 120,
   "metadata": {},
   "outputs": [
    {
     "data": {
      "image/png": "[encoded data removed]",
      "text/plain": [
       "<Figure size 432x288 with 1 Axes>"
      ]
     },
     "metadata": {
      "needs_background": "light"
     },
     "output_type": "display_data"
    }
   ],
   "source": [
    "plot_loss(history)"
   ]
  },
  {
   "cell_type": "code",
   "execution_count": 125,
   "metadata": {},
   "outputs": [
    {
     "name": "stdout",
     "output_type": "stream",
     "text": [
      "Epoch 1/20\n",
      "1618/1618 [==============================] - 9s 5ms/step - loss: 2.5489 - val_loss: 0.6240\n",
      "Epoch 2/20\n",
      "1618/1618 [==============================] - 7s 4ms/step - loss: 0.4878 - val_loss: 0.4579\n",
      "Epoch 3/20\n",
      "1618/1618 [==============================] - 7s 4ms/step - loss: 0.4530 - val_loss: 0.5143\n",
      "Epoch 4/20\n",
      "1618/1618 [==============================] - 7s 4ms/step - loss: 0.4150 - val_loss: 0.3569\n",
      "Epoch 5/20\n",
      "1618/1618 [==============================] - 7s 4ms/step - loss: 0.3681 - val_loss: 0.2891\n",
      "Epoch 6/20\n",
      "1618/1618 [==============================] - 7s 4ms/step - loss: 0.3306 - val_loss: 0.3102\n",
      "Epoch 7/20\n",
      "1618/1618 [==============================] - 7s 4ms/step - loss: 0.3148 - val_loss: 0.3229\n",
      "Epoch 8/20\n",
      "1618/1618 [==============================] - 7s 4ms/step - loss: 0.2921 - val_loss: 0.2939\n",
      "Epoch 9/20\n",
      "1618/1618 [==============================] - 7s 4ms/step - loss: 0.2754 - val_loss: 0.2260\n",
      "Epoch 10/20\n",
      "1618/1618 [==============================] - 7s 4ms/step - loss: 0.2674 - val_loss: 0.3102\n",
      "Epoch 11/20\n",
      "1618/1618 [==============================] - 7s 4ms/step - loss: 0.2608 - val_loss: 0.2450\n",
      "Epoch 12/20\n",
      "1618/1618 [==============================] - 7s 4ms/step - loss: 0.2459 - val_loss: 0.2590\n",
      "Epoch 13/20\n",
      "1618/1618 [==============================] - 7s 4ms/step - loss: 0.2419 - val_loss: 0.2718\n",
      "Epoch 14/20\n",
      "1618/1618 [==============================] - 7s 4ms/step - loss: 0.2299 - val_loss: 0.2700\n",
      "Epoch 15/20\n",
      "1618/1618 [==============================] - 7s 4ms/step - loss: 0.2227 - val_loss: 0.1783\n",
      "Epoch 16/20\n",
      "1618/1618 [==============================] - 7s 4ms/step - loss: 0.2227 - val_loss: 0.4283\n",
      "Epoch 17/20\n",
      "1618/1618 [==============================] - 7s 4ms/step - loss: 0.2145 - val_loss: 0.2552\n",
      "Epoch 18/20\n",
      "1618/1618 [==============================] - 7s 4ms/step - loss: 0.2050 - val_loss: 0.2269\n",
      "Epoch 19/20\n",
      "1618/1618 [==============================] - 7s 4ms/step - loss: 0.2059 - val_loss: 0.2526\n",
      "Epoch 20/20\n",
      "1618/1618 [==============================] - 7s 5ms/step - loss: 0.2041 - val_loss: 0.1987\n"
     ]
    }
   ],
   "source": [
    "optimizer = tf.keras.optimizers.Adam(\n",
    "    learning_rate=0.0003,\n",
    "    beta_1=0.9,\n",
    "    beta_2=0.999,\n",
    "    epsilon=1e-07,\n",
    "    amsgrad=False,\n",
    "    name='Adam'\n",
    ")\n",
    "\n",
    "def get_model(n_inputs, n_outputs):\n",
    "    reg=1e-6\n",
    "    model = tf.keras.Sequential()\n",
    "    model.add(tf.keras.layers.Dense(500, input_dim=n_inputs, kernel_initializer='he_uniform', activation='relu', activity_regularizer=tf.keras.regularizers.l2(reg)))\n",
    "    model.add(tf.keras.layers.Dense(500, input_dim=n_inputs, kernel_initializer='he_uniform', activation='relu', activity_regularizer=tf.keras.regularizers.l2(reg)))\n",
    "    model.add(tf.keras.layers.Dense(500, input_dim=n_inputs, kernel_initializer='he_uniform', activation='relu', activity_regularizer=tf.keras.regularizers.l2(reg)))\n",
    "    model.add(tf.keras.layers.Dense(250, input_dim=n_inputs, kernel_initializer='he_uniform', activation='relu', activity_regularizer=tf.keras.regularizers.l2(reg)))\n",
    "    model.add(tf.keras.layers.Dense(n_outputs))\n",
    "    model.compile(loss='mse', optimizer=optimizer)\n",
    "    return model\n",
    "\n",
    "model = get_model(1500, 7)\n",
    "history = model.fit(x_train, y_train, validation_split=0.1,epochs=20, verbose=True)"
   ]
  },
  {
   "cell_type": "code",
   "execution_count": 126,
   "metadata": {},
   "outputs": [
    {
     "data": {
      "image/png": "[encoded data removed]",
      "text/plain": [
       "<Figure size 432x288 with 1 Axes>"
      ]
     },
     "metadata": {
      "needs_background": "light"
     },
     "output_type": "display_data"
    }
   ],
   "source": [
    "plot_loss(history)"
   ]
  },
  {
   "cell_type": "markdown",
   "metadata": {},
   "source": [
    "## Testing with 2x sims"
   ]
  },
  {
   "cell_type": "code",
   "execution_count": 21,
   "metadata": {},
   "outputs": [
    {
     "ename": "FileNotFoundError",
     "evalue": "[Errno 2] No such file or directory: '/Users/michaelstadler/Bioinformatics/Projects/rpb1/data/simulations/sshist_0p5_to_4_by0p5.pkl'",
     "output_type": "error",
     "traceback": [
      "\u001b[0;31m---------------------------------------------------------------------------\u001b[0m",
      "\u001b[0;31mFileNotFoundError\u001b[0m                         Traceback (most recent call last)",
      "\u001b[0;32m/var/folders/46/dftvy0sd0jv10kyqlkqc2d8m0000gn/T/ipykernel_13465/2113767021.py\u001b[0m in \u001b[0;36m<module>\u001b[0;34m\u001b[0m\n\u001b[0;32m----> 1\u001b[0;31m \u001b[0mdata1\u001b[0m \u001b[0;34m=\u001b[0m \u001b[0mfm\u001b[0m\u001b[0;34m.\u001b[0m\u001b[0mload_pickle\u001b[0m\u001b[0;34m(\u001b[0m\u001b[0;34m'/Users/michaelstadler/Bioinformatics/Projects/rpb1/data/simulations/sshist_0p5_to_4_by0p5.pkl'\u001b[0m\u001b[0;34m)\u001b[0m\u001b[0;34m\u001b[0m\u001b[0;34m\u001b[0m\u001b[0m\n\u001b[0m\u001b[1;32m      2\u001b[0m \u001b[0mdata2\u001b[0m \u001b[0;34m=\u001b[0m \u001b[0mfm\u001b[0m\u001b[0;34m.\u001b[0m\u001b[0mload_pickle\u001b[0m\u001b[0;34m(\u001b[0m\u001b[0;34m'/Users/michaelstadler/Bioinformatics/Projects/rpb1/data/simulations/sims1-6-57k-2-sshist_0p5_to_4_by0p5.pkl'\u001b[0m\u001b[0;34m)\u001b[0m\u001b[0;34m\u001b[0m\u001b[0;34m\u001b[0m\u001b[0m\n",
      "\u001b[0;32m~/Bioinformatics/Projects/rpb1/bin/flymovie/load_save.py\u001b[0m in \u001b[0;36mload_pickle\u001b[0;34m(filename)\u001b[0m\n\u001b[1;32m    276\u001b[0m             \u001b[0mObject\u001b[0m\u001b[0;34m(\u001b[0m\u001b[0ms\u001b[0m\u001b[0;34m)\u001b[0m \u001b[0mcontained\u001b[0m \u001b[0;32min\u001b[0m \u001b[0mpickled\u001b[0m \u001b[0mfile\u001b[0m\u001b[0;34m\u001b[0m\u001b[0;34m\u001b[0m\u001b[0m\n\u001b[1;32m    277\u001b[0m     \"\"\"\n\u001b[0;32m--> 278\u001b[0;31m     \u001b[0;32mwith\u001b[0m \u001b[0mopen\u001b[0m\u001b[0;34m(\u001b[0m\u001b[0mfilename\u001b[0m\u001b[0;34m,\u001b[0m \u001b[0;34m'rb'\u001b[0m\u001b[0;34m)\u001b[0m \u001b[0;32mas\u001b[0m \u001b[0mfile\u001b[0m\u001b[0;34m:\u001b[0m\u001b[0;34m\u001b[0m\u001b[0;34m\u001b[0m\u001b[0m\n\u001b[0m\u001b[1;32m    279\u001b[0m         \u001b[0mobj\u001b[0m \u001b[0;34m=\u001b[0m \u001b[0mpickle\u001b[0m\u001b[0;34m.\u001b[0m\u001b[0mload\u001b[0m\u001b[0;34m(\u001b[0m\u001b[0mfile\u001b[0m\u001b[0;34m)\u001b[0m\u001b[0;34m\u001b[0m\u001b[0;34m\u001b[0m\u001b[0m\n\u001b[1;32m    280\u001b[0m     \u001b[0;32mreturn\u001b[0m \u001b[0mobj\u001b[0m\u001b[0;34m\u001b[0m\u001b[0;34m\u001b[0m\u001b[0m\n",
      "\u001b[0;31mFileNotFoundError\u001b[0m: [Errno 2] No such file or directory: '/Users/michaelstadler/Bioinformatics/Projects/rpb1/data/simulations/sshist_0p5_to_4_by0p5.pkl'"
     ]
    }
   ],
   "source": [
    "data1 = fm.load_pickle('/Users/michaelstadler/Bioinformatics/Projects/rpb1/data/simulations/sshist_0p5_to_4_by0p5.pkl')\n",
    "data2 = fm.load_pickle('/Users/michaelstadler/Bioinformatics/Projects/rpb1/data/simulations/sims1-6-57k-2-sshist_0p5_to_4_by0p5.pkl')"
   ]
  },
  {
   "cell_type": "code",
   "execution_count": 153,
   "metadata": {},
   "outputs": [],
   "source": [
    "histograms1, params1 = prepare_hist_param_data(data1, 800, param_pos=1, data_pos=0)\n",
    "histograms2, params2 = prepare_hist_param_data(data2, 800, param_pos=1, data_pos=0)\n",
    "p = np.random.permutation(histograms1.shape[0])\n",
    "\n",
    "x_train2 = np.vstack([histograms1[p[:-n_leaveout]], histograms2[p[:-n_leaveout]]])\n",
    "y_train2 = np.vstack([params1[p[:-n_leaveout]], params2[p[:-n_leaveout]]])\n",
    "x_test2 = np.vstack([histograms1[p[-n_leaveout:]], histograms2[p[-n_leaveout:]]])\n",
    "y_test2 = np.vstack([params1[p[-n_leaveout:]], params2[p[-n_leaveout:]]])"
   ]
  },
  {
   "cell_type": "code",
   "execution_count": 154,
   "metadata": {},
   "outputs": [
    {
     "name": "stdout",
     "output_type": "stream",
     "text": [
      "Epoch 1/20\n",
      "3235/3235 [==============================] - 14s 4ms/step - loss: 1.2338 - val_loss: 0.4560\n",
      "Epoch 2/20\n",
      "3235/3235 [==============================] - 13s 4ms/step - loss: 0.3982 - val_loss: 0.3365\n",
      "Epoch 3/20\n",
      "3235/3235 [==============================] - 12s 4ms/step - loss: 0.3381 - val_loss: 0.4373\n",
      "Epoch 4/20\n",
      "3235/3235 [==============================] - 12s 4ms/step - loss: 0.2915 - val_loss: 0.2794\n",
      "Epoch 5/20\n",
      "3235/3235 [==============================] - 12s 4ms/step - loss: 0.2677 - val_loss: 0.2114\n",
      "Epoch 6/20\n",
      "3235/3235 [==============================] - 12s 4ms/step - loss: 0.2466 - val_loss: 0.2340\n",
      "Epoch 7/20\n",
      "3235/3235 [==============================] - 12s 4ms/step - loss: 0.2354 - val_loss: 0.1883\n",
      "Epoch 8/20\n",
      "3235/3235 [==============================] - 13s 4ms/step - loss: 0.2162 - val_loss: 0.2133\n",
      "Epoch 9/20\n",
      "3235/3235 [==============================] - 13s 4ms/step - loss: 0.2085 - val_loss: 0.1561\n",
      "Epoch 10/20\n",
      "3235/3235 [==============================] - 13s 4ms/step - loss: 0.1971 - val_loss: 0.2044\n",
      "Epoch 11/20\n",
      "3235/3235 [==============================] - 12s 4ms/step - loss: 0.1930 - val_loss: 0.2018\n",
      "Epoch 12/20\n",
      "3235/3235 [==============================] - 11s 3ms/step - loss: 0.1929 - val_loss: 0.2037\n",
      "Epoch 13/20\n",
      "3235/3235 [==============================] - 12s 4ms/step - loss: 0.1763 - val_loss: 0.1505\n",
      "Epoch 14/20\n",
      "3235/3235 [==============================] - 11s 3ms/step - loss: 0.1721 - val_loss: 0.2377\n",
      "Epoch 15/20\n",
      "3235/3235 [==============================] - 11s 3ms/step - loss: 0.1745 - val_loss: 0.2056\n",
      "Epoch 16/20\n",
      "3235/3235 [==============================] - 12s 4ms/step - loss: 0.1676 - val_loss: 0.1535\n",
      "Epoch 17/20\n",
      "3235/3235 [==============================] - 12s 4ms/step - loss: 0.1639 - val_loss: 0.1666\n",
      "Epoch 18/20\n",
      "3235/3235 [==============================] - 11s 4ms/step - loss: 0.1578 - val_loss: 0.1143\n",
      "Epoch 19/20\n",
      "3235/3235 [==============================] - 11s 4ms/step - loss: 0.1612 - val_loss: 0.1405\n",
      "Epoch 20/20\n",
      "3235/3235 [==============================] - 12s 4ms/step - loss: 0.1563 - val_loss: 0.1363\n"
     ]
    }
   ],
   "source": [
    "optimizer = tf.keras.optimizers.Adam(\n",
    "    learning_rate=0.0003,\n",
    "    beta_1=0.9,\n",
    "    beta_2=0.999,\n",
    "    epsilon=1e-07,\n",
    "    amsgrad=False,\n",
    "    name='Adam'\n",
    ")\n",
    "\n",
    "def get_model(n_inputs, n_outputs):\n",
    "    reg=1e-6\n",
    "    model = tf.keras.Sequential()\n",
    "    model.add(tf.keras.layers.Dense(500, input_dim=n_inputs, kernel_initializer='he_uniform', activation='relu', activity_regularizer=tf.keras.regularizers.l2(reg)))\n",
    "    model.add(tf.keras.layers.Dense(500, input_dim=n_inputs, kernel_initializer='he_uniform', activation='relu', activity_regularizer=tf.keras.regularizers.l2(reg)))\n",
    "    model.add(tf.keras.layers.Dense(500, input_dim=n_inputs, kernel_initializer='he_uniform', activation='relu', activity_regularizer=tf.keras.regularizers.l2(reg)))\n",
    "    model.add(tf.keras.layers.Dense(500, input_dim=n_inputs, kernel_initializer='he_uniform', activation='relu', activity_regularizer=tf.keras.regularizers.l2(reg)))\n",
    "    model.add(tf.keras.layers.Dense(n_outputs))\n",
    "    model.compile(loss='mse', optimizer=optimizer)\n",
    "    return model\n",
    "\n",
    "model = get_model(800, 7)\n",
    "history = model.fit(x_train2, y_train2, validation_split=0.1,epochs=20, verbose=True)"
   ]
  },
  {
   "cell_type": "code",
   "execution_count": 156,
   "metadata": {},
   "outputs": [
    {
     "data": {
      "text/plain": [
       "<matplotlib.image.AxesImage at 0x7fd598162910>"
      ]
     },
     "execution_count": 156,
     "metadata": {},
     "output_type": "execute_result"
    },
    {
     "data": {
      "image/png": "[encoded data removed]",
      "text/plain": [
       "<Figure size 432x288 with 2 Axes>"
      ]
     },
     "metadata": {
      "needs_background": "light"
     },
     "output_type": "display_data"
    }
   ],
   "source": [
    "fig, ax = plt.subplots(1,2)\n",
    "axes = np.ravel(ax)\n",
    "axes[0].imshow(y_test2[:20])\n",
    "axes[1].imshow(model.predict(x_test2)[:20])"
   ]
  },
  {
   "cell_type": "markdown",
   "metadata": {},
   "source": [
    "Little check in...\n",
    "\n",
    "Looks like a deeper architecture (4x500) definitely outperforms others. Dropout is awful (using 0.1) and just crushes the model. L2 regularization seems fine, might help a little, unclear. Also a lower learning rate seems to help. Doubling the simulations certainly helped, so that's a useful data point.\n",
    "\n",
    "## Try new transformations"
   ]
  },
  {
   "cell_type": "code",
   "execution_count": null,
   "metadata": {},
   "outputs": [],
   "source": [
    "im = fm.load_pickle('/Users/michaelstadler/Bioinformatics/Projects/rpb1/results/simdump/10000_3500_35000_12000_1.5_0.75_100.pkl')"
   ]
  },
  {
   "cell_type": "code",
   "execution_count": 212,
   "metadata": {},
   "outputs": [],
   "source": [
    "from flymovie import dog_filter\n",
    "############################################################################\n",
    "def make_DoG_histograms(stack, mask=None, smallsigmas=[0.5, 1], bigsigmas=\n",
    "    [2,3,4], numbins=100, histrange=(0,65_000)):\n",
    "    \"\"\"Make a 2D scale-space histogram of an image stack using difference\n",
    "    of Gaussian (DoG) filter for scale axis.\n",
    "\n",
    "    Args:\n",
    "        stack: ndarray\n",
    "            Image stack\n",
    "        mask: ndarray\n",
    "            (optional) Mask for values to be included in histogram calculation\n",
    "        smallsigmas: iterable of numeric\n",
    "            Values to use for the smaller sigma value in DoG filter\n",
    "        bigsigmas: iterable of numeric\n",
    "            Values to use for the larger sigma value in DoG filter\n",
    "        numbins: int\n",
    "            Number of bins to use for histogram\n",
    "        histrange: (int, int)\n",
    "            Range of values to be included in histogram\n",
    "    \n",
    "    Returns:\n",
    "        hist_data: ndarray\n",
    "            Histogram data for each pair of sigma values. Dimensions\n",
    "            are (# smallsigmas x # bigsigmas) x numbins\n",
    "    \"\"\"\n",
    "    def get_pixel_vals(stack, mask):\n",
    "        \"\"\"Create flattened array of values in mask foreground of image \n",
    "        stack.\"\"\"\n",
    "        if mask is not None:\n",
    "            return stack[np.where(mask)]\n",
    "        else:\n",
    "            return stack.flatten()\n",
    "\n",
    "    hist_data = np.zeros(tuple([len(smallsigmas) * len(bigsigmas), numbins]))  \n",
    "    n = 0 # Keep track of where to add new histogram.     \n",
    "    for smallsigma in smallsigmas:\n",
    "        for bigsigma in bigsigmas:\n",
    "            dog = dog_filter(stack, bigsigma, smallsigma)\n",
    "            vals = get_pixel_vals(dog, mask)\n",
    "            hist_ = np.histogram(vals, bins=numbins, range=histrange)[0]\n",
    "            hist_data[n] = hist_\n",
    "            n += 1\n",
    "    return hist_data\n",
    "\n",
    "h = fm.make_DoG_histograms(im)\n"
   ]
  },
  {
   "cell_type": "code",
   "execution_count": 260,
   "metadata": {},
   "outputs": [
    {
     "data": {
      "text/plain": [
       "(800,)"
      ]
     },
     "execution_count": 260,
     "metadata": {},
     "output_type": "execute_result"
    }
   ],
   "source": [
    "data2[0][0].shape"
   ]
  },
  {
   "cell_type": "code",
   "execution_count": 22,
   "metadata": {},
   "outputs": [
    {
     "ename": "FileNotFoundError",
     "evalue": "[Errno 2] No such file or directory: '/Users/michaelstadler/Bioinformatics/Projects/rpb1/data/simulations/sshist_0p5_to_4_by0p5.pkl'",
     "output_type": "error",
     "traceback": [
      "\u001b[0;31m---------------------------------------------------------------------------\u001b[0m",
      "\u001b[0;31mFileNotFoundError\u001b[0m                         Traceback (most recent call last)",
      "\u001b[0;32m/var/folders/46/dftvy0sd0jv10kyqlkqc2d8m0000gn/T/ipykernel_13465/1443272694.py\u001b[0m in \u001b[0;36m<module>\u001b[0;34m\u001b[0m\n\u001b[1;32m      1\u001b[0m \u001b[0;31m# Trying with DoG hist.\u001b[0m\u001b[0;34m\u001b[0m\u001b[0;34m\u001b[0m\u001b[0;34m\u001b[0m\u001b[0m\n\u001b[1;32m      2\u001b[0m \u001b[0mdata1\u001b[0m \u001b[0;34m=\u001b[0m \u001b[0mfm\u001b[0m\u001b[0;34m.\u001b[0m\u001b[0mload_pickle\u001b[0m\u001b[0;34m(\u001b[0m\u001b[0;34m'/Users/michaelstadler/Bioinformatics/Projects/rpb1/data/simulations/sims1-6-57k-doghist.pkl'\u001b[0m\u001b[0;34m)\u001b[0m\u001b[0;34m\u001b[0m\u001b[0;34m\u001b[0m\u001b[0m\n\u001b[0;32m----> 3\u001b[0;31m \u001b[0mdata2\u001b[0m \u001b[0;34m=\u001b[0m \u001b[0mfm\u001b[0m\u001b[0;34m.\u001b[0m\u001b[0mload_pickle\u001b[0m\u001b[0;34m(\u001b[0m\u001b[0;34m'/Users/michaelstadler/Bioinformatics/Projects/rpb1/data/simulations/sshist_0p5_to_4_by0p5.pkl'\u001b[0m\u001b[0;34m)\u001b[0m\u001b[0;34m\u001b[0m\u001b[0;34m\u001b[0m\u001b[0m\n\u001b[0m\u001b[1;32m      4\u001b[0m \u001b[0;34m\u001b[0m\u001b[0m\n\u001b[1;32m      5\u001b[0m \u001b[0mdata\u001b[0m \u001b[0;34m=\u001b[0m \u001b[0;34m[\u001b[0m\u001b[0;34m]\u001b[0m\u001b[0;34m\u001b[0m\u001b[0;34m\u001b[0m\u001b[0m\n",
      "\u001b[0;32m~/Bioinformatics/Projects/rpb1/bin/flymovie/load_save.py\u001b[0m in \u001b[0;36mload_pickle\u001b[0;34m(filename)\u001b[0m\n\u001b[1;32m    276\u001b[0m             \u001b[0mObject\u001b[0m\u001b[0;34m(\u001b[0m\u001b[0ms\u001b[0m\u001b[0;34m)\u001b[0m \u001b[0mcontained\u001b[0m \u001b[0;32min\u001b[0m \u001b[0mpickled\u001b[0m \u001b[0mfile\u001b[0m\u001b[0;34m\u001b[0m\u001b[0;34m\u001b[0m\u001b[0m\n\u001b[1;32m    277\u001b[0m     \"\"\"\n\u001b[0;32m--> 278\u001b[0;31m     \u001b[0;32mwith\u001b[0m \u001b[0mopen\u001b[0m\u001b[0;34m(\u001b[0m\u001b[0mfilename\u001b[0m\u001b[0;34m,\u001b[0m \u001b[0;34m'rb'\u001b[0m\u001b[0;34m)\u001b[0m \u001b[0;32mas\u001b[0m \u001b[0mfile\u001b[0m\u001b[0;34m:\u001b[0m\u001b[0;34m\u001b[0m\u001b[0;34m\u001b[0m\u001b[0m\n\u001b[0m\u001b[1;32m    279\u001b[0m         \u001b[0mobj\u001b[0m \u001b[0;34m=\u001b[0m \u001b[0mpickle\u001b[0m\u001b[0;34m.\u001b[0m\u001b[0mload\u001b[0m\u001b[0;34m(\u001b[0m\u001b[0mfile\u001b[0m\u001b[0;34m)\u001b[0m\u001b[0;34m\u001b[0m\u001b[0;34m\u001b[0m\u001b[0m\n\u001b[1;32m    280\u001b[0m     \u001b[0;32mreturn\u001b[0m \u001b[0mobj\u001b[0m\u001b[0;34m\u001b[0m\u001b[0;34m\u001b[0m\u001b[0m\n",
      "\u001b[0;31mFileNotFoundError\u001b[0m: [Errno 2] No such file or directory: '/Users/michaelstadler/Bioinformatics/Projects/rpb1/data/simulations/sshist_0p5_to_4_by0p5.pkl'"
     ]
    }
   ],
   "source": [
    "# Trying with DoG hist.\n",
    "data1 = fm.load_pickle('/Users/michaelstadler/Bioinformatics/Projects/rpb1/data/simulations/sims1-6-57k-doghist.pkl')\n",
    "data2 = fm.load_pickle('/Users/michaelstadler/Bioinformatics/Projects/rpb1/data/simulations/sshist_0p5_to_4_by0p5.pkl')\n",
    "\n",
    "data = []\n",
    "for i in range(0, len(data1)):\n",
    "    hist_data1 = data1[i][1]\n",
    "    hist_data2 = data2[i][0]\n",
    "    params = data1[i][0]\n",
    "    hist_data = np.hstack([hist_data1, hist_data2])\n",
    "    data.append((params, hist_data))\n",
    "\n",
    "#x_train, y_train, x_test, y_test = create_training_test_data(data, 100, param_pos=0, data_pos=1)\n",
    "#x_train1, y_train1, x_test1, y_test1 = create_training_test_data(data1, 800, param_pos=1, data_pos=0)"
   ]
  },
  {
   "cell_type": "code",
   "execution_count": 23,
   "metadata": {},
   "outputs": [],
   "source": [
    "# Trying with DoG hist.\n",
    "data1 = fm.load_pickle('/Users/michaelstadler/Bioinformatics/Projects/rpb1/data/simulations/sims1-6-57k-doghist_0p5_4_by0p5-200bins.pkl')\n",
    "data2 = fm.load_pickle('/Users/michaelstadler/Bioinformatics/Projects/rpb1/data/simulations/sims1-6-57k-sshist_0p5_to_4_by0p5_660bins.pkl')\n",
    "\n",
    "x_train1, y_train1 = create_training_test_data(data1, 200, param_pos=0, data_pos=1, permute=False, n_leaveout=0)\n",
    "x_train2, y_train2 = create_training_test_data(data2, 660, param_pos=0, data_pos=1, permute=False, n_leaveout=0)\n"
   ]
  },
  {
   "cell_type": "code",
   "execution_count": 24,
   "metadata": {},
   "outputs": [],
   "source": [
    "\n",
    "x_train, y_train =  merge_data(x_train1, x_train2, y_train1, y_train2)\n"
   ]
  },
  {
   "cell_type": "code",
   "execution_count": 25,
   "metadata": {},
   "outputs": [
    {
     "name": "stdout",
     "output_type": "stream",
     "text": [
      "Train on 51840 samples, validate on 5760 samples\n",
      "Epoch 1/2\n",
      "51840/51840 [==============================] - 22s 429us/sample - loss: 1.2345 - val_loss: 0.5109\n",
      "Epoch 2/2\n",
      "51840/51840 [==============================] - 22s 433us/sample - loss: 0.5071 - val_loss: 0.4776\n"
     ]
    }
   ],
   "source": [
    "optimizer = tf.keras.optimizers.Adam(\n",
    "    learning_rate=0.0003,\n",
    "    beta_1=0.9,\n",
    "    beta_2=0.999,\n",
    "    epsilon=1e-07,\n",
    "    amsgrad=False,\n",
    "    name='Adam'\n",
    ")\n",
    "\n",
    "def get_model(n_inputs, n_outputs):\n",
    "    reg=1e-7\n",
    "    model = tf.keras.Sequential()\n",
    "    model.add(tf.keras.layers.Dense(500, input_dim=n_inputs, kernel_initializer='he_uniform', activation='relu', activity_regularizer=tf.keras.regularizers.l2(reg)))\n",
    "    model.add(tf.keras.layers.Dense(500, input_dim=n_inputs, kernel_initializer='he_uniform', activation='relu', activity_regularizer=tf.keras.regularizers.l2(reg)))\n",
    "    model.add(tf.keras.layers.Dense(500, input_dim=n_inputs, kernel_initializer='he_uniform', activation='relu', activity_regularizer=tf.keras.regularizers.l2(reg)))\n",
    "    model.add(tf.keras.layers.Dense(250, input_dim=n_inputs, kernel_initializer='he_uniform', activation='relu', activity_regularizer=tf.keras.regularizers.l2(reg)))\n",
    "    model.add(tf.keras.layers.Dense(n_outputs))\n",
    "    model.compile(loss='mse', optimizer=optimizer)\n",
    "    return model\n",
    "\n",
    "model = get_model(1400, 7)\n",
    "history = model.fit(x_train1, y_train1, validation_split=0.1,epochs=2, verbose=True)"
   ]
  },
  {
   "cell_type": "code",
   "execution_count": 28,
   "metadata": {},
   "outputs": [],
   "source": [
    "fm.save_pickle(history.history, '/Users/michaelstadler/Bioinformatics/Projects/rpb1/data/simulations/history.pkl')"
   ]
  },
  {
   "cell_type": "code",
   "execution_count": 463,
   "metadata": {},
   "outputs": [
    {
     "data": {
      "image/png": "[encoded data removed]",
      "text/plain": [
       "<Figure size 432x288 with 1 Axes>"
      ]
     },
     "metadata": {
      "needs_background": "light"
     },
     "output_type": "display_data"
    }
   ],
   "source": [
    "plot_loss(history)"
   ]
  },
  {
   "cell_type": "code",
   "execution_count": 456,
   "metadata": {},
   "outputs": [
    {
     "name": "stdout",
     "output_type": "stream",
     "text": [
      "Epoch 1/20\n",
      "1620/1620 [==============================] - 15s 9ms/step - loss: 3.9052 - val_loss: 0.8087\n",
      "Epoch 2/20\n",
      "1620/1620 [==============================] - 14s 9ms/step - loss: 0.6004 - val_loss: 0.5099\n",
      "Epoch 3/20\n",
      "1620/1620 [==============================] - 14s 9ms/step - loss: 0.5166 - val_loss: 0.4220\n",
      "Epoch 4/20\n",
      "1620/1620 [==============================] - 14s 9ms/step - loss: 0.5039 - val_loss: 0.5746\n",
      "Epoch 5/20\n",
      "1620/1620 [==============================] - 14s 9ms/step - loss: 0.4379 - val_loss: 0.4221\n",
      "Epoch 6/20\n",
      "1620/1620 [==============================] - 14s 9ms/step - loss: 0.3928 - val_loss: 0.4031\n",
      "Epoch 7/20\n",
      "1620/1620 [==============================] - 14s 9ms/step - loss: 0.3540 - val_loss: 0.3074\n",
      "Epoch 8/20\n",
      "1620/1620 [==============================] - 14s 9ms/step - loss: 0.3306 - val_loss: 0.3132\n",
      "Epoch 9/20\n",
      "1620/1620 [==============================] - 15s 9ms/step - loss: 0.3207 - val_loss: 0.2765\n",
      "Epoch 10/20\n",
      "1620/1620 [==============================] - 14s 9ms/step - loss: 0.3030 - val_loss: 0.3151\n",
      "Epoch 11/20\n",
      "1620/1620 [==============================] - 14s 9ms/step - loss: 0.2959 - val_loss: 0.2490\n",
      "Epoch 12/20\n",
      "1620/1620 [==============================] - 14s 9ms/step - loss: 0.2896 - val_loss: 0.2624\n",
      "Epoch 13/20\n",
      "1620/1620 [==============================] - 14s 9ms/step - loss: 0.2841 - val_loss: 0.2637\n",
      "Epoch 14/20\n",
      "1620/1620 [==============================] - 14s 9ms/step - loss: 0.2775 - val_loss: 0.3528\n",
      "Epoch 15/20\n",
      "1620/1620 [==============================] - 14s 9ms/step - loss: 0.2704 - val_loss: 0.2464\n",
      "Epoch 16/20\n",
      "1620/1620 [==============================] - 15s 9ms/step - loss: 0.2606 - val_loss: 0.2313\n",
      "Epoch 17/20\n",
      "1620/1620 [==============================] - 14s 9ms/step - loss: 0.2556 - val_loss: 0.2159\n",
      "Epoch 18/20\n",
      "1620/1620 [==============================] - 14s 9ms/step - loss: 0.2495 - val_loss: 0.2564\n",
      "Epoch 19/20\n",
      "1620/1620 [==============================] - 14s 9ms/step - loss: 0.2419 - val_loss: 0.1967\n",
      "Epoch 20/20\n",
      "1620/1620 [==============================] - 14s 9ms/step - loss: 0.2384 - val_loss: 0.2373\n"
     ]
    }
   ],
   "source": [
    "optimizer = tf.keras.optimizers.Adam(\n",
    "    learning_rate=0.0003,\n",
    "    beta_1=0.9,\n",
    "    beta_2=0.999,\n",
    "    epsilon=1e-07,\n",
    "    amsgrad=False,\n",
    "    name='Adam'\n",
    ")\n",
    "\n",
    "def get_model(n_inputs, n_outputs):\n",
    "    reg=1e-7\n",
    "    model = tf.keras.Sequential()\n",
    "    model.add(tf.keras.layers.Dense(500, input_dim=n_inputs, kernel_initializer='he_uniform', activation='relu', activity_regularizer=tf.keras.regularizers.l2(reg)))\n",
    "    model.add(tf.keras.layers.Dense(500, input_dim=n_inputs, kernel_initializer='he_uniform', activation='relu', activity_regularizer=tf.keras.regularizers.l2(reg)))\n",
    "    model.add(tf.keras.layers.Dense(500, input_dim=n_inputs, kernel_initializer='he_uniform', activation='relu', activity_regularizer=tf.keras.regularizers.l2(reg)))\n",
    "    model.add(tf.keras.layers.Dense(250, input_dim=n_inputs, kernel_initializer='he_uniform', activation='relu', activity_regularizer=tf.keras.regularizers.l2(reg)))\n",
    "    model.add(tf.keras.layers.Dense(n_outputs))\n",
    "    model.compile(loss='mse', optimizer=optimizer)\n",
    "    return model\n",
    "\n",
    "model = get_model(5280, 7)\n",
    "history1 = model.fit(x_train2, y_train2, validation_split=0.1,epochs=20, verbose=True)"
   ]
  },
  {
   "cell_type": "code",
   "execution_count": 459,
   "metadata": {},
   "outputs": [
    {
     "data": {
      "image/png": "[encoded data removed]",
      "text/plain": [
       "<Figure size 432x288 with 1 Axes>"
      ]
     },
     "metadata": {
      "needs_background": "light"
     },
     "output_type": "display_data"
    }
   ],
   "source": [
    "plot_loss(history1)"
   ]
  },
  {
   "cell_type": "code",
   "execution_count": 490,
   "metadata": {},
   "outputs": [
    {
     "name": "stdout",
     "output_type": "stream",
     "text": [
      "Epoch 1/40\n",
      "1620/1620 [==============================] - 17s 10ms/step - loss: 3.3274 - val_loss: 0.7776\n",
      "Epoch 2/40\n",
      "1620/1620 [==============================] - 17s 11ms/step - loss: 0.5631 - val_loss: 0.5886\n",
      "Epoch 3/40\n",
      "1620/1620 [==============================] - 17s 11ms/step - loss: 0.4859 - val_loss: 0.9182\n",
      "Epoch 4/40\n",
      "1620/1620 [==============================] - 18s 11ms/step - loss: 0.4947 - val_loss: 0.6447\n",
      "Epoch 5/40\n",
      "1620/1620 [==============================] - 18s 11ms/step - loss: 0.4259 - val_loss: 0.4946\n",
      "Epoch 6/40\n",
      "1620/1620 [==============================] - 17s 11ms/step - loss: 0.3718 - val_loss: 0.4134\n",
      "Epoch 7/40\n",
      "1620/1620 [==============================] - 17s 11ms/step - loss: 0.3487 - val_loss: 0.4872\n",
      "Epoch 8/40\n",
      "1620/1620 [==============================] - 17s 11ms/step - loss: 0.3406 - val_loss: 0.3882\n",
      "Epoch 9/40\n",
      "1620/1620 [==============================] - 17s 11ms/step - loss: 0.3045 - val_loss: 0.3171\n",
      "Epoch 10/40\n",
      "1620/1620 [==============================] - 17s 11ms/step - loss: 0.2968 - val_loss: 0.6025\n",
      "Epoch 11/40\n",
      "1620/1620 [==============================] - 17s 11ms/step - loss: 0.2771 - val_loss: 0.2488\n",
      "Epoch 12/40\n",
      "1620/1620 [==============================] - 17s 11ms/step - loss: 0.2628 - val_loss: 0.3362\n",
      "Epoch 13/40\n",
      "1620/1620 [==============================] - 17s 11ms/step - loss: 0.2518 - val_loss: 0.3620\n",
      "Epoch 14/40\n",
      "1620/1620 [==============================] - 17s 10ms/step - loss: 0.2387 - val_loss: 0.2857\n",
      "Epoch 15/40\n",
      "1620/1620 [==============================] - 17s 10ms/step - loss: 0.2234 - val_loss: 0.2068\n",
      "Epoch 16/40\n",
      "1620/1620 [==============================] - 17s 10ms/step - loss: 0.2124 - val_loss: 0.2269\n",
      "Epoch 17/40\n",
      "1620/1620 [==============================] - 17s 11ms/step - loss: 0.1987 - val_loss: 0.3116\n",
      "Epoch 18/40\n",
      "1620/1620 [==============================] - 17s 11ms/step - loss: 0.1866 - val_loss: 0.1693\n",
      "Epoch 19/40\n",
      "1620/1620 [==============================] - 17s 11ms/step - loss: 0.1819 - val_loss: 0.2226\n",
      "Epoch 20/40\n",
      "1620/1620 [==============================] - 17s 11ms/step - loss: 0.1692 - val_loss: 0.1371\n",
      "Epoch 21/40\n",
      "1620/1620 [==============================] - 17s 10ms/step - loss: 0.1651 - val_loss: 0.2237\n",
      "Epoch 22/40\n",
      "1620/1620 [==============================] - 17s 11ms/step - loss: 0.1574 - val_loss: 0.1895\n",
      "Epoch 23/40\n",
      "1620/1620 [==============================] - 17s 11ms/step - loss: 0.1539 - val_loss: 0.1865\n",
      "Epoch 24/40\n",
      "1620/1620 [==============================] - 17s 11ms/step - loss: 0.1523 - val_loss: 0.1754\n",
      "Epoch 25/40\n",
      "1620/1620 [==============================] - 17s 11ms/step - loss: 0.1465 - val_loss: 0.1376\n",
      "Epoch 26/40\n",
      "1620/1620 [==============================] - 17s 11ms/step - loss: 0.1426 - val_loss: 0.1537\n",
      "Epoch 27/40\n",
      "1620/1620 [==============================] - 17s 11ms/step - loss: 0.1386 - val_loss: 0.1883\n",
      "Epoch 28/40\n",
      "1620/1620 [==============================] - 17s 11ms/step - loss: 0.1377 - val_loss: 0.1929\n",
      "Epoch 29/40\n",
      "1620/1620 [==============================] - 17s 11ms/step - loss: 0.1343 - val_loss: 0.2221\n",
      "Epoch 30/40\n",
      "1620/1620 [==============================] - 18s 11ms/step - loss: 0.1318 - val_loss: 0.2030\n",
      "Epoch 31/40\n",
      "1620/1620 [==============================] - 17s 11ms/step - loss: 0.1302 - val_loss: 0.1937\n",
      "Epoch 32/40\n",
      "1620/1620 [==============================] - 17s 11ms/step - loss: 0.1280 - val_loss: 0.1668\n",
      "Epoch 33/40\n",
      "1620/1620 [==============================] - 17s 11ms/step - loss: 0.1268 - val_loss: 0.1615\n",
      "Epoch 34/40\n",
      "1620/1620 [==============================] - 17s 10ms/step - loss: 0.1253 - val_loss: 0.1534\n",
      "Epoch 35/40\n",
      "1620/1620 [==============================] - 17s 11ms/step - loss: 0.1237 - val_loss: 0.1541\n",
      "Epoch 36/40\n",
      "1620/1620 [==============================] - 17s 11ms/step - loss: 0.1227 - val_loss: 0.1818\n",
      "Epoch 37/40\n",
      "1620/1620 [==============================] - 17s 11ms/step - loss: 0.1212 - val_loss: 0.1783\n",
      "Epoch 38/40\n",
      "1620/1620 [==============================] - 17s 11ms/step - loss: 0.1200 - val_loss: 0.1567\n",
      "Epoch 39/40\n",
      "1620/1620 [==============================] - 17s 11ms/step - loss: 0.1194 - val_loss: 0.1665\n",
      "Epoch 40/40\n",
      "1620/1620 [==============================] - 17s 11ms/step - loss: 0.1181 - val_loss: 0.1749\n"
     ]
    }
   ],
   "source": [
    "def scheduler(epoch, lr):\n",
    "    if epoch < 10:\n",
    "        return lr\n",
    "    else:\n",
    "        return lr * tf.math.exp(-0.1)\n",
    "\n",
    "callback = tf.keras.callbacks.LearningRateScheduler(scheduler)\n",
    "\n",
    "optimizer = tf.keras.optimizers.Adam(\n",
    "    learning_rate=0.0002,\n",
    "    beta_1=0.9,\n",
    "    beta_2=0.999,\n",
    "    epsilon=1e-07,\n",
    "    amsgrad=False,\n",
    "    name='Adam'\n",
    ")\n",
    "\n",
    "def get_model(n_inputs, n_outputs):\n",
    "    reg=1e-7\n",
    "    model = tf.keras.Sequential()\n",
    "    model.add(tf.keras.layers.Dense(500, input_dim=n_inputs, kernel_initializer='he_uniform', activation='relu', activity_regularizer=tf.keras.regularizers.l2(reg)))\n",
    "    model.add(tf.keras.layers.Dense(500, input_dim=n_inputs, kernel_initializer='he_uniform', activation='relu', activity_regularizer=tf.keras.regularizers.l2(reg)))\n",
    "    model.add(tf.keras.layers.Dense(500, input_dim=n_inputs, kernel_initializer='he_uniform', activation='relu', activity_regularizer=tf.keras.regularizers.l2(reg)))\n",
    "    model.add(tf.keras.layers.Dense(500, input_dim=n_inputs, kernel_initializer='he_uniform', activation='relu', activity_regularizer=tf.keras.regularizers.l2(reg)))\n",
    "    model.add(tf.keras.layers.Dense(n_outputs))\n",
    "    model.compile(loss='mse', optimizer=optimizer)\n",
    "    return model\n",
    "\n",
    "model = get_model(6680, 7)\n",
    "history2 = model.fit(x_train, y_train, validation_split=0.1,epochs=40, callbacks=[callback], verbose=True)"
   ]
  },
  {
   "cell_type": "code",
   "execution_count": 491,
   "metadata": {},
   "outputs": [
    {
     "data": {
      "image/png": "[encoded data removed]",
      "text/plain": [
       "<Figure size 432x288 with 1 Axes>"
      ]
     },
     "metadata": {
      "needs_background": "light"
     },
     "output_type": "display_data"
    }
   ],
   "source": [
    "plot_loss(history2)"
   ]
  },
  {
   "cell_type": "code",
   "execution_count": 5,
   "metadata": {},
   "outputs": [],
   "source": [
    "# Trying with DoG hist.\n",
    "data1 = fm.load_pickle('/Users/michaelstadler/Bioinformatics/Projects/rpb1/data/simulations/sims1-6-57k-doghist_0p5_4_by0p5-200bins.pkl')\n",
    "data2 = fm.load_pickle('/Users/michaelstadler/Bioinformatics/Projects/rpb1/data/simulations/sims1-6-57k-sshist_0p5_to_4_by0p5_660bins.pkl')\n",
    "data3 = fm.load_pickle('/Users/michaelstadler/Bioinformatics/Projects/rpb1/data/simulations/sims1-6-57k-doghist_0p5_4_by0p5-200bins-2.pkl')\n",
    "data4 = fm.load_pickle('/Users/michaelstadler/Bioinformatics/Projects/rpb1/data/simulations/sims1-6-57k-2-sshist_0p5_to_4_by0p5_660bins-2.pkl')\n",
    "\n",
    "x_train1, y_train1 = create_training_test_data(data1, 200, param_pos=0, data_pos=1, permute=False, n_leaveout=0)\n",
    "x_train2, y_train2 = create_training_test_data(data2, 660, param_pos=0, data_pos=1, permute=False, n_leaveout=0)\n",
    "x_train3, y_train3 = create_training_test_data(data3, 200, param_pos=0, data_pos=1, permute=False, n_leaveout=0)\n",
    "x_train4, y_train4 = create_training_test_data(data4, 660, param_pos=0, data_pos=1, permute=False, n_leaveout=0)"
   ]
  },
  {
   "cell_type": "code",
   "execution_count": 6,
   "metadata": {},
   "outputs": [],
   "source": [
    "x_train_m1, y_train_m1 =  merge_data(x_train1, x_train2, y_train1, y_train2)\n",
    "x_train_m2, y_train_m2 =  merge_data(x_train3, x_train4, y_train3, y_train4)\n"
   ]
  },
  {
   "cell_type": "code",
   "execution_count": 7,
   "metadata": {},
   "outputs": [],
   "source": [
    "x_train = np.vstack([x_train_m1, x_train_m2])\n",
    "y_train = np.vstack([y_train_m1, y_train_m2])"
   ]
  },
  {
   "cell_type": "code",
   "execution_count": 9,
   "metadata": {},
   "outputs": [],
   "source": [
    "fm.save_pickle((x_train, y_train), '/Users/michaelstadler/Bioinformatics/Projects/rpb1/data/simulations/sims1-6-57k-1and2-dogandhist-xytrain.pkl')"
   ]
  },
  {
   "cell_type": "code",
   "execution_count": 499,
   "metadata": {},
   "outputs": [
    {
     "name": "stdout",
     "output_type": "stream",
     "text": [
      "Epoch 1/40\n",
      "3240/3240 [==============================] - 37s 11ms/step - loss: 1.8679 - val_loss: 0.4684\n",
      "Epoch 2/40\n",
      "3240/3240 [==============================] - 36s 11ms/step - loss: 0.4956 - val_loss: 0.4362\n",
      "Epoch 3/40\n",
      "3240/3240 [==============================] - 36s 11ms/step - loss: 0.4196 - val_loss: 0.3669\n",
      "Epoch 4/40\n",
      "3240/3240 [==============================] - 35s 11ms/step - loss: 0.3410 - val_loss: 0.2373\n",
      "Epoch 5/40\n",
      "3240/3240 [==============================] - 35s 11ms/step - loss: 0.2980 - val_loss: 0.2792\n",
      "Epoch 6/40\n",
      "3240/3240 [==============================] - 36s 11ms/step - loss: 0.2673 - val_loss: 0.1348\n",
      "Epoch 7/40\n",
      "3240/3240 [==============================] - 35s 11ms/step - loss: 0.2470 - val_loss: 0.1437\n",
      "Epoch 8/40\n",
      "3240/3240 [==============================] - 35s 11ms/step - loss: 0.2285 - val_loss: 0.1171\n",
      "Epoch 9/40\n",
      "3240/3240 [==============================] - 38s 12ms/step - loss: 0.2176 - val_loss: 0.1720\n",
      "Epoch 10/40\n",
      "3240/3240 [==============================] - 35s 11ms/step - loss: 0.2073 - val_loss: 0.0902\n",
      "Epoch 11/40\n",
      "3240/3240 [==============================] - 35s 11ms/step - loss: 0.1918 - val_loss: 0.1690\n",
      "Epoch 12/40\n",
      "3240/3240 [==============================] - 35s 11ms/step - loss: 0.1765 - val_loss: 0.1473\n",
      "Epoch 13/40\n",
      "3240/3240 [==============================] - 35s 11ms/step - loss: 0.1669 - val_loss: 0.1057\n",
      "Epoch 14/40\n",
      "3240/3240 [==============================] - 35s 11ms/step - loss: 0.1546 - val_loss: 0.1270\n",
      "Epoch 15/40\n",
      "3240/3240 [==============================] - 35s 11ms/step - loss: 0.1462 - val_loss: 0.1542\n",
      "Epoch 16/40\n",
      "3240/3240 [==============================] - 35s 11ms/step - loss: 0.1410 - val_loss: 0.2430\n",
      "Epoch 17/40\n",
      "3240/3240 [==============================] - 36s 11ms/step - loss: 0.1351 - val_loss: 0.1106\n",
      "Epoch 18/40\n",
      "3240/3240 [==============================] - 35s 11ms/step - loss: 0.1269 - val_loss: 0.1140\n",
      "Epoch 19/40\n",
      "3240/3240 [==============================] - 35s 11ms/step - loss: 0.1228 - val_loss: 0.0992\n",
      "Epoch 20/40\n",
      "3240/3240 [==============================] - 35s 11ms/step - loss: 0.1180 - val_loss: 0.1013\n",
      "Epoch 21/40\n",
      "3240/3240 [==============================] - 35s 11ms/step - loss: 0.1135 - val_loss: 0.1404\n",
      "Epoch 22/40\n",
      "3240/3240 [==============================] - 36s 11ms/step - loss: 0.1115 - val_loss: 0.1854\n",
      "Epoch 23/40\n",
      "3240/3240 [==============================] - 36s 11ms/step - loss: 0.1072 - val_loss: 0.1110\n",
      "Epoch 24/40\n",
      "3240/3240 [==============================] - 35s 11ms/step - loss: 0.1045 - val_loss: 0.1103\n",
      "Epoch 25/40\n",
      "3240/3240 [==============================] - 35s 11ms/step - loss: 0.1040 - val_loss: 0.1308\n",
      "Epoch 26/40\n",
      "3240/3240 [==============================] - 35s 11ms/step - loss: 0.1017 - val_loss: 0.0884\n",
      "Epoch 27/40\n",
      "3240/3240 [==============================] - 35s 11ms/step - loss: 0.0983 - val_loss: 0.0822\n",
      "Epoch 28/40\n",
      "3240/3240 [==============================] - 35s 11ms/step - loss: 0.0966 - val_loss: 0.1212\n",
      "Epoch 29/40\n",
      "3240/3240 [==============================] - 35s 11ms/step - loss: 0.0947 - val_loss: 0.0876\n",
      "Epoch 30/40\n",
      "3240/3240 [==============================] - 35s 11ms/step - loss: 0.0929 - val_loss: 0.1261\n",
      "Epoch 31/40\n",
      "3240/3240 [==============================] - 36s 11ms/step - loss: 0.0914 - val_loss: 0.0925\n",
      "Epoch 32/40\n",
      "3240/3240 [==============================] - 35s 11ms/step - loss: 0.0905 - val_loss: 0.1019\n",
      "Epoch 33/40\n",
      "3240/3240 [==============================] - 36s 11ms/step - loss: 0.0891 - val_loss: 0.0978\n",
      "Epoch 34/40\n",
      "3240/3240 [==============================] - 35s 11ms/step - loss: 0.0881 - val_loss: 0.1075\n",
      "Epoch 35/40\n",
      "3240/3240 [==============================] - 35s 11ms/step - loss: 0.0869 - val_loss: 0.0942\n",
      "Epoch 36/40\n",
      "3240/3240 [==============================] - 35s 11ms/step - loss: 0.0863 - val_loss: 0.1186\n",
      "Epoch 37/40\n",
      "3240/3240 [==============================] - 35s 11ms/step - loss: 0.0854 - val_loss: 0.1138\n",
      "Epoch 38/40\n",
      "3240/3240 [==============================] - 35s 11ms/step - loss: 0.0840 - val_loss: 0.1008\n",
      "Epoch 39/40\n",
      "3240/3240 [==============================] - 35s 11ms/step - loss: 0.0836 - val_loss: 0.0971\n",
      "Epoch 40/40\n",
      "3240/3240 [==============================] - 35s 11ms/step - loss: 0.0831 - val_loss: 0.1093\n"
     ]
    }
   ],
   "source": [
    "def scheduler(epoch, lr):\n",
    "    if epoch < 10:\n",
    "        return lr\n",
    "    else:\n",
    "        return lr * tf.math.exp(-0.1)\n",
    "\n",
    "callback = tf.keras.callbacks.LearningRateScheduler(scheduler)\n",
    "\n",
    "optimizer = tf.keras.optimizers.Adam(\n",
    "    learning_rate=0.0002,\n",
    "    beta_1=0.9,\n",
    "    beta_2=0.999,\n",
    "    epsilon=1e-07,\n",
    "    amsgrad=False,\n",
    "    name='Adam'\n",
    ")\n",
    "\n",
    "def get_model(n_inputs, n_outputs):\n",
    "    reg=1e-7\n",
    "    model = tf.keras.Sequential()\n",
    "    model.add(tf.keras.layers.Dense(500, input_dim=n_inputs, kernel_initializer='he_uniform', activation='relu', activity_regularizer=tf.keras.regularizers.l2(reg)))\n",
    "    model.add(tf.keras.layers.Dense(500, input_dim=n_inputs, kernel_initializer='he_uniform', activation='relu', activity_regularizer=tf.keras.regularizers.l2(reg)))\n",
    "    model.add(tf.keras.layers.Dense(500, input_dim=n_inputs, kernel_initializer='he_uniform', activation='relu', activity_regularizer=tf.keras.regularizers.l2(reg)))\n",
    "    model.add(tf.keras.layers.Dense(500, input_dim=n_inputs, kernel_initializer='he_uniform', activation='relu', activity_regularizer=tf.keras.regularizers.l2(reg)))\n",
    "    model.add(tf.keras.layers.Dense(n_outputs))\n",
    "    model.compile(loss='mse', optimizer=optimizer)\n",
    "    return model\n",
    "\n",
    "model = get_model(6680, 7)\n",
    "history2 = model.fit(x_train, y_train, validation_split=0.1,epochs=40, callbacks=[callback], verbose=True)"
   ]
  },
  {
   "cell_type": "code",
   "execution_count": 504,
   "metadata": {},
   "outputs": [
    {
     "data": {
      "text/plain": [
       "<matplotlib.image.AxesImage at 0x7fd588fd4090>"
      ]
     },
     "execution_count": 504,
     "metadata": {},
     "output_type": "execute_result"
    },
    {
     "data": {
      "image/png": "[encoded data removed]",
      "text/plain": [
       "<Figure size 432x288 with 2 Axes>"
      ]
     },
     "metadata": {
      "needs_background": "light"
     },
     "output_type": "display_data"
    }
   ],
   "source": [
    "fig, ax = plt.subplots(1,2)\n",
    "axes = np.ravel(ax)\n",
    "p = np.random.permutation(x_train.shape[0])\n",
    "axes[0].imshow(y_train[p[:20]])\n",
    "axes[1].imshow(model.predict(x_train[p[:20]]))"
   ]
  },
  {
   "cell_type": "markdown",
   "metadata": {},
   "source": [
    "## Pretty fuckin' good\n",
    "\n",
    "This seems to lead to quite good prediction. I didn't really do this quite right with the testing, but I think it holds. Awesome.\n",
    "\n",
    "How about differences?\n",
    "    \n"
   ]
  },
  {
   "cell_type": "code",
   "execution_count": 33,
   "metadata": {},
   "outputs": [
    {
     "data": {
      "text/plain": [
       "(115200, 6680)"
      ]
     },
     "execution_count": 33,
     "metadata": {},
     "output_type": "execute_result"
    }
   ],
   "source": [
    "x_train.shape"
   ]
  },
  {
   "cell_type": "code",
   "execution_count": 13,
   "metadata": {},
   "outputs": [],
   "source": [
    "x, y = make_data_similarity(x_train, y_train, 1000, 200)    "
   ]
  },
  {
   "cell_type": "code",
   "execution_count": 553,
   "metadata": {},
   "outputs": [
    {
     "name": "stdout",
     "output_type": "stream",
     "text": [
      "Epoch 1/10\n",
      "5625/5625 [==============================] - 62s 11ms/step - loss: 15.9637 - val_loss: 15.7389\n",
      "Epoch 2/10\n",
      "5625/5625 [==============================] - 55s 10ms/step - loss: 11.7893 - val_loss: 13.6207\n",
      "Epoch 3/10\n",
      "5625/5625 [==============================] - 56s 10ms/step - loss: 9.8193 - val_loss: 11.7504\n",
      "Epoch 4/10\n",
      "5625/5625 [==============================] - 55s 10ms/step - loss: 8.6324 - val_loss: 11.4194\n",
      "Epoch 5/10\n",
      "5625/5625 [==============================] - 61s 11ms/step - loss: 7.7797 - val_loss: 11.3985\n",
      "Epoch 6/10\n",
      "5625/5625 [==============================] - 55s 10ms/step - loss: 7.1388 - val_loss: 10.8688\n",
      "Epoch 7/10\n",
      "5625/5625 [==============================] - 55s 10ms/step - loss: 6.6316 - val_loss: 11.0855\n",
      "Epoch 8/10\n",
      "5625/5625 [==============================] - 58s 10ms/step - loss: 6.2245 - val_loss: 10.7838\n",
      "Epoch 9/10\n",
      "5625/5625 [==============================] - 54s 10ms/step - loss: 5.8741 - val_loss: 11.0278\n",
      "Epoch 10/10\n",
      "5625/5625 [==============================] - 53s 9ms/step - loss: 5.6279 - val_loss: 10.5182\n"
     ]
    }
   ],
   "source": [
    "def scheduler(epoch, lr):\n",
    "    if epoch < 10:\n",
    "        return lr\n",
    "    else:\n",
    "        return lr * tf.math.exp(-0.1)\n",
    "\n",
    "callback = tf.keras.callbacks.LearningRateScheduler(scheduler)\n",
    "\n",
    "optimizer = tf.keras.optimizers.Adam(\n",
    "    learning_rate=0.0004,\n",
    "    beta_1=0.9,\n",
    "    beta_2=0.999,\n",
    "    epsilon=1e-07,\n",
    "    amsgrad=False,\n",
    "    name='Adam'\n",
    ")\n",
    "\n",
    "def get_model(n_inputs, n_outputs):\n",
    "    reg=1e-7\n",
    "    model = tf.keras.Sequential()\n",
    "    model.add(tf.keras.layers.Dense(500, input_dim=n_inputs, kernel_initializer='he_uniform', activation='relu', activity_regularizer=tf.keras.regularizers.l2(reg)))\n",
    "    model.add(tf.keras.layers.Dense(500, input_dim=n_inputs, kernel_initializer='he_uniform', activation='relu', activity_regularizer=tf.keras.regularizers.l2(reg)))\n",
    "    model.add(tf.keras.layers.Dense(500, input_dim=n_inputs, kernel_initializer='he_uniform', activation='relu', activity_regularizer=tf.keras.regularizers.l2(reg)))\n",
    "    model.add(tf.keras.layers.Dense(500, input_dim=n_inputs, kernel_initializer='he_uniform', activation='relu', activity_regularizer=tf.keras.regularizers.l2(reg)))\n",
    "    model.add(tf.keras.layers.Dense(n_outputs))\n",
    "    model.compile(loss='mse', optimizer=optimizer)\n",
    "    return model\n",
    "\n",
    "model = get_model(6680, 1)\n",
    "history2 = model.fit(x, y, validation_split=0.1,epochs=10, callbacks=[callback], verbose=True)"
   ]
  },
  {
   "cell_type": "code",
   "execution_count": 36,
   "metadata": {},
   "outputs": [
    {
     "name": "stdout",
     "output_type": "stream",
     "text": [
      "Epoch 1/10\n",
      "5625/5625 [==============================] - 57s 10ms/step - loss: 15.7326 - val_loss: 17.1748\n",
      "Epoch 2/10\n",
      "5625/5625 [==============================] - 54s 10ms/step - loss: 11.6927 - val_loss: 15.6109\n",
      "Epoch 3/10\n",
      "5625/5625 [==============================] - 51s 9ms/step - loss: 9.8169 - val_loss: 14.1384\n",
      "Epoch 4/10\n",
      "5625/5625 [==============================] - 52s 9ms/step - loss: 8.6096 - val_loss: 13.9134\n",
      "Epoch 5/10\n",
      "5625/5625 [==============================] - 59s 10ms/step - loss: 7.7432 - val_loss: 14.0983\n",
      "Epoch 6/10\n",
      "5625/5625 [==============================] - 57s 10ms/step - loss: 7.1217 - val_loss: 13.3786\n",
      "Epoch 7/10\n",
      "5625/5625 [==============================] - 57s 10ms/step - loss: 6.6404 - val_loss: 14.0606\n",
      "Epoch 8/10\n",
      "5625/5625 [==============================] - 57s 10ms/step - loss: 6.2553 - val_loss: 13.2955\n",
      "Epoch 9/10\n",
      "5625/5625 [==============================] - 55s 10ms/step - loss: 5.9278 - val_loss: 13.2505\n",
      "Epoch 10/10\n",
      "5625/5625 [==============================] - 51s 9ms/step - loss: 5.6245 - val_loss: 13.5170\n"
     ]
    }
   ],
   "source": [
    "def scheduler(epoch, lr):\n",
    "    if epoch < 10:\n",
    "        return lr\n",
    "    else:\n",
    "        return lr * tf.math.exp(-0.1)\n",
    "\n",
    "callback = tf.keras.callbacks.LearningRateScheduler(scheduler)\n",
    "\n",
    "optimizer = tf.keras.optimizers.Adam(\n",
    "    learning_rate=0.0002,\n",
    "    beta_1=0.9,\n",
    "    beta_2=0.999,\n",
    "    epsilon=1e-07,\n",
    "    amsgrad=False,\n",
    "    name='Adam'\n",
    ")\n",
    "\n",
    "def get_model(n_inputs, n_outputs):\n",
    "    reg=1e-7\n",
    "    model = tf.keras.Sequential()\n",
    "    model.add(tf.keras.layers.Dense(500, input_dim=n_inputs, kernel_initializer='he_uniform', activation='relu', activity_regularizer=tf.keras.regularizers.l2(reg)))\n",
    "    model.add(tf.keras.layers.Dense(500, input_dim=n_inputs, kernel_initializer='he_uniform', activation='relu', activity_regularizer=tf.keras.regularizers.l2(reg)))\n",
    "    model.add(tf.keras.layers.Dense(500, input_dim=n_inputs, kernel_initializer='he_uniform', activation='relu', activity_regularizer=tf.keras.regularizers.l2(reg)))\n",
    "    model.add(tf.keras.layers.Dense(500, input_dim=n_inputs, kernel_initializer='he_uniform', activation='relu', activity_regularizer=tf.keras.regularizers.l2(reg)))\n",
    "    model.add(tf.keras.layers.Dense(n_outputs))\n",
    "    model.compile(loss='mse', optimizer=optimizer)\n",
    "    return model\n",
    "\n",
    "model = get_model(6680, 1)\n",
    "history2 = model.fit(x, y, validation_split=0.1,epochs=10, callbacks=[callback], verbose=True)"
   ]
  },
  {
   "cell_type": "code",
   "execution_count": 34,
   "metadata": {},
   "outputs": [
    {
     "ename": "NameError",
     "evalue": "name 'history2' is not defined",
     "output_type": "error",
     "traceback": [
      "\u001b[0;31m---------------------------------------------------------------------------\u001b[0m",
      "\u001b[0;31mNameError\u001b[0m                                 Traceback (most recent call last)",
      "\u001b[0;32m/var/folders/46/dftvy0sd0jv10kyqlkqc2d8m0000gn/T/ipykernel_93312/2324127466.py\u001b[0m in \u001b[0;36m<module>\u001b[0;34m\u001b[0m\n\u001b[0;32m----> 1\u001b[0;31m \u001b[0mplot_loss\u001b[0m\u001b[0;34m(\u001b[0m\u001b[0mhistory2\u001b[0m\u001b[0;34m)\u001b[0m\u001b[0;34m\u001b[0m\u001b[0;34m\u001b[0m\u001b[0m\n\u001b[0m",
      "\u001b[0;31mNameError\u001b[0m: name 'history2' is not defined"
     ]
    }
   ],
   "source": [
    "plot_loss(history2)"
   ]
  },
  {
   "cell_type": "code",
   "execution_count": 17,
   "metadata": {},
   "outputs": [],
   "source": [
    "x, y = make_data_similarity(x_train, y_train, 100, 200)    "
   ]
  },
  {
   "cell_type": "code",
   "execution_count": 57,
   "metadata": {},
   "outputs": [
    {
     "ename": "NameError",
     "evalue": "name 'x' is not defined",
     "output_type": "error",
     "traceback": [
      "\u001b[0;31m---------------------------------------------------------------------------\u001b[0m",
      "\u001b[0;31mNameError\u001b[0m                                 Traceback (most recent call last)",
      "\u001b[0;32m/var/folders/46/dftvy0sd0jv10kyqlkqc2d8m0000gn/T/ipykernel_13465/2168176440.py\u001b[0m in \u001b[0;36m<module>\u001b[0;34m\u001b[0m\n\u001b[1;32m     28\u001b[0m \u001b[0;34m\u001b[0m\u001b[0m\n\u001b[1;32m     29\u001b[0m \u001b[0mmodel\u001b[0m \u001b[0;34m=\u001b[0m \u001b[0mget_model\u001b[0m\u001b[0;34m(\u001b[0m\u001b[0;36m6680\u001b[0m\u001b[0;34m,\u001b[0m \u001b[0;36m1\u001b[0m\u001b[0;34m)\u001b[0m\u001b[0;34m\u001b[0m\u001b[0;34m\u001b[0m\u001b[0m\n\u001b[0;32m---> 30\u001b[0;31m \u001b[0mhistory3\u001b[0m \u001b[0;34m=\u001b[0m \u001b[0mmodel\u001b[0m\u001b[0;34m.\u001b[0m\u001b[0mfit\u001b[0m\u001b[0;34m(\u001b[0m\u001b[0mx\u001b[0m\u001b[0;34m,\u001b[0m \u001b[0my\u001b[0m\u001b[0;34m,\u001b[0m \u001b[0mvalidation_split\u001b[0m\u001b[0;34m=\u001b[0m\u001b[0;36m0.1\u001b[0m\u001b[0;34m,\u001b[0m\u001b[0mepochs\u001b[0m\u001b[0;34m=\u001b[0m\u001b[0;36m2\u001b[0m\u001b[0;34m,\u001b[0m \u001b[0mcallbacks\u001b[0m\u001b[0;34m=\u001b[0m\u001b[0;34m[\u001b[0m\u001b[0mcallback\u001b[0m\u001b[0;34m]\u001b[0m\u001b[0;34m,\u001b[0m \u001b[0mverbose\u001b[0m\u001b[0;34m=\u001b[0m\u001b[0;32mTrue\u001b[0m\u001b[0;34m)\u001b[0m\u001b[0;34m\u001b[0m\u001b[0;34m\u001b[0m\u001b[0m\n\u001b[0m",
      "\u001b[0;31mNameError\u001b[0m: name 'x' is not defined"
     ]
    }
   ],
   "source": [
    "def scheduler(epoch, lr):\n",
    "    if epoch < 10:\n",
    "        return lr\n",
    "    else:\n",
    "        return lr * tf.math.exp(-0.1)\n",
    "\n",
    "callback = tf.keras.callbacks.LearningRateScheduler(scheduler)\n",
    "\n",
    "optimizer = tf.keras.optimizers.Adam(\n",
    "    learning_rate=0.0002,\n",
    "    beta_1=0.9,\n",
    "    beta_2=0.999,\n",
    "    epsilon=1e-07,\n",
    "    amsgrad=False,\n",
    "    name='Adam'\n",
    ")\n",
    "\n",
    "def get_model(n_inputs, n_outputs):\n",
    "    reg=1e-7\n",
    "    model = tf.keras.Sequential()\n",
    "    model.add(tf.keras.layers.Dense(500, input_dim=n_inputs, kernel_initializer='he_uniform', activation='relu', activity_regularizer=tf.keras.regularizers.l2(reg)))\n",
    "    model.add(tf.keras.layers.Dense(500, input_dim=n_inputs, kernel_initializer='he_uniform', activation='relu', activity_regularizer=tf.keras.regularizers.l2(reg)))\n",
    "    model.add(tf.keras.layers.Dense(500, input_dim=n_inputs, kernel_initializer='he_uniform', activation='relu', activity_regularizer=tf.keras.regularizers.l2(reg)))\n",
    "    model.add(tf.keras.layers.Dense(500, input_dim=n_inputs, kernel_initializer='he_uniform', activation='relu', activity_regularizer=tf.keras.regularizers.l2(reg)))\n",
    "    model.add(tf.keras.layers.Dense(n_outputs))\n",
    "    model.compile(loss='mse', optimizer=optimizer)\n",
    "    return model\n",
    "\n",
    "model = get_model(6680, 1)\n",
    "history3 = model.fit(x, y, validation_split=0.1,epochs=2, callbacks=[callback], verbose=True)"
   ]
  },
  {
   "cell_type": "code",
   "execution_count": 32,
   "metadata": {},
   "outputs": [
    {
     "data": {
      "text/plain": [
       "<matplotlib.collections.PathCollection at 0x7fadf6901410>"
      ]
     },
     "execution_count": 32,
     "metadata": {},
     "output_type": "execute_result"
    },
    {
     "data": {
      "image/png": "[encoded data removed]",
      "text/plain": [
       "<Figure size 432x288 with 1 Axes>"
      ]
     },
     "metadata": {
      "needs_background": "light"
     },
     "output_type": "display_data"
    }
   ],
   "source": [
    "n = 500\n",
    "plt.scatter(model.predict(x[:n]), y[:n], alpha=0.3)\n",
    "#plt.hist(model.predict(x[:n]) - y[:n], bins=100);"
   ]
  },
  {
   "cell_type": "code",
   "execution_count": 17,
   "metadata": {},
   "outputs": [
    {
     "data": {
      "text/plain": [
       "(array([  2.,   0.,   0.,   1.,   0.,   0.,   3.,   1.,   0.,   0.,   1.,\n",
       "          1.,   1.,   1.,   2.,   1.,   3.,   3.,   2.,   9.,   4.,   9.,\n",
       "          8.,  12.,  14.,  15.,  20.,  26.,  18.,  35.,  32.,  33.,  52.,\n",
       "         46.,  68.,  49.,  62.,  81.,  85., 102., 107., 146., 142., 172.,\n",
       "        196., 220., 258., 283., 321., 355., 403., 441., 503., 526., 520.,\n",
       "        558., 536., 473., 477., 388., 336., 265., 249., 218., 181., 128.,\n",
       "        139., 108.,  82.,  70.,  70.,  56.,  45.,  35.,  31.,  32.,  19.,\n",
       "         25.,  23.,  19.,  10.,   6.,  11.,   3.,   5.,   0.,   3.,   1.,\n",
       "          0.,   0.,   0.,   0.,   0.,   1.,   0.,   0.,   1.,   0.,   0.,\n",
       "          1.]),\n",
       " array([-19.80550173, -19.44256207, -19.0796224 , -18.71668274,\n",
       "        -18.35374308, -17.99080342, -17.62786376, -17.2649241 ,\n",
       "        -16.90198444, -16.53904478, -16.17610512, -15.81316546,\n",
       "        -15.45022579, -15.08728613, -14.72434647, -14.36140681,\n",
       "        -13.99846715, -13.63552749, -13.27258783, -12.90964817,\n",
       "        -12.54670851, -12.18376885, -11.82082918, -11.45788952,\n",
       "        -11.09494986, -10.7320102 , -10.36907054, -10.00613088,\n",
       "         -9.64319122,  -9.28025156,  -8.9173119 ,  -8.55437224,\n",
       "         -8.19143257,  -7.82849291,  -7.46555325,  -7.10261359,\n",
       "         -6.73967393,  -6.37673427,  -6.01379461,  -5.65085495,\n",
       "         -5.28791529,  -4.92497563,  -4.56203596,  -4.1990963 ,\n",
       "         -3.83615664,  -3.47321698,  -3.11027732,  -2.74733766,\n",
       "         -2.384398  ,  -2.02145834,  -1.65851868,  -1.29557902,\n",
       "         -0.93263935,  -0.56969969,  -0.20676003,   0.15617963,\n",
       "          0.51911929,   0.88205895,   1.24499861,   1.60793827,\n",
       "          1.97087793,   2.33381759,   2.69675726,   3.05969692,\n",
       "          3.42263658,   3.78557624,   4.1485159 ,   4.51145556,\n",
       "          4.87439522,   5.23733488,   5.60027454,   5.9632142 ,\n",
       "          6.32615387,   6.68909353,   7.05203319,   7.41497285,\n",
       "          7.77791251,   8.14085217,   8.50379183,   8.86673149,\n",
       "          9.22967115,   9.59261081,   9.95555048,  10.31849014,\n",
       "         10.6814298 ,  11.04436946,  11.40730912,  11.77024878,\n",
       "         12.13318844,  12.4961281 ,  12.85906776,  13.22200742,\n",
       "         13.58494709,  13.94788675,  14.31082641,  14.67376607,\n",
       "         15.03670573,  15.39964539,  15.76258505,  16.12552471,\n",
       "         16.48846437]),\n",
       " <BarContainer object of 100 artists>)"
      ]
     },
     "execution_count": 17,
     "metadata": {},
     "output_type": "execute_result"
    },
    {
     "data": {
      "image/png": "[encoded data removed]",
      "text/plain": [
       "<Figure size 432x288 with 1 Axes>"
      ]
     },
     "metadata": {
      "needs_background": "light"
     },
     "output_type": "display_data"
    }
   ],
   "source": [
    "n = 10_000\n",
    "#plt.scatter(model.predict(x[:n]), y[:n], alpha=0.3)\n",
    "plt.hist(model.predict(x[:n]) - y[:n], bins=100);"
   ]
  },
  {
   "cell_type": "code",
   "execution_count": 18,
   "metadata": {},
   "outputs": [
    {
     "data": {
      "image/png": "[encoded data removed]",
      "text/plain": [
       "<Figure size 432x288 with 1 Axes>"
      ]
     },
     "metadata": {
      "needs_background": "light"
     },
     "output_type": "display_data"
    }
   ],
   "source": [
    "plt.hist(y[:10000], bins=100);"
   ]
  },
  {
   "cell_type": "markdown",
   "metadata": {},
   "source": [
    "### Seems model is over-fitting pretty badly. Try bumping up regularization or adding dropout?"
   ]
  },
  {
   "cell_type": "markdown",
   "metadata": {},
   "source": [
    "Learn for differences and parameters using 250k dataset."
   ]
  },
  {
   "cell_type": "code",
   "execution_count": 34,
   "metadata": {},
   "outputs": [],
   "source": [
    "def plot_loss(history):\n",
    "  plt.plot(history['loss'], label='loss')\n",
    "  plt.plot(history['val_loss'], label='val_loss')\n",
    "  plt.ylim([0, 10])\n",
    "  plt.xlabel('Epoch')\n",
    "  plt.ylabel('Error')\n",
    "  plt.legend()\n",
    "  plt.grid(True)"
   ]
  },
  {
   "cell_type": "code",
   "execution_count": 56,
   "metadata": {},
   "outputs": [
    {
     "ename": "SyntaxError",
     "evalue": "invalid syntax (2684275572.py, line 1)",
     "output_type": "error",
     "traceback": [
      "\u001b[0;36m  File \u001b[0;32m\"/var/folders/46/dftvy0sd0jv10kyqlkqc2d8m0000gn/T/ipykernel_13465/2684275572.py\"\u001b[0;36m, line \u001b[0;32m1\u001b[0m\n\u001b[0;31m    class L2 {\u001b[0m\n\u001b[0m             ^\u001b[0m\n\u001b[0;31mSyntaxError\u001b[0m\u001b[0;31m:\u001b[0m invalid syntax\n"
     ]
    }
   ],
   "source": [
    "\n",
    "\n",
    "model = tf.keras.models.load_model('/Users/michaelstadler/Bioinformatics/Projects/rpb1/data/simulations/sims-sampling-sshist-doghist-250k-predictparams-model/model')"
   ]
  },
  {
   "cell_type": "code",
   "execution_count": 40,
   "metadata": {},
   "outputs": [],
   "source": [
    "x_test, y_test = fm.load_pickle(\"/Users/michaelstadler/Bioinformatics/Projects/rpb1/data/simulations/sims-sampling-sshist-doghist-250k-300kdiffs_hist_test.pkl\")"
   ]
  },
  {
   "cell_type": "code",
   "execution_count": 41,
   "metadata": {},
   "outputs": [
    {
     "ename": "AttributeError",
     "evalue": "'_UserObject' object has no attribute 'predict'",
     "output_type": "error",
     "traceback": [
      "\u001b[0;31m---------------------------------------------------------------------------\u001b[0m",
      "\u001b[0;31mAttributeError\u001b[0m                            Traceback (most recent call last)",
      "\u001b[0;32m/var/folders/46/dftvy0sd0jv10kyqlkqc2d8m0000gn/T/ipykernel_13465/3021640706.py\u001b[0m in \u001b[0;36m<module>\u001b[0;34m\u001b[0m\n\u001b[1;32m      2\u001b[0m \u001b[0maxes\u001b[0m \u001b[0;34m=\u001b[0m \u001b[0mnp\u001b[0m\u001b[0;34m.\u001b[0m\u001b[0mravel\u001b[0m\u001b[0;34m(\u001b[0m\u001b[0max\u001b[0m\u001b[0;34m)\u001b[0m\u001b[0;34m\u001b[0m\u001b[0;34m\u001b[0m\u001b[0m\n\u001b[1;32m      3\u001b[0m \u001b[0maxes\u001b[0m\u001b[0;34m[\u001b[0m\u001b[0;36m0\u001b[0m\u001b[0;34m]\u001b[0m\u001b[0;34m.\u001b[0m\u001b[0mimshow\u001b[0m\u001b[0;34m(\u001b[0m\u001b[0my_test\u001b[0m\u001b[0;34m[\u001b[0m\u001b[0;34m:\u001b[0m\u001b[0;36m20\u001b[0m\u001b[0;34m]\u001b[0m\u001b[0;34m)\u001b[0m\u001b[0;34m\u001b[0m\u001b[0;34m\u001b[0m\u001b[0m\n\u001b[0;32m----> 4\u001b[0;31m \u001b[0maxes\u001b[0m\u001b[0;34m[\u001b[0m\u001b[0;36m1\u001b[0m\u001b[0;34m]\u001b[0m\u001b[0;34m.\u001b[0m\u001b[0mimshow\u001b[0m\u001b[0;34m(\u001b[0m\u001b[0mmodel\u001b[0m\u001b[0;34m.\u001b[0m\u001b[0mpredict\u001b[0m\u001b[0;34m(\u001b[0m\u001b[0mx_test\u001b[0m\u001b[0;34m[\u001b[0m\u001b[0;34m:\u001b[0m\u001b[0;36m20\u001b[0m\u001b[0;34m]\u001b[0m\u001b[0;34m)\u001b[0m\u001b[0;34m)\u001b[0m\u001b[0;34m\u001b[0m\u001b[0;34m\u001b[0m\u001b[0m\n\u001b[0m",
      "\u001b[0;31mAttributeError\u001b[0m: '_UserObject' object has no attribute 'predict'"
     ]
    },
    {
     "data": {
      "image/png": "[encoded data removed]",
      "text/plain": [
       "<Figure size 432x288 with 2 Axes>"
      ]
     },
     "metadata": {
      "needs_background": "light"
     },
     "output_type": "display_data"
    }
   ],
   "source": [
    "fig, ax = plt.subplots(1,2)\n",
    "axes = np.ravel(ax)\n",
    "axes[0].imshow(y_test2[:20])\n",
    "axes[1].imshow(model.predict(x_test2)[:20])"
   ]
  },
  {
   "cell_type": "code",
   "execution_count": null,
   "metadata": {},
   "outputs": [],
   "source": []
  }
 ],
 "metadata": {
  "interpreter": {
   "hash": "c0981b69ee4132052f4e5b6971be8fb79774fb69bfcbe4141b760a84a082eae3"
  },
  "kernelspec": {
   "display_name": "Python 3.7.11 64-bit ('tf': conda)",
   "name": "python3"
  },
  "language_info": {
   "codemirror_mode": {
    "name": "ipython",
    "version": 3
   },
   "file_extension": ".py",
   "mimetype": "text/x-python",
   "name": "python",
   "nbconvert_exporter": "python",
   "pygments_lexer": "ipython3",
   "version": "3.7.11"
  },
  "orig_nbformat": 4
 },
 "nbformat": 4,
 "nbformat_minor": 2
}
