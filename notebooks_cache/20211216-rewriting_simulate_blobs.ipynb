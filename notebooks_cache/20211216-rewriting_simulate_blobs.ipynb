{
 "cells": [
  {
   "cell_type": "markdown",
   "metadata": {},
   "source": [
    "What do we want this to look like?\n",
    "\n",
    "- Start with a mask\n",
    "- functions modify that mask, take coordinate lists?\n",
    "    - Take input image and coordinate list\n",
    "    - Add/set background\n",
    "    - Add blobs\n",
    "- Caller/scheduler functions that can take different sections (say, Z-slices) and add things in them.\n",
    "\n",
    "Make a class that takes a mask\n",
    "\n",
    "mask = Sim.make_mask(some props)\n",
    "sim = Sim(mask)\n",
    "        fg_coords = np.where(mask)\n",
    "        bg_coords = np.where(~mask)\n",
    "        im = copy(mask)\n",
    "\n",
    "sim.add_background(model=x, inverse=False, kwargs, )\n",
    "sim.add_gaussian_blobs(n, sigma, mean)\n",
    "\n",
    "# How to add stuff to specific coordinates?\n",
    "\n",
    "Add a method"
   ]
  },
  {
   "cell_type": "code",
   "execution_count": 6,
   "metadata": {},
   "outputs": [],
   "source": [
    "from importlib import reload\n",
    "import flymovie as fm\n",
    "import matplotlib.pyplot as plt\n",
    "import numpy as np\n",
    "import os\n",
    "import random\n",
    "import pickle\n",
    "from pathlib import Path"
   ]
  },
  {
   "cell_type": "code",
   "execution_count": 22,
   "metadata": {},
   "outputs": [
    {
     "data": {
      "text/plain": [
       "(2500, 2500)"
      ]
     },
     "execution_count": 22,
     "metadata": {},
     "output_type": "execute_result"
    }
   ],
   "source": [
    "cov.shape"
   ]
  },
  {
   "cell_type": "code",
   "execution_count": null,
   "metadata": {},
   "outputs": [],
   "source": []
  }
 ],
 "metadata": {
  "interpreter": {
   "hash": "c700457e868f0d9648208d6007bef28a764cc0e6930d543a2b1cbea9d1c68303"
  },
  "kernelspec": {
   "display_name": "Python 3.8.2 64-bit ('r-main': conda)",
   "language": "python",
   "name": "python3"
  },
  "language_info": {
   "codemirror_mode": {
    "name": "ipython",
    "version": 3
   },
   "file_extension": ".py",
   "mimetype": "text/x-python",
   "name": "python",
   "nbconvert_exporter": "python",
   "pygments_lexer": "ipython3",
   "version": "3.9.7"
  },
  "orig_nbformat": 4
 },
 "nbformat": 4,
 "nbformat_minor": 2
}
