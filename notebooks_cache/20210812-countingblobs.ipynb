{
 "cells": [
  {
   "cell_type": "code",
   "execution_count": 1,
   "source": [
    "# Import my packages.\n",
    "import flymovie as fm\n",
    "import os\n",
    "import copy\n",
    "import scipy\n",
    "import skimage as ski\n",
    "import scipy.ndimage as ndi\n",
    "import numpy as np\n",
    "import pandas as pd\n",
    "import matplotlib.pyplot as plt\n",
    "from dataclasses import dataclass\n",
    "\n",
    "# Activate package autoload.\n",
    "%load_ext autoreload\n",
    "%autoreload 2"
   ],
   "outputs": [],
   "metadata": {}
  },
  {
   "cell_type": "code",
   "execution_count": 2,
   "source": [
    "sys.path"
   ],
   "outputs": [
    {
     "output_type": "execute_result",
     "data": {
      "text/plain": [
       "['/Users/michaelstadler/Bioinformatics/Projects/rpb1/notebooks_active',\n",
       " '/Users/michaelstadler/.vscode/extensions/ms-toolsai.jupyter-2021.8.2041215044/pythonFiles',\n",
       " '/Users/michaelstadler/.vscode/extensions/ms-toolsai.jupyter-2021.8.2041215044/pythonFiles/lib/python',\n",
       " '/Users/michaelstadler/opt/anaconda3/envs/im/lib/python38.zip',\n",
       " '/Users/michaelstadler/opt/anaconda3/envs/im/lib/python3.8',\n",
       " '/Users/michaelstadler/opt/anaconda3/envs/im/lib/python3.8/lib-dynload',\n",
       " '',\n",
       " '/Users/michaelstadler/opt/anaconda3/envs/im/lib/python3.8/site-packages',\n",
       " '/Users/michaelstadler/opt/anaconda3/envs/im/lib/python3.8/site-packages/aeosa',\n",
       " '/Users/michaelstadler/Bioinformatics/Projects/rpb1/bin',\n",
       " '/Users/michaelstadler/opt/anaconda3/envs/im/lib/python3.8/site-packages/IPython/extensions',\n",
       " '/Users/michaelstadler/.ipython']"
      ]
     },
     "metadata": {},
     "execution_count": 2
    }
   ],
   "metadata": {}
  },
  {
   "cell_type": "markdown",
   "source": [
    "## Tasks\n",
    "- Remove HLB\n"
   ],
   "metadata": {}
  },
  {
   "cell_type": "code",
   "execution_count": 2,
   "source": [
    "# Functions\n",
    "\n",
    "@dataclass\n",
    "class BlobStack:\n",
    "    '''Class for keeping track of Blob stack processing.'''\n",
    "    filepath: str\n",
    "    stack: np.ndarray\n",
    "    nucmask: np.ndarray\n",
    "    blobmask: np.ndarray\n",
    "    spot_counts: np.array\n",
    "\n",
    "def count_spots_fromfits(fits_filtered, nucmask):\n",
    "    nuc_ids = np.unique(nucmask)\n",
    "    spot_counts = np.zeros(len(nuc_ids))\n",
    "\n",
    "    for row in fits_filtered[0]:\n",
    "        coords = row[0:3]\n",
    "        coords = tuple([int(x) for x in coords])\n",
    "        nuc_id = nucmask[coords]\n",
    "        spot_counts[nuc_id] += 1\n",
    "\n",
    "    return spot_counts\n",
    "\n",
    "def count_spots_frommask(labelmask, nucmask):\n",
    "    nuc_ids = np.unique(nucmask)\n",
    "    spot_counts = np.zeros(len(nuc_ids))\n",
    "    props = ski.measure.regionprops(labelmask)\n",
    "    for id_ in range(0, len(props)):\n",
    "        centroid = tuple([int(x) for x in props[id_].centroid])\n",
    "        nuc_id = nucmask[centroid]\n",
    "        spot_counts[nuc_id] += 1\n",
    "    return spot_counts\n",
    "\n",
    "def find_thresh(im, nucmask):\n",
    "    for t in range(0, 25):\n",
    "        mask = np.where(nucmask & (im > t), 1, 0)\n",
    "        mask = ndi.morphology.binary_opening(mask, structure=np.ones((1,2,2)))\n",
    "        lmask, _ = ndi.label(mask)\n",
    "        labels, counts = np.unique(lmask, return_counts=True)\n",
    "        pct10, pct90 = np.percentile(counts, [10,60])\n",
    "        counts = counts[(counts >= pct10) & (counts <= pct90)]\n",
    "        print(t, len(np.unique(lmask)), np.mean(counts))\n",
    "\n",
    "def remove_edge_nuclei(nucmask, max_edge_pixels=0):\n",
    "    new_mask = nucmask.copy()\n",
    "    for nuc_id in np.unique(nucmask):\n",
    "        z, i, j = np.where(nucmask == nuc_id)\n",
    "        edgecount_i = np.count_nonzero(i == 0) + np.count_nonzero(i == (nucmask.shape[1] - 1))\n",
    "        edgecount_j = np.count_nonzero(j == 0) + np.count_nonzero(j == (nucmask.shape[2] - 1))\n",
    "        if ((edgecount_i + edgecount_j) > max_edge_pixels):\n",
    "            new_mask[new_mask == nuc_id] = 0\n",
    "    return new_mask\n",
    "\n"
   ],
   "outputs": [],
   "metadata": {}
  },
  {
   "cell_type": "code",
   "execution_count": 3,
   "source": [
    "data = []"
   ],
   "outputs": [],
   "metadata": {}
  },
  {
   "cell_type": "code",
   "execution_count": 4,
   "source": [
    "#filepath = '/Users/michaelstadler/Bioinformatics/Projects/rpb1/data/counting_blobs/cycle 10/embryo 5.czi'\n",
    "#filepath = '/Users/michaelstadler/Bioinformatics/Projects/rpb1/data/counting_blobs/cycle 10/emb 23.czi'\n",
    "#filepath = '/Users/michaelstadler/Bioinformatics/Projects/rpb1/data/counting_blobs/cycle 11/embryo9b.czi'\n",
    "filepath = '/Users/michaelstadler/Bioinformatics/Projects/rpb1/data/counting_blobs/cycle 11/embryo11b.czi'\n",
    "#filepath = '/Users/michaelstadler/Bioinformatics/Projects/rpb1/data/counting_blobs/cycle 11/embryo15.czi'\n",
    "#filepath = '/Users/michaelstadler/Bioinformatics/Projects/rpb1/data/counting_blobs/cycle 11/embryo22.czi'\n",
    "#filepath = '/Users/michaelstadler/Bioinformatics/Projects/rpb1/data/counting_blobs/cycle 11/embryo36.czi'\n",
    "#filepath = '/Users/michaelstadler/Bioinformatics/Projects/rpb1/data/counting_blobs/cycle 12/embryo3.czi'\n",
    "#filepath = '/Users/michaelstadler/Bioinformatics/Projects/rpb1/data/counting_blobs/cycle 12/embryo6.czi'\n",
    "#filepath = '/Users/michaelstadler/Bioinformatics/Projects/rpb1/data/counting_blobs/cycle 12/embryo17.czi'\n",
    "\n",
    "stack = fm.read_czi(filepath, swapaxes=False)"
   ],
   "outputs": [],
   "metadata": {}
  },
  {
   "cell_type": "markdown",
   "source": [
    "## Make nuclear mask"
   ],
   "metadata": {}
  },
  {
   "cell_type": "code",
   "execution_count": 5,
   "source": [
    "fm.viewer(stack, 6, zmax=True)\n",
    "#fm.viewer(stack, 6)"
   ],
   "outputs": [
    {
     "output_type": "display_data",
     "data": {
      "application/vnd.jupyter.widget-view+json": {
       "version_major": 2,
       "version_minor": 0,
       "model_id": "423e96a831d34ba9a9af2fe666d03189"
      },
      "text/plain": [
       "interactive(children=(Dropdown(description='Color', index=10, options=('Greens', 'prism', 'Reds', 'viridis', '…"
      ]
     },
     "metadata": {}
    }
   ],
   "metadata": {}
  },
  {
   "cell_type": "code",
   "execution_count": 6,
   "source": [
    "nuc = fm.segment_nuclei_3Dstack_rpb1(stack, min_nuc_center_dist=65, sigma=5)"
   ],
   "outputs": [],
   "metadata": {}
  },
  {
   "cell_type": "code",
   "execution_count": 7,
   "source": [
    "# nc11: 75000, 350000\n",
    "nuc2 = fm.labelmask_filter_objsize(nuc, 85000, 350000)\n",
    "fm.viewer(nuc2.max(axis=0), 6)"
   ],
   "outputs": [
    {
     "output_type": "display_data",
     "data": {
      "application/vnd.jupyter.widget-view+json": {
       "version_major": 2,
       "version_minor": 0,
       "model_id": "25568c2a08224b19a7076efb5d2801ad"
      },
      "text/plain": [
       "interactive(children=(Dropdown(description='Color', index=10, options=('Greens', 'prism', 'Reds', 'viridis', '…"
      ]
     },
     "metadata": {}
    }
   ],
   "metadata": {}
  },
  {
   "cell_type": "code",
   "execution_count": 8,
   "source": [
    "nuc3 = remove_edge_nuclei(nuc2)\n",
    "nuc4 = fm.labelmask_apply_morphology(nuc3, ndi.morphology.binary_dilation, struct=np.ones((1,14,14)), expand_size=(2,15,15))\n",
    "fm.viewer(np.where(nuc3, stack, 0), 6)"
   ],
   "outputs": [
    {
     "output_type": "display_data",
     "data": {
      "application/vnd.jupyter.widget-view+json": {
       "version_major": 2,
       "version_minor": 0,
       "model_id": "f237550532444e93b31013152548c78b"
      },
      "text/plain": [
       "interactive(children=(Dropdown(description='Color', index=10, options=('Greens', 'prism', 'Reds', 'viridis', '…"
      ]
     },
     "metadata": {}
    }
   ],
   "metadata": {}
  },
  {
   "cell_type": "code",
   "execution_count": 9,
   "source": [
    "nucmask = fm.relabel_labelmask(nuc4)"
   ],
   "outputs": [],
   "metadata": {}
  },
  {
   "cell_type": "markdown",
   "source": [
    "## Segment blobs, count"
   ],
   "metadata": {}
  },
  {
   "cell_type": "code",
   "execution_count": 10,
   "source": [
    "# Perform DoG filtering.\n",
    "sigma_big = 20\n",
    "sigma_small = 0.5\n",
    "\n",
    "channel=0\n",
    "stack3d = stack.astype('uint16')\n",
    "stack4d = np.expand_dims(stack3d, 0)\n",
    "stack5d = np.expand_dims(stack4d, 0)\n",
    "\n",
    "dog = fm.dog_filter(stack3d, [0,sigma_small,sigma_small],[0,sigma_big,sigma_big])\n",
    "fm.viewer(dog, 6, init_minval=0)"
   ],
   "outputs": [
    {
     "output_type": "display_data",
     "data": {
      "application/vnd.jupyter.widget-view+json": {
       "version_major": 2,
       "version_minor": 0,
       "model_id": "77cd95b1773443e4ab4ad6832779c924"
      },
      "text/plain": [
       "interactive(children=(Dropdown(description='Color', index=8, options=('gray', 'gray_r', 'inferno', 'Reds', 'Gr…"
      ]
     },
     "metadata": {}
    }
   ],
   "metadata": {}
  },
  {
   "cell_type": "code",
   "execution_count": null,
   "source": [
    "find_thresh(dog, nucmask)"
   ],
   "outputs": [],
   "metadata": {}
  },
  {
   "cell_type": "code",
   "execution_count": 79,
   "source": [
    "# Pick a slice near the middle and determine a reasonable threshold for it.\n",
    "ref_slice = 20\n",
    "ref_thresh = 16\n",
    "test_im = ndi.morphology.binary_opening(np.where(dog[ref_slice] >= ref_thresh, 1, 0), structure=np.ones((2,2)))\n",
    "#test_im = np.where(dog[ref_slice] >= ref_thresh, 1, 0)\n",
    "fm.viewer(np.where(test_im, 1, 0), 6)"
   ],
   "outputs": [
    {
     "output_type": "display_data",
     "data": {
      "application/vnd.jupyter.widget-view+json": {
       "version_major": 2,
       "version_minor": 0,
       "model_id": "ef2f19a3f3524caf866aca19786db361"
      },
      "text/plain": [
       "interactive(children=(Dropdown(description='Color', index=8, options=('gray', 'gray_r', 'inferno', 'Reds', 'Gr…"
      ]
     },
     "metadata": {}
    }
   ],
   "metadata": {}
  },
  {
   "cell_type": "code",
   "execution_count": 80,
   "source": [
    "mask = fm.threshold_w_slope(dog, ref_thresh, 18, -0.05, display=True, ymax=250)[0]"
   ],
   "outputs": [
    {
     "output_type": "display_data",
     "data": {
      "image/png": "[encoded data removed]",
      "image/svg+xml": "<?xml version=\"1.0\" encoding=\"utf-8\" standalone=\"no\"?>\n<!DOCTYPE svg PUBLIC \"-//W3C//DTD SVG 1.1//EN\"\n  \"http://www.w3.org/Graphics/SVG/1.1/DTD/svg11.dtd\">\n<!-- Created with matplotlib (https://matplotlib.org/) -->\n<svg height=\"252.317344pt\" version=\"1.1\" viewBox=\"0 0 375.2875 252.317344\" width=\"375.2875pt\" xmlns=\"http://www.w3.org/2000/svg\" xmlns:xlink=\"http://www.w3.org/1999/xlink\">\n <defs>\n  <style type=\"text/css\">\n*{stroke-linecap:butt;stroke-linejoin:round;}\n  </style>\n </defs>\n <g id=\"figure_1\">\n  <g id=\"patch_1\">\n   <path d=\"M 0 252.317344 \nL 375.2875 252.317344 \nL 375.2875 0 \nL 0 0 \nz\n\" style=\"fill:none;\"/>\n  </g>\n  <g id=\"axes_1\">\n   <g id=\"patch_2\">\n    <path d=\"M 33.2875 228.439219 \nL 368.0875 228.439219 \nL 368.0875 10.999219 \nL 33.2875 10.999219 \nz\n\" style=\"fill:#ffffff;\"/>\n   </g>\n   <g id=\"matplotlib.axis_1\">\n    <g id=\"xtick_1\">\n     <g id=\"line2d_1\">\n      <defs>\n       <path d=\"M 0 0 \nL 0 3.5 \n\" id=\"me4f72e142f\" style=\"stroke:#000000;stroke-width:0.8;\"/>\n      </defs>\n      <g>\n       <use style=\"stroke:#000000;stroke-width:0.8;\" x=\"48.505682\" xlink:href=\"#me4f72e142f\" y=\"228.439219\"/>\n      </g>\n     </g>\n     <g id=\"text_1\">\n      <!-- 0 -->\n      <defs>\n       <path d=\"M 31.78125 66.40625 \nQ 24.171875 66.40625 20.328125 58.90625 \nQ 16.5 51.421875 16.5 36.375 \nQ 16.5 21.390625 20.328125 13.890625 \nQ 24.171875 6.390625 31.78125 6.390625 \nQ 39.453125 6.390625 43.28125 13.890625 \nQ 47.125 21.390625 47.125 36.375 \nQ 47.125 51.421875 43.28125 58.90625 \nQ 39.453125 66.40625 31.78125 66.40625 \nz\nM 31.78125 74.21875 \nQ 44.046875 74.21875 50.515625 64.515625 \nQ 56.984375 54.828125 56.984375 36.375 \nQ 56.984375 17.96875 50.515625 8.265625 \nQ 44.046875 -1.421875 31.78125 -1.421875 \nQ 19.53125 -1.421875 13.0625 8.265625 \nQ 6.59375 17.96875 6.59375 36.375 \nQ 6.59375 54.828125 13.0625 64.515625 \nQ 19.53125 74.21875 31.78125 74.21875 \nz\n\" id=\"DejaVuSans-48\"/>\n      </defs>\n      <g transform=\"translate(45.324432 243.037656)scale(0.1 -0.1)\">\n       <use xlink:href=\"#DejaVuSans-48\"/>\n      </g>\n     </g>\n    </g>\n    <g id=\"xtick_2\">\n     <g id=\"line2d_2\">\n      <g>\n       <use style=\"stroke:#000000;stroke-width:0.8;\" x=\"89.635903\" xlink:href=\"#me4f72e142f\" y=\"228.439219\"/>\n      </g>\n     </g>\n     <g id=\"text_2\">\n      <!-- 5 -->\n      <defs>\n       <path d=\"M 10.796875 72.90625 \nL 49.515625 72.90625 \nL 49.515625 64.59375 \nL 19.828125 64.59375 \nL 19.828125 46.734375 \nQ 21.96875 47.46875 24.109375 47.828125 \nQ 26.265625 48.1875 28.421875 48.1875 \nQ 40.625 48.1875 47.75 41.5 \nQ 54.890625 34.8125 54.890625 23.390625 \nQ 54.890625 11.625 47.5625 5.09375 \nQ 40.234375 -1.421875 26.90625 -1.421875 \nQ 22.3125 -1.421875 17.546875 -0.640625 \nQ 12.796875 0.140625 7.71875 1.703125 \nL 7.71875 11.625 \nQ 12.109375 9.234375 16.796875 8.0625 \nQ 21.484375 6.890625 26.703125 6.890625 \nQ 35.15625 6.890625 40.078125 11.328125 \nQ 45.015625 15.765625 45.015625 23.390625 \nQ 45.015625 31 40.078125 35.4375 \nQ 35.15625 39.890625 26.703125 39.890625 \nQ 22.75 39.890625 18.8125 39.015625 \nQ 14.890625 38.140625 10.796875 36.28125 \nz\n\" id=\"DejaVuSans-53\"/>\n      </defs>\n      <g transform=\"translate(86.454653 243.037656)scale(0.1 -0.1)\">\n       <use xlink:href=\"#DejaVuSans-53\"/>\n      </g>\n     </g>\n    </g>\n    <g id=\"xtick_3\">\n     <g id=\"line2d_3\">\n      <g>\n       <use style=\"stroke:#000000;stroke-width:0.8;\" x=\"130.766124\" xlink:href=\"#me4f72e142f\" y=\"228.439219\"/>\n      </g>\n     </g>\n     <g id=\"text_3\">\n      <!-- 10 -->\n      <defs>\n       <path d=\"M 12.40625 8.296875 \nL 28.515625 8.296875 \nL 28.515625 63.921875 \nL 10.984375 60.40625 \nL 10.984375 69.390625 \nL 28.421875 72.90625 \nL 38.28125 72.90625 \nL 38.28125 8.296875 \nL 54.390625 8.296875 \nL 54.390625 0 \nL 12.40625 0 \nz\n\" id=\"DejaVuSans-49\"/>\n      </defs>\n      <g transform=\"translate(124.403624 243.037656)scale(0.1 -0.1)\">\n       <use xlink:href=\"#DejaVuSans-49\"/>\n       <use x=\"63.623047\" xlink:href=\"#DejaVuSans-48\"/>\n      </g>\n     </g>\n    </g>\n    <g id=\"xtick_4\">\n     <g id=\"line2d_4\">\n      <g>\n       <use style=\"stroke:#000000;stroke-width:0.8;\" x=\"171.896345\" xlink:href=\"#me4f72e142f\" y=\"228.439219\"/>\n      </g>\n     </g>\n     <g id=\"text_4\">\n      <!-- 15 -->\n      <g transform=\"translate(165.533845 243.037656)scale(0.1 -0.1)\">\n       <use xlink:href=\"#DejaVuSans-49\"/>\n       <use x=\"63.623047\" xlink:href=\"#DejaVuSans-53\"/>\n      </g>\n     </g>\n    </g>\n    <g id=\"xtick_5\">\n     <g id=\"line2d_5\">\n      <g>\n       <use style=\"stroke:#000000;stroke-width:0.8;\" x=\"213.026566\" xlink:href=\"#me4f72e142f\" y=\"228.439219\"/>\n      </g>\n     </g>\n     <g id=\"text_5\">\n      <!-- 20 -->\n      <defs>\n       <path d=\"M 19.1875 8.296875 \nL 53.609375 8.296875 \nL 53.609375 0 \nL 7.328125 0 \nL 7.328125 8.296875 \nQ 12.9375 14.109375 22.625 23.890625 \nQ 32.328125 33.6875 34.8125 36.53125 \nQ 39.546875 41.84375 41.421875 45.53125 \nQ 43.3125 49.21875 43.3125 52.78125 \nQ 43.3125 58.59375 39.234375 62.25 \nQ 35.15625 65.921875 28.609375 65.921875 \nQ 23.96875 65.921875 18.8125 64.3125 \nQ 13.671875 62.703125 7.8125 59.421875 \nL 7.8125 69.390625 \nQ 13.765625 71.78125 18.9375 73 \nQ 24.125 74.21875 28.421875 74.21875 \nQ 39.75 74.21875 46.484375 68.546875 \nQ 53.21875 62.890625 53.21875 53.421875 \nQ 53.21875 48.921875 51.53125 44.890625 \nQ 49.859375 40.875 45.40625 35.40625 \nQ 44.1875 33.984375 37.640625 27.21875 \nQ 31.109375 20.453125 19.1875 8.296875 \nz\n\" id=\"DejaVuSans-50\"/>\n      </defs>\n      <g transform=\"translate(206.664066 243.037656)scale(0.1 -0.1)\">\n       <use xlink:href=\"#DejaVuSans-50\"/>\n       <use x=\"63.623047\" xlink:href=\"#DejaVuSans-48\"/>\n      </g>\n     </g>\n    </g>\n    <g id=\"xtick_6\">\n     <g id=\"line2d_6\">\n      <g>\n       <use style=\"stroke:#000000;stroke-width:0.8;\" x=\"254.156787\" xlink:href=\"#me4f72e142f\" y=\"228.439219\"/>\n      </g>\n     </g>\n     <g id=\"text_6\">\n      <!-- 25 -->\n      <g transform=\"translate(247.794287 243.037656)scale(0.1 -0.1)\">\n       <use xlink:href=\"#DejaVuSans-50\"/>\n       <use x=\"63.623047\" xlink:href=\"#DejaVuSans-53\"/>\n      </g>\n     </g>\n    </g>\n    <g id=\"xtick_7\">\n     <g id=\"line2d_7\">\n      <g>\n       <use style=\"stroke:#000000;stroke-width:0.8;\" x=\"295.287009\" xlink:href=\"#me4f72e142f\" y=\"228.439219\"/>\n      </g>\n     </g>\n     <g id=\"text_7\">\n      <!-- 30 -->\n      <defs>\n       <path d=\"M 40.578125 39.3125 \nQ 47.65625 37.796875 51.625 33 \nQ 55.609375 28.21875 55.609375 21.1875 \nQ 55.609375 10.40625 48.1875 4.484375 \nQ 40.765625 -1.421875 27.09375 -1.421875 \nQ 22.515625 -1.421875 17.65625 -0.515625 \nQ 12.796875 0.390625 7.625 2.203125 \nL 7.625 11.71875 \nQ 11.71875 9.328125 16.59375 8.109375 \nQ 21.484375 6.890625 26.8125 6.890625 \nQ 36.078125 6.890625 40.9375 10.546875 \nQ 45.796875 14.203125 45.796875 21.1875 \nQ 45.796875 27.640625 41.28125 31.265625 \nQ 36.765625 34.90625 28.71875 34.90625 \nL 20.21875 34.90625 \nL 20.21875 43.015625 \nL 29.109375 43.015625 \nQ 36.375 43.015625 40.234375 45.921875 \nQ 44.09375 48.828125 44.09375 54.296875 \nQ 44.09375 59.90625 40.109375 62.90625 \nQ 36.140625 65.921875 28.71875 65.921875 \nQ 24.65625 65.921875 20.015625 65.03125 \nQ 15.375 64.15625 9.8125 62.3125 \nL 9.8125 71.09375 \nQ 15.4375 72.65625 20.34375 73.4375 \nQ 25.25 74.21875 29.59375 74.21875 \nQ 40.828125 74.21875 47.359375 69.109375 \nQ 53.90625 64.015625 53.90625 55.328125 \nQ 53.90625 49.265625 50.4375 45.09375 \nQ 46.96875 40.921875 40.578125 39.3125 \nz\n\" id=\"DejaVuSans-51\"/>\n      </defs>\n      <g transform=\"translate(288.924509 243.037656)scale(0.1 -0.1)\">\n       <use xlink:href=\"#DejaVuSans-51\"/>\n       <use x=\"63.623047\" xlink:href=\"#DejaVuSans-48\"/>\n      </g>\n     </g>\n    </g>\n    <g id=\"xtick_8\">\n     <g id=\"line2d_8\">\n      <g>\n       <use style=\"stroke:#000000;stroke-width:0.8;\" x=\"336.41723\" xlink:href=\"#me4f72e142f\" y=\"228.439219\"/>\n      </g>\n     </g>\n     <g id=\"text_8\">\n      <!-- 35 -->\n      <g transform=\"translate(330.05473 243.037656)scale(0.1 -0.1)\">\n       <use xlink:href=\"#DejaVuSans-51\"/>\n       <use x=\"63.623047\" xlink:href=\"#DejaVuSans-53\"/>\n      </g>\n     </g>\n    </g>\n   </g>\n   <g id=\"matplotlib.axis_2\">\n    <g id=\"ytick_1\">\n     <g id=\"line2d_9\">\n      <defs>\n       <path d=\"M 0 0 \nL -3.5 0 \n\" id=\"me527ce3bd0\" style=\"stroke:#000000;stroke-width:0.8;\"/>\n      </defs>\n      <g>\n       <use style=\"stroke:#000000;stroke-width:0.8;\" x=\"33.2875\" xlink:href=\"#me527ce3bd0\" y=\"228.439219\"/>\n      </g>\n     </g>\n     <g id=\"text_9\">\n      <!-- 0 -->\n      <g transform=\"translate(19.925 232.238437)scale(0.1 -0.1)\">\n       <use xlink:href=\"#DejaVuSans-48\"/>\n      </g>\n     </g>\n    </g>\n    <g id=\"ytick_2\">\n     <g id=\"line2d_10\">\n      <g>\n       <use style=\"stroke:#000000;stroke-width:0.8;\" x=\"33.2875\" xlink:href=\"#me527ce3bd0\" y=\"184.951219\"/>\n      </g>\n     </g>\n     <g id=\"text_10\">\n      <!-- 50 -->\n      <g transform=\"translate(13.5625 188.750437)scale(0.1 -0.1)\">\n       <use xlink:href=\"#DejaVuSans-53\"/>\n       <use x=\"63.623047\" xlink:href=\"#DejaVuSans-48\"/>\n      </g>\n     </g>\n    </g>\n    <g id=\"ytick_3\">\n     <g id=\"line2d_11\">\n      <g>\n       <use style=\"stroke:#000000;stroke-width:0.8;\" x=\"33.2875\" xlink:href=\"#me527ce3bd0\" y=\"141.463219\"/>\n      </g>\n     </g>\n     <g id=\"text_11\">\n      <!-- 100 -->\n      <g transform=\"translate(7.2 145.262437)scale(0.1 -0.1)\">\n       <use xlink:href=\"#DejaVuSans-49\"/>\n       <use x=\"63.623047\" xlink:href=\"#DejaVuSans-48\"/>\n       <use x=\"127.246094\" xlink:href=\"#DejaVuSans-48\"/>\n      </g>\n     </g>\n    </g>\n    <g id=\"ytick_4\">\n     <g id=\"line2d_12\">\n      <g>\n       <use style=\"stroke:#000000;stroke-width:0.8;\" x=\"33.2875\" xlink:href=\"#me527ce3bd0\" y=\"97.975219\"/>\n      </g>\n     </g>\n     <g id=\"text_12\">\n      <!-- 150 -->\n      <g transform=\"translate(7.2 101.774437)scale(0.1 -0.1)\">\n       <use xlink:href=\"#DejaVuSans-49\"/>\n       <use x=\"63.623047\" xlink:href=\"#DejaVuSans-53\"/>\n       <use x=\"127.246094\" xlink:href=\"#DejaVuSans-48\"/>\n      </g>\n     </g>\n    </g>\n    <g id=\"ytick_5\">\n     <g id=\"line2d_13\">\n      <g>\n       <use style=\"stroke:#000000;stroke-width:0.8;\" x=\"33.2875\" xlink:href=\"#me527ce3bd0\" y=\"54.487219\"/>\n      </g>\n     </g>\n     <g id=\"text_13\">\n      <!-- 200 -->\n      <g transform=\"translate(7.2 58.286437)scale(0.1 -0.1)\">\n       <use xlink:href=\"#DejaVuSans-50\"/>\n       <use x=\"63.623047\" xlink:href=\"#DejaVuSans-48\"/>\n       <use x=\"127.246094\" xlink:href=\"#DejaVuSans-48\"/>\n      </g>\n     </g>\n    </g>\n    <g id=\"ytick_6\">\n     <g id=\"line2d_14\">\n      <g>\n       <use style=\"stroke:#000000;stroke-width:0.8;\" x=\"33.2875\" xlink:href=\"#me527ce3bd0\" y=\"10.999219\"/>\n      </g>\n     </g>\n     <g id=\"text_14\">\n      <!-- 250 -->\n      <g transform=\"translate(7.2 14.798437)scale(0.1 -0.1)\">\n       <use xlink:href=\"#DejaVuSans-50\"/>\n       <use x=\"63.623047\" xlink:href=\"#DejaVuSans-53\"/>\n       <use x=\"127.246094\" xlink:href=\"#DejaVuSans-48\"/>\n      </g>\n     </g>\n    </g>\n   </g>\n   <g id=\"line2d_15\">\n    <path clip-path=\"url(#pd77a735765)\" d=\"M 48.505682 219.741619 \nL 56.731726 218.002099 \nL 64.95777 215.392819 \nL 73.183814 216.262579 \nL 81.409859 203.216179 \nL 89.635903 196.258099 \nL 97.861947 196.258099 \nL 106.087991 195.388339 \nL 114.314036 178.862899 \nL 122.54008 171.035059 \nL 130.766124 160.597939 \nL 138.992168 147.551539 \nL 147.218213 127.547059 \nL 155.444257 120.588979 \nL 163.670301 104.933299 \nL 171.896345 102.324019 \nL 180.122389 88.407859 \nL 188.348434 82.319539 \nL 196.574478 33.612979 \nL 204.800522 25.785139 \nL 213.026566 12.738739 \nL 221.252611 1.431859 \nL 229.478655 3.171379 \nL 233.862233 -1 \nM 247.371668 -1 \nL 254.156787 16.217779 \nL 262.382832 3.171379 \nL 270.608876 4.041139 \nL 278.83492 21.436339 \nL 287.060964 56.226739 \nL 295.287009 68.403379 \nL 303.513053 88.407859 \nL 311.739097 109.282099 \nL 319.965141 144.072499 \nL 328.191186 157.988659 \nL 336.41723 167.556019 \nL 344.643274 177.123379 \nL 352.869318 197.127859 \n\" style=\"fill:none;stroke:#1f77b4;stroke-linecap:square;stroke-width:1.5;\"/>\n   </g>\n   <g id=\"patch_3\">\n    <path d=\"M 33.2875 228.439219 \nL 33.2875 10.999219 \n\" style=\"fill:none;stroke:#000000;stroke-linecap:square;stroke-linejoin:miter;stroke-width:0.8;\"/>\n   </g>\n   <g id=\"patch_4\">\n    <path d=\"M 368.0875 228.439219 \nL 368.0875 10.999219 \n\" style=\"fill:none;stroke:#000000;stroke-linecap:square;stroke-linejoin:miter;stroke-width:0.8;\"/>\n   </g>\n   <g id=\"patch_5\">\n    <path d=\"M 33.2875 228.439219 \nL 368.0875 228.439219 \n\" style=\"fill:none;stroke:#000000;stroke-linecap:square;stroke-linejoin:miter;stroke-width:0.8;\"/>\n   </g>\n   <g id=\"patch_6\">\n    <path d=\"M 33.2875 10.999219 \nL 368.0875 10.999219 \n\" style=\"fill:none;stroke:#000000;stroke-linecap:square;stroke-linejoin:miter;stroke-width:0.8;\"/>\n   </g>\n  </g>\n </g>\n <defs>\n  <clipPath id=\"pd77a735765\">\n   <rect height=\"217.44\" width=\"334.8\" x=\"33.2875\" y=\"10.999219\"/>\n  </clipPath>\n </defs>\n</svg>\n",
      "text/plain": [
       "<Figure size 432x288 with 1 Axes>"
      ]
     },
     "metadata": {
      "needs_background": "light"
     }
    }
   ],
   "metadata": {}
  },
  {
   "cell_type": "code",
   "execution_count": 154,
   "source": [
    "# Perform 3D gaussian fitting on each object in the binary mask.\n",
    "mask4d = np.expand_dims(mask, axis=0)\n",
    "dog4d = np.expand_dims(dog, axis=0) - np.min(dog)\n",
    "fits6 = fm.fit_objects_from_mask(stack4d, mask4d, fitwindow_rad_z=1, fitwindow_rad_xy=6)\n",
    "#fm.quickview_ms2(stack5d, fits, MAX=False, shadows=False, halfwidth_z=0, figsize=6)"
   ],
   "outputs": [
    {
     "output_type": "stream",
     "name": "stdout",
     "text": [
      "0\n",
      "# to fit: 3341\n",
      "# fit:  1000 2000 3000 "
     ]
    }
   ],
   "metadata": {}
  },
  {
   "cell_type": "code",
   "execution_count": 155,
   "source": [
    "def new_filter(fits, x):\n",
    "    scores = np.log((fits[:,4] * (2**8)) / fits[:,5])/np.log(2)\n",
    "    return fits[scores >= x,:]\n",
    "    #return scores\n",
    "\n",
    "test5 = new_filter(fits5[0], -np.inf)\n",
    "test6 = new_filter(fits6[0], -1000)\n",
    "test7 = new_filter(fits7[0], -np.inf)\n",
    "test8 = new_filter(fits8[0], -1000)"
   ],
   "outputs": [],
   "metadata": {}
  },
  {
   "cell_type": "code",
   "execution_count": 156,
   "source": [
    "def highlight(stack, mask, fits_filtered):\n",
    "    hl_stack = stack.copy() * 0.75\n",
    "    hl_value = 2 * np.max(stack)\n",
    "    for rownum in range(0, fits_filtered.shape[0]):\n",
    "        \"\"\"\n",
    "        coords = tuple([int(x) for x in fits_filtered[rownum, :3]])\n",
    "        print(coords, end = '')\n",
    "        obj_id = labelmask[coords]\n",
    "        if obj_id != 0:\n",
    "            good_ids.append(obj_id)\n",
    "        else:\n",
    "            print(\"heyo\",)\n",
    "        \"\"\"\n",
    "        z, i, j = tuple([int(x) for x in fits_filtered[rownum, :3]])\n",
    "        for i_ in range((i-1),(i+2)):\n",
    "            for j_ in range((j-1),(j+2)):\n",
    "                try:\n",
    "                    hl_stack[(z,i_,j_)] = hl_value\n",
    "                except:\n",
    "                    pass\n",
    "    return hl_stack\n",
    "        \n",
    "highlights = highlight(stack, mask, test6)\n",
    "#highlights = np.where(mask, np.max(stack) * 2, stack)\n",
    "fm.viewer([stack, highlights], 12)\n",
    "\n"
   ],
   "outputs": [
    {
     "output_type": "display_data",
     "data": {
      "application/vnd.jupyter.widget-view+json": {
       "version_major": 2,
       "version_minor": 0,
       "model_id": "14f3131a84e9499eb55dc01d060458bf"
      },
      "text/plain": [
       "interactive(children=(Dropdown(description='Color', index=8, options=('gray', 'gray_r', 'inferno', 'Reds', 'Gr…"
      ]
     },
     "metadata": {}
    }
   ],
   "metadata": {}
  },
  {
   "cell_type": "code",
   "execution_count": 132,
   "source": [
    "lm, _ = ndi.label(mask)\n"
   ],
   "outputs": [],
   "metadata": {}
  },
  {
   "cell_type": "code",
   "execution_count": 144,
   "source": [
    "mask[37, 527, 78]"
   ],
   "outputs": [
    {
     "output_type": "execute_result",
     "data": {
      "text/plain": [
       "False"
      ]
     },
     "metadata": {},
     "execution_count": 144
    }
   ],
   "metadata": {}
  },
  {
   "cell_type": "code",
   "execution_count": 136,
   "source": [
    "fm.viewer(lm,6)"
   ],
   "outputs": [
    {
     "output_type": "display_data",
     "data": {
      "application/vnd.jupyter.widget-view+json": {
       "version_major": 2,
       "version_minor": 0,
       "model_id": "1f3214eba2fe4d0fa2b9bc4cfd9df96e"
      },
      "text/plain": [
       "interactive(children=(Dropdown(description='Color', index=8, options=('gray', 'gray_r', 'inferno', 'Reds', 'Gr…"
      ]
     },
     "metadata": {}
    }
   ],
   "metadata": {}
  },
  {
   "cell_type": "code",
   "execution_count": 119,
   "source": [
    "fm.viewer(mask,6)"
   ],
   "outputs": [
    {
     "output_type": "display_data",
     "data": {
      "application/vnd.jupyter.widget-view+json": {
       "version_major": 2,
       "version_minor": 0,
       "model_id": "1395b1f2533444b694206b58c8c3c2ae"
      },
      "text/plain": [
       "interactive(children=(Dropdown(description='Color', index=8, options=('gray', 'gray_r', 'inferno', 'Reds', 'Gr…"
      ]
     },
     "metadata": {}
    }
   ],
   "metadata": {}
  },
  {
   "cell_type": "code",
   "execution_count": 63,
   "source": [
    "labelmask, _ = ndi.label(mask)\n",
    "fm.viewer(labelmask, 6)"
   ],
   "outputs": [
    {
     "output_type": "display_data",
     "data": {
      "application/vnd.jupyter.widget-view+json": {
       "version_major": 2,
       "version_minor": 0,
       "model_id": "3c09dfb402f5421c9dae48c180bb8496"
      },
      "text/plain": [
       "interactive(children=(Dropdown(description='Color', options=('cividis', 'Gators', 'inferno', 'Reds', 'magma', …"
      ]
     },
     "metadata": {}
    }
   ],
   "metadata": {}
  },
  {
   "cell_type": "code",
   "execution_count": 64,
   "source": [
    "# Count spots per nucleus\n",
    "spot_counts = count_spots_frommask(labelmask, nucmask)\n",
    "print(np.mean(spot_counts[1:]))\n",
    "spot_counts"
   ],
   "outputs": [
    {
     "output_type": "stream",
     "name": "stdout",
     "text": [
      "233.8181818181818\n"
     ]
    },
    {
     "output_type": "execute_result",
     "data": {
      "text/plain": [
       "array([1211.,  269.,  274.,  243.,  236.,  213.,  220.,  187.,  274.,\n",
       "        236.,  216.,  204.])"
      ]
     },
     "metadata": {},
     "execution_count": 64
    }
   ],
   "metadata": {}
  },
  {
   "cell_type": "code",
   "execution_count": 65,
   "source": [
    "blobdata = BlobStack(filepath, stack, nucmask, labelmask, spot_counts)"
   ],
   "outputs": [],
   "metadata": {}
  },
  {
   "cell_type": "code",
   "execution_count": 66,
   "source": [
    "data.append(blobdata)\n",
    "del spot_counts, blobdata, nucmask, mask, labelmask, nuc, nuc2, nuc3, stack\n"
   ],
   "outputs": [],
   "metadata": {}
  },
  {
   "cell_type": "code",
   "execution_count": 71,
   "source": [
    "np.mean(data[3].spot_counts[1:])"
   ],
   "outputs": [
    {
     "output_type": "execute_result",
     "data": {
      "text/plain": [
       "233.8181818181818"
      ]
     },
     "metadata": {},
     "execution_count": 71
    }
   ],
   "metadata": {}
  },
  {
   "cell_type": "code",
   "execution_count": null,
   "source": [
    "means_ = []\n",
    "for n in range(0, 3):\n",
    "    mean_ = np.mean(data[n].stack[data[n].nucmask.astype('bool')])\n",
    "    means_.append(mean_)\n",
    "plt.plot(means_)\n",
    "\n",
    "medians = []\n",
    "for n in range(0, 3):\n",
    "    median_ = np.median(data[n].stack[data[n].nucmask.astype('bool')])\n",
    "    medians.append(median_)\n",
    "plt.plot(medians)"
   ],
   "outputs": [],
   "metadata": {}
  },
  {
   "cell_type": "code",
   "execution_count": 72,
   "source": [
    "fm.viewer([data[2].stack, data[3].stack], 8)"
   ],
   "outputs": [
    {
     "output_type": "display_data",
     "data": {
      "application/vnd.jupyter.widget-view+json": {
       "version_major": 2,
       "version_minor": 0,
       "model_id": "3c054273197249cd9afdeea16cc2b17a"
      },
      "text/plain": [
       "interactive(children=(Dropdown(description='Color', options=('cividis', 'Gators', 'inferno', 'Reds', 'magma', …"
      ]
     },
     "metadata": {}
    }
   ],
   "metadata": {}
  },
  {
   "cell_type": "code",
   "execution_count": null,
   "source": [
    "for n in range(0,3):\n",
    "    print(np.mean(data[n].spot_counts[1:]))"
   ],
   "outputs": [],
   "metadata": {}
  },
  {
   "cell_type": "code",
   "execution_count": null,
   "source": [
    "fm.save_pickle(data, '/Users/michaelstadler/Bioinformatics/Projects/rpb1/results/20210813-rpb1blobdata.pkl')"
   ],
   "outputs": [],
   "metadata": {}
  },
  {
   "cell_type": "markdown",
   "source": [],
   "metadata": {}
  },
  {
   "cell_type": "code",
   "execution_count": null,
   "source": [
    "\"\"\"\n",
    "# Perform 3D gaussian fitting on each object in the binary mask.\n",
    "fits = fm.fit_objects_from_mask(stack4d, mask, fitwindow_rad_z=1, fitwindow_rad_xy=3)\n",
    "fm.quickview_ms2(stack5d, fits, MAX=False, shadows=False, halfwidth_z=0, figsize=6)\n",
    "\"\"\""
   ],
   "outputs": [],
   "metadata": {}
  },
  {
   "cell_type": "code",
   "execution_count": null,
   "source": [
    "\"\"\"\n",
    "# Filter spots based on fit parameters, get spot-centered stacks, organized by z slice.\n",
    "peakiness = 0\n",
    "fits_filtered = fm.filter_ms2fits(fits, peakiness, stack)\n",
    "fm.quickview_ms2(stack5d, fits_filtered, MAX=False, shadows=False, halfwidth_z=0, figsize=6)\n",
    "\"\"\""
   ],
   "outputs": [],
   "metadata": {}
  },
  {
   "cell_type": "markdown",
   "source": [
    "nc11: embryo 9b, 11, 11b, 12"
   ],
   "metadata": {}
  },
  {
   "cell_type": "markdown",
   "source": [
    "I think a reasonable thing to do (if we can take data with high consistency) is to call spots just using a consistent threshold (perhaps adjusted for some kind of normalizing factor). I'd also like a principled way to doing thresholding. I wonder about the idea of using segmented object size to threshold? Also, need to eliminate HLB."
   ],
   "metadata": {}
  },
  {
   "cell_type": "code",
   "execution_count": null,
   "source": [
    "from skimage.filters import threshold_otsu\n",
    "threshold_otsu(dog[nucmask > 0])"
   ],
   "outputs": [],
   "metadata": {}
  },
  {
   "cell_type": "code",
   "execution_count": null,
   "source": [
    "fm.viewer(dog)"
   ],
   "outputs": [],
   "metadata": {}
  },
  {
   "cell_type": "code",
   "execution_count": null,
   "source": [
    "plt.hist(dog[(nucmask > 0) & (dog > 0)], range=(0,100), bins=100);"
   ],
   "outputs": [],
   "metadata": {}
  },
  {
   "cell_type": "code",
   "execution_count": null,
   "source": [
    "for t in range(10,20):\n",
    "    vals = dog_t[nucmask_t.astype('bool')]\n",
    "    print(t, np.std(vals[vals >= t]), np.std(vals[vals < t]))"
   ],
   "outputs": [],
   "metadata": {}
  },
  {
   "cell_type": "code",
   "execution_count": null,
   "source": [
    "test = stack[19]\n",
    "series = np.expand_dims(test.copy(), axis=0)\n",
    "#series = test.copy()\n",
    "for x in range(1,50):\n",
    "    sigma_small=0.5\n",
    "    sigma_big=x\n",
    "    dog_t = fm.dog_filter(test, [sigma_small,sigma_small],[sigma_big,sigma_big])\n",
    "    series = np.vstack([series, np.expand_dims(dog_t, axis=0)])\n",
    "\n"
   ],
   "outputs": [],
   "metadata": {}
  },
  {
   "cell_type": "code",
   "execution_count": 174,
   "source": [
    "bg_stack = np.random.normal(20, 3, size=stack.shape)\n",
    "bg = np.where(nucmask, bg_stack, 0)"
   ],
   "outputs": [],
   "metadata": {}
  },
  {
   "cell_type": "markdown",
   "source": [
    "Params:\n",
    "- background mean\n",
    "- background var\n",
    "- blob intensity mean \n",
    "- blob instensity var\n",
    "- blob number\n",
    "- blob radius mean\n",
    "- blob radius var"
   ],
   "metadata": {}
  },
  {
   "cell_type": "code",
   "execution_count": 144,
   "source": [
    "from flymovie.fitting import gaussian3d\n",
    "\n",
    "def make_3d_gauss_box(intensity, sigma_z, sigma_ij, z_winlen, ij_winlen):\n",
    "    d1 = scipy.signal.gaussian(ij_winlen, sigma_ij)\n",
    "    d2 = np.outer(d1, d1)\n",
    "    z_1dvector = scipy.signal.gaussian(z_winlen, sigma_z)\n",
    "    d3 = d2 * np.expand_dims(z_1dvector, axis=(1,2))\n",
    "    return intensity * d3\n",
    "\n",
    "bg_mean = 20\n",
    "bg_sd = 2\n",
    "def simulate(nucmask, bg_mean, bg_var, blob_intensity_mean, blob_intensity_var, blob_radius_mean, blob_radius_var, blob_number):\n",
    "    def add_box(stack, box, coords):\n",
    "        box_starts = []\n",
    "        box_ends = []\n",
    "        stack_starts = []\n",
    "        stack_ends = []\n",
    "        for dim in range(0, 3):\n",
    "            start = coords[dim] - int(box.shape[dim] / 2)\n",
    "            end = coords[dim] + int(box.shape[dim] / 2) + 1\n",
    "            if start < 0:\n",
    "                stack_starts.append(0)\n",
    "                stack_ends.append(end + start)\n",
    "                box_starts.append(-start)\n",
    "                box_ends.append(box.shape[dim] + start)\n",
    "            elif end > stack.shape[dim]:\n",
    "                stack_starts.append(start)\n",
    "                stack_ends.append(stack.shape[dim])\n",
    "                box_starts.append(0)\n",
    "                box_ends.append(box.shape[dim] + stack.shape[dim] - end)\n",
    "            else:\n",
    "                stack_starts.append(start)\n",
    "                stack_ends.append(end)\n",
    "                box_starts.append(0)\n",
    "                box_ends.append(box.shape[dim])\n",
    "        #box_to_add = box[box_starts[0]:box_ends[0], box_starts[1]:box_ends[1], box_starts[1]:box_ends[1]]\n",
    "        #stack[stack_starts[0]:stack_ends[0], stack_starts[1]:stack_ends[1], stack_starts[1]:stack_ends[1]] += box_to_add\n",
    "        #print(stack[stack_starts[0]:stack_ends[0], stack_starts[1]:stack_ends[1], stack_starts[1]:stack_ends[1]].shape)\n",
    "        #print(box[box_starts[0]:box_ends[0], box_starts[1]:box_ends[1], box_starts[1]:box_ends[1]].shape)\n",
    "        #print(stack_starts)\n",
    "        stackshape = stack[stack_starts[0]:stack_ends[0], stack_starts[1]:stack_ends[1], stack_starts[1]:stack_ends[1]].shape\n",
    "        boxshape = box[box_starts[0]:box_ends[0], box_starts[1]:box_ends[1], box_starts[1]:box_ends[1]].shape\n",
    "        if stackshape == boxshape:\n",
    "            box_to_add = box[box_starts[0]:box_ends[0], box_starts[1]:box_ends[1], box_starts[2]:box_ends[2]]\n",
    "            stack[stack_starts[0]:stack_ends[0], stack_starts[1]:stack_ends[1], stack_starts[2]:stack_ends[2]] += box_to_add\n",
    "        else:\n",
    "            print('holla')\n",
    "\n",
    "    # Must be odd\n",
    "    z_windowlen = 5\n",
    "    ij_windowlen = 21\n",
    "    bg_stack = np.random.normal(bg_mean, bg_var, size=nucmask.shape)\n",
    "    simstack = np.where(nucmask, bg_stack, 0)\n",
    "    for nuc_id in np.unique(nucmask)[1:]:\n",
    "    #for nuc_id in range(0,1):\n",
    "        nuc_coords = np.where(nucmask == nuc_id)\n",
    "        nuc_numpixels = len(nuc_coords[0])\n",
    "        for n in range(0, blob_number):\n",
    "            r_ij = np.random.normal(blob_radius_mean, blob_radius_var)\n",
    "            r_z = r_ij / 2\n",
    "            intensity = np.random.normal(blob_intensity_mean, blob_intensity_var)\n",
    "            \n",
    "            rand_pixel_num = np.random.randint(0, nuc_numpixels - 1)\n",
    "            z, i, j = nuc_coords[0][rand_pixel_num], nuc_coords[1][rand_pixel_num], nuc_coords[2][rand_pixel_num]\n",
    "            gaussian_function = gaussian3d(z, i, j, intensity, r_z, r_ij, r_ij)\n",
    "            box = make_3d_gauss_box(intensity, r_z, r_ij, z_windowlen, ij_windowlen)\n",
    "            add_box(simstack, box, (z, i, j))\n",
    "    return simstack            \n",
    "    \n"
   ],
   "outputs": [],
   "metadata": {}
  },
  {
   "cell_type": "code",
   "execution_count": 161,
   "source": [
    "sim = simulate(nuc2, bg_mean=28, bg_var=9, blob_intensity_mean=35, blob_intensity_var=3, blob_radius_mean=1, blob_radius_var=0.8, blob_number=250)\n",
    "b = np.where(nuc2, sim, stack)\n",
    "fm.viewer(b, 6)"
   ],
   "outputs": [
    {
     "output_type": "display_data",
     "data": {
      "application/vnd.jupyter.widget-view+json": {
       "version_major": 2,
       "version_minor": 0,
       "model_id": "91094ae95b694ca7844a166b22ed8286"
      },
      "text/plain": [
       "interactive(children=(Dropdown(description='Color', index=10, options=('Greens', 'prism', 'Reds', 'viridis', '…"
      ]
     },
     "metadata": {}
    }
   ],
   "metadata": {}
  },
  {
   "cell_type": "code",
   "execution_count": 159,
   "source": [
    "fm.viewer(stack, 6)"
   ],
   "outputs": [
    {
     "output_type": "display_data",
     "data": {
      "application/vnd.jupyter.widget-view+json": {
       "version_major": 2,
       "version_minor": 0,
       "model_id": "1b875526d20249518f31c02e66688e7d"
      },
      "text/plain": [
       "interactive(children=(Dropdown(description='Color', index=10, options=('Greens', 'prism', 'Reds', 'viridis', '…"
      ]
     },
     "metadata": {}
    }
   ],
   "metadata": {}
  },
  {
   "cell_type": "code",
   "execution_count": null,
   "source": [
    "5/10000"
   ],
   "outputs": [],
   "metadata": {}
  }
 ],
 "metadata": {
  "orig_nbformat": 4,
  "language_info": {
   "name": "python",
   "version": "3.8.3",
   "mimetype": "text/x-python",
   "codemirror_mode": {
    "name": "ipython",
    "version": 3
   },
   "pygments_lexer": "ipython3",
   "nbconvert_exporter": "python",
   "file_extension": ".py"
  },
  "kernelspec": {
   "name": "python3",
   "display_name": "Python 3.8.3 64-bit ('im': conda)"
  },
  "interpreter": {
   "hash": "11ecd8a4767cb3cf91a1fa128c0ea80b872c7c94f990f5ffb2d383c29dbab4fe"
  }
 },
 "nbformat": 4,
 "nbformat_minor": 2
}