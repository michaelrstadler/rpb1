{
 "cells": [
  {
   "cell_type": "markdown",
   "metadata": {},
   "source": [
    "# Processing Pbtd01-03.czi"
   ]
  },
  {
   "cell_type": "code",
   "execution_count": 24,
   "metadata": {},
   "outputs": [
    {
     "output_type": "stream",
     "name": "stdout",
     "text": [
      "The autoreload extension is already loaded. To reload it, use:\n  %reload_ext autoreload\n"
     ]
    }
   ],
   "source": [
    "# Import my packages.\n",
    "import flymovie as fm\n",
    "import os\n",
    "import copy\n",
    "import scipy\n",
    "import numpy as np\n",
    "import matplotlib.pyplot as plt\n",
    "import scipy.ndimage as ndi\n",
    "\n",
    "# Activate package autoload.\n",
    "%load_ext autoreload\n",
    "%autoreload 2"
   ]
  },
  {
   "cell_type": "code",
   "execution_count": 122,
   "metadata": {},
   "outputs": [],
   "source": [
    "%reload_ext autoreload"
   ]
  },
  {
   "cell_type": "markdown",
   "metadata": {},
   "source": [
    "## 1. Read input files"
   ]
  },
  {
   "cell_type": "code",
   "execution_count": 16,
   "metadata": {
    "scrolled": true
   },
   "outputs": [],
   "source": [
    "# Set channels corresponding to nuclear signal and MS2 spots.\n",
    "spotchannel = 0\n",
    "\n",
    "surface_before = 2491\n",
    "surface_after = 2491.1\n",
    "\n",
    "# Set files for output movie object and input files.\n",
    "czi_folder = '/Users/michaelstadler/Downloads/'\n",
    "\n",
    "czi_files = ['Pbtd01-03.czi'\n",
    "]\n",
    "\n",
    "czi_file = '/Users/michaelstadler/Downloads/Pbtd01-02.czi'"
   ]
  },
  {
   "cell_type": "code",
   "execution_count": 17,
   "metadata": {},
   "outputs": [],
   "source": [
    "stack, starting_positions, z_interval = fm.read_czi(czi_file, return_metadata=True, swapaxes=False)\n",
    "join_frame = []"
   ]
  },
  {
   "cell_type": "code",
   "execution_count": 35,
   "metadata": {},
   "outputs": [],
   "source": [
    "stack = stack[:,34:]"
   ]
  },
  {
   "cell_type": "code",
   "execution_count": 36,
   "metadata": {},
   "outputs": [
    {
     "output_type": "display_data",
     "data": {
      "text/plain": "interactive(children=(Dropdown(description='Color', index=2, options=('Reds', 'gray_r', 'cividis', 'prism', 'g…",
      "application/vnd.jupyter.widget-view+json": {
       "version_major": 2,
       "version_minor": 0,
       "model_id": "7a48a3a85489493b9b8c3302c2ee2101"
      }
     },
     "metadata": {}
    }
   ],
   "source": [
    "fm.viewer(stack, 10, zmax=True)"
   ]
  },
  {
   "cell_type": "markdown",
   "metadata": {},
   "source": [
    "## 2. Nuclear Segmentation\n",
    "### 2-1 Determine parameters for segmentation of nuclei."
   ]
  },
  {
   "cell_type": "code",
   "execution_count": null,
   "metadata": {},
   "outputs": [],
   "source": [
    "# Perform initial nuclear segmentation using the first few frames to determine parameters.\n",
    "min_nuc_center_dist = 40\n",
    "sigma = 5\n",
    "usemax = True\n",
    "\n",
    "nucmask_test = fm.segment_nuclei_4dstack(stack[1, :1], fm.segment_nuclei.segment_nuclei_3Dstack_rpb1, min_nuc_center_dist=min_nuc_center_dist, sigma=sigma, usemax=usemax, display=False)\n",
    "fm.viewer(nucmask_test, 10, color='prism')"
   ]
  },
  {
   "cell_type": "markdown",
   "metadata": {},
   "source": [
    "### 2-2. Perform initial segmentation"
   ]
  },
  {
   "cell_type": "code",
   "execution_count": null,
   "metadata": {},
   "outputs": [],
   "source": [
    "# Segment nuclei using parameters determined above.\n",
    "nucmask_init = fm.segment_nuclei_4dstack(stack[nucchannel], fm.segment_nuclei_3Dstack_rpb1, min_nuc_center_dist=min_nuc_center_dist, sigma=sigma, usemax=usemax)\n",
    "fm.viewer(nucmask_init, figsize=10, color='prism')"
   ]
  },
  {
   "source": [
    "### 2-3. Filter nuclear mask for object size."
   ],
   "cell_type": "markdown",
   "metadata": {}
  },
  {
   "cell_type": "code",
   "execution_count": null,
   "metadata": {},
   "outputs": [],
   "source": [
    "# Filter segmented nuclei based on their size.\n",
    "size_min = 0\n",
    "size_max = 1.1e5\n",
    "\n",
    "nucmask_sizefiltered = fm.labelmask_filter_objsize_apply4d(nucmask_init, size_min, size_max)\n",
    "fm.viewer(nucmask_sizefiltered, figsize=10, color=\"viridis\", init_maxval=1)"
   ]
  },
  {
   "source": [
    "### 2-4 (optional) Filter nuclei based on circularity"
   ],
   "cell_type": "markdown",
   "metadata": {}
  },
  {
   "cell_type": "code",
   "execution_count": null,
   "metadata": {},
   "outputs": [],
   "source": [
    "# Filter segmented nuclei based on circularity (0-1).\n",
    "slicenum = 6 # Z slice to use for circularity -- irrelevant if using max projections.\n",
    "circularity_min = 0.5\n",
    "\n",
    "nucmask_filtercirc = fm.filter_labelmask_circularity_apply4d(nucmask_sizefiltered, slicenum=slicenum, \n",
    "    circularity_min=circularity_min)\n",
    "\n",
    "fm.viewer(nucmask_filtercirc, color=\"viridis\", init_maxval=1)"
   ]
  },
  {
   "source": [
    "### Select nuclear mask to use"
   ],
   "cell_type": "markdown",
   "metadata": {}
  },
  {
   "cell_type": "code",
   "execution_count": null,
   "metadata": {},
   "outputs": [],
   "source": [
    "nucmask_to_connect = nucmask_sizefiltered\n",
    "#nucmask_to_connect = nucmask_filtercirc"
   ]
  },
  {
   "source": [
    "### 2-5 Connect nuclei between frames"
   ],
   "cell_type": "markdown",
   "metadata": {}
  },
  {
   "cell_type": "code",
   "execution_count": null,
   "metadata": {
    "scrolled": true
   },
   "outputs": [],
   "source": [
    "max_frames_skipped = 2\n",
    "\n",
    "nucmask_conn = fm.connect_nuclei(nucmask_to_connect, max_frames_skipped=max_frames_skipped, usemax=True)\n",
    "fm.viewer(nucmask_conn, 10, color='prism')"
   ]
  },
  {
   "cell_type": "markdown",
   "metadata": {},
   "source": [
    "### 2-6 Interpolate to fill in gaps (optional)"
   ]
  },
  {
   "cell_type": "code",
   "execution_count": null,
   "metadata": {},
   "outputs": [],
   "source": [
    "#nucmask = fm.interpolate_nuclear_mask(nucmask_conn, 3, usemax=True)\n",
    "nucmask = nucmask_conn"
   ]
  },
  {
   "source": [
    "#### View final mask"
   ],
   "cell_type": "markdown",
   "metadata": {}
  },
  {
   "cell_type": "code",
   "execution_count": null,
   "metadata": {},
   "outputs": [],
   "source": [
    "fm.viewer(nucmask, color=\"viridis\", init_maxval=1)"
   ]
  },
  {
   "source": [
    "#### Clean up intermediate objects"
   ],
   "cell_type": "markdown",
   "metadata": {}
  },
  {
   "cell_type": "code",
   "execution_count": null,
   "metadata": {},
   "outputs": [],
   "source": [
    "del nucmask_init, nucmask_sizefiltered, \n",
    "try: \n",
    "    del nucmask_filtercirc\n",
    "except:\n",
    "    pass"
   ]
  },
  {
   "cell_type": "code",
   "execution_count": 19,
   "metadata": {},
   "outputs": [],
   "source": [
    "nucmask = np.zeros_like(stack)\n",
    "stack = np.expand_dims(stack, 0)"
   ]
  },
  {
   "cell_type": "markdown",
   "metadata": {},
   "source": [
    "## 3. Detecting MS2 spots\n",
    "### 3-1 Perform gaussian fitting on MS2 channel"
   ]
  },
  {
   "cell_type": "code",
   "execution_count": 177,
   "metadata": {
    "scrolled": true
   },
   "outputs": [
    {
     "output_type": "stream",
     "name": "stdout",
     "text": [
      "1 2 3 4 5 6 7 8 9 10 11 12 13 14 15 16 17 18 19 20 21 22 23 24 25 26 27 28 29 30 31 32 33 34 35 36 37 38 39 40 41 42 43 44 45 46 47 48 49 50 51 52 53 54 55 56 57 58 59 60 61 62 63 64 65 66 67 68 69 70 71 72 73 74 "
     ]
    }
   ],
   "source": [
    "min_distances = (stack.shape[-2], 5, 5)\n",
    "fitwindow_rad_xy = 10\n",
    "fitwindow_rad_z = 2\n",
    "sigma_small = 1\n",
    "\n",
    "fits = fm.fit_ms2(stack[spotchannel], min_distances = min_distances, fitwindow_rad_xy=fitwindow_rad_xy, sigma_small=sigma_small, mode='mindist', use_thresh=True, nucmask=nucmask)"
   ]
  },
  {
   "source": [
    "#### View fits"
   ],
   "cell_type": "markdown",
   "metadata": {}
  },
  {
   "cell_type": "code",
   "execution_count": 183,
   "metadata": {},
   "outputs": [
    {
     "output_type": "display_data",
     "data": {
      "text/plain": "interactive(children=(Dropdown(description='Color', index=2, options=('Reds', 'gray_r', 'cividis', 'prism', 'g…",
      "application/vnd.jupyter.widget-view+json": {
       "version_major": 2,
       "version_minor": 0,
       "model_id": "51dd40f2ffda43e7ab49dddc3526de63"
      }
     },
     "metadata": {}
    }
   ],
   "source": [
    "fm.quickview_ms2(stack, fits, 0, figsize=10)"
   ]
  },
  {
   "cell_type": "markdown",
   "metadata": {},
   "source": [
    "### 3-2 Filter fits"
   ]
  },
  {
   "cell_type": "code",
   "execution_count": 184,
   "metadata": {},
   "outputs": [
    {
     "output_type": "display_data",
     "data": {
      "text/plain": "interactive(children=(Dropdown(description='Color', index=2, options=('Reds', 'gray_r', 'cividis', 'prism', 'g…",
      "application/vnd.jupyter.widget-view+json": {
       "version_major": 2,
       "version_minor": 0,
       "model_id": "10be143df62b4b8cbfb98a12f2f31db9"
      }
     },
     "metadata": {}
    }
   ],
   "source": [
    "# Parameters for filtering fit\n",
    "peakiness = 4.3\n",
    "fits_filtered = fm.filter_ms2fits(fits, peakiness, stack, spotchannel)\n",
    "fm.quickview_ms2(stack, fits_filtered, 0)"
   ]
  },
  {
   "cell_type": "markdown",
   "metadata": {},
   "source": [
    "### 3-3 Connect spots between frames"
   ]
  },
  {
   "cell_type": "code",
   "execution_count": 245,
   "metadata": {},
   "outputs": [
    {
     "output_type": "stream",
     "name": "stdout",
     "text": [
      "1 2 3 4 5 6 7 8 9 10 11 12 13 14 15 16 17 18 19 20 21 22 23 24 25 26 27 28 29 30 31 32 33 34 35 36 37 38 39 40 41 42 43 44 45 46 47 48 49 50 51 52 53 54 55 56 57 58 59 60 61 62 63 64 65 66 67 68 69 70 71 72 73 74 "
     ]
    }
   ],
   "source": [
    "#spots_connected = fm.connect_ms2_frames_via_nuclei(fits_filtered, nucmask, nucmask_dilation=7)\n",
    "reload(fm)\n",
    "spots_connected = fm.connect_ms2_frames_nearest(fits_filtered, nucmask, max_jump=30, max_frame_gap=10)"
   ]
  },
  {
   "cell_type": "code",
   "execution_count": 246,
   "metadata": {},
   "outputs": [
    {
     "output_type": "display_data",
     "data": {
      "text/plain": "interactive(children=(Dropdown(description='Color', index=2, options=('Reds', 'gray_r', 'cividis', 'prism', 'g…",
      "application/vnd.jupyter.widget-view+json": {
       "version_major": 2,
       "version_minor": 0,
       "model_id": "dde7a7fba180494285c988c9ad00574d"
      }
     },
     "metadata": {}
    }
   ],
   "source": [
    "fm.quickview_ms2(stack, spots_connected, MAX=True, halfwidth_z=0)"
   ]
  },
  {
   "cell_type": "code",
   "execution_count": 205,
   "metadata": {},
   "outputs": [
    {
     "output_type": "execute_result",
     "data": {
      "text/plain": [
       "array([[1.40000000e+01, 9.00000000e+01, 6.07000000e+02, 3.48212958e+02,\n",
       "        3.64333042e+04, 8.65379130e+00, 2.51305525e+01],\n",
       "       [1.40000000e+01, 1.66000000e+02, 6.52000000e+02, 8.48284761e+02,\n",
       "        2.61297819e+00, 6.12220044e+00, 5.14562711e+00],\n",
       "       [1.40000000e+01, 1.62000000e+02, 4.05000000e+02, 2.14704654e+03,\n",
       "        2.04118657e+00, 3.90472045e+00, 3.44820633e+00],\n",
       "       [1.40000000e+01, 2.07000000e+02, 5.69000000e+02, 2.14008713e+03,\n",
       "        1.82353004e+00, 3.65090535e+00, 3.45818172e+00],\n",
       "       [1.40000000e+01, 2.17000000e+02, 5.11000000e+02, 3.11119480e+03,\n",
       "        1.62402366e+00, 3.63930310e+00, 3.20357104e+00]])"
      ]
     },
     "metadata": {},
     "execution_count": 205
    }
   ],
   "source": [
    "fits[12][fits[12][:,0] == 14]"
   ]
  },
  {
   "cell_type": "code",
   "execution_count": 202,
   "metadata": {},
   "outputs": [
    {
     "output_type": "execute_result",
     "data": {
      "text/plain": [
       "array([[8.00000000e+00, 0.00000000e+00, 1.30000000e+01, 2.08000000e+02,\n",
       "        5.71000000e+02, 5.18727490e+02, 4.82778108e+00, 6.80250561e+00,\n",
       "        7.05111784e+00],\n",
       "       [9.00000000e+00, 0.00000000e+00, 1.20000000e+01, 1.96000000e+02,\n",
       "        5.71000000e+02, 1.40457487e+03, 1.69323291e+00, 3.52465980e+00,\n",
       "        3.63347323e+00],\n",
       "       [1.00000000e+01, 0.00000000e+00, 1.30000000e+01, 1.99000000e+02,\n",
       "        5.72000000e+02, 1.27321185e+03, 2.10387002e+00, 3.84344984e+00,\n",
       "        4.03278035e+00],\n",
       "       [1.10000000e+01, 0.00000000e+00, 1.20000000e+01, 2.08000000e+02,\n",
       "        5.71000000e+02, 1.28871257e+03, 2.77713680e+00, 4.61130552e+00,\n",
       "        3.86417071e+00],\n",
       "       [1.20000000e+01, 0.00000000e+00, 1.40000000e+01, 2.07000000e+02,\n",
       "        5.69000000e+02, 2.14008713e+03, 1.82353004e+00, 3.65090535e+00,\n",
       "        3.45818172e+00],\n",
       "       [1.30000000e+01, 0.00000000e+00, 1.40000000e+01, 2.06000000e+02,\n",
       "        5.66000000e+02, 2.03579934e+03, 3.09266578e+00, 3.81697092e+00,\n",
       "        3.06052208e+00],\n",
       "       [1.40000000e+01, 0.00000000e+00, 1.30000000e+01, 2.00000000e+02,\n",
       "        5.63000000e+02, 3.14540060e+03, 1.36416983e+00, 3.04526417e+00,\n",
       "        3.05429577e+00],\n",
       "       [1.50000000e+01, 0.00000000e+00, 1.30000000e+01, 2.00000000e+02,\n",
       "        5.57000000e+02, 3.66502946e+03, 2.24664095e+00, 2.46684152e+00,\n",
       "        2.88021116e+00],\n",
       "       [1.60000000e+01, 0.00000000e+00, 1.40000000e+01, 2.04000000e+02,\n",
       "        5.60000000e+02, 3.22121984e+03, 1.79382869e+00, 3.09427621e+00,\n",
       "        3.53619822e+00],\n",
       "       [1.70000000e+01, 0.00000000e+00, 1.30000000e+01, 1.98000000e+02,\n",
       "        5.58000000e+02, 3.87683910e+03, 1.59444698e+00, 2.34313051e+00,\n",
       "        2.79436288e+00],\n",
       "       [1.80000000e+01, 0.00000000e+00, 1.40000000e+01, 1.88000000e+02,\n",
       "        5.66000000e+02, 2.02716585e+03, 1.81097270e+00, 3.97634784e+00,\n",
       "        4.25357944e+00],\n",
       "       [1.90000000e+01, 0.00000000e+00, 1.30000000e+01, 1.95000000e+02,\n",
       "        5.69000000e+02, 1.38162630e+03, 2.09278340e+00, 4.73510901e+00,\n",
       "        4.62955189e+00],\n",
       "       [2.00000000e+01, 0.00000000e+00, 1.20000000e+01, 1.87000000e+02,\n",
       "        5.71000000e+02, 2.02427762e+03, 1.64986191e+00, 3.84369569e+00,\n",
       "        3.08233595e+00]])"
      ]
     },
     "metadata": {},
     "execution_count": 202
    }
   ],
   "source": [
    "spots_connected[33]"
   ]
  },
  {
   "cell_type": "code",
   "execution_count": 201,
   "metadata": {},
   "outputs": [
    {
     "output_type": "execute_result",
     "data": {
      "text/plain": [
       "array([[1.20000000e+01, 0.00000000e+00, 1.40000000e+01, 2.07000000e+02,\n",
       "        5.69000000e+02, 2.14008713e+03, 1.82353004e+00, 3.65090535e+00,\n",
       "        3.45818172e+00]])"
      ]
     },
     "metadata": {},
     "execution_count": 201
    }
   ],
   "source": [
    "spots_connected[56]"
   ]
  },
  {
   "cell_type": "markdown",
   "metadata": {},
   "source": [
    "### 3-4 Filter detected spots on trajectory length"
   ]
  },
  {
   "cell_type": "code",
   "execution_count": null,
   "metadata": {},
   "outputs": [],
   "source": [
    "min_len = 1\n",
    "spot_data_init = fm.filter_spot_duration(spots_connected, min_len)"
   ]
  },
  {
   "source": [
    "### 3-5 Review spot calling\n",
    "\n",
    "#### Record bad spot calls and missing spot calls"
   ],
   "cell_type": "markdown",
   "metadata": {}
  },
  {
   "cell_type": "code",
   "execution_count": null,
   "metadata": {},
   "outputs": [],
   "source": [
    "fm.quickview_ms2(stack, spot_data_init, channel = spotchannel, MAX=True, grid=False)"
   ]
  },
  {
   "cell_type": "code",
   "execution_count": null,
   "metadata": {},
   "outputs": [],
   "source": [
    "missing_spots = (\n",
    "    # spot_id, frame_number\n",
    "    (28,0),\n",
    "    (6,1),\n",
    "    (27,2),\n",
    "    (27,3),\n",
    "    (3,6),\n",
    "    (21,8),\n",
    "    (21,9),\n",
    "    (23,8),\n",
    "    (6,16),\n",
    "    (13,19),\n",
    "    (27,19),\n",
    "    (17,21),\n",
    "    (42,22),\n",
    "    (26,22),\n",
    "    (27,28),\n",
    "    (27,30)\n",
    ")\n",
    "\n",
    "bad_spots = []\n"
   ]
  },
  {
   "source": [
    "### 3-6 Manually enter coordinates for missing spots"
   ],
   "cell_type": "markdown",
   "metadata": {}
  },
  {
   "cell_type": "code",
   "execution_count": null,
   "metadata": {},
   "outputs": [],
   "source": [
    "new_spots = []\n",
    "fm.add_missing_spots(spot_data_init, stack, missing_spots, new_spots, channel=spotchannel)"
   ]
  },
  {
   "source": [],
   "cell_type": "markdown",
   "metadata": {}
  },
  {
   "source": [
    "### 3-7 Apply manual corrections"
   ],
   "cell_type": "markdown",
   "metadata": {}
  },
  {
   "cell_type": "code",
   "execution_count": null,
   "metadata": {},
   "outputs": [],
   "source": [
    "spot_data = fm.spot_data_apply_manual_curations(spot_data_init, new_spots, bad_spots, \n",
    "    stack, fitwindow_rad_xy=fitwindow_rad_xy, fitwindow_rad_z=fitwindow_rad_z, channel=spotchannel)"
   ]
  },
  {
   "source": [
    "#### View final spot detections"
   ],
   "cell_type": "markdown",
   "metadata": {}
  },
  {
   "cell_type": "code",
   "execution_count": null,
   "metadata": {},
   "outputs": [],
   "source": [
    "fm.quickview_ms2(stack, spot_data, channel=spotchannel)"
   ]
  },
  {
   "cell_type": "markdown",
   "metadata": {},
   "source": [
    "## 4. Integrate signal around spots, apply corrections.\n"
   ]
  },
  {
   "cell_type": "code",
   "execution_count": null,
   "metadata": {},
   "outputs": [],
   "source": [
    "paramgrids = fm.load_pickle('/Users/michaelstadler/Bioinformatics/Projects/rpb1/results/20210616-depth-correction-params.pkl')"
   ]
  },
  {
   "cell_type": "code",
   "execution_count": null,
   "metadata": {
    "tags": []
   },
   "outputs": [],
   "source": [
    "mv = fm.movie(stack, nucmask, fits, spot_data)\n",
    "fm.analyze.mv_process_apply_corrections(mv, paramgrids, surface_before, surface_after, join_frames, starting_positions, z_interval, ij_rad=7, z_rad=2, fit_depth_min=11, fit_depth_max=14)\n"
   ]
  },
  {
   "cell_type": "markdown",
   "metadata": {},
   "source": [
    "## 5. QC"
   ]
  },
  {
   "cell_type": "code",
   "execution_count": null,
   "metadata": {
    "scrolled": false
   },
   "outputs": [],
   "source": [
    "# Plot some traces to see if they look reasonable.\n",
    "fm.spotdf_plot_traces([mv.ms2_bleachcorr], minlen=30, sigma=0.05, norm=False, figsize=(16,10))"
   ]
  },
  {
   "cell_type": "code",
   "execution_count": null,
   "metadata": {
    "scrolled": true
   },
   "outputs": [],
   "source": [
    "fm.plot_projections(mv, channel=spotchannel)\n"
   ]
  },
  {
   "cell_type": "code",
   "execution_count": null,
   "metadata": {},
   "outputs": [],
   "source": [
    "# View \"spot movies\", small boxes of stack data centered on detected spots.\n",
    "spot_movies = fm.spot_movies(mv.stack, mv.spot_data, channel=spotchannel, len_ij=51, fill=0)\n",
    "# Mean projection of z slices -1 to +1:\n",
    "#fm.viewer(spot_movies[:,:,2:5].mean(axis=2), 5, order='ntxy', color='cividis')\n",
    "# No projection (with Z axis):\n",
    "fm.viewer(spot_movies, 5, order='ntzxy', color='cividis')"
   ]
  },
  {
   "cell_type": "code",
   "execution_count": null,
   "metadata": {},
   "outputs": [],
   "source": [
    "# Optional: Examine individual spots in original data.\n",
    "spot_to_view = 42\n",
    "fm.quickview_ms2(mv.stack, mv.spot_data, channel=1, spot_id=spot_to_view, MAX=True, halfwidth_z=1)"
   ]
  },
  {
   "source": [
    "### 6. Save movie"
   ],
   "cell_type": "markdown",
   "metadata": {}
  },
  {
   "cell_type": "code",
   "execution_count": null,
   "metadata": {},
   "outputs": [],
   "source": [
    "fm.save_pickle(mv, '/Users/michaelstadler/Bioinformatics/Projects/rpb1/results/ms2_mv_obects/20210621-rpb1egfp-eve-em2-02-09.pkl')"
   ]
  },
  {
   "cell_type": "code",
   "execution_count": null,
   "metadata": {},
   "outputs": [],
   "source": []
  }
 ],
 "metadata": {
  "kernelspec": {
   "name": "python3",
   "display_name": "Python 3.8.3 64-bit ('im': conda)"
  },
  "language_info": {
   "codemirror_mode": {
    "name": "ipython",
    "version": 3
   },
   "file_extension": ".py",
   "mimetype": "text/x-python",
   "name": "python",
   "nbconvert_exporter": "python",
   "pygments_lexer": "ipython3",
   "version": "3.8.3"
  },
  "interpreter": {
   "hash": "11ecd8a4767cb3cf91a1fa128c0ea80b872c7c94f990f5ffb2d383c29dbab4fe"
  }
 },
 "nbformat": 4,
 "nbformat_minor": 4
}